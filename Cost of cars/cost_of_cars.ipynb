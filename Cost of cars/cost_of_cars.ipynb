{
 "cells": [
  {
   "cell_type": "markdown",
   "metadata": {},
   "source": [
    "# Определение стоимости автомобилей / Determining the cost of cars"
   ]
  },
  {
   "cell_type": "markdown",
   "metadata": {},
   "source": [
    "Сервис по продаже автомобилей с пробегом разрабатывает приложение для привлечения новых клиентов. В нём можно быстро узнать рыночную стоимость своего автомобиля. \n",
    "\n",
    "Имеются исторические данные: технические характеристики, комплектации и цены автомобилей. \n",
    "\n",
    "Требуется построить модель для определения стоимости. \n",
    "\n",
    "A service for selling used cars is developing an application to attract new customers. Here you can quickly find out the market value of your car.\n",
    "\n",
    "There are historical data: technical characteristics, configurations and prices of cars.\n",
    "\n",
    "It is required to build a model to determine the cost."
   ]
  },
  {
   "cell_type": "markdown",
   "metadata": {},
   "source": [
    "## Подготовка данных / Data preparation"
   ]
  },
  {
   "cell_type": "code",
   "execution_count": 1,
   "metadata": {},
   "outputs": [],
   "source": [
    "import pandas as pd\n",
    "import lightgbm as lgb\n",
    "import numpy as np\n",
    "\n",
    "from sklearn.model_selection import train_test_split\n",
    "from sklearn.preprocessing import StandardScaler\n",
    "from sklearn.model_selection import GridSearchCV\n",
    "from sklearn.metrics import mean_squared_error\n",
    "from sklearn.preprocessing import OrdinalEncoder \n",
    "from sklearn.linear_model import LinearRegression\n",
    "\n",
    "from catboost import CatBoostRegressor\n",
    "from sklearn.ensemble import RandomForestRegressor\n",
    "import warnings\n",
    "warnings.filterwarnings('ignore')"
   ]
  },
  {
   "cell_type": "code",
   "execution_count": 2,
   "metadata": {},
   "outputs": [
    {
     "data": {
      "text/html": [
       "<div>\n",
       "<style scoped>\n",
       "    .dataframe tbody tr th:only-of-type {\n",
       "        vertical-align: middle;\n",
       "    }\n",
       "\n",
       "    .dataframe tbody tr th {\n",
       "        vertical-align: top;\n",
       "    }\n",
       "\n",
       "    .dataframe thead th {\n",
       "        text-align: right;\n",
       "    }\n",
       "</style>\n",
       "<table border=\"1\" class=\"dataframe\">\n",
       "  <thead>\n",
       "    <tr style=\"text-align: right;\">\n",
       "      <th></th>\n",
       "      <th>DateCrawled</th>\n",
       "      <th>Price</th>\n",
       "      <th>VehicleType</th>\n",
       "      <th>RegistrationYear</th>\n",
       "      <th>Gearbox</th>\n",
       "      <th>Power</th>\n",
       "      <th>Model</th>\n",
       "      <th>Kilometer</th>\n",
       "      <th>RegistrationMonth</th>\n",
       "      <th>FuelType</th>\n",
       "      <th>Brand</th>\n",
       "      <th>Repaired</th>\n",
       "      <th>DateCreated</th>\n",
       "      <th>NumberOfPictures</th>\n",
       "      <th>PostalCode</th>\n",
       "      <th>LastSeen</th>\n",
       "    </tr>\n",
       "  </thead>\n",
       "  <tbody>\n",
       "    <tr>\n",
       "      <th>0</th>\n",
       "      <td>2016-03-24 11:52:17</td>\n",
       "      <td>480</td>\n",
       "      <td>NaN</td>\n",
       "      <td>1993</td>\n",
       "      <td>manual</td>\n",
       "      <td>0</td>\n",
       "      <td>golf</td>\n",
       "      <td>150000</td>\n",
       "      <td>0</td>\n",
       "      <td>petrol</td>\n",
       "      <td>volkswagen</td>\n",
       "      <td>NaN</td>\n",
       "      <td>2016-03-24 00:00:00</td>\n",
       "      <td>0</td>\n",
       "      <td>70435</td>\n",
       "      <td>2016-04-07 03:16:57</td>\n",
       "    </tr>\n",
       "    <tr>\n",
       "      <th>1</th>\n",
       "      <td>2016-03-24 10:58:45</td>\n",
       "      <td>18300</td>\n",
       "      <td>coupe</td>\n",
       "      <td>2011</td>\n",
       "      <td>manual</td>\n",
       "      <td>190</td>\n",
       "      <td>NaN</td>\n",
       "      <td>125000</td>\n",
       "      <td>5</td>\n",
       "      <td>gasoline</td>\n",
       "      <td>audi</td>\n",
       "      <td>yes</td>\n",
       "      <td>2016-03-24 00:00:00</td>\n",
       "      <td>0</td>\n",
       "      <td>66954</td>\n",
       "      <td>2016-04-07 01:46:50</td>\n",
       "    </tr>\n",
       "    <tr>\n",
       "      <th>2</th>\n",
       "      <td>2016-03-14 12:52:21</td>\n",
       "      <td>9800</td>\n",
       "      <td>suv</td>\n",
       "      <td>2004</td>\n",
       "      <td>auto</td>\n",
       "      <td>163</td>\n",
       "      <td>grand</td>\n",
       "      <td>125000</td>\n",
       "      <td>8</td>\n",
       "      <td>gasoline</td>\n",
       "      <td>jeep</td>\n",
       "      <td>NaN</td>\n",
       "      <td>2016-03-14 00:00:00</td>\n",
       "      <td>0</td>\n",
       "      <td>90480</td>\n",
       "      <td>2016-04-05 12:47:46</td>\n",
       "    </tr>\n",
       "    <tr>\n",
       "      <th>3</th>\n",
       "      <td>2016-03-17 16:54:04</td>\n",
       "      <td>1500</td>\n",
       "      <td>small</td>\n",
       "      <td>2001</td>\n",
       "      <td>manual</td>\n",
       "      <td>75</td>\n",
       "      <td>golf</td>\n",
       "      <td>150000</td>\n",
       "      <td>6</td>\n",
       "      <td>petrol</td>\n",
       "      <td>volkswagen</td>\n",
       "      <td>no</td>\n",
       "      <td>2016-03-17 00:00:00</td>\n",
       "      <td>0</td>\n",
       "      <td>91074</td>\n",
       "      <td>2016-03-17 17:40:17</td>\n",
       "    </tr>\n",
       "    <tr>\n",
       "      <th>4</th>\n",
       "      <td>2016-03-31 17:25:20</td>\n",
       "      <td>3600</td>\n",
       "      <td>small</td>\n",
       "      <td>2008</td>\n",
       "      <td>manual</td>\n",
       "      <td>69</td>\n",
       "      <td>fabia</td>\n",
       "      <td>90000</td>\n",
       "      <td>7</td>\n",
       "      <td>gasoline</td>\n",
       "      <td>skoda</td>\n",
       "      <td>no</td>\n",
       "      <td>2016-03-31 00:00:00</td>\n",
       "      <td>0</td>\n",
       "      <td>60437</td>\n",
       "      <td>2016-04-06 10:17:21</td>\n",
       "    </tr>\n",
       "  </tbody>\n",
       "</table>\n",
       "</div>"
      ],
      "text/plain": [
       "           DateCrawled  Price VehicleType  RegistrationYear Gearbox  Power  \\\n",
       "0  2016-03-24 11:52:17    480         NaN              1993  manual      0   \n",
       "1  2016-03-24 10:58:45  18300       coupe              2011  manual    190   \n",
       "2  2016-03-14 12:52:21   9800         suv              2004    auto    163   \n",
       "3  2016-03-17 16:54:04   1500       small              2001  manual     75   \n",
       "4  2016-03-31 17:25:20   3600       small              2008  manual     69   \n",
       "\n",
       "   Model  Kilometer  RegistrationMonth  FuelType       Brand Repaired  \\\n",
       "0   golf     150000                  0    petrol  volkswagen      NaN   \n",
       "1    NaN     125000                  5  gasoline        audi      yes   \n",
       "2  grand     125000                  8  gasoline        jeep      NaN   \n",
       "3   golf     150000                  6    petrol  volkswagen       no   \n",
       "4  fabia      90000                  7  gasoline       skoda       no   \n",
       "\n",
       "           DateCreated  NumberOfPictures  PostalCode             LastSeen  \n",
       "0  2016-03-24 00:00:00                 0       70435  2016-04-07 03:16:57  \n",
       "1  2016-03-24 00:00:00                 0       66954  2016-04-07 01:46:50  \n",
       "2  2016-03-14 00:00:00                 0       90480  2016-04-05 12:47:46  \n",
       "3  2016-03-17 00:00:00                 0       91074  2016-03-17 17:40:17  \n",
       "4  2016-03-31 00:00:00                 0       60437  2016-04-06 10:17:21  "
      ]
     },
     "metadata": {},
     "output_type": "display_data"
    }
   ],
   "source": [
    "data = pd.read_csv('/Users/vladamalkina/Downloads/autos.csv')\n",
    "display(data.head())"
   ]
  },
  {
   "cell_type": "code",
   "execution_count": 3,
   "metadata": {},
   "outputs": [
    {
     "name": "stdout",
     "output_type": "stream",
     "text": [
      "<class 'pandas.core.frame.DataFrame'>\n",
      "RangeIndex: 354369 entries, 0 to 354368\n",
      "Data columns (total 16 columns):\n",
      " #   Column             Non-Null Count   Dtype \n",
      "---  ------             --------------   ----- \n",
      " 0   DateCrawled        354369 non-null  object\n",
      " 1   Price              354369 non-null  int64 \n",
      " 2   VehicleType        316879 non-null  object\n",
      " 3   RegistrationYear   354369 non-null  int64 \n",
      " 4   Gearbox            334536 non-null  object\n",
      " 5   Power              354369 non-null  int64 \n",
      " 6   Model              334664 non-null  object\n",
      " 7   Kilometer          354369 non-null  int64 \n",
      " 8   RegistrationMonth  354369 non-null  int64 \n",
      " 9   FuelType           321474 non-null  object\n",
      " 10  Brand              354369 non-null  object\n",
      " 11  Repaired           283215 non-null  object\n",
      " 12  DateCreated        354369 non-null  object\n",
      " 13  NumberOfPictures   354369 non-null  int64 \n",
      " 14  PostalCode         354369 non-null  int64 \n",
      " 15  LastSeen           354369 non-null  object\n",
      "dtypes: int64(7), object(9)\n",
      "memory usage: 43.3+ MB\n"
     ]
    }
   ],
   "source": [
    "data.info()"
   ]
  },
  {
   "cell_type": "markdown",
   "metadata": {},
   "source": [
    "Проверим количество пропусков в данных / Let's check the number of gaps in the data:"
   ]
  },
  {
   "cell_type": "code",
   "execution_count": 4,
   "metadata": {},
   "outputs": [
    {
     "data": {
      "text/plain": [
       "DateCrawled              0\n",
       "Price                    0\n",
       "VehicleType          37490\n",
       "RegistrationYear         0\n",
       "Gearbox              19833\n",
       "Power                    0\n",
       "Model                19705\n",
       "Kilometer                0\n",
       "RegistrationMonth        0\n",
       "FuelType             32895\n",
       "Brand                    0\n",
       "Repaired             71154\n",
       "DateCreated              0\n",
       "NumberOfPictures         0\n",
       "PostalCode               0\n",
       "LastSeen                 0\n",
       "dtype: int64"
      ]
     },
     "execution_count": 4,
     "metadata": {},
     "output_type": "execute_result"
    }
   ],
   "source": [
    "data.isna().sum()"
   ]
  },
  {
   "cell_type": "markdown",
   "metadata": {},
   "source": [
    "Удалим явные дубликаты / Let's remove obvious duplicates:"
   ]
  },
  {
   "cell_type": "code",
   "execution_count": 5,
   "metadata": {},
   "outputs": [],
   "source": [
    "data = data.drop_duplicates()"
   ]
  },
  {
   "cell_type": "markdown",
   "metadata": {},
   "source": [
    "Заполним пропуски в столбце Repaired: если пробег автомобиля > 100000 км, то машина была в ремонте(yes), иначе no:\n",
    "\n",
    "Let's fill in the blanks in the Repaired column: if the car's mileage is > 100,000 km, then the car was repaired (yes), otherwise no:"
   ]
  },
  {
   "cell_type": "code",
   "execution_count": 6,
   "metadata": {},
   "outputs": [],
   "source": [
    "data.loc[(data['Kilometer']>100000 & data['Repaired'].isna()), 'Repaired'] = 'yes'\n",
    "data.loc[(data['Kilometer']<100000 & data['Repaired'].isna()), 'Repaired'] = 'no'"
   ]
  },
  {
   "cell_type": "code",
   "execution_count": 7,
   "metadata": {},
   "outputs": [
    {
     "name": "stdout",
     "output_type": "stream",
     "text": [
      "<class 'pandas.core.frame.DataFrame'>\n",
      "Int64Index: 354365 entries, 0 to 354368\n",
      "Data columns (total 16 columns):\n",
      " #   Column             Non-Null Count   Dtype \n",
      "---  ------             --------------   ----- \n",
      " 0   DateCrawled        354365 non-null  object\n",
      " 1   Price              354365 non-null  int64 \n",
      " 2   VehicleType        316875 non-null  object\n",
      " 3   RegistrationYear   354365 non-null  int64 \n",
      " 4   Gearbox            334532 non-null  object\n",
      " 5   Power              354365 non-null  int64 \n",
      " 6   Model              334660 non-null  object\n",
      " 7   Kilometer          354365 non-null  int64 \n",
      " 8   RegistrationMonth  354365 non-null  int64 \n",
      " 9   FuelType           321470 non-null  object\n",
      " 10  Brand              354365 non-null  object\n",
      " 11  Repaired           354365 non-null  object\n",
      " 12  DateCreated        354365 non-null  object\n",
      " 13  NumberOfPictures   354365 non-null  int64 \n",
      " 14  PostalCode         354365 non-null  int64 \n",
      " 15  LastSeen           354365 non-null  object\n",
      "dtypes: int64(7), object(9)\n",
      "memory usage: 46.0+ MB\n"
     ]
    }
   ],
   "source": [
    "data.info()"
   ]
  },
  {
   "cell_type": "markdown",
   "metadata": {},
   "source": [
    "Удалим выбросы в столбце 'Power': минимальное значение мощности = 20 л.с.\n",
    "\n",
    "Let's remove emissions in the 'Power' column: minimum power value = 20 hp."
   ]
  },
  {
   "cell_type": "code",
   "execution_count": 8,
   "metadata": {},
   "outputs": [
    {
     "name": "stdout",
     "output_type": "stream",
     "text": [
      "<class 'pandas.core.frame.DataFrame'>\n",
      "Int64Index: 313723 entries, 1 to 354368\n",
      "Data columns (total 16 columns):\n",
      " #   Column             Non-Null Count   Dtype \n",
      "---  ------             --------------   ----- \n",
      " 0   DateCrawled        313723 non-null  object\n",
      " 1   Price              313723 non-null  int64 \n",
      " 2   VehicleType        290915 non-null  object\n",
      " 3   RegistrationYear   313723 non-null  int64 \n",
      " 4   Gearbox            307233 non-null  object\n",
      " 5   Power              313723 non-null  int64 \n",
      " 6   Model              300525 non-null  object\n",
      " 7   Kilometer          313723 non-null  int64 \n",
      " 8   RegistrationMonth  313723 non-null  int64 \n",
      " 9   FuelType           292553 non-null  object\n",
      " 10  Brand              313723 non-null  object\n",
      " 11  Repaired           313723 non-null  object\n",
      " 12  DateCreated        313723 non-null  object\n",
      " 13  NumberOfPictures   313723 non-null  int64 \n",
      " 14  PostalCode         313723 non-null  int64 \n",
      " 15  LastSeen           313723 non-null  object\n",
      "dtypes: int64(7), object(9)\n",
      "memory usage: 40.7+ MB\n"
     ]
    }
   ],
   "source": [
    "data['Power'].unique()\n",
    "data = data.loc[data['Power']>=20]\n",
    "data.info()"
   ]
  },
  {
   "cell_type": "markdown",
   "metadata": {},
   "source": [
    "Удалим выбросы в столбце 'Price': стоимость автомобиля не может быть меньше 300 евро.\n",
    "\n",
    "Let's remove outliers in the 'Price' column: the cost of the car cannot be less than 300 euros."
   ]
  },
  {
   "cell_type": "code",
   "execution_count": 9,
   "metadata": {},
   "outputs": [
    {
     "name": "stdout",
     "output_type": "stream",
     "text": [
      "<class 'pandas.core.frame.DataFrame'>\n",
      "Int64Index: 296888 entries, 1 to 354368\n",
      "Data columns (total 16 columns):\n",
      " #   Column             Non-Null Count   Dtype \n",
      "---  ------             --------------   ----- \n",
      " 0   DateCrawled        296888 non-null  object\n",
      " 1   Price              296888 non-null  int64 \n",
      " 2   VehicleType        277348 non-null  object\n",
      " 3   RegistrationYear   296888 non-null  int64 \n",
      " 4   Gearbox            291395 non-null  object\n",
      " 5   Power              296888 non-null  int64 \n",
      " 6   Model              285459 non-null  object\n",
      " 7   Kilometer          296888 non-null  int64 \n",
      " 8   RegistrationMonth  296888 non-null  int64 \n",
      " 9   FuelType           278942 non-null  object\n",
      " 10  Brand              296888 non-null  object\n",
      " 11  Repaired           296888 non-null  object\n",
      " 12  DateCreated        296888 non-null  object\n",
      " 13  NumberOfPictures   296888 non-null  int64 \n",
      " 14  PostalCode         296888 non-null  int64 \n",
      " 15  LastSeen           296888 non-null  object\n",
      "dtypes: int64(7), object(9)\n",
      "memory usage: 38.5+ MB\n"
     ]
    }
   ],
   "source": [
    "data = data.loc[data['Price']>300]\n",
    "data.info()"
   ]
  },
  {
   "cell_type": "markdown",
   "metadata": {},
   "source": [
    "Удалим неинформативные столбцы, которые не влияют на стоимость автомобиля:\n",
    "\n",
    "Let's remove uninformative columns that do not affect the cost of the car:"
   ]
  },
  {
   "cell_type": "code",
   "execution_count": 10,
   "metadata": {},
   "outputs": [],
   "source": [
    "data = data.drop(columns = ['DateCrawled', 'RegistrationYear', 'RegistrationMonth', 'DateCreated', \n",
    "                            'NumberOfPictures', 'PostalCode', 'LastSeen'])"
   ]
  },
  {
   "cell_type": "code",
   "execution_count": 11,
   "metadata": {},
   "outputs": [
    {
     "data": {
      "text/plain": [
       "Price              0\n",
       "VehicleType    19540\n",
       "Gearbox         5493\n",
       "Power              0\n",
       "Model          11429\n",
       "Kilometer          0\n",
       "FuelType       17946\n",
       "Brand              0\n",
       "Repaired           0\n",
       "dtype: int64"
      ]
     },
     "execution_count": 11,
     "metadata": {},
     "output_type": "execute_result"
    }
   ],
   "source": [
    "data.isna().sum()"
   ]
  },
  {
   "cell_type": "markdown",
   "metadata": {},
   "source": [
    "C помощью заглушки 'unknown' заполним пропуски в 'VehicleType', 'FuelType', 'Gearbox', 'Model':\n",
    "\n",
    "Using the 'unknown' stub, fill in the gaps in 'VehicleType', 'FuelType', 'Gearbox', 'Model':"
   ]
  },
  {
   "cell_type": "code",
   "execution_count": 12,
   "metadata": {},
   "outputs": [],
   "source": [
    "data.loc[data['VehicleType'].isna(), 'VehicleType'] = 'unknown'\n",
    "data.loc[data['FuelType'].isna(), 'FuelType'] = 'unknown'\n",
    "data.loc[data['Gearbox'].isna(), 'Gearbox'] = 'unknown'\n",
    "data.loc[data['Model'].isna(), 'Model'] = 'unknown'"
   ]
  },
  {
   "cell_type": "code",
   "execution_count": 13,
   "metadata": {},
   "outputs": [
    {
     "name": "stdout",
     "output_type": "stream",
     "text": [
      "<class 'pandas.core.frame.DataFrame'>\n",
      "Int64Index: 296888 entries, 1 to 354368\n",
      "Data columns (total 9 columns):\n",
      " #   Column       Non-Null Count   Dtype \n",
      "---  ------       --------------   ----- \n",
      " 0   Price        296888 non-null  int64 \n",
      " 1   VehicleType  296888 non-null  object\n",
      " 2   Gearbox      296888 non-null  object\n",
      " 3   Power        296888 non-null  int64 \n",
      " 4   Model        296888 non-null  object\n",
      " 5   Kilometer    296888 non-null  int64 \n",
      " 6   FuelType     296888 non-null  object\n",
      " 7   Brand        296888 non-null  object\n",
      " 8   Repaired     296888 non-null  object\n",
      "dtypes: int64(3), object(6)\n",
      "memory usage: 22.7+ MB\n"
     ]
    }
   ],
   "source": [
    "data.info()"
   ]
  },
  {
   "cell_type": "markdown",
   "metadata": {},
   "source": [
    "Разделим данные на три выборки: обучающую, валидационную и тестовую (60% 20% 20%).\n",
    "\n",
    "Let's divide the data into three samples: training, validation and test (60% 20% 20%)."
   ]
  },
  {
   "cell_type": "code",
   "execution_count": 14,
   "metadata": {},
   "outputs": [],
   "source": [
    "data_train, data_common = train_test_split(data,  test_size = 0.4, random_state = 12345)\n",
    "data_valid, data_test = train_test_split(data_common,  test_size = 0.5, random_state = 12345)"
   ]
  },
  {
   "cell_type": "code",
   "execution_count": 15,
   "metadata": {},
   "outputs": [],
   "source": [
    "features_train = data_train.drop(['Price'], axis=1)\n",
    "target_train = data_train['Price']\n",
    "features_valid = data_valid.drop(['Price'], axis=1)\n",
    "target_valid = data_valid['Price'] \n",
    "features_test = data_test.drop(['Price'], axis=1)\n",
    "target_test = data_test['Price']"
   ]
  },
  {
   "cell_type": "markdown",
   "metadata": {},
   "source": [
    "Проверим размерность выборок:\n",
    "\n",
    "Let's check the sample size:"
   ]
  },
  {
   "cell_type": "code",
   "execution_count": 16,
   "metadata": {},
   "outputs": [
    {
     "name": "stdout",
     "output_type": "stream",
     "text": [
      "(178132, 8)\n",
      "(178132,)\n",
      "(59378, 8)\n",
      "(59378,)\n",
      "(59378, 8)\n",
      "(59378,)\n"
     ]
    }
   ],
   "source": [
    "print(features_train.shape)\n",
    "print(target_train.shape)\n",
    "print(features_valid.shape)\n",
    "print(target_valid.shape)\n",
    "print(features_test.shape)\n",
    "print(target_test.shape)"
   ]
  },
  {
   "cell_type": "markdown",
   "metadata": {},
   "source": [
    "## Обучение моделей / Model training"
   ]
  },
  {
   "cell_type": "markdown",
   "metadata": {},
   "source": [
    "CATBOOST"
   ]
  },
  {
   "cell_type": "code",
   "execution_count": 17,
   "metadata": {},
   "outputs": [],
   "source": [
    "encoder = OrdinalEncoder()\n",
    "train_ordinal = pd.DataFrame(encoder.fit_transform(features_train), columns = features_train.columns)\n",
    "valid_ordinal = pd.DataFrame(encoder.fit_transform(features_valid), columns = features_valid.columns)\n",
    "cat_features = ['VehicleType', 'Gearbox', 'Model', 'FuelType', 'Brand', 'Repaired']"
   ]
  },
  {
   "cell_type": "code",
   "execution_count": 18,
   "metadata": {},
   "outputs": [
    {
     "name": "stdout",
     "output_type": "stream",
     "text": [
      "CPU times: user 2min 9s, sys: 20.3 s, total: 2min 30s\n",
      "Wall time: 38.5 s\n"
     ]
    },
    {
     "data": {
      "text/plain": [
       "{'depth': 9, 'iterations': 80, 'learning_rate': 0.1}"
      ]
     },
     "execution_count": 18,
     "metadata": {},
     "output_type": "execute_result"
    }
   ],
   "source": [
    "%%time\n",
    "parameters = {'depth': range(3, 12, 3),\n",
    "              'learning_rate': np.arange(0.00, 0.15, 0.05),\n",
    "              'iterations':  range(20, 100, 20)}\n",
    "cb = CatBoostRegressor()\n",
    "grid = GridSearchCV(cb, parameters, cv=5)\n",
    "grid.fit(train_ordinal, target_train, verbose = False)\n",
    "grid.best_params_"
   ]
  },
  {
   "cell_type": "code",
   "execution_count": 19,
   "metadata": {},
   "outputs": [
    {
     "name": "stdout",
     "output_type": "stream",
     "text": [
      "0:\tlearn: 4322.1622239\ttotal: 26.7ms\tremaining: 2.11s\n",
      "10:\tlearn: 3086.6158590\ttotal: 213ms\tremaining: 1.33s\n",
      "20:\tlearn: 2749.9656313\ttotal: 396ms\tremaining: 1.11s\n",
      "30:\tlearn: 2647.7414132\ttotal: 579ms\tremaining: 915ms\n",
      "40:\tlearn: 2596.9104621\ttotal: 769ms\tremaining: 732ms\n",
      "50:\tlearn: 2565.5950380\ttotal: 962ms\tremaining: 547ms\n",
      "60:\tlearn: 2538.0700010\ttotal: 1.15s\tremaining: 359ms\n",
      "70:\tlearn: 2516.5831723\ttotal: 1.35s\tremaining: 171ms\n",
      "79:\tlearn: 2488.0360241\ttotal: 1.52s\tremaining: 0us\n"
     ]
    },
    {
     "data": {
      "text/plain": [
       "<catboost.core.CatBoostRegressor at 0x7fe25e0464f0>"
      ]
     },
     "execution_count": 19,
     "metadata": {},
     "output_type": "execute_result"
    }
   ],
   "source": [
    "cb = CatBoostRegressor(depth = 9, learning_rate = 0.1, iterations = 80)\n",
    "cb.fit(features_train, target_train, cat_features = cat_features, verbose=10)"
   ]
  },
  {
   "cell_type": "code",
   "execution_count": 20,
   "metadata": {},
   "outputs": [
    {
     "name": "stdout",
     "output_type": "stream",
     "text": [
      "2497.088711431166\n",
      "CPU times: user 120 ms, sys: 6.38 ms, total: 126 ms\n",
      "Wall time: 88.5 ms\n"
     ]
    }
   ],
   "source": [
    "%%time\n",
    "preds = cb.predict(features_valid)\n",
    "res = mean_squared_error(preds, target_valid) ** 0.5\n",
    "print(res)"
   ]
  },
  {
   "cell_type": "markdown",
   "metadata": {},
   "source": [
    "СЛУЧАЙНЫЙ ЛЕС / RANDOM FOREST"
   ]
  },
  {
   "cell_type": "code",
   "execution_count": 21,
   "metadata": {},
   "outputs": [
    {
     "name": "stdout",
     "output_type": "stream",
     "text": [
      "CPU times: user 1min 51s, sys: 251 ms, total: 1min 51s\n",
      "Wall time: 1min 51s\n"
     ]
    },
    {
     "data": {
      "text/plain": [
       "{'max_depth': 9, 'n_estimators': 7}"
      ]
     },
     "execution_count": 21,
     "metadata": {},
     "output_type": "execute_result"
    }
   ],
   "source": [
    "%%time\n",
    "parametrs = { 'n_estimators': range (1, 10, 1),\n",
    "              'max_depth': range (1, 10, 1)}\n",
    "clf = RandomForestRegressor()\n",
    "grid = GridSearchCV(clf, parametrs, cv=5)\n",
    "grid.fit(train_ordinal, target_train)\n",
    "grid.best_params_"
   ]
  },
  {
   "cell_type": "code",
   "execution_count": 22,
   "metadata": {},
   "outputs": [
    {
     "data": {
      "text/plain": [
       "RandomForestRegressor(max_depth=9, n_estimators=7)"
      ]
     },
     "execution_count": 22,
     "metadata": {},
     "output_type": "execute_result"
    }
   ],
   "source": [
    "clf = RandomForestRegressor(n_estimators = 7, max_depth = 9)\n",
    "clf.fit(train_ordinal, target_train)"
   ]
  },
  {
   "cell_type": "code",
   "execution_count": 23,
   "metadata": {},
   "outputs": [
    {
     "name": "stdout",
     "output_type": "stream",
     "text": [
      "2812.1058918722333\n",
      "CPU times: user 59.7 ms, sys: 4.11 ms, total: 63.8 ms\n",
      "Wall time: 60.7 ms\n"
     ]
    }
   ],
   "source": [
    "%%time\n",
    "preds =  clf.predict(valid_ordinal)\n",
    "res = mean_squared_error(preds, target_valid) ** 0.5\n",
    "print(res)"
   ]
  },
  {
   "cell_type": "markdown",
   "metadata": {},
   "source": [
    "LIGHTGBM"
   ]
  },
  {
   "cell_type": "code",
   "execution_count": 24,
   "metadata": {
    "scrolled": true
   },
   "outputs": [
    {
     "name": "stdout",
     "output_type": "stream",
     "text": [
      "[LightGBM] [Warning] Unknown parameter: learning_rage\n",
      "[1]\tvalid_0's l1: 3463.4\tvalid_0's l2: 1.92844e+07\n",
      "Training until validation scores don't improve for 30 rounds\n",
      "[2]\tvalid_0's l1: 3303.03\tvalid_0's l2: 1.77098e+07\n",
      "[3]\tvalid_0's l1: 3164.8\tvalid_0's l2: 1.63986e+07\n",
      "[4]\tvalid_0's l1: 3040.83\tvalid_0's l2: 1.52372e+07\n",
      "[5]\tvalid_0's l1: 2937.2\tvalid_0's l2: 1.4347e+07\n",
      "[6]\tvalid_0's l1: 2842.45\tvalid_0's l2: 1.35477e+07\n",
      "[7]\tvalid_0's l1: 2753.3\tvalid_0's l2: 1.28333e+07\n",
      "[8]\tvalid_0's l1: 2683.64\tvalid_0's l2: 1.22822e+07\n",
      "[9]\tvalid_0's l1: 2613.83\tvalid_0's l2: 1.17726e+07\n",
      "[10]\tvalid_0's l1: 2554.9\tvalid_0's l2: 1.13306e+07\n",
      "[11]\tvalid_0's l1: 2502.21\tvalid_0's l2: 1.09617e+07\n",
      "[12]\tvalid_0's l1: 2458.24\tvalid_0's l2: 1.0652e+07\n",
      "[13]\tvalid_0's l1: 2416.63\tvalid_0's l2: 1.0377e+07\n",
      "[14]\tvalid_0's l1: 2379.43\tvalid_0's l2: 1.0139e+07\n",
      "[15]\tvalid_0's l1: 2344.43\tvalid_0's l2: 9.92935e+06\n",
      "[16]\tvalid_0's l1: 2316.7\tvalid_0's l2: 9.763e+06\n",
      "[17]\tvalid_0's l1: 2288.15\tvalid_0's l2: 9.59114e+06\n",
      "[18]\tvalid_0's l1: 2264.43\tvalid_0's l2: 9.46326e+06\n",
      "[19]\tvalid_0's l1: 2244.74\tvalid_0's l2: 9.34173e+06\n",
      "[20]\tvalid_0's l1: 2225.75\tvalid_0's l2: 9.22975e+06\n",
      "[21]\tvalid_0's l1: 2206.83\tvalid_0's l2: 9.11799e+06\n",
      "[22]\tvalid_0's l1: 2189.13\tvalid_0's l2: 9.01531e+06\n",
      "[23]\tvalid_0's l1: 2174.57\tvalid_0's l2: 8.93033e+06\n",
      "[24]\tvalid_0's l1: 2159.15\tvalid_0's l2: 8.84843e+06\n",
      "[25]\tvalid_0's l1: 2146.52\tvalid_0's l2: 8.77811e+06\n",
      "[26]\tvalid_0's l1: 2132.05\tvalid_0's l2: 8.7059e+06\n",
      "[27]\tvalid_0's l1: 2120.76\tvalid_0's l2: 8.64472e+06\n",
      "[28]\tvalid_0's l1: 2107.18\tvalid_0's l2: 8.57754e+06\n",
      "[29]\tvalid_0's l1: 2097.83\tvalid_0's l2: 8.52865e+06\n",
      "[30]\tvalid_0's l1: 2087.28\tvalid_0's l2: 8.46839e+06\n",
      "[31]\tvalid_0's l1: 2077.56\tvalid_0's l2: 8.41781e+06\n",
      "[32]\tvalid_0's l1: 2068.7\tvalid_0's l2: 8.36818e+06\n",
      "[33]\tvalid_0's l1: 2061.15\tvalid_0's l2: 8.33508e+06\n",
      "[34]\tvalid_0's l1: 2052.96\tvalid_0's l2: 8.29556e+06\n",
      "[35]\tvalid_0's l1: 2047.14\tvalid_0's l2: 8.25902e+06\n",
      "[36]\tvalid_0's l1: 2039.78\tvalid_0's l2: 8.21039e+06\n",
      "[37]\tvalid_0's l1: 2032.68\tvalid_0's l2: 8.17795e+06\n",
      "[38]\tvalid_0's l1: 2029.22\tvalid_0's l2: 8.15908e+06\n",
      "[39]\tvalid_0's l1: 2024.65\tvalid_0's l2: 8.13411e+06\n",
      "[40]\tvalid_0's l1: 2017.8\tvalid_0's l2: 8.09393e+06\n",
      "[41]\tvalid_0's l1: 2013.99\tvalid_0's l2: 8.0684e+06\n",
      "[42]\tvalid_0's l1: 2008.74\tvalid_0's l2: 8.0426e+06\n",
      "[43]\tvalid_0's l1: 2004.39\tvalid_0's l2: 8.01881e+06\n",
      "[44]\tvalid_0's l1: 1999.27\tvalid_0's l2: 7.98522e+06\n",
      "[45]\tvalid_0's l1: 1995.82\tvalid_0's l2: 7.9703e+06\n",
      "[46]\tvalid_0's l1: 1992.21\tvalid_0's l2: 7.94825e+06\n",
      "[47]\tvalid_0's l1: 1988.92\tvalid_0's l2: 7.93367e+06\n",
      "[48]\tvalid_0's l1: 1986.49\tvalid_0's l2: 7.92293e+06\n",
      "[49]\tvalid_0's l1: 1982.51\tvalid_0's l2: 7.8971e+06\n",
      "[50]\tvalid_0's l1: 1979.75\tvalid_0's l2: 7.88356e+06\n",
      "[51]\tvalid_0's l1: 1976.3\tvalid_0's l2: 7.86089e+06\n",
      "[52]\tvalid_0's l1: 1972.74\tvalid_0's l2: 7.84328e+06\n",
      "[53]\tvalid_0's l1: 1970.02\tvalid_0's l2: 7.82446e+06\n",
      "[54]\tvalid_0's l1: 1968.44\tvalid_0's l2: 7.82052e+06\n",
      "[55]\tvalid_0's l1: 1966.13\tvalid_0's l2: 7.81059e+06\n",
      "[56]\tvalid_0's l1: 1962.98\tvalid_0's l2: 7.79549e+06\n",
      "[57]\tvalid_0's l1: 1961.08\tvalid_0's l2: 7.78286e+06\n",
      "[58]\tvalid_0's l1: 1958.82\tvalid_0's l2: 7.77047e+06\n",
      "[59]\tvalid_0's l1: 1959.79\tvalid_0's l2: 7.77425e+06\n",
      "[60]\tvalid_0's l1: 1958.64\tvalid_0's l2: 7.76305e+06\n",
      "[61]\tvalid_0's l1: 1956.73\tvalid_0's l2: 7.7517e+06\n",
      "[62]\tvalid_0's l1: 1955.41\tvalid_0's l2: 7.74412e+06\n",
      "[63]\tvalid_0's l1: 1953.74\tvalid_0's l2: 7.73489e+06\n",
      "[64]\tvalid_0's l1: 1951.54\tvalid_0's l2: 7.72236e+06\n",
      "[65]\tvalid_0's l1: 1950.91\tvalid_0's l2: 7.72158e+06\n",
      "[66]\tvalid_0's l1: 1950.83\tvalid_0's l2: 7.71857e+06\n",
      "[67]\tvalid_0's l1: 1949.5\tvalid_0's l2: 7.71307e+06\n",
      "[68]\tvalid_0's l1: 1947.9\tvalid_0's l2: 7.70046e+06\n",
      "[69]\tvalid_0's l1: 1946.84\tvalid_0's l2: 7.68928e+06\n",
      "[70]\tvalid_0's l1: 1945.76\tvalid_0's l2: 7.68401e+06\n",
      "[71]\tvalid_0's l1: 1943.79\tvalid_0's l2: 7.67196e+06\n",
      "[72]\tvalid_0's l1: 1941.97\tvalid_0's l2: 7.66103e+06\n",
      "[73]\tvalid_0's l1: 1940.63\tvalid_0's l2: 7.65612e+06\n",
      "[74]\tvalid_0's l1: 1939.76\tvalid_0's l2: 7.6527e+06\n",
      "[75]\tvalid_0's l1: 1939.02\tvalid_0's l2: 7.64808e+06\n",
      "[76]\tvalid_0's l1: 1937.05\tvalid_0's l2: 7.6387e+06\n",
      "[77]\tvalid_0's l1: 1936.14\tvalid_0's l2: 7.63342e+06\n",
      "[78]\tvalid_0's l1: 1940.22\tvalid_0's l2: 7.64147e+06\n",
      "[79]\tvalid_0's l1: 1937.83\tvalid_0's l2: 7.62966e+06\n",
      "[80]\tvalid_0's l1: 1936.92\tvalid_0's l2: 7.62403e+06\n",
      "[81]\tvalid_0's l1: 1934.93\tvalid_0's l2: 7.6096e+06\n",
      "[82]\tvalid_0's l1: 1934.04\tvalid_0's l2: 7.60481e+06\n",
      "[83]\tvalid_0's l1: 1932.69\tvalid_0's l2: 7.59779e+06\n",
      "[84]\tvalid_0's l1: 1930.71\tvalid_0's l2: 7.58649e+06\n",
      "[85]\tvalid_0's l1: 1929.33\tvalid_0's l2: 7.57808e+06\n",
      "[86]\tvalid_0's l1: 1927.59\tvalid_0's l2: 7.57084e+06\n",
      "[87]\tvalid_0's l1: 1927.06\tvalid_0's l2: 7.5692e+06\n",
      "[88]\tvalid_0's l1: 1929.63\tvalid_0's l2: 7.57778e+06\n",
      "[89]\tvalid_0's l1: 1929.36\tvalid_0's l2: 7.5746e+06\n",
      "[90]\tvalid_0's l1: 1929.02\tvalid_0's l2: 7.5736e+06\n",
      "[91]\tvalid_0's l1: 1928.52\tvalid_0's l2: 7.57047e+06\n",
      "[92]\tvalid_0's l1: 1927.13\tvalid_0's l2: 7.56493e+06\n",
      "[93]\tvalid_0's l1: 1926.43\tvalid_0's l2: 7.56279e+06\n",
      "[94]\tvalid_0's l1: 1924.68\tvalid_0's l2: 7.55117e+06\n",
      "[95]\tvalid_0's l1: 1923.21\tvalid_0's l2: 7.54073e+06\n",
      "[96]\tvalid_0's l1: 1921.62\tvalid_0's l2: 7.5317e+06\n",
      "[97]\tvalid_0's l1: 1920.73\tvalid_0's l2: 7.52563e+06\n",
      "[98]\tvalid_0's l1: 1919.76\tvalid_0's l2: 7.52069e+06\n",
      "[99]\tvalid_0's l1: 1919.24\tvalid_0's l2: 7.51651e+06\n",
      "[100]\tvalid_0's l1: 1917.51\tvalid_0's l2: 7.50497e+06\n",
      "Did not meet early stopping. Best iteration is:\n",
      "[100]\tvalid_0's l1: 1917.51\tvalid_0's l2: 7.50497e+06\n",
      "CPU times: user 2.25 s, sys: 158 ms, total: 2.41 s\n",
      "Wall time: 358 ms\n"
     ]
    }
   ],
   "source": [
    "%%time\n",
    "params = {\n",
    "    'task': 'train', \n",
    "    'boosting': 'gbdt',\n",
    "    'objective': 'regression',\n",
    "    'num_leaves': 10,\n",
    "    'learning_rage': 0.05,\n",
    "    'metric': {'l2','l1'},\n",
    "    'verbose': -1\n",
    "}\n",
    "lgb_train = lgb.Dataset(train_ordinal, target_train)\n",
    "lgb_eval = lgb.Dataset(valid_ordinal, target_valid, reference=lgb_train)\n",
    "model = lgb.train(params,\n",
    "                 train_set=lgb_train,\n",
    "                 valid_sets=lgb_eval,\n",
    "                 early_stopping_rounds=30)"
   ]
  },
  {
   "cell_type": "code",
   "execution_count": 25,
   "metadata": {},
   "outputs": [
    {
     "name": "stdout",
     "output_type": "stream",
     "text": [
      "2739.519925442982\n",
      "CPU times: user 463 ms, sys: 14.4 ms, total: 477 ms\n",
      "Wall time: 77.1 ms\n"
     ]
    }
   ],
   "source": [
    "%%time\n",
    "y_pred = model.predict(valid_ordinal)\n",
    "res = mean_squared_error(y_pred, target_valid) ** 0.5\n",
    "print(res)"
   ]
  },
  {
   "cell_type": "markdown",
   "metadata": {},
   "source": [
    "## Анализ моделей / Model Analysis"
   ]
  },
  {
   "cell_type": "markdown",
   "metadata": {},
   "source": [
    "CATBOOST Значение/Meaning RMSE: 2497.088711431166\n",
    "\n",
    "СЛУЧАЙНЫЙ ЛЕС/RANDOM FOREST Значение/Meaning RMSE: 2812.1058918722333\n",
    "\n",
    "LIGHTGBM Значение/Meaning RMSE: 2739.519925442982\n"
   ]
  },
  {
   "cell_type": "code",
   "execution_count": 26,
   "metadata": {},
   "outputs": [
    {
     "name": "stdout",
     "output_type": "stream",
     "text": [
      "2499.2414501705584\n"
     ]
    }
   ],
   "source": [
    "preds = cb.predict(features_test)\n",
    "res = mean_squared_error(preds, target_test) ** 0.5\n",
    "print(res)"
   ]
  },
  {
   "cell_type": "markdown",
   "metadata": {},
   "source": [
    "Лучшая модель - Catboost, значение метрики RMSE = 2499.2414501705584.\n",
    "\n",
    "The best model is Catboost, metric value RMSE = 2499.2414501705584."
   ]
  },
  {
   "cell_type": "code",
   "execution_count": null,
   "metadata": {},
   "outputs": [],
   "source": []
  }
 ],
 "metadata": {
  "ExecuteTimeLog": [
   {
    "duration": 53,
    "start_time": "2023-03-07T06:55:20.908Z"
   },
   {
    "duration": 378,
    "start_time": "2023-03-07T06:55:23.931Z"
   },
   {
    "duration": 1305,
    "start_time": "2023-03-07T06:55:24.378Z"
   },
   {
    "duration": 141,
    "start_time": "2023-03-07T06:58:19.755Z"
   },
   {
    "duration": 855,
    "start_time": "2023-03-07T07:09:56.767Z"
   },
   {
    "duration": 838,
    "start_time": "2023-03-07T07:10:52.318Z"
   },
   {
    "duration": 718,
    "start_time": "2023-03-07T07:11:36.958Z"
   },
   {
    "duration": 76,
    "start_time": "2023-03-07T07:15:26.350Z"
   },
   {
    "duration": 978,
    "start_time": "2023-03-07T07:15:29.931Z"
   },
   {
    "duration": 171,
    "start_time": "2023-03-07T07:18:08.349Z"
   },
   {
    "duration": 325,
    "start_time": "2023-03-07T07:18:25.039Z"
   },
   {
    "duration": 98,
    "start_time": "2023-03-07T07:18:56.222Z"
   },
   {
    "duration": 126,
    "start_time": "2023-03-07T07:21:24.351Z"
   },
   {
    "duration": 132,
    "start_time": "2023-03-07T07:21:27.006Z"
   },
   {
    "duration": 61,
    "start_time": "2023-03-07T07:21:54.303Z"
   },
   {
    "duration": 101,
    "start_time": "2023-03-07T07:21:56.448Z"
   },
   {
    "duration": 85,
    "start_time": "2023-03-07T07:23:11.903Z"
   },
   {
    "duration": 49,
    "start_time": "2023-03-07T07:26:10.990Z"
   },
   {
    "duration": 21,
    "start_time": "2023-03-07T07:26:27.630Z"
   },
   {
    "duration": 11,
    "start_time": "2023-03-07T07:27:01.211Z"
   },
   {
    "duration": 303,
    "start_time": "2023-03-07T07:28:54.811Z"
   },
   {
    "duration": 565,
    "start_time": "2023-03-07T07:29:25.243Z"
   },
   {
    "duration": 717,
    "start_time": "2023-03-07T07:29:35.548Z"
   },
   {
    "duration": 538,
    "start_time": "2023-03-07T07:29:48.703Z"
   },
   {
    "duration": 8,
    "start_time": "2023-03-07T07:29:58.044Z"
   },
   {
    "duration": 313,
    "start_time": "2023-03-07T07:30:35.260Z"
   },
   {
    "duration": 7,
    "start_time": "2023-03-07T07:32:18.893Z"
   },
   {
    "duration": 129,
    "start_time": "2023-03-07T07:32:24.070Z"
   },
   {
    "duration": 133,
    "start_time": "2023-03-07T07:32:33.846Z"
   },
   {
    "duration": 47,
    "start_time": "2023-03-07T07:32:45.766Z"
   },
   {
    "duration": 86,
    "start_time": "2023-03-07T07:37:56.887Z"
   },
   {
    "duration": 1254,
    "start_time": "2023-03-07T07:38:03.934Z"
   },
   {
    "duration": 1457,
    "start_time": "2023-03-07T07:38:30.630Z"
   },
   {
    "duration": 610,
    "start_time": "2023-03-07T07:38:43.254Z"
   },
   {
    "duration": 113,
    "start_time": "2023-03-07T07:43:15.298Z"
   },
   {
    "duration": 38,
    "start_time": "2023-03-07T07:43:21.178Z"
   },
   {
    "duration": 30,
    "start_time": "2023-03-07T07:44:39.211Z"
   },
   {
    "duration": 36,
    "start_time": "2023-03-07T07:44:48.740Z"
   },
   {
    "duration": 29,
    "start_time": "2023-03-07T07:45:01.026Z"
   },
   {
    "duration": 27,
    "start_time": "2023-03-07T07:45:08.079Z"
   },
   {
    "duration": 4,
    "start_time": "2023-03-07T07:46:14.731Z"
   },
   {
    "duration": 15,
    "start_time": "2023-03-07T07:46:21.906Z"
   },
   {
    "duration": 94,
    "start_time": "2023-03-07T07:46:51.930Z"
   },
   {
    "duration": 154,
    "start_time": "2023-03-07T07:50:45.602Z"
   },
   {
    "duration": 83,
    "start_time": "2023-03-07T07:50:52.316Z"
   },
   {
    "duration": 49,
    "start_time": "2023-03-07T07:51:59.813Z"
   },
   {
    "duration": 10,
    "start_time": "2023-03-07T07:52:12.124Z"
   },
   {
    "duration": 255,
    "start_time": "2023-03-07T07:52:24.580Z"
   },
   {
    "duration": 30,
    "start_time": "2023-03-07T07:53:33.380Z"
   },
   {
    "duration": 30,
    "start_time": "2023-03-07T07:54:09.904Z"
   },
   {
    "duration": 29,
    "start_time": "2023-03-07T07:54:21.980Z"
   },
   {
    "duration": 71,
    "start_time": "2023-03-07T07:55:57.280Z"
   },
   {
    "duration": 66,
    "start_time": "2023-03-07T07:56:24.286Z"
   },
   {
    "duration": 8,
    "start_time": "2023-03-07T08:02:41.690Z"
   },
   {
    "duration": 7,
    "start_time": "2023-03-07T08:03:16.754Z"
   },
   {
    "duration": 3850,
    "start_time": "2023-03-07T08:03:29.226Z"
   },
   {
    "duration": 148,
    "start_time": "2023-03-07T08:04:07.448Z"
   },
   {
    "duration": 23301,
    "start_time": "2023-03-07T08:04:13.552Z"
   },
   {
    "duration": 35273,
    "start_time": "2023-03-07T08:05:34.986Z"
   },
   {
    "duration": 8,
    "start_time": "2023-03-07T08:09:16.101Z"
   },
   {
    "duration": 67,
    "start_time": "2023-03-07T08:09:27.391Z"
   },
   {
    "duration": 75,
    "start_time": "2023-03-07T08:09:42.896Z"
   },
   {
    "duration": 88,
    "start_time": "2023-03-07T08:10:21.209Z"
   },
   {
    "duration": 23,
    "start_time": "2023-03-07T08:17:51.649Z"
   },
   {
    "duration": 54,
    "start_time": "2023-03-07T18:43:18.664Z"
   },
   {
    "duration": 459,
    "start_time": "2023-03-07T18:43:27.354Z"
   },
   {
    "duration": 3803,
    "start_time": "2023-03-07T18:43:27.815Z"
   },
   {
    "duration": 191,
    "start_time": "2023-03-07T18:43:31.620Z"
   },
   {
    "duration": 1073,
    "start_time": "2023-03-07T18:43:31.813Z"
   },
   {
    "duration": 0,
    "start_time": "2023-03-07T18:43:32.889Z"
   },
   {
    "duration": 0,
    "start_time": "2023-03-07T18:43:32.891Z"
   },
   {
    "duration": 0,
    "start_time": "2023-03-07T18:43:32.892Z"
   },
   {
    "duration": 0,
    "start_time": "2023-03-07T18:43:32.894Z"
   },
   {
    "duration": 1126,
    "start_time": "2023-03-07T18:43:56.974Z"
   },
   {
    "duration": 416,
    "start_time": "2023-03-07T18:44:04.189Z"
   },
   {
    "duration": 1049,
    "start_time": "2023-03-07T18:44:04.607Z"
   },
   {
    "duration": 176,
    "start_time": "2023-03-07T18:44:05.659Z"
   },
   {
    "duration": 1139,
    "start_time": "2023-03-07T18:44:05.837Z"
   },
   {
    "duration": 0,
    "start_time": "2023-03-07T18:44:06.978Z"
   },
   {
    "duration": 0,
    "start_time": "2023-03-07T18:44:06.979Z"
   },
   {
    "duration": 0,
    "start_time": "2023-03-07T18:44:06.980Z"
   },
   {
    "duration": 0,
    "start_time": "2023-03-07T18:44:06.982Z"
   },
   {
    "duration": 0,
    "start_time": "2023-03-07T18:44:06.983Z"
   },
   {
    "duration": 0,
    "start_time": "2023-03-07T18:44:06.984Z"
   },
   {
    "duration": 0,
    "start_time": "2023-03-07T18:44:06.985Z"
   },
   {
    "duration": 0,
    "start_time": "2023-03-07T18:44:06.986Z"
   },
   {
    "duration": 221,
    "start_time": "2023-03-07T18:44:29.071Z"
   },
   {
    "duration": 140,
    "start_time": "2023-03-07T18:44:33.261Z"
   },
   {
    "duration": 1007,
    "start_time": "2023-03-07T18:44:37.140Z"
   },
   {
    "duration": 438,
    "start_time": "2023-03-07T18:44:39.619Z"
   },
   {
    "duration": 33,
    "start_time": "2023-03-07T18:44:55.243Z"
   },
   {
    "duration": 40,
    "start_time": "2023-03-07T18:46:03.628Z"
   },
   {
    "duration": 262,
    "start_time": "2023-03-07T18:46:08.649Z"
   },
   {
    "duration": 17,
    "start_time": "2023-03-07T18:46:32.602Z"
   },
   {
    "duration": 15,
    "start_time": "2023-03-07T18:47:29.579Z"
   },
   {
    "duration": 13,
    "start_time": "2023-03-07T18:47:47.892Z"
   },
   {
    "duration": 4,
    "start_time": "2023-03-07T18:47:57.171Z"
   },
   {
    "duration": 54,
    "start_time": "2023-03-07T18:48:06.565Z"
   },
   {
    "duration": 29,
    "start_time": "2023-03-07T18:54:18.752Z"
   },
   {
    "duration": 49,
    "start_time": "2023-03-07T18:54:42.367Z"
   },
   {
    "duration": 144,
    "start_time": "2023-03-07T18:54:55.933Z"
   },
   {
    "duration": 128,
    "start_time": "2023-03-07T18:56:02.915Z"
   },
   {
    "duration": 126,
    "start_time": "2023-03-07T18:56:38.176Z"
   },
   {
    "duration": 20,
    "start_time": "2023-03-07T18:56:45.644Z"
   },
   {
    "duration": 114,
    "start_time": "2023-03-07T18:57:00.723Z"
   },
   {
    "duration": 69,
    "start_time": "2023-03-07T18:58:32.340Z"
   },
   {
    "duration": 84,
    "start_time": "2023-03-07T19:00:37.493Z"
   },
   {
    "duration": 480,
    "start_time": "2023-03-07T19:07:31.393Z"
   },
   {
    "duration": 1168,
    "start_time": "2023-03-07T19:07:31.878Z"
   },
   {
    "duration": 164,
    "start_time": "2023-03-07T19:07:33.049Z"
   },
   {
    "duration": 206,
    "start_time": "2023-03-07T19:07:33.215Z"
   },
   {
    "duration": 179,
    "start_time": "2023-03-07T19:07:33.428Z"
   },
   {
    "duration": 1361,
    "start_time": "2023-03-07T19:07:33.610Z"
   },
   {
    "duration": 71,
    "start_time": "2023-03-07T19:07:34.973Z"
   },
   {
    "duration": 144,
    "start_time": "2023-03-07T19:08:23.553Z"
   },
   {
    "duration": 22,
    "start_time": "2023-03-07T19:09:37.894Z"
   },
   {
    "duration": 49,
    "start_time": "2023-03-07T19:10:29.313Z"
   },
   {
    "duration": 175,
    "start_time": "2023-03-07T19:10:39.209Z"
   },
   {
    "duration": 82,
    "start_time": "2023-03-07T19:25:03.695Z"
   },
   {
    "duration": 152,
    "start_time": "2023-03-07T19:25:05.242Z"
   },
   {
    "duration": 10,
    "start_time": "2023-03-07T19:25:38.469Z"
   },
   {
    "duration": 12,
    "start_time": "2023-03-07T19:25:58.481Z"
   },
   {
    "duration": 132,
    "start_time": "2023-03-07T19:29:25.760Z"
   },
   {
    "duration": 49,
    "start_time": "2023-03-07T19:30:58.748Z"
   },
   {
    "duration": 108,
    "start_time": "2023-03-07T19:31:06.454Z"
   },
   {
    "duration": 161,
    "start_time": "2023-03-07T19:31:22.421Z"
   },
   {
    "duration": 111,
    "start_time": "2023-03-07T19:31:27.726Z"
   },
   {
    "duration": 156,
    "start_time": "2023-03-07T19:31:35.654Z"
   },
   {
    "duration": 490,
    "start_time": "2023-03-07T19:31:48.000Z"
   },
   {
    "duration": 1460,
    "start_time": "2023-03-07T19:31:48.493Z"
   },
   {
    "duration": 192,
    "start_time": "2023-03-07T19:31:49.955Z"
   },
   {
    "duration": 230,
    "start_time": "2023-03-07T19:31:50.149Z"
   },
   {
    "duration": 760,
    "start_time": "2023-03-07T19:31:50.383Z"
   },
   {
    "duration": 91,
    "start_time": "2023-03-07T19:31:51.148Z"
   },
   {
    "duration": 194,
    "start_time": "2023-03-07T19:31:51.246Z"
   },
   {
    "duration": 114,
    "start_time": "2023-03-07T19:31:51.443Z"
   },
   {
    "duration": 177,
    "start_time": "2023-03-07T19:31:51.559Z"
   },
   {
    "duration": 242,
    "start_time": "2023-03-07T19:31:51.742Z"
   },
   {
    "duration": 13,
    "start_time": "2023-03-07T19:32:34.524Z"
   },
   {
    "duration": 74,
    "start_time": "2023-03-07T19:33:42.695Z"
   },
   {
    "duration": 42,
    "start_time": "2023-03-07T19:49:41.589Z"
   },
   {
    "duration": 147,
    "start_time": "2023-03-07T19:52:08.510Z"
   },
   {
    "duration": 129,
    "start_time": "2023-03-07T19:52:13.538Z"
   },
   {
    "duration": 41,
    "start_time": "2023-03-07T19:53:01.279Z"
   },
   {
    "duration": 154,
    "start_time": "2023-03-07T19:53:08.048Z"
   },
   {
    "duration": 33,
    "start_time": "2023-03-07T20:02:42.689Z"
   },
   {
    "duration": 99,
    "start_time": "2023-03-07T20:07:01.359Z"
   },
   {
    "duration": 441,
    "start_time": "2023-03-07T20:07:18.002Z"
   },
   {
    "duration": 1237,
    "start_time": "2023-03-07T20:07:18.446Z"
   },
   {
    "duration": 179,
    "start_time": "2023-03-07T20:07:19.685Z"
   },
   {
    "duration": 193,
    "start_time": "2023-03-07T20:07:19.868Z"
   },
   {
    "duration": 727,
    "start_time": "2023-03-07T20:07:20.065Z"
   },
   {
    "duration": 88,
    "start_time": "2023-03-07T20:07:20.794Z"
   },
   {
    "duration": 194,
    "start_time": "2023-03-07T20:07:20.884Z"
   },
   {
    "duration": 112,
    "start_time": "2023-03-07T20:07:21.080Z"
   },
   {
    "duration": 207,
    "start_time": "2023-03-07T20:07:21.193Z"
   },
   {
    "duration": 280,
    "start_time": "2023-03-07T20:07:21.403Z"
   },
   {
    "duration": 174,
    "start_time": "2023-03-07T20:07:21.685Z"
   },
   {
    "duration": 41,
    "start_time": "2023-03-07T20:07:21.861Z"
   },
   {
    "duration": 111,
    "start_time": "2023-03-07T20:07:21.903Z"
   },
   {
    "duration": 924,
    "start_time": "2023-03-07T20:07:59.608Z"
   },
   {
    "duration": 85,
    "start_time": "2023-03-07T20:08:06.951Z"
   },
   {
    "duration": 19,
    "start_time": "2023-03-07T20:12:10.876Z"
   },
   {
    "duration": 5,
    "start_time": "2023-03-07T20:12:14.755Z"
   },
   {
    "duration": 69,
    "start_time": "2023-03-07T20:20:36.820Z"
   },
   {
    "duration": 41,
    "start_time": "2023-03-07T20:29:12.658Z"
   },
   {
    "duration": 3,
    "start_time": "2023-03-07T20:29:21.694Z"
   },
   {
    "duration": 21,
    "start_time": "2023-03-07T20:29:28.650Z"
   },
   {
    "duration": 1089,
    "start_time": "2023-03-07T20:29:51.668Z"
   },
   {
    "duration": 1010,
    "start_time": "2023-03-07T20:29:52.758Z"
   },
   {
    "duration": 170,
    "start_time": "2023-03-07T20:29:53.770Z"
   },
   {
    "duration": 148,
    "start_time": "2023-03-07T20:29:53.952Z"
   },
   {
    "duration": 661,
    "start_time": "2023-03-07T20:29:54.102Z"
   },
   {
    "duration": 64,
    "start_time": "2023-03-07T20:29:54.764Z"
   },
   {
    "duration": 173,
    "start_time": "2023-03-07T20:29:54.833Z"
   },
   {
    "duration": 130,
    "start_time": "2023-03-07T20:29:55.008Z"
   },
   {
    "duration": 161,
    "start_time": "2023-03-07T20:29:55.141Z"
   },
   {
    "duration": 270,
    "start_time": "2023-03-07T20:29:55.306Z"
   },
   {
    "duration": 149,
    "start_time": "2023-03-07T20:29:55.578Z"
   },
   {
    "duration": 36,
    "start_time": "2023-03-07T20:29:55.733Z"
   },
   {
    "duration": 87,
    "start_time": "2023-03-07T20:29:55.771Z"
   },
   {
    "duration": 20,
    "start_time": "2023-03-07T20:29:55.860Z"
   },
   {
    "duration": 6,
    "start_time": "2023-03-07T20:29:55.882Z"
   },
   {
    "duration": 97,
    "start_time": "2023-03-07T20:29:55.890Z"
   },
   {
    "duration": 93,
    "start_time": "2023-03-07T20:29:55.989Z"
   },
   {
    "duration": 1088,
    "start_time": "2023-03-08T07:51:35.923Z"
   },
   {
    "duration": 1032,
    "start_time": "2023-03-08T07:51:37.013Z"
   },
   {
    "duration": 106,
    "start_time": "2023-03-08T07:51:38.046Z"
   },
   {
    "duration": 129,
    "start_time": "2023-03-08T07:51:38.154Z"
   },
   {
    "duration": 514,
    "start_time": "2023-03-08T07:51:38.285Z"
   },
   {
    "duration": 51,
    "start_time": "2023-03-08T07:51:38.801Z"
   },
   {
    "duration": 120,
    "start_time": "2023-03-08T07:51:38.853Z"
   },
   {
    "duration": 82,
    "start_time": "2023-03-08T07:51:38.974Z"
   },
   {
    "duration": 114,
    "start_time": "2023-03-08T07:51:39.058Z"
   },
   {
    "duration": 184,
    "start_time": "2023-03-08T07:51:39.174Z"
   },
   {
    "duration": 111,
    "start_time": "2023-03-08T07:51:39.359Z"
   },
   {
    "duration": 24,
    "start_time": "2023-03-08T07:51:39.472Z"
   },
   {
    "duration": 70,
    "start_time": "2023-03-08T07:51:39.498Z"
   },
   {
    "duration": 12,
    "start_time": "2023-03-08T07:51:39.571Z"
   },
   {
    "duration": 4,
    "start_time": "2023-03-08T07:51:39.585Z"
   },
   {
    "duration": 58,
    "start_time": "2023-03-08T07:51:39.590Z"
   },
   {
    "duration": 61,
    "start_time": "2023-03-08T07:51:39.649Z"
   },
   {
    "duration": 84,
    "start_time": "2023-03-08T07:52:01.064Z"
   },
   {
    "duration": 100,
    "start_time": "2023-03-08T07:52:08.898Z"
   },
   {
    "duration": 11,
    "start_time": "2023-03-08T07:55:45.252Z"
   },
   {
    "duration": 1102,
    "start_time": "2023-03-08T08:00:38.907Z"
   },
   {
    "duration": 860,
    "start_time": "2023-03-08T08:00:40.011Z"
   },
   {
    "duration": 121,
    "start_time": "2023-03-08T08:00:40.875Z"
   },
   {
    "duration": 110,
    "start_time": "2023-03-08T08:00:40.998Z"
   },
   {
    "duration": 588,
    "start_time": "2023-03-08T08:00:41.110Z"
   },
   {
    "duration": 51,
    "start_time": "2023-03-08T08:00:41.700Z"
   },
   {
    "duration": 113,
    "start_time": "2023-03-08T08:00:41.753Z"
   },
   {
    "duration": 73,
    "start_time": "2023-03-08T08:00:41.868Z"
   },
   {
    "duration": 112,
    "start_time": "2023-03-08T08:00:41.943Z"
   },
   {
    "duration": 165,
    "start_time": "2023-03-08T08:00:42.056Z"
   },
   {
    "duration": 119,
    "start_time": "2023-03-08T08:00:42.223Z"
   },
   {
    "duration": 29,
    "start_time": "2023-03-08T08:00:42.343Z"
   },
   {
    "duration": 82,
    "start_time": "2023-03-08T08:00:42.375Z"
   },
   {
    "duration": 18,
    "start_time": "2023-03-08T08:00:42.458Z"
   },
   {
    "duration": 11,
    "start_time": "2023-03-08T08:00:42.478Z"
   },
   {
    "duration": 55,
    "start_time": "2023-03-08T08:00:42.490Z"
   },
   {
    "duration": 64,
    "start_time": "2023-03-08T08:00:42.547Z"
   },
   {
    "duration": 104,
    "start_time": "2023-03-08T08:00:42.614Z"
   },
   {
    "duration": 0,
    "start_time": "2023-03-08T08:00:42.720Z"
   },
   {
    "duration": 0,
    "start_time": "2023-03-08T08:00:42.731Z"
   },
   {
    "duration": 10,
    "start_time": "2023-03-08T08:00:50.644Z"
   },
   {
    "duration": 148,
    "start_time": "2023-03-08T08:00:51.606Z"
   },
   {
    "duration": 1127,
    "start_time": "2023-03-08T08:37:55.187Z"
   },
   {
    "duration": 854,
    "start_time": "2023-03-08T08:37:56.316Z"
   },
   {
    "duration": 141,
    "start_time": "2023-03-08T08:37:57.172Z"
   },
   {
    "duration": 126,
    "start_time": "2023-03-08T08:37:57.316Z"
   },
   {
    "duration": 532,
    "start_time": "2023-03-08T08:37:57.449Z"
   },
   {
    "duration": 61,
    "start_time": "2023-03-08T08:37:57.982Z"
   },
   {
    "duration": 120,
    "start_time": "2023-03-08T08:37:58.050Z"
   },
   {
    "duration": 82,
    "start_time": "2023-03-08T08:37:58.172Z"
   },
   {
    "duration": 123,
    "start_time": "2023-03-08T08:37:58.256Z"
   },
   {
    "duration": 178,
    "start_time": "2023-03-08T08:37:58.383Z"
   },
   {
    "duration": 123,
    "start_time": "2023-03-08T08:37:58.563Z"
   },
   {
    "duration": 27,
    "start_time": "2023-03-08T08:37:58.687Z"
   },
   {
    "duration": 79,
    "start_time": "2023-03-08T08:37:58.716Z"
   },
   {
    "duration": 17,
    "start_time": "2023-03-08T08:37:58.797Z"
   },
   {
    "duration": 35,
    "start_time": "2023-03-08T08:37:58.816Z"
   },
   {
    "duration": 65,
    "start_time": "2023-03-08T08:37:58.852Z"
   },
   {
    "duration": 201,
    "start_time": "2023-03-08T08:37:58.918Z"
   },
   {
    "duration": 57,
    "start_time": "2023-03-08T08:37:59.121Z"
   },
   {
    "duration": 109,
    "start_time": "2023-03-08T08:37:59.180Z"
   },
   {
    "duration": 0,
    "start_time": "2023-03-08T08:37:59.290Z"
   },
   {
    "duration": 0,
    "start_time": "2023-03-08T08:37:59.292Z"
   },
   {
    "duration": 1373,
    "start_time": "2023-03-08T08:38:52.016Z"
   },
   {
    "duration": 2,
    "start_time": "2023-03-08T08:39:08.189Z"
   },
   {
    "duration": 1284,
    "start_time": "2023-03-08T08:39:08.194Z"
   },
   {
    "duration": 117,
    "start_time": "2023-03-08T08:39:09.479Z"
   },
   {
    "duration": 115,
    "start_time": "2023-03-08T08:39:09.599Z"
   },
   {
    "duration": 568,
    "start_time": "2023-03-08T08:39:09.716Z"
   },
   {
    "duration": 59,
    "start_time": "2023-03-08T08:39:10.285Z"
   },
   {
    "duration": 111,
    "start_time": "2023-03-08T08:39:10.346Z"
   },
   {
    "duration": 83,
    "start_time": "2023-03-08T08:39:10.458Z"
   },
   {
    "duration": 113,
    "start_time": "2023-03-08T08:39:10.545Z"
   },
   {
    "duration": 164,
    "start_time": "2023-03-08T08:39:10.662Z"
   },
   {
    "duration": 136,
    "start_time": "2023-03-08T08:39:10.828Z"
   },
   {
    "duration": 27,
    "start_time": "2023-03-08T08:39:10.966Z"
   },
   {
    "duration": 96,
    "start_time": "2023-03-08T08:39:10.995Z"
   },
   {
    "duration": 22,
    "start_time": "2023-03-08T08:39:11.094Z"
   },
   {
    "duration": 10,
    "start_time": "2023-03-08T08:39:11.118Z"
   },
   {
    "duration": 73,
    "start_time": "2023-03-08T08:39:11.131Z"
   },
   {
    "duration": 197,
    "start_time": "2023-03-08T08:39:11.206Z"
   },
   {
    "duration": 77,
    "start_time": "2023-03-08T08:39:11.405Z"
   },
   {
    "duration": 14,
    "start_time": "2023-03-08T08:39:11.484Z"
   },
   {
    "duration": 0,
    "start_time": "2023-03-08T08:39:11.500Z"
   },
   {
    "duration": 1007,
    "start_time": "2023-03-08T09:10:58.986Z"
   },
   {
    "duration": 799,
    "start_time": "2023-03-08T09:11:01.133Z"
   },
   {
    "duration": 118,
    "start_time": "2023-03-08T09:11:05.057Z"
   },
   {
    "duration": 111,
    "start_time": "2023-03-08T09:11:06.322Z"
   },
   {
    "duration": 501,
    "start_time": "2023-03-08T09:11:09.927Z"
   },
   {
    "duration": 44,
    "start_time": "2023-03-08T09:11:11.131Z"
   },
   {
    "duration": 101,
    "start_time": "2023-03-08T09:11:12.209Z"
   },
   {
    "duration": 62,
    "start_time": "2023-03-08T09:11:14.724Z"
   },
   {
    "duration": 136,
    "start_time": "2023-03-08T09:11:16.510Z"
   },
   {
    "duration": 160,
    "start_time": "2023-03-08T09:11:19.418Z"
   },
   {
    "duration": 105,
    "start_time": "2023-03-08T09:11:20.536Z"
   },
   {
    "duration": 37,
    "start_time": "2023-03-08T09:11:22.884Z"
   },
   {
    "duration": 79,
    "start_time": "2023-03-08T09:11:24.649Z"
   },
   {
    "duration": 19,
    "start_time": "2023-03-08T09:11:27.114Z"
   },
   {
    "duration": 4,
    "start_time": "2023-03-08T09:11:27.866Z"
   },
   {
    "duration": 80,
    "start_time": "2023-03-08T09:11:30.555Z"
   },
   {
    "duration": 216,
    "start_time": "2023-03-08T09:11:32.875Z"
   },
   {
    "duration": 46,
    "start_time": "2023-03-08T09:11:34.938Z"
   },
   {
    "duration": 1247,
    "start_time": "2023-03-08T09:13:37.868Z"
   },
   {
    "duration": 3,
    "start_time": "2023-03-08T09:14:23.538Z"
   },
   {
    "duration": 1146,
    "start_time": "2023-03-08T09:14:23.543Z"
   },
   {
    "duration": 104,
    "start_time": "2023-03-08T09:14:24.691Z"
   },
   {
    "duration": 179,
    "start_time": "2023-03-08T09:14:24.797Z"
   },
   {
    "duration": 596,
    "start_time": "2023-03-08T09:14:24.980Z"
   },
   {
    "duration": 55,
    "start_time": "2023-03-08T09:14:25.579Z"
   },
   {
    "duration": 114,
    "start_time": "2023-03-08T09:14:25.636Z"
   },
   {
    "duration": 139,
    "start_time": "2023-03-08T09:14:25.757Z"
   },
   {
    "duration": 185,
    "start_time": "2023-03-08T09:14:25.898Z"
   },
   {
    "duration": 174,
    "start_time": "2023-03-08T09:14:26.085Z"
   },
   {
    "duration": 147,
    "start_time": "2023-03-08T09:14:26.263Z"
   },
   {
    "duration": 38,
    "start_time": "2023-03-08T09:14:26.411Z"
   },
   {
    "duration": 97,
    "start_time": "2023-03-08T09:14:26.451Z"
   },
   {
    "duration": 17,
    "start_time": "2023-03-08T09:14:26.552Z"
   },
   {
    "duration": 5,
    "start_time": "2023-03-08T09:14:26.572Z"
   },
   {
    "duration": 64,
    "start_time": "2023-03-08T09:14:26.579Z"
   },
   {
    "duration": 202,
    "start_time": "2023-03-08T09:14:26.645Z"
   },
   {
    "duration": 48,
    "start_time": "2023-03-08T09:14:26.849Z"
   },
   {
    "duration": 3,
    "start_time": "2023-03-08T09:20:48.651Z"
   },
   {
    "duration": 860,
    "start_time": "2023-03-08T09:20:48.657Z"
   },
   {
    "duration": 115,
    "start_time": "2023-03-08T09:20:49.519Z"
   },
   {
    "duration": 106,
    "start_time": "2023-03-08T09:20:49.636Z"
   },
   {
    "duration": 503,
    "start_time": "2023-03-08T09:20:49.745Z"
   },
   {
    "duration": 42,
    "start_time": "2023-03-08T09:20:50.250Z"
   },
   {
    "duration": 123,
    "start_time": "2023-03-08T09:20:50.294Z"
   },
   {
    "duration": 80,
    "start_time": "2023-03-08T09:20:50.419Z"
   },
   {
    "duration": 131,
    "start_time": "2023-03-08T09:20:50.501Z"
   },
   {
    "duration": 157,
    "start_time": "2023-03-08T09:20:50.635Z"
   },
   {
    "duration": 128,
    "start_time": "2023-03-08T09:20:50.794Z"
   },
   {
    "duration": 27,
    "start_time": "2023-03-08T09:20:50.930Z"
   },
   {
    "duration": 90,
    "start_time": "2023-03-08T09:20:50.959Z"
   },
   {
    "duration": 18,
    "start_time": "2023-03-08T09:20:51.052Z"
   },
   {
    "duration": 108,
    "start_time": "2023-03-08T09:20:51.072Z"
   },
   {
    "duration": 83,
    "start_time": "2023-03-08T09:20:51.182Z"
   },
   {
    "duration": 82,
    "start_time": "2023-03-08T09:21:00.315Z"
   },
   {
    "duration": 1395,
    "start_time": "2023-03-08T09:21:03.430Z"
   },
   {
    "duration": 138,
    "start_time": "2023-03-08T09:41:37.308Z"
   },
   {
    "duration": 6,
    "start_time": "2023-03-08T09:42:09.328Z"
   },
   {
    "duration": 930,
    "start_time": "2023-03-08T09:42:09.336Z"
   },
   {
    "duration": 142,
    "start_time": "2023-03-08T09:42:10.268Z"
   },
   {
    "duration": 139,
    "start_time": "2023-03-08T09:42:10.412Z"
   },
   {
    "duration": 510,
    "start_time": "2023-03-08T09:42:10.557Z"
   },
   {
    "duration": 43,
    "start_time": "2023-03-08T09:42:11.069Z"
   },
   {
    "duration": 133,
    "start_time": "2023-03-08T09:42:11.114Z"
   },
   {
    "duration": 86,
    "start_time": "2023-03-08T09:42:11.254Z"
   },
   {
    "duration": 118,
    "start_time": "2023-03-08T09:42:11.348Z"
   },
   {
    "duration": 156,
    "start_time": "2023-03-08T09:42:11.468Z"
   },
   {
    "duration": 117,
    "start_time": "2023-03-08T09:42:11.626Z"
   },
   {
    "duration": 28,
    "start_time": "2023-03-08T09:42:11.748Z"
   },
   {
    "duration": 71,
    "start_time": "2023-03-08T09:42:11.777Z"
   },
   {
    "duration": 16,
    "start_time": "2023-03-08T09:42:11.855Z"
   },
   {
    "duration": 4,
    "start_time": "2023-03-08T09:42:11.873Z"
   },
   {
    "duration": 61,
    "start_time": "2023-03-08T09:42:11.879Z"
   },
   {
    "duration": 202,
    "start_time": "2023-03-08T09:42:11.949Z"
   },
   {
    "duration": 50,
    "start_time": "2023-03-08T09:42:22.158Z"
   },
   {
    "duration": 36,
    "start_time": "2023-03-08T09:42:46.260Z"
   },
   {
    "duration": 37,
    "start_time": "2023-03-08T09:46:59.730Z"
   },
   {
    "duration": 32,
    "start_time": "2023-03-08T09:47:05.668Z"
   },
   {
    "duration": 881,
    "start_time": "2023-03-08T09:52:38.852Z"
   },
   {
    "duration": 877,
    "start_time": "2023-03-08T09:52:46.555Z"
   },
   {
    "duration": 899,
    "start_time": "2023-03-08T09:53:30.634Z"
   },
   {
    "duration": 808,
    "start_time": "2023-03-08T09:53:47.933Z"
   },
   {
    "duration": 33,
    "start_time": "2023-03-08T09:57:35.296Z"
   },
   {
    "duration": 11,
    "start_time": "2023-03-08T09:58:37.168Z"
   },
   {
    "duration": 44,
    "start_time": "2023-03-08T10:01:21.563Z"
   },
   {
    "duration": 1202,
    "start_time": "2023-03-08T10:01:39.425Z"
   },
   {
    "duration": 935,
    "start_time": "2023-03-08T10:01:40.629Z"
   },
   {
    "duration": 121,
    "start_time": "2023-03-08T10:01:41.566Z"
   },
   {
    "duration": 128,
    "start_time": "2023-03-08T10:01:41.689Z"
   },
   {
    "duration": 644,
    "start_time": "2023-03-08T10:01:41.818Z"
   },
   {
    "duration": 42,
    "start_time": "2023-03-08T10:01:42.464Z"
   },
   {
    "duration": 150,
    "start_time": "2023-03-08T10:01:42.508Z"
   },
   {
    "duration": 103,
    "start_time": "2023-03-08T10:01:42.660Z"
   },
   {
    "duration": 117,
    "start_time": "2023-03-08T10:01:42.765Z"
   },
   {
    "duration": 199,
    "start_time": "2023-03-08T10:01:42.886Z"
   },
   {
    "duration": 127,
    "start_time": "2023-03-08T10:01:43.087Z"
   },
   {
    "duration": 40,
    "start_time": "2023-03-08T10:01:43.217Z"
   },
   {
    "duration": 73,
    "start_time": "2023-03-08T10:01:43.258Z"
   },
   {
    "duration": 26,
    "start_time": "2023-03-08T10:01:43.334Z"
   },
   {
    "duration": 5,
    "start_time": "2023-03-08T10:01:43.362Z"
   },
   {
    "duration": 96,
    "start_time": "2023-03-08T10:01:43.369Z"
   },
   {
    "duration": 209,
    "start_time": "2023-03-08T10:01:43.467Z"
   },
   {
    "duration": 83,
    "start_time": "2023-03-08T10:01:43.678Z"
   },
   {
    "duration": 233,
    "start_time": "2023-03-08T10:01:43.763Z"
   },
   {
    "duration": 60,
    "start_time": "2023-03-08T10:08:29.195Z"
   },
   {
    "duration": 149,
    "start_time": "2023-03-08T10:13:58.590Z"
   },
   {
    "duration": 59,
    "start_time": "2023-03-08T10:14:09.189Z"
   },
   {
    "duration": 212,
    "start_time": "2023-03-08T10:14:13.543Z"
   },
   {
    "duration": 1144,
    "start_time": "2023-03-08T10:14:40.026Z"
   },
   {
    "duration": 915,
    "start_time": "2023-03-08T10:14:41.172Z"
   },
   {
    "duration": 112,
    "start_time": "2023-03-08T10:14:42.089Z"
   },
   {
    "duration": 122,
    "start_time": "2023-03-08T10:14:42.203Z"
   },
   {
    "duration": 646,
    "start_time": "2023-03-08T10:14:42.333Z"
   },
   {
    "duration": 41,
    "start_time": "2023-03-08T10:14:42.980Z"
   },
   {
    "duration": 138,
    "start_time": "2023-03-08T10:14:43.023Z"
   },
   {
    "duration": 84,
    "start_time": "2023-03-08T10:14:43.162Z"
   },
   {
    "duration": 121,
    "start_time": "2023-03-08T10:14:43.249Z"
   },
   {
    "duration": 177,
    "start_time": "2023-03-08T10:14:43.372Z"
   },
   {
    "duration": 125,
    "start_time": "2023-03-08T10:14:43.551Z"
   },
   {
    "duration": 30,
    "start_time": "2023-03-08T10:14:43.677Z"
   },
   {
    "duration": 81,
    "start_time": "2023-03-08T10:14:43.709Z"
   },
   {
    "duration": 17,
    "start_time": "2023-03-08T10:14:43.792Z"
   },
   {
    "duration": 4,
    "start_time": "2023-03-08T10:14:43.811Z"
   },
   {
    "duration": 44,
    "start_time": "2023-03-08T10:14:43.831Z"
   },
   {
    "duration": 354,
    "start_time": "2023-03-08T10:14:43.877Z"
   },
   {
    "duration": 134,
    "start_time": "2023-03-08T10:14:44.233Z"
   },
   {
    "duration": 29014,
    "start_time": "2023-03-08T10:14:44.369Z"
   },
   {
    "duration": 22,
    "start_time": "2023-03-08T10:26:03.134Z"
   },
   {
    "duration": 841,
    "start_time": "2023-03-08T10:26:32.744Z"
   },
   {
    "duration": 3361,
    "start_time": "2023-03-08T10:40:20.134Z"
   },
   {
    "duration": 1117,
    "start_time": "2023-03-08T10:50:50.525Z"
   },
   {
    "duration": 891,
    "start_time": "2023-03-08T10:50:51.647Z"
   },
   {
    "duration": 108,
    "start_time": "2023-03-08T10:50:52.539Z"
   },
   {
    "duration": 105,
    "start_time": "2023-03-08T10:50:52.650Z"
   },
   {
    "duration": 524,
    "start_time": "2023-03-08T10:50:52.758Z"
   },
   {
    "duration": 55,
    "start_time": "2023-03-08T10:50:53.283Z"
   },
   {
    "duration": 109,
    "start_time": "2023-03-08T10:50:53.340Z"
   },
   {
    "duration": 57,
    "start_time": "2023-03-08T10:50:53.451Z"
   },
   {
    "duration": 133,
    "start_time": "2023-03-08T10:50:53.510Z"
   },
   {
    "duration": 175,
    "start_time": "2023-03-08T10:50:53.646Z"
   },
   {
    "duration": 125,
    "start_time": "2023-03-08T10:50:53.824Z"
   },
   {
    "duration": 32,
    "start_time": "2023-03-08T10:50:53.951Z"
   },
   {
    "duration": 88,
    "start_time": "2023-03-08T10:50:53.985Z"
   },
   {
    "duration": 20,
    "start_time": "2023-03-08T10:50:54.076Z"
   },
   {
    "duration": 10,
    "start_time": "2023-03-08T10:50:54.099Z"
   },
   {
    "duration": 64,
    "start_time": "2023-03-08T10:50:54.111Z"
   },
   {
    "duration": 372,
    "start_time": "2023-03-08T10:50:54.177Z"
   },
   {
    "duration": 1581,
    "start_time": "2023-03-08T10:50:54.553Z"
   },
   {
    "duration": 0,
    "start_time": "2023-03-08T10:50:56.143Z"
   },
   {
    "duration": 0,
    "start_time": "2023-03-08T10:50:56.145Z"
   },
   {
    "duration": 4,
    "start_time": "2023-03-08T11:00:43.436Z"
   },
   {
    "duration": 829,
    "start_time": "2023-03-08T11:00:43.442Z"
   },
   {
    "duration": 146,
    "start_time": "2023-03-08T11:00:44.273Z"
   },
   {
    "duration": 113,
    "start_time": "2023-03-08T11:00:44.432Z"
   },
   {
    "duration": 608,
    "start_time": "2023-03-08T11:00:44.547Z"
   },
   {
    "duration": 44,
    "start_time": "2023-03-08T11:00:45.157Z"
   },
   {
    "duration": 128,
    "start_time": "2023-03-08T11:00:45.203Z"
   },
   {
    "duration": 59,
    "start_time": "2023-03-08T11:00:45.333Z"
   },
   {
    "duration": 113,
    "start_time": "2023-03-08T11:00:45.394Z"
   },
   {
    "duration": 201,
    "start_time": "2023-03-08T11:00:45.510Z"
   },
   {
    "duration": 158,
    "start_time": "2023-03-08T11:00:45.713Z"
   },
   {
    "duration": 35,
    "start_time": "2023-03-08T11:00:45.873Z"
   },
   {
    "duration": 99,
    "start_time": "2023-03-08T11:00:45.910Z"
   },
   {
    "duration": 22,
    "start_time": "2023-03-08T11:00:46.011Z"
   },
   {
    "duration": 28,
    "start_time": "2023-03-08T11:00:46.036Z"
   },
   {
    "duration": 92,
    "start_time": "2023-03-08T11:00:46.067Z"
   },
   {
    "duration": 365,
    "start_time": "2023-03-08T11:00:46.161Z"
   },
   {
    "duration": 108,
    "start_time": "2023-03-08T11:01:09.548Z"
   },
   {
    "duration": 12366,
    "start_time": "2023-03-08T11:05:10.507Z"
   },
   {
    "duration": 3,
    "start_time": "2023-03-08T11:25:04.638Z"
   },
   {
    "duration": 798,
    "start_time": "2023-03-08T11:25:04.643Z"
   },
   {
    "duration": 105,
    "start_time": "2023-03-08T11:25:05.442Z"
   },
   {
    "duration": 101,
    "start_time": "2023-03-08T11:25:05.548Z"
   },
   {
    "duration": 474,
    "start_time": "2023-03-08T11:25:05.651Z"
   },
   {
    "duration": 43,
    "start_time": "2023-03-08T11:25:06.127Z"
   },
   {
    "duration": 149,
    "start_time": "2023-03-08T11:25:06.172Z"
   },
   {
    "duration": 63,
    "start_time": "2023-03-08T11:25:06.322Z"
   },
   {
    "duration": 107,
    "start_time": "2023-03-08T11:25:06.387Z"
   },
   {
    "duration": 143,
    "start_time": "2023-03-08T11:25:06.496Z"
   },
   {
    "duration": 112,
    "start_time": "2023-03-08T11:25:06.641Z"
   },
   {
    "duration": 24,
    "start_time": "2023-03-08T11:25:06.755Z"
   },
   {
    "duration": 61,
    "start_time": "2023-03-08T11:25:06.780Z"
   },
   {
    "duration": 12,
    "start_time": "2023-03-08T11:25:06.844Z"
   },
   {
    "duration": 4,
    "start_time": "2023-03-08T11:25:06.858Z"
   },
   {
    "duration": 52,
    "start_time": "2023-03-08T11:25:06.864Z"
   },
   {
    "duration": 314,
    "start_time": "2023-03-08T11:25:06.931Z"
   },
   {
    "duration": 97,
    "start_time": "2023-03-08T11:25:07.247Z"
   },
   {
    "duration": 13187,
    "start_time": "2023-03-08T11:25:07.345Z"
   },
   {
    "duration": 2194,
    "start_time": "2023-03-08T11:33:36.338Z"
   },
   {
    "duration": 3,
    "start_time": "2023-03-08T11:34:08.917Z"
   },
   {
    "duration": 783,
    "start_time": "2023-03-08T11:34:09.538Z"
   },
   {
    "duration": 114,
    "start_time": "2023-03-08T11:34:10.324Z"
   },
   {
    "duration": 97,
    "start_time": "2023-03-08T11:34:13.259Z"
   },
   {
    "duration": 442,
    "start_time": "2023-03-08T11:34:16.361Z"
   },
   {
    "duration": 40,
    "start_time": "2023-03-08T11:34:17.217Z"
   },
   {
    "duration": 108,
    "start_time": "2023-03-08T11:34:17.785Z"
   },
   {
    "duration": 69,
    "start_time": "2023-03-08T11:34:21.086Z"
   },
   {
    "duration": 125,
    "start_time": "2023-03-08T11:34:21.506Z"
   },
   {
    "duration": 138,
    "start_time": "2023-03-08T11:34:21.830Z"
   },
   {
    "duration": 105,
    "start_time": "2023-03-08T11:34:24.768Z"
   },
   {
    "duration": 30,
    "start_time": "2023-03-08T11:34:25.113Z"
   },
   {
    "duration": 99,
    "start_time": "2023-03-08T11:34:28.645Z"
   },
   {
    "duration": 19,
    "start_time": "2023-03-08T11:34:30.005Z"
   },
   {
    "duration": 5,
    "start_time": "2023-03-08T11:34:30.707Z"
   },
   {
    "duration": 2751,
    "start_time": "2023-03-08T11:34:35.346Z"
   },
   {
    "duration": 72,
    "start_time": "2023-03-08T11:34:54.865Z"
   },
   {
    "duration": 2483,
    "start_time": "2023-03-08T11:34:57.386Z"
   },
   {
    "duration": 326,
    "start_time": "2023-03-08T11:35:10.184Z"
   },
   {
    "duration": 99,
    "start_time": "2023-03-08T11:35:11.723Z"
   },
   {
    "duration": 2929,
    "start_time": "2023-03-08T11:35:14.745Z"
   },
   {
    "duration": 21,
    "start_time": "2023-03-08T11:37:19.474Z"
   },
   {
    "duration": 2278,
    "start_time": "2023-03-08T11:37:34.617Z"
   },
   {
    "duration": 13618,
    "start_time": "2023-03-08T11:38:55.962Z"
   },
   {
    "duration": 1113,
    "start_time": "2023-03-08T11:40:19.844Z"
   },
   {
    "duration": 951,
    "start_time": "2023-03-08T11:40:20.959Z"
   },
   {
    "duration": 137,
    "start_time": "2023-03-08T11:40:21.912Z"
   },
   {
    "duration": 115,
    "start_time": "2023-03-08T11:40:22.052Z"
   },
   {
    "duration": 583,
    "start_time": "2023-03-08T11:40:22.169Z"
   },
   {
    "duration": 47,
    "start_time": "2023-03-08T11:40:22.754Z"
   },
   {
    "duration": 132,
    "start_time": "2023-03-08T11:40:22.803Z"
   },
   {
    "duration": 63,
    "start_time": "2023-03-08T11:40:22.937Z"
   },
   {
    "duration": 111,
    "start_time": "2023-03-08T11:40:23.001Z"
   },
   {
    "duration": 165,
    "start_time": "2023-03-08T11:40:23.114Z"
   },
   {
    "duration": 118,
    "start_time": "2023-03-08T11:40:23.280Z"
   },
   {
    "duration": 41,
    "start_time": "2023-03-08T11:40:23.399Z"
   },
   {
    "duration": 58,
    "start_time": "2023-03-08T11:40:23.442Z"
   },
   {
    "duration": 29,
    "start_time": "2023-03-08T11:40:23.502Z"
   },
   {
    "duration": 4,
    "start_time": "2023-03-08T11:40:23.533Z"
   },
   {
    "duration": 49,
    "start_time": "2023-03-08T11:40:23.539Z"
   },
   {
    "duration": 143,
    "start_time": "2023-03-08T11:40:23.589Z"
   },
   {
    "duration": 0,
    "start_time": "2023-03-08T11:40:23.734Z"
   },
   {
    "duration": 321,
    "start_time": "2023-03-08T11:41:46.479Z"
   },
   {
    "duration": 113,
    "start_time": "2023-03-08T11:41:47.487Z"
   },
   {
    "duration": 12528,
    "start_time": "2023-03-08T11:41:50.948Z"
   },
   {
    "duration": 446,
    "start_time": "2023-03-08T11:44:45.549Z"
   },
   {
    "duration": 127,
    "start_time": "2023-03-08T11:52:00.853Z"
   },
   {
    "duration": 69,
    "start_time": "2023-03-08T11:52:38.045Z"
   },
   {
    "duration": 73,
    "start_time": "2023-03-08T11:52:52.644Z"
   },
   {
    "duration": 23008,
    "start_time": "2023-03-08T11:53:29.377Z"
   },
   {
    "duration": 18257,
    "start_time": "2023-03-08T11:59:04.395Z"
   },
   {
    "duration": 18758,
    "start_time": "2023-03-08T11:59:27.409Z"
   },
   {
    "duration": 1783,
    "start_time": "2023-03-08T12:03:37.344Z"
   },
   {
    "duration": 1118,
    "start_time": "2023-03-08T12:07:52.303Z"
   },
   {
    "duration": 3,
    "start_time": "2023-03-08T12:10:03.921Z"
   },
   {
    "duration": 818,
    "start_time": "2023-03-08T12:10:03.926Z"
   },
   {
    "duration": 112,
    "start_time": "2023-03-08T12:10:04.745Z"
   },
   {
    "duration": 127,
    "start_time": "2023-03-08T12:10:04.859Z"
   },
   {
    "duration": 513,
    "start_time": "2023-03-08T12:10:04.989Z"
   },
   {
    "duration": 50,
    "start_time": "2023-03-08T12:10:05.503Z"
   },
   {
    "duration": 111,
    "start_time": "2023-03-08T12:10:05.554Z"
   },
   {
    "duration": 82,
    "start_time": "2023-03-08T12:10:05.667Z"
   },
   {
    "duration": 149,
    "start_time": "2023-03-08T12:10:05.751Z"
   },
   {
    "duration": 171,
    "start_time": "2023-03-08T12:10:05.903Z"
   },
   {
    "duration": 128,
    "start_time": "2023-03-08T12:10:06.075Z"
   },
   {
    "duration": 36,
    "start_time": "2023-03-08T12:10:06.205Z"
   },
   {
    "duration": 63,
    "start_time": "2023-03-08T12:10:06.243Z"
   },
   {
    "duration": 31,
    "start_time": "2023-03-08T12:10:06.309Z"
   },
   {
    "duration": 5,
    "start_time": "2023-03-08T12:10:06.341Z"
   },
   {
    "duration": 51,
    "start_time": "2023-03-08T12:10:06.348Z"
   },
   {
    "duration": 878,
    "start_time": "2023-03-08T12:11:21.045Z"
   },
   {
    "duration": 1001,
    "start_time": "2023-03-08T12:11:46.260Z"
   },
   {
    "duration": 1091,
    "start_time": "2023-03-08T12:11:55.502Z"
   },
   {
    "duration": 24650,
    "start_time": "2023-03-08T12:16:44.487Z"
   },
   {
    "duration": 19234,
    "start_time": "2023-03-08T12:18:36.822Z"
   },
   {
    "duration": 8231,
    "start_time": "2023-03-08T12:19:18.882Z"
   },
   {
    "duration": 8776,
    "start_time": "2023-03-08T12:19:37.932Z"
   },
   {
    "duration": 2,
    "start_time": "2023-03-08T12:21:00.129Z"
   },
   {
    "duration": 852,
    "start_time": "2023-03-08T12:21:00.133Z"
   },
   {
    "duration": 120,
    "start_time": "2023-03-08T12:21:00.987Z"
   },
   {
    "duration": 115,
    "start_time": "2023-03-08T12:21:01.108Z"
   },
   {
    "duration": 492,
    "start_time": "2023-03-08T12:21:01.230Z"
   },
   {
    "duration": 41,
    "start_time": "2023-03-08T12:21:01.723Z"
   },
   {
    "duration": 131,
    "start_time": "2023-03-08T12:21:01.766Z"
   },
   {
    "duration": 76,
    "start_time": "2023-03-08T12:21:01.899Z"
   },
   {
    "duration": 119,
    "start_time": "2023-03-08T12:21:01.977Z"
   },
   {
    "duration": 170,
    "start_time": "2023-03-08T12:21:02.099Z"
   },
   {
    "duration": 128,
    "start_time": "2023-03-08T12:21:02.271Z"
   },
   {
    "duration": 37,
    "start_time": "2023-03-08T12:21:02.401Z"
   },
   {
    "duration": 67,
    "start_time": "2023-03-08T12:21:02.440Z"
   },
   {
    "duration": 14,
    "start_time": "2023-03-08T12:21:02.510Z"
   },
   {
    "duration": 10,
    "start_time": "2023-03-08T12:21:02.531Z"
   },
   {
    "duration": 48,
    "start_time": "2023-03-08T12:21:02.543Z"
   },
   {
    "duration": 8082,
    "start_time": "2023-03-08T12:21:02.592Z"
   },
   {
    "duration": 29,
    "start_time": "2023-03-08T12:22:36.100Z"
   },
   {
    "duration": 270,
    "start_time": "2023-03-08T12:26:30.985Z"
   },
   {
    "duration": 313,
    "start_time": "2023-03-08T12:28:37.570Z"
   },
   {
    "duration": 231,
    "start_time": "2023-03-08T12:34:03.275Z"
   },
   {
    "duration": 260,
    "start_time": "2023-03-08T12:34:17.599Z"
   },
   {
    "duration": 34310,
    "start_time": "2023-03-08T12:35:06.997Z"
   },
   {
    "duration": 99521,
    "start_time": "2023-03-08T12:36:38.534Z"
   },
   {
    "duration": 1680,
    "start_time": "2023-03-08T12:38:31.917Z"
   },
   {
    "duration": 1117,
    "start_time": "2023-03-08T13:11:10.159Z"
   },
   {
    "duration": 837,
    "start_time": "2023-03-08T13:11:11.280Z"
   },
   {
    "duration": 113,
    "start_time": "2023-03-08T13:11:12.118Z"
   },
   {
    "duration": 112,
    "start_time": "2023-03-08T13:11:12.233Z"
   },
   {
    "duration": 592,
    "start_time": "2023-03-08T13:11:12.347Z"
   },
   {
    "duration": 41,
    "start_time": "2023-03-08T13:11:12.941Z"
   },
   {
    "duration": 111,
    "start_time": "2023-03-08T13:11:12.983Z"
   },
   {
    "duration": 70,
    "start_time": "2023-03-08T13:11:13.096Z"
   },
   {
    "duration": 110,
    "start_time": "2023-03-08T13:11:13.168Z"
   },
   {
    "duration": 168,
    "start_time": "2023-03-08T13:11:13.280Z"
   },
   {
    "duration": 119,
    "start_time": "2023-03-08T13:11:13.449Z"
   },
   {
    "duration": 32,
    "start_time": "2023-03-08T13:11:13.570Z"
   },
   {
    "duration": 72,
    "start_time": "2023-03-08T13:11:13.604Z"
   },
   {
    "duration": 17,
    "start_time": "2023-03-08T13:11:13.679Z"
   },
   {
    "duration": 7,
    "start_time": "2023-03-08T13:11:13.698Z"
   },
   {
    "duration": 63,
    "start_time": "2023-03-08T13:11:13.707Z"
   },
   {
    "duration": 7979,
    "start_time": "2023-03-08T13:11:13.772Z"
   },
   {
    "duration": 1698,
    "start_time": "2023-03-08T13:11:21.753Z"
   },
   {
    "duration": 245,
    "start_time": "2023-03-08T13:11:23.453Z"
   },
   {
    "duration": 21,
    "start_time": "2023-03-08T13:13:58.201Z"
   },
   {
    "duration": 34243,
    "start_time": "2023-03-08T13:14:46.696Z"
   },
   {
    "duration": 1124,
    "start_time": "2023-03-08T13:15:36.301Z"
   },
   {
    "duration": 905,
    "start_time": "2023-03-08T13:15:37.428Z"
   },
   {
    "duration": 134,
    "start_time": "2023-03-08T13:15:38.335Z"
   },
   {
    "duration": 121,
    "start_time": "2023-03-08T13:15:38.471Z"
   },
   {
    "duration": 576,
    "start_time": "2023-03-08T13:15:38.594Z"
   },
   {
    "duration": 42,
    "start_time": "2023-03-08T13:15:39.172Z"
   },
   {
    "duration": 129,
    "start_time": "2023-03-08T13:15:39.216Z"
   },
   {
    "duration": 66,
    "start_time": "2023-03-08T13:15:39.346Z"
   },
   {
    "duration": 131,
    "start_time": "2023-03-08T13:15:39.414Z"
   },
   {
    "duration": 171,
    "start_time": "2023-03-08T13:15:39.549Z"
   },
   {
    "duration": 125,
    "start_time": "2023-03-08T13:15:39.722Z"
   },
   {
    "duration": 34,
    "start_time": "2023-03-08T13:15:39.849Z"
   },
   {
    "duration": 75,
    "start_time": "2023-03-08T13:15:39.884Z"
   },
   {
    "duration": 17,
    "start_time": "2023-03-08T13:15:39.960Z"
   },
   {
    "duration": 4,
    "start_time": "2023-03-08T13:15:39.979Z"
   },
   {
    "duration": 63,
    "start_time": "2023-03-08T13:15:39.984Z"
   },
   {
    "duration": 8745,
    "start_time": "2023-03-08T13:15:40.048Z"
   },
   {
    "duration": 1755,
    "start_time": "2023-03-08T13:15:48.795Z"
   },
   {
    "duration": 38785,
    "start_time": "2023-03-08T13:15:50.552Z"
   },
   {
    "duration": 1384,
    "start_time": "2023-03-09T07:32:07.771Z"
   },
   {
    "duration": 12,
    "start_time": "2023-03-09T07:32:23.481Z"
   },
   {
    "duration": 8,
    "start_time": "2023-03-09T07:32:37.377Z"
   },
   {
    "duration": 3285,
    "start_time": "2023-03-09T07:32:37.387Z"
   },
   {
    "duration": 161,
    "start_time": "2023-03-09T07:32:40.674Z"
   },
   {
    "duration": 186,
    "start_time": "2023-03-09T07:32:40.837Z"
   },
   {
    "duration": 590,
    "start_time": "2023-03-09T07:32:41.026Z"
   },
   {
    "duration": 56,
    "start_time": "2023-03-09T07:32:41.618Z"
   },
   {
    "duration": 122,
    "start_time": "2023-03-09T07:32:41.676Z"
   },
   {
    "duration": 108,
    "start_time": "2023-03-09T07:32:41.800Z"
   },
   {
    "duration": 115,
    "start_time": "2023-03-09T07:32:41.910Z"
   },
   {
    "duration": 196,
    "start_time": "2023-03-09T07:32:42.027Z"
   },
   {
    "duration": 116,
    "start_time": "2023-03-09T07:32:42.225Z"
   },
   {
    "duration": 40,
    "start_time": "2023-03-09T07:32:42.343Z"
   },
   {
    "duration": 57,
    "start_time": "2023-03-09T07:32:42.385Z"
   },
   {
    "duration": 30,
    "start_time": "2023-03-09T07:32:42.444Z"
   },
   {
    "duration": 6,
    "start_time": "2023-03-09T07:32:42.476Z"
   },
   {
    "duration": 49,
    "start_time": "2023-03-09T07:32:42.484Z"
   },
   {
    "duration": 307737,
    "start_time": "2023-03-09T07:32:48.229Z"
   },
   {
    "duration": 31145,
    "start_time": "2023-03-09T07:38:38.981Z"
   },
   {
    "duration": 18,
    "start_time": "2023-03-09T07:45:23.762Z"
   },
   {
    "duration": 137,
    "start_time": "2023-03-09T07:45:43.919Z"
   },
   {
    "duration": 37273,
    "start_time": "2023-03-09T07:47:12.890Z"
   },
   {
    "duration": 39061,
    "start_time": "2023-03-09T07:48:45.996Z"
   },
   {
    "duration": 964226,
    "start_time": "2023-03-09T07:51:57.197Z"
   },
   {
    "duration": 3,
    "start_time": "2023-03-09T08:08:21.763Z"
   },
   {
    "duration": 1015,
    "start_time": "2023-03-09T08:08:21.768Z"
   },
   {
    "duration": 187,
    "start_time": "2023-03-09T08:08:22.785Z"
   },
   {
    "duration": 126,
    "start_time": "2023-03-09T08:08:22.976Z"
   },
   {
    "duration": 598,
    "start_time": "2023-03-09T08:08:23.105Z"
   },
   {
    "duration": 57,
    "start_time": "2023-03-09T08:08:23.706Z"
   },
   {
    "duration": 239,
    "start_time": "2023-03-09T08:08:23.766Z"
   },
   {
    "duration": 138,
    "start_time": "2023-03-09T08:08:24.008Z"
   },
   {
    "duration": 214,
    "start_time": "2023-03-09T08:08:24.152Z"
   },
   {
    "duration": 183,
    "start_time": "2023-03-09T08:08:24.368Z"
   },
   {
    "duration": 123,
    "start_time": "2023-03-09T08:08:24.553Z"
   },
   {
    "duration": 31,
    "start_time": "2023-03-09T08:08:24.679Z"
   },
   {
    "duration": 83,
    "start_time": "2023-03-09T08:08:24.712Z"
   },
   {
    "duration": 15,
    "start_time": "2023-03-09T08:08:24.798Z"
   },
   {
    "duration": 8,
    "start_time": "2023-03-09T08:08:24.816Z"
   },
   {
    "duration": 69,
    "start_time": "2023-03-09T08:08:24.826Z"
   },
   {
    "duration": 30070,
    "start_time": "2023-03-09T08:08:31.342Z"
   },
   {
    "duration": 31518,
    "start_time": "2023-03-09T08:12:30.341Z"
   },
   {
    "duration": 103630,
    "start_time": "2023-03-09T08:13:15.983Z"
   },
   {
    "duration": 1053,
    "start_time": "2023-03-09T11:04:45.493Z"
   },
   {
    "duration": 2884,
    "start_time": "2023-03-09T11:04:46.548Z"
   },
   {
    "duration": 126,
    "start_time": "2023-03-09T11:04:49.433Z"
   },
   {
    "duration": 133,
    "start_time": "2023-03-09T11:04:49.561Z"
   },
   {
    "duration": 521,
    "start_time": "2023-03-09T11:04:49.696Z"
   },
   {
    "duration": 57,
    "start_time": "2023-03-09T11:04:50.220Z"
   },
   {
    "duration": 145,
    "start_time": "2023-03-09T11:04:50.279Z"
   },
   {
    "duration": 62,
    "start_time": "2023-03-09T11:04:50.426Z"
   },
   {
    "duration": 110,
    "start_time": "2023-03-09T11:04:50.489Z"
   },
   {
    "duration": 163,
    "start_time": "2023-03-09T11:04:50.600Z"
   },
   {
    "duration": 112,
    "start_time": "2023-03-09T11:04:50.765Z"
   },
   {
    "duration": 26,
    "start_time": "2023-03-09T11:04:50.878Z"
   },
   {
    "duration": 60,
    "start_time": "2023-03-09T11:04:50.906Z"
   },
   {
    "duration": 16,
    "start_time": "2023-03-09T11:04:50.969Z"
   },
   {
    "duration": 15,
    "start_time": "2023-03-09T11:04:50.987Z"
   },
   {
    "duration": 53,
    "start_time": "2023-03-09T11:04:51.004Z"
   },
   {
    "duration": 403,
    "start_time": "2023-03-09T11:05:01.813Z"
   },
   {
    "duration": 263,
    "start_time": "2023-03-09T11:05:17.512Z"
   },
   {
    "duration": 1935,
    "start_time": "2023-03-09T11:11:20.518Z"
   },
   {
    "duration": 2087,
    "start_time": "2023-03-09T11:11:22.457Z"
   },
   {
    "duration": 313,
    "start_time": "2023-03-09T11:11:24.546Z"
   },
   {
    "duration": 464,
    "start_time": "2023-03-09T11:11:24.862Z"
   },
   {
    "duration": 1626,
    "start_time": "2023-03-09T11:11:25.329Z"
   },
   {
    "duration": 164,
    "start_time": "2023-03-09T11:11:26.957Z"
   },
   {
    "duration": 428,
    "start_time": "2023-03-09T11:11:27.124Z"
   },
   {
    "duration": 272,
    "start_time": "2023-03-09T11:11:27.554Z"
   },
   {
    "duration": 413,
    "start_time": "2023-03-09T11:11:27.829Z"
   },
   {
    "duration": 520,
    "start_time": "2023-03-09T11:11:28.246Z"
   },
   {
    "duration": 380,
    "start_time": "2023-03-09T11:11:28.768Z"
   },
   {
    "duration": 81,
    "start_time": "2023-03-09T11:11:29.151Z"
   },
   {
    "duration": 110,
    "start_time": "2023-03-09T11:11:29.233Z"
   },
   {
    "duration": 76,
    "start_time": "2023-03-09T11:11:29.346Z"
   },
   {
    "duration": 6,
    "start_time": "2023-03-09T11:11:29.424Z"
   },
   {
    "duration": 112,
    "start_time": "2023-03-09T11:11:29.431Z"
   },
   {
    "duration": 89142,
    "start_time": "2023-03-09T11:19:02.231Z"
   },
   {
    "duration": 87629,
    "start_time": "2023-03-09T11:20:37.194Z"
   },
   {
    "duration": 332078,
    "start_time": "2023-03-09T11:23:06.044Z"
   },
   {
    "duration": 822,
    "start_time": "2023-03-09T11:28:38.124Z"
   },
   {
    "duration": 17,
    "start_time": "2023-03-09T11:29:23.798Z"
   },
   {
    "duration": 693,
    "start_time": "2023-03-09T11:29:46.855Z"
   },
   {
    "duration": 103789,
    "start_time": "2023-03-09T11:31:42.615Z"
   },
   {
    "duration": 259,
    "start_time": "2023-03-09T11:34:05.129Z"
   },
   {
    "duration": 5,
    "start_time": "2023-03-09T11:36:19.579Z"
   },
   {
    "duration": 1116,
    "start_time": "2023-03-09T11:36:19.596Z"
   },
   {
    "duration": 165,
    "start_time": "2023-03-09T11:36:20.715Z"
   },
   {
    "duration": 199,
    "start_time": "2023-03-09T11:36:20.883Z"
   },
   {
    "duration": 539,
    "start_time": "2023-03-09T11:36:21.084Z"
   },
   {
    "duration": 60,
    "start_time": "2023-03-09T11:36:21.628Z"
   },
   {
    "duration": 135,
    "start_time": "2023-03-09T11:36:21.691Z"
   },
   {
    "duration": 76,
    "start_time": "2023-03-09T11:36:21.834Z"
   },
   {
    "duration": 138,
    "start_time": "2023-03-09T11:36:21.911Z"
   },
   {
    "duration": 227,
    "start_time": "2023-03-09T11:36:22.052Z"
   },
   {
    "duration": 114,
    "start_time": "2023-03-09T11:36:22.281Z"
   },
   {
    "duration": 42,
    "start_time": "2023-03-09T11:36:22.398Z"
   },
   {
    "duration": 55,
    "start_time": "2023-03-09T11:36:22.441Z"
   },
   {
    "duration": 36,
    "start_time": "2023-03-09T11:36:22.499Z"
   },
   {
    "duration": 9,
    "start_time": "2023-03-09T11:36:22.539Z"
   },
   {
    "duration": 93,
    "start_time": "2023-03-09T11:36:22.551Z"
   },
   {
    "duration": 124949,
    "start_time": "2023-03-09T11:36:27.658Z"
   },
   {
    "duration": 690,
    "start_time": "2023-03-09T11:39:51.567Z"
   },
   {
    "duration": 1110,
    "start_time": "2023-03-09T11:39:58.591Z"
   },
   {
    "duration": 1482,
    "start_time": "2023-03-09T11:40:04.457Z"
   },
   {
    "duration": 2170,
    "start_time": "2023-03-09T11:40:10.591Z"
   },
   {
    "duration": 2977,
    "start_time": "2023-03-09T11:40:17.280Z"
   },
   {
    "duration": 2828,
    "start_time": "2023-03-09T11:40:30.048Z"
   },
   {
    "duration": 2251,
    "start_time": "2023-03-09T11:40:37.791Z"
   },
   {
    "duration": 2278,
    "start_time": "2023-03-09T11:40:49.503Z"
   },
   {
    "duration": 3137,
    "start_time": "2023-03-09T11:40:56.451Z"
   },
   {
    "duration": 4058,
    "start_time": "2023-03-09T11:41:04.631Z"
   },
   {
    "duration": 11,
    "start_time": "2023-03-09T11:46:47.983Z"
   },
   {
    "duration": 0,
    "start_time": "2023-03-09T11:49:30.480Z"
   },
   {
    "duration": 26238,
    "start_time": "2023-03-09T11:49:32.767Z"
   },
   {
    "duration": 7226,
    "start_time": "2023-03-09T11:50:15.348Z"
   },
   {
    "duration": 29255,
    "start_time": "2023-03-09T11:50:31.436Z"
   },
   {
    "duration": 111644,
    "start_time": "2023-03-09T11:51:12.818Z"
   },
   {
    "duration": 4,
    "start_time": "2023-03-09T11:54:11.117Z"
   },
   {
    "duration": 961,
    "start_time": "2023-03-09T11:55:05.546Z"
   },
   {
    "duration": 3,
    "start_time": "2023-03-09T11:56:40.968Z"
   },
   {
    "duration": 3,
    "start_time": "2023-03-09T12:03:13.649Z"
   },
   {
    "duration": 838,
    "start_time": "2023-03-09T12:03:13.654Z"
   },
   {
    "duration": 112,
    "start_time": "2023-03-09T12:03:14.494Z"
   },
   {
    "duration": 126,
    "start_time": "2023-03-09T12:03:14.608Z"
   },
   {
    "duration": 462,
    "start_time": "2023-03-09T12:03:14.737Z"
   },
   {
    "duration": 53,
    "start_time": "2023-03-09T12:03:15.200Z"
   },
   {
    "duration": 123,
    "start_time": "2023-03-09T12:03:15.255Z"
   },
   {
    "duration": 83,
    "start_time": "2023-03-09T12:03:15.380Z"
   },
   {
    "duration": 113,
    "start_time": "2023-03-09T12:03:15.466Z"
   },
   {
    "duration": 156,
    "start_time": "2023-03-09T12:03:15.581Z"
   },
   {
    "duration": 110,
    "start_time": "2023-03-09T12:03:15.739Z"
   },
   {
    "duration": 32,
    "start_time": "2023-03-09T12:03:15.851Z"
   },
   {
    "duration": 70,
    "start_time": "2023-03-09T12:03:15.885Z"
   },
   {
    "duration": 14,
    "start_time": "2023-03-09T12:03:15.957Z"
   },
   {
    "duration": 5,
    "start_time": "2023-03-09T12:03:15.972Z"
   },
   {
    "duration": 68,
    "start_time": "2023-03-09T12:03:15.978Z"
   },
   {
    "duration": 6,
    "start_time": "2023-03-09T12:03:44.387Z"
   },
   {
    "duration": 14,
    "start_time": "2023-03-09T12:03:45.757Z"
   },
   {
    "duration": 17404,
    "start_time": "2023-03-09T12:08:10.193Z"
   },
   {
    "duration": 13,
    "start_time": "2023-03-09T12:08:34.553Z"
   },
   {
    "duration": 55,
    "start_time": "2023-03-09T12:08:57.990Z"
   },
   {
    "duration": 0,
    "start_time": "2023-03-09T12:10:31.795Z"
   },
   {
    "duration": 98004,
    "start_time": "2023-03-09T12:10:33.888Z"
   },
   {
    "duration": 1791,
    "start_time": "2023-03-09T12:14:09.440Z"
   },
   {
    "duration": 3,
    "start_time": "2023-03-09T12:20:05.585Z"
   },
   {
    "duration": 1221,
    "start_time": "2023-03-09T12:20:26.120Z"
   },
   {
    "duration": 908,
    "start_time": "2023-03-09T12:20:27.343Z"
   },
   {
    "duration": 139,
    "start_time": "2023-03-09T12:20:28.254Z"
   },
   {
    "duration": 130,
    "start_time": "2023-03-09T12:20:28.396Z"
   },
   {
    "duration": 571,
    "start_time": "2023-03-09T12:20:28.529Z"
   },
   {
    "duration": 56,
    "start_time": "2023-03-09T12:20:29.102Z"
   },
   {
    "duration": 125,
    "start_time": "2023-03-09T12:20:29.160Z"
   },
   {
    "duration": 94,
    "start_time": "2023-03-09T12:20:29.287Z"
   },
   {
    "duration": 128,
    "start_time": "2023-03-09T12:20:29.383Z"
   },
   {
    "duration": 217,
    "start_time": "2023-03-09T12:20:29.514Z"
   },
   {
    "duration": 141,
    "start_time": "2023-03-09T12:20:29.732Z"
   },
   {
    "duration": 28,
    "start_time": "2023-03-09T12:20:29.875Z"
   },
   {
    "duration": 71,
    "start_time": "2023-03-09T12:20:29.905Z"
   },
   {
    "duration": 19,
    "start_time": "2023-03-09T12:20:29.978Z"
   },
   {
    "duration": 25,
    "start_time": "2023-03-09T12:20:29.999Z"
   },
   {
    "duration": 84,
    "start_time": "2023-03-09T12:20:30.027Z"
   },
   {
    "duration": 282,
    "start_time": "2023-03-09T12:20:30.113Z"
   },
   {
    "duration": 147,
    "start_time": "2023-03-09T12:20:40.939Z"
   },
   {
    "duration": 155563,
    "start_time": "2023-03-09T12:21:46.433Z"
   },
   {
    "duration": 37328,
    "start_time": "2023-03-09T12:24:29.317Z"
   },
   {
    "duration": 1198,
    "start_time": "2023-03-09T12:30:23.864Z"
   },
   {
    "duration": 869,
    "start_time": "2023-03-09T12:30:25.064Z"
   },
   {
    "duration": 150,
    "start_time": "2023-03-09T12:30:25.934Z"
   },
   {
    "duration": 137,
    "start_time": "2023-03-09T12:30:26.087Z"
   },
   {
    "duration": 559,
    "start_time": "2023-03-09T12:30:26.232Z"
   },
   {
    "duration": 65,
    "start_time": "2023-03-09T12:30:26.792Z"
   },
   {
    "duration": 128,
    "start_time": "2023-03-09T12:30:26.859Z"
   },
   {
    "duration": 96,
    "start_time": "2023-03-09T12:30:26.989Z"
   },
   {
    "duration": 125,
    "start_time": "2023-03-09T12:30:27.087Z"
   },
   {
    "duration": 191,
    "start_time": "2023-03-09T12:30:27.222Z"
   },
   {
    "duration": 144,
    "start_time": "2023-03-09T12:30:27.415Z"
   },
   {
    "duration": 32,
    "start_time": "2023-03-09T12:30:27.564Z"
   },
   {
    "duration": 85,
    "start_time": "2023-03-09T12:30:27.598Z"
   },
   {
    "duration": 21,
    "start_time": "2023-03-09T12:30:27.686Z"
   },
   {
    "duration": 20,
    "start_time": "2023-03-09T12:30:27.709Z"
   },
   {
    "duration": 82,
    "start_time": "2023-03-09T12:30:27.731Z"
   },
   {
    "duration": 352,
    "start_time": "2023-03-09T12:30:27.815Z"
   },
   {
    "duration": 231751,
    "start_time": "2023-03-09T12:30:36.958Z"
   },
   {
    "duration": 1183,
    "start_time": "2023-03-09T16:23:50.587Z"
   },
   {
    "duration": 2997,
    "start_time": "2023-03-09T16:23:52.857Z"
   },
   {
    "duration": 120,
    "start_time": "2023-03-09T16:23:58.694Z"
   },
   {
    "duration": 110,
    "start_time": "2023-03-09T16:24:00.841Z"
   },
   {
    "duration": 536,
    "start_time": "2023-03-09T16:24:03.610Z"
   },
   {
    "duration": 47,
    "start_time": "2023-03-09T16:24:06.132Z"
   },
   {
    "duration": 106,
    "start_time": "2023-03-09T16:24:06.678Z"
   },
   {
    "duration": 66,
    "start_time": "2023-03-09T16:24:09.875Z"
   },
   {
    "duration": 107,
    "start_time": "2023-03-09T16:24:10.166Z"
   },
   {
    "duration": 150,
    "start_time": "2023-03-09T16:24:13.700Z"
   },
   {
    "duration": 102,
    "start_time": "2023-03-09T16:24:16.443Z"
   },
   {
    "duration": 34,
    "start_time": "2023-03-09T16:24:24.125Z"
   },
   {
    "duration": 58,
    "start_time": "2023-03-09T16:24:28.074Z"
   },
   {
    "duration": 18,
    "start_time": "2023-03-09T16:24:51.262Z"
   },
   {
    "duration": 5,
    "start_time": "2023-03-09T16:24:53.542Z"
   },
   {
    "duration": 56,
    "start_time": "2023-03-09T16:24:56.845Z"
   },
   {
    "duration": 239,
    "start_time": "2023-03-09T16:24:59.955Z"
   },
   {
    "duration": 87166,
    "start_time": "2023-03-09T16:25:01.228Z"
   },
   {
    "duration": 1154,
    "start_time": "2023-03-09T16:26:41.209Z"
   },
   {
    "duration": 104301,
    "start_time": "2023-03-09T16:26:48.076Z"
   },
   {
    "duration": 855,
    "start_time": "2023-03-09T16:33:55.713Z"
   },
   {
    "duration": 1518,
    "start_time": "2023-03-09T16:35:24.438Z"
   },
   {
    "duration": 1156,
    "start_time": "2023-03-09T16:35:42.058Z"
   },
   {
    "duration": 1129,
    "start_time": "2023-03-09T16:35:55.946Z"
   },
   {
    "duration": 1233,
    "start_time": "2023-03-09T16:42:29.105Z"
   },
   {
    "duration": 1259,
    "start_time": "2023-03-09T16:43:03.926Z"
   },
   {
    "duration": 3001,
    "start_time": "2023-03-09T16:43:05.187Z"
   },
   {
    "duration": 112,
    "start_time": "2023-03-09T16:43:08.189Z"
   },
   {
    "duration": 109,
    "start_time": "2023-03-09T16:43:08.304Z"
   },
   {
    "duration": 518,
    "start_time": "2023-03-09T16:43:08.415Z"
   },
   {
    "duration": 51,
    "start_time": "2023-03-09T16:43:08.936Z"
   },
   {
    "duration": 131,
    "start_time": "2023-03-09T16:43:08.989Z"
   },
   {
    "duration": 65,
    "start_time": "2023-03-09T16:43:09.121Z"
   },
   {
    "duration": 112,
    "start_time": "2023-03-09T16:43:09.188Z"
   },
   {
    "duration": 152,
    "start_time": "2023-03-09T16:43:09.313Z"
   },
   {
    "duration": 123,
    "start_time": "2023-03-09T16:43:09.467Z"
   },
   {
    "duration": 36,
    "start_time": "2023-03-09T16:43:09.592Z"
   },
   {
    "duration": 59,
    "start_time": "2023-03-09T16:43:09.630Z"
   },
   {
    "duration": 30,
    "start_time": "2023-03-09T16:43:09.691Z"
   },
   {
    "duration": 7,
    "start_time": "2023-03-09T16:43:09.723Z"
   },
   {
    "duration": 47,
    "start_time": "2023-03-09T16:43:09.732Z"
   },
   {
    "duration": 232,
    "start_time": "2023-03-09T16:43:26.544Z"
   },
   {
    "duration": 1268,
    "start_time": "2023-03-09T18:20:45.827Z"
   },
   {
    "duration": 1101,
    "start_time": "2023-03-09T18:20:47.097Z"
   },
   {
    "duration": 141,
    "start_time": "2023-03-09T18:20:48.200Z"
   },
   {
    "duration": 151,
    "start_time": "2023-03-09T18:20:48.343Z"
   },
   {
    "duration": 532,
    "start_time": "2023-03-09T18:20:48.497Z"
   },
   {
    "duration": 47,
    "start_time": "2023-03-09T18:20:49.030Z"
   },
   {
    "duration": 138,
    "start_time": "2023-03-09T18:20:49.079Z"
   },
   {
    "duration": 79,
    "start_time": "2023-03-09T18:20:49.219Z"
   },
   {
    "duration": 140,
    "start_time": "2023-03-09T18:20:49.300Z"
   },
   {
    "duration": 175,
    "start_time": "2023-03-09T18:20:49.441Z"
   },
   {
    "duration": 123,
    "start_time": "2023-03-09T18:20:49.618Z"
   },
   {
    "duration": 26,
    "start_time": "2023-03-09T18:20:49.743Z"
   },
   {
    "duration": 65,
    "start_time": "2023-03-09T18:20:49.770Z"
   },
   {
    "duration": 15,
    "start_time": "2023-03-09T18:20:49.838Z"
   },
   {
    "duration": 8,
    "start_time": "2023-03-09T18:20:49.855Z"
   },
   {
    "duration": 63,
    "start_time": "2023-03-09T18:20:49.864Z"
   },
   {
    "duration": 271,
    "start_time": "2023-03-09T18:20:49.930Z"
   },
   {
    "duration": 49,
    "start_time": "2023-03-09T18:26:21.590Z"
   },
   {
    "duration": 7,
    "start_time": "2023-03-09T18:26:54.089Z"
   },
   {
    "duration": 1150,
    "start_time": "2023-03-09T18:27:03.064Z"
   },
   {
    "duration": 1068,
    "start_time": "2023-03-09T18:27:04.216Z"
   },
   {
    "duration": 131,
    "start_time": "2023-03-09T18:27:05.285Z"
   },
   {
    "duration": 126,
    "start_time": "2023-03-09T18:27:05.418Z"
   },
   {
    "duration": 526,
    "start_time": "2023-03-09T18:27:05.546Z"
   },
   {
    "duration": 46,
    "start_time": "2023-03-09T18:27:06.074Z"
   },
   {
    "duration": 141,
    "start_time": "2023-03-09T18:27:06.121Z"
   },
   {
    "duration": 92,
    "start_time": "2023-03-09T18:27:06.263Z"
   },
   {
    "duration": 134,
    "start_time": "2023-03-09T18:27:06.357Z"
   },
   {
    "duration": 231,
    "start_time": "2023-03-09T18:27:06.494Z"
   },
   {
    "duration": 139,
    "start_time": "2023-03-09T18:27:06.730Z"
   },
   {
    "duration": 28,
    "start_time": "2023-03-09T18:27:06.871Z"
   },
   {
    "duration": 68,
    "start_time": "2023-03-09T18:27:06.900Z"
   },
   {
    "duration": 18,
    "start_time": "2023-03-09T18:27:06.970Z"
   },
   {
    "duration": 16,
    "start_time": "2023-03-09T18:27:06.990Z"
   },
   {
    "duration": 64,
    "start_time": "2023-03-09T18:27:07.008Z"
   },
   {
    "duration": 262,
    "start_time": "2023-03-09T18:27:07.074Z"
   },
   {
    "duration": 66,
    "start_time": "2023-03-09T18:28:09.763Z"
   },
   {
    "duration": 3345,
    "start_time": "2023-03-09T18:28:11.524Z"
   },
   {
    "duration": 20,
    "start_time": "2023-03-09T18:28:39.939Z"
   },
   {
    "duration": 172,
    "start_time": "2023-03-09T18:35:00.879Z"
   },
   {
    "duration": 247,
    "start_time": "2023-03-09T18:35:48.510Z"
   },
   {
    "duration": 3863,
    "start_time": "2023-03-09T18:36:25.170Z"
   },
   {
    "duration": 95544,
    "start_time": "2023-03-09T18:41:14.306Z"
   },
   {
    "duration": 5,
    "start_time": "2023-03-09T18:44:32.809Z"
   },
   {
    "duration": 1325,
    "start_time": "2023-03-09T18:48:16.404Z"
   },
   {
    "duration": 1004,
    "start_time": "2023-03-09T18:48:17.731Z"
   },
   {
    "duration": 184,
    "start_time": "2023-03-09T18:48:18.737Z"
   },
   {
    "duration": 190,
    "start_time": "2023-03-09T18:48:18.923Z"
   },
   {
    "duration": 624,
    "start_time": "2023-03-09T18:48:19.115Z"
   },
   {
    "duration": 69,
    "start_time": "2023-03-09T18:48:19.742Z"
   },
   {
    "duration": 180,
    "start_time": "2023-03-09T18:48:19.813Z"
   },
   {
    "duration": 116,
    "start_time": "2023-03-09T18:48:19.994Z"
   },
   {
    "duration": 189,
    "start_time": "2023-03-09T18:48:20.112Z"
   },
   {
    "duration": 257,
    "start_time": "2023-03-09T18:48:20.303Z"
   },
   {
    "duration": 143,
    "start_time": "2023-03-09T18:48:20.566Z"
   },
   {
    "duration": 34,
    "start_time": "2023-03-09T18:48:20.711Z"
   },
   {
    "duration": 64,
    "start_time": "2023-03-09T18:48:20.747Z"
   },
   {
    "duration": 47,
    "start_time": "2023-03-09T18:48:20.814Z"
   },
   {
    "duration": 16,
    "start_time": "2023-03-09T18:48:20.865Z"
   },
   {
    "duration": 83,
    "start_time": "2023-03-09T18:48:20.883Z"
   },
   {
    "duration": 356,
    "start_time": "2023-03-09T18:48:20.969Z"
   },
   {
    "duration": 132832,
    "start_time": "2023-03-09T18:48:21.327Z"
   },
   {
    "duration": 58,
    "start_time": "2023-03-09T18:50:34.161Z"
   },
   {
    "duration": 124965,
    "start_time": "2023-03-09T18:50:34.221Z"
   },
   {
    "duration": 46,
    "start_time": "2023-03-09T18:52:39.188Z"
   },
   {
    "duration": 133997,
    "start_time": "2023-03-09T18:52:39.237Z"
   },
   {
    "duration": 223,
    "start_time": "2023-03-09T18:54:53.236Z"
   },
   {
    "duration": 114,
    "start_time": "2023-03-09T18:58:01.686Z"
   },
   {
    "duration": 2,
    "start_time": "2023-03-09T18:58:05.467Z"
   },
   {
    "duration": 59,
    "start_time": "2023-03-09T18:58:06.127Z"
   },
   {
    "duration": 33,
    "start_time": "2023-03-09T18:58:27.855Z"
   },
   {
    "duration": 56,
    "start_time": "2023-03-09T18:59:02.113Z"
   },
   {
    "duration": 1253,
    "start_time": "2023-03-09T19:02:27.245Z"
   },
   {
    "duration": 900,
    "start_time": "2023-03-09T19:02:28.501Z"
   },
   {
    "duration": 198,
    "start_time": "2023-03-09T19:02:29.403Z"
   },
   {
    "duration": 182,
    "start_time": "2023-03-09T19:02:32.432Z"
   },
   {
    "duration": 632,
    "start_time": "2023-03-09T19:02:37.547Z"
   },
   {
    "duration": 212,
    "start_time": "2023-03-09T19:02:57.330Z"
   },
   {
    "duration": 156,
    "start_time": "2023-03-09T19:03:03.109Z"
   },
   {
    "duration": 77,
    "start_time": "2023-03-09T19:03:29.252Z"
   },
   {
    "duration": 46,
    "start_time": "2023-03-09T19:03:51.019Z"
   },
   {
    "duration": 111,
    "start_time": "2023-03-09T19:03:52.712Z"
   },
   {
    "duration": 77,
    "start_time": "2023-03-09T19:04:02.458Z"
   },
   {
    "duration": 40,
    "start_time": "2023-03-09T19:04:30.126Z"
   },
   {
    "duration": 69,
    "start_time": "2023-03-09T19:04:43.495Z"
   },
   {
    "duration": 53,
    "start_time": "2023-03-09T19:04:52.566Z"
   },
   {
    "duration": 4,
    "start_time": "2023-03-09T19:08:30.878Z"
   },
   {
    "duration": 902,
    "start_time": "2023-03-09T19:08:31.353Z"
   },
   {
    "duration": 140,
    "start_time": "2023-03-09T19:08:32.257Z"
   },
   {
    "duration": 140,
    "start_time": "2023-03-09T19:08:36.077Z"
   },
   {
    "duration": 527,
    "start_time": "2023-03-09T19:08:38.663Z"
   },
   {
    "duration": 55,
    "start_time": "2023-03-09T19:08:43.916Z"
   },
   {
    "duration": 153,
    "start_time": "2023-03-09T19:08:44.916Z"
   },
   {
    "duration": 238,
    "start_time": "2023-03-09T19:08:52.057Z"
   },
   {
    "duration": 138,
    "start_time": "2023-03-09T19:08:57.378Z"
   },
   {
    "duration": 40,
    "start_time": "2023-03-09T19:09:07.024Z"
   },
   {
    "duration": 44,
    "start_time": "2023-03-09T19:09:25.559Z"
   },
   {
    "duration": 42,
    "start_time": "2023-03-09T19:09:36.432Z"
   },
   {
    "duration": 3,
    "start_time": "2023-03-09T19:11:07.836Z"
   },
   {
    "duration": 846,
    "start_time": "2023-03-09T19:11:07.841Z"
   },
   {
    "duration": 142,
    "start_time": "2023-03-09T19:11:08.689Z"
   },
   {
    "duration": 131,
    "start_time": "2023-03-09T19:11:08.833Z"
   },
   {
    "duration": 462,
    "start_time": "2023-03-09T19:11:08.966Z"
   },
   {
    "duration": 45,
    "start_time": "2023-03-09T19:11:09.430Z"
   },
   {
    "duration": 136,
    "start_time": "2023-03-09T19:11:09.477Z"
   },
   {
    "duration": 179,
    "start_time": "2023-03-09T19:11:09.615Z"
   },
   {
    "duration": 126,
    "start_time": "2023-03-09T19:11:09.796Z"
   },
   {
    "duration": 27,
    "start_time": "2023-03-09T19:11:18.750Z"
   },
   {
    "duration": 1202,
    "start_time": "2023-03-09T19:11:43.499Z"
   },
   {
    "duration": 930,
    "start_time": "2023-03-09T19:11:44.703Z"
   },
   {
    "duration": 142,
    "start_time": "2023-03-09T19:11:45.635Z"
   },
   {
    "duration": 180,
    "start_time": "2023-03-09T19:11:45.779Z"
   },
   {
    "duration": 548,
    "start_time": "2023-03-09T19:11:45.961Z"
   },
   {
    "duration": 60,
    "start_time": "2023-03-09T19:11:46.510Z"
   },
   {
    "duration": 182,
    "start_time": "2023-03-09T19:11:46.573Z"
   },
   {
    "duration": 194,
    "start_time": "2023-03-09T19:11:46.758Z"
   },
   {
    "duration": 135,
    "start_time": "2023-03-09T19:11:46.953Z"
   },
   {
    "duration": 30,
    "start_time": "2023-03-09T19:12:03.663Z"
   },
   {
    "duration": 46,
    "start_time": "2023-03-09T19:12:05.145Z"
   },
   {
    "duration": 87,
    "start_time": "2023-03-09T19:12:08.995Z"
   },
   {
    "duration": 74,
    "start_time": "2023-03-09T19:12:16.262Z"
   },
   {
    "duration": 58,
    "start_time": "2023-03-09T19:12:23.764Z"
   },
   {
    "duration": 44,
    "start_time": "2023-03-09T19:12:29.296Z"
   },
   {
    "duration": 17,
    "start_time": "2023-03-09T19:12:30.278Z"
   },
   {
    "duration": 6,
    "start_time": "2023-03-09T19:12:37.354Z"
   },
   {
    "duration": 76,
    "start_time": "2023-03-09T19:12:39.762Z"
   },
   {
    "duration": 343,
    "start_time": "2023-03-09T19:12:43.780Z"
   },
   {
    "duration": 125582,
    "start_time": "2023-03-09T19:12:46.028Z"
   },
   {
    "duration": 50,
    "start_time": "2023-03-09T19:15:13.396Z"
   },
   {
    "duration": 99632,
    "start_time": "2023-03-09T19:15:20.803Z"
   },
   {
    "duration": 33,
    "start_time": "2023-03-09T19:17:18.981Z"
   },
   {
    "duration": 105514,
    "start_time": "2023-03-09T19:17:23.517Z"
   },
   {
    "duration": 207,
    "start_time": "2023-03-09T19:19:23.436Z"
   },
   {
    "duration": 3,
    "start_time": "2023-03-09T19:19:29.416Z"
   },
   {
    "duration": 33,
    "start_time": "2023-03-09T19:19:30.832Z"
   },
   {
    "duration": 51,
    "start_time": "2023-03-09T19:21:24.730Z"
   },
   {
    "duration": 3,
    "start_time": "2023-03-09T19:22:26.002Z"
   },
   {
    "duration": 892,
    "start_time": "2023-03-09T19:22:26.008Z"
   },
   {
    "duration": 153,
    "start_time": "2023-03-09T19:22:26.902Z"
   },
   {
    "duration": 137,
    "start_time": "2023-03-09T19:22:27.056Z"
   },
   {
    "duration": 478,
    "start_time": "2023-03-09T19:22:27.196Z"
   },
   {
    "duration": 56,
    "start_time": "2023-03-09T19:22:27.675Z"
   },
   {
    "duration": 146,
    "start_time": "2023-03-09T19:22:27.733Z"
   },
   {
    "duration": 187,
    "start_time": "2023-03-09T19:22:27.880Z"
   },
   {
    "duration": 125,
    "start_time": "2023-03-09T19:22:28.070Z"
   },
   {
    "duration": 34,
    "start_time": "2023-03-09T19:22:28.197Z"
   },
   {
    "duration": 48,
    "start_time": "2023-03-09T19:22:28.233Z"
   },
   {
    "duration": 78,
    "start_time": "2023-03-09T19:22:28.283Z"
   },
   {
    "duration": 46,
    "start_time": "2023-03-09T19:22:28.363Z"
   },
   {
    "duration": 56,
    "start_time": "2023-03-09T19:22:28.412Z"
   },
   {
    "duration": 69,
    "start_time": "2023-03-09T19:22:28.469Z"
   },
   {
    "duration": 18,
    "start_time": "2023-03-09T19:22:28.539Z"
   },
   {
    "duration": 3,
    "start_time": "2023-03-09T19:22:28.559Z"
   },
   {
    "duration": 1322,
    "start_time": "2023-03-09T19:22:50.905Z"
   },
   {
    "duration": 864,
    "start_time": "2023-03-09T19:22:52.229Z"
   },
   {
    "duration": 160,
    "start_time": "2023-03-09T19:22:53.095Z"
   },
   {
    "duration": 142,
    "start_time": "2023-03-09T19:22:53.256Z"
   },
   {
    "duration": 554,
    "start_time": "2023-03-09T19:22:53.401Z"
   },
   {
    "duration": 48,
    "start_time": "2023-03-09T19:22:53.956Z"
   },
   {
    "duration": 165,
    "start_time": "2023-03-09T19:22:54.006Z"
   },
   {
    "duration": 191,
    "start_time": "2023-03-09T19:22:54.173Z"
   },
   {
    "duration": 134,
    "start_time": "2023-03-09T19:22:54.366Z"
   },
   {
    "duration": 46,
    "start_time": "2023-03-09T19:22:54.502Z"
   },
   {
    "duration": 51,
    "start_time": "2023-03-09T19:22:54.551Z"
   },
   {
    "duration": 75,
    "start_time": "2023-03-09T19:22:54.604Z"
   },
   {
    "duration": 52,
    "start_time": "2023-03-09T19:22:54.680Z"
   },
   {
    "duration": 37,
    "start_time": "2023-03-09T19:22:54.736Z"
   },
   {
    "duration": 62,
    "start_time": "2023-03-09T19:22:54.775Z"
   },
   {
    "duration": 19,
    "start_time": "2023-03-09T19:22:54.839Z"
   },
   {
    "duration": 7,
    "start_time": "2023-03-09T19:22:54.859Z"
   },
   {
    "duration": 72,
    "start_time": "2023-03-09T19:22:54.867Z"
   },
   {
    "duration": 233,
    "start_time": "2023-03-09T19:23:06.106Z"
   },
   {
    "duration": 177,
    "start_time": "2023-03-09T19:23:12.217Z"
   },
   {
    "duration": 81,
    "start_time": "2023-03-09T19:25:15.421Z"
   },
   {
    "duration": 79,
    "start_time": "2023-03-09T19:25:34.938Z"
   },
   {
    "duration": 81,
    "start_time": "2023-03-09T19:25:58.003Z"
   },
   {
    "duration": 80,
    "start_time": "2023-03-09T19:26:18.180Z"
   },
   {
    "duration": 113823,
    "start_time": "2023-03-09T19:26:29.910Z"
   },
   {
    "duration": 69,
    "start_time": "2023-03-09T19:28:41.094Z"
   },
   {
    "duration": 39748,
    "start_time": "2023-03-09T19:29:10.869Z"
   },
   {
    "duration": 1172,
    "start_time": "2023-03-09T19:38:04.384Z"
   },
   {
    "duration": 997,
    "start_time": "2023-03-09T19:38:05.558Z"
   },
   {
    "duration": 235,
    "start_time": "2023-03-09T19:38:06.559Z"
   },
   {
    "duration": 204,
    "start_time": "2023-03-09T19:38:06.797Z"
   },
   {
    "duration": 586,
    "start_time": "2023-03-09T19:38:07.004Z"
   },
   {
    "duration": 70,
    "start_time": "2023-03-09T19:38:07.593Z"
   },
   {
    "duration": 141,
    "start_time": "2023-03-09T19:38:07.664Z"
   },
   {
    "duration": 195,
    "start_time": "2023-03-09T19:38:07.806Z"
   },
   {
    "duration": 165,
    "start_time": "2023-03-09T19:38:08.003Z"
   },
   {
    "duration": 29,
    "start_time": "2023-03-09T19:38:08.170Z"
   },
   {
    "duration": 71,
    "start_time": "2023-03-09T19:38:08.201Z"
   },
   {
    "duration": 84,
    "start_time": "2023-03-09T19:38:08.274Z"
   },
   {
    "duration": 44,
    "start_time": "2023-03-09T19:38:08.360Z"
   },
   {
    "duration": 71,
    "start_time": "2023-03-09T19:38:08.409Z"
   },
   {
    "duration": 52,
    "start_time": "2023-03-09T19:38:08.482Z"
   },
   {
    "duration": 22,
    "start_time": "2023-03-09T19:38:08.535Z"
   },
   {
    "duration": 4,
    "start_time": "2023-03-09T19:38:08.559Z"
   },
   {
    "duration": 289,
    "start_time": "2023-03-09T19:38:08.565Z"
   },
   {
    "duration": 1200,
    "start_time": "2023-03-09T19:52:30.696Z"
   },
   {
    "duration": 952,
    "start_time": "2023-03-09T19:52:31.898Z"
   },
   {
    "duration": 149,
    "start_time": "2023-03-09T19:52:32.851Z"
   },
   {
    "duration": 162,
    "start_time": "2023-03-09T19:52:33.002Z"
   },
   {
    "duration": 560,
    "start_time": "2023-03-09T19:52:33.166Z"
   },
   {
    "duration": 59,
    "start_time": "2023-03-09T19:52:33.728Z"
   },
   {
    "duration": 159,
    "start_time": "2023-03-09T19:52:33.789Z"
   },
   {
    "duration": 213,
    "start_time": "2023-03-09T19:52:33.950Z"
   },
   {
    "duration": 150,
    "start_time": "2023-03-09T19:52:34.165Z"
   },
   {
    "duration": 39,
    "start_time": "2023-03-09T19:52:34.317Z"
   },
   {
    "duration": 57,
    "start_time": "2023-03-09T19:52:34.358Z"
   },
   {
    "duration": 69,
    "start_time": "2023-03-09T19:52:34.432Z"
   },
   {
    "duration": 62,
    "start_time": "2023-03-09T19:52:34.502Z"
   },
   {
    "duration": 41,
    "start_time": "2023-03-09T19:52:34.567Z"
   },
   {
    "duration": 52,
    "start_time": "2023-03-09T19:52:34.609Z"
   },
   {
    "duration": 17,
    "start_time": "2023-03-09T19:52:34.663Z"
   },
   {
    "duration": 10,
    "start_time": "2023-03-09T19:52:34.682Z"
   },
   {
    "duration": 271,
    "start_time": "2023-03-09T19:52:34.693Z"
   },
   {
    "duration": 1261,
    "start_time": "2023-03-09T20:27:47.164Z"
   },
   {
    "duration": 970,
    "start_time": "2023-03-09T20:27:49.519Z"
   },
   {
    "duration": 178,
    "start_time": "2023-03-09T20:27:53.329Z"
   },
   {
    "duration": 169,
    "start_time": "2023-03-09T20:27:55.017Z"
   },
   {
    "duration": 571,
    "start_time": "2023-03-09T20:27:57.913Z"
   },
   {
    "duration": 53,
    "start_time": "2023-03-09T20:28:00.763Z"
   },
   {
    "duration": 186,
    "start_time": "2023-03-09T20:28:02.062Z"
   },
   {
    "duration": 256,
    "start_time": "2023-03-09T20:28:03.964Z"
   },
   {
    "duration": 153,
    "start_time": "2023-03-09T20:28:06.687Z"
   },
   {
    "duration": 24,
    "start_time": "2023-03-09T20:28:09.961Z"
   },
   {
    "duration": 56,
    "start_time": "2023-03-09T20:28:11.883Z"
   },
   {
    "duration": 64,
    "start_time": "2023-03-09T20:28:12.847Z"
   },
   {
    "duration": 77,
    "start_time": "2023-03-09T20:28:22.032Z"
   },
   {
    "duration": 89,
    "start_time": "2023-03-09T20:28:32.506Z"
   },
   {
    "duration": 66,
    "start_time": "2023-03-09T20:28:39.274Z"
   },
   {
    "duration": 18,
    "start_time": "2023-03-09T20:28:40.478Z"
   },
   {
    "duration": 5,
    "start_time": "2023-03-09T20:28:41.900Z"
   },
   {
    "duration": 322,
    "start_time": "2023-03-09T20:28:47.483Z"
   },
   {
    "duration": 245,
    "start_time": "2023-03-09T20:31:07.066Z"
   },
   {
    "duration": 151,
    "start_time": "2023-03-09T20:32:36.656Z"
   },
   {
    "duration": 8,
    "start_time": "2023-03-09T20:34:54.697Z"
   },
   {
    "duration": 902,
    "start_time": "2023-03-10T10:40:49.122Z"
   },
   {
    "duration": 161,
    "start_time": "2023-03-10T10:40:50.026Z"
   },
   {
    "duration": 169,
    "start_time": "2023-03-10T10:40:50.188Z"
   },
   {
    "duration": 458,
    "start_time": "2023-03-10T10:40:50.359Z"
   },
   {
    "duration": 50,
    "start_time": "2023-03-10T10:40:50.819Z"
   },
   {
    "duration": 148,
    "start_time": "2023-03-10T10:40:50.872Z"
   },
   {
    "duration": 193,
    "start_time": "2023-03-10T10:40:51.022Z"
   },
   {
    "duration": 142,
    "start_time": "2023-03-10T10:40:51.216Z"
   },
   {
    "duration": 31,
    "start_time": "2023-03-10T10:40:51.360Z"
   },
   {
    "duration": 64,
    "start_time": "2023-03-10T10:40:51.393Z"
   },
   {
    "duration": 38,
    "start_time": "2023-03-10T10:40:51.460Z"
   },
   {
    "duration": 73,
    "start_time": "2023-03-10T10:40:51.500Z"
   },
   {
    "duration": 69,
    "start_time": "2023-03-10T10:40:51.574Z"
   },
   {
    "duration": 19,
    "start_time": "2023-03-10T10:40:51.653Z"
   },
   {
    "duration": 4,
    "start_time": "2023-03-10T10:40:51.674Z"
   },
   {
    "duration": 10,
    "start_time": "2023-03-10T10:40:51.679Z"
   },
   {
    "duration": 3,
    "start_time": "2023-03-10T10:40:52.972Z"
   },
   {
    "duration": 882,
    "start_time": "2023-03-10T10:40:54.256Z"
   },
   {
    "duration": 154,
    "start_time": "2023-03-10T10:40:57.106Z"
   },
   {
    "duration": 168,
    "start_time": "2023-03-10T10:41:00.122Z"
   },
   {
    "duration": 513,
    "start_time": "2023-03-10T10:41:02.757Z"
   },
   {
    "duration": 61,
    "start_time": "2023-03-10T10:41:04.421Z"
   },
   {
    "duration": 156,
    "start_time": "2023-03-10T10:41:05.853Z"
   },
   {
    "duration": 185,
    "start_time": "2023-03-10T10:41:08.907Z"
   },
   {
    "duration": 135,
    "start_time": "2023-03-10T10:41:11.755Z"
   },
   {
    "duration": 24,
    "start_time": "2023-03-10T10:41:15.157Z"
   },
   {
    "duration": 67,
    "start_time": "2023-03-10T10:41:16.105Z"
   },
   {
    "duration": 56,
    "start_time": "2023-03-10T10:41:20.126Z"
   },
   {
    "duration": 54,
    "start_time": "2023-03-10T10:41:21.374Z"
   },
   {
    "duration": 62,
    "start_time": "2023-03-10T10:41:24.619Z"
   },
   {
    "duration": 15,
    "start_time": "2023-03-10T10:41:25.654Z"
   },
   {
    "duration": 5,
    "start_time": "2023-03-10T10:41:27.390Z"
   },
   {
    "duration": 295,
    "start_time": "2023-03-10T10:41:32.899Z"
   },
   {
    "duration": 816829,
    "start_time": "2023-03-10T10:41:34.546Z"
   },
   {
    "duration": 439627,
    "start_time": "2023-03-10T10:55:39.030Z"
   },
   {
    "duration": 115863,
    "start_time": "2023-03-10T11:03:04.140Z"
   },
   {
    "duration": 35,
    "start_time": "2023-03-10T11:05:56.396Z"
   },
   {
    "duration": 11008,
    "start_time": "2023-03-10T11:06:05.320Z"
   },
   {
    "duration": 116743,
    "start_time": "2023-03-10T11:06:28.295Z"
   },
   {
    "duration": 184,
    "start_time": "2023-03-10T11:08:56.670Z"
   },
   {
    "duration": 4,
    "start_time": "2023-03-10T11:09:26.859Z"
   },
   {
    "duration": 50,
    "start_time": "2023-03-10T11:09:29.499Z"
   },
   {
    "duration": 179202,
    "start_time": "2023-03-10T11:10:50.819Z"
   },
   {
    "duration": 5709,
    "start_time": "2023-03-10T11:20:03.684Z"
   },
   {
    "duration": 55,
    "start_time": "2023-03-10T11:20:13.612Z"
   },
   {
    "duration": 76,
    "start_time": "2023-03-10T11:24:20.791Z"
   },
   {
    "duration": 1091,
    "start_time": "2023-03-13T15:18:45.318Z"
   },
   {
    "duration": 1133,
    "start_time": "2023-03-13T15:18:46.410Z"
   },
   {
    "duration": 141,
    "start_time": "2023-03-13T15:18:47.545Z"
   },
   {
    "duration": 135,
    "start_time": "2023-03-13T15:18:47.688Z"
   },
   {
    "duration": 497,
    "start_time": "2023-03-13T15:18:47.825Z"
   },
   {
    "duration": 54,
    "start_time": "2023-03-13T15:18:48.324Z"
   },
   {
    "duration": 126,
    "start_time": "2023-03-13T15:18:48.380Z"
   },
   {
    "duration": 168,
    "start_time": "2023-03-13T15:18:48.508Z"
   },
   {
    "duration": 133,
    "start_time": "2023-03-13T15:18:56.654Z"
   },
   {
    "duration": 28,
    "start_time": "2023-03-13T15:19:02.174Z"
   },
   {
    "duration": 59,
    "start_time": "2023-03-13T15:19:05.832Z"
   },
   {
    "duration": 46,
    "start_time": "2023-03-13T15:19:12.016Z"
   },
   {
    "duration": 68,
    "start_time": "2023-03-13T15:19:12.760Z"
   },
   {
    "duration": 64,
    "start_time": "2023-03-13T15:19:17.610Z"
   },
   {
    "duration": 19,
    "start_time": "2023-03-13T15:19:18.926Z"
   },
   {
    "duration": 4,
    "start_time": "2023-03-13T15:19:21.993Z"
   },
   {
    "duration": 366,
    "start_time": "2023-03-13T15:19:26.320Z"
   },
   {
    "duration": 170760,
    "start_time": "2023-03-13T15:19:30.340Z"
   },
   {
    "duration": 5949,
    "start_time": "2023-03-13T15:22:36.502Z"
   },
   {
    "duration": 70,
    "start_time": "2023-03-13T15:22:59.906Z"
   },
   {
    "duration": 124156,
    "start_time": "2023-03-13T15:23:13.558Z"
   },
   {
    "duration": 38,
    "start_time": "2023-03-13T15:25:27.143Z"
   },
   {
    "duration": 3,
    "start_time": "2023-03-13T15:26:02.695Z"
   },
   {
    "duration": 761,
    "start_time": "2023-03-13T15:26:02.699Z"
   },
   {
    "duration": 118,
    "start_time": "2023-03-13T15:26:03.464Z"
   },
   {
    "duration": 123,
    "start_time": "2023-03-13T15:26:03.583Z"
   },
   {
    "duration": 420,
    "start_time": "2023-03-13T15:26:03.708Z"
   },
   {
    "duration": 52,
    "start_time": "2023-03-13T15:26:04.129Z"
   },
   {
    "duration": 139,
    "start_time": "2023-03-13T15:26:04.183Z"
   },
   {
    "duration": 163,
    "start_time": "2023-03-13T15:26:04.323Z"
   },
   {
    "duration": 140,
    "start_time": "2023-03-13T15:26:04.487Z"
   },
   {
    "duration": 27,
    "start_time": "2023-03-13T15:26:04.629Z"
   },
   {
    "duration": 63,
    "start_time": "2023-03-13T15:26:04.664Z"
   },
   {
    "duration": 63,
    "start_time": "2023-03-13T15:26:04.729Z"
   },
   {
    "duration": 71,
    "start_time": "2023-03-13T15:26:04.794Z"
   },
   {
    "duration": 66,
    "start_time": "2023-03-13T15:26:04.868Z"
   },
   {
    "duration": 28,
    "start_time": "2023-03-13T15:26:04.936Z"
   },
   {
    "duration": 4,
    "start_time": "2023-03-13T15:26:04.966Z"
   },
   {
    "duration": 361,
    "start_time": "2023-03-13T15:26:30.343Z"
   },
   {
    "duration": 184894,
    "start_time": "2023-03-13T15:26:32.592Z"
   },
   {
    "duration": 7187,
    "start_time": "2023-03-13T15:30:21.127Z"
   },
   {
    "duration": 81,
    "start_time": "2023-03-13T15:30:31.075Z"
   },
   {
    "duration": 150551,
    "start_time": "2023-03-13T15:30:36.444Z"
   },
   {
    "duration": 43,
    "start_time": "2023-03-13T15:33:21.071Z"
   },
   {
    "duration": 3637,
    "start_time": "2023-03-13T15:33:25.336Z"
   },
   {
    "duration": 253,
    "start_time": "2023-03-13T15:33:42.728Z"
   },
   {
    "duration": 2,
    "start_time": "2023-03-13T15:40:14.428Z"
   },
   {
    "duration": 83,
    "start_time": "2023-03-13T15:40:17.222Z"
   },
   {
    "duration": 473,
    "start_time": "2023-03-13T15:40:19.454Z"
   },
   {
    "duration": 40,
    "start_time": "2023-03-13T15:40:21.471Z"
   },
   {
    "duration": 3,
    "start_time": "2023-03-13T15:44:59.980Z"
   },
   {
    "duration": 781,
    "start_time": "2023-03-13T15:44:59.984Z"
   },
   {
    "duration": 130,
    "start_time": "2023-03-13T15:45:00.767Z"
   },
   {
    "duration": 130,
    "start_time": "2023-03-13T15:45:00.899Z"
   },
   {
    "duration": 458,
    "start_time": "2023-03-13T15:45:01.032Z"
   },
   {
    "duration": 45,
    "start_time": "2023-03-13T15:45:01.491Z"
   },
   {
    "duration": 140,
    "start_time": "2023-03-13T15:45:01.538Z"
   },
   {
    "duration": 166,
    "start_time": "2023-03-13T15:45:01.680Z"
   },
   {
    "duration": 158,
    "start_time": "2023-03-13T15:45:01.848Z"
   },
   {
    "duration": 32,
    "start_time": "2023-03-13T15:45:02.008Z"
   },
   {
    "duration": 72,
    "start_time": "2023-03-13T15:45:02.042Z"
   },
   {
    "duration": 65,
    "start_time": "2023-03-13T15:45:02.116Z"
   },
   {
    "duration": 65,
    "start_time": "2023-03-13T15:45:02.183Z"
   },
   {
    "duration": 75,
    "start_time": "2023-03-13T15:45:02.250Z"
   },
   {
    "duration": 15,
    "start_time": "2023-03-13T15:45:02.327Z"
   },
   {
    "duration": 22,
    "start_time": "2023-03-13T15:45:02.344Z"
   },
   {
    "duration": 351,
    "start_time": "2023-03-13T15:45:33.034Z"
   },
   {
    "duration": 185890,
    "start_time": "2023-03-13T15:45:42.902Z"
   },
   {
    "duration": 6952,
    "start_time": "2023-03-13T15:49:25.033Z"
   },
   {
    "duration": 77,
    "start_time": "2023-03-13T15:50:53.028Z"
   },
   {
    "duration": 149580,
    "start_time": "2023-03-13T15:50:57.560Z"
   },
   {
    "duration": 43,
    "start_time": "2023-03-13T16:05:22.006Z"
   },
   {
    "duration": 3008,
    "start_time": "2023-03-13T16:05:26.556Z"
   },
   {
    "duration": 228,
    "start_time": "2023-03-13T16:06:07.243Z"
   },
   {
    "duration": 79,
    "start_time": "2023-03-13T16:06:12.097Z"
   },
   {
    "duration": 482,
    "start_time": "2023-03-13T16:06:13.732Z"
   },
   {
    "duration": 43,
    "start_time": "2023-03-13T16:06:15.399Z"
   },
   {
    "duration": 2035,
    "start_time": "2023-03-13T16:09:17.750Z"
   },
   {
    "duration": 4,
    "start_time": "2023-03-13T16:10:23.399Z"
   },
   {
    "duration": 724,
    "start_time": "2023-03-13T16:10:23.405Z"
   },
   {
    "duration": 135,
    "start_time": "2023-03-13T16:10:24.131Z"
   },
   {
    "duration": 126,
    "start_time": "2023-03-13T16:10:24.267Z"
   },
   {
    "duration": 419,
    "start_time": "2023-03-13T16:10:24.395Z"
   },
   {
    "duration": 40,
    "start_time": "2023-03-13T16:10:24.815Z"
   },
   {
    "duration": 124,
    "start_time": "2023-03-13T16:10:24.864Z"
   },
   {
    "duration": 155,
    "start_time": "2023-03-13T16:10:24.990Z"
   },
   {
    "duration": 135,
    "start_time": "2023-03-13T16:10:25.147Z"
   },
   {
    "duration": 31,
    "start_time": "2023-03-13T16:10:25.283Z"
   },
   {
    "duration": 74,
    "start_time": "2023-03-13T16:10:25.316Z"
   },
   {
    "duration": 52,
    "start_time": "2023-03-13T16:10:25.391Z"
   },
   {
    "duration": 77,
    "start_time": "2023-03-13T16:10:25.444Z"
   },
   {
    "duration": 75,
    "start_time": "2023-03-13T16:10:25.523Z"
   },
   {
    "duration": 15,
    "start_time": "2023-03-13T16:10:25.600Z"
   },
   {
    "duration": 4,
    "start_time": "2023-03-13T16:10:25.616Z"
   },
   {
    "duration": 396,
    "start_time": "2023-03-13T16:10:25.622Z"
   },
   {
    "duration": 191650,
    "start_time": "2023-03-13T16:10:26.020Z"
   },
   {
    "duration": 7570,
    "start_time": "2023-03-13T16:13:37.672Z"
   },
   {
    "duration": 78,
    "start_time": "2023-03-13T16:13:45.244Z"
   },
   {
    "duration": 74,
    "start_time": "2023-03-13T16:15:06.086Z"
   },
   {
    "duration": 1267,
    "start_time": "2023-03-13T16:15:59.590Z"
   },
   {
    "duration": 761,
    "start_time": "2023-03-13T16:16:00.860Z"
   },
   {
    "duration": 135,
    "start_time": "2023-03-13T16:16:01.622Z"
   },
   {
    "duration": 128,
    "start_time": "2023-03-13T16:16:01.759Z"
   },
   {
    "duration": 487,
    "start_time": "2023-03-13T16:16:01.889Z"
   },
   {
    "duration": 44,
    "start_time": "2023-03-13T16:16:02.378Z"
   },
   {
    "duration": 130,
    "start_time": "2023-03-13T16:16:02.424Z"
   },
   {
    "duration": 157,
    "start_time": "2023-03-13T16:16:02.564Z"
   },
   {
    "duration": 155,
    "start_time": "2023-03-13T16:16:02.722Z"
   },
   {
    "duration": 32,
    "start_time": "2023-03-13T16:16:02.878Z"
   },
   {
    "duration": 74,
    "start_time": "2023-03-13T16:16:02.911Z"
   },
   {
    "duration": 55,
    "start_time": "2023-03-13T16:16:02.986Z"
   },
   {
    "duration": 79,
    "start_time": "2023-03-13T16:16:03.042Z"
   },
   {
    "duration": 89,
    "start_time": "2023-03-13T16:16:03.123Z"
   },
   {
    "duration": 22,
    "start_time": "2023-03-13T16:16:03.214Z"
   },
   {
    "duration": 5,
    "start_time": "2023-03-13T16:16:03.238Z"
   },
   {
    "duration": 370,
    "start_time": "2023-03-13T16:16:03.244Z"
   },
   {
    "duration": 191901,
    "start_time": "2023-03-13T16:16:03.616Z"
   },
   {
    "duration": 6947,
    "start_time": "2023-03-13T16:19:15.519Z"
   },
   {
    "duration": 77,
    "start_time": "2023-03-13T16:19:22.467Z"
   },
   {
    "duration": 152840,
    "start_time": "2023-03-13T16:19:22.546Z"
   },
   {
    "duration": 43,
    "start_time": "2023-03-13T16:21:55.388Z"
   },
   {
    "duration": 3534,
    "start_time": "2023-03-13T16:21:55.432Z"
   },
   {
    "duration": 308,
    "start_time": "2023-03-13T16:21:58.967Z"
   },
   {
    "duration": 111,
    "start_time": "2023-03-13T16:21:59.277Z"
   },
   {
    "duration": 419,
    "start_time": "2023-03-13T16:21:59.390Z"
   },
   {
    "duration": 15468,
    "start_time": "2023-03-13T16:21:59.811Z"
   },
   {
    "duration": 0,
    "start_time": "2023-03-13T16:22:15.281Z"
   },
   {
    "duration": 83,
    "start_time": "2023-03-13T16:24:19.601Z"
   },
   {
    "duration": 15352,
    "start_time": "2023-03-13T16:31:46.622Z"
   },
   {
    "duration": 97,
    "start_time": "2023-03-13T16:38:01.798Z"
   },
   {
    "duration": 33240,
    "start_time": "2023-03-13T16:38:03.257Z"
   },
   {
    "duration": 1282,
    "start_time": "2023-03-13T16:38:57.937Z"
   },
   {
    "duration": 801,
    "start_time": "2023-03-13T16:38:59.221Z"
   },
   {
    "duration": 127,
    "start_time": "2023-03-13T16:39:00.023Z"
   },
   {
    "duration": 123,
    "start_time": "2023-03-13T16:39:00.152Z"
   },
   {
    "duration": 503,
    "start_time": "2023-03-13T16:39:00.278Z"
   },
   {
    "duration": 43,
    "start_time": "2023-03-13T16:39:00.783Z"
   },
   {
    "duration": 136,
    "start_time": "2023-03-13T16:39:00.828Z"
   },
   {
    "duration": 171,
    "start_time": "2023-03-13T16:39:00.966Z"
   },
   {
    "duration": 153,
    "start_time": "2023-03-13T16:39:01.139Z"
   },
   {
    "duration": 31,
    "start_time": "2023-03-13T16:39:01.294Z"
   },
   {
    "duration": 83,
    "start_time": "2023-03-13T16:39:01.327Z"
   },
   {
    "duration": 88,
    "start_time": "2023-03-13T16:39:01.411Z"
   },
   {
    "duration": 76,
    "start_time": "2023-03-13T16:39:01.501Z"
   },
   {
    "duration": 108,
    "start_time": "2023-03-13T16:39:01.580Z"
   },
   {
    "duration": 22,
    "start_time": "2023-03-13T16:39:01.690Z"
   },
   {
    "duration": 19,
    "start_time": "2023-03-13T16:39:01.714Z"
   },
   {
    "duration": 76,
    "start_time": "2023-03-13T16:39:14.700Z"
   },
   {
    "duration": 428,
    "start_time": "2023-03-13T16:39:15.953Z"
   },
   {
    "duration": 23378,
    "start_time": "2023-03-13T16:39:16.997Z"
   },
   {
    "duration": 3,
    "start_time": "2023-03-13T16:51:23.673Z"
   },
   {
    "duration": 696,
    "start_time": "2023-03-13T16:51:23.677Z"
   },
   {
    "duration": 125,
    "start_time": "2023-03-13T16:51:24.374Z"
   },
   {
    "duration": 133,
    "start_time": "2023-03-13T16:51:24.501Z"
   },
   {
    "duration": 412,
    "start_time": "2023-03-13T16:51:24.636Z"
   },
   {
    "duration": 43,
    "start_time": "2023-03-13T16:51:25.050Z"
   },
   {
    "duration": 125,
    "start_time": "2023-03-13T16:51:25.095Z"
   },
   {
    "duration": 160,
    "start_time": "2023-03-13T16:51:25.222Z"
   },
   {
    "duration": 142,
    "start_time": "2023-03-13T16:51:25.383Z"
   },
   {
    "duration": 27,
    "start_time": "2023-03-13T16:51:25.526Z"
   },
   {
    "duration": 77,
    "start_time": "2023-03-13T16:51:25.555Z"
   },
   {
    "duration": 78,
    "start_time": "2023-03-13T16:51:25.634Z"
   },
   {
    "duration": 81,
    "start_time": "2023-03-13T16:51:25.715Z"
   },
   {
    "duration": 91,
    "start_time": "2023-03-13T16:51:25.798Z"
   },
   {
    "duration": 16,
    "start_time": "2023-03-13T16:51:25.891Z"
   },
   {
    "duration": 4,
    "start_time": "2023-03-13T16:51:25.909Z"
   },
   {
    "duration": 401,
    "start_time": "2023-03-13T16:52:07.808Z"
   },
   {
    "duration": 118,
    "start_time": "2023-03-13T16:52:09.644Z"
   },
   {
    "duration": 19365,
    "start_time": "2023-03-13T16:52:10.620Z"
   },
   {
    "duration": 120,
    "start_time": "2023-03-13T16:58:12.777Z"
   },
   {
    "duration": 72,
    "start_time": "2023-03-13T16:58:14.844Z"
   },
   {
    "duration": 17878,
    "start_time": "2023-03-13T16:58:16.905Z"
   },
   {
    "duration": 77,
    "start_time": "2023-03-13T17:04:02.560Z"
   },
   {
    "duration": 115,
    "start_time": "2023-03-13T17:06:01.548Z"
   },
   {
    "duration": 87,
    "start_time": "2023-03-13T17:06:02.832Z"
   },
   {
    "duration": 21110,
    "start_time": "2023-03-13T17:06:04.356Z"
   },
   {
    "duration": 121,
    "start_time": "2023-03-13T17:10:12.092Z"
   },
   {
    "duration": 131,
    "start_time": "2023-03-13T17:10:34.281Z"
   },
   {
    "duration": 123,
    "start_time": "2023-03-13T17:11:15.655Z"
   },
   {
    "duration": 4905,
    "start_time": "2023-03-13T17:11:26.456Z"
   },
   {
    "duration": 14,
    "start_time": "2023-03-13T17:11:34.517Z"
   },
   {
    "duration": 12,
    "start_time": "2023-03-13T17:11:50.678Z"
   },
   {
    "duration": 1395,
    "start_time": "2023-03-13T17:12:07.841Z"
   },
   {
    "duration": 877,
    "start_time": "2023-03-13T17:12:09.238Z"
   },
   {
    "duration": 163,
    "start_time": "2023-03-13T17:12:10.117Z"
   },
   {
    "duration": 138,
    "start_time": "2023-03-13T17:12:10.282Z"
   },
   {
    "duration": 635,
    "start_time": "2023-03-13T17:12:10.423Z"
   },
   {
    "duration": 52,
    "start_time": "2023-03-13T17:12:11.059Z"
   },
   {
    "duration": 161,
    "start_time": "2023-03-13T17:12:11.112Z"
   },
   {
    "duration": 178,
    "start_time": "2023-03-13T17:12:11.280Z"
   },
   {
    "duration": 169,
    "start_time": "2023-03-13T17:12:11.460Z"
   },
   {
    "duration": 47,
    "start_time": "2023-03-13T17:12:11.632Z"
   },
   {
    "duration": 93,
    "start_time": "2023-03-13T17:12:11.681Z"
   },
   {
    "duration": 61,
    "start_time": "2023-03-13T17:12:11.776Z"
   },
   {
    "duration": 94,
    "start_time": "2023-03-13T17:12:11.838Z"
   },
   {
    "duration": 102,
    "start_time": "2023-03-13T17:12:11.935Z"
   },
   {
    "duration": 34,
    "start_time": "2023-03-13T17:12:12.039Z"
   },
   {
    "duration": 12,
    "start_time": "2023-03-13T17:12:12.075Z"
   },
   {
    "duration": 81,
    "start_time": "2023-03-13T17:12:27.077Z"
   },
   {
    "duration": 5005,
    "start_time": "2023-03-13T17:12:28.611Z"
   },
   {
    "duration": 162903,
    "start_time": "2023-03-13T17:12:37.233Z"
   },
   {
    "duration": 1352,
    "start_time": "2023-03-13T17:16:24.639Z"
   },
   {
    "duration": 877,
    "start_time": "2023-03-13T17:16:25.993Z"
   },
   {
    "duration": 181,
    "start_time": "2023-03-13T17:16:26.872Z"
   },
   {
    "duration": 148,
    "start_time": "2023-03-13T17:16:27.055Z"
   },
   {
    "duration": 533,
    "start_time": "2023-03-13T17:16:27.206Z"
   },
   {
    "duration": 58,
    "start_time": "2023-03-13T17:16:27.741Z"
   },
   {
    "duration": 139,
    "start_time": "2023-03-13T17:16:27.801Z"
   },
   {
    "duration": 191,
    "start_time": "2023-03-13T17:16:27.941Z"
   },
   {
    "duration": 184,
    "start_time": "2023-03-13T17:16:28.134Z"
   },
   {
    "duration": 30,
    "start_time": "2023-03-13T17:16:28.320Z"
   },
   {
    "duration": 87,
    "start_time": "2023-03-13T17:16:28.351Z"
   },
   {
    "duration": 72,
    "start_time": "2023-03-13T17:16:28.440Z"
   },
   {
    "duration": 86,
    "start_time": "2023-03-13T17:16:28.514Z"
   },
   {
    "duration": 104,
    "start_time": "2023-03-13T17:16:28.602Z"
   },
   {
    "duration": 22,
    "start_time": "2023-03-13T17:16:28.708Z"
   },
   {
    "duration": 8,
    "start_time": "2023-03-13T17:16:28.732Z"
   },
   {
    "duration": 417,
    "start_time": "2023-03-13T17:16:45.936Z"
   },
   {
    "duration": 96,
    "start_time": "2023-03-13T17:16:57.244Z"
   },
   {
    "duration": 145,
    "start_time": "2023-03-13T17:16:58.916Z"
   },
   {
    "duration": 4887,
    "start_time": "2023-03-13T17:17:08.922Z"
   },
   {
    "duration": 12,
    "start_time": "2023-03-13T17:17:16.342Z"
   },
   {
    "duration": 12,
    "start_time": "2023-03-13T17:17:24.779Z"
   },
   {
    "duration": 4,
    "start_time": "2023-03-13T17:17:43.405Z"
   },
   {
    "duration": 848,
    "start_time": "2023-03-13T17:17:43.411Z"
   },
   {
    "duration": 146,
    "start_time": "2023-03-13T17:17:44.264Z"
   },
   {
    "duration": 144,
    "start_time": "2023-03-13T17:17:44.412Z"
   },
   {
    "duration": 476,
    "start_time": "2023-03-13T17:17:44.558Z"
   },
   {
    "duration": 57,
    "start_time": "2023-03-13T17:17:45.036Z"
   },
   {
    "duration": 136,
    "start_time": "2023-03-13T17:17:45.095Z"
   },
   {
    "duration": 183,
    "start_time": "2023-03-13T17:17:45.232Z"
   },
   {
    "duration": 162,
    "start_time": "2023-03-13T17:17:45.416Z"
   },
   {
    "duration": 28,
    "start_time": "2023-03-13T17:17:45.581Z"
   },
   {
    "duration": 78,
    "start_time": "2023-03-13T17:17:45.610Z"
   },
   {
    "duration": 55,
    "start_time": "2023-03-13T17:17:45.690Z"
   },
   {
    "duration": 102,
    "start_time": "2023-03-13T17:17:45.747Z"
   },
   {
    "duration": 90,
    "start_time": "2023-03-13T17:17:45.852Z"
   },
   {
    "duration": 26,
    "start_time": "2023-03-13T17:17:45.943Z"
   },
   {
    "duration": 5,
    "start_time": "2023-03-13T17:17:45.971Z"
   },
   {
    "duration": 471,
    "start_time": "2023-03-13T17:18:08.438Z"
   },
   {
    "duration": 128,
    "start_time": "2023-03-13T17:18:10.949Z"
   },
   {
    "duration": 26238,
    "start_time": "2023-03-13T17:18:12.068Z"
   },
   {
    "duration": 80,
    "start_time": "2023-03-13T17:22:15.193Z"
   },
   {
    "duration": 54,
    "start_time": "2023-03-13T17:23:47.777Z"
   },
   {
    "duration": 39,
    "start_time": "2023-03-13T17:23:49.418Z"
   },
   {
    "duration": 11,
    "start_time": "2023-03-13T17:27:16.883Z"
   },
   {
    "duration": 1275,
    "start_time": "2023-03-13T17:31:12.859Z"
   },
   {
    "duration": 1173,
    "start_time": "2023-03-13T17:31:14.136Z"
   },
   {
    "duration": 134,
    "start_time": "2023-03-13T17:31:15.311Z"
   },
   {
    "duration": 125,
    "start_time": "2023-03-13T17:31:15.447Z"
   },
   {
    "duration": 518,
    "start_time": "2023-03-13T17:31:15.573Z"
   },
   {
    "duration": 44,
    "start_time": "2023-03-13T17:31:16.093Z"
   },
   {
    "duration": 137,
    "start_time": "2023-03-13T17:31:16.138Z"
   },
   {
    "duration": 218,
    "start_time": "2023-03-13T17:31:16.277Z"
   },
   {
    "duration": 195,
    "start_time": "2023-03-13T17:31:16.497Z"
   },
   {
    "duration": 36,
    "start_time": "2023-03-13T17:31:16.694Z"
   },
   {
    "duration": 76,
    "start_time": "2023-03-13T17:31:16.731Z"
   },
   {
    "duration": 72,
    "start_time": "2023-03-13T17:31:16.809Z"
   },
   {
    "duration": 70,
    "start_time": "2023-03-13T17:31:16.883Z"
   },
   {
    "duration": 90,
    "start_time": "2023-03-13T17:31:16.955Z"
   },
   {
    "duration": 35,
    "start_time": "2023-03-13T17:31:17.047Z"
   },
   {
    "duration": 21,
    "start_time": "2023-03-13T17:31:17.084Z"
   },
   {
    "duration": 2132,
    "start_time": "2023-03-13T17:31:27.294Z"
   },
   {
    "duration": 72,
    "start_time": "2023-03-13T17:31:32.688Z"
   },
   {
    "duration": 45,
    "start_time": "2023-03-13T17:31:46.196Z"
   },
   {
    "duration": 906,
    "start_time": "2023-03-13T17:33:31.893Z"
   },
   {
    "duration": 1347,
    "start_time": "2023-03-13T17:33:46.646Z"
   },
   {
    "duration": 1048,
    "start_time": "2023-03-13T17:33:47.994Z"
   },
   {
    "duration": 130,
    "start_time": "2023-03-13T17:33:49.043Z"
   },
   {
    "duration": 138,
    "start_time": "2023-03-13T17:33:49.176Z"
   },
   {
    "duration": 488,
    "start_time": "2023-03-13T17:33:49.315Z"
   },
   {
    "duration": 50,
    "start_time": "2023-03-13T17:33:49.804Z"
   },
   {
    "duration": 135,
    "start_time": "2023-03-13T17:33:49.855Z"
   },
   {
    "duration": 167,
    "start_time": "2023-03-13T17:33:49.992Z"
   },
   {
    "duration": 151,
    "start_time": "2023-03-13T17:33:50.164Z"
   },
   {
    "duration": 32,
    "start_time": "2023-03-13T17:33:50.317Z"
   },
   {
    "duration": 81,
    "start_time": "2023-03-13T17:33:50.351Z"
   },
   {
    "duration": 77,
    "start_time": "2023-03-13T17:33:50.433Z"
   },
   {
    "duration": 72,
    "start_time": "2023-03-13T17:33:50.512Z"
   },
   {
    "duration": 89,
    "start_time": "2023-03-13T17:33:50.585Z"
   },
   {
    "duration": 22,
    "start_time": "2023-03-13T17:33:50.675Z"
   },
   {
    "duration": 17,
    "start_time": "2023-03-13T17:33:50.698Z"
   },
   {
    "duration": 102,
    "start_time": "2023-03-13T17:33:58.316Z"
   },
   {
    "duration": 2023,
    "start_time": "2023-03-13T17:34:09.030Z"
   },
   {
    "duration": 72,
    "start_time": "2023-03-13T17:34:12.409Z"
   },
   {
    "duration": 52,
    "start_time": "2023-03-13T17:36:09.346Z"
   },
   {
    "duration": 1216,
    "start_time": "2023-03-13T17:36:29.127Z"
   },
   {
    "duration": 1050,
    "start_time": "2023-03-13T17:36:30.345Z"
   },
   {
    "duration": 127,
    "start_time": "2023-03-13T17:36:31.397Z"
   },
   {
    "duration": 129,
    "start_time": "2023-03-13T17:36:31.526Z"
   },
   {
    "duration": 497,
    "start_time": "2023-03-13T17:36:31.657Z"
   },
   {
    "duration": 49,
    "start_time": "2023-03-13T17:36:32.156Z"
   },
   {
    "duration": 158,
    "start_time": "2023-03-13T17:36:32.206Z"
   },
   {
    "duration": 170,
    "start_time": "2023-03-13T17:36:32.366Z"
   },
   {
    "duration": 166,
    "start_time": "2023-03-13T17:36:32.539Z"
   },
   {
    "duration": 33,
    "start_time": "2023-03-13T17:36:32.706Z"
   },
   {
    "duration": 88,
    "start_time": "2023-03-13T17:36:32.740Z"
   },
   {
    "duration": 76,
    "start_time": "2023-03-13T17:36:32.830Z"
   },
   {
    "duration": 72,
    "start_time": "2023-03-13T17:36:32.907Z"
   },
   {
    "duration": 86,
    "start_time": "2023-03-13T17:36:32.982Z"
   },
   {
    "duration": 22,
    "start_time": "2023-03-13T17:36:33.069Z"
   },
   {
    "duration": 5,
    "start_time": "2023-03-13T17:36:33.092Z"
   },
   {
    "duration": 2046,
    "start_time": "2023-03-13T17:36:39.128Z"
   },
   {
    "duration": 107,
    "start_time": "2023-03-13T17:36:42.500Z"
   },
   {
    "duration": 12,
    "start_time": "2023-03-13T17:38:30.545Z"
   },
   {
    "duration": 13,
    "start_time": "2023-03-13T17:38:42.086Z"
   },
   {
    "duration": 73,
    "start_time": "2023-03-13T17:38:45.798Z"
   },
   {
    "duration": 2203,
    "start_time": "2023-03-13T17:40:22.150Z"
   },
   {
    "duration": 2112,
    "start_time": "2023-03-13T17:40:44.394Z"
   },
   {
    "duration": 1842,
    "start_time": "2023-03-13T17:41:45.378Z"
   },
   {
    "duration": 2120,
    "start_time": "2023-03-13T17:42:04.354Z"
   },
   {
    "duration": 77,
    "start_time": "2023-03-13T17:42:09.495Z"
   }
  ],
  "kernelspec": {
   "display_name": "Python 3 (ipykernel)",
   "language": "python",
   "name": "python3"
  },
  "language_info": {
   "codemirror_mode": {
    "name": "ipython",
    "version": 3
   },
   "file_extension": ".py",
   "mimetype": "text/x-python",
   "name": "python",
   "nbconvert_exporter": "python",
   "pygments_lexer": "ipython3",
   "version": "3.9.13"
  },
  "toc": {
   "base_numbering": 1,
   "nav_menu": {},
   "number_sections": true,
   "sideBar": true,
   "skip_h1_title": true,
   "title_cell": "Table of Contents",
   "title_sidebar": "Contents",
   "toc_cell": false,
   "toc_position": {},
   "toc_section_display": true,
   "toc_window_display": false
  }
 },
 "nbformat": 4,
 "nbformat_minor": 2
}
