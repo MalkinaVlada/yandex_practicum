{
 "cells": [
  {
   "cell_type": "markdown",
   "metadata": {},
   "source": [
    "# Выбор локации для скважины/Choosing a location for a well"
   ]
  },
  {
   "cell_type": "markdown",
   "metadata": {},
   "source": [
    "Задача: \n",
    "добывающей компании нужно решить, где бурить новую скважину.\n",
    "\n",
    "Предоставлены пробы нефти в трёх регионах: в каждом 10 000 месторождений, где измерили качество нефти и объём её запасов. \n",
    "Требуется построить модель машинного обучения, которая поможет определить регион, где добыча принесёт наибольшую прибыль, проанализировать возможную прибыль и риски техникой *Bootstrap.*\n",
    "\n",
    "Task:\n",
    "The mining company needs to decide where to drill a new well.\n",
    "\n",
    "Oil samples were provided in three regions: in each 10,000 fields, where the quality of oil and the volume of its reserves were measured.\n",
    "It is required to build a machine learning model that will help determine the region where mining will bring the greatest profit, analyze possible profits and risks using *Bootstrap.* technology"
   ]
  },
  {
   "cell_type": "markdown",
   "metadata": {},
   "source": [
    "## Загрузка и подготовка данных/Loading and preparing data"
   ]
  },
  {
   "cell_type": "code",
   "execution_count": 1,
   "metadata": {},
   "outputs": [],
   "source": [
    "import pandas as pd\n",
    "from sklearn.model_selection import train_test_split\n",
    "from sklearn.preprocessing import StandardScaler\n",
    "from sklearn.linear_model import LinearRegression\n",
    "from sklearn.metrics import mean_squared_error\n",
    "from sklearn.utils import shuffle\n",
    "import numpy as np\n",
    "from scipy import stats as st"
   ]
  },
  {
   "cell_type": "code",
   "execution_count": 2,
   "metadata": {},
   "outputs": [],
   "source": [
    "dataset0 = pd.read_csv('/Users/vladamalkina/Desktop/ЯП проекты/проект 8/geo_data_0_eighth_project.csv')\n",
    "dataset1 = pd.read_csv('/Users/vladamalkina/Desktop/ЯП проекты/проект 8/geo_data_1_eighth_project.csv')\n",
    "dataset2 = pd.read_csv('/Users/vladamalkina/Desktop/ЯП проекты/проект 8/geo_data_2_eighth_project.csv')"
   ]
  },
  {
   "cell_type": "code",
   "execution_count": 3,
   "metadata": {},
   "outputs": [
    {
     "data": {
      "text/html": [
       "<div>\n",
       "<style scoped>\n",
       "    .dataframe tbody tr th:only-of-type {\n",
       "        vertical-align: middle;\n",
       "    }\n",
       "\n",
       "    .dataframe tbody tr th {\n",
       "        vertical-align: top;\n",
       "    }\n",
       "\n",
       "    .dataframe thead th {\n",
       "        text-align: right;\n",
       "    }\n",
       "</style>\n",
       "<table border=\"1\" class=\"dataframe\">\n",
       "  <thead>\n",
       "    <tr style=\"text-align: right;\">\n",
       "      <th></th>\n",
       "      <th>Unnamed: 0</th>\n",
       "      <th>id</th>\n",
       "      <th>f0</th>\n",
       "      <th>f1</th>\n",
       "      <th>f2</th>\n",
       "      <th>product</th>\n",
       "    </tr>\n",
       "  </thead>\n",
       "  <tbody>\n",
       "    <tr>\n",
       "      <th>0</th>\n",
       "      <td>0</td>\n",
       "      <td>txEyH</td>\n",
       "      <td>0.705745</td>\n",
       "      <td>-0.497823</td>\n",
       "      <td>1.221170</td>\n",
       "      <td>105.280062</td>\n",
       "    </tr>\n",
       "    <tr>\n",
       "      <th>1</th>\n",
       "      <td>1</td>\n",
       "      <td>2acmU</td>\n",
       "      <td>1.334711</td>\n",
       "      <td>-0.340164</td>\n",
       "      <td>4.365080</td>\n",
       "      <td>73.037750</td>\n",
       "    </tr>\n",
       "    <tr>\n",
       "      <th>2</th>\n",
       "      <td>2</td>\n",
       "      <td>409Wp</td>\n",
       "      <td>1.022732</td>\n",
       "      <td>0.151990</td>\n",
       "      <td>1.419926</td>\n",
       "      <td>85.265647</td>\n",
       "    </tr>\n",
       "    <tr>\n",
       "      <th>3</th>\n",
       "      <td>3</td>\n",
       "      <td>iJLyR</td>\n",
       "      <td>-0.032172</td>\n",
       "      <td>0.139033</td>\n",
       "      <td>2.978566</td>\n",
       "      <td>168.620776</td>\n",
       "    </tr>\n",
       "    <tr>\n",
       "      <th>4</th>\n",
       "      <td>4</td>\n",
       "      <td>Xdl7t</td>\n",
       "      <td>1.988431</td>\n",
       "      <td>0.155413</td>\n",
       "      <td>4.751769</td>\n",
       "      <td>154.036647</td>\n",
       "    </tr>\n",
       "  </tbody>\n",
       "</table>\n",
       "</div>"
      ],
      "text/plain": [
       "   Unnamed: 0     id        f0        f1        f2     product\n",
       "0           0  txEyH  0.705745 -0.497823  1.221170  105.280062\n",
       "1           1  2acmU  1.334711 -0.340164  4.365080   73.037750\n",
       "2           2  409Wp  1.022732  0.151990  1.419926   85.265647\n",
       "3           3  iJLyR -0.032172  0.139033  2.978566  168.620776\n",
       "4           4  Xdl7t  1.988431  0.155413  4.751769  154.036647"
      ]
     },
     "metadata": {},
     "output_type": "display_data"
    },
    {
     "data": {
      "text/html": [
       "<div>\n",
       "<style scoped>\n",
       "    .dataframe tbody tr th:only-of-type {\n",
       "        vertical-align: middle;\n",
       "    }\n",
       "\n",
       "    .dataframe tbody tr th {\n",
       "        vertical-align: top;\n",
       "    }\n",
       "\n",
       "    .dataframe thead th {\n",
       "        text-align: right;\n",
       "    }\n",
       "</style>\n",
       "<table border=\"1\" class=\"dataframe\">\n",
       "  <thead>\n",
       "    <tr style=\"text-align: right;\">\n",
       "      <th></th>\n",
       "      <th>Unnamed: 0</th>\n",
       "      <th>id</th>\n",
       "      <th>f0</th>\n",
       "      <th>f1</th>\n",
       "      <th>f2</th>\n",
       "      <th>product</th>\n",
       "    </tr>\n",
       "  </thead>\n",
       "  <tbody>\n",
       "    <tr>\n",
       "      <th>0</th>\n",
       "      <td>0</td>\n",
       "      <td>kBEdx</td>\n",
       "      <td>-15.001348</td>\n",
       "      <td>-8.276000</td>\n",
       "      <td>-0.005876</td>\n",
       "      <td>3.179103</td>\n",
       "    </tr>\n",
       "    <tr>\n",
       "      <th>1</th>\n",
       "      <td>1</td>\n",
       "      <td>62mP7</td>\n",
       "      <td>14.272088</td>\n",
       "      <td>-3.475083</td>\n",
       "      <td>0.999183</td>\n",
       "      <td>26.953261</td>\n",
       "    </tr>\n",
       "    <tr>\n",
       "      <th>2</th>\n",
       "      <td>2</td>\n",
       "      <td>vyE1P</td>\n",
       "      <td>6.263187</td>\n",
       "      <td>-5.948386</td>\n",
       "      <td>5.001160</td>\n",
       "      <td>134.766305</td>\n",
       "    </tr>\n",
       "    <tr>\n",
       "      <th>3</th>\n",
       "      <td>3</td>\n",
       "      <td>KcrkZ</td>\n",
       "      <td>-13.081196</td>\n",
       "      <td>-11.506057</td>\n",
       "      <td>4.999415</td>\n",
       "      <td>137.945408</td>\n",
       "    </tr>\n",
       "    <tr>\n",
       "      <th>4</th>\n",
       "      <td>4</td>\n",
       "      <td>AHL4O</td>\n",
       "      <td>12.702195</td>\n",
       "      <td>-8.147433</td>\n",
       "      <td>5.004363</td>\n",
       "      <td>134.766305</td>\n",
       "    </tr>\n",
       "  </tbody>\n",
       "</table>\n",
       "</div>"
      ],
      "text/plain": [
       "   Unnamed: 0     id         f0         f1        f2     product\n",
       "0           0  kBEdx -15.001348  -8.276000 -0.005876    3.179103\n",
       "1           1  62mP7  14.272088  -3.475083  0.999183   26.953261\n",
       "2           2  vyE1P   6.263187  -5.948386  5.001160  134.766305\n",
       "3           3  KcrkZ -13.081196 -11.506057  4.999415  137.945408\n",
       "4           4  AHL4O  12.702195  -8.147433  5.004363  134.766305"
      ]
     },
     "metadata": {},
     "output_type": "display_data"
    },
    {
     "data": {
      "text/html": [
       "<div>\n",
       "<style scoped>\n",
       "    .dataframe tbody tr th:only-of-type {\n",
       "        vertical-align: middle;\n",
       "    }\n",
       "\n",
       "    .dataframe tbody tr th {\n",
       "        vertical-align: top;\n",
       "    }\n",
       "\n",
       "    .dataframe thead th {\n",
       "        text-align: right;\n",
       "    }\n",
       "</style>\n",
       "<table border=\"1\" class=\"dataframe\">\n",
       "  <thead>\n",
       "    <tr style=\"text-align: right;\">\n",
       "      <th></th>\n",
       "      <th>Unnamed: 0</th>\n",
       "      <th>id</th>\n",
       "      <th>f0</th>\n",
       "      <th>f1</th>\n",
       "      <th>f2</th>\n",
       "      <th>product</th>\n",
       "    </tr>\n",
       "  </thead>\n",
       "  <tbody>\n",
       "    <tr>\n",
       "      <th>0</th>\n",
       "      <td>0</td>\n",
       "      <td>fwXo0</td>\n",
       "      <td>-1.146987</td>\n",
       "      <td>0.963328</td>\n",
       "      <td>-0.828965</td>\n",
       "      <td>27.758673</td>\n",
       "    </tr>\n",
       "    <tr>\n",
       "      <th>1</th>\n",
       "      <td>1</td>\n",
       "      <td>WJtFt</td>\n",
       "      <td>0.262778</td>\n",
       "      <td>0.269839</td>\n",
       "      <td>-2.530187</td>\n",
       "      <td>56.069697</td>\n",
       "    </tr>\n",
       "    <tr>\n",
       "      <th>2</th>\n",
       "      <td>2</td>\n",
       "      <td>ovLUW</td>\n",
       "      <td>0.194587</td>\n",
       "      <td>0.289035</td>\n",
       "      <td>-5.586433</td>\n",
       "      <td>62.871910</td>\n",
       "    </tr>\n",
       "    <tr>\n",
       "      <th>3</th>\n",
       "      <td>3</td>\n",
       "      <td>q6cA6</td>\n",
       "      <td>2.236060</td>\n",
       "      <td>-0.553760</td>\n",
       "      <td>0.930038</td>\n",
       "      <td>114.572842</td>\n",
       "    </tr>\n",
       "    <tr>\n",
       "      <th>4</th>\n",
       "      <td>4</td>\n",
       "      <td>WPMUX</td>\n",
       "      <td>-0.515993</td>\n",
       "      <td>1.716266</td>\n",
       "      <td>5.899011</td>\n",
       "      <td>149.600746</td>\n",
       "    </tr>\n",
       "  </tbody>\n",
       "</table>\n",
       "</div>"
      ],
      "text/plain": [
       "   Unnamed: 0     id        f0        f1        f2     product\n",
       "0           0  fwXo0 -1.146987  0.963328 -0.828965   27.758673\n",
       "1           1  WJtFt  0.262778  0.269839 -2.530187   56.069697\n",
       "2           2  ovLUW  0.194587  0.289035 -5.586433   62.871910\n",
       "3           3  q6cA6  2.236060 -0.553760  0.930038  114.572842\n",
       "4           4  WPMUX -0.515993  1.716266  5.899011  149.600746"
      ]
     },
     "metadata": {},
     "output_type": "display_data"
    }
   ],
   "source": [
    "display(dataset0.head())\n",
    "display(dataset1.head())\n",
    "display(dataset2.head())"
   ]
  },
  {
   "cell_type": "code",
   "execution_count": 4,
   "metadata": {},
   "outputs": [
    {
     "name": "stdout",
     "output_type": "stream",
     "text": [
      "<class 'pandas.core.frame.DataFrame'>\n",
      "RangeIndex: 100000 entries, 0 to 99999\n",
      "Data columns (total 6 columns):\n",
      " #   Column      Non-Null Count   Dtype  \n",
      "---  ------      --------------   -----  \n",
      " 0   Unnamed: 0  100000 non-null  int64  \n",
      " 1   id          100000 non-null  object \n",
      " 2   f0          100000 non-null  float64\n",
      " 3   f1          100000 non-null  float64\n",
      " 4   f2          100000 non-null  float64\n",
      " 5   product     100000 non-null  float64\n",
      "dtypes: float64(4), int64(1), object(1)\n",
      "memory usage: 4.6+ MB\n",
      "<class 'pandas.core.frame.DataFrame'>\n",
      "RangeIndex: 100000 entries, 0 to 99999\n",
      "Data columns (total 6 columns):\n",
      " #   Column      Non-Null Count   Dtype  \n",
      "---  ------      --------------   -----  \n",
      " 0   Unnamed: 0  100000 non-null  int64  \n",
      " 1   id          100000 non-null  object \n",
      " 2   f0          100000 non-null  float64\n",
      " 3   f1          100000 non-null  float64\n",
      " 4   f2          100000 non-null  float64\n",
      " 5   product     100000 non-null  float64\n",
      "dtypes: float64(4), int64(1), object(1)\n",
      "memory usage: 4.6+ MB\n",
      "<class 'pandas.core.frame.DataFrame'>\n",
      "RangeIndex: 100000 entries, 0 to 99999\n",
      "Data columns (total 6 columns):\n",
      " #   Column      Non-Null Count   Dtype  \n",
      "---  ------      --------------   -----  \n",
      " 0   Unnamed: 0  100000 non-null  int64  \n",
      " 1   id          100000 non-null  object \n",
      " 2   f0          100000 non-null  float64\n",
      " 3   f1          100000 non-null  float64\n",
      " 4   f2          100000 non-null  float64\n",
      " 5   product     100000 non-null  float64\n",
      "dtypes: float64(4), int64(1), object(1)\n",
      "memory usage: 4.6+ MB\n"
     ]
    }
   ],
   "source": [
    "dataset0.info()\n",
    "dataset1.info()\n",
    "dataset2.info()"
   ]
  },
  {
   "cell_type": "markdown",
   "metadata": {},
   "source": [
    "Удалили признак, не участвующий в анализе: / Removed a feature that is not involved in the analysis:"
   ]
  },
  {
   "cell_type": "code",
   "execution_count": 5,
   "metadata": {},
   "outputs": [],
   "source": [
    "dataset0 = dataset0.drop(columns = ['id'])\n",
    "dataset1 = dataset1.drop(columns = ['id'])\n",
    "dataset2 = dataset2.drop(columns = ['id'])"
   ]
  },
  {
   "cell_type": "markdown",
   "metadata": {},
   "source": [
    "## Обучение и проверка модели / Model training and validation"
   ]
  },
  {
   "cell_type": "markdown",
   "metadata": {},
   "source": [
    "В функции prepare разбили выборки на тренировочную и валидационную. Поскольку в данных присутствуют количественные признаки с разными разбросами значений, нужно привести признаки к одному масштабу: \n",
    "\n",
    "\n",
    "In the prepare function, the samples were divided into training and validation. Since the data contains quantitative characteristics with different ranges of values, it is necessary to bring the characteristics to the same scale:"
   ]
  },
  {
   "cell_type": "code",
   "execution_count": 6,
   "metadata": {},
   "outputs": [],
   "source": [
    "def prepare(data):\n",
    "    data_train, data_valid = train_test_split(data, test_size = 0.25, random_state = 12345)\n",
    "    features_train = data_train.drop('product', axis=1)\n",
    "    target_train = data_train['product']\n",
    "    features_valid = data_valid.drop('product', axis=1)\n",
    "    target_valid = data_valid['product']\n",
    "    numeric = ['f0', 'f1', 'f2']\n",
    "    pd.options.mode.chained_assignment = None\n",
    "    scaler = StandardScaler()\n",
    "    features_train[numeric] = scaler.fit_transform(features_train[numeric])\n",
    "    features_valid[numeric] = scaler.transform(features_valid[numeric])\n",
    "    print(features_train.shape, target_train.shape, features_valid.shape, target_valid.shape)\n",
    "    return features_train, target_train, features_valid, target_valid"
   ]
  },
  {
   "cell_type": "markdown",
   "metadata": {},
   "source": [
    "Вызовем функцию prepare для 3 датасетов: \n",
    "\n",
    "Let's call the prepare function for 3 datasets:"
   ]
  },
  {
   "cell_type": "code",
   "execution_count": 7,
   "metadata": {},
   "outputs": [
    {
     "name": "stdout",
     "output_type": "stream",
     "text": [
      "(75000, 4) (75000,) (25000, 4) (25000,)\n",
      "(75000, 4) (75000,) (25000, 4) (25000,)\n",
      "(75000, 4) (75000,) (25000, 4) (25000,)\n"
     ]
    }
   ],
   "source": [
    "features0_train = dataset0\n",
    "features0_train, target0_train, features0_valid, target0_valid = prepare(dataset0)\n",
    "features1_train, target1_train, features1_valid, target1_valid = prepare(dataset1)\n",
    "features2_train, target2_train, features2_valid, target2_valid = prepare(dataset2)"
   ]
  },
  {
   "cell_type": "code",
   "execution_count": 8,
   "metadata": {},
   "outputs": [],
   "source": [
    "def model(features_train, target_train, features_valid, target_valid):\n",
    "    model = LinearRegression()\n",
    "    model.fit(features_train, target_train)\n",
    "    predicted_valid = model.predict(features_valid)\n",
    "    print('Linear Regression RMSE', mean_squared_error(target_valid, predicted_valid)** 0.5)\n",
    "    print('средний запас предсказанного сырья', predicted_valid.mean())\n",
    "    return predicted_valid, predicted_valid.mean()"
   ]
  },
  {
   "cell_type": "code",
   "execution_count": 9,
   "metadata": {},
   "outputs": [
    {
     "name": "stdout",
     "output_type": "stream",
     "text": [
      "Linear Regression RMSE 37.57949193854287\n",
      "средний запас предсказанного сырья 92.5924422447677\n",
      "Linear Regression RMSE 0.8930659052624607\n",
      "средний запас предсказанного сырья 68.72849982676497\n",
      "Linear Regression RMSE 40.03003812272811\n",
      "средний запас предсказанного сырья 94.96522806981984\n"
     ]
    }
   ],
   "source": [
    "prediction_0, prediction_0_mean = model(features0_train, target0_train, features0_valid, target0_valid)\n",
    "prediction_1, prediction_1_mean = model(features1_train, target1_train, features1_valid, target1_valid)\n",
    "prediction_2, prediction_2_mean = model(features2_train, target2_train, features2_valid, target2_valid)"
   ]
  },
  {
   "cell_type": "markdown",
   "metadata": {},
   "source": [
    "prediction_0, prediction_1, prediction_2 - предсказания на валидационной выборке / predictions on the validation set.\n",
    "\n",
    "prediction_0_mean, prediction_1_mean, prediction_2_mean - средние значения предсказаний на валидационной выборке / average prediction values on the validation set"
   ]
  },
  {
   "cell_type": "markdown",
   "metadata": {},
   "source": [
    "RMSE модели для 0 региона: / RMSE models for region 0: 37.5794217150813\n",
    "\n",
    "RMSE модели для 1 региона: / RMSE models for region 1: 0.893099286775617\n",
    "\n",
    "RMSE модели для 2 региона: / RMSE models for region 2: 40.02970873393434\n",
    "\n",
    "Средний запас предсказанного сырья для 0 региона: / Average stock of predicted raw materials for region 0: 92.59256778438035\n",
    "\n",
    "Средний запас предсказанного сырья для 1 региона: / Average stock of predicted raw materials for region 1: 68.728546895446\n",
    "\n",
    "Средний запас предсказанного сырья для 2 региона: / Average stock of predicted raw materials for region 2: 94.96504596800489"
   ]
  },
  {
   "cell_type": "markdown",
   "metadata": {},
   "source": [
    "Минимальный размер ошибки модели во 2 регионе. Наиболее точный прогноз модель строит во втором регионе.\n",
    "\n",
    "The minimum size of the model error in region 2. The model makes the most accurate forecast in the second region."
   ]
  },
  {
   "cell_type": "markdown",
   "metadata": {},
   "source": [
    "## Подготовка к расчёту прибыли / Preparation for profit calculation"
   ]
  },
  {
   "cell_type": "markdown",
   "metadata": {},
   "source": [
    "Средний запас в каждом регионе: / Average stock in each region:"
   ]
  },
  {
   "cell_type": "code",
   "execution_count": 10,
   "metadata": {},
   "outputs": [
    {
     "name": "stdout",
     "output_type": "stream",
     "text": [
      "92.49999999999974\n",
      "68.82500000002561\n",
      "95.00000000000041\n"
     ]
    }
   ],
   "source": [
    "print(dataset0['product'].mean())\n",
    "print(dataset1['product'].mean())\n",
    "print(dataset2['product'].mean())"
   ]
  },
  {
   "cell_type": "markdown",
   "metadata": {},
   "source": [
    "достаточный объём сырья для безубыточной разработки новой скважины:\n",
    "\n",
    "sufficient volume of raw materials for break-even development of a new well:"
   ]
  },
  {
   "cell_type": "code",
   "execution_count": 11,
   "metadata": {},
   "outputs": [
    {
     "name": "stdout",
     "output_type": "stream",
     "text": [
      "достаточный объём сырья для безубыточной разработки новой скважины 111.11111111111111\n"
     ]
    }
   ],
   "source": [
    "min_capacity = 10000000000/(450000*200)\n",
    "print('достаточный объём сырья для безубыточной разработки новой скважины', min_capacity)"
   ]
  },
  {
   "cell_type": "markdown",
   "metadata": {},
   "source": [
    "Минимальное среднее количество продукта в регионах в 1 скважине / Minimum average amount of product in the regions in 1 well: 111.11111111111111.\n",
    "\n",
    "Среднее количество продукта в 0 регионе / Average quantity of product in region 0: 92.50000000000001.\n",
    "\n",
    "Среднее количество продукта в 1 регионе / Average quantity of product in region 1: 68.82500000000002.\n",
    "\n",
    "Среднее количество продукта во 2 регионе / Average quantity of product in region 2: 95.00000000000004."
   ]
  },
  {
   "cell_type": "markdown",
   "metadata": {},
   "source": [
    "Видим, что средние значения в регионах немного меньше, чем минимальное среднее теоретическое. \n",
    "\n",
    "We see that the average values ​​in the regions are slightly less than the minimum theoretical average."
   ]
  },
  {
   "cell_type": "markdown",
   "metadata": {},
   "source": [
    "Функция для подсчета прибыли для 200 лучших скважин / Function for calculating profits for the 200 best wells:"
   ]
  },
  {
   "cell_type": "code",
   "execution_count": 12,
   "metadata": {},
   "outputs": [],
   "source": [
    "def revenue(target, probabilities, count):\n",
    "    cost = 450000\n",
    "    budget = 10000000000\n",
    "    target = pd.Series(target, index = target.index)\n",
    "    probabilities = pd.Series(probabilities, index = target.index)\n",
    "    probs_sorted = probabilities.sort_values(ascending=False)\n",
    "    selected = target[probs_sorted.index][:count]\n",
    "    return cost * selected.sum() - budget"
   ]
  },
  {
   "cell_type": "code",
   "execution_count": 13,
   "metadata": {},
   "outputs": [
    {
     "name": "stdout",
     "output_type": "stream",
     "text": [
      "для 0 региона:\n",
      "3320826043.1398506\n",
      "для 1 региона:\n",
      "2415086696.681511\n",
      "для 2 региона:\n",
      "2688700460.2221584\n"
     ]
    }
   ],
   "source": [
    "print('для 0 региона:')\n",
    "print(revenue(target0_valid, prediction_0, 200))\n",
    "print('для 1 региона:')\n",
    "print(revenue(target1_valid, prediction_1, 200))\n",
    "print('для 2 региона:')\n",
    "print(revenue(target2_valid, prediction_2, 200))"
   ]
  },
  {
   "cell_type": "markdown",
   "metadata": {},
   "source": [
    "## Расчёт прибыли и рисков / Calculation of profits and risks"
   ]
  },
  {
   "cell_type": "markdown",
   "metadata": {},
   "source": [
    "Распределение прибыли с помощью техники Bootstrap / Profit distribution using Bootstrap technique:"
   ]
  },
  {
   "cell_type": "code",
   "execution_count": 14,
   "metadata": {},
   "outputs": [],
   "source": [
    "def profit(target, prediction):\n",
    "    state = np.random.RandomState(12345)\n",
    "    values = []\n",
    "    target = pd.Series(target, index = target.index)\n",
    "    prediction = pd.Series(prediction, index = target.index)\n",
    "    for i in range(1000):\n",
    "        target_500 = target.sample(500, replace=True, random_state=state)\n",
    "        predict_500 = prediction[target_500.index]\n",
    "        values.append(revenue(target_500, predict_500, 200)) \n",
    "\n",
    "    values = pd.Series(values)\n",
    "    lower = values.quantile(0.025)\n",
    "    upper = values.quantile(0.975)\n",
    "    print(values.mean())\n",
    "    print(lower)\n",
    "    print(upper)\n",
    "    print('Риск убытков = {:.2%} '.format((values<0).mean()))"
   ]
  },
  {
   "cell_type": "code",
   "execution_count": 15,
   "metadata": {},
   "outputs": [
    {
     "name": "stdout",
     "output_type": "stream",
     "text": [
      "Для 0 региона\n",
      "425722860.5856449\n",
      "-102090094.83793654\n",
      "947976353.3583689\n",
      "Риск убытков = 6.10% \n",
      "Для 1 региона\n",
      "515228495.8279398\n",
      "68873225.37050176\n",
      "931547591.2570494\n",
      "Риск убытков = 1.00% \n",
      "Для 2 региона\n",
      "435042644.57946986\n",
      "-128880547.32979088\n",
      "968640975.2065092\n",
      "Риск убытков = 6.40% \n"
     ]
    }
   ],
   "source": [
    "print('Для 0 региона')\n",
    "profit(target0_valid, prediction_0)\n",
    "print('Для 1 региона')\n",
    "profit(target1_valid, prediction_1)\n",
    "print('Для 2 региона')\n",
    "profit(target2_valid, prediction_2)"
   ]
  },
  {
   "cell_type": "markdown",
   "metadata": {},
   "source": [
    "Функция для нахождения средней прибыли и  95%-ого доверительного интервала / Function for finding the average profit and 95% confidence interval:"
   ]
  },
  {
   "cell_type": "code",
   "execution_count": 16,
   "metadata": {},
   "outputs": [],
   "source": [
    "def mean_interval(sample):\n",
    "    sample = pd.Series(sample*450000)\n",
    "    print(\"Cреднее:\", sample.mean())\n",
    "    confidence_interval = st.t.interval(0.95, len(sample)-1, sample.mean(), sample.sem())\n",
    "    print(\"95%-ый доверительный интервал:\", confidence_interval)"
   ]
  },
  {
   "cell_type": "code",
   "execution_count": 17,
   "metadata": {},
   "outputs": [
    {
     "name": "stdout",
     "output_type": "stream",
     "text": [
      "Для 0 региона\n",
      "Cреднее: 41666599.01014545\n",
      "95%-ый доверительный интервал: (41537309.49973083, 41795888.52056006)\n",
      "Для 1 региона\n",
      "Cреднее: 30927824.922044486\n",
      "95%-ый доверительный интервал: (30671160.13011207, 31184489.7139769)\n",
      "Для 2 региона\n",
      "Cреднее: 42734352.631418966\n",
      "95%-ый доверительный интервал: (42623599.72246533, 42845105.5403726)\n"
     ]
    }
   ],
   "source": [
    "print('Для 0 региона')\n",
    "mean_interval(prediction_0)\n",
    "print('Для 1 региона')\n",
    "mean_interval(prediction_1)\n",
    "print('Для 2 региона')\n",
    "mean_interval(prediction_2)"
   ]
  },
  {
   "cell_type": "markdown",
   "metadata": {},
   "source": [
    "С помощью процедуры Bootstrap вычислили риск убытков / Using the Bootstrap procedure, we calculated the risk of loss:\n",
    "\n",
    "в 0 регионе / in the 0 region: 6%,\n",
    "\n",
    "в 1 регионе / in the 1 region: 1%,\n",
    "\n",
    "во 2 регионе / in the 2 region: 6,4%.\n",
    "\n",
    "Рекомендованный регион для разработки - 1 регион. / The recommended region for development is 1 region."
   ]
  },
  {
   "cell_type": "code",
   "execution_count": null,
   "metadata": {},
   "outputs": [],
   "source": []
  }
 ],
 "metadata": {
  "ExecuteTimeLog": [
   {
    "duration": 428,
    "start_time": "2023-01-20T13:17:31.776Z"
   },
   {
    "duration": 1134,
    "start_time": "2023-01-20T13:17:33.222Z"
   },
   {
    "duration": 188,
    "start_time": "2023-01-20T13:17:47.214Z"
   },
   {
    "duration": 163,
    "start_time": "2023-01-20T13:17:53.177Z"
   },
   {
    "duration": 530,
    "start_time": "2023-01-20T13:19:32.398Z"
   },
   {
    "duration": 362,
    "start_time": "2023-01-20T13:19:58.307Z"
   },
   {
    "duration": 33,
    "start_time": "2023-01-20T13:20:00.107Z"
   },
   {
    "duration": 35,
    "start_time": "2023-01-20T13:20:39.834Z"
   },
   {
    "duration": 1127,
    "start_time": "2023-01-20T13:25:39.002Z"
   },
   {
    "duration": 368,
    "start_time": "2023-01-20T13:25:40.131Z"
   },
   {
    "duration": 40,
    "start_time": "2023-01-20T13:25:40.501Z"
   },
   {
    "duration": 60,
    "start_time": "2023-01-20T13:25:40.543Z"
   },
   {
    "duration": 48,
    "start_time": "2023-01-20T13:25:40.605Z"
   },
   {
    "duration": 3,
    "start_time": "2023-01-20T13:40:36.994Z"
   },
   {
    "duration": 383,
    "start_time": "2023-01-20T13:40:36.999Z"
   },
   {
    "duration": 40,
    "start_time": "2023-01-20T13:40:37.384Z"
   },
   {
    "duration": 37,
    "start_time": "2023-01-20T13:40:37.425Z"
   },
   {
    "duration": 77,
    "start_time": "2023-01-20T13:40:37.465Z"
   },
   {
    "duration": 26,
    "start_time": "2023-01-20T13:40:37.544Z"
   },
   {
    "duration": 93,
    "start_time": "2023-01-20T13:40:45.070Z"
   },
   {
    "duration": 4,
    "start_time": "2023-01-20T13:41:21.801Z"
   },
   {
    "duration": 11,
    "start_time": "2023-01-20T13:41:34.862Z"
   },
   {
    "duration": 14,
    "start_time": "2023-01-20T13:43:02.938Z"
   },
   {
    "duration": 160,
    "start_time": "2023-01-20T13:43:22.581Z"
   },
   {
    "duration": 158,
    "start_time": "2023-01-20T13:45:41.905Z"
   },
   {
    "duration": 6,
    "start_time": "2023-01-20T13:45:45.872Z"
   },
   {
    "duration": 21,
    "start_time": "2023-01-20T14:04:23.767Z"
   },
   {
    "duration": 373,
    "start_time": "2023-01-20T14:04:25.292Z"
   },
   {
    "duration": 30,
    "start_time": "2023-01-20T14:04:26.343Z"
   },
   {
    "duration": 42,
    "start_time": "2023-01-20T14:04:30.276Z"
   },
   {
    "duration": 5,
    "start_time": "2023-01-20T14:04:36.595Z"
   },
   {
    "duration": 93,
    "start_time": "2023-01-20T14:04:37.260Z"
   },
   {
    "duration": 5,
    "start_time": "2023-01-20T14:05:14.817Z"
   },
   {
    "duration": 110,
    "start_time": "2023-01-20T14:05:15.725Z"
   },
   {
    "duration": 247,
    "start_time": "2023-01-20T14:06:16.656Z"
   },
   {
    "duration": 9,
    "start_time": "2023-01-20T14:07:08.164Z"
   },
   {
    "duration": 5,
    "start_time": "2023-01-20T14:07:11.189Z"
   },
   {
    "duration": 258,
    "start_time": "2023-01-20T14:07:11.638Z"
   },
   {
    "duration": 11,
    "start_time": "2023-01-20T14:13:50.688Z"
   },
   {
    "duration": 10,
    "start_time": "2023-01-20T14:16:17.553Z"
   },
   {
    "duration": 10,
    "start_time": "2023-01-20T14:16:24.874Z"
   },
   {
    "duration": 32,
    "start_time": "2023-01-20T14:16:32.359Z"
   },
   {
    "duration": 39,
    "start_time": "2023-01-20T14:17:51.191Z"
   },
   {
    "duration": 22,
    "start_time": "2023-01-20T14:19:42.621Z"
   },
   {
    "duration": 20,
    "start_time": "2023-01-20T14:19:55.916Z"
   },
   {
    "duration": 4,
    "start_time": "2023-01-20T14:20:33.825Z"
   },
   {
    "duration": 9,
    "start_time": "2023-01-20T14:22:14.840Z"
   },
   {
    "duration": 24,
    "start_time": "2023-01-20T14:22:22.904Z"
   },
   {
    "duration": 17,
    "start_time": "2023-01-20T14:22:51.258Z"
   },
   {
    "duration": 14,
    "start_time": "2023-01-20T14:23:16.927Z"
   },
   {
    "duration": 3,
    "start_time": "2023-01-20T14:23:57.625Z"
   },
   {
    "duration": 386,
    "start_time": "2023-01-20T14:23:57.630Z"
   },
   {
    "duration": 32,
    "start_time": "2023-01-20T14:23:58.018Z"
   },
   {
    "duration": 33,
    "start_time": "2023-01-20T14:23:58.051Z"
   },
   {
    "duration": 12,
    "start_time": "2023-01-20T14:24:07.334Z"
   },
   {
    "duration": 42,
    "start_time": "2023-01-20T14:24:29.492Z"
   },
   {
    "duration": 81,
    "start_time": "2023-01-20T14:24:56.045Z"
   },
   {
    "duration": 25,
    "start_time": "2023-01-20T14:25:01.020Z"
   },
   {
    "duration": 35,
    "start_time": "2023-01-20T14:25:36.990Z"
   },
   {
    "duration": 3,
    "start_time": "2023-01-20T14:25:57.875Z"
   },
   {
    "duration": 17,
    "start_time": "2023-01-20T14:26:03.113Z"
   },
   {
    "duration": 11,
    "start_time": "2023-01-20T14:26:24.688Z"
   },
   {
    "duration": 11,
    "start_time": "2023-01-20T14:27:59.186Z"
   },
   {
    "duration": 11,
    "start_time": "2023-01-20T14:28:05.917Z"
   },
   {
    "duration": 29,
    "start_time": "2023-01-20T14:33:27.982Z"
   },
   {
    "duration": 5,
    "start_time": "2023-01-20T14:33:35.257Z"
   },
   {
    "duration": 4,
    "start_time": "2023-01-20T14:33:35.777Z"
   },
   {
    "duration": 81,
    "start_time": "2023-01-20T14:33:37.329Z"
   },
   {
    "duration": 4,
    "start_time": "2023-01-20T14:34:30.191Z"
   },
   {
    "duration": 106,
    "start_time": "2023-01-20T14:34:36.318Z"
   },
   {
    "duration": 1116,
    "start_time": "2023-01-20T14:51:20.783Z"
   },
   {
    "duration": 428,
    "start_time": "2023-01-20T14:51:21.901Z"
   },
   {
    "duration": 40,
    "start_time": "2023-01-20T14:51:22.330Z"
   },
   {
    "duration": 52,
    "start_time": "2023-01-20T14:51:22.372Z"
   },
   {
    "duration": 16,
    "start_time": "2023-01-20T14:51:22.426Z"
   },
   {
    "duration": 6,
    "start_time": "2023-01-20T14:51:22.443Z"
   },
   {
    "duration": 133,
    "start_time": "2023-01-20T14:51:22.451Z"
   },
   {
    "duration": 0,
    "start_time": "2023-01-20T14:51:22.586Z"
   },
   {
    "duration": 0,
    "start_time": "2023-01-20T14:51:22.588Z"
   },
   {
    "duration": 0,
    "start_time": "2023-01-20T14:51:22.589Z"
   },
   {
    "duration": 0,
    "start_time": "2023-01-20T14:51:22.603Z"
   },
   {
    "duration": 37,
    "start_time": "2023-01-20T14:54:19.237Z"
   },
   {
    "duration": 26,
    "start_time": "2023-01-20T14:54:31.233Z"
   },
   {
    "duration": 27,
    "start_time": "2023-01-20T14:54:34.600Z"
   },
   {
    "duration": 6,
    "start_time": "2023-01-20T14:54:37.672Z"
   },
   {
    "duration": 21,
    "start_time": "2023-01-20T14:54:38.372Z"
   },
   {
    "duration": 1138,
    "start_time": "2023-01-20T14:54:50.603Z"
   },
   {
    "duration": 403,
    "start_time": "2023-01-20T14:54:51.744Z"
   },
   {
    "duration": 42,
    "start_time": "2023-01-20T14:54:52.149Z"
   },
   {
    "duration": 50,
    "start_time": "2023-01-20T14:54:52.193Z"
   },
   {
    "duration": 18,
    "start_time": "2023-01-20T14:54:52.245Z"
   },
   {
    "duration": 28,
    "start_time": "2023-01-20T14:54:52.265Z"
   },
   {
    "duration": 147,
    "start_time": "2023-01-20T14:54:52.295Z"
   },
   {
    "duration": 0,
    "start_time": "2023-01-20T14:54:52.443Z"
   },
   {
    "duration": 0,
    "start_time": "2023-01-20T14:54:52.444Z"
   },
   {
    "duration": 0,
    "start_time": "2023-01-20T14:54:52.445Z"
   },
   {
    "duration": 18,
    "start_time": "2023-01-20T14:56:12.469Z"
   },
   {
    "duration": 14,
    "start_time": "2023-01-20T14:56:16.451Z"
   },
   {
    "duration": 15,
    "start_time": "2023-01-20T14:56:20.865Z"
   },
   {
    "duration": 13,
    "start_time": "2023-01-20T14:56:25.784Z"
   },
   {
    "duration": 13,
    "start_time": "2023-01-20T14:56:28.386Z"
   },
   {
    "duration": 1264,
    "start_time": "2023-01-20T14:56:41.498Z"
   },
   {
    "duration": 440,
    "start_time": "2023-01-20T14:56:42.764Z"
   },
   {
    "duration": 56,
    "start_time": "2023-01-20T14:56:43.213Z"
   },
   {
    "duration": 57,
    "start_time": "2023-01-20T14:56:43.271Z"
   },
   {
    "duration": 19,
    "start_time": "2023-01-20T14:56:43.330Z"
   },
   {
    "duration": 11,
    "start_time": "2023-01-20T14:56:43.351Z"
   },
   {
    "duration": 184,
    "start_time": "2023-01-20T14:56:43.364Z"
   },
   {
    "duration": 0,
    "start_time": "2023-01-20T14:56:43.550Z"
   },
   {
    "duration": 0,
    "start_time": "2023-01-20T14:56:43.552Z"
   },
   {
    "duration": 0,
    "start_time": "2023-01-20T14:56:43.556Z"
   },
   {
    "duration": 101,
    "start_time": "2023-01-20T14:57:47.992Z"
   },
   {
    "duration": 4,
    "start_time": "2023-01-20T14:58:10.340Z"
   },
   {
    "duration": 4,
    "start_time": "2023-01-20T14:58:11.671Z"
   },
   {
    "duration": 7,
    "start_time": "2023-01-20T14:58:16.191Z"
   },
   {
    "duration": 5,
    "start_time": "2023-01-20T14:58:57.553Z"
   },
   {
    "duration": 9,
    "start_time": "2023-01-20T14:59:12.568Z"
   },
   {
    "duration": 271,
    "start_time": "2023-01-20T14:59:36.335Z"
   },
   {
    "duration": 4,
    "start_time": "2023-01-20T15:00:27.936Z"
   },
   {
    "duration": 140,
    "start_time": "2023-01-20T15:00:29.189Z"
   },
   {
    "duration": 495,
    "start_time": "2023-01-20T15:02:09.931Z"
   },
   {
    "duration": 1144,
    "start_time": "2023-01-20T15:04:05.886Z"
   },
   {
    "duration": 404,
    "start_time": "2023-01-20T15:04:07.032Z"
   },
   {
    "duration": 40,
    "start_time": "2023-01-20T15:04:07.437Z"
   },
   {
    "duration": 56,
    "start_time": "2023-01-20T15:04:07.479Z"
   },
   {
    "duration": 19,
    "start_time": "2023-01-20T15:04:07.537Z"
   },
   {
    "duration": 8,
    "start_time": "2023-01-20T15:04:07.558Z"
   },
   {
    "duration": 100,
    "start_time": "2023-01-20T15:04:07.567Z"
   },
   {
    "duration": 4,
    "start_time": "2023-01-20T15:04:07.669Z"
   },
   {
    "duration": 8,
    "start_time": "2023-01-20T15:04:07.675Z"
   },
   {
    "duration": 22,
    "start_time": "2023-01-20T15:04:07.684Z"
   },
   {
    "duration": 699,
    "start_time": "2023-01-20T15:04:07.709Z"
   },
   {
    "duration": 1113,
    "start_time": "2023-01-20T15:05:27.221Z"
   },
   {
    "duration": 384,
    "start_time": "2023-01-20T15:05:28.336Z"
   },
   {
    "duration": 39,
    "start_time": "2023-01-20T15:05:28.722Z"
   },
   {
    "duration": 63,
    "start_time": "2023-01-20T15:05:28.763Z"
   },
   {
    "duration": 19,
    "start_time": "2023-01-20T15:05:28.828Z"
   },
   {
    "duration": 17,
    "start_time": "2023-01-20T15:05:28.849Z"
   },
   {
    "duration": 133,
    "start_time": "2023-01-20T15:05:28.868Z"
   },
   {
    "duration": 0,
    "start_time": "2023-01-20T15:05:29.004Z"
   },
   {
    "duration": 0,
    "start_time": "2023-01-20T15:05:29.005Z"
   },
   {
    "duration": 0,
    "start_time": "2023-01-20T15:05:29.007Z"
   },
   {
    "duration": 0,
    "start_time": "2023-01-20T15:05:29.009Z"
   },
   {
    "duration": 1149,
    "start_time": "2023-01-20T15:06:02.375Z"
   },
   {
    "duration": 383,
    "start_time": "2023-01-20T15:06:03.526Z"
   },
   {
    "duration": 40,
    "start_time": "2023-01-20T15:06:03.910Z"
   },
   {
    "duration": 35,
    "start_time": "2023-01-20T15:06:03.952Z"
   },
   {
    "duration": 21,
    "start_time": "2023-01-20T15:06:04.003Z"
   },
   {
    "duration": 7,
    "start_time": "2023-01-20T15:06:04.026Z"
   },
   {
    "duration": 101,
    "start_time": "2023-01-20T15:06:04.035Z"
   },
   {
    "duration": 11,
    "start_time": "2023-01-20T15:06:04.140Z"
   },
   {
    "duration": 30,
    "start_time": "2023-01-20T15:06:04.153Z"
   },
   {
    "duration": 43,
    "start_time": "2023-01-20T15:06:04.186Z"
   },
   {
    "duration": 862,
    "start_time": "2023-01-20T15:06:04.232Z"
   },
   {
    "duration": 6,
    "start_time": "2023-01-20T15:09:53.613Z"
   },
   {
    "duration": 1137,
    "start_time": "2023-01-20T15:10:03.717Z"
   },
   {
    "duration": 409,
    "start_time": "2023-01-20T15:10:04.856Z"
   },
   {
    "duration": 59,
    "start_time": "2023-01-20T15:10:05.267Z"
   },
   {
    "duration": 34,
    "start_time": "2023-01-20T15:10:05.328Z"
   },
   {
    "duration": 16,
    "start_time": "2023-01-20T15:10:05.365Z"
   },
   {
    "duration": 42,
    "start_time": "2023-01-20T15:10:05.382Z"
   },
   {
    "duration": 123,
    "start_time": "2023-01-20T15:10:05.426Z"
   },
   {
    "duration": 4,
    "start_time": "2023-01-20T15:10:05.551Z"
   },
   {
    "duration": 46,
    "start_time": "2023-01-20T15:10:05.556Z"
   },
   {
    "duration": 86,
    "start_time": "2023-01-20T15:10:05.604Z"
   },
   {
    "duration": 817,
    "start_time": "2023-01-20T15:10:05.692Z"
   },
   {
    "duration": 5,
    "start_time": "2023-01-20T15:11:32.073Z"
   },
   {
    "duration": 1143,
    "start_time": "2023-01-20T15:11:45.188Z"
   },
   {
    "duration": 384,
    "start_time": "2023-01-20T15:11:46.334Z"
   },
   {
    "duration": 41,
    "start_time": "2023-01-20T15:11:46.720Z"
   },
   {
    "duration": 33,
    "start_time": "2023-01-20T15:11:46.763Z"
   },
   {
    "duration": 20,
    "start_time": "2023-01-20T15:11:46.804Z"
   },
   {
    "duration": 13,
    "start_time": "2023-01-20T15:11:46.826Z"
   },
   {
    "duration": 91,
    "start_time": "2023-01-20T15:11:46.840Z"
   },
   {
    "duration": 5,
    "start_time": "2023-01-20T15:11:46.933Z"
   },
   {
    "duration": 8,
    "start_time": "2023-01-20T15:11:46.939Z"
   },
   {
    "duration": 10,
    "start_time": "2023-01-20T15:11:46.949Z"
   },
   {
    "duration": 736,
    "start_time": "2023-01-20T15:11:46.960Z"
   },
   {
    "duration": 5,
    "start_time": "2023-01-20T15:13:40.554Z"
   },
   {
    "duration": 105,
    "start_time": "2023-01-20T15:13:43.026Z"
   },
   {
    "duration": 5,
    "start_time": "2023-01-20T15:13:56.054Z"
   },
   {
    "duration": 739,
    "start_time": "2023-01-20T15:13:56.791Z"
   },
   {
    "duration": 5,
    "start_time": "2023-01-20T15:14:16.086Z"
   },
   {
    "duration": 473,
    "start_time": "2023-01-20T15:14:16.642Z"
   },
   {
    "duration": 5,
    "start_time": "2023-01-20T15:14:49.719Z"
   },
   {
    "duration": 621,
    "start_time": "2023-01-20T15:14:52.593Z"
   },
   {
    "duration": 12,
    "start_time": "2023-01-20T15:15:17.811Z"
   },
   {
    "duration": 148,
    "start_time": "2023-01-20T15:15:18.361Z"
   },
   {
    "duration": 5,
    "start_time": "2023-01-20T15:15:57.639Z"
   },
   {
    "duration": 454,
    "start_time": "2023-01-20T15:15:58.256Z"
   },
   {
    "duration": 227,
    "start_time": "2023-01-20T15:16:57.899Z"
   },
   {
    "duration": 77,
    "start_time": "2023-01-20T15:17:14.752Z"
   },
   {
    "duration": 187,
    "start_time": "2023-01-20T15:17:16.023Z"
   },
   {
    "duration": 5,
    "start_time": "2023-01-20T15:17:27.737Z"
   },
   {
    "duration": 132,
    "start_time": "2023-01-20T15:17:28.675Z"
   },
   {
    "duration": 44,
    "start_time": "2023-01-20T15:17:30.567Z"
   },
   {
    "duration": 65,
    "start_time": "2023-01-20T15:17:37.658Z"
   },
   {
    "duration": 9,
    "start_time": "2023-01-20T15:17:43.906Z"
   },
   {
    "duration": 130,
    "start_time": "2023-01-20T15:17:44.392Z"
   },
   {
    "duration": 66,
    "start_time": "2023-01-20T15:17:46.058Z"
   },
   {
    "duration": 67,
    "start_time": "2023-01-20T15:17:50.053Z"
   },
   {
    "duration": 154,
    "start_time": "2023-01-20T15:17:50.653Z"
   },
   {
    "duration": 5,
    "start_time": "2023-01-20T15:18:10.016Z"
   },
   {
    "duration": 83,
    "start_time": "2023-01-20T15:18:10.539Z"
   },
   {
    "duration": 97,
    "start_time": "2023-01-20T15:18:11.120Z"
   },
   {
    "duration": 6,
    "start_time": "2023-01-20T15:18:33.638Z"
   },
   {
    "duration": 153,
    "start_time": "2023-01-20T15:18:34.156Z"
   },
   {
    "duration": 119,
    "start_time": "2023-01-20T15:18:37.588Z"
   },
   {
    "duration": 5,
    "start_time": "2023-01-20T15:18:47.571Z"
   },
   {
    "duration": 72,
    "start_time": "2023-01-20T15:18:48.938Z"
   },
   {
    "duration": 74,
    "start_time": "2023-01-20T15:18:50.056Z"
   },
   {
    "duration": 5,
    "start_time": "2023-01-20T15:18:56.521Z"
   },
   {
    "duration": 91,
    "start_time": "2023-01-20T15:18:57.225Z"
   },
   {
    "duration": 92,
    "start_time": "2023-01-20T15:18:58.636Z"
   },
   {
    "duration": 8,
    "start_time": "2023-01-20T15:20:23.856Z"
   },
   {
    "duration": 164,
    "start_time": "2023-01-20T15:20:24.359Z"
   },
   {
    "duration": 74,
    "start_time": "2023-01-20T15:20:25.773Z"
   },
   {
    "duration": 167,
    "start_time": "2023-01-20T15:20:32.891Z"
   },
   {
    "duration": 6,
    "start_time": "2023-01-20T15:20:55.769Z"
   },
   {
    "duration": 1170,
    "start_time": "2023-01-20T15:21:04.000Z"
   },
   {
    "duration": 480,
    "start_time": "2023-01-20T15:21:05.172Z"
   },
   {
    "duration": 56,
    "start_time": "2023-01-20T15:21:05.655Z"
   },
   {
    "duration": 73,
    "start_time": "2023-01-20T15:21:05.713Z"
   },
   {
    "duration": 25,
    "start_time": "2023-01-20T15:21:05.789Z"
   },
   {
    "duration": 48,
    "start_time": "2023-01-20T15:21:05.816Z"
   },
   {
    "duration": 110,
    "start_time": "2023-01-20T15:21:05.866Z"
   },
   {
    "duration": 4,
    "start_time": "2023-01-20T15:21:05.978Z"
   },
   {
    "duration": 17,
    "start_time": "2023-01-20T15:21:05.984Z"
   },
   {
    "duration": 53,
    "start_time": "2023-01-20T15:21:06.005Z"
   },
   {
    "duration": 155,
    "start_time": "2023-01-20T15:21:06.060Z"
   },
   {
    "duration": 191,
    "start_time": "2023-01-20T15:21:06.229Z"
   },
   {
    "duration": 308,
    "start_time": "2023-01-20T15:21:06.426Z"
   },
   {
    "duration": 11,
    "start_time": "2023-01-20T15:23:19.673Z"
   },
   {
    "duration": 60,
    "start_time": "2023-01-20T15:23:20.397Z"
   },
   {
    "duration": 1239,
    "start_time": "2023-01-20T15:23:27.278Z"
   },
   {
    "duration": 427,
    "start_time": "2023-01-20T15:23:28.520Z"
   },
   {
    "duration": 40,
    "start_time": "2023-01-20T15:23:28.948Z"
   },
   {
    "duration": 56,
    "start_time": "2023-01-20T15:23:28.990Z"
   },
   {
    "duration": 16,
    "start_time": "2023-01-20T15:23:29.049Z"
   },
   {
    "duration": 6,
    "start_time": "2023-01-20T15:23:29.066Z"
   },
   {
    "duration": 108,
    "start_time": "2023-01-20T15:23:29.074Z"
   },
   {
    "duration": 6,
    "start_time": "2023-01-20T15:23:29.184Z"
   },
   {
    "duration": 14,
    "start_time": "2023-01-20T15:23:29.192Z"
   },
   {
    "duration": 49,
    "start_time": "2023-01-20T15:23:29.208Z"
   },
   {
    "duration": 282,
    "start_time": "2023-01-20T15:23:29.259Z"
   },
   {
    "duration": 388,
    "start_time": "2023-01-20T15:23:29.546Z"
   },
   {
    "duration": 374,
    "start_time": "2023-01-20T15:23:29.941Z"
   },
   {
    "duration": 1424,
    "start_time": "2023-01-20T15:24:11.901Z"
   },
   {
    "duration": 466,
    "start_time": "2023-01-20T15:24:13.327Z"
   },
   {
    "duration": 65,
    "start_time": "2023-01-20T15:24:13.795Z"
   },
   {
    "duration": 60,
    "start_time": "2023-01-20T15:24:13.864Z"
   },
   {
    "duration": 22,
    "start_time": "2023-01-20T15:24:13.926Z"
   },
   {
    "duration": 9,
    "start_time": "2023-01-20T15:24:13.950Z"
   },
   {
    "duration": 108,
    "start_time": "2023-01-20T15:24:13.961Z"
   },
   {
    "duration": 5,
    "start_time": "2023-01-20T15:24:14.076Z"
   },
   {
    "duration": 10,
    "start_time": "2023-01-20T15:24:14.083Z"
   },
   {
    "duration": 49,
    "start_time": "2023-01-20T15:24:14.096Z"
   },
   {
    "duration": 441,
    "start_time": "2023-01-20T15:24:14.150Z"
   },
   {
    "duration": 0,
    "start_time": "2023-01-20T15:24:14.594Z"
   },
   {
    "duration": 0,
    "start_time": "2023-01-20T15:24:14.595Z"
   },
   {
    "duration": 12,
    "start_time": "2023-01-20T15:27:37.606Z"
   },
   {
    "duration": 284,
    "start_time": "2023-01-20T15:27:38.557Z"
   },
   {
    "duration": 15,
    "start_time": "2023-01-20T15:27:58.301Z"
   },
   {
    "duration": 186,
    "start_time": "2023-01-20T15:27:59.057Z"
   },
   {
    "duration": 293,
    "start_time": "2023-01-20T15:28:05.424Z"
   },
   {
    "duration": 5,
    "start_time": "2023-01-20T15:28:18.088Z"
   },
   {
    "duration": 203,
    "start_time": "2023-01-20T15:28:18.934Z"
   },
   {
    "duration": 5,
    "start_time": "2023-01-20T15:28:24.739Z"
   },
   {
    "duration": 79,
    "start_time": "2023-01-20T15:28:25.454Z"
   },
   {
    "duration": 5,
    "start_time": "2023-01-20T15:28:36.239Z"
   },
   {
    "duration": 60,
    "start_time": "2023-01-20T15:28:36.973Z"
   },
   {
    "duration": 5,
    "start_time": "2023-01-20T15:28:47.070Z"
   },
   {
    "duration": 272,
    "start_time": "2023-01-20T15:28:47.638Z"
   },
   {
    "duration": 5,
    "start_time": "2023-01-20T15:28:57.155Z"
   },
   {
    "duration": 202,
    "start_time": "2023-01-20T15:28:57.941Z"
   },
   {
    "duration": 5,
    "start_time": "2023-01-20T15:29:02.251Z"
   },
   {
    "duration": 216,
    "start_time": "2023-01-20T15:29:02.726Z"
   },
   {
    "duration": 5,
    "start_time": "2023-01-20T15:29:07.155Z"
   },
   {
    "duration": 110,
    "start_time": "2023-01-20T15:29:07.729Z"
   },
   {
    "duration": 351,
    "start_time": "2023-01-20T15:29:12.374Z"
   },
   {
    "duration": 5,
    "start_time": "2023-01-20T15:29:18.881Z"
   },
   {
    "duration": 128,
    "start_time": "2023-01-20T15:29:19.387Z"
   },
   {
    "duration": 239,
    "start_time": "2023-01-20T15:29:20.807Z"
   },
   {
    "duration": 5,
    "start_time": "2023-01-20T15:29:29.069Z"
   },
   {
    "duration": 189,
    "start_time": "2023-01-20T15:29:29.957Z"
   },
   {
    "duration": 6,
    "start_time": "2023-01-20T15:29:38.153Z"
   },
   {
    "duration": 262,
    "start_time": "2023-01-20T15:29:43.671Z"
   },
   {
    "duration": 5,
    "start_time": "2023-01-20T15:29:54.459Z"
   },
   {
    "duration": 191,
    "start_time": "2023-01-20T15:29:55.136Z"
   },
   {
    "duration": 7,
    "start_time": "2023-01-20T15:30:00.372Z"
   },
   {
    "duration": 204,
    "start_time": "2023-01-20T15:30:01.042Z"
   },
   {
    "duration": 182,
    "start_time": "2023-01-20T15:30:08.258Z"
   },
   {
    "duration": 5,
    "start_time": "2023-01-20T15:30:18.291Z"
   },
   {
    "duration": 151,
    "start_time": "2023-01-20T15:30:18.976Z"
   },
   {
    "duration": 306,
    "start_time": "2023-01-20T15:30:22.738Z"
   },
   {
    "duration": 4,
    "start_time": "2023-01-20T15:30:28.689Z"
   },
   {
    "duration": 209,
    "start_time": "2023-01-20T15:30:29.237Z"
   },
   {
    "duration": 5,
    "start_time": "2023-01-20T15:30:33.174Z"
   },
   {
    "duration": 190,
    "start_time": "2023-01-20T15:30:33.656Z"
   },
   {
    "duration": 154,
    "start_time": "2023-01-20T15:30:37.773Z"
   },
   {
    "duration": 79,
    "start_time": "2023-01-20T15:30:39.259Z"
   },
   {
    "duration": 21,
    "start_time": "2023-01-20T15:31:34.824Z"
   },
   {
    "duration": 158,
    "start_time": "2023-01-20T15:31:37.474Z"
   },
   {
    "duration": 9,
    "start_time": "2023-01-20T15:31:44.800Z"
   },
   {
    "duration": 128,
    "start_time": "2023-01-20T15:31:47.287Z"
   },
   {
    "duration": 7,
    "start_time": "2023-01-20T15:31:53.734Z"
   },
   {
    "duration": 191,
    "start_time": "2023-01-20T15:31:56.439Z"
   },
   {
    "duration": 6,
    "start_time": "2023-01-20T15:32:04.644Z"
   },
   {
    "duration": 179,
    "start_time": "2023-01-20T15:32:06.628Z"
   },
   {
    "duration": 5,
    "start_time": "2023-01-20T15:32:10.981Z"
   },
   {
    "duration": 65,
    "start_time": "2023-01-20T15:32:13.370Z"
   },
   {
    "duration": 7,
    "start_time": "2023-01-20T15:36:23.128Z"
   },
   {
    "duration": 175,
    "start_time": "2023-01-20T15:36:24.460Z"
   },
   {
    "duration": 342,
    "start_time": "2023-01-20T15:37:03.189Z"
   },
   {
    "duration": 130,
    "start_time": "2023-01-20T15:37:09.013Z"
   },
   {
    "duration": 8,
    "start_time": "2023-01-20T15:40:11.531Z"
   },
   {
    "duration": 318,
    "start_time": "2023-01-20T15:40:12.332Z"
   },
   {
    "duration": 259,
    "start_time": "2023-01-20T15:40:14.079Z"
   },
   {
    "duration": 9,
    "start_time": "2023-01-20T15:41:07.273Z"
   },
   {
    "duration": 149,
    "start_time": "2023-01-20T15:41:07.779Z"
   },
   {
    "duration": 186,
    "start_time": "2023-01-20T15:41:10.030Z"
   },
   {
    "duration": 89,
    "start_time": "2023-01-20T15:41:12.227Z"
   },
   {
    "duration": 9,
    "start_time": "2023-01-20T15:43:20.728Z"
   },
   {
    "duration": 259,
    "start_time": "2023-01-20T15:43:23.362Z"
   },
   {
    "duration": 8,
    "start_time": "2023-01-20T15:44:50.762Z"
   },
   {
    "duration": 298,
    "start_time": "2023-01-20T15:44:51.429Z"
   },
   {
    "duration": 123,
    "start_time": "2023-01-20T15:44:53.697Z"
   },
   {
    "duration": 171,
    "start_time": "2023-01-20T15:45:40.749Z"
   },
   {
    "duration": 1197,
    "start_time": "2023-01-20T16:01:23.753Z"
   },
   {
    "duration": 424,
    "start_time": "2023-01-20T16:01:24.952Z"
   },
   {
    "duration": 55,
    "start_time": "2023-01-20T16:01:25.378Z"
   },
   {
    "duration": 34,
    "start_time": "2023-01-20T16:01:25.435Z"
   },
   {
    "duration": 16,
    "start_time": "2023-01-20T16:01:25.471Z"
   },
   {
    "duration": 46,
    "start_time": "2023-01-20T16:01:25.489Z"
   },
   {
    "duration": 84,
    "start_time": "2023-01-20T16:01:25.537Z"
   },
   {
    "duration": 5,
    "start_time": "2023-01-20T16:01:25.622Z"
   },
   {
    "duration": 4,
    "start_time": "2023-01-20T16:01:25.629Z"
   },
   {
    "duration": 18,
    "start_time": "2023-01-20T16:01:25.637Z"
   },
   {
    "duration": 541,
    "start_time": "2023-01-20T16:01:25.656Z"
   },
   {
    "duration": 0,
    "start_time": "2023-01-20T16:01:26.199Z"
   },
   {
    "duration": 0,
    "start_time": "2023-01-20T16:01:26.203Z"
   },
   {
    "duration": 112,
    "start_time": "2023-01-20T16:01:59.609Z"
   },
   {
    "duration": 393,
    "start_time": "2023-01-20T16:02:00.722Z"
   },
   {
    "duration": 16,
    "start_time": "2023-01-20T16:02:01.955Z"
   },
   {
    "duration": 1350,
    "start_time": "2023-01-20T16:49:33.097Z"
   },
   {
    "duration": 492,
    "start_time": "2023-01-20T16:49:34.453Z"
   },
   {
    "duration": 79,
    "start_time": "2023-01-20T16:49:34.947Z"
   },
   {
    "duration": 47,
    "start_time": "2023-01-20T16:49:35.028Z"
   },
   {
    "duration": 31,
    "start_time": "2023-01-20T16:49:35.078Z"
   },
   {
    "duration": 27,
    "start_time": "2023-01-20T16:49:35.111Z"
   },
   {
    "duration": 125,
    "start_time": "2023-01-20T16:49:35.140Z"
   },
   {
    "duration": 8,
    "start_time": "2023-01-20T16:49:35.268Z"
   },
   {
    "duration": 19,
    "start_time": "2023-01-20T16:49:35.279Z"
   },
   {
    "duration": 42,
    "start_time": "2023-01-20T16:49:35.300Z"
   },
   {
    "duration": 171,
    "start_time": "2023-01-20T16:49:35.344Z"
   },
   {
    "duration": 417,
    "start_time": "2023-01-20T16:49:35.517Z"
   },
   {
    "duration": 167,
    "start_time": "2023-01-20T16:49:35.939Z"
   },
   {
    "duration": 5,
    "start_time": "2023-01-20T17:00:26.794Z"
   },
   {
    "duration": 343,
    "start_time": "2023-01-20T17:00:27.880Z"
   },
   {
    "duration": 5,
    "start_time": "2023-01-20T17:02:16.332Z"
   },
   {
    "duration": 77,
    "start_time": "2023-01-20T17:02:16.978Z"
   },
   {
    "duration": 225,
    "start_time": "2023-01-20T17:03:08.492Z"
   },
   {
    "duration": 1074,
    "start_time": "2023-01-21T08:04:04.805Z"
   },
   {
    "duration": 904,
    "start_time": "2023-01-21T08:04:05.881Z"
   },
   {
    "duration": 39,
    "start_time": "2023-01-21T08:04:06.787Z"
   },
   {
    "duration": 48,
    "start_time": "2023-01-21T08:04:06.828Z"
   },
   {
    "duration": 18,
    "start_time": "2023-01-21T08:04:06.879Z"
   },
   {
    "duration": 14,
    "start_time": "2023-01-21T08:04:06.898Z"
   },
   {
    "duration": 103,
    "start_time": "2023-01-21T08:04:06.914Z"
   },
   {
    "duration": 3,
    "start_time": "2023-01-21T08:04:07.019Z"
   },
   {
    "duration": 36,
    "start_time": "2023-01-21T08:04:07.024Z"
   },
   {
    "duration": 23,
    "start_time": "2023-01-21T08:04:07.062Z"
   },
   {
    "duration": 32,
    "start_time": "2023-01-21T08:04:07.087Z"
   },
   {
    "duration": 61,
    "start_time": "2023-01-21T08:04:07.120Z"
   },
   {
    "duration": 174,
    "start_time": "2023-01-21T08:04:07.183Z"
   },
   {
    "duration": 484,
    "start_time": "2023-01-21T08:04:07.361Z"
   },
   {
    "duration": 0,
    "start_time": "2023-01-21T08:04:07.853Z"
   },
   {
    "duration": 4,
    "start_time": "2023-01-21T08:05:48.294Z"
   },
   {
    "duration": 4,
    "start_time": "2023-01-21T08:05:48.976Z"
   },
   {
    "duration": 182,
    "start_time": "2023-01-21T08:05:49.479Z"
   },
   {
    "duration": 4,
    "start_time": "2023-01-21T08:06:10.037Z"
   },
   {
    "duration": 3,
    "start_time": "2023-01-21T08:06:10.495Z"
   },
   {
    "duration": 182,
    "start_time": "2023-01-21T08:06:11.181Z"
   },
   {
    "duration": 4,
    "start_time": "2023-01-21T08:06:21.178Z"
   },
   {
    "duration": 3,
    "start_time": "2023-01-21T08:06:21.695Z"
   },
   {
    "duration": 154,
    "start_time": "2023-01-21T08:06:22.399Z"
   },
   {
    "duration": 305,
    "start_time": "2023-01-21T08:06:26.349Z"
   },
   {
    "duration": 21,
    "start_time": "2023-01-21T08:06:53.927Z"
   },
   {
    "duration": 3,
    "start_time": "2023-01-21T08:07:24.903Z"
   },
   {
    "duration": 148,
    "start_time": "2023-01-21T08:07:25.510Z"
   },
   {
    "duration": 266,
    "start_time": "2023-01-21T08:07:26.590Z"
   },
   {
    "duration": 311,
    "start_time": "2023-01-21T08:07:30.749Z"
   },
   {
    "duration": 1126,
    "start_time": "2023-01-21T08:08:00.128Z"
   },
   {
    "duration": 376,
    "start_time": "2023-01-21T08:08:01.256Z"
   },
   {
    "duration": 38,
    "start_time": "2023-01-21T08:08:01.634Z"
   },
   {
    "duration": 32,
    "start_time": "2023-01-21T08:08:01.673Z"
   },
   {
    "duration": 16,
    "start_time": "2023-01-21T08:08:01.708Z"
   },
   {
    "duration": 91,
    "start_time": "2023-01-21T08:08:01.726Z"
   },
   {
    "duration": 103,
    "start_time": "2023-01-21T08:08:01.819Z"
   },
   {
    "duration": 4,
    "start_time": "2023-01-21T08:08:01.923Z"
   },
   {
    "duration": 10,
    "start_time": "2023-01-21T08:08:01.928Z"
   },
   {
    "duration": 12,
    "start_time": "2023-01-21T08:08:01.939Z"
   },
   {
    "duration": 20,
    "start_time": "2023-01-21T08:08:01.953Z"
   },
   {
    "duration": 21,
    "start_time": "2023-01-21T08:08:01.974Z"
   },
   {
    "duration": 257,
    "start_time": "2023-01-21T08:08:01.996Z"
   },
   {
    "duration": 398,
    "start_time": "2023-01-21T08:08:02.260Z"
   },
   {
    "duration": 0,
    "start_time": "2023-01-21T08:08:02.659Z"
   },
   {
    "duration": 229,
    "start_time": "2023-01-21T08:08:46.429Z"
   },
   {
    "duration": 118,
    "start_time": "2023-01-21T08:09:14.243Z"
   },
   {
    "duration": 91,
    "start_time": "2023-01-21T08:09:16.265Z"
   },
   {
    "duration": 209,
    "start_time": "2023-01-21T08:11:54.748Z"
   },
   {
    "duration": 196,
    "start_time": "2023-01-21T08:11:57.464Z"
   },
   {
    "duration": 15,
    "start_time": "2023-01-21T08:12:02.280Z"
   },
   {
    "duration": 1064,
    "start_time": "2023-01-21T08:13:17.980Z"
   },
   {
    "duration": 381,
    "start_time": "2023-01-21T08:13:19.046Z"
   },
   {
    "duration": 45,
    "start_time": "2023-01-21T08:13:19.429Z"
   },
   {
    "duration": 43,
    "start_time": "2023-01-21T08:13:19.476Z"
   },
   {
    "duration": 42,
    "start_time": "2023-01-21T08:13:19.522Z"
   },
   {
    "duration": 6,
    "start_time": "2023-01-21T08:13:19.566Z"
   },
   {
    "duration": 94,
    "start_time": "2023-01-21T08:13:19.574Z"
   },
   {
    "duration": 3,
    "start_time": "2023-01-21T08:13:19.670Z"
   },
   {
    "duration": 5,
    "start_time": "2023-01-21T08:13:19.675Z"
   },
   {
    "duration": 27,
    "start_time": "2023-01-21T08:13:19.682Z"
   },
   {
    "duration": 6,
    "start_time": "2023-01-21T08:13:19.711Z"
   },
   {
    "duration": 23,
    "start_time": "2023-01-21T08:13:19.718Z"
   },
   {
    "duration": 220,
    "start_time": "2023-01-21T08:13:19.743Z"
   },
   {
    "duration": 400,
    "start_time": "2023-01-21T08:13:20.058Z"
   },
   {
    "duration": 194,
    "start_time": "2023-01-21T08:13:20.461Z"
   },
   {
    "duration": 9,
    "start_time": "2023-01-21T08:45:18.217Z"
   },
   {
    "duration": 7,
    "start_time": "2023-01-21T08:46:11.585Z"
   },
   {
    "duration": 8,
    "start_time": "2023-01-21T08:46:14.602Z"
   },
   {
    "duration": 106,
    "start_time": "2023-01-21T08:50:17.048Z"
   },
   {
    "duration": 7,
    "start_time": "2023-01-21T08:51:04.017Z"
   },
   {
    "duration": 7,
    "start_time": "2023-01-21T08:52:02.360Z"
   },
   {
    "duration": 7,
    "start_time": "2023-01-21T08:52:06.821Z"
   },
   {
    "duration": 11,
    "start_time": "2023-01-21T09:25:05.353Z"
   },
   {
    "duration": 10,
    "start_time": "2023-01-21T09:25:11.116Z"
   },
   {
    "duration": 9,
    "start_time": "2023-01-21T09:25:25.066Z"
   },
   {
    "duration": 3,
    "start_time": "2023-01-21T09:27:19.275Z"
   },
   {
    "duration": 414,
    "start_time": "2023-01-21T09:27:19.280Z"
   },
   {
    "duration": 29,
    "start_time": "2023-01-21T09:27:19.695Z"
   },
   {
    "duration": 53,
    "start_time": "2023-01-21T09:27:19.726Z"
   },
   {
    "duration": 15,
    "start_time": "2023-01-21T09:27:19.781Z"
   },
   {
    "duration": 11,
    "start_time": "2023-01-21T09:27:19.797Z"
   },
   {
    "duration": 78,
    "start_time": "2023-01-21T09:27:19.810Z"
   },
   {
    "duration": 3,
    "start_time": "2023-01-21T09:27:19.890Z"
   },
   {
    "duration": 7,
    "start_time": "2023-01-21T09:27:19.895Z"
   },
   {
    "duration": 11,
    "start_time": "2023-01-21T09:27:19.903Z"
   },
   {
    "duration": 7,
    "start_time": "2023-01-21T09:27:19.916Z"
   },
   {
    "duration": 14,
    "start_time": "2023-01-21T09:27:19.925Z"
   },
   {
    "duration": 221,
    "start_time": "2023-01-21T09:27:19.941Z"
   },
   {
    "duration": 304,
    "start_time": "2023-01-21T09:27:20.255Z"
   },
   {
    "duration": 102,
    "start_time": "2023-01-21T09:27:20.561Z"
   },
   {
    "duration": 73,
    "start_time": "2023-01-21T09:35:45.018Z"
   },
   {
    "duration": 15,
    "start_time": "2023-01-21T09:47:03.248Z"
   },
   {
    "duration": 486,
    "start_time": "2023-01-21T09:47:12.648Z"
   },
   {
    "duration": 3,
    "start_time": "2023-01-21T09:47:29.499Z"
   },
   {
    "duration": 393,
    "start_time": "2023-01-21T09:47:29.504Z"
   },
   {
    "duration": 29,
    "start_time": "2023-01-21T09:47:29.899Z"
   },
   {
    "duration": 44,
    "start_time": "2023-01-21T09:47:29.930Z"
   },
   {
    "duration": 13,
    "start_time": "2023-01-21T09:47:29.976Z"
   },
   {
    "duration": 16,
    "start_time": "2023-01-21T09:47:34.198Z"
   },
   {
    "duration": 569,
    "start_time": "2023-01-21T09:48:00.218Z"
   },
   {
    "duration": 3,
    "start_time": "2023-01-21T09:48:10.003Z"
   },
   {
    "duration": 372,
    "start_time": "2023-01-21T09:48:10.008Z"
   },
   {
    "duration": 30,
    "start_time": "2023-01-21T09:48:10.382Z"
   },
   {
    "duration": 60,
    "start_time": "2023-01-21T09:48:10.414Z"
   },
   {
    "duration": 12,
    "start_time": "2023-01-21T09:48:10.476Z"
   },
   {
    "duration": 24,
    "start_time": "2023-01-21T09:48:13.910Z"
   },
   {
    "duration": 10,
    "start_time": "2023-01-21T09:48:39.899Z"
   },
   {
    "duration": 10,
    "start_time": "2023-01-21T09:48:51.641Z"
   },
   {
    "duration": 3,
    "start_time": "2023-01-21T09:52:16.837Z"
   },
   {
    "duration": 369,
    "start_time": "2023-01-21T09:52:16.842Z"
   },
   {
    "duration": 28,
    "start_time": "2023-01-21T09:52:17.213Z"
   },
   {
    "duration": 38,
    "start_time": "2023-01-21T09:52:17.253Z"
   },
   {
    "duration": 14,
    "start_time": "2023-01-21T09:52:17.293Z"
   },
   {
    "duration": 28,
    "start_time": "2023-01-21T09:52:24.150Z"
   },
   {
    "duration": 5,
    "start_time": "2023-01-21T09:52:54.467Z"
   },
   {
    "duration": 1077,
    "start_time": "2023-01-21T09:53:21.756Z"
   },
   {
    "duration": 385,
    "start_time": "2023-01-21T09:53:22.836Z"
   },
   {
    "duration": 46,
    "start_time": "2023-01-21T09:53:23.223Z"
   },
   {
    "duration": 34,
    "start_time": "2023-01-21T09:53:23.271Z"
   },
   {
    "duration": 17,
    "start_time": "2023-01-21T09:53:23.308Z"
   },
   {
    "duration": 47,
    "start_time": "2023-01-21T09:53:23.327Z"
   },
   {
    "duration": 5,
    "start_time": "2023-01-21T09:53:23.375Z"
   },
   {
    "duration": 31,
    "start_time": "2023-01-21T09:53:23.381Z"
   },
   {
    "duration": 3,
    "start_time": "2023-01-21T09:53:23.414Z"
   },
   {
    "duration": 5,
    "start_time": "2023-01-21T09:53:23.419Z"
   },
   {
    "duration": 29,
    "start_time": "2023-01-21T09:53:23.426Z"
   },
   {
    "duration": 6,
    "start_time": "2023-01-21T09:53:23.457Z"
   },
   {
    "duration": 8,
    "start_time": "2023-01-21T09:53:23.465Z"
   },
   {
    "duration": 135,
    "start_time": "2023-01-21T09:53:23.475Z"
   },
   {
    "duration": 0,
    "start_time": "2023-01-21T09:53:23.611Z"
   },
   {
    "duration": 0,
    "start_time": "2023-01-21T09:53:23.613Z"
   },
   {
    "duration": 0,
    "start_time": "2023-01-21T09:53:23.614Z"
   },
   {
    "duration": 0,
    "start_time": "2023-01-21T09:53:23.615Z"
   },
   {
    "duration": 0,
    "start_time": "2023-01-21T09:53:23.615Z"
   },
   {
    "duration": 0,
    "start_time": "2023-01-21T09:53:23.616Z"
   },
   {
    "duration": 0,
    "start_time": "2023-01-21T09:53:23.617Z"
   },
   {
    "duration": 0,
    "start_time": "2023-01-21T09:53:23.618Z"
   },
   {
    "duration": 0,
    "start_time": "2023-01-21T09:53:23.619Z"
   },
   {
    "duration": 3,
    "start_time": "2023-01-21T09:53:54.932Z"
   },
   {
    "duration": 5,
    "start_time": "2023-01-21T09:53:55.447Z"
   },
   {
    "duration": 26,
    "start_time": "2023-01-21T09:53:56.429Z"
   },
   {
    "duration": 4,
    "start_time": "2023-01-21T09:54:05.563Z"
   },
   {
    "duration": 4,
    "start_time": "2023-01-21T09:54:06.137Z"
   },
   {
    "duration": 28,
    "start_time": "2023-01-21T09:54:07.104Z"
   },
   {
    "duration": 27,
    "start_time": "2023-01-21T09:54:21.113Z"
   },
   {
    "duration": 7,
    "start_time": "2023-01-21T09:54:35.238Z"
   },
   {
    "duration": 1132,
    "start_time": "2023-01-21T09:55:32.310Z"
   },
   {
    "duration": 372,
    "start_time": "2023-01-21T09:55:33.445Z"
   },
   {
    "duration": 45,
    "start_time": "2023-01-21T09:55:33.818Z"
   },
   {
    "duration": 34,
    "start_time": "2023-01-21T09:55:33.865Z"
   },
   {
    "duration": 17,
    "start_time": "2023-01-21T09:55:33.900Z"
   },
   {
    "duration": 6,
    "start_time": "2023-01-21T09:55:33.918Z"
   },
   {
    "duration": 28,
    "start_time": "2023-01-21T09:55:33.926Z"
   },
   {
    "duration": 81,
    "start_time": "2023-01-21T09:55:33.956Z"
   },
   {
    "duration": 3,
    "start_time": "2023-01-21T09:55:34.039Z"
   },
   {
    "duration": 17,
    "start_time": "2023-01-21T09:55:34.045Z"
   },
   {
    "duration": 11,
    "start_time": "2023-01-21T09:55:34.063Z"
   },
   {
    "duration": 5,
    "start_time": "2023-01-21T09:55:34.076Z"
   },
   {
    "duration": 6,
    "start_time": "2023-01-21T09:55:34.083Z"
   },
   {
    "duration": 168,
    "start_time": "2023-01-21T09:55:34.091Z"
   },
   {
    "duration": 303,
    "start_time": "2023-01-21T09:55:34.261Z"
   },
   {
    "duration": 192,
    "start_time": "2023-01-21T09:55:34.567Z"
   },
   {
    "duration": 197,
    "start_time": "2023-01-21T09:55:34.761Z"
   },
   {
    "duration": 9,
    "start_time": "2023-01-21T09:55:34.960Z"
   },
   {
    "duration": 12,
    "start_time": "2023-01-21T09:55:34.970Z"
   },
   {
    "duration": 18,
    "start_time": "2023-01-21T09:55:34.983Z"
   },
   {
    "duration": 19,
    "start_time": "2023-01-21T09:55:35.003Z"
   },
   {
    "duration": 19,
    "start_time": "2023-01-21T09:55:35.024Z"
   },
   {
    "duration": 585,
    "start_time": "2023-01-21T09:55:35.045Z"
   },
   {
    "duration": 3,
    "start_time": "2023-01-21T10:16:04.764Z"
   },
   {
    "duration": 3,
    "start_time": "2023-01-21T10:17:05.835Z"
   },
   {
    "duration": 4,
    "start_time": "2023-01-21T10:18:25.637Z"
   },
   {
    "duration": 4,
    "start_time": "2023-01-21T10:21:02.635Z"
   },
   {
    "duration": 4,
    "start_time": "2023-01-21T10:21:28.486Z"
   },
   {
    "duration": 1042,
    "start_time": "2023-01-21T11:01:14.707Z"
   },
   {
    "duration": 392,
    "start_time": "2023-01-21T11:01:15.751Z"
   },
   {
    "duration": 42,
    "start_time": "2023-01-21T11:01:16.145Z"
   },
   {
    "duration": 36,
    "start_time": "2023-01-21T11:01:16.189Z"
   },
   {
    "duration": 37,
    "start_time": "2023-01-21T11:01:16.227Z"
   },
   {
    "duration": 7,
    "start_time": "2023-01-21T11:01:16.266Z"
   },
   {
    "duration": 14,
    "start_time": "2023-01-21T11:01:16.275Z"
   },
   {
    "duration": 87,
    "start_time": "2023-01-21T11:01:16.291Z"
   },
   {
    "duration": 4,
    "start_time": "2023-01-21T11:01:16.380Z"
   },
   {
    "duration": 6,
    "start_time": "2023-01-21T11:01:16.385Z"
   },
   {
    "duration": 10,
    "start_time": "2023-01-21T11:01:16.393Z"
   },
   {
    "duration": 6,
    "start_time": "2023-01-21T11:01:16.404Z"
   },
   {
    "duration": 11,
    "start_time": "2023-01-21T11:01:16.412Z"
   },
   {
    "duration": 236,
    "start_time": "2023-01-21T11:01:16.425Z"
   },
   {
    "duration": 301,
    "start_time": "2023-01-21T11:01:16.662Z"
   },
   {
    "duration": 109,
    "start_time": "2023-01-21T11:01:17.058Z"
   },
   {
    "duration": 84,
    "start_time": "2023-01-21T11:01:17.173Z"
   },
   {
    "duration": 113,
    "start_time": "2023-01-21T11:01:17.262Z"
   },
   {
    "duration": 24,
    "start_time": "2023-01-21T11:01:17.377Z"
   },
   {
    "duration": 24,
    "start_time": "2023-01-21T11:01:17.403Z"
   },
   {
    "duration": 23,
    "start_time": "2023-01-21T11:01:17.429Z"
   },
   {
    "duration": 18,
    "start_time": "2023-01-21T11:01:17.454Z"
   },
   {
    "duration": 24,
    "start_time": "2023-01-21T11:01:17.475Z"
   },
   {
    "duration": 524,
    "start_time": "2023-01-21T11:01:17.501Z"
   },
   {
    "duration": 4,
    "start_time": "2023-01-21T11:01:47.092Z"
   },
   {
    "duration": 3,
    "start_time": "2023-01-21T11:01:56.509Z"
   },
   {
    "duration": 3,
    "start_time": "2023-01-21T11:02:05.072Z"
   },
   {
    "duration": 3,
    "start_time": "2023-01-21T11:06:34.541Z"
   },
   {
    "duration": 1056,
    "start_time": "2023-01-21T11:11:37.282Z"
   },
   {
    "duration": 377,
    "start_time": "2023-01-21T11:11:38.339Z"
   },
   {
    "duration": 42,
    "start_time": "2023-01-21T11:11:38.718Z"
   },
   {
    "duration": 37,
    "start_time": "2023-01-21T11:11:38.762Z"
   },
   {
    "duration": 15,
    "start_time": "2023-01-21T11:11:38.801Z"
   },
   {
    "duration": 14,
    "start_time": "2023-01-21T11:11:38.818Z"
   },
   {
    "duration": 20,
    "start_time": "2023-01-21T11:11:38.833Z"
   },
   {
    "duration": 74,
    "start_time": "2023-01-21T11:11:38.854Z"
   },
   {
    "duration": 3,
    "start_time": "2023-01-21T11:11:38.930Z"
   },
   {
    "duration": 18,
    "start_time": "2023-01-21T11:11:38.935Z"
   },
   {
    "duration": 12,
    "start_time": "2023-01-21T11:11:38.955Z"
   },
   {
    "duration": 12,
    "start_time": "2023-01-21T11:11:38.969Z"
   },
   {
    "duration": 8,
    "start_time": "2023-01-21T11:11:38.982Z"
   },
   {
    "duration": 265,
    "start_time": "2023-01-21T11:11:38.993Z"
   },
   {
    "duration": 497,
    "start_time": "2023-01-21T11:11:39.263Z"
   },
   {
    "duration": 101,
    "start_time": "2023-01-21T11:11:39.763Z"
   },
   {
    "duration": 95,
    "start_time": "2023-01-21T11:11:39.867Z"
   },
   {
    "duration": 8,
    "start_time": "2023-01-21T11:11:40.054Z"
   },
   {
    "duration": 21,
    "start_time": "2023-01-21T11:11:40.063Z"
   },
   {
    "duration": 10,
    "start_time": "2023-01-21T11:11:40.086Z"
   },
   {
    "duration": 9,
    "start_time": "2023-01-21T11:11:40.097Z"
   },
   {
    "duration": 7,
    "start_time": "2023-01-21T11:11:40.107Z"
   },
   {
    "duration": 7,
    "start_time": "2023-01-21T11:11:40.116Z"
   },
   {
    "duration": 520,
    "start_time": "2023-01-21T11:11:40.125Z"
   },
   {
    "duration": 4,
    "start_time": "2023-01-21T11:15:55.785Z"
   },
   {
    "duration": 4,
    "start_time": "2023-01-21T11:18:33.898Z"
   },
   {
    "duration": 3,
    "start_time": "2023-01-21T11:18:34.356Z"
   },
   {
    "duration": 3,
    "start_time": "2023-01-21T11:18:34.816Z"
   },
   {
    "duration": 3,
    "start_time": "2023-01-21T11:18:35.588Z"
   },
   {
    "duration": 5,
    "start_time": "2023-01-21T11:18:36.257Z"
   },
   {
    "duration": 252,
    "start_time": "2023-01-21T11:18:36.806Z"
   },
   {
    "duration": 218,
    "start_time": "2023-01-21T11:18:37.542Z"
   },
   {
    "duration": 13,
    "start_time": "2023-01-21T11:18:38.683Z"
   },
   {
    "duration": 3,
    "start_time": "2023-01-21T11:21:35.629Z"
   },
   {
    "duration": 4,
    "start_time": "2023-01-21T11:42:45.373Z"
   },
   {
    "duration": 4,
    "start_time": "2023-01-21T11:43:40.136Z"
   },
   {
    "duration": 3,
    "start_time": "2023-01-21T11:43:40.527Z"
   },
   {
    "duration": 4,
    "start_time": "2023-01-21T11:43:42.485Z"
   },
   {
    "duration": 4,
    "start_time": "2023-01-21T11:43:44.254Z"
   },
   {
    "duration": 4,
    "start_time": "2023-01-21T11:43:44.670Z"
   },
   {
    "duration": 156,
    "start_time": "2023-01-21T11:43:45.904Z"
   },
   {
    "duration": 123,
    "start_time": "2023-01-21T11:43:53.434Z"
   },
   {
    "duration": 15,
    "start_time": "2023-01-21T11:43:56.969Z"
   },
   {
    "duration": 3,
    "start_time": "2023-01-21T11:43:58.711Z"
   },
   {
    "duration": 4,
    "start_time": "2023-01-21T11:51:52.221Z"
   },
   {
    "duration": 3,
    "start_time": "2023-01-21T11:51:52.574Z"
   },
   {
    "duration": 4,
    "start_time": "2023-01-21T11:51:53.027Z"
   },
   {
    "duration": 4,
    "start_time": "2023-01-21T11:51:53.641Z"
   },
   {
    "duration": 4,
    "start_time": "2023-01-21T11:51:54.371Z"
   },
   {
    "duration": 180,
    "start_time": "2023-01-21T11:51:55.377Z"
   },
   {
    "duration": 199,
    "start_time": "2023-01-21T11:51:58.059Z"
   },
   {
    "duration": 14,
    "start_time": "2023-01-21T11:52:00.175Z"
   },
   {
    "duration": 3,
    "start_time": "2023-01-21T11:52:02.473Z"
   },
   {
    "duration": 5,
    "start_time": "2023-01-21T11:55:02.210Z"
   },
   {
    "duration": 4,
    "start_time": "2023-01-21T11:55:02.555Z"
   },
   {
    "duration": 4,
    "start_time": "2023-01-21T11:55:03.014Z"
   },
   {
    "duration": 3,
    "start_time": "2023-01-21T11:55:03.596Z"
   },
   {
    "duration": 4,
    "start_time": "2023-01-21T11:55:04.164Z"
   },
   {
    "duration": 200,
    "start_time": "2023-01-21T11:55:04.757Z"
   },
   {
    "duration": 132,
    "start_time": "2023-01-21T11:55:05.828Z"
   },
   {
    "duration": 17,
    "start_time": "2023-01-21T11:55:06.860Z"
   },
   {
    "duration": 4,
    "start_time": "2023-01-21T12:00:30.133Z"
   },
   {
    "duration": 100,
    "start_time": "2023-01-21T12:00:58.890Z"
   },
   {
    "duration": 6,
    "start_time": "2023-01-21T12:02:09.238Z"
   },
   {
    "duration": 3,
    "start_time": "2023-01-21T12:02:28.081Z"
   },
   {
    "duration": 3,
    "start_time": "2023-01-21T12:04:20.689Z"
   },
   {
    "duration": 395,
    "start_time": "2023-01-21T12:04:20.694Z"
   },
   {
    "duration": 32,
    "start_time": "2023-01-21T12:04:21.091Z"
   },
   {
    "duration": 54,
    "start_time": "2023-01-21T12:04:21.125Z"
   },
   {
    "duration": 16,
    "start_time": "2023-01-21T12:04:21.181Z"
   },
   {
    "duration": 20,
    "start_time": "2023-01-21T12:04:30.348Z"
   },
   {
    "duration": 4,
    "start_time": "2023-01-21T12:05:02.775Z"
   },
   {
    "duration": 408,
    "start_time": "2023-01-21T12:05:02.781Z"
   },
   {
    "duration": 33,
    "start_time": "2023-01-21T12:05:03.192Z"
   },
   {
    "duration": 61,
    "start_time": "2023-01-21T12:05:03.227Z"
   },
   {
    "duration": 15,
    "start_time": "2023-01-21T12:05:03.291Z"
   },
   {
    "duration": 31,
    "start_time": "2023-01-21T12:05:03.307Z"
   },
   {
    "duration": 5,
    "start_time": "2023-01-21T12:05:03.339Z"
   },
   {
    "duration": 45,
    "start_time": "2023-01-21T12:05:03.353Z"
   },
   {
    "duration": 4,
    "start_time": "2023-01-21T12:05:03.400Z"
   },
   {
    "duration": 7,
    "start_time": "2023-01-21T12:05:03.405Z"
   },
   {
    "duration": 6,
    "start_time": "2023-01-21T12:05:03.413Z"
   },
   {
    "duration": 5,
    "start_time": "2023-01-21T12:05:03.421Z"
   },
   {
    "duration": 5,
    "start_time": "2023-01-21T12:05:10.167Z"
   },
   {
    "duration": 29,
    "start_time": "2023-01-21T12:05:11.837Z"
   },
   {
    "duration": 33,
    "start_time": "2023-01-21T12:05:21.343Z"
   },
   {
    "duration": 9,
    "start_time": "2023-01-21T12:05:39.859Z"
   },
   {
    "duration": 10,
    "start_time": "2023-01-21T12:07:30.884Z"
   },
   {
    "duration": 8,
    "start_time": "2023-01-21T12:07:35.656Z"
   },
   {
    "duration": 8,
    "start_time": "2023-01-21T12:08:08.895Z"
   },
   {
    "duration": 6,
    "start_time": "2023-01-21T12:08:14.645Z"
   },
   {
    "duration": 3,
    "start_time": "2023-01-21T12:08:21.645Z"
   },
   {
    "duration": 4,
    "start_time": "2023-01-21T12:15:49.404Z"
   },
   {
    "duration": 5,
    "start_time": "2023-01-21T12:15:49.862Z"
   },
   {
    "duration": 4,
    "start_time": "2023-01-21T12:15:55.392Z"
   },
   {
    "duration": 4,
    "start_time": "2023-01-21T12:15:56.062Z"
   },
   {
    "duration": 6,
    "start_time": "2023-01-21T12:15:57.279Z"
   },
   {
    "duration": 18,
    "start_time": "2023-01-21T12:15:58.194Z"
   },
   {
    "duration": 4,
    "start_time": "2023-01-21T12:17:13.238Z"
   },
   {
    "duration": 4,
    "start_time": "2023-01-21T12:17:13.546Z"
   },
   {
    "duration": 4,
    "start_time": "2023-01-21T12:17:14.032Z"
   },
   {
    "duration": 4,
    "start_time": "2023-01-21T12:17:14.695Z"
   },
   {
    "duration": 4,
    "start_time": "2023-01-21T12:17:15.779Z"
   },
   {
    "duration": 25,
    "start_time": "2023-01-21T12:17:17.412Z"
   },
   {
    "duration": 1051,
    "start_time": "2023-01-21T12:17:37.995Z"
   },
   {
    "duration": 399,
    "start_time": "2023-01-21T12:17:39.048Z"
   },
   {
    "duration": 41,
    "start_time": "2023-01-21T12:17:39.454Z"
   },
   {
    "duration": 61,
    "start_time": "2023-01-21T12:17:39.497Z"
   },
   {
    "duration": 19,
    "start_time": "2023-01-21T12:17:39.560Z"
   },
   {
    "duration": 24,
    "start_time": "2023-01-21T12:17:39.580Z"
   },
   {
    "duration": 6,
    "start_time": "2023-01-21T12:17:39.606Z"
   },
   {
    "duration": 60,
    "start_time": "2023-01-21T12:17:39.615Z"
   },
   {
    "duration": 4,
    "start_time": "2023-01-21T12:17:39.677Z"
   },
   {
    "duration": 8,
    "start_time": "2023-01-21T12:17:39.683Z"
   },
   {
    "duration": 6,
    "start_time": "2023-01-21T12:17:39.693Z"
   },
   {
    "duration": 6,
    "start_time": "2023-01-21T12:17:39.701Z"
   },
   {
    "duration": 9,
    "start_time": "2023-01-21T12:17:39.710Z"
   },
   {
    "duration": 148,
    "start_time": "2023-01-21T12:17:39.720Z"
   },
   {
    "duration": 0,
    "start_time": "2023-01-21T12:17:39.869Z"
   },
   {
    "duration": 0,
    "start_time": "2023-01-21T12:17:39.871Z"
   },
   {
    "duration": 0,
    "start_time": "2023-01-21T12:17:39.872Z"
   },
   {
    "duration": 0,
    "start_time": "2023-01-21T12:17:39.873Z"
   },
   {
    "duration": 0,
    "start_time": "2023-01-21T12:17:39.875Z"
   },
   {
    "duration": 0,
    "start_time": "2023-01-21T12:17:39.876Z"
   },
   {
    "duration": 0,
    "start_time": "2023-01-21T12:17:39.878Z"
   },
   {
    "duration": 0,
    "start_time": "2023-01-21T12:17:39.879Z"
   },
   {
    "duration": 0,
    "start_time": "2023-01-21T12:17:39.880Z"
   },
   {
    "duration": 0,
    "start_time": "2023-01-21T12:17:39.882Z"
   },
   {
    "duration": 0,
    "start_time": "2023-01-21T12:17:39.883Z"
   },
   {
    "duration": 19,
    "start_time": "2023-01-21T12:17:50.891Z"
   },
   {
    "duration": 20,
    "start_time": "2023-01-21T12:17:53.840Z"
   },
   {
    "duration": 4,
    "start_time": "2023-01-21T12:18:59.993Z"
   },
   {
    "duration": 4,
    "start_time": "2023-01-21T12:19:00.403Z"
   },
   {
    "duration": 5,
    "start_time": "2023-01-21T12:19:01.029Z"
   },
   {
    "duration": 4,
    "start_time": "2023-01-21T12:19:02.044Z"
   },
   {
    "duration": 4,
    "start_time": "2023-01-21T12:19:02.809Z"
   },
   {
    "duration": 10,
    "start_time": "2023-01-21T12:19:03.488Z"
   },
   {
    "duration": 9,
    "start_time": "2023-01-21T12:19:04.362Z"
   },
   {
    "duration": 10,
    "start_time": "2023-01-21T12:19:05.097Z"
   },
   {
    "duration": 3,
    "start_time": "2023-01-21T12:20:32.957Z"
   },
   {
    "duration": 4,
    "start_time": "2023-01-21T12:20:33.393Z"
   },
   {
    "duration": 4,
    "start_time": "2023-01-21T12:20:33.872Z"
   },
   {
    "duration": 3,
    "start_time": "2023-01-21T12:20:34.458Z"
   },
   {
    "duration": 3,
    "start_time": "2023-01-21T12:20:36.079Z"
   },
   {
    "duration": 15,
    "start_time": "2023-01-21T12:21:44.190Z"
   },
   {
    "duration": 24,
    "start_time": "2023-01-21T12:22:08.669Z"
   },
   {
    "duration": 18,
    "start_time": "2023-01-21T12:22:27.895Z"
   },
   {
    "duration": 3,
    "start_time": "2023-01-21T12:23:20.033Z"
   },
   {
    "duration": 15,
    "start_time": "2023-01-21T12:26:24.459Z"
   },
   {
    "duration": 17,
    "start_time": "2023-01-21T12:26:45.588Z"
   },
   {
    "duration": 10,
    "start_time": "2023-01-21T12:26:57.706Z"
   },
   {
    "duration": 43,
    "start_time": "2023-01-21T12:27:12.867Z"
   },
   {
    "duration": 10,
    "start_time": "2023-01-21T12:27:17.691Z"
   },
   {
    "duration": 10,
    "start_time": "2023-01-21T12:28:03.694Z"
   },
   {
    "duration": 9,
    "start_time": "2023-01-21T12:28:45.207Z"
   },
   {
    "duration": 4,
    "start_time": "2023-01-21T12:29:20.842Z"
   },
   {
    "duration": 4,
    "start_time": "2023-01-21T12:29:32.044Z"
   },
   {
    "duration": 9,
    "start_time": "2023-01-21T12:30:40.340Z"
   },
   {
    "duration": 10,
    "start_time": "2023-01-21T12:31:02.026Z"
   },
   {
    "duration": 4,
    "start_time": "2023-01-21T12:31:12.855Z"
   },
   {
    "duration": 10,
    "start_time": "2023-01-21T12:32:00.460Z"
   },
   {
    "duration": 4,
    "start_time": "2023-01-21T12:33:05.011Z"
   },
   {
    "duration": 379,
    "start_time": "2023-01-21T12:33:05.017Z"
   },
   {
    "duration": 31,
    "start_time": "2023-01-21T12:33:05.398Z"
   },
   {
    "duration": 52,
    "start_time": "2023-01-21T12:33:05.431Z"
   },
   {
    "duration": 14,
    "start_time": "2023-01-21T12:33:05.485Z"
   },
   {
    "duration": 31,
    "start_time": "2023-01-21T12:33:05.501Z"
   },
   {
    "duration": 19,
    "start_time": "2023-01-21T12:33:05.534Z"
   },
   {
    "duration": 32,
    "start_time": "2023-01-21T12:33:05.555Z"
   },
   {
    "duration": 3,
    "start_time": "2023-01-21T12:33:05.588Z"
   },
   {
    "duration": 30,
    "start_time": "2023-01-21T12:33:05.593Z"
   },
   {
    "duration": 7,
    "start_time": "2023-01-21T12:33:05.625Z"
   },
   {
    "duration": 9,
    "start_time": "2023-01-21T12:33:05.633Z"
   },
   {
    "duration": 5,
    "start_time": "2023-01-21T12:33:05.644Z"
   },
   {
    "duration": 10,
    "start_time": "2023-01-21T12:33:05.651Z"
   },
   {
    "duration": 11,
    "start_time": "2023-01-21T12:33:05.663Z"
   },
   {
    "duration": 9,
    "start_time": "2023-01-21T12:33:05.676Z"
   },
   {
    "duration": 4,
    "start_time": "2023-01-21T12:33:25.336Z"
   },
   {
    "duration": 3,
    "start_time": "2023-01-21T12:33:42.012Z"
   },
   {
    "duration": 68,
    "start_time": "2023-01-21T13:18:41.862Z"
   },
   {
    "duration": 1462,
    "start_time": "2023-01-21T13:18:59.616Z"
   },
   {
    "duration": 1235,
    "start_time": "2023-01-21T13:19:01.081Z"
   },
   {
    "duration": 58,
    "start_time": "2023-01-21T13:19:02.318Z"
   },
   {
    "duration": 60,
    "start_time": "2023-01-21T13:19:02.379Z"
   },
   {
    "duration": 62,
    "start_time": "2023-01-21T13:19:02.443Z"
   },
   {
    "duration": 4,
    "start_time": "2023-01-21T13:19:02.507Z"
   },
   {
    "duration": 9,
    "start_time": "2023-01-21T13:19:02.513Z"
   },
   {
    "duration": 6,
    "start_time": "2023-01-21T13:19:02.525Z"
   },
   {
    "duration": 75,
    "start_time": "2023-01-21T13:19:02.533Z"
   },
   {
    "duration": 4,
    "start_time": "2023-01-21T13:19:02.611Z"
   },
   {
    "duration": 16,
    "start_time": "2023-01-21T13:19:02.617Z"
   },
   {
    "duration": 8,
    "start_time": "2023-01-21T13:19:02.635Z"
   },
   {
    "duration": 20,
    "start_time": "2023-01-21T13:19:02.645Z"
   },
   {
    "duration": 12,
    "start_time": "2023-01-21T13:19:02.667Z"
   },
   {
    "duration": 97,
    "start_time": "2023-01-21T13:19:13.817Z"
   },
   {
    "duration": 49,
    "start_time": "2023-01-21T13:22:41.462Z"
   },
   {
    "duration": 15,
    "start_time": "2023-01-21T13:26:36.304Z"
   },
   {
    "duration": 15,
    "start_time": "2023-01-21T13:27:09.362Z"
   },
   {
    "duration": 13,
    "start_time": "2023-01-21T13:27:10.245Z"
   },
   {
    "duration": 1306,
    "start_time": "2023-01-21T13:27:27.802Z"
   },
   {
    "duration": 506,
    "start_time": "2023-01-21T13:27:29.111Z"
   },
   {
    "duration": 64,
    "start_time": "2023-01-21T13:27:29.620Z"
   },
   {
    "duration": 58,
    "start_time": "2023-01-21T13:27:29.689Z"
   },
   {
    "duration": 73,
    "start_time": "2023-01-21T13:27:29.749Z"
   },
   {
    "duration": 4,
    "start_time": "2023-01-21T13:27:29.824Z"
   },
   {
    "duration": 30,
    "start_time": "2023-01-21T13:27:29.830Z"
   },
   {
    "duration": 49,
    "start_time": "2023-01-21T13:27:29.862Z"
   },
   {
    "duration": 90,
    "start_time": "2023-01-21T13:27:29.914Z"
   },
   {
    "duration": 10,
    "start_time": "2023-01-21T13:27:30.008Z"
   },
   {
    "duration": 31,
    "start_time": "2023-01-21T13:27:30.021Z"
   },
   {
    "duration": 25,
    "start_time": "2023-01-21T13:27:30.054Z"
   },
   {
    "duration": 73,
    "start_time": "2023-01-21T13:27:30.081Z"
   },
   {
    "duration": 25,
    "start_time": "2023-01-21T13:27:30.156Z"
   },
   {
    "duration": 52,
    "start_time": "2023-01-21T13:27:30.183Z"
   },
   {
    "duration": 64,
    "start_time": "2023-01-21T13:27:30.238Z"
   },
   {
    "duration": 42,
    "start_time": "2023-01-21T13:27:30.304Z"
   },
   {
    "duration": 29,
    "start_time": "2023-01-21T13:27:30.348Z"
   },
   {
    "duration": 45,
    "start_time": "2023-01-21T13:27:30.379Z"
   },
   {
    "duration": 7,
    "start_time": "2023-01-21T13:27:30.426Z"
   },
   {
    "duration": 14,
    "start_time": "2023-01-21T13:27:30.436Z"
   },
   {
    "duration": 21,
    "start_time": "2023-01-21T13:27:30.453Z"
   },
   {
    "duration": 21,
    "start_time": "2023-01-21T13:27:30.477Z"
   },
   {
    "duration": 26,
    "start_time": "2023-01-21T13:27:30.502Z"
   },
   {
    "duration": 40,
    "start_time": "2023-01-21T13:27:30.530Z"
   },
   {
    "duration": 67,
    "start_time": "2023-01-21T13:27:30.572Z"
   },
   {
    "duration": 661,
    "start_time": "2023-01-21T13:27:30.642Z"
   },
   {
    "duration": 6,
    "start_time": "2023-01-21T13:31:02.329Z"
   },
   {
    "duration": 19,
    "start_time": "2023-01-21T13:31:02.979Z"
   },
   {
    "duration": 156,
    "start_time": "2023-01-21T13:33:55.443Z"
   },
   {
    "duration": 24,
    "start_time": "2023-01-21T13:34:01.113Z"
   },
   {
    "duration": 5,
    "start_time": "2023-01-21T13:55:49.997Z"
   },
   {
    "duration": 33,
    "start_time": "2023-01-21T13:55:50.751Z"
   },
   {
    "duration": 4,
    "start_time": "2023-01-21T13:56:13.172Z"
   },
   {
    "duration": 522,
    "start_time": "2023-01-21T13:56:13.179Z"
   },
   {
    "duration": 54,
    "start_time": "2023-01-21T13:56:13.704Z"
   },
   {
    "duration": 53,
    "start_time": "2023-01-21T13:56:13.760Z"
   },
   {
    "duration": 46,
    "start_time": "2023-01-21T13:56:13.816Z"
   },
   {
    "duration": 31,
    "start_time": "2023-01-21T13:56:13.865Z"
   },
   {
    "duration": 12,
    "start_time": "2023-01-21T13:56:13.899Z"
   },
   {
    "duration": 14,
    "start_time": "2023-01-21T13:56:13.915Z"
   },
   {
    "duration": 95,
    "start_time": "2023-01-21T13:56:13.932Z"
   },
   {
    "duration": 6,
    "start_time": "2023-01-21T13:56:14.030Z"
   },
   {
    "duration": 14,
    "start_time": "2023-01-21T13:56:14.039Z"
   },
   {
    "duration": 11,
    "start_time": "2023-01-21T13:56:14.056Z"
   },
   {
    "duration": 6,
    "start_time": "2023-01-21T13:56:14.085Z"
   },
   {
    "duration": 26,
    "start_time": "2023-01-21T13:56:14.094Z"
   },
   {
    "duration": 25,
    "start_time": "2023-01-21T13:56:14.123Z"
   },
   {
    "duration": 22,
    "start_time": "2023-01-21T13:56:14.153Z"
   },
   {
    "duration": 27,
    "start_time": "2023-01-21T13:56:14.177Z"
   },
   {
    "duration": 15,
    "start_time": "2023-01-21T13:56:14.206Z"
   },
   {
    "duration": 15,
    "start_time": "2023-01-21T13:56:14.223Z"
   },
   {
    "duration": 1456,
    "start_time": "2023-01-21T13:56:34.502Z"
   },
   {
    "duration": 595,
    "start_time": "2023-01-21T13:56:35.962Z"
   },
   {
    "duration": 75,
    "start_time": "2023-01-21T13:56:36.560Z"
   },
   {
    "duration": 98,
    "start_time": "2023-01-21T13:56:36.642Z"
   },
   {
    "duration": 58,
    "start_time": "2023-01-21T13:56:36.743Z"
   },
   {
    "duration": 18,
    "start_time": "2023-01-21T13:56:36.804Z"
   },
   {
    "duration": 7,
    "start_time": "2023-01-21T13:56:36.824Z"
   },
   {
    "duration": 63,
    "start_time": "2023-01-21T13:56:36.834Z"
   },
   {
    "duration": 7,
    "start_time": "2023-01-21T13:56:36.902Z"
   },
   {
    "duration": 30,
    "start_time": "2023-01-21T13:56:36.914Z"
   },
   {
    "duration": 70,
    "start_time": "2023-01-21T13:56:36.946Z"
   },
   {
    "duration": 31,
    "start_time": "2023-01-21T13:56:37.019Z"
   },
   {
    "duration": 32,
    "start_time": "2023-01-21T13:56:37.054Z"
   },
   {
    "duration": 172,
    "start_time": "2023-01-21T13:56:37.089Z"
   },
   {
    "duration": 0,
    "start_time": "2023-01-21T13:56:37.263Z"
   },
   {
    "duration": 0,
    "start_time": "2023-01-21T13:56:37.265Z"
   },
   {
    "duration": 0,
    "start_time": "2023-01-21T13:56:37.283Z"
   },
   {
    "duration": 0,
    "start_time": "2023-01-21T13:56:37.285Z"
   },
   {
    "duration": 0,
    "start_time": "2023-01-21T13:56:37.286Z"
   },
   {
    "duration": 0,
    "start_time": "2023-01-21T13:56:37.288Z"
   },
   {
    "duration": 0,
    "start_time": "2023-01-21T13:56:37.289Z"
   },
   {
    "duration": 1349,
    "start_time": "2023-01-21T13:57:28.120Z"
   },
   {
    "duration": 550,
    "start_time": "2023-01-21T13:57:29.472Z"
   },
   {
    "duration": 78,
    "start_time": "2023-01-21T13:57:30.025Z"
   },
   {
    "duration": 57,
    "start_time": "2023-01-21T13:57:30.105Z"
   },
   {
    "duration": 90,
    "start_time": "2023-01-21T13:57:30.166Z"
   },
   {
    "duration": 18,
    "start_time": "2023-01-21T13:57:30.259Z"
   },
   {
    "duration": 50,
    "start_time": "2023-01-21T13:57:30.280Z"
   },
   {
    "duration": 97,
    "start_time": "2023-01-21T13:57:30.332Z"
   },
   {
    "duration": 18,
    "start_time": "2023-01-21T13:57:30.431Z"
   },
   {
    "duration": 30,
    "start_time": "2023-01-21T13:57:30.452Z"
   },
   {
    "duration": 41,
    "start_time": "2023-01-21T13:57:30.485Z"
   },
   {
    "duration": 43,
    "start_time": "2023-01-21T13:57:30.528Z"
   },
   {
    "duration": 64,
    "start_time": "2023-01-21T13:57:30.574Z"
   },
   {
    "duration": 80,
    "start_time": "2023-01-21T13:57:30.643Z"
   },
   {
    "duration": 45,
    "start_time": "2023-01-21T13:57:30.726Z"
   },
   {
    "duration": 51,
    "start_time": "2023-01-21T13:57:30.773Z"
   },
   {
    "duration": 30,
    "start_time": "2023-01-21T13:57:30.826Z"
   },
   {
    "duration": 40,
    "start_time": "2023-01-21T13:57:30.858Z"
   },
   {
    "duration": 24,
    "start_time": "2023-01-21T13:57:30.899Z"
   },
   {
    "duration": 215,
    "start_time": "2023-01-21T13:57:30.925Z"
   },
   {
    "duration": 0,
    "start_time": "2023-01-21T13:57:31.143Z"
   },
   {
    "duration": 5,
    "start_time": "2023-01-21T13:59:13.562Z"
   },
   {
    "duration": 31,
    "start_time": "2023-01-21T13:59:15.706Z"
   },
   {
    "duration": 5,
    "start_time": "2023-01-21T14:00:25.812Z"
   },
   {
    "duration": 25,
    "start_time": "2023-01-21T14:00:27.652Z"
   },
   {
    "duration": 31,
    "start_time": "2023-01-21T14:08:31.246Z"
   },
   {
    "duration": 702,
    "start_time": "2023-01-21T14:14:44.556Z"
   },
   {
    "duration": 178,
    "start_time": "2023-01-21T14:15:35.515Z"
   },
   {
    "duration": 1649,
    "start_time": "2023-01-21T14:16:01.533Z"
   },
   {
    "duration": 567,
    "start_time": "2023-01-21T14:16:03.185Z"
   },
   {
    "duration": 74,
    "start_time": "2023-01-21T14:16:03.755Z"
   },
   {
    "duration": 58,
    "start_time": "2023-01-21T14:16:03.832Z"
   },
   {
    "duration": 42,
    "start_time": "2023-01-21T14:16:03.892Z"
   },
   {
    "duration": 16,
    "start_time": "2023-01-21T14:16:03.937Z"
   },
   {
    "duration": 15,
    "start_time": "2023-01-21T14:16:03.955Z"
   },
   {
    "duration": 108,
    "start_time": "2023-01-21T14:16:03.986Z"
   },
   {
    "duration": 9,
    "start_time": "2023-01-21T14:16:04.103Z"
   },
   {
    "duration": 13,
    "start_time": "2023-01-21T14:16:04.135Z"
   },
   {
    "duration": 28,
    "start_time": "2023-01-21T14:16:04.158Z"
   },
   {
    "duration": 36,
    "start_time": "2023-01-21T14:16:04.191Z"
   },
   {
    "duration": 5,
    "start_time": "2023-01-21T14:16:04.231Z"
   },
   {
    "duration": 56,
    "start_time": "2023-01-21T14:16:04.243Z"
   },
   {
    "duration": 133,
    "start_time": "2023-01-21T14:16:04.305Z"
   },
   {
    "duration": 21,
    "start_time": "2023-01-21T14:16:04.443Z"
   },
   {
    "duration": 11,
    "start_time": "2023-01-21T14:16:04.468Z"
   },
   {
    "duration": 43,
    "start_time": "2023-01-21T14:16:04.483Z"
   },
   {
    "duration": 734,
    "start_time": "2023-01-21T14:16:04.532Z"
   },
   {
    "duration": 210,
    "start_time": "2023-01-21T14:16:05.270Z"
   },
   {
    "duration": 9,
    "start_time": "2023-01-21T14:16:32.751Z"
   },
   {
    "duration": 781,
    "start_time": "2023-01-21T14:17:53.850Z"
   },
   {
    "duration": 812,
    "start_time": "2023-01-21T14:18:05.637Z"
   },
   {
    "duration": 25,
    "start_time": "2023-01-21T14:18:27.911Z"
   },
   {
    "duration": 29,
    "start_time": "2023-01-21T14:19:14.711Z"
   },
   {
    "duration": 9,
    "start_time": "2023-01-21T14:20:30.775Z"
   },
   {
    "duration": 50,
    "start_time": "2023-01-21T15:55:54.350Z"
   },
   {
    "duration": 1056,
    "start_time": "2023-01-21T15:56:19.878Z"
   },
   {
    "duration": 1166,
    "start_time": "2023-01-21T15:56:20.936Z"
   },
   {
    "duration": 36,
    "start_time": "2023-01-21T15:56:22.104Z"
   },
   {
    "duration": 40,
    "start_time": "2023-01-21T15:56:22.141Z"
   },
   {
    "duration": 29,
    "start_time": "2023-01-21T15:56:22.184Z"
   },
   {
    "duration": 12,
    "start_time": "2023-01-21T15:56:22.215Z"
   },
   {
    "duration": 25,
    "start_time": "2023-01-21T15:56:22.228Z"
   },
   {
    "duration": 98,
    "start_time": "2023-01-21T15:56:31.714Z"
   },
   {
    "duration": 37,
    "start_time": "2023-01-21T15:56:36.261Z"
   },
   {
    "duration": 3,
    "start_time": "2023-01-21T16:04:50.127Z"
   },
   {
    "duration": 384,
    "start_time": "2023-01-21T16:04:50.132Z"
   },
   {
    "duration": 41,
    "start_time": "2023-01-21T16:04:50.518Z"
   },
   {
    "duration": 42,
    "start_time": "2023-01-21T16:04:50.561Z"
   },
   {
    "duration": 53,
    "start_time": "2023-01-21T16:04:50.605Z"
   },
   {
    "duration": 12,
    "start_time": "2023-01-21T16:04:50.660Z"
   },
   {
    "duration": 5,
    "start_time": "2023-01-21T16:04:50.673Z"
   },
   {
    "duration": 44,
    "start_time": "2023-01-21T16:04:50.680Z"
   },
   {
    "duration": 0,
    "start_time": "2023-01-21T16:04:50.726Z"
   },
   {
    "duration": 0,
    "start_time": "2023-01-21T16:04:50.727Z"
   },
   {
    "duration": 0,
    "start_time": "2023-01-21T16:04:50.728Z"
   },
   {
    "duration": 1,
    "start_time": "2023-01-21T16:04:50.729Z"
   },
   {
    "duration": 0,
    "start_time": "2023-01-21T16:04:50.731Z"
   },
   {
    "duration": 0,
    "start_time": "2023-01-21T16:04:50.732Z"
   },
   {
    "duration": 0,
    "start_time": "2023-01-21T16:04:50.733Z"
   },
   {
    "duration": 0,
    "start_time": "2023-01-21T16:04:50.733Z"
   },
   {
    "duration": 0,
    "start_time": "2023-01-21T16:04:50.734Z"
   },
   {
    "duration": 3,
    "start_time": "2023-01-21T16:05:34.551Z"
   },
   {
    "duration": 367,
    "start_time": "2023-01-21T16:05:34.556Z"
   },
   {
    "duration": 32,
    "start_time": "2023-01-21T16:05:34.925Z"
   },
   {
    "duration": 36,
    "start_time": "2023-01-21T16:05:34.959Z"
   },
   {
    "duration": 61,
    "start_time": "2023-01-21T16:05:34.998Z"
   },
   {
    "duration": 13,
    "start_time": "2023-01-21T16:05:35.061Z"
   },
   {
    "duration": 4,
    "start_time": "2023-01-21T16:05:35.076Z"
   },
   {
    "duration": 36,
    "start_time": "2023-01-21T16:05:35.082Z"
   },
   {
    "duration": 3,
    "start_time": "2023-01-21T16:05:35.120Z"
   },
   {
    "duration": 30,
    "start_time": "2023-01-21T16:05:35.124Z"
   },
   {
    "duration": 7,
    "start_time": "2023-01-21T16:05:35.156Z"
   },
   {
    "duration": 11,
    "start_time": "2023-01-21T16:05:35.164Z"
   },
   {
    "duration": 8,
    "start_time": "2023-01-21T16:05:35.177Z"
   },
   {
    "duration": 31,
    "start_time": "2023-01-21T16:05:35.187Z"
   },
   {
    "duration": 0,
    "start_time": "2023-01-21T16:05:35.220Z"
   },
   {
    "duration": 0,
    "start_time": "2023-01-21T16:05:35.221Z"
   },
   {
    "duration": 9,
    "start_time": "2023-01-21T16:06:09.084Z"
   },
   {
    "duration": 9,
    "start_time": "2023-01-21T16:06:09.668Z"
   },
   {
    "duration": 8,
    "start_time": "2023-01-21T16:06:10.168Z"
   },
   {
    "duration": 4,
    "start_time": "2023-01-21T16:08:38.565Z"
   },
   {
    "duration": 9,
    "start_time": "2023-01-21T16:10:41.798Z"
   },
   {
    "duration": 4,
    "start_time": "2023-01-21T16:10:48.028Z"
   },
   {
    "duration": 15,
    "start_time": "2023-01-21T16:10:48.579Z"
   },
   {
    "duration": 2,
    "start_time": "2023-01-21T16:11:06.581Z"
   },
   {
    "duration": 18,
    "start_time": "2023-01-21T16:11:07.400Z"
   },
   {
    "duration": 3,
    "start_time": "2023-01-21T16:11:22.800Z"
   },
   {
    "duration": 353,
    "start_time": "2023-01-21T16:11:22.805Z"
   },
   {
    "duration": 28,
    "start_time": "2023-01-21T16:11:23.160Z"
   },
   {
    "duration": 31,
    "start_time": "2023-01-21T16:11:23.189Z"
   },
   {
    "duration": 31,
    "start_time": "2023-01-21T16:11:23.222Z"
   },
   {
    "duration": 19,
    "start_time": "2023-01-21T16:11:23.255Z"
   },
   {
    "duration": 6,
    "start_time": "2023-01-21T16:11:23.275Z"
   },
   {
    "duration": 80,
    "start_time": "2023-01-21T16:11:23.282Z"
   },
   {
    "duration": 5,
    "start_time": "2023-01-21T16:11:23.364Z"
   },
   {
    "duration": 192,
    "start_time": "2023-01-21T16:11:23.371Z"
   },
   {
    "duration": 141,
    "start_time": "2023-01-21T16:13:28.817Z"
   },
   {
    "duration": 174,
    "start_time": "2023-01-21T16:14:12.582Z"
   },
   {
    "duration": 3,
    "start_time": "2023-01-21T16:15:59.957Z"
   },
   {
    "duration": 144,
    "start_time": "2023-01-21T16:16:00.816Z"
   },
   {
    "duration": 4,
    "start_time": "2023-01-21T16:18:31.153Z"
   },
   {
    "duration": 4,
    "start_time": "2023-01-21T16:19:12.531Z"
   },
   {
    "duration": 3,
    "start_time": "2023-01-21T16:26:19.402Z"
   },
   {
    "duration": 11,
    "start_time": "2023-01-21T16:26:20.154Z"
   },
   {
    "duration": 9,
    "start_time": "2023-01-21T16:27:26.629Z"
   },
   {
    "duration": 3,
    "start_time": "2023-01-21T16:27:39.019Z"
   },
   {
    "duration": 361,
    "start_time": "2023-01-21T16:27:39.024Z"
   },
   {
    "duration": 31,
    "start_time": "2023-01-21T16:27:39.386Z"
   },
   {
    "duration": 83,
    "start_time": "2023-01-21T16:27:39.420Z"
   },
   {
    "duration": 2,
    "start_time": "2023-01-21T16:27:39.505Z"
   },
   {
    "duration": 22,
    "start_time": "2023-01-21T16:27:39.509Z"
   },
   {
    "duration": 20,
    "start_time": "2023-01-21T16:27:39.533Z"
   },
   {
    "duration": 92,
    "start_time": "2023-01-21T16:27:39.555Z"
   },
   {
    "duration": 6,
    "start_time": "2023-01-21T16:27:39.648Z"
   },
   {
    "duration": 110,
    "start_time": "2023-01-21T16:27:39.656Z"
   },
   {
    "duration": 88,
    "start_time": "2023-01-21T16:27:39.769Z"
   },
   {
    "duration": 101,
    "start_time": "2023-01-21T16:27:39.858Z"
   },
   {
    "duration": 5,
    "start_time": "2023-01-21T16:27:39.960Z"
   },
   {
    "duration": 2,
    "start_time": "2023-01-21T16:27:44.084Z"
   },
   {
    "duration": 8,
    "start_time": "2023-01-21T16:27:44.668Z"
   },
   {
    "duration": 8,
    "start_time": "2023-01-21T16:27:54.465Z"
   },
   {
    "duration": 3,
    "start_time": "2023-01-21T16:28:09.114Z"
   },
   {
    "duration": 4,
    "start_time": "2023-01-21T16:28:17.046Z"
   },
   {
    "duration": 11,
    "start_time": "2023-01-21T16:30:12.594Z"
   },
   {
    "duration": 3,
    "start_time": "2023-01-21T16:30:47.848Z"
   },
   {
    "duration": 3,
    "start_time": "2023-01-21T16:33:45.700Z"
   },
   {
    "duration": 11,
    "start_time": "2023-01-21T16:33:47.235Z"
   },
   {
    "duration": 12,
    "start_time": "2023-01-21T16:35:07.181Z"
   },
   {
    "duration": 5,
    "start_time": "2023-01-21T16:38:19.781Z"
   },
   {
    "duration": 3,
    "start_time": "2023-01-21T16:38:21.886Z"
   },
   {
    "duration": 11,
    "start_time": "2023-01-21T16:39:17.163Z"
   },
   {
    "duration": 4,
    "start_time": "2023-01-21T16:40:16.216Z"
   },
   {
    "duration": 85,
    "start_time": "2023-01-21T16:40:17.774Z"
   },
   {
    "duration": 9,
    "start_time": "2023-01-21T16:41:02.900Z"
   },
   {
    "duration": 203,
    "start_time": "2023-01-21T16:41:25.150Z"
   },
   {
    "duration": 142,
    "start_time": "2023-01-21T16:42:00.215Z"
   },
   {
    "duration": 27,
    "start_time": "2023-01-21T16:42:14.932Z"
   },
   {
    "duration": 4,
    "start_time": "2023-01-21T16:43:02.252Z"
   },
   {
    "duration": 118,
    "start_time": "2023-01-21T16:43:03.737Z"
   },
   {
    "duration": 3,
    "start_time": "2023-01-21T16:43:34.153Z"
   },
   {
    "duration": 189,
    "start_time": "2023-01-21T16:43:35.269Z"
   },
   {
    "duration": 9,
    "start_time": "2023-01-21T16:43:52.850Z"
   },
   {
    "duration": 10,
    "start_time": "2023-01-21T16:44:17.130Z"
   },
   {
    "duration": 9,
    "start_time": "2023-01-21T16:44:21.911Z"
   },
   {
    "duration": 4,
    "start_time": "2023-01-21T16:44:25.673Z"
   },
   {
    "duration": 380,
    "start_time": "2023-01-21T16:44:25.679Z"
   },
   {
    "duration": 29,
    "start_time": "2023-01-21T16:44:26.060Z"
   },
   {
    "duration": 33,
    "start_time": "2023-01-21T16:44:26.090Z"
   },
   {
    "duration": 2,
    "start_time": "2023-01-21T16:44:26.153Z"
   },
   {
    "duration": 20,
    "start_time": "2023-01-21T16:44:26.157Z"
   },
   {
    "duration": 11,
    "start_time": "2023-01-21T16:44:26.178Z"
   },
   {
    "duration": 74,
    "start_time": "2023-01-21T16:44:26.191Z"
   },
   {
    "duration": 3,
    "start_time": "2023-01-21T16:44:26.266Z"
   },
   {
    "duration": 189,
    "start_time": "2023-01-21T16:44:26.271Z"
   },
   {
    "duration": 91,
    "start_time": "2023-01-21T16:44:26.462Z"
   },
   {
    "duration": 106,
    "start_time": "2023-01-21T16:44:26.556Z"
   },
   {
    "duration": 5,
    "start_time": "2023-01-21T16:44:26.664Z"
   },
   {
    "duration": 3,
    "start_time": "2023-01-21T16:44:32.333Z"
   },
   {
    "duration": 9,
    "start_time": "2023-01-21T16:44:33.969Z"
   },
   {
    "duration": 11,
    "start_time": "2023-01-21T16:44:42.595Z"
   },
   {
    "duration": 3,
    "start_time": "2023-01-21T16:45:31.820Z"
   },
   {
    "duration": 20,
    "start_time": "2023-01-21T16:45:33.055Z"
   },
   {
    "duration": 13,
    "start_time": "2023-01-21T16:45:49.885Z"
   },
   {
    "duration": 47,
    "start_time": "2023-01-21T16:46:23.933Z"
   },
   {
    "duration": 3,
    "start_time": "2023-01-21T16:47:35.601Z"
   },
   {
    "duration": 17,
    "start_time": "2023-01-21T16:47:40.420Z"
   },
   {
    "duration": 12,
    "start_time": "2023-01-21T16:47:55.929Z"
   },
   {
    "duration": 44,
    "start_time": "2023-01-21T16:48:41.437Z"
   },
   {
    "duration": 1203,
    "start_time": "2023-01-21T16:54:49.252Z"
   },
   {
    "duration": 386,
    "start_time": "2023-01-21T16:54:50.457Z"
   },
   {
    "duration": 41,
    "start_time": "2023-01-21T16:54:50.846Z"
   },
   {
    "duration": 34,
    "start_time": "2023-01-21T16:54:50.890Z"
   },
   {
    "duration": 27,
    "start_time": "2023-01-21T16:54:50.926Z"
   },
   {
    "duration": 18,
    "start_time": "2023-01-21T16:54:50.955Z"
   },
   {
    "duration": 44,
    "start_time": "2023-01-21T16:54:50.975Z"
   },
   {
    "duration": 94,
    "start_time": "2023-01-21T16:54:51.020Z"
   },
   {
    "duration": 4,
    "start_time": "2023-01-21T16:54:51.116Z"
   },
   {
    "duration": 335,
    "start_time": "2023-01-21T16:54:51.122Z"
   },
   {
    "duration": 94,
    "start_time": "2023-01-21T16:54:51.460Z"
   },
   {
    "duration": 99,
    "start_time": "2023-01-21T16:54:51.556Z"
   },
   {
    "duration": 22,
    "start_time": "2023-01-21T16:54:51.657Z"
   },
   {
    "duration": 113,
    "start_time": "2023-01-21T16:54:51.681Z"
   },
   {
    "duration": 0,
    "start_time": "2023-01-21T16:54:51.795Z"
   },
   {
    "duration": 12,
    "start_time": "2023-01-21T16:56:25.568Z"
   },
   {
    "duration": 12,
    "start_time": "2023-01-21T16:57:05.902Z"
   },
   {
    "duration": 3,
    "start_time": "2023-01-21T16:57:15.424Z"
   },
   {
    "duration": 390,
    "start_time": "2023-01-21T16:57:15.429Z"
   },
   {
    "duration": 42,
    "start_time": "2023-01-21T16:57:15.821Z"
   },
   {
    "duration": 38,
    "start_time": "2023-01-21T16:57:15.865Z"
   },
   {
    "duration": 3,
    "start_time": "2023-01-21T16:57:15.906Z"
   },
   {
    "duration": 49,
    "start_time": "2023-01-21T16:57:15.911Z"
   },
   {
    "duration": 8,
    "start_time": "2023-01-21T16:57:15.961Z"
   },
   {
    "duration": 92,
    "start_time": "2023-01-21T16:57:15.971Z"
   },
   {
    "duration": 5,
    "start_time": "2023-01-21T16:57:16.065Z"
   },
   {
    "duration": 194,
    "start_time": "2023-01-21T16:57:16.072Z"
   },
   {
    "duration": 4,
    "start_time": "2023-01-21T16:57:16.364Z"
   },
   {
    "duration": 89,
    "start_time": "2023-01-21T16:57:16.371Z"
   },
   {
    "duration": 6,
    "start_time": "2023-01-21T16:57:16.462Z"
   },
   {
    "duration": 13,
    "start_time": "2023-01-21T16:57:24.170Z"
   },
   {
    "duration": 20,
    "start_time": "2023-01-21T16:57:55.784Z"
   },
   {
    "duration": 10,
    "start_time": "2023-01-21T17:06:23.180Z"
   },
   {
    "duration": 19,
    "start_time": "2023-01-21T17:07:32.136Z"
   },
   {
    "duration": 2,
    "start_time": "2023-01-21T17:07:42.302Z"
   },
   {
    "duration": 3,
    "start_time": "2023-01-21T17:08:07.887Z"
   },
   {
    "duration": 3,
    "start_time": "2023-01-21T17:08:17.755Z"
   },
   {
    "duration": 20,
    "start_time": "2023-01-21T17:08:26.303Z"
   },
   {
    "duration": 2,
    "start_time": "2023-01-21T17:16:00.957Z"
   },
   {
    "duration": 23,
    "start_time": "2023-01-21T17:16:01.711Z"
   },
   {
    "duration": 12,
    "start_time": "2023-01-21T17:16:59.238Z"
   },
   {
    "duration": 22,
    "start_time": "2023-01-21T17:17:27.539Z"
   },
   {
    "duration": 21,
    "start_time": "2023-01-21T17:17:35.203Z"
   },
   {
    "duration": 4,
    "start_time": "2023-01-21T17:26:57.290Z"
   },
   {
    "duration": 11,
    "start_time": "2023-01-21T17:26:58.026Z"
   },
   {
    "duration": 3,
    "start_time": "2023-01-21T17:39:35.759Z"
   },
   {
    "duration": 11,
    "start_time": "2023-01-21T17:39:37.727Z"
   },
   {
    "duration": 4,
    "start_time": "2023-01-21T17:39:48.223Z"
   },
   {
    "duration": 18,
    "start_time": "2023-01-21T17:39:49.159Z"
   },
   {
    "duration": 6,
    "start_time": "2023-01-21T17:39:52.271Z"
   },
   {
    "duration": 4,
    "start_time": "2023-01-21T17:40:06.596Z"
   },
   {
    "duration": 29,
    "start_time": "2023-01-21T17:40:07.202Z"
   },
   {
    "duration": 1203,
    "start_time": "2023-01-21T17:42:54.392Z"
   },
   {
    "duration": 368,
    "start_time": "2023-01-21T17:42:55.596Z"
   },
   {
    "duration": 36,
    "start_time": "2023-01-21T17:42:55.966Z"
   },
   {
    "duration": 64,
    "start_time": "2023-01-21T17:42:56.004Z"
   },
   {
    "duration": 3,
    "start_time": "2023-01-21T17:42:56.071Z"
   },
   {
    "duration": 19,
    "start_time": "2023-01-21T17:42:56.075Z"
   },
   {
    "duration": 8,
    "start_time": "2023-01-21T17:42:56.096Z"
   },
   {
    "duration": 98,
    "start_time": "2023-01-21T17:42:56.105Z"
   },
   {
    "duration": 3,
    "start_time": "2023-01-21T17:42:56.205Z"
   },
   {
    "duration": 147,
    "start_time": "2023-01-21T17:42:56.210Z"
   },
   {
    "duration": 95,
    "start_time": "2023-01-21T17:42:56.359Z"
   },
   {
    "duration": 6,
    "start_time": "2023-01-21T17:42:56.456Z"
   },
   {
    "duration": 89,
    "start_time": "2023-01-21T17:42:56.464Z"
   },
   {
    "duration": 121,
    "start_time": "2023-01-21T17:42:56.556Z"
   },
   {
    "duration": 4,
    "start_time": "2023-01-21T17:47:29.288Z"
   },
   {
    "duration": 12,
    "start_time": "2023-01-21T17:47:30.395Z"
   },
   {
    "duration": 4,
    "start_time": "2023-01-21T18:02:58.166Z"
   },
   {
    "duration": 9,
    "start_time": "2023-01-21T18:02:58.779Z"
   },
   {
    "duration": 4,
    "start_time": "2023-01-21T18:03:09.441Z"
   },
   {
    "duration": 12,
    "start_time": "2023-01-21T18:03:09.876Z"
   },
   {
    "duration": 3,
    "start_time": "2023-01-21T18:03:16.138Z"
   },
   {
    "duration": 4,
    "start_time": "2023-01-21T18:03:21.350Z"
   },
   {
    "duration": 17,
    "start_time": "2023-01-21T18:03:21.758Z"
   },
   {
    "duration": 4,
    "start_time": "2023-01-21T18:03:47.941Z"
   },
   {
    "duration": 3542,
    "start_time": "2023-01-21T18:03:48.429Z"
   },
   {
    "duration": 3,
    "start_time": "2023-01-21T18:05:39.688Z"
   },
   {
    "duration": 12,
    "start_time": "2023-01-21T18:05:41.990Z"
   },
   {
    "duration": 3,
    "start_time": "2023-01-21T18:07:13.784Z"
   },
   {
    "duration": 12,
    "start_time": "2023-01-21T18:07:14.408Z"
   },
   {
    "duration": 1420,
    "start_time": "2023-01-22T09:01:34.764Z"
   },
   {
    "duration": 898,
    "start_time": "2023-01-22T09:01:36.186Z"
   },
   {
    "duration": 36,
    "start_time": "2023-01-22T09:01:37.086Z"
   },
   {
    "duration": 40,
    "start_time": "2023-01-22T09:01:37.124Z"
   },
   {
    "duration": 5,
    "start_time": "2023-01-22T09:01:37.166Z"
   },
   {
    "duration": 36,
    "start_time": "2023-01-22T09:01:37.173Z"
   },
   {
    "duration": 9,
    "start_time": "2023-01-22T09:01:37.210Z"
   },
   {
    "duration": 87,
    "start_time": "2023-01-22T09:01:37.221Z"
   },
   {
    "duration": 4,
    "start_time": "2023-01-22T09:01:37.310Z"
   },
   {
    "duration": 187,
    "start_time": "2023-01-22T09:01:37.315Z"
   },
   {
    "duration": 4,
    "start_time": "2023-01-22T09:01:37.504Z"
   },
   {
    "duration": 8,
    "start_time": "2023-01-22T09:01:37.598Z"
   },
   {
    "duration": 14,
    "start_time": "2023-01-22T09:01:37.608Z"
   },
   {
    "duration": 105,
    "start_time": "2023-01-22T09:01:37.625Z"
   },
   {
    "duration": 0,
    "start_time": "2023-01-22T09:01:37.732Z"
   },
   {
    "duration": 0,
    "start_time": "2023-01-22T09:01:37.733Z"
   },
   {
    "duration": 3,
    "start_time": "2023-01-22T09:07:59.319Z"
   },
   {
    "duration": 25,
    "start_time": "2023-01-22T09:08:00.560Z"
   },
   {
    "duration": 3,
    "start_time": "2023-01-22T09:11:11.553Z"
   },
   {
    "duration": 17,
    "start_time": "2023-01-22T09:11:12.417Z"
   },
   {
    "duration": 4,
    "start_time": "2023-01-22T09:12:52.918Z"
   },
   {
    "duration": 3335,
    "start_time": "2023-01-22T09:12:53.364Z"
   },
   {
    "duration": 9,
    "start_time": "2023-01-22T09:14:04.425Z"
   },
   {
    "duration": 3294,
    "start_time": "2023-01-22T09:15:06.701Z"
   },
   {
    "duration": 3333,
    "start_time": "2023-01-22T09:15:55.828Z"
   },
   {
    "duration": 3318,
    "start_time": "2023-01-22T09:16:21.483Z"
   },
   {
    "duration": 56,
    "start_time": "2023-01-22T09:39:16.139Z"
   },
   {
    "duration": 6,
    "start_time": "2023-01-22T09:39:33.754Z"
   },
   {
    "duration": 3432,
    "start_time": "2023-01-22T09:39:34.473Z"
   },
   {
    "duration": 3938,
    "start_time": "2023-01-22T09:40:14.764Z"
   },
   {
    "duration": 3642,
    "start_time": "2023-01-22T09:40:34.086Z"
   },
   {
    "duration": 3774,
    "start_time": "2023-01-22T09:40:48.368Z"
   },
   {
    "duration": 4,
    "start_time": "2023-01-22T09:50:05.034Z"
   },
   {
    "duration": 15,
    "start_time": "2023-01-22T09:50:05.627Z"
   },
   {
    "duration": 3,
    "start_time": "2023-01-22T09:50:12.983Z"
   },
   {
    "duration": 9,
    "start_time": "2023-01-22T09:50:19.514Z"
   },
   {
    "duration": 6,
    "start_time": "2023-01-22T09:50:39.302Z"
   },
   {
    "duration": 14,
    "start_time": "2023-01-22T09:50:39.722Z"
   },
   {
    "duration": 4,
    "start_time": "2023-01-22T09:51:07.369Z"
   },
   {
    "duration": 12,
    "start_time": "2023-01-22T09:51:07.820Z"
   },
   {
    "duration": 1112,
    "start_time": "2023-01-22T09:55:32.994Z"
   },
   {
    "duration": 1484,
    "start_time": "2023-01-22T09:55:34.108Z"
   },
   {
    "duration": 39,
    "start_time": "2023-01-22T09:55:35.594Z"
   },
   {
    "duration": 36,
    "start_time": "2023-01-22T09:55:35.634Z"
   },
   {
    "duration": 2,
    "start_time": "2023-01-22T09:55:35.673Z"
   },
   {
    "duration": 48,
    "start_time": "2023-01-22T09:55:35.677Z"
   },
   {
    "duration": 26,
    "start_time": "2023-01-22T09:55:35.727Z"
   },
   {
    "duration": 104,
    "start_time": "2023-01-22T09:55:35.755Z"
   },
   {
    "duration": 5,
    "start_time": "2023-01-22T09:55:35.861Z"
   },
   {
    "duration": 269,
    "start_time": "2023-01-22T09:55:35.868Z"
   },
   {
    "duration": 99,
    "start_time": "2023-01-22T09:55:36.139Z"
   },
   {
    "duration": 21,
    "start_time": "2023-01-22T09:55:36.240Z"
   },
   {
    "duration": 7,
    "start_time": "2023-01-22T09:55:36.263Z"
   },
   {
    "duration": 27,
    "start_time": "2023-01-22T09:55:36.273Z"
   },
   {
    "duration": 4,
    "start_time": "2023-01-22T09:55:36.303Z"
   },
   {
    "duration": 3992,
    "start_time": "2023-01-22T09:55:36.310Z"
   },
   {
    "duration": 4,
    "start_time": "2023-01-22T09:55:40.305Z"
   },
   {
    "duration": 23,
    "start_time": "2023-01-22T09:55:40.310Z"
   },
   {
    "duration": 4097,
    "start_time": "2023-01-22T10:02:46.213Z"
   },
   {
    "duration": 6,
    "start_time": "2023-01-22T10:23:30.725Z"
   },
   {
    "duration": 623,
    "start_time": "2023-01-22T10:23:32.655Z"
   },
   {
    "duration": 5,
    "start_time": "2023-01-22T10:24:05.226Z"
   },
   {
    "duration": 1521,
    "start_time": "2023-01-22T10:24:05.969Z"
   },
   {
    "duration": 4549,
    "start_time": "2023-01-22T10:29:35.915Z"
   },
   {
    "duration": 21,
    "start_time": "2023-01-22T10:43:33.667Z"
   },
   {
    "duration": 1104,
    "start_time": "2023-01-22T10:44:36.118Z"
   },
   {
    "duration": 379,
    "start_time": "2023-01-22T10:44:37.224Z"
   },
   {
    "duration": 41,
    "start_time": "2023-01-22T10:44:37.605Z"
   },
   {
    "duration": 35,
    "start_time": "2023-01-22T10:44:37.648Z"
   },
   {
    "duration": 16,
    "start_time": "2023-01-22T10:44:37.685Z"
   },
   {
    "duration": 34,
    "start_time": "2023-01-22T10:44:37.703Z"
   },
   {
    "duration": 105,
    "start_time": "2023-01-22T10:44:37.738Z"
   },
   {
    "duration": 4,
    "start_time": "2023-01-22T10:44:37.845Z"
   },
   {
    "duration": 187,
    "start_time": "2023-01-22T10:44:37.851Z"
   },
   {
    "duration": 6,
    "start_time": "2023-01-22T10:44:38.040Z"
   },
   {
    "duration": 96,
    "start_time": "2023-01-22T10:44:38.048Z"
   },
   {
    "duration": 5,
    "start_time": "2023-01-22T10:44:38.146Z"
   },
   {
    "duration": 28,
    "start_time": "2023-01-22T10:44:38.153Z"
   },
   {
    "duration": 6,
    "start_time": "2023-01-22T10:44:38.184Z"
   },
   {
    "duration": 11,
    "start_time": "2023-01-22T10:44:38.192Z"
   },
   {
    "duration": 32,
    "start_time": "2023-01-22T10:44:38.205Z"
   },
   {
    "duration": 4,
    "start_time": "2023-01-22T10:54:08.182Z"
   },
   {
    "duration": 94,
    "start_time": "2023-01-22T10:54:08.760Z"
   },
   {
    "duration": 10,
    "start_time": "2023-01-22T10:54:16.282Z"
   },
   {
    "duration": 5,
    "start_time": "2023-01-22T10:54:24.380Z"
   },
   {
    "duration": 3527,
    "start_time": "2023-01-22T10:54:24.787Z"
   },
   {
    "duration": 4,
    "start_time": "2023-01-22T10:54:40.257Z"
   },
   {
    "duration": 3501,
    "start_time": "2023-01-22T10:54:40.919Z"
   },
   {
    "duration": 1114,
    "start_time": "2023-01-22T10:57:30.675Z"
   },
   {
    "duration": 375,
    "start_time": "2023-01-22T10:57:31.791Z"
   },
   {
    "duration": 42,
    "start_time": "2023-01-22T10:57:32.168Z"
   },
   {
    "duration": 50,
    "start_time": "2023-01-22T10:57:32.212Z"
   },
   {
    "duration": 16,
    "start_time": "2023-01-22T10:57:32.264Z"
   },
   {
    "duration": 5,
    "start_time": "2023-01-22T10:57:32.282Z"
   },
   {
    "duration": 94,
    "start_time": "2023-01-22T10:57:32.289Z"
   },
   {
    "duration": 3,
    "start_time": "2023-01-22T10:57:32.385Z"
   },
   {
    "duration": 247,
    "start_time": "2023-01-22T10:57:32.390Z"
   },
   {
    "duration": 96,
    "start_time": "2023-01-22T10:57:32.641Z"
   },
   {
    "duration": 17,
    "start_time": "2023-01-22T10:57:32.739Z"
   },
   {
    "duration": 4,
    "start_time": "2023-01-22T10:57:32.758Z"
   },
   {
    "duration": 28,
    "start_time": "2023-01-22T10:57:32.764Z"
   },
   {
    "duration": 4,
    "start_time": "2023-01-22T10:57:32.793Z"
   },
   {
    "duration": 3637,
    "start_time": "2023-01-22T10:57:32.798Z"
   },
   {
    "duration": 3,
    "start_time": "2023-01-22T10:57:36.437Z"
   },
   {
    "duration": 18,
    "start_time": "2023-01-22T10:57:36.441Z"
   },
   {
    "duration": 1710,
    "start_time": "2023-01-22T12:57:14.772Z"
   },
   {
    "duration": 411,
    "start_time": "2023-01-22T12:57:16.485Z"
   },
   {
    "duration": 42,
    "start_time": "2023-01-22T12:57:16.898Z"
   },
   {
    "duration": 64,
    "start_time": "2023-01-22T12:57:16.942Z"
   },
   {
    "duration": 18,
    "start_time": "2023-01-22T12:57:17.009Z"
   },
   {
    "duration": 10,
    "start_time": "2023-01-22T12:57:17.029Z"
   },
   {
    "duration": 100,
    "start_time": "2023-01-22T12:57:17.042Z"
   },
   {
    "duration": 4,
    "start_time": "2023-01-22T12:57:17.144Z"
   },
   {
    "duration": 239,
    "start_time": "2023-01-22T12:57:17.150Z"
   },
   {
    "duration": 93,
    "start_time": "2023-01-22T12:57:17.392Z"
   },
   {
    "duration": 98,
    "start_time": "2023-01-22T12:57:17.488Z"
   },
   {
    "duration": 7,
    "start_time": "2023-01-22T12:57:17.588Z"
   },
   {
    "duration": 27,
    "start_time": "2023-01-22T12:57:17.597Z"
   },
   {
    "duration": 5,
    "start_time": "2023-01-22T12:57:17.627Z"
   },
   {
    "duration": 3953,
    "start_time": "2023-01-22T12:57:17.634Z"
   },
   {
    "duration": 4,
    "start_time": "2023-01-22T12:57:21.589Z"
   },
   {
    "duration": 22,
    "start_time": "2023-01-22T12:57:21.595Z"
   },
   {
    "duration": 5,
    "start_time": "2023-01-22T13:07:59.016Z"
   },
   {
    "duration": 7,
    "start_time": "2023-01-22T13:09:53.315Z"
   },
   {
    "duration": 7,
    "start_time": "2023-01-22T13:17:52.986Z"
   },
   {
    "duration": 5,
    "start_time": "2023-01-22T13:25:27.128Z"
   },
   {
    "duration": 5,
    "start_time": "2023-01-22T13:25:54.006Z"
   },
   {
    "duration": 6,
    "start_time": "2023-01-22T13:28:21.632Z"
   },
   {
    "duration": 1916,
    "start_time": "2023-01-22T13:31:00.128Z"
   },
   {
    "duration": 511,
    "start_time": "2023-01-22T13:31:02.047Z"
   },
   {
    "duration": 59,
    "start_time": "2023-01-22T13:31:02.560Z"
   },
   {
    "duration": 42,
    "start_time": "2023-01-22T13:31:02.622Z"
   },
   {
    "duration": 43,
    "start_time": "2023-01-22T13:31:02.666Z"
   },
   {
    "duration": 6,
    "start_time": "2023-01-22T13:31:02.711Z"
   },
   {
    "duration": 113,
    "start_time": "2023-01-22T13:31:02.719Z"
   },
   {
    "duration": 5,
    "start_time": "2023-01-22T13:31:02.834Z"
   },
   {
    "duration": 159,
    "start_time": "2023-01-22T13:31:02.841Z"
   },
   {
    "duration": 86,
    "start_time": "2023-01-22T13:31:03.003Z"
   },
   {
    "duration": 102,
    "start_time": "2023-01-22T13:31:03.093Z"
   },
   {
    "duration": 4,
    "start_time": "2023-01-22T13:31:03.200Z"
   },
   {
    "duration": 28,
    "start_time": "2023-01-22T13:31:03.206Z"
   },
   {
    "duration": 5,
    "start_time": "2023-01-22T13:31:03.237Z"
   },
   {
    "duration": 16,
    "start_time": "2023-01-22T13:31:03.243Z"
   },
   {
    "duration": 4299,
    "start_time": "2023-01-22T13:31:03.261Z"
   },
   {
    "duration": 4,
    "start_time": "2023-01-22T13:31:07.562Z"
   },
   {
    "duration": 35,
    "start_time": "2023-01-22T13:31:07.568Z"
   },
   {
    "duration": 76,
    "start_time": "2023-01-22T15:18:40.026Z"
   },
   {
    "duration": 1102,
    "start_time": "2023-01-22T15:18:51.964Z"
   },
   {
    "duration": 1312,
    "start_time": "2023-01-22T15:18:53.068Z"
   },
   {
    "duration": 38,
    "start_time": "2023-01-22T15:18:57.206Z"
   },
   {
    "duration": 6,
    "start_time": "2023-01-22T15:21:53.596Z"
   },
   {
    "duration": 7,
    "start_time": "2023-01-22T15:26:45.536Z"
   },
   {
    "duration": 243,
    "start_time": "2023-01-22T15:26:50.605Z"
   },
   {
    "duration": 231,
    "start_time": "2023-01-22T15:28:02.957Z"
   },
   {
    "duration": 3,
    "start_time": "2023-01-22T15:28:05.478Z"
   },
   {
    "duration": 82,
    "start_time": "2023-01-22T15:28:08.194Z"
   },
   {
    "duration": 4,
    "start_time": "2023-01-22T15:30:18.992Z"
   },
   {
    "duration": 212,
    "start_time": "2023-01-22T15:30:25.147Z"
   },
   {
    "duration": 4,
    "start_time": "2023-01-22T15:30:29.035Z"
   },
   {
    "duration": 32,
    "start_time": "2023-01-22T15:30:30.299Z"
   },
   {
    "duration": 4,
    "start_time": "2023-01-22T15:31:08.733Z"
   },
   {
    "duration": 368,
    "start_time": "2023-01-22T15:31:08.738Z"
   },
   {
    "duration": 19,
    "start_time": "2023-01-22T15:31:09.108Z"
   },
   {
    "duration": 32,
    "start_time": "2023-01-22T15:31:09.129Z"
   },
   {
    "duration": 11,
    "start_time": "2023-01-22T15:31:09.164Z"
   },
   {
    "duration": 5,
    "start_time": "2023-01-22T15:31:09.198Z"
   },
   {
    "duration": 79,
    "start_time": "2023-01-22T15:31:09.204Z"
   },
   {
    "duration": 14,
    "start_time": "2023-01-22T15:31:09.285Z"
   },
   {
    "duration": 3,
    "start_time": "2023-01-22T15:31:19.779Z"
   },
   {
    "duration": 132,
    "start_time": "2023-01-22T15:31:31.569Z"
   },
   {
    "duration": 4,
    "start_time": "2023-01-22T15:32:33.789Z"
   },
   {
    "duration": 3,
    "start_time": "2023-01-22T15:32:40.881Z"
   },
   {
    "duration": 359,
    "start_time": "2023-01-22T15:32:40.886Z"
   },
   {
    "duration": 20,
    "start_time": "2023-01-22T15:32:41.247Z"
   },
   {
    "duration": 43,
    "start_time": "2023-01-22T15:32:41.268Z"
   },
   {
    "duration": 12,
    "start_time": "2023-01-22T15:32:41.313Z"
   },
   {
    "duration": 6,
    "start_time": "2023-01-22T15:32:41.327Z"
   },
   {
    "duration": 74,
    "start_time": "2023-01-22T15:32:41.334Z"
   },
   {
    "duration": 4,
    "start_time": "2023-01-22T15:32:41.410Z"
   },
   {
    "duration": 5,
    "start_time": "2023-01-22T15:32:45.004Z"
   },
   {
    "duration": 56,
    "start_time": "2023-01-22T15:32:45.747Z"
   },
   {
    "duration": 4,
    "start_time": "2023-01-22T15:39:22.876Z"
   },
   {
    "duration": 3,
    "start_time": "2023-01-22T15:43:07.946Z"
   },
   {
    "duration": 9,
    "start_time": "2023-01-22T15:47:27.203Z"
   },
   {
    "duration": 5,
    "start_time": "2023-01-22T15:47:45.175Z"
   },
   {
    "duration": 6,
    "start_time": "2023-01-22T16:09:13.124Z"
   },
   {
    "duration": 3,
    "start_time": "2023-01-22T16:09:52.717Z"
   },
   {
    "duration": 367,
    "start_time": "2023-01-22T16:09:52.722Z"
   },
   {
    "duration": 25,
    "start_time": "2023-01-22T16:09:53.090Z"
   },
   {
    "duration": 55,
    "start_time": "2023-01-22T16:09:53.118Z"
   },
   {
    "duration": 17,
    "start_time": "2023-01-22T16:09:53.175Z"
   },
   {
    "duration": 40,
    "start_time": "2023-01-22T16:09:53.194Z"
   },
   {
    "duration": 93,
    "start_time": "2023-01-22T16:09:53.236Z"
   },
   {
    "duration": 4,
    "start_time": "2023-01-22T16:09:53.331Z"
   },
   {
    "duration": 167,
    "start_time": "2023-01-22T16:09:53.338Z"
   },
   {
    "duration": 107,
    "start_time": "2023-01-22T16:09:53.507Z"
   },
   {
    "duration": 47,
    "start_time": "2023-01-22T16:09:53.615Z"
   },
   {
    "duration": 53,
    "start_time": "2023-01-22T16:09:53.663Z"
   },
   {
    "duration": 24,
    "start_time": "2023-01-22T16:09:53.718Z"
   },
   {
    "duration": 44,
    "start_time": "2023-01-22T16:13:02.926Z"
   },
   {
    "duration": 5,
    "start_time": "2023-01-22T16:13:32.443Z"
   },
   {
    "duration": 15,
    "start_time": "2023-01-22T16:14:25.657Z"
   },
   {
    "duration": 4,
    "start_time": "2023-01-22T16:15:10.622Z"
   },
   {
    "duration": 22,
    "start_time": "2023-01-22T16:15:14.177Z"
   },
   {
    "duration": 5,
    "start_time": "2023-01-22T16:19:20.961Z"
   },
   {
    "duration": 24,
    "start_time": "2023-01-22T16:19:24.695Z"
   },
   {
    "duration": 4,
    "start_time": "2023-01-22T16:20:52.060Z"
   },
   {
    "duration": 17,
    "start_time": "2023-01-22T16:20:56.492Z"
   },
   {
    "duration": 5,
    "start_time": "2023-01-22T16:21:14.893Z"
   },
   {
    "duration": 4407,
    "start_time": "2023-01-22T16:21:18.520Z"
   },
   {
    "duration": 8,
    "start_time": "2023-01-22T16:22:50.628Z"
   },
   {
    "duration": 4597,
    "start_time": "2023-01-22T16:22:53.728Z"
   },
   {
    "duration": 8,
    "start_time": "2023-01-22T16:24:03.943Z"
   },
   {
    "duration": 1215,
    "start_time": "2023-01-22T16:29:53.936Z"
   },
   {
    "duration": 378,
    "start_time": "2023-01-22T16:29:55.153Z"
   },
   {
    "duration": 34,
    "start_time": "2023-01-22T16:29:55.533Z"
   },
   {
    "duration": 62,
    "start_time": "2023-01-22T16:29:55.570Z"
   },
   {
    "duration": 22,
    "start_time": "2023-01-22T16:29:55.635Z"
   },
   {
    "duration": 9,
    "start_time": "2023-01-22T16:29:55.659Z"
   },
   {
    "duration": 94,
    "start_time": "2023-01-22T16:29:55.670Z"
   },
   {
    "duration": 4,
    "start_time": "2023-01-22T16:29:55.766Z"
   },
   {
    "duration": 147,
    "start_time": "2023-01-22T16:29:55.772Z"
   },
   {
    "duration": 71,
    "start_time": "2023-01-22T16:29:55.932Z"
   },
   {
    "duration": 44,
    "start_time": "2023-01-22T16:29:56.005Z"
   },
   {
    "duration": 18,
    "start_time": "2023-01-22T16:29:56.051Z"
   },
   {
    "duration": 50,
    "start_time": "2023-01-22T16:29:56.071Z"
   },
   {
    "duration": 13,
    "start_time": "2023-01-22T16:29:56.125Z"
   },
   {
    "duration": 22,
    "start_time": "2023-01-22T16:29:56.141Z"
   },
   {
    "duration": 4676,
    "start_time": "2023-01-22T16:29:56.166Z"
   },
   {
    "duration": 4,
    "start_time": "2023-01-22T16:30:00.844Z"
   },
   {
    "duration": 59,
    "start_time": "2023-01-22T16:30:00.850Z"
   },
   {
    "duration": 1169,
    "start_time": "2023-01-22T16:37:04.144Z"
   },
   {
    "duration": 501,
    "start_time": "2023-01-22T16:37:05.317Z"
   },
   {
    "duration": 30,
    "start_time": "2023-01-22T16:37:05.820Z"
   },
   {
    "duration": 51,
    "start_time": "2023-01-22T16:37:05.852Z"
   },
   {
    "duration": 18,
    "start_time": "2023-01-22T16:37:05.905Z"
   },
   {
    "duration": 20,
    "start_time": "2023-01-22T16:37:05.925Z"
   },
   {
    "duration": 81,
    "start_time": "2023-01-22T16:37:05.947Z"
   },
   {
    "duration": 4,
    "start_time": "2023-01-22T16:37:06.030Z"
   },
   {
    "duration": 271,
    "start_time": "2023-01-22T16:37:06.036Z"
   },
   {
    "duration": 18,
    "start_time": "2023-01-22T16:37:06.309Z"
   },
   {
    "duration": 92,
    "start_time": "2023-01-22T16:37:06.330Z"
   },
   {
    "duration": 39,
    "start_time": "2023-01-22T16:37:06.424Z"
   },
   {
    "duration": 67,
    "start_time": "2023-01-22T16:37:06.465Z"
   },
   {
    "duration": 24,
    "start_time": "2023-01-22T16:37:06.536Z"
   },
   {
    "duration": 112,
    "start_time": "2023-01-22T16:37:06.562Z"
   },
   {
    "duration": 4665,
    "start_time": "2023-01-22T16:37:06.677Z"
   },
   {
    "duration": 3,
    "start_time": "2023-01-22T16:37:11.346Z"
   },
   {
    "duration": 53,
    "start_time": "2023-01-22T16:37:11.352Z"
   },
   {
    "duration": 1645,
    "start_time": "2023-01-22T18:38:37.140Z"
   },
   {
    "duration": 458,
    "start_time": "2023-01-22T18:38:38.788Z"
   },
   {
    "duration": 30,
    "start_time": "2023-01-22T18:38:39.248Z"
   },
   {
    "duration": 60,
    "start_time": "2023-01-22T18:38:39.280Z"
   },
   {
    "duration": 19,
    "start_time": "2023-01-22T18:38:39.342Z"
   },
   {
    "duration": 31,
    "start_time": "2023-01-22T18:38:39.362Z"
   },
   {
    "duration": 126,
    "start_time": "2023-01-22T18:38:39.395Z"
   },
   {
    "duration": 4,
    "start_time": "2023-01-22T18:38:39.523Z"
   },
   {
    "duration": 315,
    "start_time": "2023-01-22T18:38:39.529Z"
   },
   {
    "duration": 97,
    "start_time": "2023-01-22T18:38:39.848Z"
   },
   {
    "duration": 95,
    "start_time": "2023-01-22T18:38:39.947Z"
   },
   {
    "duration": 10,
    "start_time": "2023-01-22T18:38:40.044Z"
   },
   {
    "duration": 23,
    "start_time": "2023-01-22T18:38:40.055Z"
   },
   {
    "duration": 7,
    "start_time": "2023-01-22T18:38:40.080Z"
   },
   {
    "duration": 9,
    "start_time": "2023-01-22T18:38:40.089Z"
   },
   {
    "duration": 4462,
    "start_time": "2023-01-22T18:38:40.100Z"
   },
   {
    "duration": 3,
    "start_time": "2023-01-22T18:38:44.564Z"
   },
   {
    "duration": 18,
    "start_time": "2023-01-22T18:38:44.569Z"
   },
   {
    "duration": 1623,
    "start_time": "2023-01-22T18:43:16.686Z"
   },
   {
    "duration": 396,
    "start_time": "2023-01-22T18:43:18.310Z"
   },
   {
    "duration": 33,
    "start_time": "2023-01-22T18:43:18.708Z"
   },
   {
    "duration": 37,
    "start_time": "2023-01-22T18:43:18.743Z"
   },
   {
    "duration": 19,
    "start_time": "2023-01-22T18:43:18.781Z"
   },
   {
    "duration": 10,
    "start_time": "2023-01-22T18:43:18.803Z"
   },
   {
    "duration": 110,
    "start_time": "2023-01-22T18:43:18.815Z"
   },
   {
    "duration": 5,
    "start_time": "2023-01-22T18:43:18.941Z"
   },
   {
    "duration": 294,
    "start_time": "2023-01-22T18:43:18.948Z"
   },
   {
    "duration": 96,
    "start_time": "2023-01-22T18:43:19.246Z"
   },
   {
    "duration": 4,
    "start_time": "2023-01-22T18:43:19.344Z"
   },
   {
    "duration": 7,
    "start_time": "2023-01-22T18:43:19.350Z"
   },
   {
    "duration": 27,
    "start_time": "2023-01-22T18:43:19.358Z"
   },
   {
    "duration": 6,
    "start_time": "2023-01-22T18:43:19.386Z"
   },
   {
    "duration": 16,
    "start_time": "2023-01-22T18:43:19.393Z"
   },
   {
    "duration": 4332,
    "start_time": "2023-01-22T18:43:19.410Z"
   },
   {
    "duration": 3,
    "start_time": "2023-01-22T18:43:23.744Z"
   },
   {
    "duration": 15,
    "start_time": "2023-01-22T18:43:23.749Z"
   }
  ],
  "kernelspec": {
   "display_name": "Python 3 (ipykernel)",
   "language": "python",
   "name": "python3"
  },
  "language_info": {
   "codemirror_mode": {
    "name": "ipython",
    "version": 3
   },
   "file_extension": ".py",
   "mimetype": "text/x-python",
   "name": "python",
   "nbconvert_exporter": "python",
   "pygments_lexer": "ipython3",
   "version": "3.9.13"
  },
  "toc": {
   "base_numbering": 1,
   "nav_menu": {},
   "number_sections": true,
   "sideBar": true,
   "skip_h1_title": true,
   "title_cell": "Table of Contents",
   "title_sidebar": "Contents",
   "toc_cell": false,
   "toc_position": {
    "height": "calc(100% - 180px)",
    "left": "10px",
    "top": "150px",
    "width": "187.1875px"
   },
   "toc_section_display": true,
   "toc_window_display": true
  }
 },
 "nbformat": 4,
 "nbformat_minor": 2
}
