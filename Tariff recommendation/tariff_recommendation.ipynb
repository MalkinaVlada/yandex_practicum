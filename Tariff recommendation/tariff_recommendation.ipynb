{
 "cells": [
  {
   "cell_type": "markdown",
   "metadata": {},
   "source": [
    "# Рекомендация тарифов / Tariff recommendation"
   ]
  },
  {
   "cell_type": "markdown",
   "metadata": {},
   "source": [
    "Задача: построить модель для задачи классификации, которая выберет подходящий тариф. Минимальное значение *accuracy* на тестовой выборке: 0.75\n",
    "\n",
    "Task: build a model for the classification task that will select the appropriate tariff. Minimum *accuracy* value on the test sample: 0.75"
   ]
  },
  {
   "cell_type": "markdown",
   "metadata": {},
   "source": [
    "## Откроем и изучим файл / Let's open and examine the file"
   ]
  },
  {
   "cell_type": "code",
   "execution_count": 1,
   "metadata": {},
   "outputs": [],
   "source": [
    "import pandas as pd\n",
    "from sklearn.model_selection import train_test_split \n",
    "from sklearn.ensemble import RandomForestClassifier\n",
    "from joblib import dump\n",
    "from sklearn.linear_model import LogisticRegression\n",
    "from sklearn.tree import DecisionTreeClassifier\n",
    "from sklearn.metrics import accuracy_score\n",
    "from sklearn.dummy import DummyClassifier"
   ]
  },
  {
   "cell_type": "code",
   "execution_count": 2,
   "metadata": {},
   "outputs": [
    {
     "data": {
      "text/html": [
       "<div>\n",
       "<style scoped>\n",
       "    .dataframe tbody tr th:only-of-type {\n",
       "        vertical-align: middle;\n",
       "    }\n",
       "\n",
       "    .dataframe tbody tr th {\n",
       "        vertical-align: top;\n",
       "    }\n",
       "\n",
       "    .dataframe thead th {\n",
       "        text-align: right;\n",
       "    }\n",
       "</style>\n",
       "<table border=\"1\" class=\"dataframe\">\n",
       "  <thead>\n",
       "    <tr style=\"text-align: right;\">\n",
       "      <th></th>\n",
       "      <th>Unnamed: 0</th>\n",
       "      <th>calls</th>\n",
       "      <th>minutes</th>\n",
       "      <th>messages</th>\n",
       "      <th>mb_used</th>\n",
       "      <th>is_ultra</th>\n",
       "    </tr>\n",
       "  </thead>\n",
       "  <tbody>\n",
       "    <tr>\n",
       "      <th>0</th>\n",
       "      <td>0</td>\n",
       "      <td>40.0</td>\n",
       "      <td>311.90</td>\n",
       "      <td>83.0</td>\n",
       "      <td>19915.42</td>\n",
       "      <td>0</td>\n",
       "    </tr>\n",
       "    <tr>\n",
       "      <th>1</th>\n",
       "      <td>1</td>\n",
       "      <td>85.0</td>\n",
       "      <td>516.75</td>\n",
       "      <td>56.0</td>\n",
       "      <td>22696.96</td>\n",
       "      <td>0</td>\n",
       "    </tr>\n",
       "    <tr>\n",
       "      <th>2</th>\n",
       "      <td>2</td>\n",
       "      <td>77.0</td>\n",
       "      <td>467.66</td>\n",
       "      <td>86.0</td>\n",
       "      <td>21060.45</td>\n",
       "      <td>0</td>\n",
       "    </tr>\n",
       "    <tr>\n",
       "      <th>3</th>\n",
       "      <td>3</td>\n",
       "      <td>106.0</td>\n",
       "      <td>745.53</td>\n",
       "      <td>81.0</td>\n",
       "      <td>8437.39</td>\n",
       "      <td>1</td>\n",
       "    </tr>\n",
       "    <tr>\n",
       "      <th>4</th>\n",
       "      <td>4</td>\n",
       "      <td>66.0</td>\n",
       "      <td>418.74</td>\n",
       "      <td>1.0</td>\n",
       "      <td>14502.75</td>\n",
       "      <td>0</td>\n",
       "    </tr>\n",
       "  </tbody>\n",
       "</table>\n",
       "</div>"
      ],
      "text/plain": [
       "   Unnamed: 0  calls  minutes  messages   mb_used  is_ultra\n",
       "0           0   40.0   311.90      83.0  19915.42         0\n",
       "1           1   85.0   516.75      56.0  22696.96         0\n",
       "2           2   77.0   467.66      86.0  21060.45         0\n",
       "3           3  106.0   745.53      81.0   8437.39         1\n",
       "4           4   66.0   418.74       1.0  14502.75         0"
      ]
     },
     "metadata": {},
     "output_type": "display_data"
    }
   ],
   "source": [
    "data = pd.read_csv('/Users/vladamalkina/Desktop/ЯП проекты/проект 6/users_behavior_sixth_project.csv')\n",
    "display(data.head())"
   ]
  },
  {
   "cell_type": "code",
   "execution_count": 3,
   "metadata": {},
   "outputs": [
    {
     "name": "stdout",
     "output_type": "stream",
     "text": [
      "<class 'pandas.core.frame.DataFrame'>\n",
      "RangeIndex: 3214 entries, 0 to 3213\n",
      "Data columns (total 6 columns):\n",
      " #   Column      Non-Null Count  Dtype  \n",
      "---  ------      --------------  -----  \n",
      " 0   Unnamed: 0  3214 non-null   int64  \n",
      " 1   calls       3214 non-null   float64\n",
      " 2   minutes     3214 non-null   float64\n",
      " 3   messages    3214 non-null   float64\n",
      " 4   mb_used     3214 non-null   float64\n",
      " 5   is_ultra    3214 non-null   int64  \n",
      "dtypes: float64(4), int64(2)\n",
      "memory usage: 150.8 KB\n"
     ]
    }
   ],
   "source": [
    "data.info()"
   ]
  },
  {
   "cell_type": "markdown",
   "metadata": {},
   "source": [
    "## Разделим данные на выборки / Divide the data into samples"
   ]
  },
  {
   "cell_type": "code",
   "execution_count": 4,
   "metadata": {},
   "outputs": [],
   "source": [
    "data_train, data_common = train_test_split(data,  test_size = 0.4, random_state = 12345)\n",
    "data_valid, data_test = train_test_split(data_common,  test_size = 0.5, random_state = 12345)"
   ]
  },
  {
   "cell_type": "markdown",
   "metadata": {},
   "source": [
    "Разбили данные на три выборки: обучающую, валидационную и тестовую, соотношение 3:1:1 (60% : 20% : 20%)\n",
    "\n",
    "We divided the data into three samples: training, validation and test, ratio 3:1:1 (60% : 20% : 20%)"
   ]
  },
  {
   "cell_type": "markdown",
   "metadata": {},
   "source": [
    "## Исследование моделей / Model Research"
   ]
  },
  {
   "cell_type": "code",
   "execution_count": 5,
   "metadata": {},
   "outputs": [],
   "source": [
    "features_train = data_train.drop(['is_ultra'], axis=1)\n",
    "target_train = data_train['is_ultra']\n",
    "features_valid = data_valid.drop(['is_ultra'], axis=1)\n",
    "target_valid = data_valid['is_ultra'] \n",
    "features_test = data_test.drop(['is_ultra'], axis=1)\n",
    "target_test = data_test['is_ultra']"
   ]
  },
  {
   "cell_type": "markdown",
   "metadata": {},
   "source": [
    "features - признаки\n",
    "target - целевой признак"
   ]
  },
  {
   "cell_type": "code",
   "execution_count": 6,
   "metadata": {},
   "outputs": [
    {
     "name": "stdout",
     "output_type": "stream",
     "text": [
      "(1928, 5)\n",
      "(1928,)\n",
      "(643, 5)\n",
      "(643,)\n",
      "(643, 5)\n",
      "(643,)\n"
     ]
    }
   ],
   "source": [
    "print(features_train.shape)\n",
    "print(target_train.shape)\n",
    "print(features_valid.shape)\n",
    "print(target_valid.shape)\n",
    "print(features_test.shape)\n",
    "print(target_test.shape)"
   ]
  },
  {
   "cell_type": "markdown",
   "metadata": {},
   "source": [
    "Дерево решений: / Decision tree:"
   ]
  },
  {
   "cell_type": "code",
   "execution_count": 7,
   "metadata": {},
   "outputs": [
    {
     "name": "stdout",
     "output_type": "stream",
     "text": [
      "Accuracy наилучшей модели на валидационной выборке: 0.7853810264385692\n"
     ]
    }
   ],
   "source": [
    "best_result = 0\n",
    "best_model_decision_tree = None\n",
    "for depth in range(1, 6):\n",
    "    model_decision_tree = DecisionTreeClassifier(random_state=12345, max_depth = depth)\n",
    "    model_decision_tree.fit(features_train, target_train)\n",
    "    predictions_valid =  model_decision_tree.predict(features_valid)\n",
    "    result = accuracy_score(target_valid, predictions_valid)\n",
    "    if result > best_result:\n",
    "        best_model_decision_tree = model_decision_tree\n",
    "        best_result = result \n",
    "\n",
    "print(\"Accuracy наилучшей модели на валидационной выборке:\", best_result)\n",
    "#criterion='gini'"
   ]
  },
  {
   "cell_type": "markdown",
   "metadata": {},
   "source": [
    "Случайный лес: / Random forest:"
   ]
  },
  {
   "cell_type": "code",
   "execution_count": 8,
   "metadata": {},
   "outputs": [
    {
     "name": "stdout",
     "output_type": "stream",
     "text": [
      "Accuracy наилучшей модели на валидационной выборке: 0.8087091757387247\n"
     ]
    }
   ],
   "source": [
    "best_model_forest = None\n",
    "best_result = 0\n",
    "\n",
    "for est in range(1, 11):\n",
    "    for depth in range (1, 11):\n",
    "        model_forest = RandomForestClassifier(random_state=12345, n_estimators=est, max_depth=depth)\n",
    "        model_forest.fit(features_train, target_train) \n",
    "        result = model_forest.score(features_valid, target_valid) \n",
    "        if result > best_result:\n",
    "            best_model_forest = model_forest\n",
    "            best_result = result \n",
    "\n",
    "print(\"Accuracy наилучшей модели на валидационной выборке:\", best_result)"
   ]
  },
  {
   "cell_type": "markdown",
   "metadata": {},
   "source": [
    "Логистическая регрессия: / Logistic Regression:"
   ]
  },
  {
   "cell_type": "code",
   "execution_count": 9,
   "metadata": {},
   "outputs": [
    {
     "name": "stdout",
     "output_type": "stream",
     "text": [
      "Accuracy наилучшей модели на валидационной выборке: 0.7122861586314152\n"
     ]
    }
   ],
   "source": [
    "model_regression = LogisticRegression(random_state=12345, solver='lbfgs', max_iter=1000) \n",
    "model_regression.fit(features_train, target_train)\n",
    "result = model_regression.score(features_valid, target_valid) \n",
    "dump(model_regression, 'model_9_1.joblib')\n",
    "print(\"Accuracy наилучшей модели на валидационной выборке:\", result)"
   ]
  },
  {
   "cell_type": "markdown",
   "metadata": {},
   "source": [
    "Самое высокое значение accuracy получили с помощью модели случайный лес: 0.80248833592535.\n",
    "\n",
    "Самое низкое значение accuracy получили с помощью модели логистическая регрессия: 0.7107309486780715.\n",
    "\n",
    "Значение accuracy модели дерево решений: 0.7853810264385692.\n",
    "\n",
    "The highest accuracy value was obtained using the random forest model: 0.80248833592535.\n",
    "\n",
    "The lowest accuracy value was obtained using the logistic regression model: 0.7107309486780715.\n",
    "\n",
    "The accuracy value of the decision tree model is: 0.7853810264385692."
   ]
  },
  {
   "cell_type": "markdown",
   "metadata": {},
   "source": [
    "## Проверка модели на тестовой выборке / Verifying the model on a test sample"
   ]
  },
  {
   "cell_type": "markdown",
   "metadata": {},
   "source": [
    "Дерево решений: / Decision tree:"
   ]
  },
  {
   "cell_type": "code",
   "execution_count": 10,
   "metadata": {},
   "outputs": [
    {
     "name": "stdout",
     "output_type": "stream",
     "text": [
      "Тестовая выборка: 0.7900466562986003\n"
     ]
    }
   ],
   "source": [
    "test_predictions = model_decision_tree.predict(features_test)\n",
    "print(\"Тестовая выборка:\", accuracy_score(target_test, test_predictions))"
   ]
  },
  {
   "cell_type": "markdown",
   "metadata": {},
   "source": [
    "Случайный лес: / Random forest:"
   ]
  },
  {
   "cell_type": "code",
   "execution_count": 11,
   "metadata": {},
   "outputs": [
    {
     "name": "stdout",
     "output_type": "stream",
     "text": [
      "Тестовая выборка: 0.8055987558320373\n"
     ]
    }
   ],
   "source": [
    "test_predictions = best_model_forest.predict(features_test)\n",
    "print(\"Тестовая выборка:\", accuracy_score(target_test, test_predictions))"
   ]
  },
  {
   "cell_type": "markdown",
   "metadata": {},
   "source": [
    "Логистическая регрессия: / Logistic Regression:"
   ]
  },
  {
   "cell_type": "code",
   "execution_count": 12,
   "metadata": {},
   "outputs": [
    {
     "name": "stdout",
     "output_type": "stream",
     "text": [
      "Тестовая выборка: 0.6842923794712286\n"
     ]
    }
   ],
   "source": [
    "test_predictions = model_regression.predict(features_test)\n",
    "print(\"Тестовая выборка:\", accuracy_score(target_test, test_predictions))"
   ]
  },
  {
   "cell_type": "markdown",
   "metadata": {},
   "source": [
    "Самое высокое значение accuracy получили с помощью модели случайный лес: 0.7962674961119751.\n",
    "\n",
    "Самое низкое значение accuracy получили с помощью модели логистическая регрессия: 0.6842923794712286.\n",
    "\n",
    "Значение accuracy модели дерево решений: 0.7838258164852255.\n",
    "\n",
    "The highest accuracy value was obtained using the random forest model: 0.7962674961119751.\n",
    "\n",
    "The lowest accuracy value was obtained using the logistic regression model: 0.6842923794712286.\n",
    "\n",
    "The accuracy value of the decision tree model is: 0.7838258164852255."
   ]
  },
  {
   "cell_type": "markdown",
   "metadata": {},
   "source": [
    "## Проверка модели на адекватность / Checking the model for adequacy"
   ]
  },
  {
   "cell_type": "code",
   "execution_count": 13,
   "metadata": {},
   "outputs": [
    {
     "name": "stdout",
     "output_type": "stream",
     "text": [
      "Accuracy 0.6842923794712286\n"
     ]
    }
   ],
   "source": [
    "model_check = DummyClassifier(strategy = 'most_frequent', random_state = 12345)\n",
    "model_check.fit(features_train, target_train)\n",
    "print('Accuracy', model_check.score(features_test, target_test))"
   ]
  }
 ],
 "metadata": {
  "ExecuteTimeLog": [
   {
    "duration": 589,
    "start_time": "2022-12-15T20:32:41.406Z"
   },
   {
    "duration": 3,
    "start_time": "2022-12-15T20:40:27.022Z"
   },
   {
    "duration": 39,
    "start_time": "2022-12-15T20:40:28.422Z"
   },
   {
    "duration": 64,
    "start_time": "2022-12-15T20:40:32.733Z"
   },
   {
    "duration": 7,
    "start_time": "2022-12-15T20:41:00.917Z"
   },
   {
    "duration": 676,
    "start_time": "2022-12-15T20:41:05.456Z"
   },
   {
    "duration": 39,
    "start_time": "2022-12-15T20:41:06.134Z"
   },
   {
    "duration": 40,
    "start_time": "2022-12-15T20:41:08.951Z"
   },
   {
    "duration": 14,
    "start_time": "2022-12-15T20:41:16.631Z"
   },
   {
    "duration": 10,
    "start_time": "2022-12-15T20:43:39.342Z"
   },
   {
    "duration": 6,
    "start_time": "2022-12-15T20:43:51.681Z"
   },
   {
    "duration": 6,
    "start_time": "2022-12-15T20:48:23.310Z"
   },
   {
    "duration": 5,
    "start_time": "2022-12-15T20:49:18.476Z"
   },
   {
    "duration": 5,
    "start_time": "2022-12-15T20:49:55.076Z"
   },
   {
    "duration": 7,
    "start_time": "2022-12-15T20:49:57.053Z"
   },
   {
    "duration": 4,
    "start_time": "2022-12-15T20:49:58.860Z"
   },
   {
    "duration": 6,
    "start_time": "2022-12-15T20:50:13.668Z"
   },
   {
    "duration": 7,
    "start_time": "2022-12-15T20:50:15.292Z"
   },
   {
    "duration": 5,
    "start_time": "2022-12-15T20:50:16.445Z"
   },
   {
    "duration": 1047,
    "start_time": "2022-12-16T09:13:28.448Z"
   },
   {
    "duration": 143,
    "start_time": "2022-12-16T09:13:29.497Z"
   },
   {
    "duration": 6,
    "start_time": "2022-12-16T09:13:29.642Z"
   },
   {
    "duration": 12,
    "start_time": "2022-12-16T09:13:29.649Z"
   },
   {
    "duration": 9,
    "start_time": "2022-12-16T09:13:29.663Z"
   },
   {
    "duration": 108,
    "start_time": "2022-12-16T09:13:34.785Z"
   },
   {
    "duration": 9,
    "start_time": "2022-12-16T09:14:11.535Z"
   },
   {
    "duration": 41,
    "start_time": "2022-12-16T09:14:17.192Z"
   },
   {
    "duration": 39,
    "start_time": "2022-12-16T09:14:17.235Z"
   },
   {
    "duration": 5,
    "start_time": "2022-12-16T09:14:17.275Z"
   },
   {
    "duration": 39,
    "start_time": "2022-12-16T09:14:17.282Z"
   },
   {
    "duration": 35,
    "start_time": "2022-12-16T09:14:17.323Z"
   },
   {
    "duration": 236,
    "start_time": "2022-12-16T09:14:19.656Z"
   },
   {
    "duration": 3,
    "start_time": "2022-12-16T09:16:54.972Z"
   },
   {
    "duration": 56,
    "start_time": "2022-12-16T09:16:54.976Z"
   },
   {
    "duration": 6,
    "start_time": "2022-12-16T09:16:55.033Z"
   },
   {
    "duration": 8,
    "start_time": "2022-12-16T09:16:55.040Z"
   },
   {
    "duration": 24,
    "start_time": "2022-12-16T09:16:55.050Z"
   },
   {
    "duration": 265,
    "start_time": "2022-12-16T09:16:55.075Z"
   },
   {
    "duration": 14,
    "start_time": "2022-12-16T09:16:58.233Z"
   },
   {
    "duration": 3,
    "start_time": "2022-12-16T09:21:40.546Z"
   },
   {
    "duration": 56,
    "start_time": "2022-12-16T09:21:40.551Z"
   },
   {
    "duration": 6,
    "start_time": "2022-12-16T09:21:40.608Z"
   },
   {
    "duration": 14,
    "start_time": "2022-12-16T09:21:40.615Z"
   },
   {
    "duration": 12,
    "start_time": "2022-12-16T09:21:40.631Z"
   },
   {
    "duration": 9,
    "start_time": "2022-12-16T09:21:43.819Z"
   },
   {
    "duration": 33,
    "start_time": "2022-12-16T09:22:35.083Z"
   },
   {
    "duration": 4,
    "start_time": "2022-12-16T09:25:29.336Z"
   },
   {
    "duration": 50,
    "start_time": "2022-12-16T09:25:29.341Z"
   },
   {
    "duration": 6,
    "start_time": "2022-12-16T09:25:29.392Z"
   },
   {
    "duration": 9,
    "start_time": "2022-12-16T09:25:29.399Z"
   },
   {
    "duration": 13,
    "start_time": "2022-12-16T09:25:29.410Z"
   },
   {
    "duration": 34,
    "start_time": "2022-12-16T09:25:29.425Z"
   },
   {
    "duration": 247,
    "start_time": "2022-12-16T09:25:29.461Z"
   },
   {
    "duration": 2,
    "start_time": "2022-12-16T09:29:29.261Z"
   },
   {
    "duration": 49,
    "start_time": "2022-12-16T09:29:29.265Z"
   },
   {
    "duration": 5,
    "start_time": "2022-12-16T09:29:29.315Z"
   },
   {
    "duration": 13,
    "start_time": "2022-12-16T09:29:29.321Z"
   },
   {
    "duration": 12,
    "start_time": "2022-12-16T09:29:29.336Z"
   },
   {
    "duration": 9,
    "start_time": "2022-12-16T09:29:31.884Z"
   },
   {
    "duration": 30,
    "start_time": "2022-12-16T09:36:41.571Z"
   },
   {
    "duration": 40,
    "start_time": "2022-12-16T09:36:54.008Z"
   },
   {
    "duration": 263,
    "start_time": "2022-12-16T09:36:56.182Z"
   },
   {
    "duration": 32,
    "start_time": "2022-12-16T09:41:23.860Z"
   },
   {
    "duration": 236,
    "start_time": "2022-12-16T09:41:53.165Z"
   },
   {
    "duration": 42,
    "start_time": "2022-12-16T09:42:33.878Z"
   },
   {
    "duration": 74,
    "start_time": "2022-12-16T09:42:45.496Z"
   },
   {
    "duration": 50,
    "start_time": "2022-12-16T09:43:51.600Z"
   },
   {
    "duration": 28,
    "start_time": "2022-12-16T09:44:06.274Z"
   },
   {
    "duration": 234,
    "start_time": "2022-12-16T09:44:08.830Z"
   },
   {
    "duration": 10,
    "start_time": "2022-12-16T09:44:12.594Z"
   },
   {
    "duration": 100,
    "start_time": "2022-12-16T09:50:09.407Z"
   },
   {
    "duration": 9,
    "start_time": "2022-12-16T10:02:29.201Z"
   },
   {
    "duration": 11,
    "start_time": "2022-12-16T10:02:56.371Z"
   },
   {
    "duration": 11,
    "start_time": "2022-12-16T10:03:15.580Z"
   },
   {
    "duration": 9,
    "start_time": "2022-12-16T10:04:18.728Z"
   },
   {
    "duration": 9,
    "start_time": "2022-12-16T10:04:53.943Z"
   },
   {
    "duration": 3,
    "start_time": "2022-12-16T10:05:08.687Z"
   },
   {
    "duration": 40,
    "start_time": "2022-12-16T10:05:08.693Z"
   },
   {
    "duration": 6,
    "start_time": "2022-12-16T10:05:08.735Z"
   },
   {
    "duration": 7,
    "start_time": "2022-12-16T10:05:08.743Z"
   },
   {
    "duration": 8,
    "start_time": "2022-12-16T10:05:08.752Z"
   },
   {
    "duration": 31,
    "start_time": "2022-12-16T10:05:08.761Z"
   },
   {
    "duration": 256,
    "start_time": "2022-12-16T10:05:08.793Z"
   },
   {
    "duration": 67,
    "start_time": "2022-12-16T10:05:09.051Z"
   },
   {
    "duration": 765,
    "start_time": "2022-12-16T10:05:11.711Z"
   },
   {
    "duration": 832,
    "start_time": "2022-12-16T10:05:49.210Z"
   },
   {
    "duration": 3,
    "start_time": "2022-12-16T10:07:24.583Z"
   },
   {
    "duration": 53,
    "start_time": "2022-12-16T10:07:24.587Z"
   },
   {
    "duration": 6,
    "start_time": "2022-12-16T10:07:24.641Z"
   },
   {
    "duration": 3,
    "start_time": "2022-12-16T10:07:32.279Z"
   },
   {
    "duration": 48,
    "start_time": "2022-12-16T10:07:32.284Z"
   },
   {
    "duration": 5,
    "start_time": "2022-12-16T10:07:32.334Z"
   },
   {
    "duration": 20,
    "start_time": "2022-12-16T10:07:32.340Z"
   },
   {
    "duration": 21,
    "start_time": "2022-12-16T10:07:32.361Z"
   },
   {
    "duration": 3,
    "start_time": "2022-12-16T10:07:38.362Z"
   },
   {
    "duration": 43,
    "start_time": "2022-12-16T10:07:38.366Z"
   },
   {
    "duration": 5,
    "start_time": "2022-12-16T10:07:38.411Z"
   },
   {
    "duration": 21,
    "start_time": "2022-12-16T10:07:38.417Z"
   },
   {
    "duration": 8,
    "start_time": "2022-12-16T10:07:38.440Z"
   },
   {
    "duration": 35,
    "start_time": "2022-12-16T10:07:38.449Z"
   },
   {
    "duration": 232,
    "start_time": "2022-12-16T10:07:41.544Z"
   },
   {
    "duration": 78,
    "start_time": "2022-12-16T10:07:45.959Z"
   },
   {
    "duration": 77,
    "start_time": "2022-12-16T10:09:15.472Z"
   },
   {
    "duration": 729,
    "start_time": "2022-12-16T10:09:17.667Z"
   },
   {
    "duration": 30,
    "start_time": "2022-12-16T10:39:18.898Z"
   },
   {
    "duration": 249,
    "start_time": "2022-12-16T10:39:49.813Z"
   },
   {
    "duration": 70,
    "start_time": "2022-12-16T10:40:10.909Z"
   },
   {
    "duration": 10,
    "start_time": "2022-12-16T10:42:22.244Z"
   },
   {
    "duration": 13,
    "start_time": "2022-12-16T10:42:40.477Z"
   },
   {
    "duration": 766,
    "start_time": "2022-12-16T10:42:50.027Z"
   },
   {
    "duration": 3,
    "start_time": "2022-12-16T10:43:37.517Z"
   },
   {
    "duration": 44,
    "start_time": "2022-12-16T10:43:37.521Z"
   },
   {
    "duration": 6,
    "start_time": "2022-12-16T10:43:37.566Z"
   },
   {
    "duration": 7,
    "start_time": "2022-12-16T10:43:37.574Z"
   },
   {
    "duration": 8,
    "start_time": "2022-12-16T10:43:37.583Z"
   },
   {
    "duration": 34,
    "start_time": "2022-12-16T10:43:37.593Z"
   },
   {
    "duration": 242,
    "start_time": "2022-12-16T10:43:37.629Z"
   },
   {
    "duration": 63,
    "start_time": "2022-12-16T10:43:37.873Z"
   },
   {
    "duration": 858,
    "start_time": "2022-12-16T10:43:40.544Z"
   },
   {
    "duration": 5,
    "start_time": "2022-12-16T10:45:26.293Z"
   },
   {
    "duration": 4,
    "start_time": "2022-12-16T10:45:27.280Z"
   },
   {
    "duration": 41,
    "start_time": "2022-12-16T10:45:28.730Z"
   },
   {
    "duration": 235,
    "start_time": "2022-12-16T10:45:30.976Z"
   },
   {
    "duration": 186,
    "start_time": "2022-12-16T10:45:32.930Z"
   },
   {
    "duration": 996,
    "start_time": "2022-12-16T10:45:37.249Z"
   },
   {
    "duration": 10,
    "start_time": "2022-12-16T10:51:03.173Z"
   },
   {
    "duration": 3,
    "start_time": "2022-12-16T10:51:08.442Z"
   },
   {
    "duration": 40,
    "start_time": "2022-12-16T10:51:08.447Z"
   },
   {
    "duration": 6,
    "start_time": "2022-12-16T10:51:08.489Z"
   },
   {
    "duration": 6,
    "start_time": "2022-12-16T10:51:08.496Z"
   },
   {
    "duration": 12,
    "start_time": "2022-12-16T10:51:08.504Z"
   },
   {
    "duration": 34,
    "start_time": "2022-12-16T10:51:08.517Z"
   },
   {
    "duration": 239,
    "start_time": "2022-12-16T10:51:08.553Z"
   },
   {
    "duration": 125,
    "start_time": "2022-12-16T10:51:08.794Z"
   },
   {
    "duration": 796,
    "start_time": "2022-12-16T10:51:10.522Z"
   },
   {
    "duration": 5,
    "start_time": "2022-12-16T10:51:34.038Z"
   },
   {
    "duration": 4,
    "start_time": "2022-12-16T10:51:35.025Z"
   },
   {
    "duration": 29,
    "start_time": "2022-12-16T10:51:36.875Z"
   },
   {
    "duration": 257,
    "start_time": "2022-12-16T10:51:40.675Z"
   },
   {
    "duration": 27,
    "start_time": "2022-12-16T11:05:40.227Z"
   },
   {
    "duration": 242,
    "start_time": "2022-12-16T11:07:15.426Z"
   },
   {
    "duration": 79,
    "start_time": "2022-12-16T11:07:40.057Z"
   },
   {
    "duration": 89,
    "start_time": "2022-12-16T11:08:30.541Z"
   },
   {
    "duration": 82,
    "start_time": "2022-12-16T11:08:47.423Z"
   },
   {
    "duration": 706,
    "start_time": "2022-12-16T11:08:53.473Z"
   },
   {
    "duration": 6,
    "start_time": "2022-12-16T11:11:24.420Z"
   },
   {
    "duration": 8,
    "start_time": "2022-12-16T11:13:01.403Z"
   },
   {
    "duration": 6,
    "start_time": "2022-12-16T11:13:37.670Z"
   },
   {
    "duration": 9,
    "start_time": "2022-12-16T11:13:41.452Z"
   },
   {
    "duration": 5,
    "start_time": "2022-12-16T11:13:44.063Z"
   },
   {
    "duration": 3,
    "start_time": "2022-12-16T11:14:11.776Z"
   },
   {
    "duration": 49,
    "start_time": "2022-12-16T11:14:11.781Z"
   },
   {
    "duration": 5,
    "start_time": "2022-12-16T11:14:11.831Z"
   },
   {
    "duration": 8,
    "start_time": "2022-12-16T11:14:11.837Z"
   },
   {
    "duration": 7,
    "start_time": "2022-12-16T11:14:11.847Z"
   },
   {
    "duration": 30,
    "start_time": "2022-12-16T11:14:11.856Z"
   },
   {
    "duration": 247,
    "start_time": "2022-12-16T11:14:11.887Z"
   },
   {
    "duration": 59,
    "start_time": "2022-12-16T11:14:12.135Z"
   },
   {
    "duration": 5,
    "start_time": "2022-12-16T11:14:12.195Z"
   },
   {
    "duration": 16,
    "start_time": "2022-12-16T11:14:12.202Z"
   },
   {
    "duration": 1083,
    "start_time": "2022-12-16T11:17:15.908Z"
   },
   {
    "duration": 45,
    "start_time": "2022-12-16T11:17:16.993Z"
   },
   {
    "duration": 5,
    "start_time": "2022-12-16T11:17:17.039Z"
   },
   {
    "duration": 19,
    "start_time": "2022-12-16T11:17:17.046Z"
   },
   {
    "duration": 34,
    "start_time": "2022-12-16T11:17:17.067Z"
   },
   {
    "duration": 135,
    "start_time": "2022-12-16T11:17:17.102Z"
   },
   {
    "duration": 0,
    "start_time": "2022-12-16T11:17:17.238Z"
   },
   {
    "duration": 0,
    "start_time": "2022-12-16T11:17:17.240Z"
   },
   {
    "duration": 0,
    "start_time": "2022-12-16T11:17:17.241Z"
   },
   {
    "duration": 0,
    "start_time": "2022-12-16T11:17:17.242Z"
   },
   {
    "duration": 0,
    "start_time": "2022-12-16T11:17:17.243Z"
   },
   {
    "duration": 1095,
    "start_time": "2022-12-16T11:18:11.917Z"
   },
   {
    "duration": 44,
    "start_time": "2022-12-16T11:18:13.014Z"
   },
   {
    "duration": 6,
    "start_time": "2022-12-16T11:18:13.059Z"
   },
   {
    "duration": 9,
    "start_time": "2022-12-16T11:18:13.067Z"
   },
   {
    "duration": 21,
    "start_time": "2022-12-16T11:18:13.080Z"
   },
   {
    "duration": 30,
    "start_time": "2022-12-16T11:18:13.103Z"
   },
   {
    "duration": 238,
    "start_time": "2022-12-16T11:18:13.134Z"
   },
   {
    "duration": 116,
    "start_time": "2022-12-16T11:18:13.374Z"
   },
   {
    "duration": 0,
    "start_time": "2022-12-16T11:18:13.491Z"
   },
   {
    "duration": 0,
    "start_time": "2022-12-16T11:18:13.492Z"
   },
   {
    "duration": 0,
    "start_time": "2022-12-16T11:18:13.494Z"
   },
   {
    "duration": 1153,
    "start_time": "2022-12-16T11:18:39.170Z"
   },
   {
    "duration": 44,
    "start_time": "2022-12-16T11:18:40.325Z"
   },
   {
    "duration": 7,
    "start_time": "2022-12-16T11:18:40.372Z"
   },
   {
    "duration": 29,
    "start_time": "2022-12-16T11:18:40.381Z"
   },
   {
    "duration": 13,
    "start_time": "2022-12-16T11:18:40.413Z"
   },
   {
    "duration": 37,
    "start_time": "2022-12-16T11:18:40.428Z"
   },
   {
    "duration": 332,
    "start_time": "2022-12-16T11:18:40.472Z"
   },
   {
    "duration": 71,
    "start_time": "2022-12-16T11:18:40.806Z"
   },
   {
    "duration": 8,
    "start_time": "2022-12-16T11:18:40.880Z"
   },
   {
    "duration": 14,
    "start_time": "2022-12-16T11:18:40.889Z"
   },
   {
    "duration": 13,
    "start_time": "2022-12-16T11:18:40.904Z"
   },
   {
    "duration": 1078,
    "start_time": "2022-12-16T11:19:32.201Z"
   },
   {
    "duration": 45,
    "start_time": "2022-12-16T11:19:33.281Z"
   },
   {
    "duration": 4,
    "start_time": "2022-12-16T11:19:33.328Z"
   },
   {
    "duration": 10,
    "start_time": "2022-12-16T11:19:33.334Z"
   },
   {
    "duration": 21,
    "start_time": "2022-12-16T11:19:33.346Z"
   },
   {
    "duration": 30,
    "start_time": "2022-12-16T11:19:33.368Z"
   },
   {
    "duration": 250,
    "start_time": "2022-12-16T11:19:33.400Z"
   },
   {
    "duration": 67,
    "start_time": "2022-12-16T11:19:33.652Z"
   },
   {
    "duration": 6,
    "start_time": "2022-12-16T11:19:33.721Z"
   },
   {
    "duration": 24,
    "start_time": "2022-12-16T11:19:33.729Z"
   },
   {
    "duration": 10,
    "start_time": "2022-12-16T11:19:33.755Z"
   },
   {
    "duration": 141,
    "start_time": "2022-12-16T11:34:36.005Z"
   },
   {
    "duration": 1808,
    "start_time": "2022-12-16T11:37:48.071Z"
   },
   {
    "duration": 1543,
    "start_time": "2022-12-16T11:38:08.819Z"
   },
   {
    "duration": 1055,
    "start_time": "2022-12-16T11:41:48.432Z"
   },
   {
    "duration": 44,
    "start_time": "2022-12-16T11:41:49.489Z"
   },
   {
    "duration": 6,
    "start_time": "2022-12-16T11:41:49.535Z"
   },
   {
    "duration": 28,
    "start_time": "2022-12-16T11:41:49.542Z"
   },
   {
    "duration": 13,
    "start_time": "2022-12-16T11:41:49.573Z"
   },
   {
    "duration": 31,
    "start_time": "2022-12-16T11:41:49.588Z"
   },
   {
    "duration": 1569,
    "start_time": "2022-12-16T11:41:49.620Z"
   },
   {
    "duration": 66,
    "start_time": "2022-12-16T11:41:51.190Z"
   },
   {
    "duration": 5,
    "start_time": "2022-12-16T11:41:51.258Z"
   },
   {
    "duration": 14,
    "start_time": "2022-12-16T11:41:51.265Z"
   },
   {
    "duration": 15,
    "start_time": "2022-12-16T11:41:51.280Z"
   },
   {
    "duration": 1070,
    "start_time": "2022-12-16T12:01:45.312Z"
   },
   {
    "duration": 47,
    "start_time": "2022-12-16T12:01:46.384Z"
   },
   {
    "duration": 6,
    "start_time": "2022-12-16T12:01:46.432Z"
   },
   {
    "duration": 7,
    "start_time": "2022-12-16T12:01:46.439Z"
   },
   {
    "duration": 6,
    "start_time": "2022-12-16T12:01:46.448Z"
   },
   {
    "duration": 30,
    "start_time": "2022-12-16T12:01:46.455Z"
   },
   {
    "duration": 1601,
    "start_time": "2022-12-16T12:01:46.486Z"
   },
   {
    "duration": 62,
    "start_time": "2022-12-16T12:01:48.088Z"
   },
   {
    "duration": 5,
    "start_time": "2022-12-16T12:01:48.152Z"
   },
   {
    "duration": 8,
    "start_time": "2022-12-16T12:01:48.159Z"
   },
   {
    "duration": 10,
    "start_time": "2022-12-16T12:01:48.168Z"
   },
   {
    "duration": 1635,
    "start_time": "2022-12-16T12:23:14.602Z"
   },
   {
    "duration": 90,
    "start_time": "2022-12-16T12:23:16.239Z"
   },
   {
    "duration": 6,
    "start_time": "2022-12-16T12:23:16.331Z"
   },
   {
    "duration": 6,
    "start_time": "2022-12-16T12:23:16.339Z"
   },
   {
    "duration": 11,
    "start_time": "2022-12-16T12:23:16.347Z"
   },
   {
    "duration": 36,
    "start_time": "2022-12-16T12:23:16.359Z"
   },
   {
    "duration": 1633,
    "start_time": "2022-12-16T12:23:16.397Z"
   },
   {
    "duration": 74,
    "start_time": "2022-12-16T12:23:18.031Z"
   },
   {
    "duration": 6,
    "start_time": "2022-12-16T12:23:18.107Z"
   },
   {
    "duration": 17,
    "start_time": "2022-12-16T12:23:18.115Z"
   },
   {
    "duration": 12,
    "start_time": "2022-12-16T12:23:18.133Z"
   },
   {
    "duration": 15,
    "start_time": "2022-12-16T12:26:36.531Z"
   },
   {
    "duration": 13,
    "start_time": "2022-12-16T12:26:42.638Z"
   },
   {
    "duration": 13,
    "start_time": "2022-12-16T12:26:48.798Z"
   },
   {
    "duration": 1101,
    "start_time": "2022-12-16T13:52:59.934Z"
   },
   {
    "duration": 134,
    "start_time": "2022-12-16T13:53:02.045Z"
   },
   {
    "duration": 11,
    "start_time": "2022-12-16T13:53:27.157Z"
   },
   {
    "duration": 1098,
    "start_time": "2022-12-16T13:59:01.505Z"
   },
   {
    "duration": 39,
    "start_time": "2022-12-16T13:59:02.605Z"
   },
   {
    "duration": 10,
    "start_time": "2022-12-16T13:59:02.646Z"
   },
   {
    "duration": 52,
    "start_time": "2022-12-16T13:59:02.657Z"
   },
   {
    "duration": 0,
    "start_time": "2022-12-16T13:59:02.711Z"
   },
   {
    "duration": 0,
    "start_time": "2022-12-16T13:59:02.712Z"
   },
   {
    "duration": 0,
    "start_time": "2022-12-16T13:59:02.713Z"
   },
   {
    "duration": 0,
    "start_time": "2022-12-16T13:59:02.715Z"
   },
   {
    "duration": 0,
    "start_time": "2022-12-16T13:59:02.716Z"
   },
   {
    "duration": 0,
    "start_time": "2022-12-16T13:59:02.718Z"
   },
   {
    "duration": 0,
    "start_time": "2022-12-16T13:59:02.719Z"
   },
   {
    "duration": 0,
    "start_time": "2022-12-16T13:59:02.720Z"
   },
   {
    "duration": 0,
    "start_time": "2022-12-16T13:59:02.722Z"
   },
   {
    "duration": 1050,
    "start_time": "2022-12-16T13:59:23.414Z"
   },
   {
    "duration": 41,
    "start_time": "2022-12-16T13:59:24.466Z"
   },
   {
    "duration": 10,
    "start_time": "2022-12-16T13:59:24.509Z"
   },
   {
    "duration": 29,
    "start_time": "2022-12-16T13:59:24.520Z"
   },
   {
    "duration": 44,
    "start_time": "2022-12-16T13:59:24.550Z"
   },
   {
    "duration": 31,
    "start_time": "2022-12-16T13:59:24.596Z"
   },
   {
    "duration": 73,
    "start_time": "2022-12-16T13:59:24.629Z"
   },
   {
    "duration": 1628,
    "start_time": "2022-12-16T13:59:24.703Z"
   },
   {
    "duration": 103,
    "start_time": "2022-12-16T13:59:26.333Z"
   },
   {
    "duration": 6,
    "start_time": "2022-12-16T13:59:26.438Z"
   },
   {
    "duration": 40,
    "start_time": "2022-12-16T13:59:26.445Z"
   },
   {
    "duration": 11,
    "start_time": "2022-12-16T13:59:26.487Z"
   },
   {
    "duration": 1048,
    "start_time": "2022-12-16T14:01:35.514Z"
   },
   {
    "duration": 40,
    "start_time": "2022-12-16T14:01:36.564Z"
   },
   {
    "duration": 10,
    "start_time": "2022-12-16T14:01:36.606Z"
   },
   {
    "duration": 9,
    "start_time": "2022-12-16T14:01:36.618Z"
   },
   {
    "duration": 10,
    "start_time": "2022-12-16T14:01:36.628Z"
   },
   {
    "duration": 5,
    "start_time": "2022-12-16T14:01:36.640Z"
   },
   {
    "duration": 29,
    "start_time": "2022-12-16T14:01:36.647Z"
   },
   {
    "duration": 1576,
    "start_time": "2022-12-16T14:01:36.678Z"
   },
   {
    "duration": 65,
    "start_time": "2022-12-16T14:01:38.256Z"
   },
   {
    "duration": 5,
    "start_time": "2022-12-16T14:01:38.323Z"
   },
   {
    "duration": 17,
    "start_time": "2022-12-16T14:01:38.330Z"
   },
   {
    "duration": 7,
    "start_time": "2022-12-16T14:01:38.349Z"
   },
   {
    "duration": 105,
    "start_time": "2022-12-16T14:04:26.234Z"
   },
   {
    "duration": 10,
    "start_time": "2022-12-16T14:04:54.391Z"
   },
   {
    "duration": 0,
    "start_time": "2022-12-16T14:04:54.403Z"
   },
   {
    "duration": 0,
    "start_time": "2022-12-16T14:04:54.404Z"
   },
   {
    "duration": 0,
    "start_time": "2022-12-16T14:04:54.405Z"
   },
   {
    "duration": 0,
    "start_time": "2022-12-16T14:04:54.406Z"
   },
   {
    "duration": 0,
    "start_time": "2022-12-16T14:04:54.407Z"
   },
   {
    "duration": 0,
    "start_time": "2022-12-16T14:04:54.408Z"
   },
   {
    "duration": 0,
    "start_time": "2022-12-16T14:04:54.409Z"
   },
   {
    "duration": 0,
    "start_time": "2022-12-16T14:04:54.410Z"
   },
   {
    "duration": 0,
    "start_time": "2022-12-16T14:04:54.411Z"
   },
   {
    "duration": 0,
    "start_time": "2022-12-16T14:04:54.412Z"
   },
   {
    "duration": 0,
    "start_time": "2022-12-16T14:04:54.414Z"
   },
   {
    "duration": 0,
    "start_time": "2022-12-16T14:04:54.415Z"
   },
   {
    "duration": 10,
    "start_time": "2022-12-16T14:05:00.280Z"
   },
   {
    "duration": 12,
    "start_time": "2022-12-16T14:05:05.293Z"
   },
   {
    "duration": 1,
    "start_time": "2022-12-16T14:05:05.306Z"
   },
   {
    "duration": 0,
    "start_time": "2022-12-16T14:05:05.308Z"
   },
   {
    "duration": 0,
    "start_time": "2022-12-16T14:05:05.310Z"
   },
   {
    "duration": 0,
    "start_time": "2022-12-16T14:05:05.311Z"
   },
   {
    "duration": 0,
    "start_time": "2022-12-16T14:05:05.313Z"
   },
   {
    "duration": 0,
    "start_time": "2022-12-16T14:05:05.314Z"
   },
   {
    "duration": 0,
    "start_time": "2022-12-16T14:05:05.315Z"
   },
   {
    "duration": 0,
    "start_time": "2022-12-16T14:05:05.316Z"
   },
   {
    "duration": 0,
    "start_time": "2022-12-16T14:05:05.318Z"
   },
   {
    "duration": 0,
    "start_time": "2022-12-16T14:05:05.319Z"
   },
   {
    "duration": 0,
    "start_time": "2022-12-16T14:05:05.320Z"
   },
   {
    "duration": 8,
    "start_time": "2022-12-16T14:05:07.663Z"
   },
   {
    "duration": 3,
    "start_time": "2022-12-16T14:06:02.442Z"
   },
   {
    "duration": 1057,
    "start_time": "2022-12-16T14:06:11.479Z"
   },
   {
    "duration": 44,
    "start_time": "2022-12-16T14:06:12.538Z"
   },
   {
    "duration": 12,
    "start_time": "2022-12-16T14:06:12.584Z"
   },
   {
    "duration": 8,
    "start_time": "2022-12-16T14:06:12.598Z"
   },
   {
    "duration": 12,
    "start_time": "2022-12-16T14:06:12.607Z"
   },
   {
    "duration": 10,
    "start_time": "2022-12-16T14:06:12.620Z"
   },
   {
    "duration": 31,
    "start_time": "2022-12-16T14:06:12.632Z"
   },
   {
    "duration": 1574,
    "start_time": "2022-12-16T14:06:12.664Z"
   },
   {
    "duration": 69,
    "start_time": "2022-12-16T14:06:14.239Z"
   },
   {
    "duration": 5,
    "start_time": "2022-12-16T14:06:14.310Z"
   },
   {
    "duration": 9,
    "start_time": "2022-12-16T14:06:14.317Z"
   },
   {
    "duration": 5,
    "start_time": "2022-12-16T14:06:14.327Z"
   },
   {
    "duration": 10,
    "start_time": "2022-12-16T14:06:14.334Z"
   },
   {
    "duration": 1021,
    "start_time": "2022-12-16T14:07:26.746Z"
   },
   {
    "duration": 40,
    "start_time": "2022-12-16T14:07:27.769Z"
   },
   {
    "duration": 10,
    "start_time": "2022-12-16T14:07:27.811Z"
   },
   {
    "duration": 7,
    "start_time": "2022-12-16T14:07:27.823Z"
   },
   {
    "duration": 9,
    "start_time": "2022-12-16T14:07:27.833Z"
   },
   {
    "duration": 6,
    "start_time": "2022-12-16T14:07:27.843Z"
   },
   {
    "duration": 28,
    "start_time": "2022-12-16T14:07:27.851Z"
   },
   {
    "duration": 1596,
    "start_time": "2022-12-16T14:07:27.880Z"
   },
   {
    "duration": 64,
    "start_time": "2022-12-16T14:07:29.477Z"
   },
   {
    "duration": 6,
    "start_time": "2022-12-16T14:07:29.543Z"
   },
   {
    "duration": 9,
    "start_time": "2022-12-16T14:07:29.550Z"
   },
   {
    "duration": 7,
    "start_time": "2022-12-16T14:07:29.560Z"
   },
   {
    "duration": 42,
    "start_time": "2022-12-16T14:07:29.569Z"
   },
   {
    "duration": 0,
    "start_time": "2022-12-16T14:07:29.612Z"
   },
   {
    "duration": 1027,
    "start_time": "2022-12-16T14:07:49.368Z"
   },
   {
    "duration": 43,
    "start_time": "2022-12-16T14:07:50.397Z"
   },
   {
    "duration": 11,
    "start_time": "2022-12-16T14:07:50.442Z"
   },
   {
    "duration": 12,
    "start_time": "2022-12-16T14:07:50.455Z"
   },
   {
    "duration": 16,
    "start_time": "2022-12-16T14:07:50.469Z"
   },
   {
    "duration": 13,
    "start_time": "2022-12-16T14:07:50.487Z"
   },
   {
    "duration": 40,
    "start_time": "2022-12-16T14:07:50.501Z"
   },
   {
    "duration": 1569,
    "start_time": "2022-12-16T14:07:50.542Z"
   },
   {
    "duration": 85,
    "start_time": "2022-12-16T14:07:52.113Z"
   },
   {
    "duration": 7,
    "start_time": "2022-12-16T14:07:52.200Z"
   },
   {
    "duration": 8,
    "start_time": "2022-12-16T14:07:52.209Z"
   },
   {
    "duration": 9,
    "start_time": "2022-12-16T14:07:52.219Z"
   },
   {
    "duration": 9,
    "start_time": "2022-12-16T14:07:52.229Z"
   }
  ],
  "kernelspec": {
   "display_name": "Python 3 (ipykernel)",
   "language": "python",
   "name": "python3"
  },
  "language_info": {
   "codemirror_mode": {
    "name": "ipython",
    "version": 3
   },
   "file_extension": ".py",
   "mimetype": "text/x-python",
   "name": "python",
   "nbconvert_exporter": "python",
   "pygments_lexer": "ipython3",
   "version": "3.9.13"
  },
  "toc": {
   "base_numbering": 1,
   "nav_menu": {},
   "number_sections": true,
   "sideBar": true,
   "skip_h1_title": true,
   "title_cell": "Table of Contents",
   "title_sidebar": "Contents",
   "toc_cell": false,
   "toc_position": {},
   "toc_section_display": true,
   "toc_window_display": false
  }
 },
 "nbformat": 4,
 "nbformat_minor": 2
}
