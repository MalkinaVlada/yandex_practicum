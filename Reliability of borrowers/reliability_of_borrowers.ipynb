{
 "cells": [
  {
   "cell_type": "markdown",
   "id": "cdc424e7",
   "metadata": {},
   "source": [
    "# Исследование надежности заемщиков / Borrower reliability research"
   ]
  },
  {
   "cell_type": "markdown",
   "id": "cd32ec6f",
   "metadata": {},
   "source": [
    "The customer is the credit department of the bank.\n",
    "\n",
    "Task: to understand whether the client’s marital status and number of children influence the fact of repaying the loan on time.\n",
    "\n",
    "Input data from the bank - statistics on the solvency of clients.\n",
    "\n",
    "The research results will be taken into account when constructing a credit scoring model.\n",
    "\n",
    "Data description:\n",
    "\n",
    "- children — number of children in the family\n",
    "- days_employed — total length of service in days\n",
    "- dob_years — client age in years\n",
    "- education — client’s education level\n",
    "- education_id — education level identifier\n",
    "- family_status - marital status\n",
    "- family_status_id — marital status identifier\n",
    "- gender — client’s gender\n",
    "- income_type — employment type\n",
    "- debt — whether there was a debt to repay loans\n",
    "- total_income — monthly income\n",
    "- purpose — purpose of obtaining a loan"
   ]
  },
  {
   "cell_type": "code",
   "execution_count": 1,
   "id": "842193aa",
   "metadata": {},
   "outputs": [],
   "source": [
    "import pandas as pd\n",
    "import warnings\n",
    "\n",
    "warnings.filterwarnings('ignore')\n",
    "\n",
    "try:\n",
    "    data = pd.read_csv('/Users/vladamalkina/Desktop/ЯП проекты/проект 2/data_second_project.csv')\n",
    "except:\n",
    "    data = pd.read_csv('https://code.s3.yandex.net/datasets/data.csv')"
   ]
  },
  {
   "cell_type": "code",
   "execution_count": 2,
   "id": "f4854efa",
   "metadata": {},
   "outputs": [
    {
     "data": {
      "text/html": [
       "<div>\n",
       "<style scoped>\n",
       "    .dataframe tbody tr th:only-of-type {\n",
       "        vertical-align: middle;\n",
       "    }\n",
       "\n",
       "    .dataframe tbody tr th {\n",
       "        vertical-align: top;\n",
       "    }\n",
       "\n",
       "    .dataframe thead th {\n",
       "        text-align: right;\n",
       "    }\n",
       "</style>\n",
       "<table border=\"1\" class=\"dataframe\">\n",
       "  <thead>\n",
       "    <tr style=\"text-align: right;\">\n",
       "      <th></th>\n",
       "      <th>Unnamed: 0</th>\n",
       "      <th>children</th>\n",
       "      <th>days_employed</th>\n",
       "      <th>dob_years</th>\n",
       "      <th>education</th>\n",
       "      <th>education_id</th>\n",
       "      <th>family_status</th>\n",
       "      <th>family_status_id</th>\n",
       "      <th>gender</th>\n",
       "      <th>income_type</th>\n",
       "      <th>debt</th>\n",
       "      <th>total_income</th>\n",
       "      <th>purpose</th>\n",
       "    </tr>\n",
       "  </thead>\n",
       "  <tbody>\n",
       "    <tr>\n",
       "      <th>0</th>\n",
       "      <td>0</td>\n",
       "      <td>1</td>\n",
       "      <td>-8437.673028</td>\n",
       "      <td>42</td>\n",
       "      <td>высшее</td>\n",
       "      <td>0</td>\n",
       "      <td>женат / замужем</td>\n",
       "      <td>0</td>\n",
       "      <td>F</td>\n",
       "      <td>сотрудник</td>\n",
       "      <td>0</td>\n",
       "      <td>253875.639453</td>\n",
       "      <td>покупка жилья</td>\n",
       "    </tr>\n",
       "    <tr>\n",
       "      <th>1</th>\n",
       "      <td>1</td>\n",
       "      <td>1</td>\n",
       "      <td>-4024.803754</td>\n",
       "      <td>36</td>\n",
       "      <td>среднее</td>\n",
       "      <td>1</td>\n",
       "      <td>женат / замужем</td>\n",
       "      <td>0</td>\n",
       "      <td>F</td>\n",
       "      <td>сотрудник</td>\n",
       "      <td>0</td>\n",
       "      <td>112080.014102</td>\n",
       "      <td>приобретение автомобиля</td>\n",
       "    </tr>\n",
       "    <tr>\n",
       "      <th>2</th>\n",
       "      <td>2</td>\n",
       "      <td>0</td>\n",
       "      <td>-5623.422610</td>\n",
       "      <td>33</td>\n",
       "      <td>Среднее</td>\n",
       "      <td>1</td>\n",
       "      <td>женат / замужем</td>\n",
       "      <td>0</td>\n",
       "      <td>M</td>\n",
       "      <td>сотрудник</td>\n",
       "      <td>0</td>\n",
       "      <td>145885.952297</td>\n",
       "      <td>покупка жилья</td>\n",
       "    </tr>\n",
       "    <tr>\n",
       "      <th>3</th>\n",
       "      <td>3</td>\n",
       "      <td>3</td>\n",
       "      <td>-4124.747207</td>\n",
       "      <td>32</td>\n",
       "      <td>среднее</td>\n",
       "      <td>1</td>\n",
       "      <td>женат / замужем</td>\n",
       "      <td>0</td>\n",
       "      <td>M</td>\n",
       "      <td>сотрудник</td>\n",
       "      <td>0</td>\n",
       "      <td>267628.550329</td>\n",
       "      <td>дополнительное образование</td>\n",
       "    </tr>\n",
       "    <tr>\n",
       "      <th>4</th>\n",
       "      <td>4</td>\n",
       "      <td>0</td>\n",
       "      <td>340266.072047</td>\n",
       "      <td>53</td>\n",
       "      <td>среднее</td>\n",
       "      <td>1</td>\n",
       "      <td>гражданский брак</td>\n",
       "      <td>1</td>\n",
       "      <td>F</td>\n",
       "      <td>пенсионер</td>\n",
       "      <td>0</td>\n",
       "      <td>158616.077870</td>\n",
       "      <td>сыграть свадьбу</td>\n",
       "    </tr>\n",
       "    <tr>\n",
       "      <th>5</th>\n",
       "      <td>5</td>\n",
       "      <td>0</td>\n",
       "      <td>-926.185831</td>\n",
       "      <td>27</td>\n",
       "      <td>высшее</td>\n",
       "      <td>0</td>\n",
       "      <td>гражданский брак</td>\n",
       "      <td>1</td>\n",
       "      <td>M</td>\n",
       "      <td>компаньон</td>\n",
       "      <td>0</td>\n",
       "      <td>255763.565419</td>\n",
       "      <td>покупка жилья</td>\n",
       "    </tr>\n",
       "    <tr>\n",
       "      <th>6</th>\n",
       "      <td>6</td>\n",
       "      <td>0</td>\n",
       "      <td>-2879.202052</td>\n",
       "      <td>43</td>\n",
       "      <td>высшее</td>\n",
       "      <td>0</td>\n",
       "      <td>женат / замужем</td>\n",
       "      <td>0</td>\n",
       "      <td>F</td>\n",
       "      <td>компаньон</td>\n",
       "      <td>0</td>\n",
       "      <td>240525.971920</td>\n",
       "      <td>операции с жильем</td>\n",
       "    </tr>\n",
       "    <tr>\n",
       "      <th>7</th>\n",
       "      <td>7</td>\n",
       "      <td>0</td>\n",
       "      <td>-152.779569</td>\n",
       "      <td>50</td>\n",
       "      <td>СРЕДНЕЕ</td>\n",
       "      <td>1</td>\n",
       "      <td>женат / замужем</td>\n",
       "      <td>0</td>\n",
       "      <td>M</td>\n",
       "      <td>сотрудник</td>\n",
       "      <td>0</td>\n",
       "      <td>135823.934197</td>\n",
       "      <td>образование</td>\n",
       "    </tr>\n",
       "    <tr>\n",
       "      <th>8</th>\n",
       "      <td>8</td>\n",
       "      <td>2</td>\n",
       "      <td>-6929.865299</td>\n",
       "      <td>35</td>\n",
       "      <td>ВЫСШЕЕ</td>\n",
       "      <td>0</td>\n",
       "      <td>гражданский брак</td>\n",
       "      <td>1</td>\n",
       "      <td>F</td>\n",
       "      <td>сотрудник</td>\n",
       "      <td>0</td>\n",
       "      <td>95856.832424</td>\n",
       "      <td>на проведение свадьбы</td>\n",
       "    </tr>\n",
       "    <tr>\n",
       "      <th>9</th>\n",
       "      <td>9</td>\n",
       "      <td>0</td>\n",
       "      <td>-2188.756445</td>\n",
       "      <td>41</td>\n",
       "      <td>среднее</td>\n",
       "      <td>1</td>\n",
       "      <td>женат / замужем</td>\n",
       "      <td>0</td>\n",
       "      <td>M</td>\n",
       "      <td>сотрудник</td>\n",
       "      <td>0</td>\n",
       "      <td>144425.938277</td>\n",
       "      <td>покупка жилья для семьи</td>\n",
       "    </tr>\n",
       "    <tr>\n",
       "      <th>10</th>\n",
       "      <td>10</td>\n",
       "      <td>2</td>\n",
       "      <td>-4171.483647</td>\n",
       "      <td>36</td>\n",
       "      <td>высшее</td>\n",
       "      <td>0</td>\n",
       "      <td>женат / замужем</td>\n",
       "      <td>0</td>\n",
       "      <td>M</td>\n",
       "      <td>компаньон</td>\n",
       "      <td>0</td>\n",
       "      <td>113943.491460</td>\n",
       "      <td>покупка недвижимости</td>\n",
       "    </tr>\n",
       "    <tr>\n",
       "      <th>11</th>\n",
       "      <td>11</td>\n",
       "      <td>0</td>\n",
       "      <td>-792.701887</td>\n",
       "      <td>40</td>\n",
       "      <td>среднее</td>\n",
       "      <td>1</td>\n",
       "      <td>женат / замужем</td>\n",
       "      <td>0</td>\n",
       "      <td>F</td>\n",
       "      <td>сотрудник</td>\n",
       "      <td>0</td>\n",
       "      <td>77069.234271</td>\n",
       "      <td>покупка коммерческой недвижимости</td>\n",
       "    </tr>\n",
       "    <tr>\n",
       "      <th>12</th>\n",
       "      <td>12</td>\n",
       "      <td>0</td>\n",
       "      <td>NaN</td>\n",
       "      <td>65</td>\n",
       "      <td>среднее</td>\n",
       "      <td>1</td>\n",
       "      <td>гражданский брак</td>\n",
       "      <td>1</td>\n",
       "      <td>M</td>\n",
       "      <td>пенсионер</td>\n",
       "      <td>0</td>\n",
       "      <td>NaN</td>\n",
       "      <td>сыграть свадьбу</td>\n",
       "    </tr>\n",
       "    <tr>\n",
       "      <th>13</th>\n",
       "      <td>13</td>\n",
       "      <td>0</td>\n",
       "      <td>-1846.641941</td>\n",
       "      <td>54</td>\n",
       "      <td>неоконченное высшее</td>\n",
       "      <td>2</td>\n",
       "      <td>женат / замужем</td>\n",
       "      <td>0</td>\n",
       "      <td>F</td>\n",
       "      <td>сотрудник</td>\n",
       "      <td>0</td>\n",
       "      <td>130458.228857</td>\n",
       "      <td>приобретение автомобиля</td>\n",
       "    </tr>\n",
       "    <tr>\n",
       "      <th>14</th>\n",
       "      <td>14</td>\n",
       "      <td>0</td>\n",
       "      <td>-1844.956182</td>\n",
       "      <td>56</td>\n",
       "      <td>высшее</td>\n",
       "      <td>0</td>\n",
       "      <td>гражданский брак</td>\n",
       "      <td>1</td>\n",
       "      <td>F</td>\n",
       "      <td>компаньон</td>\n",
       "      <td>1</td>\n",
       "      <td>165127.911772</td>\n",
       "      <td>покупка жилой недвижимости</td>\n",
       "    </tr>\n",
       "    <tr>\n",
       "      <th>15</th>\n",
       "      <td>15</td>\n",
       "      <td>1</td>\n",
       "      <td>-972.364419</td>\n",
       "      <td>26</td>\n",
       "      <td>среднее</td>\n",
       "      <td>1</td>\n",
       "      <td>женат / замужем</td>\n",
       "      <td>0</td>\n",
       "      <td>F</td>\n",
       "      <td>сотрудник</td>\n",
       "      <td>0</td>\n",
       "      <td>116820.904450</td>\n",
       "      <td>строительство собственной недвижимости</td>\n",
       "    </tr>\n",
       "    <tr>\n",
       "      <th>16</th>\n",
       "      <td>16</td>\n",
       "      <td>0</td>\n",
       "      <td>-1719.934226</td>\n",
       "      <td>35</td>\n",
       "      <td>среднее</td>\n",
       "      <td>1</td>\n",
       "      <td>женат / замужем</td>\n",
       "      <td>0</td>\n",
       "      <td>F</td>\n",
       "      <td>сотрудник</td>\n",
       "      <td>0</td>\n",
       "      <td>289202.704229</td>\n",
       "      <td>недвижимость</td>\n",
       "    </tr>\n",
       "    <tr>\n",
       "      <th>17</th>\n",
       "      <td>17</td>\n",
       "      <td>0</td>\n",
       "      <td>-2369.999720</td>\n",
       "      <td>33</td>\n",
       "      <td>высшее</td>\n",
       "      <td>0</td>\n",
       "      <td>гражданский брак</td>\n",
       "      <td>1</td>\n",
       "      <td>M</td>\n",
       "      <td>сотрудник</td>\n",
       "      <td>0</td>\n",
       "      <td>90410.586745</td>\n",
       "      <td>строительство недвижимости</td>\n",
       "    </tr>\n",
       "    <tr>\n",
       "      <th>18</th>\n",
       "      <td>18</td>\n",
       "      <td>0</td>\n",
       "      <td>400281.136913</td>\n",
       "      <td>53</td>\n",
       "      <td>среднее</td>\n",
       "      <td>1</td>\n",
       "      <td>вдовец / вдова</td>\n",
       "      <td>2</td>\n",
       "      <td>F</td>\n",
       "      <td>пенсионер</td>\n",
       "      <td>0</td>\n",
       "      <td>56823.777243</td>\n",
       "      <td>на покупку подержанного автомобиля</td>\n",
       "    </tr>\n",
       "    <tr>\n",
       "      <th>19</th>\n",
       "      <td>19</td>\n",
       "      <td>0</td>\n",
       "      <td>-10038.818549</td>\n",
       "      <td>48</td>\n",
       "      <td>СРЕДНЕЕ</td>\n",
       "      <td>1</td>\n",
       "      <td>в разводе</td>\n",
       "      <td>3</td>\n",
       "      <td>F</td>\n",
       "      <td>сотрудник</td>\n",
       "      <td>0</td>\n",
       "      <td>242831.107982</td>\n",
       "      <td>на покупку своего автомобиля</td>\n",
       "    </tr>\n",
       "  </tbody>\n",
       "</table>\n",
       "</div>"
      ],
      "text/plain": [
       "    Unnamed: 0  children  days_employed  dob_years            education  \\\n",
       "0            0         1   -8437.673028         42               высшее   \n",
       "1            1         1   -4024.803754         36              среднее   \n",
       "2            2         0   -5623.422610         33              Среднее   \n",
       "3            3         3   -4124.747207         32              среднее   \n",
       "4            4         0  340266.072047         53              среднее   \n",
       "5            5         0    -926.185831         27               высшее   \n",
       "6            6         0   -2879.202052         43               высшее   \n",
       "7            7         0    -152.779569         50              СРЕДНЕЕ   \n",
       "8            8         2   -6929.865299         35               ВЫСШЕЕ   \n",
       "9            9         0   -2188.756445         41              среднее   \n",
       "10          10         2   -4171.483647         36               высшее   \n",
       "11          11         0    -792.701887         40              среднее   \n",
       "12          12         0            NaN         65              среднее   \n",
       "13          13         0   -1846.641941         54  неоконченное высшее   \n",
       "14          14         0   -1844.956182         56               высшее   \n",
       "15          15         1    -972.364419         26              среднее   \n",
       "16          16         0   -1719.934226         35              среднее   \n",
       "17          17         0   -2369.999720         33               высшее   \n",
       "18          18         0  400281.136913         53              среднее   \n",
       "19          19         0  -10038.818549         48              СРЕДНЕЕ   \n",
       "\n",
       "    education_id     family_status  family_status_id gender income_type  debt  \\\n",
       "0              0   женат / замужем                 0      F   сотрудник     0   \n",
       "1              1   женат / замужем                 0      F   сотрудник     0   \n",
       "2              1   женат / замужем                 0      M   сотрудник     0   \n",
       "3              1   женат / замужем                 0      M   сотрудник     0   \n",
       "4              1  гражданский брак                 1      F   пенсионер     0   \n",
       "5              0  гражданский брак                 1      M   компаньон     0   \n",
       "6              0   женат / замужем                 0      F   компаньон     0   \n",
       "7              1   женат / замужем                 0      M   сотрудник     0   \n",
       "8              0  гражданский брак                 1      F   сотрудник     0   \n",
       "9              1   женат / замужем                 0      M   сотрудник     0   \n",
       "10             0   женат / замужем                 0      M   компаньон     0   \n",
       "11             1   женат / замужем                 0      F   сотрудник     0   \n",
       "12             1  гражданский брак                 1      M   пенсионер     0   \n",
       "13             2   женат / замужем                 0      F   сотрудник     0   \n",
       "14             0  гражданский брак                 1      F   компаньон     1   \n",
       "15             1   женат / замужем                 0      F   сотрудник     0   \n",
       "16             1   женат / замужем                 0      F   сотрудник     0   \n",
       "17             0  гражданский брак                 1      M   сотрудник     0   \n",
       "18             1    вдовец / вдова                 2      F   пенсионер     0   \n",
       "19             1         в разводе                 3      F   сотрудник     0   \n",
       "\n",
       "     total_income                                 purpose  \n",
       "0   253875.639453                           покупка жилья  \n",
       "1   112080.014102                 приобретение автомобиля  \n",
       "2   145885.952297                           покупка жилья  \n",
       "3   267628.550329              дополнительное образование  \n",
       "4   158616.077870                         сыграть свадьбу  \n",
       "5   255763.565419                           покупка жилья  \n",
       "6   240525.971920                       операции с жильем  \n",
       "7   135823.934197                             образование  \n",
       "8    95856.832424                   на проведение свадьбы  \n",
       "9   144425.938277                 покупка жилья для семьи  \n",
       "10  113943.491460                    покупка недвижимости  \n",
       "11   77069.234271       покупка коммерческой недвижимости  \n",
       "12            NaN                         сыграть свадьбу  \n",
       "13  130458.228857                 приобретение автомобиля  \n",
       "14  165127.911772              покупка жилой недвижимости  \n",
       "15  116820.904450  строительство собственной недвижимости  \n",
       "16  289202.704229                            недвижимость  \n",
       "17   90410.586745              строительство недвижимости  \n",
       "18   56823.777243      на покупку подержанного автомобиля  \n",
       "19  242831.107982            на покупку своего автомобиля  "
      ]
     },
     "execution_count": 2,
     "metadata": {},
     "output_type": "execute_result"
    }
   ],
   "source": [
    "data.head(20)"
   ]
  },
  {
   "cell_type": "code",
   "execution_count": 3,
   "id": "65b5843d",
   "metadata": {},
   "outputs": [
    {
     "name": "stdout",
     "output_type": "stream",
     "text": [
      "<class 'pandas.core.frame.DataFrame'>\n",
      "RangeIndex: 21525 entries, 0 to 21524\n",
      "Data columns (total 13 columns):\n",
      " #   Column            Non-Null Count  Dtype  \n",
      "---  ------            --------------  -----  \n",
      " 0   Unnamed: 0        21525 non-null  int64  \n",
      " 1   children          21525 non-null  int64  \n",
      " 2   days_employed     19351 non-null  float64\n",
      " 3   dob_years         21525 non-null  int64  \n",
      " 4   education         21525 non-null  object \n",
      " 5   education_id      21525 non-null  int64  \n",
      " 6   family_status     21525 non-null  object \n",
      " 7   family_status_id  21525 non-null  int64  \n",
      " 8   gender            21525 non-null  object \n",
      " 9   income_type       21525 non-null  object \n",
      " 10  debt              21525 non-null  int64  \n",
      " 11  total_income      19351 non-null  float64\n",
      " 12  purpose           21525 non-null  object \n",
      "dtypes: float64(2), int64(6), object(5)\n",
      "memory usage: 2.1+ MB\n"
     ]
    }
   ],
   "source": [
    "data.info()"
   ]
  },
  {
   "cell_type": "markdown",
   "id": "5cd231d4",
   "metadata": {},
   "source": [
    "## Предобработка данных / Data preprocessing"
   ]
  },
  {
   "cell_type": "markdown",
   "id": "036b840f",
   "metadata": {},
   "source": [
    "### Удаление пропусков / Removing gaps"
   ]
  },
  {
   "cell_type": "markdown",
   "id": "e7962d19",
   "metadata": {},
   "source": [
    "Подсчет количества пропусков: / Counting the number of passes:"
   ]
  },
  {
   "cell_type": "code",
   "execution_count": 4,
   "id": "3da616c0",
   "metadata": {},
   "outputs": [
    {
     "data": {
      "text/plain": [
       "Unnamed: 0             0\n",
       "children               0\n",
       "days_employed       2174\n",
       "dob_years              0\n",
       "education              0\n",
       "education_id           0\n",
       "family_status          0\n",
       "family_status_id       0\n",
       "gender                 0\n",
       "income_type            0\n",
       "debt                   0\n",
       "total_income        2174\n",
       "purpose                0\n",
       "dtype: int64"
      ]
     },
     "execution_count": 4,
     "metadata": {},
     "output_type": "execute_result"
    }
   ],
   "source": [
    "data.isna().sum()"
   ]
  },
  {
   "cell_type": "markdown",
   "id": "230d0d85",
   "metadata": {},
   "source": [
    "В двух столбцах есть пропущенные значения: days_employed и total_income. \n",
    "total_income зависит от income_type, заполним пропуски в этом столбце медианным значением по каждому типу из столбца income_type:\n",
    "\n",
    "Two columns have missing values: days_employed and total_income.\n",
    "total_income depends on income_type, fill in the gaps in this column with the median value for each type from the income_type column:"
   ]
  },
  {
   "cell_type": "code",
   "execution_count": 5,
   "id": "98a3f00e",
   "metadata": {},
   "outputs": [],
   "source": [
    "for t in data['income_type'].unique():\n",
    "    data.loc[(data['income_type'] == t) & (data['total_income'].isna()), 'total_income'] = \\\n",
    "    data.loc[(data['income_type'] == t), 'total_income'].median()"
   ]
  },
  {
   "cell_type": "markdown",
   "id": "86efea63",
   "metadata": {},
   "source": [
    "### Обработка аномальных значений / Handling anomalous values"
   ]
  },
  {
   "cell_type": "markdown",
   "id": "1d59eecb",
   "metadata": {},
   "source": [
    "В данных встретились аномалии - отрицательное количество дней трудового стажа в столбце days_employed. \n",
    "Обработаем значения в этом столбце: заменим все отрицательные значения положительными с помощью метода abs():\n",
    "\n",
    "There were anomalies in the data - a negative number of days of work experience in the days_employed column.\n",
    "Let's process the values ​​in this column: replace all negative values ​​with positive ones using the abs() method:"
   ]
  },
  {
   "cell_type": "code",
   "execution_count": 6,
   "id": "df456fc8",
   "metadata": {},
   "outputs": [],
   "source": [
    "data['days_employed'] = data['days_employed'].abs()"
   ]
  },
  {
   "cell_type": "markdown",
   "id": "baeaa2ad",
   "metadata": {},
   "source": [
    "Для каждого типа занятости выведем медианное значение трудового стажа days_employed в днях:\n",
    "\n",
    "For each type of employment, we display the median value of length of service days_employed in days:"
   ]
  },
  {
   "cell_type": "code",
   "execution_count": 7,
   "id": "22e28ca4",
   "metadata": {},
   "outputs": [
    {
     "data": {
      "text/plain": [
       "income_type\n",
       "безработный        366413.652744\n",
       "в декрете            3296.759962\n",
       "госслужащий          2689.368353\n",
       "компаньон            1547.382223\n",
       "пенсионер          365213.306266\n",
       "предприниматель       520.848083\n",
       "сотрудник            1574.202821\n",
       "студент               578.751554\n",
       "Name: days_employed, dtype: float64"
      ]
     },
     "execution_count": 7,
     "metadata": {},
     "output_type": "execute_result"
    }
   ],
   "source": [
    "data.groupby('income_type')['days_employed'].agg('median')"
   ]
  },
  {
   "cell_type": "markdown",
   "id": "dfb3e107",
   "metadata": {},
   "source": [
    "У двух типов (безработные и пенсионеры) получатся аномально большие значения. \n",
    "Исправить такие значения сложно, поэтому оставим их как есть. \n",
    "Этот столбец не понадобится для исследования.\n",
    "\n",
    "Two types (unemployed and pensioners) will have abnormally large values.\n",
    "It is difficult to correct such values, so we will leave them as they are.\n",
    "This column will not be needed for the study."
   ]
  },
  {
   "cell_type": "code",
   "execution_count": 8,
   "id": "1920c9d2",
   "metadata": {},
   "outputs": [
    {
     "data": {
      "text/plain": [
       "array([ 1,  0,  3,  2, -1,  4, 20,  5])"
      ]
     },
     "execution_count": 8,
     "metadata": {},
     "output_type": "execute_result"
    }
   ],
   "source": [
    "data['children'].unique()"
   ]
  },
  {
   "cell_type": "markdown",
   "id": "406f2f73",
   "metadata": {},
   "source": [
    "В столбце children есть два аномальных значения. Удалим строки, в которых встречаются такие аномальные значения из датафрейма:\n",
    "\n",
    "There are two anomalous values ​​in the children column. Let's remove lines containing such anomalous values ​​from the dataframe:"
   ]
  },
  {
   "cell_type": "code",
   "execution_count": 9,
   "id": "2c3db2c8",
   "metadata": {},
   "outputs": [],
   "source": [
    "data = data[(data['children'] != -1) & (data['children'] != 20)]"
   ]
  },
  {
   "cell_type": "markdown",
   "id": "53fb2226",
   "metadata": {},
   "source": [
    "Выведем перечень уникальных значений столбца children, чтобы убедиться, что аномалии удалены:\n",
    "\n",
    "Let's list the unique values ​​of the children column to make sure that anomalies have been removed:"
   ]
  },
  {
   "cell_type": "code",
   "execution_count": 10,
   "id": "a109f8b6",
   "metadata": {},
   "outputs": [
    {
     "data": {
      "text/plain": [
       "array([1, 0, 3, 2, 4, 5])"
      ]
     },
     "execution_count": 10,
     "metadata": {},
     "output_type": "execute_result"
    }
   ],
   "source": [
    "data['children'].unique()"
   ]
  },
  {
   "cell_type": "markdown",
   "id": "2062b476",
   "metadata": {},
   "source": [
    "Заполним пропуски в столбце days_employed медианными значениями по каждому типу занятости income_type:\n",
    "\n",
    "Let's fill in the gaps in the days_employed column with the median values ​​for each income_type employment type:"
   ]
  },
  {
   "cell_type": "code",
   "execution_count": 11,
   "id": "7f44ef95",
   "metadata": {},
   "outputs": [],
   "source": [
    "for t in data['income_type'].unique():\n",
    "    data.loc[(data['income_type'] == t) & (data['days_employed'].isna()), 'days_employed'] = \\\n",
    "    data.loc[(data['income_type'] == t), 'days_employed'].median()"
   ]
  },
  {
   "cell_type": "markdown",
   "id": "75f7bf64",
   "metadata": {},
   "source": [
    "Проверим количество пропусков:\n",
    "\n",
    "Let's check the number of passes:"
   ]
  },
  {
   "cell_type": "code",
   "execution_count": 12,
   "id": "9ae41c38",
   "metadata": {},
   "outputs": [
    {
     "data": {
      "text/plain": [
       "Unnamed: 0          0\n",
       "children            0\n",
       "days_employed       0\n",
       "dob_years           0\n",
       "education           0\n",
       "education_id        0\n",
       "family_status       0\n",
       "family_status_id    0\n",
       "gender              0\n",
       "income_type         0\n",
       "debt                0\n",
       "total_income        0\n",
       "purpose             0\n",
       "dtype: int64"
      ]
     },
     "execution_count": 12,
     "metadata": {},
     "output_type": "execute_result"
    }
   ],
   "source": [
    "data.isna().sum()"
   ]
  },
  {
   "cell_type": "markdown",
   "id": "3c820e75",
   "metadata": {},
   "source": [
    "Заменим вещественный тип данных в столбце total_income на целочисленный с помощью метода astype():\n",
    "\n",
    "Let's replace the real data type in the total_income column with an integer using the astype() method:"
   ]
  },
  {
   "cell_type": "code",
   "execution_count": 13,
   "id": "59e2795b",
   "metadata": {},
   "outputs": [],
   "source": [
    "data['total_income'] = data['total_income'].astype(int)"
   ]
  },
  {
   "cell_type": "markdown",
   "id": "bb749d43",
   "metadata": {},
   "source": [
    "### Обработка дубликатов / Handling duplicates"
   ]
  },
  {
   "cell_type": "markdown",
   "id": "68009535",
   "metadata": {},
   "source": [
    "Обработаем неявные дубликаты в столбце education. \n",
    "В этом столбце есть одни и те же значения, но записанные по-разному: с использованием заглавных и строчных букв. Приведем их к нижнему регистру:\n",
    "\n",
    "Let's handle implicit duplicates in the education column.\n",
    "This column has the same values, but written differently, using uppercase and lowercase letters. Let's convert them to lower case:"
   ]
  },
  {
   "cell_type": "code",
   "execution_count": 14,
   "id": "662d8237",
   "metadata": {},
   "outputs": [],
   "source": [
    "data['education'] = data['education'].str.lower()"
   ]
  },
  {
   "cell_type": "markdown",
   "id": "c7a7943f",
   "metadata": {},
   "source": [
    "Выведем на экран количество строк-дубликатов в данных:\n",
    "\n",
    "Let's display the number of duplicate rows in the data:"
   ]
  },
  {
   "cell_type": "code",
   "execution_count": 15,
   "id": "45fc72a6",
   "metadata": {},
   "outputs": [
    {
     "data": {
      "text/plain": [
       "0"
      ]
     },
     "execution_count": 15,
     "metadata": {},
     "output_type": "execute_result"
    }
   ],
   "source": [
    "data.duplicated().sum()"
   ]
  },
  {
   "cell_type": "code",
   "execution_count": 16,
   "id": "bece7c62",
   "metadata": {},
   "outputs": [],
   "source": [
    "data = data.drop_duplicates()"
   ]
  },
  {
   "cell_type": "markdown",
   "id": "6e0fc1c6",
   "metadata": {},
   "source": [
    "### Категоризация данных / Data categorization"
   ]
  },
  {
   "cell_type": "markdown",
   "id": "6ae75b9b",
   "metadata": {},
   "source": [
    "Создадим диапозон доходов, на его основании создадим в датафрейме столбец total_income_category с категориями:\n",
    "\n",
    "- 0–30000 — 'E';\n",
    "- 30001–50000 — 'D';\n",
    "- 50001–200000 — 'C';\n",
    "- 200001–1000000 — 'B';\n",
    "- 1000001 и выше — 'A'.\n",
    "\n",
    "Let's create an income range, based on it, create a total_income_category column with categories in the dataframe:\n",
    "\n",
    "- 0–30000 — 'E';\n",
    "- 30001–50000 - 'D';\n",
    "- 50001–200000 - 'C';\n",
    "- 200001–1000000 - 'B';\n",
    "- 1000001 and above - 'A'."
   ]
  },
  {
   "cell_type": "code",
   "execution_count": 17,
   "id": "ebf42a22",
   "metadata": {},
   "outputs": [],
   "source": [
    "def categorize_income(income):\n",
    "    try:\n",
    "        if 0 <= income <= 30000:\n",
    "            return 'E'\n",
    "        elif 30001 <= income <= 50000:\n",
    "            return 'D'\n",
    "        elif 50001 <= income <= 200000:\n",
    "            return 'C'\n",
    "        elif 200001 <= income <= 1000000:\n",
    "            return 'B'\n",
    "        elif income >= 1000001:\n",
    "            return 'A'\n",
    "    except:\n",
    "        pass"
   ]
  },
  {
   "cell_type": "code",
   "execution_count": 18,
   "id": "3e0b9d30",
   "metadata": {},
   "outputs": [],
   "source": [
    "data['total_income_category'] = data['total_income'].apply(categorize_income)"
   ]
  },
  {
   "cell_type": "code",
   "execution_count": 19,
   "id": "e43f06a0",
   "metadata": {},
   "outputs": [
    {
     "data": {
      "text/plain": [
       "array(['покупка жилья', 'приобретение автомобиля',\n",
       "       'дополнительное образование', 'сыграть свадьбу',\n",
       "       'операции с жильем', 'образование', 'на проведение свадьбы',\n",
       "       'покупка жилья для семьи', 'покупка недвижимости',\n",
       "       'покупка коммерческой недвижимости', 'покупка жилой недвижимости',\n",
       "       'строительство собственной недвижимости', 'недвижимость',\n",
       "       'строительство недвижимости', 'на покупку подержанного автомобиля',\n",
       "       'на покупку своего автомобиля',\n",
       "       'операции с коммерческой недвижимостью',\n",
       "       'строительство жилой недвижимости', 'жилье',\n",
       "       'операции со своей недвижимостью', 'автомобили',\n",
       "       'заняться образованием', 'сделка с подержанным автомобилем',\n",
       "       'получение образования', 'автомобиль', 'свадьба',\n",
       "       'получение дополнительного образования', 'покупка своего жилья',\n",
       "       'операции с недвижимостью', 'получение высшего образования',\n",
       "       'свой автомобиль', 'сделка с автомобилем',\n",
       "       'профильное образование', 'высшее образование',\n",
       "       'покупка жилья для сдачи', 'на покупку автомобиля', 'ремонт жилью',\n",
       "       'заняться высшим образованием'], dtype=object)"
      ]
     },
     "execution_count": 19,
     "metadata": {},
     "output_type": "execute_result"
    }
   ],
   "source": [
    "data['purpose'].unique()"
   ]
  },
  {
   "cell_type": "markdown",
   "id": "8e2e7ac8",
   "metadata": {},
   "source": [
    "Создадим функцию, которая на основании данных из столбца purpose сформирует новый столбец purpose_category, в который войдут следующие категории:\n",
    "\n",
    "- 'операции с автомобилем',\n",
    "- 'операции с недвижимостью',\n",
    "- 'проведение свадьбы',\n",
    "- 'получение образования'.\n",
    "\n",
    "Let's create a function that, based on the data from the purpose column, will form a new purpose_category column, which will include the following categories:\n",
    "\n",
    "- 'car operations',\n",
    "- 'real estate transactions',\n",
    "- 'carrying out a wedding',\n",
    "- 'getting an education'."
   ]
  },
  {
   "cell_type": "code",
   "execution_count": 20,
   "id": "e1d211cc",
   "metadata": {},
   "outputs": [],
   "source": [
    "def categorize_purpose(row):\n",
    "    try:\n",
    "        if 'автом' in row:\n",
    "            return 'операции с автомобилем'\n",
    "        elif 'жил' in row or 'недвиж' in row:\n",
    "            return 'операции с недвижимостью'\n",
    "        elif 'свад' in row:\n",
    "            return 'проведение свадьбы'\n",
    "        elif 'образов' in row:\n",
    "            return 'получение образования'\n",
    "    except:\n",
    "        return 'нет категории'"
   ]
  },
  {
   "cell_type": "code",
   "execution_count": 21,
   "id": "d967df8b",
   "metadata": {},
   "outputs": [],
   "source": [
    "data['purpose_category'] = data['purpose'].apply(categorize_purpose)"
   ]
  },
  {
   "cell_type": "markdown",
   "id": "236190e1",
   "metadata": {},
   "source": [
    "### Шаг 3. Исследуем данные / Step 3. Explore the data"
   ]
  },
  {
   "cell_type": "markdown",
   "id": "1b40cadf",
   "metadata": {},
   "source": [
    "#### 3.1 Проверим, есть ли зависимость между количеством детей и возвратом кредита в срок: / Let's check whether there is a relationship between the number of children and repayment of the loan on time:"
   ]
  },
  {
   "cell_type": "code",
   "execution_count": 22,
   "id": "9113a8a9",
   "metadata": {},
   "outputs": [
    {
     "name": "stdout",
     "output_type": "stream",
     "text": [
      "sum       1063.000000\n",
      "count    14149.000000\n",
      "mean         0.075129\n",
      "sum        669.000000\n",
      "count     7253.000000\n",
      "mean         0.092238\n",
      "Name: debt, dtype: float64\n"
     ]
    }
   ],
   "source": [
    "import warnings\n",
    "\n",
    "warnings.filterwarnings('ignore')\n",
    "grouped_no_children = data.loc[data['children']==0,'debt'].agg(['sum','count','mean'])\n",
    "grouped_has_children = data.loc[data['children']!=0, 'debt'].agg(['sum','count','mean'])\n",
    "print(grouped_no_children.append(grouped_has_children))"
   ]
  },
  {
   "cell_type": "markdown",
   "id": "a1d289d5",
   "metadata": {},
   "source": [
    "**Вывод:** существует зависимость между наличием детей у клиентов и задолженностями. Клиенты-должники с детьми составляют большую долю от заемщиков, чем клиенты без детей.\n",
    "\n",
    "**Conclusion:** there is a relationship between the presence of children of clients and debts. Debtor clients with children make up a larger share of borrowers than clients without children."
   ]
  },
  {
   "cell_type": "markdown",
   "id": "dac78c53",
   "metadata": {},
   "source": [
    "#### 3.2 Проверим, есть ли зависимость между семейным положением и возвратом кредита в срок: / Let's check whether there is a relationship between marital status and repayment of the loan on time:"
   ]
  },
  {
   "cell_type": "code",
   "execution_count": 23,
   "id": "14b0ff20",
   "metadata": {},
   "outputs": [
    {
     "name": "stdout",
     "output_type": "stream",
     "text": [
      "                       sum  count      mean\n",
      "family_status                              \n",
      "Не женат / не замужем  273   2799  0.097535\n",
      "в разводе               84   1189  0.070648\n",
      "вдовец / вдова          63    952  0.066176\n",
      "гражданский брак       385   4160  0.092548\n",
      "женат / замужем        927  12302  0.075354\n"
     ]
    }
   ],
   "source": [
    "print(data.groupby('family_status')['debt'].agg(['sum','count','mean']))"
   ]
  },
  {
   "cell_type": "markdown",
   "id": "e2ee12f9",
   "metadata": {},
   "source": [
    "**Вывод:** существует зависимость между семейным положением и возвратом кредита в срок. Наибольшее число долгов у клиентов из категорий не женат/не замужем и гражданский брак, меньше всего долгов у клиентов из категории вдовец/вдова.  \n",
    "\n",
    "**Conclusion:** there is a relationship between marital status and repayment of the loan on time. Clients from the unmarried and civil marriage categories have the largest number of debts, clients from the widower/widow category have the least debts."
   ]
  },
  {
   "cell_type": "markdown",
   "id": "d611a085",
   "metadata": {},
   "source": [
    "#### 3.3 Проверим, есть ли зависимость между уровнем дохода и возвратом кредита в срок: / Let's check whether there is a relationship between income level and loan repayment on time:"
   ]
  },
  {
   "cell_type": "code",
   "execution_count": 24,
   "id": "552b796f",
   "metadata": {},
   "outputs": [
    {
     "name": "stdout",
     "output_type": "stream",
     "text": [
      "                        sum  count      mean\n",
      "total_income_category                       \n",
      "A                         2     25  0.080000\n",
      "B                       354   5014  0.070602\n",
      "C                      1353  15992  0.084605\n",
      "D                        21    349  0.060172\n",
      "E                         2     22  0.090909\n"
     ]
    }
   ],
   "source": [
    "print(data.groupby('total_income_category')['debt'].agg(['sum','count','mean']))"
   ]
  },
  {
   "cell_type": "markdown",
   "id": "a48d9cf0",
   "metadata": {},
   "source": [
    "**Вывод:** зависимость между уровнем дохода и возвратом кредита в срок присутствует. Больше всего задолженностей у клиентов, относящихся к категории Е. Меньше всего долгов у клиентов из категории D. Клиенты-должники из категорий А, B и С составляют примерно равные доли от общего числа заемщиков.\n",
    "\n",
    "**Conclusion:** there is a relationship between income level and loan repayment on time. Clients belonging to category E have the most debts. Clients from category D have the least debts. Clients-debtors from categories A, B and C make up approximately equal shares of the total number of borrowers."
   ]
  },
  {
   "cell_type": "markdown",
   "id": "2562ce63",
   "metadata": {},
   "source": [
    "#### 3.4 Проверим, как разные цели кредита влияют на его возврат в срок: / Let's check how different purposes of a loan affect its repayment on time:"
   ]
  },
  {
   "cell_type": "code",
   "execution_count": 25,
   "id": "6f52386a",
   "metadata": {},
   "outputs": [
    {
     "name": "stdout",
     "output_type": "stream",
     "text": [
      "                          sum  count      mean\n",
      "purpose_category                              \n",
      "операции с автомобилем    400   4288  0.093284\n",
      "операции с недвижимостью  780  10780  0.072356\n",
      "получение образования     369   3997  0.092319\n",
      "проведение свадьбы        183   2337  0.078306\n"
     ]
    }
   ],
   "source": [
    "print(data.groupby('purpose_category')['debt'].agg(['sum','count','mean']))"
   ]
  },
  {
   "cell_type": "markdown",
   "id": "488b4f37",
   "metadata": {},
   "source": [
    "**Вывод:** больше  задолженностей имеют клиенты, которые проводили операции с автомобилем или брали кредит на получение образования.\n",
    "Меньше задолженностей у клиентов, которые берут кредит на проведение свадьбы или операции с недвижимостью.\n",
    "\n",
    "**Conclusion:** clients who carried out transactions with a car or took out a loan for education have more debt.\n",
    "Clients who take out a loan for a wedding or real estate transaction have less debt."
   ]
  },
  {
   "cell_type": "markdown",
   "id": "82853d27",
   "metadata": {},
   "source": [
    "В ходе исследования было проверено и установлено: семейное положение клиента влияет на факт погашения кредита в срок. Наибольшее число долгов у клиентов из категорий не женат/не замужем и гражданский брак, меньше всего долгов у клиентов из категории вдовец/вдова.  \n",
    "\n",
    "Существует зависимость между наличием детей у клиентов и задолженностями. Клиенты-должники с детьми составляют большую долю от заемщиков, чем клиенты без детей.\n",
    "\n",
    "Также присутствует зависимость между уровнем дохода и возвратом кредита в срок. Больше всего задолженностей у клиентов, относящихся к категории Е. Меньше всего долгов у клиентов из категории D. Клиенты-должники из категорий А, B и С составляют примерно равные доли от общего числа заемщиков.\n",
    "\n",
    "Более того, на факт погашения кредита в срок влияет цель получения кредита:\n",
    "\n",
    "- больше  задолженностей имеют клиенты, которые проводили операции с автомобилем или брали кредит на получение образования;\n",
    "- меньше задолженностей у клиентов, которые берут кредит на проведение свадьбы или операции с недвижимостью.\n",
    "\n",
    "\n",
    "During the study, it was verified and established that the client’s marital status affects the fact of repaying the loan on time. Clients from the unmarried and civil marriage categories have the largest number of debts, clients from the widower/widow category have the least debts.\n",
    "\n",
    "There is a relationship between the presence of children of clients and debt. Debtor clients with children make up a larger share of borrowers than clients without children.\n",
    "\n",
    "There is also a relationship between income level and loan repayment on time. Clients belonging to category E have the most debts. Clients from category D have the least debts. Clients-debtors from categories A, B and C make up approximately equal shares of the total number of borrowers.\n",
    "\n",
    "Moreover, the fact of repaying the loan on time is influenced by the purpose of obtaining the loan:\n",
    "\n",
    "- clients who carried out transactions with a car or took out a loan for education have more debts;\n",
    "- less debt for clients who take out a loan for a wedding or real estate transaction."
   ]
  }
 ],
 "metadata": {
  "kernelspec": {
   "display_name": "Python 3 (ipykernel)",
   "language": "python",
   "name": "python3"
  },
  "language_info": {
   "codemirror_mode": {
    "name": "ipython",
    "version": 3
   },
   "file_extension": ".py",
   "mimetype": "text/x-python",
   "name": "python",
   "nbconvert_exporter": "python",
   "pygments_lexer": "ipython3",
   "version": "3.9.13"
  }
 },
 "nbformat": 4,
 "nbformat_minor": 5
}
