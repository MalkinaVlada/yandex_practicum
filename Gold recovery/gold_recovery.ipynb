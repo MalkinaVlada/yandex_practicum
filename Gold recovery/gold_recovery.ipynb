{
 "cells": [
  {
   "cell_type": "markdown",
   "metadata": {
    "toc": true
   },
   "source": [
    "<h1>Содержание / Content<span class=\"tocSkip\"></span></h1>\n",
    "<div class=\"toc\"><ul class=\"toc-item\"><li><span><a href=\"#Подготовка-данных\" data-toc-modified-id=\"Подготовка-данных-1\"><span class=\"toc-item-num\">1&nbsp;&nbsp;</span>Подготовка данных / Data preparation</a></span></li><li><span><a href=\"#Анализ-данных\" data-toc-modified-id=\"Анализ-данных-2\"><span class=\"toc-item-num\">2&nbsp;&nbsp;</span>Анализ данных / Data analysis</a></span></li><li><span><a href=\"#Модель\" data-toc-modified-id=\"Модель-3\"><span class=\"toc-item-num\">3&nbsp;&nbsp;</span>Модель / Model"
   ]
  },
  {
   "cell_type": "markdown",
   "metadata": {},
   "source": [
    "# Восстановление золота из руды  / Recovery of gold from ore"
   ]
  },
  {
   "cell_type": "markdown",
   "metadata": {},
   "source": [
    "Требуется подготовить прототип модели машинного обучения для компании, разрабатывающей решения для эффективной работы промышленных предприятий.\n",
    "\n",
    "Модель должна предсказать коэффициент восстановления золота из золотосодержащей руды. \n",
    "\n",
    "Для построения модели используются данные с параметрами добычи и очистки. \n",
    "\n",
    "Модель поможет оптимизировать производство, чтобы не запускать предприятие с убыточными характеристиками.\n",
    "\n",
    "План работы:\n",
    "\n",
    "1. Подготовить данные;\n",
    "2. Провести исследовательский анализ данных;\n",
    "3. Построить и обучить модель.\n",
    "\n",
    "\n",
    "It is required to prepare a prototype of a machine learning model for a company developing solutions for the efficient operation of industrial enterprises.\n",
    "\n",
    "The model must predict the recovery rate of gold from gold ore.\n",
    "\n",
    "Data with production and purification parameters are used to build the model.\n",
    "\n",
    "The model will help optimize production so as not to launch an enterprise with unprofitable characteristics.\n",
    "\n",
    "Work plan:\n",
    "\n",
    "1. Prepare data;\n",
    "2. Conduct exploratory data analysis;\n",
    "3. Build and train the model."
   ]
  },
  {
   "cell_type": "markdown",
   "metadata": {},
   "source": [
    "## Подготовка данных / Data preparation"
   ]
  },
  {
   "cell_type": "code",
   "execution_count": 1,
   "metadata": {},
   "outputs": [],
   "source": [
    "import pandas as pd\n",
    "from sklearn.metrics import mean_absolute_error\n",
    "from sklearn.preprocessing import StandardScaler\n",
    "from sklearn.model_selection import cross_val_score\n",
    "import numpy as np\n",
    "from sklearn.linear_model import LinearRegression\n",
    "from sklearn.ensemble import RandomForestRegressor\n",
    "from joblib import dump\n",
    "import matplotlib.pyplot as plt\n",
    "from scipy import stats as st\n",
    "from sklearn.dummy import DummyRegressor"
   ]
  },
  {
   "cell_type": "code",
   "execution_count": 2,
   "metadata": {},
   "outputs": [],
   "source": [
    "data_train = pd.read_csv('/Users/vladamalkina/Downloads/gold_recovery_train_new.csv')\n",
    "data_test = pd.read_csv('/Users/vladamalkina/Downloads/gold_recovery_test_new.csv')\n",
    "data_full = pd.read_csv('/Users/vladamalkina/Downloads/gold_recovery_full_new.csv')"
   ]
  },
  {
   "cell_type": "code",
   "execution_count": 3,
   "metadata": {},
   "outputs": [
    {
     "data": {
      "text/html": [
       "<div>\n",
       "<style scoped>\n",
       "    .dataframe tbody tr th:only-of-type {\n",
       "        vertical-align: middle;\n",
       "    }\n",
       "\n",
       "    .dataframe tbody tr th {\n",
       "        vertical-align: top;\n",
       "    }\n",
       "\n",
       "    .dataframe thead th {\n",
       "        text-align: right;\n",
       "    }\n",
       "</style>\n",
       "<table border=\"1\" class=\"dataframe\">\n",
       "  <thead>\n",
       "    <tr style=\"text-align: right;\">\n",
       "      <th></th>\n",
       "      <th>date</th>\n",
       "      <th>final.output.concentrate_ag</th>\n",
       "      <th>final.output.concentrate_pb</th>\n",
       "      <th>final.output.concentrate_sol</th>\n",
       "      <th>final.output.concentrate_au</th>\n",
       "      <th>final.output.recovery</th>\n",
       "      <th>final.output.tail_ag</th>\n",
       "      <th>final.output.tail_pb</th>\n",
       "      <th>final.output.tail_sol</th>\n",
       "      <th>final.output.tail_au</th>\n",
       "      <th>...</th>\n",
       "      <th>secondary_cleaner.state.floatbank4_a_air</th>\n",
       "      <th>secondary_cleaner.state.floatbank4_a_level</th>\n",
       "      <th>secondary_cleaner.state.floatbank4_b_air</th>\n",
       "      <th>secondary_cleaner.state.floatbank4_b_level</th>\n",
       "      <th>secondary_cleaner.state.floatbank5_a_air</th>\n",
       "      <th>secondary_cleaner.state.floatbank5_a_level</th>\n",
       "      <th>secondary_cleaner.state.floatbank5_b_air</th>\n",
       "      <th>secondary_cleaner.state.floatbank5_b_level</th>\n",
       "      <th>secondary_cleaner.state.floatbank6_a_air</th>\n",
       "      <th>secondary_cleaner.state.floatbank6_a_level</th>\n",
       "    </tr>\n",
       "  </thead>\n",
       "  <tbody>\n",
       "    <tr>\n",
       "      <th>0</th>\n",
       "      <td>2016-01-15 00:00:00</td>\n",
       "      <td>6.055403</td>\n",
       "      <td>9.889648</td>\n",
       "      <td>5.507324</td>\n",
       "      <td>42.192020</td>\n",
       "      <td>70.541216</td>\n",
       "      <td>10.411962</td>\n",
       "      <td>0.895447</td>\n",
       "      <td>16.904297</td>\n",
       "      <td>2.143149</td>\n",
       "      <td>...</td>\n",
       "      <td>14.016835</td>\n",
       "      <td>-502.488007</td>\n",
       "      <td>12.099931</td>\n",
       "      <td>-504.715942</td>\n",
       "      <td>9.925633</td>\n",
       "      <td>-498.310211</td>\n",
       "      <td>8.079666</td>\n",
       "      <td>-500.470978</td>\n",
       "      <td>14.151341</td>\n",
       "      <td>-605.841980</td>\n",
       "    </tr>\n",
       "    <tr>\n",
       "      <th>1</th>\n",
       "      <td>2016-01-15 01:00:00</td>\n",
       "      <td>6.029369</td>\n",
       "      <td>9.968944</td>\n",
       "      <td>5.257781</td>\n",
       "      <td>42.701629</td>\n",
       "      <td>69.266198</td>\n",
       "      <td>10.462676</td>\n",
       "      <td>0.927452</td>\n",
       "      <td>16.634514</td>\n",
       "      <td>2.224930</td>\n",
       "      <td>...</td>\n",
       "      <td>13.992281</td>\n",
       "      <td>-505.503262</td>\n",
       "      <td>11.950531</td>\n",
       "      <td>-501.331529</td>\n",
       "      <td>10.039245</td>\n",
       "      <td>-500.169983</td>\n",
       "      <td>7.984757</td>\n",
       "      <td>-500.582168</td>\n",
       "      <td>13.998353</td>\n",
       "      <td>-599.787184</td>\n",
       "    </tr>\n",
       "    <tr>\n",
       "      <th>2</th>\n",
       "      <td>2016-01-15 02:00:00</td>\n",
       "      <td>6.055926</td>\n",
       "      <td>10.213995</td>\n",
       "      <td>5.383759</td>\n",
       "      <td>42.657501</td>\n",
       "      <td>68.116445</td>\n",
       "      <td>10.507046</td>\n",
       "      <td>0.953716</td>\n",
       "      <td>16.208849</td>\n",
       "      <td>2.257889</td>\n",
       "      <td>...</td>\n",
       "      <td>14.015015</td>\n",
       "      <td>-502.520901</td>\n",
       "      <td>11.912783</td>\n",
       "      <td>-501.133383</td>\n",
       "      <td>10.070913</td>\n",
       "      <td>-500.129135</td>\n",
       "      <td>8.013877</td>\n",
       "      <td>-500.517572</td>\n",
       "      <td>14.028663</td>\n",
       "      <td>-601.427363</td>\n",
       "    </tr>\n",
       "    <tr>\n",
       "      <th>3</th>\n",
       "      <td>2016-01-15 03:00:00</td>\n",
       "      <td>6.047977</td>\n",
       "      <td>9.977019</td>\n",
       "      <td>4.858634</td>\n",
       "      <td>42.689819</td>\n",
       "      <td>68.347543</td>\n",
       "      <td>10.422762</td>\n",
       "      <td>0.883763</td>\n",
       "      <td>16.532835</td>\n",
       "      <td>2.146849</td>\n",
       "      <td>...</td>\n",
       "      <td>14.036510</td>\n",
       "      <td>-500.857308</td>\n",
       "      <td>11.999550</td>\n",
       "      <td>-501.193686</td>\n",
       "      <td>9.970366</td>\n",
       "      <td>-499.201640</td>\n",
       "      <td>7.977324</td>\n",
       "      <td>-500.255908</td>\n",
       "      <td>14.005551</td>\n",
       "      <td>-599.996129</td>\n",
       "    </tr>\n",
       "    <tr>\n",
       "      <th>4</th>\n",
       "      <td>2016-01-15 04:00:00</td>\n",
       "      <td>6.148599</td>\n",
       "      <td>10.142511</td>\n",
       "      <td>4.939416</td>\n",
       "      <td>42.774141</td>\n",
       "      <td>66.927016</td>\n",
       "      <td>10.360302</td>\n",
       "      <td>0.792826</td>\n",
       "      <td>16.525686</td>\n",
       "      <td>2.055292</td>\n",
       "      <td>...</td>\n",
       "      <td>14.027298</td>\n",
       "      <td>-499.838632</td>\n",
       "      <td>11.953070</td>\n",
       "      <td>-501.053894</td>\n",
       "      <td>9.925709</td>\n",
       "      <td>-501.686727</td>\n",
       "      <td>7.894242</td>\n",
       "      <td>-500.356035</td>\n",
       "      <td>13.996647</td>\n",
       "      <td>-601.496691</td>\n",
       "    </tr>\n",
       "  </tbody>\n",
       "</table>\n",
       "<p>5 rows × 87 columns</p>\n",
       "</div>"
      ],
      "text/plain": [
       "                  date  final.output.concentrate_ag  \\\n",
       "0  2016-01-15 00:00:00                     6.055403   \n",
       "1  2016-01-15 01:00:00                     6.029369   \n",
       "2  2016-01-15 02:00:00                     6.055926   \n",
       "3  2016-01-15 03:00:00                     6.047977   \n",
       "4  2016-01-15 04:00:00                     6.148599   \n",
       "\n",
       "   final.output.concentrate_pb  final.output.concentrate_sol  \\\n",
       "0                     9.889648                      5.507324   \n",
       "1                     9.968944                      5.257781   \n",
       "2                    10.213995                      5.383759   \n",
       "3                     9.977019                      4.858634   \n",
       "4                    10.142511                      4.939416   \n",
       "\n",
       "   final.output.concentrate_au  final.output.recovery  final.output.tail_ag  \\\n",
       "0                    42.192020              70.541216             10.411962   \n",
       "1                    42.701629              69.266198             10.462676   \n",
       "2                    42.657501              68.116445             10.507046   \n",
       "3                    42.689819              68.347543             10.422762   \n",
       "4                    42.774141              66.927016             10.360302   \n",
       "\n",
       "   final.output.tail_pb  final.output.tail_sol  final.output.tail_au  ...  \\\n",
       "0              0.895447              16.904297              2.143149  ...   \n",
       "1              0.927452              16.634514              2.224930  ...   \n",
       "2              0.953716              16.208849              2.257889  ...   \n",
       "3              0.883763              16.532835              2.146849  ...   \n",
       "4              0.792826              16.525686              2.055292  ...   \n",
       "\n",
       "   secondary_cleaner.state.floatbank4_a_air  \\\n",
       "0                                 14.016835   \n",
       "1                                 13.992281   \n",
       "2                                 14.015015   \n",
       "3                                 14.036510   \n",
       "4                                 14.027298   \n",
       "\n",
       "   secondary_cleaner.state.floatbank4_a_level  \\\n",
       "0                                 -502.488007   \n",
       "1                                 -505.503262   \n",
       "2                                 -502.520901   \n",
       "3                                 -500.857308   \n",
       "4                                 -499.838632   \n",
       "\n",
       "   secondary_cleaner.state.floatbank4_b_air  \\\n",
       "0                                 12.099931   \n",
       "1                                 11.950531   \n",
       "2                                 11.912783   \n",
       "3                                 11.999550   \n",
       "4                                 11.953070   \n",
       "\n",
       "   secondary_cleaner.state.floatbank4_b_level  \\\n",
       "0                                 -504.715942   \n",
       "1                                 -501.331529   \n",
       "2                                 -501.133383   \n",
       "3                                 -501.193686   \n",
       "4                                 -501.053894   \n",
       "\n",
       "   secondary_cleaner.state.floatbank5_a_air  \\\n",
       "0                                  9.925633   \n",
       "1                                 10.039245   \n",
       "2                                 10.070913   \n",
       "3                                  9.970366   \n",
       "4                                  9.925709   \n",
       "\n",
       "   secondary_cleaner.state.floatbank5_a_level  \\\n",
       "0                                 -498.310211   \n",
       "1                                 -500.169983   \n",
       "2                                 -500.129135   \n",
       "3                                 -499.201640   \n",
       "4                                 -501.686727   \n",
       "\n",
       "   secondary_cleaner.state.floatbank5_b_air  \\\n",
       "0                                  8.079666   \n",
       "1                                  7.984757   \n",
       "2                                  8.013877   \n",
       "3                                  7.977324   \n",
       "4                                  7.894242   \n",
       "\n",
       "   secondary_cleaner.state.floatbank5_b_level  \\\n",
       "0                                 -500.470978   \n",
       "1                                 -500.582168   \n",
       "2                                 -500.517572   \n",
       "3                                 -500.255908   \n",
       "4                                 -500.356035   \n",
       "\n",
       "   secondary_cleaner.state.floatbank6_a_air  \\\n",
       "0                                 14.151341   \n",
       "1                                 13.998353   \n",
       "2                                 14.028663   \n",
       "3                                 14.005551   \n",
       "4                                 13.996647   \n",
       "\n",
       "   secondary_cleaner.state.floatbank6_a_level  \n",
       "0                                 -605.841980  \n",
       "1                                 -599.787184  \n",
       "2                                 -601.427363  \n",
       "3                                 -599.996129  \n",
       "4                                 -601.496691  \n",
       "\n",
       "[5 rows x 87 columns]"
      ]
     },
     "metadata": {},
     "output_type": "display_data"
    },
    {
     "data": {
      "text/html": [
       "<div>\n",
       "<style scoped>\n",
       "    .dataframe tbody tr th:only-of-type {\n",
       "        vertical-align: middle;\n",
       "    }\n",
       "\n",
       "    .dataframe tbody tr th {\n",
       "        vertical-align: top;\n",
       "    }\n",
       "\n",
       "    .dataframe thead th {\n",
       "        text-align: right;\n",
       "    }\n",
       "</style>\n",
       "<table border=\"1\" class=\"dataframe\">\n",
       "  <thead>\n",
       "    <tr style=\"text-align: right;\">\n",
       "      <th></th>\n",
       "      <th>date</th>\n",
       "      <th>primary_cleaner.input.sulfate</th>\n",
       "      <th>primary_cleaner.input.depressant</th>\n",
       "      <th>primary_cleaner.input.feed_size</th>\n",
       "      <th>primary_cleaner.input.xanthate</th>\n",
       "      <th>primary_cleaner.state.floatbank8_a_air</th>\n",
       "      <th>primary_cleaner.state.floatbank8_a_level</th>\n",
       "      <th>primary_cleaner.state.floatbank8_b_air</th>\n",
       "      <th>primary_cleaner.state.floatbank8_b_level</th>\n",
       "      <th>primary_cleaner.state.floatbank8_c_air</th>\n",
       "      <th>...</th>\n",
       "      <th>secondary_cleaner.state.floatbank4_a_air</th>\n",
       "      <th>secondary_cleaner.state.floatbank4_a_level</th>\n",
       "      <th>secondary_cleaner.state.floatbank4_b_air</th>\n",
       "      <th>secondary_cleaner.state.floatbank4_b_level</th>\n",
       "      <th>secondary_cleaner.state.floatbank5_a_air</th>\n",
       "      <th>secondary_cleaner.state.floatbank5_a_level</th>\n",
       "      <th>secondary_cleaner.state.floatbank5_b_air</th>\n",
       "      <th>secondary_cleaner.state.floatbank5_b_level</th>\n",
       "      <th>secondary_cleaner.state.floatbank6_a_air</th>\n",
       "      <th>secondary_cleaner.state.floatbank6_a_level</th>\n",
       "    </tr>\n",
       "  </thead>\n",
       "  <tbody>\n",
       "    <tr>\n",
       "      <th>0</th>\n",
       "      <td>2016-09-01 00:59:59</td>\n",
       "      <td>210.800909</td>\n",
       "      <td>14.993118</td>\n",
       "      <td>8.080000</td>\n",
       "      <td>1.005021</td>\n",
       "      <td>1398.981301</td>\n",
       "      <td>-500.225577</td>\n",
       "      <td>1399.144926</td>\n",
       "      <td>-499.919735</td>\n",
       "      <td>1400.102998</td>\n",
       "      <td>...</td>\n",
       "      <td>12.023554</td>\n",
       "      <td>-497.795834</td>\n",
       "      <td>8.016656</td>\n",
       "      <td>-501.289139</td>\n",
       "      <td>7.946562</td>\n",
       "      <td>-432.317850</td>\n",
       "      <td>4.872511</td>\n",
       "      <td>-500.037437</td>\n",
       "      <td>26.705889</td>\n",
       "      <td>-499.709414</td>\n",
       "    </tr>\n",
       "    <tr>\n",
       "      <th>1</th>\n",
       "      <td>2016-09-01 01:59:59</td>\n",
       "      <td>215.392455</td>\n",
       "      <td>14.987471</td>\n",
       "      <td>8.080000</td>\n",
       "      <td>0.990469</td>\n",
       "      <td>1398.777912</td>\n",
       "      <td>-500.057435</td>\n",
       "      <td>1398.055362</td>\n",
       "      <td>-499.778182</td>\n",
       "      <td>1396.151033</td>\n",
       "      <td>...</td>\n",
       "      <td>12.058140</td>\n",
       "      <td>-498.695773</td>\n",
       "      <td>8.130979</td>\n",
       "      <td>-499.634209</td>\n",
       "      <td>7.958270</td>\n",
       "      <td>-525.839648</td>\n",
       "      <td>4.878850</td>\n",
       "      <td>-500.162375</td>\n",
       "      <td>25.019940</td>\n",
       "      <td>-499.819438</td>\n",
       "    </tr>\n",
       "    <tr>\n",
       "      <th>2</th>\n",
       "      <td>2016-09-01 02:59:59</td>\n",
       "      <td>215.259946</td>\n",
       "      <td>12.884934</td>\n",
       "      <td>7.786667</td>\n",
       "      <td>0.996043</td>\n",
       "      <td>1398.493666</td>\n",
       "      <td>-500.868360</td>\n",
       "      <td>1398.860436</td>\n",
       "      <td>-499.764529</td>\n",
       "      <td>1398.075709</td>\n",
       "      <td>...</td>\n",
       "      <td>11.962366</td>\n",
       "      <td>-498.767484</td>\n",
       "      <td>8.096893</td>\n",
       "      <td>-500.827423</td>\n",
       "      <td>8.071056</td>\n",
       "      <td>-500.801673</td>\n",
       "      <td>4.905125</td>\n",
       "      <td>-499.828510</td>\n",
       "      <td>24.994862</td>\n",
       "      <td>-500.622559</td>\n",
       "    </tr>\n",
       "    <tr>\n",
       "      <th>3</th>\n",
       "      <td>2016-09-01 03:59:59</td>\n",
       "      <td>215.336236</td>\n",
       "      <td>12.006805</td>\n",
       "      <td>7.640000</td>\n",
       "      <td>0.863514</td>\n",
       "      <td>1399.618111</td>\n",
       "      <td>-498.863574</td>\n",
       "      <td>1397.440120</td>\n",
       "      <td>-499.211024</td>\n",
       "      <td>1400.129303</td>\n",
       "      <td>...</td>\n",
       "      <td>12.033091</td>\n",
       "      <td>-498.350935</td>\n",
       "      <td>8.074946</td>\n",
       "      <td>-499.474407</td>\n",
       "      <td>7.897085</td>\n",
       "      <td>-500.868509</td>\n",
       "      <td>4.931400</td>\n",
       "      <td>-499.963623</td>\n",
       "      <td>24.948919</td>\n",
       "      <td>-498.709987</td>\n",
       "    </tr>\n",
       "    <tr>\n",
       "      <th>4</th>\n",
       "      <td>2016-09-01 04:59:59</td>\n",
       "      <td>199.099327</td>\n",
       "      <td>10.682530</td>\n",
       "      <td>7.530000</td>\n",
       "      <td>0.805575</td>\n",
       "      <td>1401.268123</td>\n",
       "      <td>-500.808305</td>\n",
       "      <td>1398.128818</td>\n",
       "      <td>-499.504543</td>\n",
       "      <td>1402.172226</td>\n",
       "      <td>...</td>\n",
       "      <td>12.025367</td>\n",
       "      <td>-500.786497</td>\n",
       "      <td>8.054678</td>\n",
       "      <td>-500.397500</td>\n",
       "      <td>8.107890</td>\n",
       "      <td>-509.526725</td>\n",
       "      <td>4.957674</td>\n",
       "      <td>-500.360026</td>\n",
       "      <td>25.003331</td>\n",
       "      <td>-500.856333</td>\n",
       "    </tr>\n",
       "  </tbody>\n",
       "</table>\n",
       "<p>5 rows × 53 columns</p>\n",
       "</div>"
      ],
      "text/plain": [
       "                  date  primary_cleaner.input.sulfate  \\\n",
       "0  2016-09-01 00:59:59                     210.800909   \n",
       "1  2016-09-01 01:59:59                     215.392455   \n",
       "2  2016-09-01 02:59:59                     215.259946   \n",
       "3  2016-09-01 03:59:59                     215.336236   \n",
       "4  2016-09-01 04:59:59                     199.099327   \n",
       "\n",
       "   primary_cleaner.input.depressant  primary_cleaner.input.feed_size  \\\n",
       "0                         14.993118                         8.080000   \n",
       "1                         14.987471                         8.080000   \n",
       "2                         12.884934                         7.786667   \n",
       "3                         12.006805                         7.640000   \n",
       "4                         10.682530                         7.530000   \n",
       "\n",
       "   primary_cleaner.input.xanthate  primary_cleaner.state.floatbank8_a_air  \\\n",
       "0                        1.005021                             1398.981301   \n",
       "1                        0.990469                             1398.777912   \n",
       "2                        0.996043                             1398.493666   \n",
       "3                        0.863514                             1399.618111   \n",
       "4                        0.805575                             1401.268123   \n",
       "\n",
       "   primary_cleaner.state.floatbank8_a_level  \\\n",
       "0                               -500.225577   \n",
       "1                               -500.057435   \n",
       "2                               -500.868360   \n",
       "3                               -498.863574   \n",
       "4                               -500.808305   \n",
       "\n",
       "   primary_cleaner.state.floatbank8_b_air  \\\n",
       "0                             1399.144926   \n",
       "1                             1398.055362   \n",
       "2                             1398.860436   \n",
       "3                             1397.440120   \n",
       "4                             1398.128818   \n",
       "\n",
       "   primary_cleaner.state.floatbank8_b_level  \\\n",
       "0                               -499.919735   \n",
       "1                               -499.778182   \n",
       "2                               -499.764529   \n",
       "3                               -499.211024   \n",
       "4                               -499.504543   \n",
       "\n",
       "   primary_cleaner.state.floatbank8_c_air  ...  \\\n",
       "0                             1400.102998  ...   \n",
       "1                             1396.151033  ...   \n",
       "2                             1398.075709  ...   \n",
       "3                             1400.129303  ...   \n",
       "4                             1402.172226  ...   \n",
       "\n",
       "   secondary_cleaner.state.floatbank4_a_air  \\\n",
       "0                                 12.023554   \n",
       "1                                 12.058140   \n",
       "2                                 11.962366   \n",
       "3                                 12.033091   \n",
       "4                                 12.025367   \n",
       "\n",
       "   secondary_cleaner.state.floatbank4_a_level  \\\n",
       "0                                 -497.795834   \n",
       "1                                 -498.695773   \n",
       "2                                 -498.767484   \n",
       "3                                 -498.350935   \n",
       "4                                 -500.786497   \n",
       "\n",
       "   secondary_cleaner.state.floatbank4_b_air  \\\n",
       "0                                  8.016656   \n",
       "1                                  8.130979   \n",
       "2                                  8.096893   \n",
       "3                                  8.074946   \n",
       "4                                  8.054678   \n",
       "\n",
       "   secondary_cleaner.state.floatbank4_b_level  \\\n",
       "0                                 -501.289139   \n",
       "1                                 -499.634209   \n",
       "2                                 -500.827423   \n",
       "3                                 -499.474407   \n",
       "4                                 -500.397500   \n",
       "\n",
       "   secondary_cleaner.state.floatbank5_a_air  \\\n",
       "0                                  7.946562   \n",
       "1                                  7.958270   \n",
       "2                                  8.071056   \n",
       "3                                  7.897085   \n",
       "4                                  8.107890   \n",
       "\n",
       "   secondary_cleaner.state.floatbank5_a_level  \\\n",
       "0                                 -432.317850   \n",
       "1                                 -525.839648   \n",
       "2                                 -500.801673   \n",
       "3                                 -500.868509   \n",
       "4                                 -509.526725   \n",
       "\n",
       "   secondary_cleaner.state.floatbank5_b_air  \\\n",
       "0                                  4.872511   \n",
       "1                                  4.878850   \n",
       "2                                  4.905125   \n",
       "3                                  4.931400   \n",
       "4                                  4.957674   \n",
       "\n",
       "   secondary_cleaner.state.floatbank5_b_level  \\\n",
       "0                                 -500.037437   \n",
       "1                                 -500.162375   \n",
       "2                                 -499.828510   \n",
       "3                                 -499.963623   \n",
       "4                                 -500.360026   \n",
       "\n",
       "   secondary_cleaner.state.floatbank6_a_air  \\\n",
       "0                                 26.705889   \n",
       "1                                 25.019940   \n",
       "2                                 24.994862   \n",
       "3                                 24.948919   \n",
       "4                                 25.003331   \n",
       "\n",
       "   secondary_cleaner.state.floatbank6_a_level  \n",
       "0                                 -499.709414  \n",
       "1                                 -499.819438  \n",
       "2                                 -500.622559  \n",
       "3                                 -498.709987  \n",
       "4                                 -500.856333  \n",
       "\n",
       "[5 rows x 53 columns]"
      ]
     },
     "metadata": {},
     "output_type": "display_data"
    },
    {
     "data": {
      "text/html": [
       "<div>\n",
       "<style scoped>\n",
       "    .dataframe tbody tr th:only-of-type {\n",
       "        vertical-align: middle;\n",
       "    }\n",
       "\n",
       "    .dataframe tbody tr th {\n",
       "        vertical-align: top;\n",
       "    }\n",
       "\n",
       "    .dataframe thead th {\n",
       "        text-align: right;\n",
       "    }\n",
       "</style>\n",
       "<table border=\"1\" class=\"dataframe\">\n",
       "  <thead>\n",
       "    <tr style=\"text-align: right;\">\n",
       "      <th></th>\n",
       "      <th>date</th>\n",
       "      <th>final.output.concentrate_ag</th>\n",
       "      <th>final.output.concentrate_pb</th>\n",
       "      <th>final.output.concentrate_sol</th>\n",
       "      <th>final.output.concentrate_au</th>\n",
       "      <th>final.output.recovery</th>\n",
       "      <th>final.output.tail_ag</th>\n",
       "      <th>final.output.tail_pb</th>\n",
       "      <th>final.output.tail_sol</th>\n",
       "      <th>final.output.tail_au</th>\n",
       "      <th>...</th>\n",
       "      <th>secondary_cleaner.state.floatbank4_a_air</th>\n",
       "      <th>secondary_cleaner.state.floatbank4_a_level</th>\n",
       "      <th>secondary_cleaner.state.floatbank4_b_air</th>\n",
       "      <th>secondary_cleaner.state.floatbank4_b_level</th>\n",
       "      <th>secondary_cleaner.state.floatbank5_a_air</th>\n",
       "      <th>secondary_cleaner.state.floatbank5_a_level</th>\n",
       "      <th>secondary_cleaner.state.floatbank5_b_air</th>\n",
       "      <th>secondary_cleaner.state.floatbank5_b_level</th>\n",
       "      <th>secondary_cleaner.state.floatbank6_a_air</th>\n",
       "      <th>secondary_cleaner.state.floatbank6_a_level</th>\n",
       "    </tr>\n",
       "  </thead>\n",
       "  <tbody>\n",
       "    <tr>\n",
       "      <th>0</th>\n",
       "      <td>2016-01-15 00:00:00</td>\n",
       "      <td>6.055403</td>\n",
       "      <td>9.889648</td>\n",
       "      <td>5.507324</td>\n",
       "      <td>42.192020</td>\n",
       "      <td>70.541216</td>\n",
       "      <td>10.411962</td>\n",
       "      <td>0.895447</td>\n",
       "      <td>16.904297</td>\n",
       "      <td>2.143149</td>\n",
       "      <td>...</td>\n",
       "      <td>14.016835</td>\n",
       "      <td>-502.488007</td>\n",
       "      <td>12.099931</td>\n",
       "      <td>-504.715942</td>\n",
       "      <td>9.925633</td>\n",
       "      <td>-498.310211</td>\n",
       "      <td>8.079666</td>\n",
       "      <td>-500.470978</td>\n",
       "      <td>14.151341</td>\n",
       "      <td>-605.841980</td>\n",
       "    </tr>\n",
       "    <tr>\n",
       "      <th>1</th>\n",
       "      <td>2016-01-15 01:00:00</td>\n",
       "      <td>6.029369</td>\n",
       "      <td>9.968944</td>\n",
       "      <td>5.257781</td>\n",
       "      <td>42.701629</td>\n",
       "      <td>69.266198</td>\n",
       "      <td>10.462676</td>\n",
       "      <td>0.927452</td>\n",
       "      <td>16.634514</td>\n",
       "      <td>2.224930</td>\n",
       "      <td>...</td>\n",
       "      <td>13.992281</td>\n",
       "      <td>-505.503262</td>\n",
       "      <td>11.950531</td>\n",
       "      <td>-501.331529</td>\n",
       "      <td>10.039245</td>\n",
       "      <td>-500.169983</td>\n",
       "      <td>7.984757</td>\n",
       "      <td>-500.582168</td>\n",
       "      <td>13.998353</td>\n",
       "      <td>-599.787184</td>\n",
       "    </tr>\n",
       "    <tr>\n",
       "      <th>2</th>\n",
       "      <td>2016-01-15 02:00:00</td>\n",
       "      <td>6.055926</td>\n",
       "      <td>10.213995</td>\n",
       "      <td>5.383759</td>\n",
       "      <td>42.657501</td>\n",
       "      <td>68.116445</td>\n",
       "      <td>10.507046</td>\n",
       "      <td>0.953716</td>\n",
       "      <td>16.208849</td>\n",
       "      <td>2.257889</td>\n",
       "      <td>...</td>\n",
       "      <td>14.015015</td>\n",
       "      <td>-502.520901</td>\n",
       "      <td>11.912783</td>\n",
       "      <td>-501.133383</td>\n",
       "      <td>10.070913</td>\n",
       "      <td>-500.129135</td>\n",
       "      <td>8.013877</td>\n",
       "      <td>-500.517572</td>\n",
       "      <td>14.028663</td>\n",
       "      <td>-601.427363</td>\n",
       "    </tr>\n",
       "    <tr>\n",
       "      <th>3</th>\n",
       "      <td>2016-01-15 03:00:00</td>\n",
       "      <td>6.047977</td>\n",
       "      <td>9.977019</td>\n",
       "      <td>4.858634</td>\n",
       "      <td>42.689819</td>\n",
       "      <td>68.347543</td>\n",
       "      <td>10.422762</td>\n",
       "      <td>0.883763</td>\n",
       "      <td>16.532835</td>\n",
       "      <td>2.146849</td>\n",
       "      <td>...</td>\n",
       "      <td>14.036510</td>\n",
       "      <td>-500.857308</td>\n",
       "      <td>11.999550</td>\n",
       "      <td>-501.193686</td>\n",
       "      <td>9.970366</td>\n",
       "      <td>-499.201640</td>\n",
       "      <td>7.977324</td>\n",
       "      <td>-500.255908</td>\n",
       "      <td>14.005551</td>\n",
       "      <td>-599.996129</td>\n",
       "    </tr>\n",
       "    <tr>\n",
       "      <th>4</th>\n",
       "      <td>2016-01-15 04:00:00</td>\n",
       "      <td>6.148599</td>\n",
       "      <td>10.142511</td>\n",
       "      <td>4.939416</td>\n",
       "      <td>42.774141</td>\n",
       "      <td>66.927016</td>\n",
       "      <td>10.360302</td>\n",
       "      <td>0.792826</td>\n",
       "      <td>16.525686</td>\n",
       "      <td>2.055292</td>\n",
       "      <td>...</td>\n",
       "      <td>14.027298</td>\n",
       "      <td>-499.838632</td>\n",
       "      <td>11.953070</td>\n",
       "      <td>-501.053894</td>\n",
       "      <td>9.925709</td>\n",
       "      <td>-501.686727</td>\n",
       "      <td>7.894242</td>\n",
       "      <td>-500.356035</td>\n",
       "      <td>13.996647</td>\n",
       "      <td>-601.496691</td>\n",
       "    </tr>\n",
       "  </tbody>\n",
       "</table>\n",
       "<p>5 rows × 87 columns</p>\n",
       "</div>"
      ],
      "text/plain": [
       "                  date  final.output.concentrate_ag  \\\n",
       "0  2016-01-15 00:00:00                     6.055403   \n",
       "1  2016-01-15 01:00:00                     6.029369   \n",
       "2  2016-01-15 02:00:00                     6.055926   \n",
       "3  2016-01-15 03:00:00                     6.047977   \n",
       "4  2016-01-15 04:00:00                     6.148599   \n",
       "\n",
       "   final.output.concentrate_pb  final.output.concentrate_sol  \\\n",
       "0                     9.889648                      5.507324   \n",
       "1                     9.968944                      5.257781   \n",
       "2                    10.213995                      5.383759   \n",
       "3                     9.977019                      4.858634   \n",
       "4                    10.142511                      4.939416   \n",
       "\n",
       "   final.output.concentrate_au  final.output.recovery  final.output.tail_ag  \\\n",
       "0                    42.192020              70.541216             10.411962   \n",
       "1                    42.701629              69.266198             10.462676   \n",
       "2                    42.657501              68.116445             10.507046   \n",
       "3                    42.689819              68.347543             10.422762   \n",
       "4                    42.774141              66.927016             10.360302   \n",
       "\n",
       "   final.output.tail_pb  final.output.tail_sol  final.output.tail_au  ...  \\\n",
       "0              0.895447              16.904297              2.143149  ...   \n",
       "1              0.927452              16.634514              2.224930  ...   \n",
       "2              0.953716              16.208849              2.257889  ...   \n",
       "3              0.883763              16.532835              2.146849  ...   \n",
       "4              0.792826              16.525686              2.055292  ...   \n",
       "\n",
       "   secondary_cleaner.state.floatbank4_a_air  \\\n",
       "0                                 14.016835   \n",
       "1                                 13.992281   \n",
       "2                                 14.015015   \n",
       "3                                 14.036510   \n",
       "4                                 14.027298   \n",
       "\n",
       "   secondary_cleaner.state.floatbank4_a_level  \\\n",
       "0                                 -502.488007   \n",
       "1                                 -505.503262   \n",
       "2                                 -502.520901   \n",
       "3                                 -500.857308   \n",
       "4                                 -499.838632   \n",
       "\n",
       "   secondary_cleaner.state.floatbank4_b_air  \\\n",
       "0                                 12.099931   \n",
       "1                                 11.950531   \n",
       "2                                 11.912783   \n",
       "3                                 11.999550   \n",
       "4                                 11.953070   \n",
       "\n",
       "   secondary_cleaner.state.floatbank4_b_level  \\\n",
       "0                                 -504.715942   \n",
       "1                                 -501.331529   \n",
       "2                                 -501.133383   \n",
       "3                                 -501.193686   \n",
       "4                                 -501.053894   \n",
       "\n",
       "   secondary_cleaner.state.floatbank5_a_air  \\\n",
       "0                                  9.925633   \n",
       "1                                 10.039245   \n",
       "2                                 10.070913   \n",
       "3                                  9.970366   \n",
       "4                                  9.925709   \n",
       "\n",
       "   secondary_cleaner.state.floatbank5_a_level  \\\n",
       "0                                 -498.310211   \n",
       "1                                 -500.169983   \n",
       "2                                 -500.129135   \n",
       "3                                 -499.201640   \n",
       "4                                 -501.686727   \n",
       "\n",
       "   secondary_cleaner.state.floatbank5_b_air  \\\n",
       "0                                  8.079666   \n",
       "1                                  7.984757   \n",
       "2                                  8.013877   \n",
       "3                                  7.977324   \n",
       "4                                  7.894242   \n",
       "\n",
       "   secondary_cleaner.state.floatbank5_b_level  \\\n",
       "0                                 -500.470978   \n",
       "1                                 -500.582168   \n",
       "2                                 -500.517572   \n",
       "3                                 -500.255908   \n",
       "4                                 -500.356035   \n",
       "\n",
       "   secondary_cleaner.state.floatbank6_a_air  \\\n",
       "0                                 14.151341   \n",
       "1                                 13.998353   \n",
       "2                                 14.028663   \n",
       "3                                 14.005551   \n",
       "4                                 13.996647   \n",
       "\n",
       "   secondary_cleaner.state.floatbank6_a_level  \n",
       "0                                 -605.841980  \n",
       "1                                 -599.787184  \n",
       "2                                 -601.427363  \n",
       "3                                 -599.996129  \n",
       "4                                 -601.496691  \n",
       "\n",
       "[5 rows x 87 columns]"
      ]
     },
     "metadata": {},
     "output_type": "display_data"
    }
   ],
   "source": [
    "display(data_train.head())\n",
    "display(data_test.head())\n",
    "display(data_full.head())"
   ]
  },
  {
   "cell_type": "code",
   "execution_count": 4,
   "metadata": {},
   "outputs": [
    {
     "name": "stdout",
     "output_type": "stream",
     "text": [
      "<class 'pandas.core.frame.DataFrame'>\n",
      "RangeIndex: 14149 entries, 0 to 14148\n",
      "Data columns (total 87 columns):\n",
      " #   Column                                              Non-Null Count  Dtype  \n",
      "---  ------                                              --------------  -----  \n",
      " 0   date                                                14149 non-null  object \n",
      " 1   final.output.concentrate_ag                         14148 non-null  float64\n",
      " 2   final.output.concentrate_pb                         14148 non-null  float64\n",
      " 3   final.output.concentrate_sol                        13938 non-null  float64\n",
      " 4   final.output.concentrate_au                         14149 non-null  float64\n",
      " 5   final.output.recovery                               14149 non-null  float64\n",
      " 6   final.output.tail_ag                                14149 non-null  float64\n",
      " 7   final.output.tail_pb                                14049 non-null  float64\n",
      " 8   final.output.tail_sol                               14144 non-null  float64\n",
      " 9   final.output.tail_au                                14149 non-null  float64\n",
      " 10  primary_cleaner.input.sulfate                       14129 non-null  float64\n",
      " 11  primary_cleaner.input.depressant                    14117 non-null  float64\n",
      " 12  primary_cleaner.input.feed_size                     14149 non-null  float64\n",
      " 13  primary_cleaner.input.xanthate                      14049 non-null  float64\n",
      " 14  primary_cleaner.output.concentrate_ag               14149 non-null  float64\n",
      " 15  primary_cleaner.output.concentrate_pb               14063 non-null  float64\n",
      " 16  primary_cleaner.output.concentrate_sol              13863 non-null  float64\n",
      " 17  primary_cleaner.output.concentrate_au               14149 non-null  float64\n",
      " 18  primary_cleaner.output.tail_ag                      14148 non-null  float64\n",
      " 19  primary_cleaner.output.tail_pb                      14134 non-null  float64\n",
      " 20  primary_cleaner.output.tail_sol                     14103 non-null  float64\n",
      " 21  primary_cleaner.output.tail_au                      14149 non-null  float64\n",
      " 22  primary_cleaner.state.floatbank8_a_air              14145 non-null  float64\n",
      " 23  primary_cleaner.state.floatbank8_a_level            14148 non-null  float64\n",
      " 24  primary_cleaner.state.floatbank8_b_air              14145 non-null  float64\n",
      " 25  primary_cleaner.state.floatbank8_b_level            14148 non-null  float64\n",
      " 26  primary_cleaner.state.floatbank8_c_air              14147 non-null  float64\n",
      " 27  primary_cleaner.state.floatbank8_c_level            14148 non-null  float64\n",
      " 28  primary_cleaner.state.floatbank8_d_air              14146 non-null  float64\n",
      " 29  primary_cleaner.state.floatbank8_d_level            14148 non-null  float64\n",
      " 30  rougher.calculation.sulfate_to_au_concentrate       14148 non-null  float64\n",
      " 31  rougher.calculation.floatbank10_sulfate_to_au_feed  14148 non-null  float64\n",
      " 32  rougher.calculation.floatbank11_sulfate_to_au_feed  14148 non-null  float64\n",
      " 33  rougher.calculation.au_pb_ratio                     14149 non-null  float64\n",
      " 34  rougher.input.feed_ag                               14149 non-null  float64\n",
      " 35  rougher.input.feed_pb                               14049 non-null  float64\n",
      " 36  rougher.input.feed_rate                             14141 non-null  float64\n",
      " 37  rougher.input.feed_size                             14005 non-null  float64\n",
      " 38  rougher.input.feed_sol                              14071 non-null  float64\n",
      " 39  rougher.input.feed_au                               14149 non-null  float64\n",
      " 40  rougher.input.floatbank10_sulfate                   14120 non-null  float64\n",
      " 41  rougher.input.floatbank10_xanthate                  14141 non-null  float64\n",
      " 42  rougher.input.floatbank11_sulfate                   14113 non-null  float64\n",
      " 43  rougher.input.floatbank11_xanthate                  13721 non-null  float64\n",
      " 44  rougher.output.concentrate_ag                       14149 non-null  float64\n",
      " 45  rougher.output.concentrate_pb                       14149 non-null  float64\n",
      " 46  rougher.output.concentrate_sol                      14127 non-null  float64\n",
      " 47  rougher.output.concentrate_au                       14149 non-null  float64\n",
      " 48  rougher.output.recovery                             14149 non-null  float64\n",
      " 49  rougher.output.tail_ag                              14148 non-null  float64\n",
      " 50  rougher.output.tail_pb                              14149 non-null  float64\n",
      " 51  rougher.output.tail_sol                             14149 non-null  float64\n",
      " 52  rougher.output.tail_au                              14149 non-null  float64\n",
      " 53  rougher.state.floatbank10_a_air                     14148 non-null  float64\n",
      " 54  rougher.state.floatbank10_a_level                   14148 non-null  float64\n",
      " 55  rougher.state.floatbank10_b_air                     14148 non-null  float64\n",
      " 56  rougher.state.floatbank10_b_level                   14148 non-null  float64\n",
      " 57  rougher.state.floatbank10_c_air                     14148 non-null  float64\n",
      " 58  rougher.state.floatbank10_c_level                   14148 non-null  float64\n",
      " 59  rougher.state.floatbank10_d_air                     14149 non-null  float64\n",
      " 60  rougher.state.floatbank10_d_level                   14149 non-null  float64\n",
      " 61  rougher.state.floatbank10_e_air                     13713 non-null  float64\n",
      " 62  rougher.state.floatbank10_e_level                   14149 non-null  float64\n",
      " 63  rougher.state.floatbank10_f_air                     14149 non-null  float64\n",
      " 64  rougher.state.floatbank10_f_level                   14149 non-null  float64\n",
      " 65  secondary_cleaner.output.tail_ag                    14147 non-null  float64\n",
      " 66  secondary_cleaner.output.tail_pb                    14139 non-null  float64\n",
      " 67  secondary_cleaner.output.tail_sol                   12544 non-null  float64\n",
      " 68  secondary_cleaner.output.tail_au                    14149 non-null  float64\n",
      " 69  secondary_cleaner.state.floatbank2_a_air            13932 non-null  float64\n",
      " 70  secondary_cleaner.state.floatbank2_a_level          14148 non-null  float64\n",
      " 71  secondary_cleaner.state.floatbank2_b_air            14128 non-null  float64\n",
      " 72  secondary_cleaner.state.floatbank2_b_level          14148 non-null  float64\n",
      " 73  secondary_cleaner.state.floatbank3_a_air            14145 non-null  float64\n",
      " 74  secondary_cleaner.state.floatbank3_a_level          14148 non-null  float64\n",
      " 75  secondary_cleaner.state.floatbank3_b_air            14148 non-null  float64\n",
      " 76  secondary_cleaner.state.floatbank3_b_level          14148 non-null  float64\n",
      " 77  secondary_cleaner.state.floatbank4_a_air            14143 non-null  float64\n",
      " 78  secondary_cleaner.state.floatbank4_a_level          14148 non-null  float64\n",
      " 79  secondary_cleaner.state.floatbank4_b_air            14148 non-null  float64\n",
      " 80  secondary_cleaner.state.floatbank4_b_level          14148 non-null  float64\n",
      " 81  secondary_cleaner.state.floatbank5_a_air            14148 non-null  float64\n",
      " 82  secondary_cleaner.state.floatbank5_a_level          14148 non-null  float64\n",
      " 83  secondary_cleaner.state.floatbank5_b_air            14148 non-null  float64\n",
      " 84  secondary_cleaner.state.floatbank5_b_level          14148 non-null  float64\n",
      " 85  secondary_cleaner.state.floatbank6_a_air            14147 non-null  float64\n",
      " 86  secondary_cleaner.state.floatbank6_a_level          14148 non-null  float64\n",
      "dtypes: float64(86), object(1)\n",
      "memory usage: 9.4+ MB\n"
     ]
    }
   ],
   "source": [
    "data_train.info()"
   ]
  },
  {
   "cell_type": "markdown",
   "metadata": {},
   "source": [
    "Проверка эффективности обогащения / Enrichment efficiency check:"
   ]
  },
  {
   "cell_type": "code",
   "execution_count": 5,
   "metadata": {},
   "outputs": [],
   "source": [
    "C = data_train['rougher.output.concentrate_au']\n",
    "F = data_train['rougher.input.feed_au']\n",
    "T = data_train['rougher.output.tail_au']"
   ]
  },
  {
   "cell_type": "code",
   "execution_count": 6,
   "metadata": {},
   "outputs": [
    {
     "name": "stdout",
     "output_type": "stream",
     "text": [
      "0    87.107763\n",
      "1    86.843261\n",
      "2    86.842308\n",
      "3    87.226430\n",
      "4    86.688794\n",
      "Name: rougher.output.recovery, dtype: float64\n",
      "0    87.107763\n",
      "1    86.843261\n",
      "2    86.842308\n",
      "3    87.226430\n",
      "4    86.688794\n",
      "Name: rougher.output.recovery_new, dtype: float64\n"
     ]
    }
   ],
   "source": [
    "data_train['rougher.output.recovery']\n",
    "data_train['rougher.output.recovery_new'] = (C*(F-T))*100/(F*(C-T))\n",
    "print(data_train['rougher.output.recovery'].head())\n",
    "print(data_train['rougher.output.recovery_new'].head())"
   ]
  },
  {
   "cell_type": "markdown",
   "metadata": {},
   "source": [
    "Найдем MAE между расчётами и значением признака / Let's find the MAE between the calculations and the attribute value:"
   ]
  },
  {
   "cell_type": "code",
   "execution_count": 7,
   "metadata": {},
   "outputs": [
    {
     "name": "stdout",
     "output_type": "stream",
     "text": [
      "1.1126931511934794e-14\n"
     ]
    }
   ],
   "source": [
    "mae = mean_absolute_error(data_train['rougher.output.recovery'], data_train['rougher.output.recovery_new'])\n",
    "print(mae)"
   ]
  },
  {
   "cell_type": "markdown",
   "metadata": {},
   "source": [
    "Получили маленькое значение MAE, эффективность обогащения рассчитана правильно.\n",
    "\n",
    "We obtained a small MAE value, the enrichment efficiency was calculated correctly."
   ]
  },
  {
   "cell_type": "code",
   "execution_count": 8,
   "metadata": {},
   "outputs": [
    {
     "name": "stdout",
     "output_type": "stream",
     "text": [
      "<class 'pandas.core.frame.DataFrame'>\n",
      "RangeIndex: 5290 entries, 0 to 5289\n",
      "Data columns (total 53 columns):\n",
      " #   Column                                      Non-Null Count  Dtype  \n",
      "---  ------                                      --------------  -----  \n",
      " 0   date                                        5290 non-null   object \n",
      " 1   primary_cleaner.input.sulfate               5286 non-null   float64\n",
      " 2   primary_cleaner.input.depressant            5285 non-null   float64\n",
      " 3   primary_cleaner.input.feed_size             5290 non-null   float64\n",
      " 4   primary_cleaner.input.xanthate              5286 non-null   float64\n",
      " 5   primary_cleaner.state.floatbank8_a_air      5290 non-null   float64\n",
      " 6   primary_cleaner.state.floatbank8_a_level    5290 non-null   float64\n",
      " 7   primary_cleaner.state.floatbank8_b_air      5290 non-null   float64\n",
      " 8   primary_cleaner.state.floatbank8_b_level    5290 non-null   float64\n",
      " 9   primary_cleaner.state.floatbank8_c_air      5290 non-null   float64\n",
      " 10  primary_cleaner.state.floatbank8_c_level    5290 non-null   float64\n",
      " 11  primary_cleaner.state.floatbank8_d_air      5290 non-null   float64\n",
      " 12  primary_cleaner.state.floatbank8_d_level    5290 non-null   float64\n",
      " 13  rougher.input.feed_ag                       5290 non-null   float64\n",
      " 14  rougher.input.feed_pb                       5290 non-null   float64\n",
      " 15  rougher.input.feed_rate                     5287 non-null   float64\n",
      " 16  rougher.input.feed_size                     5289 non-null   float64\n",
      " 17  rougher.input.feed_sol                      5269 non-null   float64\n",
      " 18  rougher.input.feed_au                       5290 non-null   float64\n",
      " 19  rougher.input.floatbank10_sulfate           5285 non-null   float64\n",
      " 20  rougher.input.floatbank10_xanthate          5290 non-null   float64\n",
      " 21  rougher.input.floatbank11_sulfate           5282 non-null   float64\n",
      " 22  rougher.input.floatbank11_xanthate          5265 non-null   float64\n",
      " 23  rougher.state.floatbank10_a_air             5290 non-null   float64\n",
      " 24  rougher.state.floatbank10_a_level           5290 non-null   float64\n",
      " 25  rougher.state.floatbank10_b_air             5290 non-null   float64\n",
      " 26  rougher.state.floatbank10_b_level           5290 non-null   float64\n",
      " 27  rougher.state.floatbank10_c_air             5290 non-null   float64\n",
      " 28  rougher.state.floatbank10_c_level           5290 non-null   float64\n",
      " 29  rougher.state.floatbank10_d_air             5290 non-null   float64\n",
      " 30  rougher.state.floatbank10_d_level           5290 non-null   float64\n",
      " 31  rougher.state.floatbank10_e_air             5290 non-null   float64\n",
      " 32  rougher.state.floatbank10_e_level           5290 non-null   float64\n",
      " 33  rougher.state.floatbank10_f_air             5290 non-null   float64\n",
      " 34  rougher.state.floatbank10_f_level           5290 non-null   float64\n",
      " 35  secondary_cleaner.state.floatbank2_a_air    5287 non-null   float64\n",
      " 36  secondary_cleaner.state.floatbank2_a_level  5290 non-null   float64\n",
      " 37  secondary_cleaner.state.floatbank2_b_air    5288 non-null   float64\n",
      " 38  secondary_cleaner.state.floatbank2_b_level  5290 non-null   float64\n",
      " 39  secondary_cleaner.state.floatbank3_a_air    5281 non-null   float64\n",
      " 40  secondary_cleaner.state.floatbank3_a_level  5290 non-null   float64\n",
      " 41  secondary_cleaner.state.floatbank3_b_air    5290 non-null   float64\n",
      " 42  secondary_cleaner.state.floatbank3_b_level  5290 non-null   float64\n",
      " 43  secondary_cleaner.state.floatbank4_a_air    5290 non-null   float64\n",
      " 44  secondary_cleaner.state.floatbank4_a_level  5290 non-null   float64\n",
      " 45  secondary_cleaner.state.floatbank4_b_air    5290 non-null   float64\n",
      " 46  secondary_cleaner.state.floatbank4_b_level  5290 non-null   float64\n",
      " 47  secondary_cleaner.state.floatbank5_a_air    5290 non-null   float64\n",
      " 48  secondary_cleaner.state.floatbank5_a_level  5290 non-null   float64\n",
      " 49  secondary_cleaner.state.floatbank5_b_air    5290 non-null   float64\n",
      " 50  secondary_cleaner.state.floatbank5_b_level  5290 non-null   float64\n",
      " 51  secondary_cleaner.state.floatbank6_a_air    5290 non-null   float64\n",
      " 52  secondary_cleaner.state.floatbank6_a_level  5290 non-null   float64\n",
      "dtypes: float64(52), object(1)\n",
      "memory usage: 2.1+ MB\n"
     ]
    }
   ],
   "source": [
    "data_test.info()"
   ]
  },
  {
   "cell_type": "markdown",
   "metadata": {},
   "source": [
    "Признаки, недоступные в тестовой выборке: final, primary_cleaner.output, rougher.calculation, rougher.output, secondary_cleaner.output.\n",
    "\n",
    "Типы признаков, недоступные в тестовой выборке: output(параметры продукта), calculation(расчётные характеристики).\n",
    "\n",
    "\n",
    "Features not available in the test set: final, primary_cleaner.output, rougher.calculation, rougher.output, secondary_cleaner.output.\n",
    "\n",
    "Types of features not available in the test sample: output (product parameters), calculation (calculated characteristics)."
   ]
  },
  {
   "cell_type": "markdown",
   "metadata": {},
   "source": [
    "Предобработка данных / Data preprocessing:"
   ]
  },
  {
   "cell_type": "markdown",
   "metadata": {},
   "source": [
    "Данных с пропусками немного, удалим их / There is not much data with gaps, let’s delete them:"
   ]
  },
  {
   "cell_type": "code",
   "execution_count": 9,
   "metadata": {},
   "outputs": [],
   "source": [
    "data_train = data_train.dropna()\n",
    "data_test = data_test.dropna()"
   ]
  },
  {
   "cell_type": "markdown",
   "metadata": {},
   "source": [
    "## Анализ данных / Data analysis"
   ]
  },
  {
   "cell_type": "markdown",
   "metadata": {},
   "source": [
    "Изменение концентрации металлов (Au, Ag, Pb) на различных этапах очистки.\n",
    "\n",
    "Changes in the concentration of metals (Au, Ag, Pb) at various stages of purification:"
   ]
  },
  {
   "cell_type": "code",
   "execution_count": 10,
   "metadata": {},
   "outputs": [],
   "source": [
    "list_au = ['rougher.input.feed_au', 'rougher.output.concentrate_au', 'primary_cleaner.output.concentrate_au', 'final.output.concentrate_au']\n",
    "list_ag =['rougher.input.feed_ag', 'rougher.output.concentrate_ag', 'primary_cleaner.output.concentrate_ag', 'final.output.concentrate_ag']\n",
    "list_pb = ['rougher.input.feed_pb', 'rougher.output.concentrate_pb', 'primary_cleaner.output.concentrate_pb', 'final.output.concentrate_pb']"
   ]
  },
  {
   "cell_type": "code",
   "execution_count": 11,
   "metadata": {},
   "outputs": [
    {
     "name": "stdout",
     "output_type": "stream",
     "text": [
      "au:\n",
      "7.865763364331222\n",
      "20.262236852091192\n",
      "33.01723200164281\n",
      "44.80219604107204\n"
     ]
    }
   ],
   "source": [
    "print('au:')\n",
    "for index in list_au:\n",
    "    print(data_train[index].median())"
   ]
  },
  {
   "cell_type": "code",
   "execution_count": 12,
   "metadata": {},
   "outputs": [
    {
     "name": "stdout",
     "output_type": "stream",
     "text": [
      "ag:\n",
      "8.366434185592068\n",
      "11.797794105273088\n",
      "8.436412262281637\n",
      "4.9993143840340295\n"
     ]
    }
   ],
   "source": [
    "print('ag:')\n",
    "for index in list_ag:\n",
    "    print(data_train[index].median())"
   ]
  },
  {
   "cell_type": "code",
   "execution_count": 13,
   "metadata": {},
   "outputs": [
    {
     "name": "stdout",
     "output_type": "stream",
     "text": [
      "pb:\n",
      "3.444286957581838\n",
      "7.7086928677558895\n",
      "9.919856388833788\n",
      "10.347530399693383\n"
     ]
    }
   ],
   "source": [
    "print('pb:')\n",
    "for index in list_pb:\n",
    "    print(data_train[index].median())"
   ]
  },
  {
   "cell_type": "markdown",
   "metadata": {},
   "source": [
    "Концентрация металлов Au и Pb увеличиваются с каждым этапом очистки.\n",
    "\n",
    "Концентрация металла Ag уменьшается после этапа флотации.\n",
    "\n",
    "The concentration of Au and Pb metals increases with each purification step.\n",
    "\n",
    "The concentration of Ag metal decreases after the flotation step."
   ]
  },
  {
   "cell_type": "markdown",
   "metadata": {},
   "source": [
    "Сравним распределения размеров гранул сырья на обучающей и тестовой выборках:\n",
    "\n",
    "Let's compare the size distributions of raw material granules on the training and test samples:"
   ]
  },
  {
   "cell_type": "code",
   "execution_count": 14,
   "metadata": {},
   "outputs": [
    {
     "name": "stdout",
     "output_type": "stream",
     "text": [
      "Cреднее: 57.215127655531205\n",
      "95%-ый доверительный интервал: (56.86192178994681, 57.5683335211156)\n"
     ]
    }
   ],
   "source": [
    "print(\"Cреднее:\", data_train['rougher.input.feed_size'].mean())\n",
    "\n",
    "confidence_interval = st.t.interval(0.95, len(data_train['rougher.input.feed_size'])-1, data_train['rougher.input.feed_size'].mean(), data_train['rougher.input.feed_size'].sem())\n",
    "\n",
    "print(\"95%-ый доверительный интервал:\", confidence_interval)"
   ]
  },
  {
   "cell_type": "code",
   "execution_count": 15,
   "metadata": {},
   "outputs": [
    {
     "name": "stdout",
     "output_type": "stream",
     "text": [
      "Cреднее: 55.863978102550966\n",
      "95%-ый доверительный интервал: (55.35119018447311, 56.37676602062882)\n"
     ]
    }
   ],
   "source": [
    "print(\"Cреднее:\", data_test['rougher.input.feed_size'].mean())\n",
    "\n",
    "confidence_interval = st.t.interval(0.95, len(data_test['rougher.input.feed_size'])-1, data_test['rougher.input.feed_size'].mean(), data_test['rougher.input.feed_size'].sem())\n",
    "\n",
    "print(\"95%-ый доверительный интервал:\", confidence_interval)"
   ]
  },
  {
   "cell_type": "markdown",
   "metadata": {},
   "source": [
    "Распределения не сильно отличаются друг от друга, оценка модели будет правильной.\n",
    "\n",
    "The distributions are not very different from each other, the model estimate will be correct."
   ]
  },
  {
   "cell_type": "markdown",
   "metadata": {},
   "source": [
    "Исследование суммарной концентрации всех веществ на разных стадиях: \n",
    "\n",
    "Study of the total concentration of all substances at different stages:"
   ]
  },
  {
   "cell_type": "markdown",
   "metadata": {},
   "source": [
    "В сырье / In raw materials:"
   ]
  },
  {
   "cell_type": "code",
   "execution_count": 16,
   "metadata": {},
   "outputs": [
    {
     "name": "stdout",
     "output_type": "stream",
     "text": [
      "57.20814122736182\n"
     ]
    }
   ],
   "source": [
    "data_train['input_sum'] = data_train['rougher.input.feed_sol']+data_train['rougher.input.feed_ag']+data_train['rougher.input.feed_pb']+data_train['rougher.input.feed_au']\n",
    "print(data_train['input_sum'].median())"
   ]
  },
  {
   "cell_type": "markdown",
   "metadata": {},
   "source": [
    "В черновом концентрате / In rough concentrate:"
   ]
  },
  {
   "cell_type": "code",
   "execution_count": 17,
   "metadata": {},
   "outputs": [
    {
     "name": "stdout",
     "output_type": "stream",
     "text": [
      "69.7014094629393\n"
     ]
    }
   ],
   "source": [
    "data_train['rougher_sum'] = data_train['rougher.output.concentrate_sol']+data_train['rougher.output.concentrate_ag']+data_train['rougher.output.concentrate_pb']+data_train['rougher.output.concentrate_au']\n",
    "print(data_train['rougher_sum'].median())"
   ]
  },
  {
   "cell_type": "markdown",
   "metadata": {},
   "source": [
    "В финальном концентрате / In the final concentrate:"
   ]
  },
  {
   "cell_type": "code",
   "execution_count": 18,
   "metadata": {},
   "outputs": [
    {
     "name": "stdout",
     "output_type": "stream",
     "text": [
      "69.46071463019544\n"
     ]
    }
   ],
   "source": [
    "data_train['final_sum'] = data_train['final.output.concentrate_sol']+data_train['final.output.concentrate_ag']+data_train['final.output.concentrate_pb']+data_train['final.output.concentrate_au']\n",
    "print(data_train['final_sum'].median())"
   ]
  },
  {
   "cell_type": "code",
   "execution_count": 19,
   "metadata": {},
   "outputs": [
    {
     "data": {
      "text/plain": [
       "Text(0, 0.5, 'amount')"
      ]
     },
     "execution_count": 19,
     "metadata": {},
     "output_type": "execute_result"
    },
    {
     "data": {
      "image/png": "[encoded data removed]",
      "text/plain": [
       "<Figure size 640x480 with 1 Axes>"
      ]
     },
     "metadata": {},
     "output_type": "display_data"
    }
   ],
   "source": [
    "plt.hist(data_train['input_sum'])\n",
    "plt.xlabel('input_sum')\n",
    "plt.ylabel('amount')"
   ]
  },
  {
   "cell_type": "code",
   "execution_count": 20,
   "metadata": {},
   "outputs": [
    {
     "data": {
      "text/plain": [
       "Text(0, 0.5, 'amount')"
      ]
     },
     "execution_count": 20,
     "metadata": {},
     "output_type": "execute_result"
    },
    {
     "data": {
      "image/png": "[encoded data removed]",
      "text/plain": [
       "<Figure size 640x480 with 1 Axes>"
      ]
     },
     "metadata": {},
     "output_type": "display_data"
    }
   ],
   "source": [
    "plt.hist(data_train['rougher_sum'])\n",
    "plt.xlabel('rougher_sum')\n",
    "plt.ylabel('amount')"
   ]
  },
  {
   "cell_type": "code",
   "execution_count": 21,
   "metadata": {},
   "outputs": [
    {
     "data": {
      "text/plain": [
       "Text(0, 0.5, 'amount')"
      ]
     },
     "execution_count": 21,
     "metadata": {},
     "output_type": "execute_result"
    },
    {
     "data": {
      "image/png": "[encoded data removed]",
      "text/plain": [
       "<Figure size 640x480 with 1 Axes>"
      ]
     },
     "metadata": {},
     "output_type": "display_data"
    }
   ],
   "source": [
    "plt.hist(data_train['final_sum'])\n",
    "plt.xlabel('final_sum')\n",
    "plt.ylabel('amount')"
   ]
  },
  {
   "cell_type": "markdown",
   "metadata": {},
   "source": [
    "Наибольшую суммарную концентрацию получили в финальном концентрате.\n",
    "На графике распределений суммарных концентраций в черновом концентрате наблюдаются выбросы.\n",
    "\n",
    "The highest total concentration was obtained in the final concentrate.\n",
    "Outliers are observed on the graph of distributions of total concentrations in rough concentrate."
   ]
  },
  {
   "cell_type": "code",
   "execution_count": 22,
   "metadata": {},
   "outputs": [],
   "source": [
    "data_train = data_train[(data_train['final_sum']>10) | (data_train['rougher_sum']>10) | (data_train['input_sum']>10)]"
   ]
  },
  {
   "cell_type": "markdown",
   "metadata": {},
   "source": [
    "## Модель / Model"
   ]
  },
  {
   "cell_type": "markdown",
   "metadata": {},
   "source": [
    "Функция для вычисления итогового sMAPE / Function to calculate the final sMAPE:"
   ]
  },
  {
   "cell_type": "code",
   "execution_count": 23,
   "metadata": {},
   "outputs": [],
   "source": [
    "def smape(A, F):\n",
    "    A = np.array(A)\n",
    "    F = np.array(F)\n",
    "    return 100/len(A) * np.sum(2 * np.abs(F - A) / (np.abs(A) + np.abs(F)))"
   ]
  },
  {
   "cell_type": "code",
   "execution_count": 24,
   "metadata": {},
   "outputs": [],
   "source": [
    "def final_smape(smape_rougher, smape_final):\n",
    "    return 0.25*smape_rougher+0.75*smape_final"
   ]
  },
  {
   "cell_type": "markdown",
   "metadata": {},
   "source": [
    "Выбираем в обучающей выборке те же признаки, что и в тестовой выборке. Делим обучающую выборку на features и target:\n",
    "\n",
    "We select the same features in the training set as in the test set. We divide the training sample into features and target:"
   ]
  },
  {
   "cell_type": "code",
   "execution_count": 25,
   "metadata": {},
   "outputs": [],
   "source": [
    "list = []\n",
    "list = data_test.columns\n",
    "data_target_train_rougher = data_train['rougher.output.recovery']\n",
    "data_target_train_final = data_train['final.output.recovery']\n",
    "data_features_train = data_train.iloc[:, data_train.columns.isin(list)]\n",
    "data_features_train = data_features_train.drop('date', axis = 1)"
   ]
  },
  {
   "cell_type": "code",
   "execution_count": 26,
   "metadata": {},
   "outputs": [],
   "source": [
    "pd.options.mode.chained_assignment = None\n",
    "scaler = StandardScaler()\n",
    "scaler.fit(data_features_train)\n",
    "data_features_train = scaler.transform(data_features_train)"
   ]
  },
  {
   "cell_type": "markdown",
   "metadata": {},
   "source": [
    "Линейная регрессия, обучили на data_features_train, data_target_train_rougher:\n",
    "\n",
    "Linear regression, trained on data_features_train, data_target_train_rougher:"
   ]
  },
  {
   "cell_type": "code",
   "execution_count": 27,
   "metadata": {},
   "outputs": [],
   "source": [
    "from sklearn.metrics import make_scorer"
   ]
  },
  {
   "cell_type": "code",
   "execution_count": 28,
   "metadata": {},
   "outputs": [
    {
     "name": "stdout",
     "output_type": "stream",
     "text": [
      "Средняя оценка качества модели: 11.889852838831795\n"
     ]
    }
   ],
   "source": [
    "model_regression_rougher = LinearRegression()\n",
    "model_regression_rougher.fit(data_features_train, data_target_train_rougher)\n",
    "metrics = make_scorer(score_func = smape, greater_is_better = True)\n",
    "scores = cross_val_score(model_regression_rougher, data_features_train, data_target_train_rougher, scoring = metrics)\n",
    "final_score = sum(scores)/len(scores)\n",
    "dump(model_regression_rougher, 'model_9_1.joblib')\n",
    "print('Средняя оценка качества модели:', final_score)"
   ]
  },
  {
   "cell_type": "markdown",
   "metadata": {},
   "source": [
    "Линейная регрессия, обучили на data_features_train, data_target_train_final:\n",
    "\n",
    "Linear regression, trained on data_features_train, data_target_train_final:"
   ]
  },
  {
   "cell_type": "code",
   "execution_count": 29,
   "metadata": {},
   "outputs": [
    {
     "name": "stdout",
     "output_type": "stream",
     "text": [
      "Средняя оценка качества модели: 9.746097463456348\n"
     ]
    }
   ],
   "source": [
    "model_regression_final = LinearRegression()\n",
    "model_regression_final.fit(data_features_train, data_target_train_final)\n",
    "scores = cross_val_score(model_regression_final, data_features_train, data_target_train_final, scoring = metrics)\n",
    "final_score = sum(scores)/len(scores)\n",
    "dump(model_regression_final, 'model_9_1.joblib')\n",
    "print('Средняя оценка качества модели:', final_score)"
   ]
  },
  {
   "cell_type": "markdown",
   "metadata": {},
   "source": [
    "Случайный лес, обучили на data_features_train, data_target_train_rougher:\n",
    "\n",
    "Random forest, trained on data_features_train, data_target_train_rougher:"
   ]
  },
  {
   "cell_type": "code",
   "execution_count": 30,
   "metadata": {},
   "outputs": [
    {
     "name": "stdout",
     "output_type": "stream",
     "text": [
      "Средняя оценка качества модели: 10.89550628731119\n"
     ]
    }
   ],
   "source": [
    "best_model_forest_rougher = None\n",
    "best_result = 100\n",
    "for est in range(1, 3):\n",
    "    for depth in range (1, 3):\n",
    "        model_forest = RandomForestRegressor(random_state=12345, n_estimators=est, max_depth=depth)\n",
    "        model_forest.fit(data_features_train, data_target_train_rougher)\n",
    "        scores = cross_val_score(model_forest, data_features_train, data_target_train_rougher, scoring = metrics)\n",
    "        final_score = sum(scores)/len(scores)\n",
    "        if final_score < best_result:\n",
    "            best_model_forest_rougher = model_forest\n",
    "            best_result = final_score\n",
    "print(\"Средняя оценка качества модели:\", best_result)"
   ]
  },
  {
   "cell_type": "markdown",
   "metadata": {},
   "source": [
    "Случайный лес, обучили на data_features_train, data_target_train_final:\n",
    "\n",
    "Random forest, trained on data_features_train, data_target_train_final:"
   ]
  },
  {
   "cell_type": "code",
   "execution_count": 31,
   "metadata": {},
   "outputs": [
    {
     "name": "stdout",
     "output_type": "stream",
     "text": [
      "Средняя оценка качества модели: 8.724734946525471\n"
     ]
    }
   ],
   "source": [
    "best_model_forest_final = None\n",
    "best_result = 100\n",
    "for est in range(1, 3):\n",
    "    for depth in range (1, 3):\n",
    "        model_forest = RandomForestRegressor(random_state=12345, n_estimators=est, max_depth=depth)\n",
    "        model_forest.fit(data_features_train, data_target_train_final)\n",
    "        scores = cross_val_score(model_forest, data_features_train, data_target_train_final, scoring = metrics)\n",
    "        final_score = sum(scores)/len(scores)\n",
    "        if final_score < best_result:\n",
    "            best_model_forest_final = model_forest\n",
    "            best_result = final_score\n",
    "print(\"Средняя оценка качества модели:\", best_result)"
   ]
  },
  {
   "cell_type": "markdown",
   "metadata": {},
   "source": [
    "Лучшая модель: model_regression_final / Best model: model_regression_final"
   ]
  },
  {
   "cell_type": "markdown",
   "metadata": {},
   "source": [
    "Проверим модель на тестовой выборке: / Let's check the model on a test sample:"
   ]
  },
  {
   "cell_type": "markdown",
   "metadata": {},
   "source": [
    "target для тестовой выборки возьмем из data_full: / Let's take the target for the test sample from data_full:"
   ]
  },
  {
   "cell_type": "code",
   "execution_count": 32,
   "metadata": {},
   "outputs": [],
   "source": [
    "data_target_test_final = data_full.loc[:, ['date', 'final.output.recovery']]\n",
    "data_target_test_rougher = data_full.loc[:, ['date', 'rougher.output.recovery']]"
   ]
  },
  {
   "cell_type": "markdown",
   "metadata": {},
   "source": [
    "Отберем значения target по столбцу с датами из data_test: \n",
    "\n",
    "Let's select target values ​​by the date column from data_test:"
   ]
  },
  {
   "cell_type": "code",
   "execution_count": 33,
   "metadata": {
    "scrolled": true
   },
   "outputs": [],
   "source": [
    "list_of_dates = data_test['date']\n",
    "data_target_test_final = data_target_test_final.query('date.isin(@list_of_dates)')\n",
    "data_target_test_rougher = data_target_test_rougher.query('date.isin(@list_of_dates)')\n",
    "\n",
    "data_target_test_final = data_target_test_final['final.output.recovery'].squeeze()\n",
    "data_target_test_rougher = data_target_test_rougher['rougher.output.recovery'].squeeze()"
   ]
  },
  {
   "cell_type": "code",
   "execution_count": 34,
   "metadata": {},
   "outputs": [
    {
     "data": {
      "text/plain": [
       "((5229,), pandas.core.series.Series, (11016,), pandas.core.series.Series)"
      ]
     },
     "execution_count": 34,
     "metadata": {},
     "output_type": "execute_result"
    }
   ],
   "source": [
    "data_target_test_final.shape , type(data_target_test_final), data_target_train_final.shape,  type(data_target_train_final)"
   ]
  },
  {
   "cell_type": "code",
   "execution_count": 35,
   "metadata": {},
   "outputs": [],
   "source": [
    "data_test = data_test.drop('date', axis = 1)\n",
    "data_test = scaler.transform(data_test)"
   ]
  },
  {
   "cell_type": "code",
   "execution_count": 36,
   "metadata": {},
   "outputs": [],
   "source": [
    "predicted_test_rougher = best_model_forest_rougher.predict(data_test)\n",
    "predicted_test_final = best_model_forest_final.predict(data_test)"
   ]
  },
  {
   "cell_type": "code",
   "execution_count": 37,
   "metadata": {},
   "outputs": [
    {
     "name": "stdout",
     "output_type": "stream",
     "text": [
      "Итоговое sMAPE:  9.403596604428074\n"
     ]
    }
   ],
   "source": [
    "sm1 = smape(data_target_test_rougher, predicted_test_rougher)\n",
    "sm2 = smape(data_target_test_final, predicted_test_final)\n",
    "print('Итоговое sMAPE: ', final_smape(sm1, sm2))"
   ]
  },
  {
   "cell_type": "markdown",
   "metadata": {},
   "source": [
    "Сравним sMAPE с константной моделью DummyRegressor:\n",
    "\n",
    "Let's compare sMAPE with the DummyRegressor constant model:"
   ]
  },
  {
   "cell_type": "code",
   "execution_count": 38,
   "metadata": {},
   "outputs": [
    {
     "name": "stdout",
     "output_type": "stream",
     "text": [
      "Итоговое sMAPE:  9.735458526983432\n"
     ]
    }
   ],
   "source": [
    "model_check_r = DummyRegressor()\n",
    "model_check_f = DummyRegressor()\n",
    "model_check_r.fit(data_features_train, data_target_train_rougher)\n",
    "model_check_f.fit(data_features_train, data_target_train_final)\n",
    "pred_test_rougher = model_check_r.predict(data_test)\n",
    "pred_test_final = model_check_f.predict(data_test)\n",
    "sm1 = smape(data_target_test_rougher, pred_test_rougher)\n",
    "sm2 = smape(data_target_test_final, pred_test_final)\n",
    "print('Итоговое sMAPE: ', final_smape(sm1, sm2))"
   ]
  },
  {
   "cell_type": "markdown",
   "metadata": {},
   "source": [
    "sMAPE нашей модели меньше sMAPE DummyRegressor, модель проверена на адекватность.\n",
    "\n",
    "sMAPE of our model is less than sMAPE of DummyRegressor, the model is checked for adequacy."
   ]
  },
  {
   "cell_type": "markdown",
   "metadata": {},
   "source": [
    "В ходе работы была проведена проверка эффективности обогащения. Выполнена предобработка данных; посмотрели, как меняется концентрация металлов (Au, Ag, Pb) на различных этапах очистки.\n",
    "Сравнили распределения размеров гранул сырья на обучающей и тестовой выборках и исследовали суммарную концентрацию всех веществ на разных стадиях.\n",
    "Были обучены разные модели и оценено их качество кросс-валидацией. Выбрали лучшую модель и проверили её на тестовой выборке.\n",
    "\n",
    "During the work, the efficiency of enrichment was checked. Data preprocessing completed; We looked at how the concentration of metals (Au, Ag, Pb) changes at different stages of purification.\n",
    "We compared the size distributions of raw material granules on the training and test sets and examined the total concentration of all substances at different stages.\n",
    "Different models were trained and their quality was assessed by cross-validation. We chose the best model and tested it on a test sample."
   ]
  },
  {
   "cell_type": "markdown",
   "metadata": {},
   "source": [
    "Получили высокое значение sMAPE, проверено качество модели best_model_forest_final.\n",
    "\n",
    "We received a high sMAPE value, the quality of the best_model_forest_final model was checked."
   ]
  }
 ],
 "metadata": {
  "ExecuteTimeLog": [
   {
    "duration": 378,
    "start_time": "2023-01-30T07:21:46.986Z"
   },
   {
    "duration": 1980,
    "start_time": "2023-01-30T07:21:47.575Z"
   },
   {
    "duration": 121,
    "start_time": "2023-01-30T07:22:42.731Z"
   },
   {
    "duration": 60,
    "start_time": "2023-01-30T07:23:08.546Z"
   },
   {
    "duration": 7,
    "start_time": "2023-01-30T07:33:17.759Z"
   },
   {
    "duration": 7,
    "start_time": "2023-01-30T07:33:26.929Z"
   },
   {
    "duration": 5,
    "start_time": "2023-01-30T07:33:34.500Z"
   },
   {
    "duration": 19,
    "start_time": "2023-01-30T07:46:37.167Z"
   },
   {
    "duration": 3,
    "start_time": "2023-01-30T08:11:50.619Z"
   },
   {
    "duration": 11,
    "start_time": "2023-01-30T08:11:53.242Z"
   },
   {
    "duration": 7,
    "start_time": "2023-01-30T08:12:46.081Z"
   },
   {
    "duration": 15,
    "start_time": "2023-01-30T08:13:17.430Z"
   },
   {
    "duration": 9,
    "start_time": "2023-01-30T08:19:54.160Z"
   },
   {
    "duration": 773,
    "start_time": "2023-01-30T08:20:05.940Z"
   },
   {
    "duration": 749,
    "start_time": "2023-01-30T08:20:06.715Z"
   },
   {
    "duration": 60,
    "start_time": "2023-01-30T08:20:07.466Z"
   },
   {
    "duration": 23,
    "start_time": "2023-01-30T08:20:07.541Z"
   },
   {
    "duration": 3,
    "start_time": "2023-01-30T08:20:07.567Z"
   },
   {
    "duration": 14,
    "start_time": "2023-01-30T08:20:07.572Z"
   },
   {
    "duration": 4,
    "start_time": "2023-01-30T08:20:24.433Z"
   },
   {
    "duration": 5,
    "start_time": "2023-01-30T08:20:33.958Z"
   },
   {
    "duration": 19,
    "start_time": "2023-01-30T08:23:46.801Z"
   },
   {
    "duration": 8,
    "start_time": "2023-01-30T08:39:04.658Z"
   },
   {
    "duration": 11,
    "start_time": "2023-01-30T08:39:20.921Z"
   },
   {
    "duration": 12,
    "start_time": "2023-01-30T08:39:46.965Z"
   },
   {
    "duration": 11,
    "start_time": "2023-01-30T08:39:54.416Z"
   },
   {
    "duration": 10,
    "start_time": "2023-01-30T08:39:59.352Z"
   },
   {
    "duration": 26,
    "start_time": "2023-01-30T08:40:23.732Z"
   },
   {
    "duration": 2,
    "start_time": "2023-01-30T08:56:21.555Z"
   },
   {
    "duration": 699,
    "start_time": "2023-01-30T08:56:21.559Z"
   },
   {
    "duration": 61,
    "start_time": "2023-01-30T08:56:22.260Z"
   },
   {
    "duration": 32,
    "start_time": "2023-01-30T08:56:22.323Z"
   },
   {
    "duration": 3,
    "start_time": "2023-01-30T08:56:22.357Z"
   },
   {
    "duration": 18,
    "start_time": "2023-01-30T08:56:22.362Z"
   },
   {
    "duration": 10,
    "start_time": "2023-01-30T08:56:22.381Z"
   },
   {
    "duration": 23,
    "start_time": "2023-01-30T08:56:22.393Z"
   },
   {
    "duration": 40,
    "start_time": "2023-01-30T08:56:22.418Z"
   },
   {
    "duration": 41,
    "start_time": "2023-01-30T08:56:44.368Z"
   },
   {
    "duration": 9,
    "start_time": "2023-01-30T08:57:44.228Z"
   },
   {
    "duration": 3,
    "start_time": "2023-01-30T08:57:48.611Z"
   },
   {
    "duration": 728,
    "start_time": "2023-01-30T08:57:48.617Z"
   },
   {
    "duration": 58,
    "start_time": "2023-01-30T08:57:49.347Z"
   },
   {
    "duration": 41,
    "start_time": "2023-01-30T08:57:49.407Z"
   },
   {
    "duration": 4,
    "start_time": "2023-01-30T08:57:49.450Z"
   },
   {
    "duration": 46,
    "start_time": "2023-01-30T08:57:49.455Z"
   },
   {
    "duration": 10,
    "start_time": "2023-01-30T08:57:49.502Z"
   },
   {
    "duration": 51,
    "start_time": "2023-01-30T08:57:49.513Z"
   },
   {
    "duration": 19,
    "start_time": "2023-01-30T08:57:56.374Z"
   },
   {
    "duration": 11,
    "start_time": "2023-01-30T09:14:19.893Z"
   },
   {
    "duration": 11,
    "start_time": "2023-01-30T09:15:28.323Z"
   },
   {
    "duration": 10,
    "start_time": "2023-01-30T09:15:38.752Z"
   },
   {
    "duration": 9,
    "start_time": "2023-01-30T09:23:34.534Z"
   },
   {
    "duration": 10,
    "start_time": "2023-01-30T09:23:43.116Z"
   },
   {
    "duration": 11,
    "start_time": "2023-01-30T09:39:09.260Z"
   },
   {
    "duration": 11,
    "start_time": "2023-01-30T09:40:01.876Z"
   },
   {
    "duration": 10,
    "start_time": "2023-01-30T09:41:35.826Z"
   },
   {
    "duration": 732,
    "start_time": "2023-01-30T09:54:35.205Z"
   },
   {
    "duration": 733,
    "start_time": "2023-01-30T09:54:48.948Z"
   },
   {
    "duration": 5,
    "start_time": "2023-01-30T09:55:20.287Z"
   },
   {
    "duration": 5,
    "start_time": "2023-01-30T09:55:42.395Z"
   },
   {
    "duration": 4,
    "start_time": "2023-01-30T09:55:53.825Z"
   },
   {
    "duration": 4,
    "start_time": "2023-01-30T09:56:03.225Z"
   },
   {
    "duration": 3,
    "start_time": "2023-01-30T10:12:56.367Z"
   },
   {
    "duration": 664,
    "start_time": "2023-01-30T10:12:57.319Z"
   },
   {
    "duration": 80,
    "start_time": "2023-01-30T10:12:59.029Z"
   },
   {
    "duration": 18,
    "start_time": "2023-01-30T10:13:03.905Z"
   },
   {
    "duration": 3,
    "start_time": "2023-01-30T10:13:07.471Z"
   },
   {
    "duration": 12,
    "start_time": "2023-01-30T10:13:08.134Z"
   },
   {
    "duration": 6,
    "start_time": "2023-01-30T10:13:09.065Z"
   },
   {
    "duration": 14,
    "start_time": "2023-01-30T10:13:11.569Z"
   },
   {
    "duration": 20,
    "start_time": "2023-01-30T10:13:15.451Z"
   },
   {
    "duration": 14,
    "start_time": "2023-01-30T10:13:17.886Z"
   },
   {
    "duration": 6,
    "start_time": "2023-01-30T10:13:21.975Z"
   },
   {
    "duration": 4,
    "start_time": "2023-01-30T10:13:23.848Z"
   },
   {
    "duration": 48,
    "start_time": "2023-01-30T10:28:23.201Z"
   },
   {
    "duration": 8,
    "start_time": "2023-01-30T10:28:39.851Z"
   },
   {
    "duration": 19,
    "start_time": "2023-01-30T10:30:27.515Z"
   },
   {
    "duration": 4,
    "start_time": "2023-01-30T11:07:23.163Z"
   },
   {
    "duration": 64,
    "start_time": "2023-01-30T11:07:24.323Z"
   },
   {
    "duration": 50,
    "start_time": "2023-01-30T11:07:51.179Z"
   },
   {
    "duration": 46,
    "start_time": "2023-01-30T11:07:59.933Z"
   },
   {
    "duration": 21,
    "start_time": "2023-01-30T11:08:01.336Z"
   },
   {
    "duration": 12,
    "start_time": "2023-01-30T11:08:23.795Z"
   },
   {
    "duration": 691,
    "start_time": "2023-01-30T11:08:26.503Z"
   },
   {
    "duration": 48,
    "start_time": "2023-01-30T11:09:24.887Z"
   },
   {
    "duration": 708,
    "start_time": "2023-01-30T11:09:26.923Z"
   },
   {
    "duration": 3,
    "start_time": "2023-01-30T11:10:05.225Z"
   },
   {
    "duration": 707,
    "start_time": "2023-01-30T11:10:05.230Z"
   },
   {
    "duration": 57,
    "start_time": "2023-01-30T11:10:05.940Z"
   },
   {
    "duration": 17,
    "start_time": "2023-01-30T11:10:05.999Z"
   },
   {
    "duration": 3,
    "start_time": "2023-01-30T11:10:06.040Z"
   },
   {
    "duration": 12,
    "start_time": "2023-01-30T11:10:06.045Z"
   },
   {
    "duration": 4,
    "start_time": "2023-01-30T11:10:06.059Z"
   },
   {
    "duration": 16,
    "start_time": "2023-01-30T11:10:06.064Z"
   },
   {
    "duration": 21,
    "start_time": "2023-01-30T11:10:06.081Z"
   },
   {
    "duration": 42,
    "start_time": "2023-01-30T11:10:06.103Z"
   },
   {
    "duration": 4,
    "start_time": "2023-01-30T11:10:06.147Z"
   },
   {
    "duration": 15,
    "start_time": "2023-01-30T11:10:06.153Z"
   },
   {
    "duration": 27,
    "start_time": "2023-01-30T11:10:06.171Z"
   },
   {
    "duration": 55,
    "start_time": "2023-01-30T11:11:39.022Z"
   },
   {
    "duration": 55,
    "start_time": "2023-01-30T11:12:48.988Z"
   },
   {
    "duration": 19,
    "start_time": "2023-01-30T11:13:14.158Z"
   },
   {
    "duration": 4,
    "start_time": "2023-01-30T11:13:26.360Z"
   },
   {
    "duration": 4,
    "start_time": "2023-01-30T11:13:34.519Z"
   },
   {
    "duration": 4,
    "start_time": "2023-01-30T11:13:36.271Z"
   },
   {
    "duration": 3,
    "start_time": "2023-01-30T11:16:49.804Z"
   },
   {
    "duration": 2,
    "start_time": "2023-01-30T11:16:52.884Z"
   },
   {
    "duration": 18,
    "start_time": "2023-01-30T11:17:10.506Z"
   },
   {
    "duration": 14,
    "start_time": "2023-01-30T11:17:34.097Z"
   },
   {
    "duration": 18,
    "start_time": "2023-01-30T11:19:50.997Z"
   },
   {
    "duration": 6,
    "start_time": "2023-01-30T11:19:56.084Z"
   },
   {
    "duration": 4,
    "start_time": "2023-01-30T11:19:58.537Z"
   },
   {
    "duration": 6,
    "start_time": "2023-01-30T11:19:59.391Z"
   },
   {
    "duration": 9,
    "start_time": "2023-01-30T11:23:20.785Z"
   },
   {
    "duration": 5,
    "start_time": "2023-01-30T11:23:32.809Z"
   },
   {
    "duration": 15,
    "start_time": "2023-01-30T11:23:40.556Z"
   },
   {
    "duration": 14,
    "start_time": "2023-01-30T11:38:26.943Z"
   },
   {
    "duration": 5,
    "start_time": "2023-01-30T11:46:05.156Z"
   },
   {
    "duration": 9,
    "start_time": "2023-01-30T11:46:12.861Z"
   },
   {
    "duration": 4,
    "start_time": "2023-01-30T11:46:38.580Z"
   },
   {
    "duration": 6,
    "start_time": "2023-01-30T11:46:39.817Z"
   },
   {
    "duration": 29,
    "start_time": "2023-01-30T11:46:40.275Z"
   },
   {
    "duration": 1107,
    "start_time": "2023-01-30T12:01:21.251Z"
   },
   {
    "duration": 726,
    "start_time": "2023-01-30T12:01:22.360Z"
   },
   {
    "duration": 73,
    "start_time": "2023-01-30T12:01:23.088Z"
   },
   {
    "duration": 16,
    "start_time": "2023-01-30T12:01:23.163Z"
   },
   {
    "duration": 3,
    "start_time": "2023-01-30T12:01:23.181Z"
   },
   {
    "duration": 12,
    "start_time": "2023-01-30T12:01:23.186Z"
   },
   {
    "duration": 5,
    "start_time": "2023-01-30T12:01:23.200Z"
   },
   {
    "duration": 13,
    "start_time": "2023-01-30T12:01:23.239Z"
   },
   {
    "duration": 29,
    "start_time": "2023-01-30T12:01:23.254Z"
   },
   {
    "duration": 11,
    "start_time": "2023-01-30T12:01:23.284Z"
   },
   {
    "duration": 6,
    "start_time": "2023-01-30T12:01:23.297Z"
   },
   {
    "duration": 7,
    "start_time": "2023-01-30T12:01:23.305Z"
   },
   {
    "duration": 39,
    "start_time": "2023-01-30T12:01:23.314Z"
   },
   {
    "duration": 10,
    "start_time": "2023-01-30T12:01:23.356Z"
   },
   {
    "duration": 144927,
    "start_time": "2023-01-30T12:01:23.368Z"
   },
   {
    "duration": 6,
    "start_time": "2023-01-30T12:03:48.297Z"
   },
   {
    "duration": 20,
    "start_time": "2023-01-30T12:03:48.305Z"
   },
   {
    "duration": 34,
    "start_time": "2023-01-30T12:03:48.340Z"
   },
   {
    "duration": 195208,
    "start_time": "2023-01-30T12:04:24.493Z"
   },
   {
    "duration": 104,
    "start_time": "2023-01-30T12:09:56.065Z"
   },
   {
    "duration": 50,
    "start_time": "2023-01-30T12:33:20.332Z"
   },
   {
    "duration": 694,
    "start_time": "2023-01-30T12:33:20.385Z"
   },
   {
    "duration": 80,
    "start_time": "2023-01-30T12:33:21.081Z"
   },
   {
    "duration": 19,
    "start_time": "2023-01-30T12:33:21.163Z"
   },
   {
    "duration": 4,
    "start_time": "2023-01-30T12:33:21.184Z"
   },
   {
    "duration": 12,
    "start_time": "2023-01-30T12:33:21.190Z"
   },
   {
    "duration": 36,
    "start_time": "2023-01-30T12:33:21.204Z"
   },
   {
    "duration": 17,
    "start_time": "2023-01-30T12:33:21.242Z"
   },
   {
    "duration": 25,
    "start_time": "2023-01-30T12:33:21.261Z"
   },
   {
    "duration": 10,
    "start_time": "2023-01-30T12:33:21.288Z"
   },
   {
    "duration": 40,
    "start_time": "2023-01-30T12:33:21.300Z"
   },
   {
    "duration": 7,
    "start_time": "2023-01-30T12:33:21.342Z"
   },
   {
    "duration": 24,
    "start_time": "2023-01-30T12:33:21.351Z"
   },
   {
    "duration": 4,
    "start_time": "2023-01-30T12:33:21.377Z"
   },
   {
    "duration": 16,
    "start_time": "2023-01-30T12:33:21.383Z"
   },
   {
    "duration": 13,
    "start_time": "2023-01-30T12:33:21.400Z"
   },
   {
    "duration": 46,
    "start_time": "2023-01-30T12:33:21.415Z"
   },
   {
    "duration": 18,
    "start_time": "2023-01-30T12:33:21.462Z"
   },
   {
    "duration": 2021,
    "start_time": "2023-01-30T12:33:49.388Z"
   },
   {
    "duration": 499,
    "start_time": "2023-01-30T12:34:15.409Z"
   },
   {
    "duration": 88,
    "start_time": "2023-01-30T12:34:37.617Z"
   },
   {
    "duration": 18,
    "start_time": "2023-01-30T12:35:13.577Z"
   },
   {
    "duration": 1668,
    "start_time": "2023-01-30T12:35:34.517Z"
   },
   {
    "duration": 40,
    "start_time": "2023-01-30T12:36:30.738Z"
   },
   {
    "duration": 37,
    "start_time": "2023-01-30T12:36:45.909Z"
   },
   {
    "duration": 1636,
    "start_time": "2023-01-30T12:39:04.244Z"
   },
   {
    "duration": 128,
    "start_time": "2023-01-30T12:45:14.668Z"
   },
   {
    "duration": 3694,
    "start_time": "2023-01-30T12:46:14.849Z"
   },
   {
    "duration": 54,
    "start_time": "2023-01-30T12:56:36.330Z"
   },
   {
    "duration": 1425,
    "start_time": "2023-01-30T13:40:28.795Z"
   },
   {
    "duration": 953,
    "start_time": "2023-01-30T13:40:30.223Z"
   },
   {
    "duration": 88,
    "start_time": "2023-01-30T13:40:31.182Z"
   },
   {
    "duration": 22,
    "start_time": "2023-01-30T13:40:31.273Z"
   },
   {
    "duration": 14,
    "start_time": "2023-01-30T13:40:31.299Z"
   },
   {
    "duration": 35,
    "start_time": "2023-01-30T13:40:31.316Z"
   },
   {
    "duration": 71,
    "start_time": "2023-01-30T13:40:31.440Z"
   },
   {
    "duration": 31,
    "start_time": "2023-01-30T13:40:31.513Z"
   },
   {
    "duration": 42,
    "start_time": "2023-01-30T13:40:31.546Z"
   },
   {
    "duration": 23,
    "start_time": "2023-01-30T13:40:31.590Z"
   },
   {
    "duration": 31,
    "start_time": "2023-01-30T13:40:31.616Z"
   },
   {
    "duration": 50,
    "start_time": "2023-01-30T13:40:31.655Z"
   },
   {
    "duration": 28,
    "start_time": "2023-01-30T13:40:31.707Z"
   },
   {
    "duration": 71,
    "start_time": "2023-01-30T13:40:31.738Z"
   },
   {
    "duration": 1264,
    "start_time": "2023-01-30T13:40:31.811Z"
   },
   {
    "duration": 0,
    "start_time": "2023-01-30T13:40:33.078Z"
   },
   {
    "duration": 0,
    "start_time": "2023-01-30T13:40:33.079Z"
   },
   {
    "duration": 0,
    "start_time": "2023-01-30T13:40:33.080Z"
   },
   {
    "duration": 0,
    "start_time": "2023-01-30T13:40:33.081Z"
   },
   {
    "duration": 0,
    "start_time": "2023-01-30T13:40:33.083Z"
   },
   {
    "duration": 0,
    "start_time": "2023-01-30T13:40:33.084Z"
   },
   {
    "duration": 10,
    "start_time": "2023-01-30T13:41:02.658Z"
   },
   {
    "duration": 20,
    "start_time": "2023-01-30T13:41:06.764Z"
   },
   {
    "duration": 1427,
    "start_time": "2023-01-30T13:50:38.294Z"
   },
   {
    "duration": 942,
    "start_time": "2023-01-30T13:50:39.726Z"
   },
   {
    "duration": 97,
    "start_time": "2023-01-30T13:50:40.671Z"
   },
   {
    "duration": 32,
    "start_time": "2023-01-30T13:50:40.770Z"
   },
   {
    "duration": 7,
    "start_time": "2023-01-30T13:50:40.805Z"
   },
   {
    "duration": 12,
    "start_time": "2023-01-30T13:50:40.814Z"
   },
   {
    "duration": 24,
    "start_time": "2023-01-30T13:50:40.827Z"
   },
   {
    "duration": 20,
    "start_time": "2023-01-30T13:50:40.853Z"
   },
   {
    "duration": 34,
    "start_time": "2023-01-30T13:51:07.230Z"
   },
   {
    "duration": 35,
    "start_time": "2023-01-30T13:54:24.834Z"
   },
   {
    "duration": 33,
    "start_time": "2023-01-30T13:54:53.136Z"
   },
   {
    "duration": 4,
    "start_time": "2023-01-30T14:02:50.472Z"
   },
   {
    "duration": 8,
    "start_time": "2023-01-30T14:03:50.070Z"
   },
   {
    "duration": 15,
    "start_time": "2023-01-30T14:04:15.133Z"
   },
   {
    "duration": 9,
    "start_time": "2023-01-30T14:04:16.584Z"
   },
   {
    "duration": 7,
    "start_time": "2023-01-30T14:04:17.799Z"
   },
   {
    "duration": 4,
    "start_time": "2023-01-30T14:05:01.084Z"
   },
   {
    "duration": 7,
    "start_time": "2023-01-30T14:05:04.101Z"
   },
   {
    "duration": 10,
    "start_time": "2023-01-30T14:05:04.633Z"
   },
   {
    "duration": 7,
    "start_time": "2023-01-30T14:05:05.865Z"
   },
   {
    "duration": 7,
    "start_time": "2023-01-30T14:13:50.974Z"
   },
   {
    "duration": 8,
    "start_time": "2023-01-30T14:13:54.885Z"
   },
   {
    "duration": 9,
    "start_time": "2023-01-30T14:13:56.771Z"
   },
   {
    "duration": 19,
    "start_time": "2023-01-30T14:34:48.866Z"
   },
   {
    "duration": 185,
    "start_time": "2023-01-30T14:37:30.569Z"
   },
   {
    "duration": 1223,
    "start_time": "2023-01-30T14:38:03.293Z"
   },
   {
    "duration": 931,
    "start_time": "2023-01-30T14:38:04.519Z"
   },
   {
    "duration": 81,
    "start_time": "2023-01-30T14:38:05.451Z"
   },
   {
    "duration": 30,
    "start_time": "2023-01-30T14:38:05.534Z"
   },
   {
    "duration": 32,
    "start_time": "2023-01-30T14:38:05.566Z"
   },
   {
    "duration": 35,
    "start_time": "2023-01-30T14:38:05.600Z"
   },
   {
    "duration": 40,
    "start_time": "2023-01-30T14:38:05.637Z"
   },
   {
    "duration": 37,
    "start_time": "2023-01-30T14:38:05.683Z"
   },
   {
    "duration": 39,
    "start_time": "2023-01-30T14:38:05.722Z"
   },
   {
    "duration": 26,
    "start_time": "2023-01-30T14:38:05.763Z"
   },
   {
    "duration": 35,
    "start_time": "2023-01-30T14:38:05.790Z"
   },
   {
    "duration": 8,
    "start_time": "2023-01-30T14:38:05.826Z"
   },
   {
    "duration": 36,
    "start_time": "2023-01-30T14:38:05.836Z"
   },
   {
    "duration": 11,
    "start_time": "2023-01-30T14:38:05.880Z"
   },
   {
    "duration": 16,
    "start_time": "2023-01-30T14:38:05.892Z"
   },
   {
    "duration": 8,
    "start_time": "2023-01-30T14:38:05.910Z"
   },
   {
    "duration": 7,
    "start_time": "2023-01-30T14:38:05.921Z"
   },
   {
    "duration": 14,
    "start_time": "2023-01-30T14:38:05.929Z"
   },
   {
    "duration": 35,
    "start_time": "2023-01-30T14:38:05.948Z"
   },
   {
    "duration": 41,
    "start_time": "2023-01-30T14:38:05.986Z"
   },
   {
    "duration": 19,
    "start_time": "2023-01-30T14:38:35.484Z"
   },
   {
    "duration": 178,
    "start_time": "2023-01-30T14:38:38.801Z"
   },
   {
    "duration": 16,
    "start_time": "2023-01-30T14:39:28.871Z"
   },
   {
    "duration": 4926,
    "start_time": "2023-01-30T14:40:05.936Z"
   },
   {
    "duration": 14,
    "start_time": "2023-01-30T14:41:34.387Z"
   },
   {
    "duration": 22,
    "start_time": "2023-01-30T14:48:39.410Z"
   },
   {
    "duration": 8,
    "start_time": "2023-01-30T14:51:19.191Z"
   },
   {
    "duration": 10,
    "start_time": "2023-01-30T14:51:51.380Z"
   },
   {
    "duration": 14,
    "start_time": "2023-01-30T14:51:53.313Z"
   },
   {
    "duration": 1201,
    "start_time": "2023-01-30T16:20:12.072Z"
   },
   {
    "duration": 3047,
    "start_time": "2023-01-30T16:20:13.275Z"
   },
   {
    "duration": 88,
    "start_time": "2023-01-30T16:20:16.326Z"
   },
   {
    "duration": 24,
    "start_time": "2023-01-30T16:20:16.416Z"
   },
   {
    "duration": 4,
    "start_time": "2023-01-30T16:20:16.443Z"
   },
   {
    "duration": 21,
    "start_time": "2023-01-30T16:20:16.449Z"
   },
   {
    "duration": 25,
    "start_time": "2023-01-30T16:20:16.472Z"
   },
   {
    "duration": 18,
    "start_time": "2023-01-30T16:20:16.499Z"
   },
   {
    "duration": 26,
    "start_time": "2023-01-30T16:20:16.519Z"
   },
   {
    "duration": 3,
    "start_time": "2023-01-30T16:20:16.547Z"
   },
   {
    "duration": 12,
    "start_time": "2023-01-30T16:20:16.552Z"
   },
   {
    "duration": 33,
    "start_time": "2023-01-30T16:20:16.566Z"
   },
   {
    "duration": 8,
    "start_time": "2023-01-30T16:20:16.604Z"
   },
   {
    "duration": 5,
    "start_time": "2023-01-30T16:20:16.616Z"
   },
   {
    "duration": 11,
    "start_time": "2023-01-30T16:20:16.623Z"
   },
   {
    "duration": 14,
    "start_time": "2023-01-30T16:20:16.636Z"
   },
   {
    "duration": 11,
    "start_time": "2023-01-30T16:20:16.652Z"
   },
   {
    "duration": 27,
    "start_time": "2023-01-30T16:20:16.664Z"
   },
   {
    "duration": 4,
    "start_time": "2023-01-30T16:20:16.693Z"
   },
   {
    "duration": 32,
    "start_time": "2023-01-30T16:20:16.698Z"
   },
   {
    "duration": 8,
    "start_time": "2023-01-30T16:20:16.732Z"
   },
   {
    "duration": 19,
    "start_time": "2023-01-30T16:20:16.741Z"
   },
   {
    "duration": 39,
    "start_time": "2023-01-30T16:20:16.762Z"
   },
   {
    "duration": 2390,
    "start_time": "2023-01-30T16:20:16.802Z"
   },
   {
    "duration": 111,
    "start_time": "2023-01-30T16:20:19.194Z"
   },
   {
    "duration": 0,
    "start_time": "2023-01-30T16:20:19.307Z"
   },
   {
    "duration": 0,
    "start_time": "2023-01-30T16:20:19.308Z"
   },
   {
    "duration": 22,
    "start_time": "2023-01-30T16:21:06.197Z"
   },
   {
    "duration": 140,
    "start_time": "2023-01-30T16:24:04.787Z"
   },
   {
    "duration": 7,
    "start_time": "2023-01-30T16:26:40.041Z"
   },
   {
    "duration": 7,
    "start_time": "2023-01-30T16:27:12.435Z"
   },
   {
    "duration": 1059,
    "start_time": "2023-01-30T16:28:37.849Z"
   },
   {
    "duration": 693,
    "start_time": "2023-01-30T16:28:38.911Z"
   },
   {
    "duration": 63,
    "start_time": "2023-01-30T16:28:39.606Z"
   },
   {
    "duration": 37,
    "start_time": "2023-01-30T16:28:39.671Z"
   },
   {
    "duration": 3,
    "start_time": "2023-01-30T16:28:39.712Z"
   },
   {
    "duration": 11,
    "start_time": "2023-01-30T16:28:39.716Z"
   },
   {
    "duration": 4,
    "start_time": "2023-01-30T16:28:39.729Z"
   },
   {
    "duration": 28,
    "start_time": "2023-01-30T16:28:39.735Z"
   },
   {
    "duration": 50,
    "start_time": "2023-01-30T16:28:39.765Z"
   },
   {
    "duration": 3,
    "start_time": "2023-01-30T16:28:39.816Z"
   },
   {
    "duration": 20,
    "start_time": "2023-01-30T16:28:39.821Z"
   },
   {
    "duration": 19,
    "start_time": "2023-01-30T16:28:39.843Z"
   },
   {
    "duration": 12,
    "start_time": "2023-01-30T16:28:39.863Z"
   },
   {
    "duration": 16,
    "start_time": "2023-01-30T16:28:39.878Z"
   },
   {
    "duration": 11,
    "start_time": "2023-01-30T16:28:39.896Z"
   },
   {
    "duration": 12,
    "start_time": "2023-01-30T16:28:39.908Z"
   },
   {
    "duration": 24,
    "start_time": "2023-01-30T16:28:39.921Z"
   },
   {
    "duration": 7,
    "start_time": "2023-01-30T16:28:39.947Z"
   },
   {
    "duration": 4,
    "start_time": "2023-01-30T16:28:45.826Z"
   },
   {
    "duration": 5,
    "start_time": "2023-01-30T16:31:35.763Z"
   },
   {
    "duration": 15,
    "start_time": "2023-01-30T16:31:37.948Z"
   },
   {
    "duration": 8,
    "start_time": "2023-01-30T16:31:58.641Z"
   },
   {
    "duration": 2220,
    "start_time": "2023-01-30T16:33:55.292Z"
   },
   {
    "duration": 2493,
    "start_time": "2023-01-30T16:34:19.598Z"
   },
   {
    "duration": 19,
    "start_time": "2023-01-30T16:40:52.959Z"
   },
   {
    "duration": 6,
    "start_time": "2023-01-30T17:00:13.451Z"
   },
   {
    "duration": 12,
    "start_time": "2023-01-30T17:00:13.982Z"
   },
   {
    "duration": 30,
    "start_time": "2023-01-30T17:00:14.417Z"
   },
   {
    "duration": 1915,
    "start_time": "2023-01-30T17:00:17.627Z"
   },
   {
    "duration": 81,
    "start_time": "2023-01-30T17:03:29.687Z"
   },
   {
    "duration": 4032,
    "start_time": "2023-01-30T17:03:54.081Z"
   },
   {
    "duration": 2530,
    "start_time": "2023-01-30T17:04:04.345Z"
   },
   {
    "duration": 2136,
    "start_time": "2023-01-30T17:04:12.180Z"
   },
   {
    "duration": 1609,
    "start_time": "2023-01-30T17:04:17.852Z"
   },
   {
    "duration": 2061,
    "start_time": "2023-01-30T17:04:23.983Z"
   },
   {
    "duration": 94,
    "start_time": "2023-01-30T17:06:32.698Z"
   },
   {
    "duration": 1353,
    "start_time": "2023-01-30T17:16:57.082Z"
   },
   {
    "duration": 3,
    "start_time": "2023-01-30T17:17:12.671Z"
   },
   {
    "duration": 15,
    "start_time": "2023-01-30T17:17:16.687Z"
   },
   {
    "duration": 6,
    "start_time": "2023-01-30T17:17:26.609Z"
   },
   {
    "duration": 20,
    "start_time": "2023-01-30T17:17:28.805Z"
   },
   {
    "duration": 2,
    "start_time": "2023-01-30T17:17:35.266Z"
   },
   {
    "duration": 14,
    "start_time": "2023-01-30T17:17:37.083Z"
   },
   {
    "duration": 10,
    "start_time": "2023-01-30T17:20:09.729Z"
   },
   {
    "duration": 14,
    "start_time": "2023-01-30T17:20:27.785Z"
   },
   {
    "duration": 12,
    "start_time": "2023-01-30T17:21:11.977Z"
   },
   {
    "duration": 1764,
    "start_time": "2023-01-30T17:24:42.249Z"
   },
   {
    "duration": 3,
    "start_time": "2023-01-30T17:24:51.489Z"
   },
   {
    "duration": 3,
    "start_time": "2023-01-30T17:24:51.971Z"
   },
   {
    "duration": 2,
    "start_time": "2023-01-30T17:24:52.421Z"
   },
   {
    "duration": 14,
    "start_time": "2023-01-30T17:24:53.731Z"
   },
   {
    "duration": 2146,
    "start_time": "2023-01-30T17:30:08.269Z"
   },
   {
    "duration": 100,
    "start_time": "2023-01-30T17:30:30.551Z"
   },
   {
    "duration": 1939,
    "start_time": "2023-01-30T17:30:39.499Z"
   },
   {
    "duration": 3329,
    "start_time": "2023-01-30T17:30:52.731Z"
   },
   {
    "duration": 2802,
    "start_time": "2023-01-30T17:31:00.648Z"
   },
   {
    "duration": 2692,
    "start_time": "2023-01-30T17:31:08.121Z"
   },
   {
    "duration": 2329,
    "start_time": "2023-01-30T17:31:15.866Z"
   },
   {
    "duration": 2225,
    "start_time": "2023-01-30T17:31:22.686Z"
   },
   {
    "duration": 3,
    "start_time": "2023-01-30T17:33:11.799Z"
   },
   {
    "duration": 13,
    "start_time": "2023-01-30T17:33:12.719Z"
   },
   {
    "duration": 5,
    "start_time": "2023-01-30T17:33:24.687Z"
   },
   {
    "duration": 14,
    "start_time": "2023-01-30T17:33:27.143Z"
   },
   {
    "duration": 13,
    "start_time": "2023-01-30T17:33:30.051Z"
   },
   {
    "duration": 12,
    "start_time": "2023-01-30T17:35:28.670Z"
   },
   {
    "duration": 11,
    "start_time": "2023-01-30T17:36:01.293Z"
   },
   {
    "duration": 11,
    "start_time": "2023-01-30T17:36:11.420Z"
   },
   {
    "duration": 1027,
    "start_time": "2023-01-30T17:36:24.752Z"
   },
   {
    "duration": 726,
    "start_time": "2023-01-30T17:36:25.781Z"
   },
   {
    "duration": 58,
    "start_time": "2023-01-30T17:36:26.508Z"
   },
   {
    "duration": 31,
    "start_time": "2023-01-30T17:36:26.568Z"
   },
   {
    "duration": 3,
    "start_time": "2023-01-30T17:36:26.601Z"
   },
   {
    "duration": 11,
    "start_time": "2023-01-30T17:36:26.605Z"
   },
   {
    "duration": 3,
    "start_time": "2023-01-30T17:36:26.618Z"
   },
   {
    "duration": 13,
    "start_time": "2023-01-30T17:36:26.623Z"
   },
   {
    "duration": 23,
    "start_time": "2023-01-30T17:36:26.637Z"
   },
   {
    "duration": 3,
    "start_time": "2023-01-30T17:36:26.661Z"
   },
   {
    "duration": 31,
    "start_time": "2023-01-30T17:36:26.665Z"
   },
   {
    "duration": 14,
    "start_time": "2023-01-30T17:36:26.697Z"
   },
   {
    "duration": 7,
    "start_time": "2023-01-30T17:36:26.712Z"
   },
   {
    "duration": 10,
    "start_time": "2023-01-30T17:36:26.721Z"
   },
   {
    "duration": 11,
    "start_time": "2023-01-30T17:36:26.732Z"
   },
   {
    "duration": 6,
    "start_time": "2023-01-30T17:36:26.744Z"
   },
   {
    "duration": 6,
    "start_time": "2023-01-30T17:36:26.752Z"
   },
   {
    "duration": 32,
    "start_time": "2023-01-30T17:36:26.760Z"
   },
   {
    "duration": 4,
    "start_time": "2023-01-30T17:36:26.794Z"
   },
   {
    "duration": 14,
    "start_time": "2023-01-30T17:36:26.800Z"
   },
   {
    "duration": 13,
    "start_time": "2023-01-30T17:36:26.815Z"
   },
   {
    "duration": 30,
    "start_time": "2023-01-30T17:36:26.830Z"
   },
   {
    "duration": 2189,
    "start_time": "2023-01-30T17:36:26.862Z"
   },
   {
    "duration": 98,
    "start_time": "2023-01-30T17:36:29.053Z"
   },
   {
    "duration": 0,
    "start_time": "2023-01-30T17:36:29.152Z"
   },
   {
    "duration": 0,
    "start_time": "2023-01-30T17:36:29.154Z"
   },
   {
    "duration": 0,
    "start_time": "2023-01-30T17:36:29.155Z"
   },
   {
    "duration": 0,
    "start_time": "2023-01-30T17:36:29.156Z"
   },
   {
    "duration": 8,
    "start_time": "2023-01-30T17:37:11.083Z"
   },
   {
    "duration": 12,
    "start_time": "2023-01-30T17:37:31.684Z"
   },
   {
    "duration": 2340,
    "start_time": "2023-01-30T17:40:13.704Z"
   },
   {
    "duration": 3,
    "start_time": "2023-01-30T17:40:49.570Z"
   },
   {
    "duration": 4,
    "start_time": "2023-01-30T17:40:50.046Z"
   },
   {
    "duration": 14,
    "start_time": "2023-01-30T17:40:50.571Z"
   },
   {
    "duration": 13,
    "start_time": "2023-01-30T17:40:51.904Z"
   },
   {
    "duration": 3,
    "start_time": "2023-01-30T17:42:22.284Z"
   },
   {
    "duration": 5,
    "start_time": "2023-01-30T17:42:23.204Z"
   },
   {
    "duration": 49,
    "start_time": "2023-01-30T19:49:01.769Z"
   },
   {
    "duration": 1194,
    "start_time": "2023-01-30T19:49:07.424Z"
   },
   {
    "duration": 2003,
    "start_time": "2023-01-30T19:49:08.621Z"
   },
   {
    "duration": 69,
    "start_time": "2023-01-30T19:49:10.626Z"
   },
   {
    "duration": 33,
    "start_time": "2023-01-30T19:49:10.697Z"
   },
   {
    "duration": 32,
    "start_time": "2023-01-30T19:49:10.732Z"
   },
   {
    "duration": 58,
    "start_time": "2023-01-30T19:49:10.767Z"
   },
   {
    "duration": 23,
    "start_time": "2023-01-30T19:49:10.827Z"
   },
   {
    "duration": 64,
    "start_time": "2023-01-30T19:49:10.851Z"
   },
   {
    "duration": 46,
    "start_time": "2023-01-30T19:49:10.917Z"
   },
   {
    "duration": 4,
    "start_time": "2023-01-30T19:49:10.964Z"
   },
   {
    "duration": 54,
    "start_time": "2023-01-30T19:49:10.970Z"
   },
   {
    "duration": 38,
    "start_time": "2023-01-30T19:49:11.026Z"
   },
   {
    "duration": 24,
    "start_time": "2023-01-30T19:49:11.066Z"
   },
   {
    "duration": 40,
    "start_time": "2023-01-30T19:49:11.092Z"
   },
   {
    "duration": 30,
    "start_time": "2023-01-30T19:49:11.134Z"
   },
   {
    "duration": 29,
    "start_time": "2023-01-30T19:49:11.165Z"
   },
   {
    "duration": 43,
    "start_time": "2023-01-30T19:49:11.196Z"
   },
   {
    "duration": 36,
    "start_time": "2023-01-30T19:49:11.240Z"
   },
   {
    "duration": 10,
    "start_time": "2023-01-30T19:49:11.278Z"
   },
   {
    "duration": 14,
    "start_time": "2023-01-30T19:49:18.118Z"
   },
   {
    "duration": 13,
    "start_time": "2023-01-30T19:49:22.969Z"
   },
   {
    "duration": 69,
    "start_time": "2023-01-30T19:59:23.351Z"
   },
   {
    "duration": 45,
    "start_time": "2023-01-30T20:00:04.168Z"
   },
   {
    "duration": 13,
    "start_time": "2023-01-30T20:00:11.098Z"
   },
   {
    "duration": 44,
    "start_time": "2023-01-30T20:00:30.176Z"
   },
   {
    "duration": 52,
    "start_time": "2023-01-30T20:04:37.149Z"
   },
   {
    "duration": 43,
    "start_time": "2023-01-30T20:04:44.675Z"
   },
   {
    "duration": 42,
    "start_time": "2023-01-30T20:08:05.078Z"
   },
   {
    "duration": 14,
    "start_time": "2023-01-30T20:11:21.073Z"
   },
   {
    "duration": 16,
    "start_time": "2023-01-30T20:12:06.320Z"
   },
   {
    "duration": 17,
    "start_time": "2023-01-30T20:16:57.103Z"
   },
   {
    "duration": 21,
    "start_time": "2023-01-30T20:17:03.265Z"
   },
   {
    "duration": 5,
    "start_time": "2023-01-30T20:17:41.832Z"
   },
   {
    "duration": 49,
    "start_time": "2023-01-30T20:20:05.368Z"
   },
   {
    "duration": 51,
    "start_time": "2023-01-30T20:22:00.819Z"
   },
   {
    "duration": 42,
    "start_time": "2023-01-30T20:22:09.615Z"
   },
   {
    "duration": 49,
    "start_time": "2023-01-30T20:22:14.894Z"
   },
   {
    "duration": 8,
    "start_time": "2023-01-30T20:22:21.537Z"
   },
   {
    "duration": 13,
    "start_time": "2023-01-30T20:22:29.084Z"
   },
   {
    "duration": 16,
    "start_time": "2023-01-30T20:22:51.111Z"
   },
   {
    "duration": 13,
    "start_time": "2023-01-30T20:23:06.618Z"
   },
   {
    "duration": 3,
    "start_time": "2023-01-30T20:24:03.084Z"
   },
   {
    "duration": 46,
    "start_time": "2023-01-30T20:24:21.212Z"
   },
   {
    "duration": 17,
    "start_time": "2023-01-30T20:24:28.320Z"
   },
   {
    "duration": 21,
    "start_time": "2023-01-30T20:24:44.354Z"
   },
   {
    "duration": 22,
    "start_time": "2023-01-30T20:25:15.515Z"
   },
   {
    "duration": 4,
    "start_time": "2023-01-30T20:32:33.526Z"
   },
   {
    "duration": 16,
    "start_time": "2023-01-30T20:35:13.245Z"
   },
   {
    "duration": 16,
    "start_time": "2023-01-30T20:36:25.627Z"
   },
   {
    "duration": 23,
    "start_time": "2023-01-30T21:06:34.089Z"
   },
   {
    "duration": 15,
    "start_time": "2023-01-30T21:09:36.569Z"
   },
   {
    "duration": 75,
    "start_time": "2023-01-30T22:30:05.826Z"
   },
   {
    "duration": 1250,
    "start_time": "2023-01-30T22:30:11.084Z"
   },
   {
    "duration": 4954,
    "start_time": "2023-01-30T22:30:12.336Z"
   },
   {
    "duration": 74,
    "start_time": "2023-01-30T22:30:17.301Z"
   },
   {
    "duration": 27,
    "start_time": "2023-01-30T22:30:17.378Z"
   },
   {
    "duration": 23,
    "start_time": "2023-01-30T22:30:17.408Z"
   },
   {
    "duration": 12,
    "start_time": "2023-01-30T22:30:17.433Z"
   },
   {
    "duration": 44,
    "start_time": "2023-01-30T22:30:17.447Z"
   },
   {
    "duration": 26,
    "start_time": "2023-01-30T22:30:17.492Z"
   },
   {
    "duration": 30,
    "start_time": "2023-01-30T22:30:17.520Z"
   },
   {
    "duration": 13,
    "start_time": "2023-01-30T22:30:17.552Z"
   },
   {
    "duration": 44,
    "start_time": "2023-01-30T22:30:17.569Z"
   },
   {
    "duration": 7,
    "start_time": "2023-01-30T22:30:17.615Z"
   },
   {
    "duration": 8,
    "start_time": "2023-01-30T22:30:17.624Z"
   },
   {
    "duration": 6,
    "start_time": "2023-01-30T22:30:17.635Z"
   },
   {
    "duration": 8,
    "start_time": "2023-01-30T22:30:17.643Z"
   },
   {
    "duration": 7,
    "start_time": "2023-01-30T22:30:17.652Z"
   },
   {
    "duration": 60,
    "start_time": "2023-01-30T22:30:17.660Z"
   },
   {
    "duration": 7,
    "start_time": "2023-01-30T22:30:17.722Z"
   },
   {
    "duration": 5,
    "start_time": "2023-01-30T22:30:17.730Z"
   },
   {
    "duration": 29,
    "start_time": "2023-01-30T22:30:17.736Z"
   },
   {
    "duration": 26,
    "start_time": "2023-01-30T22:30:17.784Z"
   },
   {
    "duration": 126,
    "start_time": "2023-01-30T22:30:28.677Z"
   },
   {
    "duration": 12,
    "start_time": "2023-01-30T22:31:00.909Z"
   },
   {
    "duration": 10,
    "start_time": "2023-01-30T22:31:52.826Z"
   },
   {
    "duration": 14,
    "start_time": "2023-01-30T22:31:57.197Z"
   },
   {
    "duration": 15,
    "start_time": "2023-01-30T22:32:48.212Z"
   },
   {
    "duration": 13,
    "start_time": "2023-01-30T22:32:56.126Z"
   },
   {
    "duration": 26,
    "start_time": "2023-01-30T22:33:11.847Z"
   },
   {
    "duration": 35,
    "start_time": "2023-01-30T22:34:18.704Z"
   },
   {
    "duration": 10,
    "start_time": "2023-01-30T22:34:36.515Z"
   },
   {
    "duration": 24,
    "start_time": "2023-01-30T22:35:26.097Z"
   },
   {
    "duration": 1609,
    "start_time": "2023-01-30T22:37:59.946Z"
   },
   {
    "duration": 1346,
    "start_time": "2023-01-30T22:38:15.131Z"
   },
   {
    "duration": 933,
    "start_time": "2023-01-30T22:38:16.488Z"
   },
   {
    "duration": 99,
    "start_time": "2023-01-30T22:38:17.423Z"
   },
   {
    "duration": 20,
    "start_time": "2023-01-30T22:38:17.524Z"
   },
   {
    "duration": 16,
    "start_time": "2023-01-30T22:38:17.561Z"
   },
   {
    "duration": 30,
    "start_time": "2023-01-30T22:38:17.579Z"
   },
   {
    "duration": 8,
    "start_time": "2023-01-30T22:38:17.611Z"
   },
   {
    "duration": 23,
    "start_time": "2023-01-30T22:38:17.621Z"
   },
   {
    "duration": 31,
    "start_time": "2023-01-30T22:38:17.646Z"
   },
   {
    "duration": 26,
    "start_time": "2023-01-30T22:38:17.678Z"
   },
   {
    "duration": 18,
    "start_time": "2023-01-30T22:38:17.706Z"
   },
   {
    "duration": 7,
    "start_time": "2023-01-30T22:38:17.726Z"
   },
   {
    "duration": 12,
    "start_time": "2023-01-30T22:38:17.736Z"
   },
   {
    "duration": 53,
    "start_time": "2023-01-30T22:38:17.752Z"
   },
   {
    "duration": 15,
    "start_time": "2023-01-30T22:38:17.807Z"
   },
   {
    "duration": 23,
    "start_time": "2023-01-30T22:38:17.824Z"
   },
   {
    "duration": 56,
    "start_time": "2023-01-30T22:38:17.854Z"
   },
   {
    "duration": 8,
    "start_time": "2023-01-30T22:38:17.912Z"
   },
   {
    "duration": 6,
    "start_time": "2023-01-30T22:38:17.922Z"
   },
   {
    "duration": 17,
    "start_time": "2023-01-30T22:38:17.930Z"
   },
   {
    "duration": 10,
    "start_time": "2023-01-30T22:38:17.955Z"
   },
   {
    "duration": 46,
    "start_time": "2023-01-30T22:38:17.967Z"
   },
   {
    "duration": 52,
    "start_time": "2023-01-30T22:38:18.015Z"
   },
   {
    "duration": 3529,
    "start_time": "2023-01-30T22:38:18.068Z"
   },
   {
    "duration": 4,
    "start_time": "2023-01-30T22:38:21.599Z"
   },
   {
    "duration": 47,
    "start_time": "2023-01-30T22:38:21.605Z"
   },
   {
    "duration": 47,
    "start_time": "2023-01-30T22:38:21.656Z"
   },
   {
    "duration": 26,
    "start_time": "2023-01-30T22:38:21.705Z"
   },
   {
    "duration": 34,
    "start_time": "2023-01-30T22:38:21.734Z"
   },
   {
    "duration": 139,
    "start_time": "2023-01-30T22:38:21.772Z"
   },
   {
    "duration": 27,
    "start_time": "2023-01-30T22:40:40.346Z"
   },
   {
    "duration": 62,
    "start_time": "2023-01-30T22:40:41.085Z"
   },
   {
    "duration": 1230,
    "start_time": "2023-01-30T22:41:50.078Z"
   },
   {
    "duration": 827,
    "start_time": "2023-01-30T22:41:51.310Z"
   },
   {
    "duration": 70,
    "start_time": "2023-01-30T22:41:52.139Z"
   },
   {
    "duration": 17,
    "start_time": "2023-01-30T22:41:52.211Z"
   },
   {
    "duration": 6,
    "start_time": "2023-01-30T22:41:52.248Z"
   },
   {
    "duration": 45,
    "start_time": "2023-01-30T22:41:52.260Z"
   },
   {
    "duration": 6,
    "start_time": "2023-01-30T22:41:52.307Z"
   },
   {
    "duration": 19,
    "start_time": "2023-01-30T22:41:52.314Z"
   },
   {
    "duration": 34,
    "start_time": "2023-01-30T22:41:52.335Z"
   },
   {
    "duration": 16,
    "start_time": "2023-01-30T22:41:52.375Z"
   },
   {
    "duration": 13,
    "start_time": "2023-01-30T22:41:52.394Z"
   },
   {
    "duration": 6,
    "start_time": "2023-01-30T22:41:52.409Z"
   },
   {
    "duration": 9,
    "start_time": "2023-01-30T22:41:52.417Z"
   },
   {
    "duration": 6,
    "start_time": "2023-01-30T22:41:52.429Z"
   },
   {
    "duration": 7,
    "start_time": "2023-01-30T22:41:52.437Z"
   },
   {
    "duration": 17,
    "start_time": "2023-01-30T22:41:52.445Z"
   },
   {
    "duration": 26,
    "start_time": "2023-01-30T22:41:52.473Z"
   },
   {
    "duration": 12,
    "start_time": "2023-01-30T22:41:52.500Z"
   },
   {
    "duration": 4,
    "start_time": "2023-01-30T22:41:52.514Z"
   },
   {
    "duration": 151,
    "start_time": "2023-01-30T22:41:52.520Z"
   },
   {
    "duration": 0,
    "start_time": "2023-01-30T22:41:52.672Z"
   },
   {
    "duration": 0,
    "start_time": "2023-01-30T22:41:52.673Z"
   },
   {
    "duration": 0,
    "start_time": "2023-01-30T22:41:52.674Z"
   },
   {
    "duration": 0,
    "start_time": "2023-01-30T22:41:52.675Z"
   },
   {
    "duration": 0,
    "start_time": "2023-01-30T22:41:52.676Z"
   },
   {
    "duration": 0,
    "start_time": "2023-01-30T22:41:52.677Z"
   },
   {
    "duration": 0,
    "start_time": "2023-01-30T22:41:52.678Z"
   },
   {
    "duration": 0,
    "start_time": "2023-01-30T22:41:52.679Z"
   },
   {
    "duration": 20,
    "start_time": "2023-01-30T22:42:25.713Z"
   },
   {
    "duration": 43,
    "start_time": "2023-01-30T22:42:53.733Z"
   },
   {
    "duration": 27,
    "start_time": "2023-01-30T22:44:07.979Z"
   },
   {
    "duration": 14,
    "start_time": "2023-01-30T22:44:15.880Z"
   },
   {
    "duration": 26,
    "start_time": "2023-01-30T22:44:18.469Z"
   },
   {
    "duration": 8692,
    "start_time": "2023-01-30T22:44:20.787Z"
   },
   {
    "duration": 1611,
    "start_time": "2023-01-30T22:44:36.101Z"
   },
   {
    "duration": 13025,
    "start_time": "2023-01-30T22:44:44.392Z"
   },
   {
    "duration": 19961,
    "start_time": "2023-01-30T22:45:04.450Z"
   },
   {
    "duration": 1095,
    "start_time": "2023-01-31T07:02:51.311Z"
   },
   {
    "duration": 1981,
    "start_time": "2023-01-31T07:02:52.408Z"
   },
   {
    "duration": 63,
    "start_time": "2023-01-31T07:02:54.390Z"
   },
   {
    "duration": 246,
    "start_time": "2023-01-31T07:02:54.454Z"
   },
   {
    "duration": 3,
    "start_time": "2023-01-31T07:02:54.702Z"
   },
   {
    "duration": 16,
    "start_time": "2023-01-31T07:02:54.706Z"
   },
   {
    "duration": 5,
    "start_time": "2023-01-31T07:02:54.723Z"
   },
   {
    "duration": 15,
    "start_time": "2023-01-31T07:02:54.730Z"
   },
   {
    "duration": 50,
    "start_time": "2023-01-31T07:02:54.747Z"
   },
   {
    "duration": 3,
    "start_time": "2023-01-31T07:02:54.798Z"
   },
   {
    "duration": 13,
    "start_time": "2023-01-31T07:02:54.803Z"
   },
   {
    "duration": 9,
    "start_time": "2023-01-31T07:02:54.818Z"
   },
   {
    "duration": 7,
    "start_time": "2023-01-31T07:02:54.828Z"
   },
   {
    "duration": 29,
    "start_time": "2023-01-31T07:02:54.838Z"
   },
   {
    "duration": 14,
    "start_time": "2023-01-31T07:02:54.868Z"
   },
   {
    "duration": 18,
    "start_time": "2023-01-31T07:02:54.884Z"
   },
   {
    "duration": 9,
    "start_time": "2023-01-31T07:02:54.904Z"
   },
   {
    "duration": 6,
    "start_time": "2023-01-31T07:02:54.915Z"
   },
   {
    "duration": 6,
    "start_time": "2023-01-31T07:02:54.923Z"
   },
   {
    "duration": 20,
    "start_time": "2023-01-31T07:02:54.930Z"
   },
   {
    "duration": 20,
    "start_time": "2023-01-31T07:02:54.951Z"
   },
   {
    "duration": 7782,
    "start_time": "2023-01-31T07:03:28.422Z"
   },
   {
    "duration": 111,
    "start_time": "2023-01-31T07:08:18.779Z"
   },
   {
    "duration": 3,
    "start_time": "2023-01-31T07:08:48.766Z"
   },
   {
    "duration": 686,
    "start_time": "2023-01-31T07:08:48.771Z"
   },
   {
    "duration": 65,
    "start_time": "2023-01-31T07:08:49.459Z"
   },
   {
    "duration": 16,
    "start_time": "2023-01-31T07:08:49.526Z"
   },
   {
    "duration": 3,
    "start_time": "2023-01-31T07:08:49.545Z"
   },
   {
    "duration": 36,
    "start_time": "2023-01-31T07:08:49.549Z"
   },
   {
    "duration": 7,
    "start_time": "2023-01-31T07:08:49.587Z"
   },
   {
    "duration": 35,
    "start_time": "2023-01-31T07:08:49.596Z"
   },
   {
    "duration": 32,
    "start_time": "2023-01-31T07:08:49.634Z"
   },
   {
    "duration": 4,
    "start_time": "2023-01-31T07:08:49.669Z"
   },
   {
    "duration": 17,
    "start_time": "2023-01-31T07:08:49.683Z"
   },
   {
    "duration": 25,
    "start_time": "2023-01-31T07:08:49.702Z"
   },
   {
    "duration": 9,
    "start_time": "2023-01-31T07:08:49.730Z"
   },
   {
    "duration": 13,
    "start_time": "2023-01-31T07:08:49.741Z"
   },
   {
    "duration": 18,
    "start_time": "2023-01-31T07:08:49.756Z"
   },
   {
    "duration": 79,
    "start_time": "2023-01-31T07:08:49.776Z"
   },
   {
    "duration": 99,
    "start_time": "2023-01-31T07:08:49.857Z"
   },
   {
    "duration": 6,
    "start_time": "2023-01-31T07:08:49.958Z"
   },
   {
    "duration": 26,
    "start_time": "2023-01-31T07:08:49.966Z"
   },
   {
    "duration": 38,
    "start_time": "2023-01-31T07:08:49.994Z"
   },
   {
    "duration": 30,
    "start_time": "2023-01-31T07:08:50.034Z"
   },
   {
    "duration": 7918,
    "start_time": "2023-01-31T07:08:50.066Z"
   },
   {
    "duration": 15,
    "start_time": "2023-01-31T07:09:12.924Z"
   },
   {
    "duration": 11,
    "start_time": "2023-01-31T07:10:47.207Z"
   },
   {
    "duration": 17,
    "start_time": "2023-01-31T07:11:06.809Z"
   },
   {
    "duration": 17,
    "start_time": "2023-01-31T07:11:57.625Z"
   },
   {
    "duration": 16,
    "start_time": "2023-01-31T07:14:19.681Z"
   },
   {
    "duration": 13,
    "start_time": "2023-01-31T07:15:32.645Z"
   },
   {
    "duration": 1139,
    "start_time": "2023-01-31T07:19:03.265Z"
   },
   {
    "duration": 757,
    "start_time": "2023-01-31T07:19:04.406Z"
   },
   {
    "duration": 82,
    "start_time": "2023-01-31T07:19:05.165Z"
   },
   {
    "duration": 17,
    "start_time": "2023-01-31T07:19:05.248Z"
   },
   {
    "duration": 20,
    "start_time": "2023-01-31T07:19:05.267Z"
   },
   {
    "duration": 17,
    "start_time": "2023-01-31T07:19:05.289Z"
   },
   {
    "duration": 4,
    "start_time": "2023-01-31T07:19:05.308Z"
   },
   {
    "duration": 20,
    "start_time": "2023-01-31T07:19:05.313Z"
   },
   {
    "duration": 27,
    "start_time": "2023-01-31T07:19:05.335Z"
   },
   {
    "duration": 4,
    "start_time": "2023-01-31T07:19:05.363Z"
   },
   {
    "duration": 37,
    "start_time": "2023-01-31T07:19:05.368Z"
   },
   {
    "duration": 19,
    "start_time": "2023-01-31T07:19:05.407Z"
   },
   {
    "duration": 17,
    "start_time": "2023-01-31T07:19:05.428Z"
   },
   {
    "duration": 20,
    "start_time": "2023-01-31T07:19:05.447Z"
   },
   {
    "duration": 23,
    "start_time": "2023-01-31T07:19:05.469Z"
   },
   {
    "duration": 16,
    "start_time": "2023-01-31T07:19:05.496Z"
   },
   {
    "duration": 10,
    "start_time": "2023-01-31T07:19:05.514Z"
   },
   {
    "duration": 15,
    "start_time": "2023-01-31T07:19:05.526Z"
   },
   {
    "duration": 15,
    "start_time": "2023-01-31T07:19:05.543Z"
   },
   {
    "duration": 25,
    "start_time": "2023-01-31T07:19:05.560Z"
   },
   {
    "duration": 21,
    "start_time": "2023-01-31T07:19:05.588Z"
   },
   {
    "duration": 13497,
    "start_time": "2023-01-31T07:19:05.611Z"
   },
   {
    "duration": 17961,
    "start_time": "2023-01-31T07:19:19.110Z"
   },
   {
    "duration": 9794,
    "start_time": "2023-01-31T07:19:53.903Z"
   },
   {
    "duration": 1652,
    "start_time": "2023-01-31T07:21:11.143Z"
   },
   {
    "duration": 2986,
    "start_time": "2023-01-31T07:21:20.208Z"
   },
   {
    "duration": 4519,
    "start_time": "2023-01-31T07:21:28.269Z"
   },
   {
    "duration": 566,
    "start_time": "2023-01-31T07:21:39.424Z"
   },
   {
    "duration": 1991,
    "start_time": "2023-01-31T07:21:45.993Z"
   },
   {
    "duration": 2939,
    "start_time": "2023-01-31T07:21:55.050Z"
   },
   {
    "duration": 2168,
    "start_time": "2023-01-31T07:22:03.923Z"
   },
   {
    "duration": 1380,
    "start_time": "2023-01-31T07:22:09.522Z"
   },
   {
    "duration": 1087,
    "start_time": "2023-01-31T07:22:21.408Z"
   },
   {
    "duration": 959,
    "start_time": "2023-01-31T07:22:27.235Z"
   },
   {
    "duration": 4887,
    "start_time": "2023-01-31T07:22:38.423Z"
   },
   {
    "duration": 2300,
    "start_time": "2023-01-31T07:22:51.398Z"
   },
   {
    "duration": 1188,
    "start_time": "2023-01-31T07:23:06.427Z"
   },
   {
    "duration": 13591,
    "start_time": "2023-01-31T07:23:25.799Z"
   },
   {
    "duration": 1896,
    "start_time": "2023-01-31T07:23:47.423Z"
   },
   {
    "duration": 808,
    "start_time": "2023-01-31T07:23:56.198Z"
   },
   {
    "duration": 1583,
    "start_time": "2023-01-31T07:24:01.708Z"
   },
   {
    "duration": 1011,
    "start_time": "2023-01-31T07:24:08.697Z"
   },
   {
    "duration": 1662,
    "start_time": "2023-01-31T07:26:38.398Z"
   },
   {
    "duration": 1490,
    "start_time": "2023-01-31T07:32:20.713Z"
   },
   {
    "duration": 784,
    "start_time": "2023-01-31T07:32:27.963Z"
   },
   {
    "duration": 378,
    "start_time": "2023-01-31T07:32:35.210Z"
   },
   {
    "duration": 2242,
    "start_time": "2023-01-31T07:32:41.699Z"
   },
   {
    "duration": 777,
    "start_time": "2023-01-31T07:32:48.497Z"
   },
   {
    "duration": 1105,
    "start_time": "2023-01-31T07:32:57.544Z"
   },
   {
    "duration": 872,
    "start_time": "2023-01-31T07:35:23.232Z"
   },
   {
    "duration": 1483,
    "start_time": "2023-01-31T07:35:30.154Z"
   },
   {
    "duration": 2007,
    "start_time": "2023-01-31T07:35:38.196Z"
   },
   {
    "duration": 1485,
    "start_time": "2023-01-31T07:35:44.828Z"
   },
   {
    "duration": 1044,
    "start_time": "2023-01-31T07:35:50.861Z"
   },
   {
    "duration": 1507,
    "start_time": "2023-01-31T07:35:55.625Z"
   },
   {
    "duration": 762,
    "start_time": "2023-01-31T07:36:30.945Z"
   },
   {
    "duration": 387,
    "start_time": "2023-01-31T07:36:44.029Z"
   },
   {
    "duration": 1176,
    "start_time": "2023-01-31T07:36:53.146Z"
   },
   {
    "duration": 756,
    "start_time": "2023-01-31T07:36:58.808Z"
   },
   {
    "duration": 762,
    "start_time": "2023-01-31T07:37:17.645Z"
   },
   {
    "duration": 18,
    "start_time": "2023-01-31T07:40:53.345Z"
   },
   {
    "duration": 744,
    "start_time": "2023-01-31T07:44:00.416Z"
   },
   {
    "duration": 46,
    "start_time": "2023-01-31T07:45:01.023Z"
   },
   {
    "duration": 24,
    "start_time": "2023-01-31T07:45:12.075Z"
   },
   {
    "duration": 16,
    "start_time": "2023-01-31T07:56:31.765Z"
   },
   {
    "duration": 768,
    "start_time": "2023-01-31T07:57:31.405Z"
   },
   {
    "duration": 7,
    "start_time": "2023-01-31T07:57:40.754Z"
   },
   {
    "duration": 14,
    "start_time": "2023-01-31T07:58:01.561Z"
   },
   {
    "duration": 18,
    "start_time": "2023-01-31T07:58:10.967Z"
   },
   {
    "duration": 14,
    "start_time": "2023-01-31T07:58:33.609Z"
   },
   {
    "duration": 13,
    "start_time": "2023-01-31T07:58:54.527Z"
   },
   {
    "duration": 3,
    "start_time": "2023-01-31T07:59:38.900Z"
   },
   {
    "duration": 50,
    "start_time": "2023-01-31T08:01:29.930Z"
   },
   {
    "duration": 31,
    "start_time": "2023-01-31T08:01:48.729Z"
   },
   {
    "duration": 3,
    "start_time": "2023-01-31T08:05:29.399Z"
   },
   {
    "duration": 7,
    "start_time": "2023-01-31T08:05:40.289Z"
   },
   {
    "duration": 29,
    "start_time": "2023-01-31T08:06:51.114Z"
   },
   {
    "duration": 50,
    "start_time": "2023-01-31T08:07:06.978Z"
   },
   {
    "duration": 40,
    "start_time": "2023-01-31T08:07:33.405Z"
   },
   {
    "duration": 13,
    "start_time": "2023-01-31T08:07:39.602Z"
   },
   {
    "duration": 35,
    "start_time": "2023-01-31T08:08:10.340Z"
   },
   {
    "duration": 29,
    "start_time": "2023-01-31T08:08:26.545Z"
   },
   {
    "duration": 7,
    "start_time": "2023-01-31T08:08:34.243Z"
   },
   {
    "duration": 43,
    "start_time": "2023-01-31T08:10:25.178Z"
   },
   {
    "duration": 63,
    "start_time": "2023-01-31T08:10:31.030Z"
   },
   {
    "duration": 11,
    "start_time": "2023-01-31T08:10:37.828Z"
   },
   {
    "duration": 12,
    "start_time": "2023-01-31T08:10:44.922Z"
   },
   {
    "duration": 31,
    "start_time": "2023-01-31T08:10:49.411Z"
   },
   {
    "duration": 32,
    "start_time": "2023-01-31T08:11:08.388Z"
   },
   {
    "duration": 11,
    "start_time": "2023-01-31T08:11:12.731Z"
   },
   {
    "duration": 1263,
    "start_time": "2023-01-31T08:13:19.549Z"
   },
   {
    "duration": 738,
    "start_time": "2023-01-31T08:13:20.814Z"
   },
   {
    "duration": 102,
    "start_time": "2023-01-31T08:13:21.553Z"
   },
   {
    "duration": 26,
    "start_time": "2023-01-31T08:13:21.657Z"
   },
   {
    "duration": 17,
    "start_time": "2023-01-31T08:13:21.691Z"
   },
   {
    "duration": 52,
    "start_time": "2023-01-31T08:13:21.711Z"
   },
   {
    "duration": 50,
    "start_time": "2023-01-31T08:13:21.765Z"
   },
   {
    "duration": 39,
    "start_time": "2023-01-31T08:13:21.817Z"
   },
   {
    "duration": 41,
    "start_time": "2023-01-31T08:13:21.858Z"
   },
   {
    "duration": 5,
    "start_time": "2023-01-31T08:13:21.908Z"
   },
   {
    "duration": 40,
    "start_time": "2023-01-31T08:13:21.914Z"
   },
   {
    "duration": 49,
    "start_time": "2023-01-31T08:13:21.957Z"
   },
   {
    "duration": 60,
    "start_time": "2023-01-31T08:13:22.008Z"
   },
   {
    "duration": 51,
    "start_time": "2023-01-31T08:13:22.070Z"
   },
   {
    "duration": 39,
    "start_time": "2023-01-31T08:13:22.124Z"
   },
   {
    "duration": 72,
    "start_time": "2023-01-31T08:13:22.165Z"
   },
   {
    "duration": 35,
    "start_time": "2023-01-31T08:13:22.239Z"
   },
   {
    "duration": 59,
    "start_time": "2023-01-31T08:13:22.276Z"
   },
   {
    "duration": 37,
    "start_time": "2023-01-31T08:13:22.337Z"
   },
   {
    "duration": 56,
    "start_time": "2023-01-31T08:13:22.376Z"
   },
   {
    "duration": 40,
    "start_time": "2023-01-31T08:13:22.434Z"
   },
   {
    "duration": 1648,
    "start_time": "2023-01-31T08:13:22.476Z"
   },
   {
    "duration": 2520,
    "start_time": "2023-01-31T08:13:24.127Z"
   },
   {
    "duration": 878,
    "start_time": "2023-01-31T08:13:26.649Z"
   },
   {
    "duration": 846,
    "start_time": "2023-01-31T08:13:27.529Z"
   },
   {
    "duration": 17,
    "start_time": "2023-01-31T08:13:28.377Z"
   },
   {
    "duration": 20,
    "start_time": "2023-01-31T08:13:28.398Z"
   },
   {
    "duration": 19,
    "start_time": "2023-01-31T08:13:28.421Z"
   },
   {
    "duration": 154,
    "start_time": "2023-01-31T08:15:15.352Z"
   },
   {
    "duration": 5,
    "start_time": "2023-01-31T08:15:28.706Z"
   },
   {
    "duration": 1007,
    "start_time": "2023-01-31T08:15:28.713Z"
   },
   {
    "duration": 115,
    "start_time": "2023-01-31T08:15:29.722Z"
   },
   {
    "duration": 29,
    "start_time": "2023-01-31T08:15:29.839Z"
   },
   {
    "duration": 14,
    "start_time": "2023-01-31T08:15:29.873Z"
   },
   {
    "duration": 128,
    "start_time": "2023-01-31T08:15:29.891Z"
   },
   {
    "duration": 43,
    "start_time": "2023-01-31T08:15:30.022Z"
   },
   {
    "duration": 73,
    "start_time": "2023-01-31T08:15:30.068Z"
   },
   {
    "duration": 57,
    "start_time": "2023-01-31T08:15:30.144Z"
   },
   {
    "duration": 41,
    "start_time": "2023-01-31T08:15:30.203Z"
   },
   {
    "duration": 78,
    "start_time": "2023-01-31T08:15:30.246Z"
   },
   {
    "duration": 41,
    "start_time": "2023-01-31T08:15:30.326Z"
   },
   {
    "duration": 56,
    "start_time": "2023-01-31T08:15:30.369Z"
   },
   {
    "duration": 79,
    "start_time": "2023-01-31T08:15:30.429Z"
   },
   {
    "duration": 60,
    "start_time": "2023-01-31T08:15:30.510Z"
   },
   {
    "duration": 76,
    "start_time": "2023-01-31T08:15:30.574Z"
   },
   {
    "duration": 62,
    "start_time": "2023-01-31T08:15:30.653Z"
   },
   {
    "duration": 83,
    "start_time": "2023-01-31T08:15:30.717Z"
   },
   {
    "duration": 52,
    "start_time": "2023-01-31T08:15:30.803Z"
   },
   {
    "duration": 127,
    "start_time": "2023-01-31T08:15:30.857Z"
   },
   {
    "duration": 78,
    "start_time": "2023-01-31T08:15:30.991Z"
   },
   {
    "duration": 1625,
    "start_time": "2023-01-31T08:15:31.071Z"
   },
   {
    "duration": 2693,
    "start_time": "2023-01-31T08:15:32.698Z"
   },
   {
    "duration": 870,
    "start_time": "2023-01-31T08:15:35.395Z"
   },
   {
    "duration": 845,
    "start_time": "2023-01-31T08:15:36.267Z"
   },
   {
    "duration": 5,
    "start_time": "2023-01-31T08:15:37.114Z"
   },
   {
    "duration": 20,
    "start_time": "2023-01-31T08:15:37.120Z"
   },
   {
    "duration": 31,
    "start_time": "2023-01-31T08:15:40.809Z"
   },
   {
    "duration": 17,
    "start_time": "2023-01-31T08:15:56.060Z"
   },
   {
    "duration": 18,
    "start_time": "2023-01-31T08:16:58.130Z"
   },
   {
    "duration": 29,
    "start_time": "2023-01-31T08:23:41.676Z"
   },
   {
    "duration": 882,
    "start_time": "2023-01-31T08:30:41.333Z"
   },
   {
    "duration": 5,
    "start_time": "2023-01-31T08:30:53.307Z"
   },
   {
    "duration": 21,
    "start_time": "2023-01-31T08:30:54.002Z"
   },
   {
    "duration": 11,
    "start_time": "2023-01-31T08:32:26.610Z"
   },
   {
    "duration": 17,
    "start_time": "2023-01-31T08:33:38.112Z"
   },
   {
    "duration": 12,
    "start_time": "2023-01-31T08:34:22.961Z"
   },
   {
    "duration": 21,
    "start_time": "2023-01-31T08:34:46.353Z"
   },
   {
    "duration": 32,
    "start_time": "2023-01-31T08:35:23.362Z"
   },
   {
    "duration": 4,
    "start_time": "2023-01-31T08:35:42.474Z"
   },
   {
    "duration": 752,
    "start_time": "2023-01-31T08:35:42.480Z"
   },
   {
    "duration": 74,
    "start_time": "2023-01-31T08:35:43.234Z"
   },
   {
    "duration": 19,
    "start_time": "2023-01-31T08:35:43.310Z"
   },
   {
    "duration": 3,
    "start_time": "2023-01-31T08:35:43.331Z"
   },
   {
    "duration": 11,
    "start_time": "2023-01-31T08:35:43.336Z"
   },
   {
    "duration": 35,
    "start_time": "2023-01-31T08:35:43.349Z"
   },
   {
    "duration": 42,
    "start_time": "2023-01-31T08:35:43.396Z"
   },
   {
    "duration": 25,
    "start_time": "2023-01-31T08:35:43.440Z"
   },
   {
    "duration": 4,
    "start_time": "2023-01-31T08:35:43.467Z"
   },
   {
    "duration": 23,
    "start_time": "2023-01-31T08:35:43.473Z"
   },
   {
    "duration": 15,
    "start_time": "2023-01-31T08:35:43.500Z"
   },
   {
    "duration": 15,
    "start_time": "2023-01-31T08:35:43.517Z"
   },
   {
    "duration": 21,
    "start_time": "2023-01-31T08:35:43.535Z"
   },
   {
    "duration": 14,
    "start_time": "2023-01-31T08:35:43.558Z"
   },
   {
    "duration": 13,
    "start_time": "2023-01-31T08:35:43.574Z"
   },
   {
    "duration": 30,
    "start_time": "2023-01-31T08:35:43.588Z"
   },
   {
    "duration": 12,
    "start_time": "2023-01-31T08:35:43.620Z"
   },
   {
    "duration": 23,
    "start_time": "2023-01-31T08:35:43.634Z"
   },
   {
    "duration": 14,
    "start_time": "2023-01-31T08:35:43.659Z"
   },
   {
    "duration": 29,
    "start_time": "2023-01-31T08:35:43.675Z"
   },
   {
    "duration": 1414,
    "start_time": "2023-01-31T08:35:43.706Z"
   },
   {
    "duration": 2316,
    "start_time": "2023-01-31T08:35:45.122Z"
   },
   {
    "duration": 884,
    "start_time": "2023-01-31T08:35:47.439Z"
   },
   {
    "duration": 813,
    "start_time": "2023-01-31T08:35:48.325Z"
   },
   {
    "duration": 6,
    "start_time": "2023-01-31T08:35:53.499Z"
   },
   {
    "duration": 30,
    "start_time": "2023-01-31T08:36:07.700Z"
   },
   {
    "duration": 14,
    "start_time": "2023-01-31T08:36:22.003Z"
   },
   {
    "duration": 24,
    "start_time": "2023-01-31T08:36:34.804Z"
   },
   {
    "duration": 17,
    "start_time": "2023-01-31T08:37:49.951Z"
   },
   {
    "duration": 4,
    "start_time": "2023-01-31T08:38:49.518Z"
   },
   {
    "duration": 866,
    "start_time": "2023-01-31T08:40:04.604Z"
   },
   {
    "duration": 12,
    "start_time": "2023-01-31T08:41:24.237Z"
   },
   {
    "duration": 98,
    "start_time": "2023-01-31T08:42:17.642Z"
   },
   {
    "duration": 107,
    "start_time": "2023-01-31T08:43:01.222Z"
   },
   {
    "duration": 13,
    "start_time": "2023-01-31T08:52:19.209Z"
   },
   {
    "duration": 1384,
    "start_time": "2023-01-31T08:54:44.101Z"
   },
   {
    "duration": 9,
    "start_time": "2023-01-31T08:55:12.050Z"
   },
   {
    "duration": 2302,
    "start_time": "2023-01-31T08:56:57.202Z"
   },
   {
    "duration": 2126,
    "start_time": "2023-01-31T08:57:06.433Z"
   },
   {
    "duration": 2338,
    "start_time": "2023-01-31T08:57:13.279Z"
   },
   {
    "duration": 1404,
    "start_time": "2023-01-31T08:57:20.101Z"
   },
   {
    "duration": 1255,
    "start_time": "2023-01-31T08:58:08.702Z"
   },
   {
    "duration": 1297,
    "start_time": "2023-01-31T08:59:19.026Z"
   },
   {
    "duration": 1479,
    "start_time": "2023-01-31T08:59:26.237Z"
   },
   {
    "duration": 781,
    "start_time": "2023-01-31T08:59:31.740Z"
   },
   {
    "duration": 1086,
    "start_time": "2023-01-31T08:59:35.889Z"
   },
   {
    "duration": 7,
    "start_time": "2023-01-31T08:59:52.651Z"
   },
   {
    "duration": 796,
    "start_time": "2023-01-31T09:04:30.208Z"
   },
   {
    "duration": 4,
    "start_time": "2023-01-31T09:04:34.791Z"
   },
   {
    "duration": 734,
    "start_time": "2023-01-31T09:04:34.798Z"
   },
   {
    "duration": 75,
    "start_time": "2023-01-31T09:04:35.534Z"
   },
   {
    "duration": 19,
    "start_time": "2023-01-31T09:04:35.611Z"
   },
   {
    "duration": 3,
    "start_time": "2023-01-31T09:04:35.634Z"
   },
   {
    "duration": 28,
    "start_time": "2023-01-31T09:04:35.639Z"
   },
   {
    "duration": 18,
    "start_time": "2023-01-31T09:04:35.685Z"
   },
   {
    "duration": 17,
    "start_time": "2023-01-31T09:04:35.705Z"
   },
   {
    "duration": 22,
    "start_time": "2023-01-31T09:04:35.724Z"
   },
   {
    "duration": 4,
    "start_time": "2023-01-31T09:04:35.748Z"
   },
   {
    "duration": 15,
    "start_time": "2023-01-31T09:04:35.753Z"
   },
   {
    "duration": 19,
    "start_time": "2023-01-31T09:04:35.770Z"
   },
   {
    "duration": 7,
    "start_time": "2023-01-31T09:04:35.792Z"
   },
   {
    "duration": 7,
    "start_time": "2023-01-31T09:04:35.801Z"
   },
   {
    "duration": 9,
    "start_time": "2023-01-31T09:04:35.809Z"
   },
   {
    "duration": 12,
    "start_time": "2023-01-31T09:04:35.820Z"
   },
   {
    "duration": 8,
    "start_time": "2023-01-31T09:04:35.833Z"
   },
   {
    "duration": 20,
    "start_time": "2023-01-31T09:04:35.884Z"
   },
   {
    "duration": 7,
    "start_time": "2023-01-31T09:04:35.907Z"
   },
   {
    "duration": 17,
    "start_time": "2023-01-31T09:04:35.916Z"
   },
   {
    "duration": 16,
    "start_time": "2023-01-31T09:04:35.934Z"
   },
   {
    "duration": 1233,
    "start_time": "2023-01-31T09:04:35.952Z"
   },
   {
    "duration": 1619,
    "start_time": "2023-01-31T09:04:37.187Z"
   },
   {
    "duration": 1173,
    "start_time": "2023-01-31T09:04:38.808Z"
   },
   {
    "duration": 1133,
    "start_time": "2023-01-31T09:04:39.984Z"
   },
   {
    "duration": 6,
    "start_time": "2023-01-31T09:04:41.119Z"
   },
   {
    "duration": 16,
    "start_time": "2023-01-31T09:04:45.541Z"
   },
   {
    "duration": 4,
    "start_time": "2023-01-31T09:05:11.740Z"
   },
   {
    "duration": 724,
    "start_time": "2023-01-31T09:05:11.746Z"
   },
   {
    "duration": 64,
    "start_time": "2023-01-31T09:05:12.472Z"
   },
   {
    "duration": 17,
    "start_time": "2023-01-31T09:05:12.537Z"
   },
   {
    "duration": 29,
    "start_time": "2023-01-31T09:05:12.557Z"
   },
   {
    "duration": 35,
    "start_time": "2023-01-31T09:05:12.589Z"
   },
   {
    "duration": 29,
    "start_time": "2023-01-31T09:05:12.626Z"
   },
   {
    "duration": 40,
    "start_time": "2023-01-31T09:05:12.657Z"
   },
   {
    "duration": 46,
    "start_time": "2023-01-31T09:05:12.699Z"
   },
   {
    "duration": 8,
    "start_time": "2023-01-31T09:05:12.747Z"
   },
   {
    "duration": 58,
    "start_time": "2023-01-31T09:05:12.757Z"
   },
   {
    "duration": 14,
    "start_time": "2023-01-31T09:05:12.817Z"
   },
   {
    "duration": 32,
    "start_time": "2023-01-31T09:05:12.833Z"
   },
   {
    "duration": 20,
    "start_time": "2023-01-31T09:05:12.868Z"
   },
   {
    "duration": 31,
    "start_time": "2023-01-31T09:05:12.891Z"
   },
   {
    "duration": 14,
    "start_time": "2023-01-31T09:05:12.924Z"
   },
   {
    "duration": 11,
    "start_time": "2023-01-31T09:05:12.940Z"
   },
   {
    "duration": 12,
    "start_time": "2023-01-31T09:05:12.953Z"
   },
   {
    "duration": 6,
    "start_time": "2023-01-31T09:05:12.967Z"
   },
   {
    "duration": 16,
    "start_time": "2023-01-31T09:05:12.975Z"
   },
   {
    "duration": 15,
    "start_time": "2023-01-31T09:05:12.993Z"
   },
   {
    "duration": 2036,
    "start_time": "2023-01-31T09:05:13.010Z"
   },
   {
    "duration": 2277,
    "start_time": "2023-01-31T09:05:15.048Z"
   },
   {
    "duration": 1236,
    "start_time": "2023-01-31T09:05:17.327Z"
   },
   {
    "duration": 1328,
    "start_time": "2023-01-31T09:05:18.565Z"
   },
   {
    "duration": 8,
    "start_time": "2023-01-31T09:05:19.895Z"
   },
   {
    "duration": 41,
    "start_time": "2023-01-31T09:05:19.906Z"
   },
   {
    "duration": 5,
    "start_time": "2023-01-31T09:05:33.831Z"
   },
   {
    "duration": 9,
    "start_time": "2023-01-31T09:06:50.114Z"
   },
   {
    "duration": 13,
    "start_time": "2023-01-31T09:08:44.037Z"
   },
   {
    "duration": 4,
    "start_time": "2023-01-31T09:11:02.323Z"
   },
   {
    "duration": 13,
    "start_time": "2023-01-31T09:11:07.109Z"
   },
   {
    "duration": 4,
    "start_time": "2023-01-31T09:11:26.132Z"
   },
   {
    "duration": 17,
    "start_time": "2023-01-31T09:11:30.656Z"
   },
   {
    "duration": 4,
    "start_time": "2023-01-31T09:13:28.656Z"
   },
   {
    "duration": 16,
    "start_time": "2023-01-31T09:13:34.072Z"
   },
   {
    "duration": 55,
    "start_time": "2023-01-31T09:17:05.026Z"
   },
   {
    "duration": 3,
    "start_time": "2023-01-31T09:18:36.651Z"
   },
   {
    "duration": 49,
    "start_time": "2023-01-31T09:19:13.960Z"
   },
   {
    "duration": 354,
    "start_time": "2023-01-31T09:19:22.326Z"
   },
   {
    "duration": 10,
    "start_time": "2023-01-31T09:20:54.593Z"
   },
   {
    "duration": 4,
    "start_time": "2023-01-31T09:21:09.970Z"
   },
   {
    "duration": 712,
    "start_time": "2023-01-31T09:21:13.475Z"
   },
   {
    "duration": 1117,
    "start_time": "2023-01-31T09:23:07.789Z"
   },
   {
    "duration": 682,
    "start_time": "2023-01-31T09:23:08.907Z"
   },
   {
    "duration": 110,
    "start_time": "2023-01-31T09:23:09.591Z"
   },
   {
    "duration": 20,
    "start_time": "2023-01-31T09:23:09.702Z"
   },
   {
    "duration": 16,
    "start_time": "2023-01-31T09:23:09.725Z"
   },
   {
    "duration": 34,
    "start_time": "2023-01-31T09:23:09.743Z"
   },
   {
    "duration": 15,
    "start_time": "2023-01-31T09:23:09.778Z"
   },
   {
    "duration": 23,
    "start_time": "2023-01-31T09:23:09.795Z"
   },
   {
    "duration": 36,
    "start_time": "2023-01-31T09:23:09.820Z"
   },
   {
    "duration": 5,
    "start_time": "2023-01-31T09:23:09.858Z"
   },
   {
    "duration": 25,
    "start_time": "2023-01-31T09:23:09.865Z"
   },
   {
    "duration": 16,
    "start_time": "2023-01-31T09:23:09.893Z"
   },
   {
    "duration": 17,
    "start_time": "2023-01-31T09:23:09.911Z"
   },
   {
    "duration": 10,
    "start_time": "2023-01-31T09:23:09.932Z"
   },
   {
    "duration": 28,
    "start_time": "2023-01-31T09:23:09.945Z"
   },
   {
    "duration": 14,
    "start_time": "2023-01-31T09:23:09.984Z"
   },
   {
    "duration": 9,
    "start_time": "2023-01-31T09:23:10.000Z"
   },
   {
    "duration": 7,
    "start_time": "2023-01-31T09:23:10.010Z"
   },
   {
    "duration": 8,
    "start_time": "2023-01-31T09:23:10.019Z"
   },
   {
    "duration": 19,
    "start_time": "2023-01-31T09:23:10.029Z"
   },
   {
    "duration": 34,
    "start_time": "2023-01-31T09:23:10.050Z"
   },
   {
    "duration": 1533,
    "start_time": "2023-01-31T09:23:10.086Z"
   },
   {
    "duration": 0,
    "start_time": "2023-01-31T09:23:11.621Z"
   },
   {
    "duration": 0,
    "start_time": "2023-01-31T09:23:11.623Z"
   },
   {
    "duration": 0,
    "start_time": "2023-01-31T09:23:11.626Z"
   },
   {
    "duration": 0,
    "start_time": "2023-01-31T09:23:11.627Z"
   },
   {
    "duration": 0,
    "start_time": "2023-01-31T09:23:11.628Z"
   },
   {
    "duration": 0,
    "start_time": "2023-01-31T09:23:11.629Z"
   },
   {
    "duration": 0,
    "start_time": "2023-01-31T09:23:11.630Z"
   },
   {
    "duration": 0,
    "start_time": "2023-01-31T09:23:11.631Z"
   },
   {
    "duration": 1109,
    "start_time": "2023-01-31T09:23:47.510Z"
   },
   {
    "duration": 682,
    "start_time": "2023-01-31T09:23:48.620Z"
   },
   {
    "duration": 64,
    "start_time": "2023-01-31T09:23:49.304Z"
   },
   {
    "duration": 30,
    "start_time": "2023-01-31T09:23:49.370Z"
   },
   {
    "duration": 2,
    "start_time": "2023-01-31T09:23:49.402Z"
   },
   {
    "duration": 14,
    "start_time": "2023-01-31T09:23:49.406Z"
   },
   {
    "duration": 5,
    "start_time": "2023-01-31T09:23:49.422Z"
   },
   {
    "duration": 17,
    "start_time": "2023-01-31T09:23:49.429Z"
   },
   {
    "duration": 50,
    "start_time": "2023-01-31T09:23:49.448Z"
   },
   {
    "duration": 3,
    "start_time": "2023-01-31T09:23:49.501Z"
   },
   {
    "duration": 14,
    "start_time": "2023-01-31T09:23:49.506Z"
   },
   {
    "duration": 7,
    "start_time": "2023-01-31T09:23:49.522Z"
   },
   {
    "duration": 13,
    "start_time": "2023-01-31T09:23:49.530Z"
   },
   {
    "duration": 7,
    "start_time": "2023-01-31T09:23:49.545Z"
   },
   {
    "duration": 7,
    "start_time": "2023-01-31T09:23:49.553Z"
   },
   {
    "duration": 5,
    "start_time": "2023-01-31T09:23:49.584Z"
   },
   {
    "duration": 15,
    "start_time": "2023-01-31T09:23:49.591Z"
   },
   {
    "duration": 28,
    "start_time": "2023-01-31T09:23:49.608Z"
   },
   {
    "duration": 21,
    "start_time": "2023-01-31T09:23:49.638Z"
   },
   {
    "duration": 32,
    "start_time": "2023-01-31T09:23:49.662Z"
   },
   {
    "duration": 18,
    "start_time": "2023-01-31T09:23:49.696Z"
   },
   {
    "duration": 1270,
    "start_time": "2023-01-31T09:23:49.716Z"
   },
   {
    "duration": 380,
    "start_time": "2023-01-31T09:23:50.988Z"
   },
   {
    "duration": 0,
    "start_time": "2023-01-31T09:23:51.370Z"
   },
   {
    "duration": 0,
    "start_time": "2023-01-31T09:23:51.371Z"
   },
   {
    "duration": 0,
    "start_time": "2023-01-31T09:23:51.372Z"
   },
   {
    "duration": 0,
    "start_time": "2023-01-31T09:23:51.383Z"
   },
   {
    "duration": 0,
    "start_time": "2023-01-31T09:23:51.384Z"
   },
   {
    "duration": 0,
    "start_time": "2023-01-31T09:23:51.386Z"
   },
   {
    "duration": 0,
    "start_time": "2023-01-31T09:23:51.387Z"
   },
   {
    "duration": 1223,
    "start_time": "2023-01-31T09:24:18.846Z"
   },
   {
    "duration": 714,
    "start_time": "2023-01-31T09:24:20.071Z"
   },
   {
    "duration": 62,
    "start_time": "2023-01-31T09:24:20.786Z"
   },
   {
    "duration": 35,
    "start_time": "2023-01-31T09:24:20.850Z"
   },
   {
    "duration": 3,
    "start_time": "2023-01-31T09:24:20.888Z"
   },
   {
    "duration": 12,
    "start_time": "2023-01-31T09:24:20.892Z"
   },
   {
    "duration": 5,
    "start_time": "2023-01-31T09:24:20.906Z"
   },
   {
    "duration": 17,
    "start_time": "2023-01-31T09:24:20.912Z"
   },
   {
    "duration": 53,
    "start_time": "2023-01-31T09:24:20.931Z"
   },
   {
    "duration": 3,
    "start_time": "2023-01-31T09:24:20.986Z"
   },
   {
    "duration": 32,
    "start_time": "2023-01-31T09:24:20.991Z"
   },
   {
    "duration": 21,
    "start_time": "2023-01-31T09:24:21.025Z"
   },
   {
    "duration": 15,
    "start_time": "2023-01-31T09:24:21.048Z"
   },
   {
    "duration": 20,
    "start_time": "2023-01-31T09:24:21.066Z"
   },
   {
    "duration": 9,
    "start_time": "2023-01-31T09:24:21.088Z"
   },
   {
    "duration": 20,
    "start_time": "2023-01-31T09:24:21.098Z"
   },
   {
    "duration": 20,
    "start_time": "2023-01-31T09:24:21.120Z"
   },
   {
    "duration": 14,
    "start_time": "2023-01-31T09:24:21.142Z"
   },
   {
    "duration": 13,
    "start_time": "2023-01-31T09:24:21.158Z"
   },
   {
    "duration": 29,
    "start_time": "2023-01-31T09:24:21.173Z"
   },
   {
    "duration": 16,
    "start_time": "2023-01-31T09:24:21.204Z"
   },
   {
    "duration": 1164,
    "start_time": "2023-01-31T09:24:21.221Z"
   },
   {
    "duration": 386,
    "start_time": "2023-01-31T09:24:22.387Z"
   },
   {
    "duration": 0,
    "start_time": "2023-01-31T09:24:22.774Z"
   },
   {
    "duration": 0,
    "start_time": "2023-01-31T09:24:22.784Z"
   },
   {
    "duration": 0,
    "start_time": "2023-01-31T09:24:22.785Z"
   },
   {
    "duration": 0,
    "start_time": "2023-01-31T09:24:22.786Z"
   },
   {
    "duration": 0,
    "start_time": "2023-01-31T09:24:22.788Z"
   },
   {
    "duration": 0,
    "start_time": "2023-01-31T09:24:22.789Z"
   },
   {
    "duration": 0,
    "start_time": "2023-01-31T09:24:22.790Z"
   },
   {
    "duration": 1339,
    "start_time": "2023-01-31T09:24:51.628Z"
   },
   {
    "duration": 717,
    "start_time": "2023-01-31T09:24:52.969Z"
   },
   {
    "duration": 63,
    "start_time": "2023-01-31T09:24:53.687Z"
   },
   {
    "duration": 39,
    "start_time": "2023-01-31T09:24:53.752Z"
   },
   {
    "duration": 3,
    "start_time": "2023-01-31T09:24:53.794Z"
   },
   {
    "duration": 36,
    "start_time": "2023-01-31T09:24:53.798Z"
   },
   {
    "duration": 16,
    "start_time": "2023-01-31T09:24:53.835Z"
   },
   {
    "duration": 42,
    "start_time": "2023-01-31T09:24:53.853Z"
   },
   {
    "duration": 39,
    "start_time": "2023-01-31T09:24:53.897Z"
   },
   {
    "duration": 3,
    "start_time": "2023-01-31T09:24:53.938Z"
   },
   {
    "duration": 28,
    "start_time": "2023-01-31T09:24:53.942Z"
   },
   {
    "duration": 15,
    "start_time": "2023-01-31T09:24:53.972Z"
   },
   {
    "duration": 18,
    "start_time": "2023-01-31T09:24:53.988Z"
   },
   {
    "duration": 29,
    "start_time": "2023-01-31T09:24:54.009Z"
   },
   {
    "duration": 17,
    "start_time": "2023-01-31T09:24:54.040Z"
   },
   {
    "duration": 24,
    "start_time": "2023-01-31T09:24:54.059Z"
   },
   {
    "duration": 15,
    "start_time": "2023-01-31T09:24:54.085Z"
   },
   {
    "duration": 19,
    "start_time": "2023-01-31T09:24:54.102Z"
   },
   {
    "duration": 17,
    "start_time": "2023-01-31T09:24:54.122Z"
   },
   {
    "duration": 35,
    "start_time": "2023-01-31T09:24:54.141Z"
   },
   {
    "duration": 28,
    "start_time": "2023-01-31T09:24:54.178Z"
   },
   {
    "duration": 1317,
    "start_time": "2023-01-31T09:24:54.208Z"
   },
   {
    "duration": 1878,
    "start_time": "2023-01-31T09:24:55.526Z"
   },
   {
    "duration": 1155,
    "start_time": "2023-01-31T09:24:57.406Z"
   },
   {
    "duration": 1145,
    "start_time": "2023-01-31T09:24:58.562Z"
   },
   {
    "duration": 7,
    "start_time": "2023-01-31T09:24:59.710Z"
   },
   {
    "duration": 25,
    "start_time": "2023-01-31T09:24:59.720Z"
   },
   {
    "duration": 5,
    "start_time": "2023-01-31T09:24:59.748Z"
   },
   {
    "duration": 37,
    "start_time": "2023-01-31T09:24:59.755Z"
   },
   {
    "duration": 739,
    "start_time": "2023-01-31T09:24:59.794Z"
   },
   {
    "duration": 1159,
    "start_time": "2023-01-31T09:32:59.865Z"
   },
   {
    "duration": 769,
    "start_time": "2023-01-31T09:33:01.026Z"
   },
   {
    "duration": 66,
    "start_time": "2023-01-31T09:33:01.798Z"
   },
   {
    "duration": 20,
    "start_time": "2023-01-31T09:33:01.883Z"
   },
   {
    "duration": 3,
    "start_time": "2023-01-31T09:33:01.905Z"
   },
   {
    "duration": 27,
    "start_time": "2023-01-31T09:33:01.910Z"
   },
   {
    "duration": 16,
    "start_time": "2023-01-31T09:33:01.939Z"
   },
   {
    "duration": 36,
    "start_time": "2023-01-31T09:33:01.956Z"
   },
   {
    "duration": 42,
    "start_time": "2023-01-31T09:33:01.994Z"
   },
   {
    "duration": 2,
    "start_time": "2023-01-31T09:33:02.039Z"
   },
   {
    "duration": 17,
    "start_time": "2023-01-31T09:33:02.043Z"
   },
   {
    "duration": 15,
    "start_time": "2023-01-31T09:33:02.062Z"
   },
   {
    "duration": 19,
    "start_time": "2023-01-31T09:33:02.079Z"
   },
   {
    "duration": 16,
    "start_time": "2023-01-31T09:33:02.100Z"
   },
   {
    "duration": 18,
    "start_time": "2023-01-31T09:33:02.118Z"
   },
   {
    "duration": 10,
    "start_time": "2023-01-31T09:33:02.138Z"
   },
   {
    "duration": 10,
    "start_time": "2023-01-31T09:33:02.150Z"
   },
   {
    "duration": 6,
    "start_time": "2023-01-31T09:33:02.161Z"
   },
   {
    "duration": 5,
    "start_time": "2023-01-31T09:33:02.169Z"
   },
   {
    "duration": 25,
    "start_time": "2023-01-31T09:33:02.175Z"
   },
   {
    "duration": 15,
    "start_time": "2023-01-31T09:33:02.201Z"
   },
   {
    "duration": 1267,
    "start_time": "2023-01-31T09:33:02.218Z"
   },
   {
    "duration": 1862,
    "start_time": "2023-01-31T09:33:03.486Z"
   },
   {
    "duration": 1167,
    "start_time": "2023-01-31T09:33:05.350Z"
   },
   {
    "duration": 1103,
    "start_time": "2023-01-31T09:33:06.518Z"
   },
   {
    "duration": 7,
    "start_time": "2023-01-31T09:33:07.624Z"
   },
   {
    "duration": 29,
    "start_time": "2023-01-31T09:33:07.633Z"
   },
   {
    "duration": 4,
    "start_time": "2023-01-31T09:33:07.666Z"
   },
   {
    "duration": 17,
    "start_time": "2023-01-31T09:33:07.671Z"
   },
   {
    "duration": 690,
    "start_time": "2023-01-31T09:33:07.690Z"
   },
   {
    "duration": 3577,
    "start_time": "2023-01-31T16:22:06.490Z"
   },
   {
    "duration": 2420,
    "start_time": "2023-01-31T16:22:10.068Z"
   },
   {
    "duration": 69,
    "start_time": "2023-01-31T16:22:12.490Z"
   },
   {
    "duration": 20,
    "start_time": "2023-01-31T16:22:12.560Z"
   },
   {
    "duration": 3,
    "start_time": "2023-01-31T16:22:12.583Z"
   },
   {
    "duration": 14,
    "start_time": "2023-01-31T16:22:12.587Z"
   },
   {
    "duration": 14,
    "start_time": "2023-01-31T16:22:12.602Z"
   },
   {
    "duration": 15,
    "start_time": "2023-01-31T16:22:12.640Z"
   },
   {
    "duration": 29,
    "start_time": "2023-01-31T16:22:12.657Z"
   },
   {
    "duration": 3,
    "start_time": "2023-01-31T16:22:12.688Z"
   },
   {
    "duration": 10,
    "start_time": "2023-01-31T16:22:12.693Z"
   },
   {
    "duration": 38,
    "start_time": "2023-01-31T16:22:12.705Z"
   },
   {
    "duration": 9,
    "start_time": "2023-01-31T16:22:12.745Z"
   },
   {
    "duration": 7,
    "start_time": "2023-01-31T16:22:12.757Z"
   },
   {
    "duration": 11,
    "start_time": "2023-01-31T16:22:12.765Z"
   },
   {
    "duration": 12,
    "start_time": "2023-01-31T16:22:12.778Z"
   },
   {
    "duration": 6,
    "start_time": "2023-01-31T16:22:12.792Z"
   },
   {
    "duration": 9,
    "start_time": "2023-01-31T16:22:12.800Z"
   },
   {
    "duration": 5,
    "start_time": "2023-01-31T16:22:12.839Z"
   },
   {
    "duration": 20,
    "start_time": "2023-01-31T16:22:12.846Z"
   },
   {
    "duration": 14,
    "start_time": "2023-01-31T16:22:12.868Z"
   },
   {
    "duration": 1273,
    "start_time": "2023-01-31T19:17:13.696Z"
   },
   {
    "duration": 3388,
    "start_time": "2023-01-31T19:17:17.821Z"
   },
   {
    "duration": 4,
    "start_time": "2023-01-31T19:17:29.348Z"
   },
   {
    "duration": 804,
    "start_time": "2023-01-31T19:17:30.487Z"
   },
   {
    "duration": 66,
    "start_time": "2023-01-31T19:17:32.147Z"
   },
   {
    "duration": 18,
    "start_time": "2023-01-31T19:17:35.450Z"
   },
   {
    "duration": 2,
    "start_time": "2023-01-31T19:17:38.050Z"
   },
   {
    "duration": 9,
    "start_time": "2023-01-31T19:17:38.648Z"
   },
   {
    "duration": 5,
    "start_time": "2023-01-31T19:17:42.511Z"
   },
   {
    "duration": 18,
    "start_time": "2023-01-31T19:17:44.645Z"
   },
   {
    "duration": 24,
    "start_time": "2023-01-31T19:17:49.195Z"
   },
   {
    "duration": 3,
    "start_time": "2023-01-31T19:18:17.194Z"
   },
   {
    "duration": 7,
    "start_time": "2023-01-31T19:18:17.785Z"
   },
   {
    "duration": 9,
    "start_time": "2023-01-31T19:18:18.612Z"
   },
   {
    "duration": 6,
    "start_time": "2023-01-31T19:18:21.152Z"
   },
   {
    "duration": 8,
    "start_time": "2023-01-31T19:18:23.213Z"
   },
   {
    "duration": 7,
    "start_time": "2023-01-31T19:18:25.994Z"
   },
   {
    "duration": 8,
    "start_time": "2023-01-31T19:18:30.459Z"
   },
   {
    "duration": 7,
    "start_time": "2023-01-31T19:18:34.484Z"
   },
   {
    "duration": 9,
    "start_time": "2023-01-31T19:18:39.187Z"
   },
   {
    "duration": 599,
    "start_time": "2023-01-31T19:21:49.887Z"
   },
   {
    "duration": 173,
    "start_time": "2023-01-31T19:22:29.294Z"
   },
   {
    "duration": 139,
    "start_time": "2023-01-31T19:22:54.437Z"
   },
   {
    "duration": 119,
    "start_time": "2023-01-31T19:23:05.389Z"
   },
   {
    "duration": 161,
    "start_time": "2023-01-31T19:23:13.807Z"
   },
   {
    "duration": 3,
    "start_time": "2023-01-31T19:24:03.121Z"
   },
   {
    "duration": 232,
    "start_time": "2023-01-31T19:28:52.344Z"
   },
   {
    "duration": 125,
    "start_time": "2023-01-31T19:28:57.086Z"
   },
   {
    "duration": 166,
    "start_time": "2023-01-31T19:29:01.188Z"
   },
   {
    "duration": 4,
    "start_time": "2023-01-31T19:30:16.514Z"
   },
   {
    "duration": 4,
    "start_time": "2023-01-31T19:32:53.278Z"
   },
   {
    "duration": 3,
    "start_time": "2023-01-31T19:32:53.746Z"
   },
   {
    "duration": 20,
    "start_time": "2023-01-31T20:09:53.492Z"
   },
   {
    "duration": 16,
    "start_time": "2023-01-31T20:10:03.960Z"
   },
   {
    "duration": 18,
    "start_time": "2023-01-31T20:10:04.662Z"
   },
   {
    "duration": 9,
    "start_time": "2023-01-31T20:10:06.634Z"
   },
   {
    "duration": 5,
    "start_time": "2023-01-31T20:10:14.679Z"
   },
   {
    "duration": 796,
    "start_time": "2023-01-31T20:10:14.687Z"
   },
   {
    "duration": 68,
    "start_time": "2023-01-31T20:10:15.484Z"
   },
   {
    "duration": 18,
    "start_time": "2023-01-31T20:10:15.553Z"
   },
   {
    "duration": 4,
    "start_time": "2023-01-31T20:10:15.574Z"
   },
   {
    "duration": 12,
    "start_time": "2023-01-31T20:10:15.580Z"
   },
   {
    "duration": 5,
    "start_time": "2023-01-31T20:10:15.621Z"
   },
   {
    "duration": 17,
    "start_time": "2023-01-31T20:10:15.628Z"
   },
   {
    "duration": 28,
    "start_time": "2023-01-31T20:10:15.648Z"
   },
   {
    "duration": 4,
    "start_time": "2023-01-31T20:10:15.679Z"
   },
   {
    "duration": 41,
    "start_time": "2023-01-31T20:10:15.685Z"
   },
   {
    "duration": 8,
    "start_time": "2023-01-31T20:10:15.728Z"
   },
   {
    "duration": 8,
    "start_time": "2023-01-31T20:10:15.738Z"
   },
   {
    "duration": 8,
    "start_time": "2023-01-31T20:10:15.750Z"
   },
   {
    "duration": 8,
    "start_time": "2023-01-31T20:10:15.759Z"
   },
   {
    "duration": 7,
    "start_time": "2023-01-31T20:10:15.769Z"
   },
   {
    "duration": 49,
    "start_time": "2023-01-31T20:10:15.777Z"
   },
   {
    "duration": 8,
    "start_time": "2023-01-31T20:10:15.828Z"
   },
   {
    "duration": 160,
    "start_time": "2023-01-31T20:10:15.837Z"
   },
   {
    "duration": 134,
    "start_time": "2023-01-31T20:10:15.999Z"
   },
   {
    "duration": 169,
    "start_time": "2023-01-31T20:10:16.135Z"
   },
   {
    "duration": 4,
    "start_time": "2023-01-31T20:10:16.305Z"
   },
   {
    "duration": 3,
    "start_time": "2023-01-31T20:10:16.320Z"
   },
   {
    "duration": 16,
    "start_time": "2023-01-31T20:10:16.325Z"
   },
   {
    "duration": 20,
    "start_time": "2023-01-31T20:10:16.343Z"
   },
   {
    "duration": 10,
    "start_time": "2023-01-31T20:10:21.506Z"
   },
   {
    "duration": 9,
    "start_time": "2023-01-31T20:10:34.025Z"
   },
   {
    "duration": 3,
    "start_time": "2023-01-31T20:12:53.351Z"
   },
   {
    "duration": 1649,
    "start_time": "2023-01-31T20:14:48.526Z"
   },
   {
    "duration": 1298,
    "start_time": "2023-01-31T20:15:49.478Z"
   },
   {
    "duration": 72,
    "start_time": "2023-01-31T20:17:56.755Z"
   },
   {
    "duration": 1430,
    "start_time": "2023-01-31T20:18:01.392Z"
   },
   {
    "duration": 1845,
    "start_time": "2023-01-31T20:19:41.324Z"
   },
   {
    "duration": 1239,
    "start_time": "2023-01-31T20:20:14.308Z"
   },
   {
    "duration": 1220,
    "start_time": "2023-01-31T20:20:24.464Z"
   },
   {
    "duration": 1290,
    "start_time": "2023-01-31T20:29:53.186Z"
   },
   {
    "duration": 10910,
    "start_time": "2023-01-31T20:33:13.292Z"
   },
   {
    "duration": 46524,
    "start_time": "2023-01-31T20:33:34.682Z"
   },
   {
    "duration": 1145,
    "start_time": "2023-01-31T20:34:29.711Z"
   },
   {
    "duration": 1179,
    "start_time": "2023-01-31T20:36:13.793Z"
   },
   {
    "duration": 969,
    "start_time": "2023-01-31T20:36:19.506Z"
   },
   {
    "duration": 531,
    "start_time": "2023-01-31T20:36:25.139Z"
   },
   {
    "duration": 706,
    "start_time": "2023-01-31T20:36:42.628Z"
   },
   {
    "duration": 1489,
    "start_time": "2023-01-31T20:36:48.136Z"
   },
   {
    "duration": 1125,
    "start_time": "2023-01-31T20:36:54.928Z"
   },
   {
    "duration": 739,
    "start_time": "2023-01-31T20:37:07.208Z"
   },
   {
    "duration": 1443,
    "start_time": "2023-01-31T20:37:25.303Z"
   },
   {
    "duration": 1913,
    "start_time": "2023-01-31T20:37:30.609Z"
   },
   {
    "duration": 1605,
    "start_time": "2023-01-31T20:37:37.059Z"
   },
   {
    "duration": 1653,
    "start_time": "2023-01-31T20:40:14.621Z"
   },
   {
    "duration": 1630,
    "start_time": "2023-01-31T20:40:19.813Z"
   },
   {
    "duration": 1977,
    "start_time": "2023-01-31T20:40:24.197Z"
   },
   {
    "duration": 1788,
    "start_time": "2023-01-31T20:40:30.460Z"
   },
   {
    "duration": 32,
    "start_time": "2023-01-31T20:41:16.620Z"
   },
   {
    "duration": 4,
    "start_time": "2023-01-31T20:41:24.520Z"
   },
   {
    "duration": 736,
    "start_time": "2023-01-31T20:41:24.527Z"
   },
   {
    "duration": 70,
    "start_time": "2023-01-31T20:41:25.265Z"
   },
   {
    "duration": 17,
    "start_time": "2023-01-31T20:41:25.336Z"
   },
   {
    "duration": 3,
    "start_time": "2023-01-31T20:41:25.355Z"
   },
   {
    "duration": 16,
    "start_time": "2023-01-31T20:41:25.360Z"
   },
   {
    "duration": 9,
    "start_time": "2023-01-31T20:41:25.378Z"
   },
   {
    "duration": 19,
    "start_time": "2023-01-31T20:41:25.388Z"
   },
   {
    "duration": 19,
    "start_time": "2023-01-31T20:41:25.421Z"
   },
   {
    "duration": 3,
    "start_time": "2023-01-31T20:41:25.442Z"
   },
   {
    "duration": 18,
    "start_time": "2023-01-31T20:41:25.448Z"
   },
   {
    "duration": 19,
    "start_time": "2023-01-31T20:41:25.468Z"
   },
   {
    "duration": 20,
    "start_time": "2023-01-31T20:41:25.489Z"
   },
   {
    "duration": 16,
    "start_time": "2023-01-31T20:41:25.512Z"
   },
   {
    "duration": 18,
    "start_time": "2023-01-31T20:41:25.529Z"
   },
   {
    "duration": 7,
    "start_time": "2023-01-31T20:41:25.549Z"
   },
   {
    "duration": 12,
    "start_time": "2023-01-31T20:41:25.558Z"
   },
   {
    "duration": 12,
    "start_time": "2023-01-31T20:41:25.573Z"
   },
   {
    "duration": 155,
    "start_time": "2023-01-31T20:41:25.586Z"
   },
   {
    "duration": 136,
    "start_time": "2023-01-31T20:41:25.742Z"
   },
   {
    "duration": 164,
    "start_time": "2023-01-31T20:41:25.879Z"
   },
   {
    "duration": 4,
    "start_time": "2023-01-31T20:41:26.044Z"
   },
   {
    "duration": 8,
    "start_time": "2023-01-31T20:41:26.050Z"
   },
   {
    "duration": 30,
    "start_time": "2023-01-31T20:41:26.060Z"
   },
   {
    "duration": 28,
    "start_time": "2023-01-31T20:41:26.092Z"
   },
   {
    "duration": 3,
    "start_time": "2023-01-31T20:41:26.122Z"
   },
   {
    "duration": 1814,
    "start_time": "2023-01-31T20:41:26.128Z"
   },
   {
    "duration": 1427,
    "start_time": "2023-01-31T20:41:27.944Z"
   },
   {
    "duration": 1817,
    "start_time": "2023-01-31T20:41:29.372Z"
   },
   {
    "duration": 1790,
    "start_time": "2023-01-31T20:41:31.190Z"
   },
   {
    "duration": 6,
    "start_time": "2023-01-31T20:41:32.981Z"
   },
   {
    "duration": 27,
    "start_time": "2023-01-31T20:41:32.989Z"
   },
   {
    "duration": 9,
    "start_time": "2023-01-31T20:41:33.017Z"
   },
   {
    "duration": 10,
    "start_time": "2023-01-31T20:41:37.595Z"
   },
   {
    "duration": 10,
    "start_time": "2023-01-31T20:41:39.511Z"
   },
   {
    "duration": 87,
    "start_time": "2023-01-31T20:44:12.578Z"
   },
   {
    "duration": 98,
    "start_time": "2023-01-31T20:45:04.714Z"
   },
   {
    "duration": 688,
    "start_time": "2023-01-31T20:45:11.104Z"
   },
   {
    "duration": 7,
    "start_time": "2023-01-31T20:53:12.684Z"
   },
   {
    "duration": 839,
    "start_time": "2023-01-31T20:54:24.877Z"
   },
   {
    "duration": 880,
    "start_time": "2023-01-31T20:54:54.061Z"
   },
   {
    "duration": 12,
    "start_time": "2023-01-31T20:56:08.111Z"
   },
   {
    "duration": 708,
    "start_time": "2023-01-31T20:56:10.560Z"
   },
   {
    "duration": 856,
    "start_time": "2023-01-31T20:58:04.579Z"
   },
   {
    "duration": 1457,
    "start_time": "2023-01-31T21:07:09.491Z"
   },
   {
    "duration": 765,
    "start_time": "2023-01-31T21:07:10.950Z"
   },
   {
    "duration": 65,
    "start_time": "2023-01-31T21:07:11.717Z"
   },
   {
    "duration": 48,
    "start_time": "2023-01-31T21:07:11.783Z"
   },
   {
    "duration": 4,
    "start_time": "2023-01-31T21:07:11.833Z"
   },
   {
    "duration": 21,
    "start_time": "2023-01-31T21:07:11.839Z"
   },
   {
    "duration": 6,
    "start_time": "2023-01-31T21:07:11.862Z"
   },
   {
    "duration": 27,
    "start_time": "2023-01-31T21:07:11.870Z"
   },
   {
    "duration": 48,
    "start_time": "2023-01-31T21:07:11.898Z"
   },
   {
    "duration": 3,
    "start_time": "2023-01-31T21:07:11.948Z"
   },
   {
    "duration": 11,
    "start_time": "2023-01-31T21:07:11.953Z"
   },
   {
    "duration": 12,
    "start_time": "2023-01-31T21:07:11.966Z"
   },
   {
    "duration": 7,
    "start_time": "2023-01-31T21:07:11.980Z"
   },
   {
    "duration": 32,
    "start_time": "2023-01-31T21:07:11.990Z"
   },
   {
    "duration": 10,
    "start_time": "2023-01-31T21:07:12.023Z"
   },
   {
    "duration": 8,
    "start_time": "2023-01-31T21:07:12.035Z"
   },
   {
    "duration": 11,
    "start_time": "2023-01-31T21:07:12.044Z"
   },
   {
    "duration": 8,
    "start_time": "2023-01-31T21:07:12.057Z"
   },
   {
    "duration": 186,
    "start_time": "2023-01-31T21:07:12.067Z"
   },
   {
    "duration": 149,
    "start_time": "2023-01-31T21:07:12.254Z"
   },
   {
    "duration": 167,
    "start_time": "2023-01-31T21:07:12.405Z"
   },
   {
    "duration": 5,
    "start_time": "2023-01-31T21:07:12.575Z"
   },
   {
    "duration": 13,
    "start_time": "2023-01-31T21:07:12.581Z"
   },
   {
    "duration": 31,
    "start_time": "2023-01-31T21:07:12.596Z"
   },
   {
    "duration": 18,
    "start_time": "2023-01-31T21:07:12.629Z"
   },
   {
    "duration": 3,
    "start_time": "2023-01-31T21:07:12.649Z"
   },
   {
    "duration": 1568,
    "start_time": "2023-01-31T21:07:12.654Z"
   },
   {
    "duration": 1954,
    "start_time": "2023-01-31T21:07:14.224Z"
   },
   {
    "duration": 1934,
    "start_time": "2023-01-31T21:07:16.180Z"
   },
   {
    "duration": 1876,
    "start_time": "2023-01-31T21:07:18.116Z"
   },
   {
    "duration": 5,
    "start_time": "2023-01-31T21:07:19.994Z"
   },
   {
    "duration": 24,
    "start_time": "2023-01-31T21:07:20.001Z"
   },
   {
    "duration": 7,
    "start_time": "2023-01-31T21:07:20.027Z"
   },
   {
    "duration": 87,
    "start_time": "2023-01-31T21:07:20.036Z"
   },
   {
    "duration": 901,
    "start_time": "2023-01-31T21:07:20.125Z"
   },
   {
    "duration": 881,
    "start_time": "2023-01-31T21:07:21.029Z"
   },
   {
    "duration": 11,
    "start_time": "2023-01-31T21:09:32.013Z"
   },
   {
    "duration": 24,
    "start_time": "2023-01-31T21:09:46.014Z"
   },
   {
    "duration": 9,
    "start_time": "2023-01-31T21:10:00.521Z"
   },
   {
    "duration": 13,
    "start_time": "2023-01-31T21:10:53.409Z"
   },
   {
    "duration": 752,
    "start_time": "2023-01-31T21:11:11.292Z"
   },
   {
    "duration": 79,
    "start_time": "2023-01-31T21:11:20.562Z"
   },
   {
    "duration": 11,
    "start_time": "2023-01-31T21:14:09.743Z"
   },
   {
    "duration": 1290,
    "start_time": "2023-01-31T21:15:29.696Z"
   },
   {
    "duration": 12,
    "start_time": "2023-01-31T21:16:48.229Z"
   },
   {
    "duration": 1158,
    "start_time": "2023-01-31T21:18:16.346Z"
   },
   {
    "duration": 13,
    "start_time": "2023-01-31T21:20:13.713Z"
   },
   {
    "duration": 1201,
    "start_time": "2023-01-31T21:23:50.546Z"
   },
   {
    "duration": 14,
    "start_time": "2023-01-31T21:24:24.193Z"
   },
   {
    "duration": 1238,
    "start_time": "2023-01-31T21:24:32.095Z"
   },
   {
    "duration": 13,
    "start_time": "2023-01-31T21:24:45.182Z"
   },
   {
    "duration": 10,
    "start_time": "2023-01-31T21:27:52.896Z"
   },
   {
    "duration": 16,
    "start_time": "2023-01-31T21:27:59.348Z"
   },
   {
    "duration": 1373,
    "start_time": "2023-01-31T21:28:10.776Z"
   },
   {
    "duration": 739,
    "start_time": "2023-01-31T21:28:12.151Z"
   },
   {
    "duration": 68,
    "start_time": "2023-01-31T21:28:12.892Z"
   },
   {
    "duration": 17,
    "start_time": "2023-01-31T21:28:12.962Z"
   },
   {
    "duration": 3,
    "start_time": "2023-01-31T21:28:12.981Z"
   },
   {
    "duration": 35,
    "start_time": "2023-01-31T21:28:12.986Z"
   },
   {
    "duration": 5,
    "start_time": "2023-01-31T21:28:13.023Z"
   },
   {
    "duration": 15,
    "start_time": "2023-01-31T21:28:13.030Z"
   },
   {
    "duration": 25,
    "start_time": "2023-01-31T21:28:13.047Z"
   },
   {
    "duration": 3,
    "start_time": "2023-01-31T21:28:13.075Z"
   },
   {
    "duration": 8,
    "start_time": "2023-01-31T21:28:13.080Z"
   },
   {
    "duration": 37,
    "start_time": "2023-01-31T21:28:13.090Z"
   },
   {
    "duration": 6,
    "start_time": "2023-01-31T21:28:13.129Z"
   },
   {
    "duration": 9,
    "start_time": "2023-01-31T21:28:13.137Z"
   },
   {
    "duration": 8,
    "start_time": "2023-01-31T21:28:13.148Z"
   },
   {
    "duration": 6,
    "start_time": "2023-01-31T21:28:13.158Z"
   },
   {
    "duration": 6,
    "start_time": "2023-01-31T21:28:13.165Z"
   },
   {
    "duration": 50,
    "start_time": "2023-01-31T21:28:13.172Z"
   },
   {
    "duration": 153,
    "start_time": "2023-01-31T21:28:13.224Z"
   },
   {
    "duration": 146,
    "start_time": "2023-01-31T21:28:13.379Z"
   },
   {
    "duration": 175,
    "start_time": "2023-01-31T21:28:13.527Z"
   },
   {
    "duration": 3,
    "start_time": "2023-01-31T21:28:13.705Z"
   },
   {
    "duration": 12,
    "start_time": "2023-01-31T21:28:13.709Z"
   },
   {
    "duration": 21,
    "start_time": "2023-01-31T21:28:13.722Z"
   },
   {
    "duration": 16,
    "start_time": "2023-01-31T21:28:13.745Z"
   },
   {
    "duration": 4,
    "start_time": "2023-01-31T21:28:13.762Z"
   },
   {
    "duration": 1655,
    "start_time": "2023-01-31T21:28:13.767Z"
   },
   {
    "duration": 1517,
    "start_time": "2023-01-31T21:28:15.427Z"
   },
   {
    "duration": 1864,
    "start_time": "2023-01-31T21:28:16.946Z"
   },
   {
    "duration": 1844,
    "start_time": "2023-01-31T21:28:18.812Z"
   },
   {
    "duration": 5,
    "start_time": "2023-01-31T21:28:20.658Z"
   },
   {
    "duration": 17,
    "start_time": "2023-01-31T21:28:20.665Z"
   },
   {
    "duration": 6,
    "start_time": "2023-01-31T21:28:20.684Z"
   },
   {
    "duration": 38,
    "start_time": "2023-01-31T21:28:20.692Z"
   },
   {
    "duration": 809,
    "start_time": "2023-01-31T21:28:20.822Z"
   },
   {
    "duration": 881,
    "start_time": "2023-01-31T21:28:21.632Z"
   },
   {
    "duration": 1604,
    "start_time": "2023-01-31T21:29:38.683Z"
   },
   {
    "duration": 1125,
    "start_time": "2023-01-31T21:29:46.963Z"
   },
   {
    "duration": 1402,
    "start_time": "2023-01-31T21:30:32.326Z"
   },
   {
    "duration": 772,
    "start_time": "2023-01-31T21:30:33.730Z"
   },
   {
    "duration": 66,
    "start_time": "2023-01-31T21:30:34.504Z"
   },
   {
    "duration": 20,
    "start_time": "2023-01-31T21:30:34.572Z"
   },
   {
    "duration": 27,
    "start_time": "2023-01-31T21:30:34.594Z"
   },
   {
    "duration": 9,
    "start_time": "2023-01-31T21:30:34.623Z"
   },
   {
    "duration": 4,
    "start_time": "2023-01-31T21:30:34.634Z"
   },
   {
    "duration": 15,
    "start_time": "2023-01-31T21:30:34.640Z"
   },
   {
    "duration": 25,
    "start_time": "2023-01-31T21:30:34.657Z"
   },
   {
    "duration": 2,
    "start_time": "2023-01-31T21:30:34.684Z"
   },
   {
    "duration": 46,
    "start_time": "2023-01-31T21:30:34.688Z"
   },
   {
    "duration": 13,
    "start_time": "2023-01-31T21:30:34.736Z"
   },
   {
    "duration": 15,
    "start_time": "2023-01-31T21:30:34.751Z"
   },
   {
    "duration": 13,
    "start_time": "2023-01-31T21:30:34.770Z"
   },
   {
    "duration": 17,
    "start_time": "2023-01-31T21:30:34.785Z"
   },
   {
    "duration": 19,
    "start_time": "2023-01-31T21:30:34.804Z"
   },
   {
    "duration": 12,
    "start_time": "2023-01-31T21:30:34.825Z"
   },
   {
    "duration": 25,
    "start_time": "2023-01-31T21:30:34.839Z"
   },
   {
    "duration": 188,
    "start_time": "2023-01-31T21:30:34.867Z"
   },
   {
    "duration": 157,
    "start_time": "2023-01-31T21:30:35.056Z"
   },
   {
    "duration": 169,
    "start_time": "2023-01-31T21:30:35.220Z"
   },
   {
    "duration": 4,
    "start_time": "2023-01-31T21:30:35.391Z"
   },
   {
    "duration": 16,
    "start_time": "2023-01-31T21:30:35.396Z"
   },
   {
    "duration": 27,
    "start_time": "2023-01-31T21:30:35.414Z"
   },
   {
    "duration": 15,
    "start_time": "2023-01-31T21:30:35.443Z"
   },
   {
    "duration": 3,
    "start_time": "2023-01-31T21:30:35.460Z"
   },
   {
    "duration": 1584,
    "start_time": "2023-01-31T21:30:35.465Z"
   },
   {
    "duration": 1495,
    "start_time": "2023-01-31T21:30:37.051Z"
   },
   {
    "duration": 1931,
    "start_time": "2023-01-31T21:30:38.548Z"
   },
   {
    "duration": 1832,
    "start_time": "2023-01-31T21:30:40.480Z"
   },
   {
    "duration": 10,
    "start_time": "2023-01-31T21:30:42.315Z"
   },
   {
    "duration": 29,
    "start_time": "2023-01-31T21:30:42.327Z"
   },
   {
    "duration": 7,
    "start_time": "2023-01-31T21:30:42.358Z"
   },
   {
    "duration": 55,
    "start_time": "2023-01-31T21:30:42.367Z"
   },
   {
    "duration": 892,
    "start_time": "2023-01-31T21:30:42.425Z"
   },
   {
    "duration": 882,
    "start_time": "2023-01-31T21:30:43.319Z"
   },
   {
    "duration": 3718,
    "start_time": "2023-02-01T17:00:33.211Z"
   },
   {
    "duration": 689,
    "start_time": "2023-02-01T17:00:36.931Z"
   },
   {
    "duration": 70,
    "start_time": "2023-02-01T17:00:37.622Z"
   },
   {
    "duration": 17,
    "start_time": "2023-02-01T17:00:37.694Z"
   },
   {
    "duration": 3,
    "start_time": "2023-02-01T17:00:37.712Z"
   },
   {
    "duration": 12,
    "start_time": "2023-02-01T17:00:37.716Z"
   },
   {
    "duration": 4,
    "start_time": "2023-02-01T17:00:37.730Z"
   },
   {
    "duration": 47,
    "start_time": "2023-02-01T17:00:37.736Z"
   },
   {
    "duration": 28,
    "start_time": "2023-02-01T17:00:37.785Z"
   },
   {
    "duration": 3,
    "start_time": "2023-02-01T17:00:37.815Z"
   },
   {
    "duration": 14,
    "start_time": "2023-02-01T17:00:37.820Z"
   },
   {
    "duration": 6,
    "start_time": "2023-02-01T17:00:37.837Z"
   },
   {
    "duration": 7,
    "start_time": "2023-02-01T17:00:37.845Z"
   },
   {
    "duration": 32,
    "start_time": "2023-02-01T17:00:37.854Z"
   },
   {
    "duration": 19,
    "start_time": "2023-02-01T17:00:37.888Z"
   },
   {
    "duration": 13,
    "start_time": "2023-02-01T17:00:37.910Z"
   },
   {
    "duration": 10,
    "start_time": "2023-02-01T17:00:37.925Z"
   },
   {
    "duration": 10,
    "start_time": "2023-02-01T17:00:37.937Z"
   },
   {
    "duration": 168,
    "start_time": "2023-02-01T17:00:37.949Z"
   },
   {
    "duration": 136,
    "start_time": "2023-02-01T17:00:38.118Z"
   },
   {
    "duration": 170,
    "start_time": "2023-02-01T17:00:38.256Z"
   },
   {
    "duration": 3,
    "start_time": "2023-02-01T17:00:38.428Z"
   },
   {
    "duration": 8,
    "start_time": "2023-02-01T17:00:38.433Z"
   },
   {
    "duration": 22,
    "start_time": "2023-02-01T17:00:38.443Z"
   },
   {
    "duration": 26,
    "start_time": "2023-02-01T17:00:38.467Z"
   },
   {
    "duration": 3,
    "start_time": "2023-02-01T17:00:38.495Z"
   },
   {
    "duration": 1372,
    "start_time": "2023-02-01T17:00:38.499Z"
   },
   {
    "duration": 1321,
    "start_time": "2023-02-01T17:00:44.788Z"
   },
   {
    "duration": 105,
    "start_time": "2023-02-01T17:03:13.706Z"
   },
   {
    "duration": 6,
    "start_time": "2023-02-01T17:03:42.586Z"
   },
   {
    "duration": 15,
    "start_time": "2023-02-01T17:03:43.897Z"
   },
   {
    "duration": 8,
    "start_time": "2023-02-01T17:03:48.428Z"
   },
   {
    "duration": 5,
    "start_time": "2023-02-01T17:03:52.315Z"
   },
   {
    "duration": 702,
    "start_time": "2023-02-01T17:03:53.785Z"
   },
   {
    "duration": 709,
    "start_time": "2023-02-01T17:03:56.356Z"
   },
   {
    "duration": 9,
    "start_time": "2023-02-01T17:04:47.481Z"
   },
   {
    "duration": 10,
    "start_time": "2023-02-01T17:06:26.622Z"
   },
   {
    "duration": 2142,
    "start_time": "2023-02-01T17:07:22.533Z"
   },
   {
    "duration": 683,
    "start_time": "2023-02-01T17:07:24.677Z"
   },
   {
    "duration": 63,
    "start_time": "2023-02-01T17:07:25.361Z"
   },
   {
    "duration": 18,
    "start_time": "2023-02-01T17:07:25.426Z"
   },
   {
    "duration": 3,
    "start_time": "2023-02-01T17:07:25.446Z"
   },
   {
    "duration": 34,
    "start_time": "2023-02-01T17:07:25.450Z"
   },
   {
    "duration": 5,
    "start_time": "2023-02-01T17:07:25.486Z"
   },
   {
    "duration": 18,
    "start_time": "2023-02-01T17:07:25.492Z"
   },
   {
    "duration": 25,
    "start_time": "2023-02-01T17:07:25.511Z"
   },
   {
    "duration": 4,
    "start_time": "2023-02-01T17:07:25.538Z"
   },
   {
    "duration": 39,
    "start_time": "2023-02-01T17:07:25.544Z"
   },
   {
    "duration": 6,
    "start_time": "2023-02-01T17:07:25.585Z"
   },
   {
    "duration": 9,
    "start_time": "2023-02-01T17:07:25.593Z"
   },
   {
    "duration": 15,
    "start_time": "2023-02-01T17:07:25.605Z"
   },
   {
    "duration": 40,
    "start_time": "2023-02-01T17:07:25.621Z"
   },
   {
    "duration": 24,
    "start_time": "2023-02-01T17:07:25.663Z"
   },
   {
    "duration": 8,
    "start_time": "2023-02-01T17:07:25.689Z"
   },
   {
    "duration": 6,
    "start_time": "2023-02-01T17:07:25.699Z"
   },
   {
    "duration": 150,
    "start_time": "2023-02-01T17:07:25.707Z"
   },
   {
    "duration": 125,
    "start_time": "2023-02-01T17:07:25.858Z"
   },
   {
    "duration": 165,
    "start_time": "2023-02-01T17:07:25.985Z"
   },
   {
    "duration": 3,
    "start_time": "2023-02-01T17:07:26.151Z"
   },
   {
    "duration": 21,
    "start_time": "2023-02-01T17:07:26.156Z"
   },
   {
    "duration": 48,
    "start_time": "2023-02-01T17:07:26.178Z"
   },
   {
    "duration": 23,
    "start_time": "2023-02-01T17:07:26.228Z"
   },
   {
    "duration": 4,
    "start_time": "2023-02-01T17:07:26.253Z"
   },
   {
    "duration": 1255,
    "start_time": "2023-02-01T17:07:26.259Z"
   },
   {
    "duration": 1104,
    "start_time": "2023-02-01T17:07:31.625Z"
   },
   {
    "duration": 5,
    "start_time": "2023-02-01T17:07:43.922Z"
   },
   {
    "duration": 120,
    "start_time": "2023-02-01T17:07:46.857Z"
   },
   {
    "duration": 6,
    "start_time": "2023-02-01T17:08:33.687Z"
   },
   {
    "duration": 8,
    "start_time": "2023-02-01T17:08:50.105Z"
   },
   {
    "duration": 4,
    "start_time": "2023-02-01T17:08:52.950Z"
   },
   {
    "duration": 4,
    "start_time": "2023-02-01T17:08:54.502Z"
   },
   {
    "duration": 6,
    "start_time": "2023-02-01T17:08:57.990Z"
   },
   {
    "duration": 10,
    "start_time": "2023-02-01T17:12:36.903Z"
   },
   {
    "duration": 4,
    "start_time": "2023-02-01T17:12:51.125Z"
   },
   {
    "duration": 720,
    "start_time": "2023-02-01T17:12:51.131Z"
   },
   {
    "duration": 63,
    "start_time": "2023-02-01T17:12:51.853Z"
   },
   {
    "duration": 17,
    "start_time": "2023-02-01T17:12:51.917Z"
   },
   {
    "duration": 2,
    "start_time": "2023-02-01T17:12:51.936Z"
   },
   {
    "duration": 20,
    "start_time": "2023-02-01T17:12:51.940Z"
   },
   {
    "duration": 15,
    "start_time": "2023-02-01T17:12:51.962Z"
   },
   {
    "duration": 21,
    "start_time": "2023-02-01T17:12:51.980Z"
   },
   {
    "duration": 20,
    "start_time": "2023-02-01T17:12:52.003Z"
   },
   {
    "duration": 3,
    "start_time": "2023-02-01T17:12:52.025Z"
   },
   {
    "duration": 9,
    "start_time": "2023-02-01T17:12:52.030Z"
   },
   {
    "duration": 6,
    "start_time": "2023-02-01T17:12:52.040Z"
   },
   {
    "duration": 5,
    "start_time": "2023-02-01T17:12:52.049Z"
   },
   {
    "duration": 7,
    "start_time": "2023-02-01T17:12:52.081Z"
   },
   {
    "duration": 6,
    "start_time": "2023-02-01T17:12:52.089Z"
   },
   {
    "duration": 6,
    "start_time": "2023-02-01T17:12:52.097Z"
   },
   {
    "duration": 12,
    "start_time": "2023-02-01T17:12:52.105Z"
   },
   {
    "duration": 7,
    "start_time": "2023-02-01T17:12:52.118Z"
   },
   {
    "duration": 156,
    "start_time": "2023-02-01T17:12:52.127Z"
   },
   {
    "duration": 125,
    "start_time": "2023-02-01T17:12:52.285Z"
   },
   {
    "duration": 221,
    "start_time": "2023-02-01T17:12:52.411Z"
   },
   {
    "duration": 3,
    "start_time": "2023-02-01T17:12:52.634Z"
   },
   {
    "duration": 6,
    "start_time": "2023-02-01T17:12:52.638Z"
   },
   {
    "duration": 12,
    "start_time": "2023-02-01T17:12:52.645Z"
   },
   {
    "duration": 27,
    "start_time": "2023-02-01T17:12:52.659Z"
   },
   {
    "duration": 2,
    "start_time": "2023-02-01T17:12:52.688Z"
   },
   {
    "duration": 991,
    "start_time": "2023-02-01T17:12:52.692Z"
   },
   {
    "duration": 1932,
    "start_time": "2023-02-01T17:13:03.493Z"
   },
   {
    "duration": 698,
    "start_time": "2023-02-01T17:13:05.427Z"
   },
   {
    "duration": 76,
    "start_time": "2023-02-01T17:13:06.127Z"
   },
   {
    "duration": 20,
    "start_time": "2023-02-01T17:13:06.205Z"
   },
   {
    "duration": 3,
    "start_time": "2023-02-01T17:13:06.228Z"
   },
   {
    "duration": 18,
    "start_time": "2023-02-01T17:13:06.233Z"
   },
   {
    "duration": 29,
    "start_time": "2023-02-01T17:13:06.253Z"
   },
   {
    "duration": 15,
    "start_time": "2023-02-01T17:13:06.283Z"
   },
   {
    "duration": 27,
    "start_time": "2023-02-01T17:13:06.301Z"
   },
   {
    "duration": 3,
    "start_time": "2023-02-01T17:13:06.330Z"
   },
   {
    "duration": 18,
    "start_time": "2023-02-01T17:13:06.335Z"
   },
   {
    "duration": 30,
    "start_time": "2023-02-01T17:13:06.355Z"
   },
   {
    "duration": 9,
    "start_time": "2023-02-01T17:13:06.386Z"
   },
   {
    "duration": 5,
    "start_time": "2023-02-01T17:13:06.398Z"
   },
   {
    "duration": 6,
    "start_time": "2023-02-01T17:13:06.405Z"
   },
   {
    "duration": 6,
    "start_time": "2023-02-01T17:13:06.412Z"
   },
   {
    "duration": 5,
    "start_time": "2023-02-01T17:13:06.420Z"
   },
   {
    "duration": 6,
    "start_time": "2023-02-01T17:13:06.427Z"
   },
   {
    "duration": 205,
    "start_time": "2023-02-01T17:13:06.434Z"
   },
   {
    "duration": 129,
    "start_time": "2023-02-01T17:13:06.641Z"
   },
   {
    "duration": 162,
    "start_time": "2023-02-01T17:13:06.772Z"
   },
   {
    "duration": 3,
    "start_time": "2023-02-01T17:13:06.936Z"
   },
   {
    "duration": 29,
    "start_time": "2023-02-01T17:13:06.941Z"
   },
   {
    "duration": 37,
    "start_time": "2023-02-01T17:13:06.972Z"
   },
   {
    "duration": 21,
    "start_time": "2023-02-01T17:13:07.011Z"
   },
   {
    "duration": 20,
    "start_time": "2023-02-01T17:13:07.034Z"
   },
   {
    "duration": 5,
    "start_time": "2023-02-01T17:13:15.880Z"
   },
   {
    "duration": 16,
    "start_time": "2023-02-01T17:13:17.015Z"
   },
   {
    "duration": 100,
    "start_time": "2023-02-01T17:13:56.443Z"
   },
   {
    "duration": 5,
    "start_time": "2023-02-01T17:18:06.703Z"
   },
   {
    "duration": 5,
    "start_time": "2023-02-01T17:19:09.211Z"
   },
   {
    "duration": 1494,
    "start_time": "2023-02-01T20:14:37.116Z"
   },
   {
    "duration": 2205,
    "start_time": "2023-02-01T20:14:39.765Z"
   },
   {
    "duration": 54,
    "start_time": "2023-02-01T20:14:43.239Z"
   },
   {
    "duration": 20,
    "start_time": "2023-02-01T20:14:46.594Z"
   },
   {
    "duration": 2,
    "start_time": "2023-02-01T20:14:51.879Z"
   },
   {
    "duration": 9,
    "start_time": "2023-02-01T20:14:53.094Z"
   },
   {
    "duration": 5,
    "start_time": "2023-02-01T20:14:56.629Z"
   },
   {
    "duration": 14,
    "start_time": "2023-02-01T20:14:58.390Z"
   },
   {
    "duration": 24,
    "start_time": "2023-02-01T20:15:02.746Z"
   },
   {
    "duration": 3,
    "start_time": "2023-02-01T20:15:05.211Z"
   },
   {
    "duration": 7,
    "start_time": "2023-02-01T20:15:07.190Z"
   },
   {
    "duration": 6,
    "start_time": "2023-02-01T20:15:07.890Z"
   },
   {
    "duration": 6,
    "start_time": "2023-02-01T20:15:08.731Z"
   },
   {
    "duration": 6,
    "start_time": "2023-02-01T20:15:16.779Z"
   },
   {
    "duration": 6,
    "start_time": "2023-02-01T20:15:21.711Z"
   },
   {
    "duration": 42,
    "start_time": "2023-02-01T20:15:25.691Z"
   },
   {
    "duration": 7,
    "start_time": "2023-02-01T20:15:58.304Z"
   },
   {
    "duration": 5,
    "start_time": "2023-02-01T20:16:00.144Z"
   },
   {
    "duration": 767,
    "start_time": "2023-02-01T20:16:02.354Z"
   },
   {
    "duration": 114,
    "start_time": "2023-02-01T20:16:03.196Z"
   },
   {
    "duration": 3,
    "start_time": "2023-02-01T20:16:15.759Z"
   },
   {
    "duration": 776,
    "start_time": "2023-02-01T20:16:15.765Z"
   },
   {
    "duration": 60,
    "start_time": "2023-02-01T20:16:16.543Z"
   },
   {
    "duration": 16,
    "start_time": "2023-02-01T20:16:16.605Z"
   },
   {
    "duration": 3,
    "start_time": "2023-02-01T20:16:16.623Z"
   },
   {
    "duration": 30,
    "start_time": "2023-02-01T20:16:16.628Z"
   },
   {
    "duration": 4,
    "start_time": "2023-02-01T20:16:16.659Z"
   },
   {
    "duration": 15,
    "start_time": "2023-02-01T20:16:16.665Z"
   },
   {
    "duration": 22,
    "start_time": "2023-02-01T20:16:16.682Z"
   },
   {
    "duration": 3,
    "start_time": "2023-02-01T20:16:16.705Z"
   },
   {
    "duration": 14,
    "start_time": "2023-02-01T20:16:16.710Z"
   },
   {
    "duration": 31,
    "start_time": "2023-02-01T20:16:16.725Z"
   },
   {
    "duration": 6,
    "start_time": "2023-02-01T20:16:16.758Z"
   },
   {
    "duration": 7,
    "start_time": "2023-02-01T20:16:16.765Z"
   },
   {
    "duration": 8,
    "start_time": "2023-02-01T20:16:16.774Z"
   },
   {
    "duration": 10,
    "start_time": "2023-02-01T20:16:16.783Z"
   },
   {
    "duration": 6,
    "start_time": "2023-02-01T20:16:16.795Z"
   },
   {
    "duration": 10,
    "start_time": "2023-02-01T20:16:16.803Z"
   },
   {
    "duration": 151,
    "start_time": "2023-02-01T20:16:16.814Z"
   },
   {
    "duration": 108,
    "start_time": "2023-02-01T20:16:29.025Z"
   },
   {
    "duration": 145,
    "start_time": "2023-02-01T20:16:31.394Z"
   },
   {
    "duration": 46,
    "start_time": "2023-02-01T20:16:56.120Z"
   },
   {
    "duration": 12,
    "start_time": "2023-02-01T20:17:04.484Z"
   },
   {
    "duration": 4,
    "start_time": "2023-02-01T20:18:35.202Z"
   },
   {
    "duration": 2,
    "start_time": "2023-02-01T20:18:35.729Z"
   },
   {
    "duration": 7,
    "start_time": "2023-02-01T20:18:39.175Z"
   },
   {
    "duration": 15,
    "start_time": "2023-02-01T20:18:40.956Z"
   },
   {
    "duration": 3,
    "start_time": "2023-02-01T20:19:08.211Z"
   },
   {
    "duration": 1332,
    "start_time": "2023-02-01T20:19:16.221Z"
   },
   {
    "duration": 1455,
    "start_time": "2023-02-01T20:19:19.423Z"
   },
   {
    "duration": 1778,
    "start_time": "2023-02-01T20:20:02.609Z"
   },
   {
    "duration": 1770,
    "start_time": "2023-02-01T20:21:40.010Z"
   },
   {
    "duration": 6,
    "start_time": "2023-02-01T20:21:52.712Z"
   },
   {
    "duration": 23,
    "start_time": "2023-02-01T20:21:55.692Z"
   },
   {
    "duration": 18,
    "start_time": "2023-02-01T20:37:50.526Z"
   },
   {
    "duration": 10,
    "start_time": "2023-02-01T20:42:34.971Z"
   },
   {
    "duration": 8,
    "start_time": "2023-02-01T20:42:52.682Z"
   },
   {
    "duration": 9,
    "start_time": "2023-02-01T20:43:11.197Z"
   },
   {
    "duration": 10,
    "start_time": "2023-02-01T20:44:45.862Z"
   },
   {
    "duration": 8,
    "start_time": "2023-02-01T20:48:23.013Z"
   },
   {
    "duration": 9,
    "start_time": "2023-02-01T20:49:29.296Z"
   },
   {
    "duration": 9,
    "start_time": "2023-02-01T20:49:42.450Z"
   },
   {
    "duration": 9,
    "start_time": "2023-02-01T20:49:50.043Z"
   },
   {
    "duration": 42,
    "start_time": "2023-02-01T20:50:05.995Z"
   },
   {
    "duration": 10,
    "start_time": "2023-02-01T20:50:18.310Z"
   },
   {
    "duration": 9,
    "start_time": "2023-02-01T20:50:23.751Z"
   },
   {
    "duration": 9,
    "start_time": "2023-02-01T20:50:33.318Z"
   },
   {
    "duration": 9,
    "start_time": "2023-02-01T20:51:20.845Z"
   },
   {
    "duration": 9,
    "start_time": "2023-02-01T20:52:02.743Z"
   },
   {
    "duration": 26,
    "start_time": "2023-02-01T20:58:19.371Z"
   },
   {
    "duration": 1279,
    "start_time": "2023-02-01T20:58:39.405Z"
   },
   {
    "duration": 695,
    "start_time": "2023-02-01T20:58:40.686Z"
   },
   {
    "duration": 57,
    "start_time": "2023-02-01T20:58:41.382Z"
   },
   {
    "duration": 18,
    "start_time": "2023-02-01T20:58:41.453Z"
   },
   {
    "duration": 3,
    "start_time": "2023-02-01T20:58:41.473Z"
   },
   {
    "duration": 10,
    "start_time": "2023-02-01T20:58:41.478Z"
   },
   {
    "duration": 5,
    "start_time": "2023-02-01T20:58:41.490Z"
   },
   {
    "duration": 16,
    "start_time": "2023-02-01T20:58:41.497Z"
   },
   {
    "duration": 56,
    "start_time": "2023-02-01T20:58:41.514Z"
   },
   {
    "duration": 3,
    "start_time": "2023-02-01T20:58:41.571Z"
   },
   {
    "duration": 9,
    "start_time": "2023-02-01T20:58:41.575Z"
   },
   {
    "duration": 6,
    "start_time": "2023-02-01T20:58:41.586Z"
   },
   {
    "duration": 10,
    "start_time": "2023-02-01T20:58:41.593Z"
   },
   {
    "duration": 6,
    "start_time": "2023-02-01T20:58:41.605Z"
   },
   {
    "duration": 9,
    "start_time": "2023-02-01T20:58:41.612Z"
   },
   {
    "duration": 34,
    "start_time": "2023-02-01T20:58:41.622Z"
   },
   {
    "duration": 6,
    "start_time": "2023-02-01T20:58:41.657Z"
   },
   {
    "duration": 6,
    "start_time": "2023-02-01T20:58:41.665Z"
   },
   {
    "duration": 152,
    "start_time": "2023-02-01T20:58:41.673Z"
   },
   {
    "duration": 128,
    "start_time": "2023-02-01T20:58:41.827Z"
   },
   {
    "duration": 160,
    "start_time": "2023-02-01T20:58:41.957Z"
   },
   {
    "duration": 15,
    "start_time": "2023-02-01T20:58:42.119Z"
   },
   {
    "duration": 20,
    "start_time": "2023-02-01T20:58:42.135Z"
   },
   {
    "duration": 7,
    "start_time": "2023-02-01T20:58:42.156Z"
   },
   {
    "duration": 11,
    "start_time": "2023-02-01T20:58:42.164Z"
   },
   {
    "duration": 15,
    "start_time": "2023-02-01T20:58:42.177Z"
   },
   {
    "duration": 3,
    "start_time": "2023-02-01T20:58:42.193Z"
   },
   {
    "duration": 1557,
    "start_time": "2023-02-01T20:58:42.198Z"
   },
   {
    "duration": 1226,
    "start_time": "2023-02-01T20:58:43.756Z"
   },
   {
    "duration": 1721,
    "start_time": "2023-02-01T20:58:44.983Z"
   },
   {
    "duration": 1738,
    "start_time": "2023-02-01T20:58:46.706Z"
   },
   {
    "duration": 11,
    "start_time": "2023-02-01T20:58:48.445Z"
   },
   {
    "duration": 16,
    "start_time": "2023-02-01T20:58:48.458Z"
   },
   {
    "duration": 118,
    "start_time": "2023-02-01T20:58:48.476Z"
   },
   {
    "duration": 0,
    "start_time": "2023-02-01T20:58:48.595Z"
   },
   {
    "duration": 0,
    "start_time": "2023-02-01T20:58:48.596Z"
   },
   {
    "duration": 0,
    "start_time": "2023-02-01T20:58:48.597Z"
   },
   {
    "duration": 0,
    "start_time": "2023-02-01T20:58:48.598Z"
   },
   {
    "duration": 0,
    "start_time": "2023-02-01T20:58:48.599Z"
   },
   {
    "duration": 1646,
    "start_time": "2023-02-01T21:32:21.314Z"
   },
   {
    "duration": 3319,
    "start_time": "2023-02-01T21:32:22.962Z"
   },
   {
    "duration": 70,
    "start_time": "2023-02-01T21:32:26.283Z"
   },
   {
    "duration": 20,
    "start_time": "2023-02-01T21:32:26.356Z"
   },
   {
    "duration": 3,
    "start_time": "2023-02-01T21:32:26.379Z"
   },
   {
    "duration": 13,
    "start_time": "2023-02-01T21:32:26.384Z"
   },
   {
    "duration": 25,
    "start_time": "2023-02-01T21:32:26.399Z"
   },
   {
    "duration": 18,
    "start_time": "2023-02-01T21:32:26.426Z"
   },
   {
    "duration": 30,
    "start_time": "2023-02-01T21:32:26.447Z"
   },
   {
    "duration": 3,
    "start_time": "2023-02-01T21:32:26.479Z"
   },
   {
    "duration": 41,
    "start_time": "2023-02-01T21:32:26.484Z"
   },
   {
    "duration": 9,
    "start_time": "2023-02-01T21:32:26.527Z"
   },
   {
    "duration": 10,
    "start_time": "2023-02-01T21:32:26.537Z"
   },
   {
    "duration": 10,
    "start_time": "2023-02-01T21:32:26.550Z"
   },
   {
    "duration": 16,
    "start_time": "2023-02-01T21:32:26.562Z"
   },
   {
    "duration": 9,
    "start_time": "2023-02-01T21:32:26.580Z"
   },
   {
    "duration": 31,
    "start_time": "2023-02-01T21:32:26.591Z"
   },
   {
    "duration": 11,
    "start_time": "2023-02-01T21:32:26.623Z"
   },
   {
    "duration": 176,
    "start_time": "2023-02-01T21:32:26.636Z"
   },
   {
    "duration": 144,
    "start_time": "2023-02-01T21:32:26.813Z"
   },
   {
    "duration": 202,
    "start_time": "2023-02-01T21:32:26.959Z"
   },
   {
    "duration": 16,
    "start_time": "2023-02-01T21:32:27.163Z"
   },
   {
    "duration": 3,
    "start_time": "2023-02-01T21:32:27.181Z"
   },
   {
    "duration": 12,
    "start_time": "2023-02-01T21:32:27.186Z"
   },
   {
    "duration": 26,
    "start_time": "2023-02-01T21:32:27.200Z"
   },
   {
    "duration": 28,
    "start_time": "2023-02-01T21:32:27.228Z"
   },
   {
    "duration": 4,
    "start_time": "2023-02-01T21:32:27.259Z"
   },
   {
    "duration": 1879,
    "start_time": "2023-02-01T21:32:27.265Z"
   },
   {
    "duration": 1237,
    "start_time": "2023-02-01T21:32:29.145Z"
   },
   {
    "duration": 1818,
    "start_time": "2023-02-01T21:32:30.384Z"
   },
   {
    "duration": 1755,
    "start_time": "2023-02-01T21:32:32.204Z"
   },
   {
    "duration": 6,
    "start_time": "2023-02-01T21:32:33.960Z"
   },
   {
    "duration": 16,
    "start_time": "2023-02-01T21:32:33.967Z"
   },
   {
    "duration": 131,
    "start_time": "2023-02-01T21:32:33.985Z"
   },
   {
    "duration": 0,
    "start_time": "2023-02-01T21:32:34.121Z"
   },
   {
    "duration": 0,
    "start_time": "2023-02-01T21:32:34.123Z"
   },
   {
    "duration": 0,
    "start_time": "2023-02-01T21:32:34.124Z"
   },
   {
    "duration": 0,
    "start_time": "2023-02-01T21:32:34.126Z"
   },
   {
    "duration": 0,
    "start_time": "2023-02-01T21:32:34.127Z"
   },
   {
    "duration": 5,
    "start_time": "2023-02-01T21:35:42.588Z"
   },
   {
    "duration": 4,
    "start_time": "2023-02-01T21:36:17.222Z"
   },
   {
    "duration": 1475,
    "start_time": "2023-02-01T21:36:50.329Z"
   },
   {
    "duration": 800,
    "start_time": "2023-02-01T21:36:51.806Z"
   },
   {
    "duration": 59,
    "start_time": "2023-02-01T21:36:52.607Z"
   },
   {
    "duration": 18,
    "start_time": "2023-02-01T21:36:52.668Z"
   },
   {
    "duration": 3,
    "start_time": "2023-02-01T21:36:52.689Z"
   },
   {
    "duration": 11,
    "start_time": "2023-02-01T21:36:52.720Z"
   },
   {
    "duration": 5,
    "start_time": "2023-02-01T21:36:52.733Z"
   },
   {
    "duration": 18,
    "start_time": "2023-02-01T21:36:52.740Z"
   },
   {
    "duration": 27,
    "start_time": "2023-02-01T21:36:52.760Z"
   },
   {
    "duration": 33,
    "start_time": "2023-02-01T21:36:52.789Z"
   },
   {
    "duration": 17,
    "start_time": "2023-02-01T21:36:52.823Z"
   },
   {
    "duration": 8,
    "start_time": "2023-02-01T21:36:52.841Z"
   },
   {
    "duration": 8,
    "start_time": "2023-02-01T21:36:52.851Z"
   },
   {
    "duration": 7,
    "start_time": "2023-02-01T21:36:52.862Z"
   },
   {
    "duration": 10,
    "start_time": "2023-02-01T21:36:52.871Z"
   },
   {
    "duration": 9,
    "start_time": "2023-02-01T21:36:52.920Z"
   },
   {
    "duration": 8,
    "start_time": "2023-02-01T21:36:52.931Z"
   },
   {
    "duration": 20,
    "start_time": "2023-02-01T21:36:52.941Z"
   },
   {
    "duration": 169,
    "start_time": "2023-02-01T21:36:52.963Z"
   },
   {
    "duration": 137,
    "start_time": "2023-02-01T21:36:53.135Z"
   },
   {
    "duration": 189,
    "start_time": "2023-02-01T21:36:53.274Z"
   },
   {
    "duration": 17,
    "start_time": "2023-02-01T21:36:53.465Z"
   },
   {
    "duration": 4,
    "start_time": "2023-02-01T21:36:53.484Z"
   },
   {
    "duration": 5,
    "start_time": "2023-02-01T21:36:53.490Z"
   },
   {
    "duration": 26,
    "start_time": "2023-02-01T21:36:53.496Z"
   },
   {
    "duration": 23,
    "start_time": "2023-02-01T21:36:53.524Z"
   },
   {
    "duration": 3,
    "start_time": "2023-02-01T21:36:53.549Z"
   },
   {
    "duration": 1969,
    "start_time": "2023-02-01T21:36:53.554Z"
   },
   {
    "duration": 3525,
    "start_time": "2023-02-01T21:36:55.524Z"
   },
   {
    "duration": 1818,
    "start_time": "2023-02-01T21:36:59.051Z"
   },
   {
    "duration": 1756,
    "start_time": "2023-02-01T21:37:00.871Z"
   },
   {
    "duration": 5,
    "start_time": "2023-02-01T21:37:02.629Z"
   },
   {
    "duration": 19,
    "start_time": "2023-02-01T21:37:02.635Z"
   },
   {
    "duration": 4,
    "start_time": "2023-02-01T21:37:02.655Z"
   },
   {
    "duration": 14,
    "start_time": "2023-02-01T21:37:02.661Z"
   },
   {
    "duration": 45,
    "start_time": "2023-02-01T21:37:02.677Z"
   },
   {
    "duration": 96,
    "start_time": "2023-02-01T21:37:02.725Z"
   },
   {
    "duration": 6,
    "start_time": "2023-02-01T21:37:02.823Z"
   },
   {
    "duration": 115,
    "start_time": "2023-02-01T21:45:45.302Z"
   },
   {
    "duration": 1384,
    "start_time": "2023-02-01T21:45:57.449Z"
   },
   {
    "duration": 762,
    "start_time": "2023-02-01T21:45:58.835Z"
   },
   {
    "duration": 69,
    "start_time": "2023-02-01T21:45:59.598Z"
   },
   {
    "duration": 17,
    "start_time": "2023-02-01T21:45:59.669Z"
   },
   {
    "duration": 3,
    "start_time": "2023-02-01T21:45:59.688Z"
   },
   {
    "duration": 35,
    "start_time": "2023-02-01T21:45:59.693Z"
   },
   {
    "duration": 13,
    "start_time": "2023-02-01T21:45:59.729Z"
   },
   {
    "duration": 28,
    "start_time": "2023-02-01T21:45:59.744Z"
   },
   {
    "duration": 40,
    "start_time": "2023-02-01T21:45:59.774Z"
   },
   {
    "duration": 3,
    "start_time": "2023-02-01T21:45:59.816Z"
   },
   {
    "duration": 26,
    "start_time": "2023-02-01T21:45:59.821Z"
   },
   {
    "duration": 19,
    "start_time": "2023-02-01T21:45:59.848Z"
   },
   {
    "duration": 7,
    "start_time": "2023-02-01T21:45:59.870Z"
   },
   {
    "duration": 9,
    "start_time": "2023-02-01T21:45:59.880Z"
   },
   {
    "duration": 10,
    "start_time": "2023-02-01T21:45:59.891Z"
   },
   {
    "duration": 11,
    "start_time": "2023-02-01T21:45:59.903Z"
   },
   {
    "duration": 9,
    "start_time": "2023-02-01T21:45:59.916Z"
   },
   {
    "duration": 8,
    "start_time": "2023-02-01T21:45:59.927Z"
   },
   {
    "duration": 167,
    "start_time": "2023-02-01T21:45:59.937Z"
   },
   {
    "duration": 155,
    "start_time": "2023-02-01T21:46:00.107Z"
   },
   {
    "duration": 187,
    "start_time": "2023-02-01T21:46:00.264Z"
   },
   {
    "duration": 16,
    "start_time": "2023-02-01T21:46:00.454Z"
   },
   {
    "duration": 26,
    "start_time": "2023-02-01T21:46:00.472Z"
   },
   {
    "duration": 88,
    "start_time": "2023-02-01T21:46:00.500Z"
   },
   {
    "duration": 41,
    "start_time": "2023-02-01T21:46:00.590Z"
   },
   {
    "duration": 82,
    "start_time": "2023-02-01T21:46:00.633Z"
   },
   {
    "duration": 62,
    "start_time": "2023-02-01T21:46:00.717Z"
   },
   {
    "duration": 1141,
    "start_time": "2023-02-01T21:46:00.781Z"
   },
   {
    "duration": 1418,
    "start_time": "2023-02-01T21:46:01.924Z"
   },
   {
    "duration": 1977,
    "start_time": "2023-02-01T21:46:03.344Z"
   },
   {
    "duration": 1796,
    "start_time": "2023-02-01T21:46:05.324Z"
   },
   {
    "duration": 6,
    "start_time": "2023-02-01T21:46:07.121Z"
   },
   {
    "duration": 26,
    "start_time": "2023-02-01T21:46:07.128Z"
   },
   {
    "duration": 4,
    "start_time": "2023-02-01T21:46:07.155Z"
   },
   {
    "duration": 15,
    "start_time": "2023-02-01T21:46:07.160Z"
   },
   {
    "duration": 123,
    "start_time": "2023-02-01T21:46:07.177Z"
   },
   {
    "duration": 0,
    "start_time": "2023-02-01T21:46:07.302Z"
   },
   {
    "duration": 0,
    "start_time": "2023-02-01T21:46:07.304Z"
   },
   {
    "duration": 1584,
    "start_time": "2023-02-01T21:58:03.077Z"
   },
   {
    "duration": 773,
    "start_time": "2023-02-01T21:58:04.664Z"
   },
   {
    "duration": 81,
    "start_time": "2023-02-01T21:58:05.439Z"
   },
   {
    "duration": 20,
    "start_time": "2023-02-01T21:58:05.522Z"
   },
   {
    "duration": 3,
    "start_time": "2023-02-01T21:58:05.545Z"
   },
   {
    "duration": 17,
    "start_time": "2023-02-01T21:58:05.550Z"
   },
   {
    "duration": 5,
    "start_time": "2023-02-01T21:58:05.570Z"
   },
   {
    "duration": 54,
    "start_time": "2023-02-01T21:58:05.577Z"
   },
   {
    "duration": 28,
    "start_time": "2023-02-01T21:58:05.633Z"
   },
   {
    "duration": 4,
    "start_time": "2023-02-01T21:58:05.663Z"
   },
   {
    "duration": 22,
    "start_time": "2023-02-01T21:58:05.669Z"
   },
   {
    "duration": 31,
    "start_time": "2023-02-01T21:58:05.693Z"
   },
   {
    "duration": 7,
    "start_time": "2023-02-01T21:58:05.726Z"
   },
   {
    "duration": 7,
    "start_time": "2023-02-01T21:58:05.737Z"
   },
   {
    "duration": 15,
    "start_time": "2023-02-01T21:58:05.745Z"
   },
   {
    "duration": 6,
    "start_time": "2023-02-01T21:58:05.762Z"
   },
   {
    "duration": 10,
    "start_time": "2023-02-01T21:58:05.769Z"
   },
   {
    "duration": 44,
    "start_time": "2023-02-01T21:58:05.781Z"
   },
   {
    "duration": 164,
    "start_time": "2023-02-01T21:58:05.827Z"
   },
   {
    "duration": 142,
    "start_time": "2023-02-01T21:58:05.993Z"
   },
   {
    "duration": 184,
    "start_time": "2023-02-01T21:58:06.136Z"
   },
   {
    "duration": 17,
    "start_time": "2023-02-01T21:58:06.321Z"
   },
   {
    "duration": 4,
    "start_time": "2023-02-01T21:58:06.339Z"
   },
   {
    "duration": 12,
    "start_time": "2023-02-01T21:58:06.345Z"
   },
   {
    "duration": 13,
    "start_time": "2023-02-01T21:58:06.360Z"
   },
   {
    "duration": 19,
    "start_time": "2023-02-01T21:58:06.374Z"
   },
   {
    "duration": 2,
    "start_time": "2023-02-01T21:58:06.395Z"
   },
   {
    "duration": 1368,
    "start_time": "2023-02-01T21:58:06.399Z"
   },
   {
    "duration": 1352,
    "start_time": "2023-02-01T21:58:07.769Z"
   },
   {
    "duration": 1801,
    "start_time": "2023-02-01T21:58:09.123Z"
   },
   {
    "duration": 1760,
    "start_time": "2023-02-01T21:58:10.926Z"
   },
   {
    "duration": 5,
    "start_time": "2023-02-01T21:58:12.687Z"
   },
   {
    "duration": 27,
    "start_time": "2023-02-01T21:58:12.694Z"
   },
   {
    "duration": 4,
    "start_time": "2023-02-01T21:58:12.722Z"
   },
   {
    "duration": 10,
    "start_time": "2023-02-01T21:58:12.728Z"
   },
   {
    "duration": 82,
    "start_time": "2023-02-01T21:58:12.739Z"
   },
   {
    "duration": 106,
    "start_time": "2023-02-01T21:58:12.825Z"
   },
   {
    "duration": 15,
    "start_time": "2023-02-01T21:58:12.932Z"
   },
   {
    "duration": 1617,
    "start_time": "2023-02-02T19:35:17.775Z"
   },
   {
    "duration": 2155,
    "start_time": "2023-02-02T19:35:19.394Z"
   },
   {
    "duration": 64,
    "start_time": "2023-02-02T19:35:21.550Z"
   },
   {
    "duration": 17,
    "start_time": "2023-02-02T19:35:21.616Z"
   },
   {
    "duration": 2,
    "start_time": "2023-02-02T19:35:21.635Z"
   },
   {
    "duration": 10,
    "start_time": "2023-02-02T19:35:21.639Z"
   },
   {
    "duration": 5,
    "start_time": "2023-02-02T19:35:21.650Z"
   },
   {
    "duration": 15,
    "start_time": "2023-02-02T19:35:21.656Z"
   },
   {
    "duration": 51,
    "start_time": "2023-02-02T19:35:21.672Z"
   },
   {
    "duration": 3,
    "start_time": "2023-02-02T19:35:21.727Z"
   },
   {
    "duration": 10,
    "start_time": "2023-02-02T19:35:21.731Z"
   },
   {
    "duration": 6,
    "start_time": "2023-02-02T19:35:21.742Z"
   },
   {
    "duration": 6,
    "start_time": "2023-02-02T19:35:21.750Z"
   },
   {
    "duration": 6,
    "start_time": "2023-02-02T19:35:21.759Z"
   },
   {
    "duration": 7,
    "start_time": "2023-02-02T19:35:21.799Z"
   },
   {
    "duration": 9,
    "start_time": "2023-02-02T19:35:21.807Z"
   },
   {
    "duration": 5,
    "start_time": "2023-02-02T19:35:21.818Z"
   },
   {
    "duration": 7,
    "start_time": "2023-02-02T19:35:21.825Z"
   },
   {
    "duration": 154,
    "start_time": "2023-02-02T19:35:21.834Z"
   },
   {
    "duration": 119,
    "start_time": "2023-02-02T19:35:21.998Z"
   },
   {
    "duration": 153,
    "start_time": "2023-02-02T19:35:22.119Z"
   },
   {
    "duration": 25,
    "start_time": "2023-02-02T19:35:22.274Z"
   },
   {
    "duration": 3,
    "start_time": "2023-02-02T19:35:22.301Z"
   },
   {
    "duration": 5,
    "start_time": "2023-02-02T19:35:22.306Z"
   },
   {
    "duration": 10,
    "start_time": "2023-02-02T19:35:22.313Z"
   },
   {
    "duration": 19,
    "start_time": "2023-02-02T19:35:22.324Z"
   },
   {
    "duration": 3,
    "start_time": "2023-02-02T19:35:22.345Z"
   },
   {
    "duration": 1269,
    "start_time": "2023-02-02T19:35:22.349Z"
   },
   {
    "duration": 1322,
    "start_time": "2023-02-02T19:35:23.620Z"
   },
   {
    "duration": 1590,
    "start_time": "2023-02-02T19:35:24.943Z"
   },
   {
    "duration": 1576,
    "start_time": "2023-02-02T19:35:26.535Z"
   },
   {
    "duration": 5,
    "start_time": "2023-02-02T19:35:28.112Z"
   },
   {
    "duration": 18,
    "start_time": "2023-02-02T19:35:28.119Z"
   },
   {
    "duration": 4,
    "start_time": "2023-02-02T19:35:28.139Z"
   },
   {
    "duration": 10,
    "start_time": "2023-02-02T19:35:28.144Z"
   },
   {
    "duration": 7,
    "start_time": "2023-02-02T19:35:28.156Z"
   },
   {
    "duration": 136,
    "start_time": "2023-02-02T19:35:28.165Z"
   },
   {
    "duration": 7,
    "start_time": "2023-02-02T19:35:28.303Z"
   },
   {
    "duration": 1357,
    "start_time": "2023-02-02T19:36:56.685Z"
   },
   {
    "duration": 684,
    "start_time": "2023-02-02T19:36:58.044Z"
   },
   {
    "duration": 72,
    "start_time": "2023-02-02T19:36:58.729Z"
   },
   {
    "duration": 17,
    "start_time": "2023-02-02T19:36:58.803Z"
   },
   {
    "duration": 3,
    "start_time": "2023-02-02T19:36:58.821Z"
   },
   {
    "duration": 12,
    "start_time": "2023-02-02T19:36:58.825Z"
   },
   {
    "duration": 4,
    "start_time": "2023-02-02T19:36:58.839Z"
   },
   {
    "duration": 19,
    "start_time": "2023-02-02T19:36:58.844Z"
   },
   {
    "duration": 48,
    "start_time": "2023-02-02T19:36:58.865Z"
   },
   {
    "duration": 2,
    "start_time": "2023-02-02T19:36:58.916Z"
   },
   {
    "duration": 9,
    "start_time": "2023-02-02T19:36:58.920Z"
   },
   {
    "duration": 6,
    "start_time": "2023-02-02T19:36:58.931Z"
   },
   {
    "duration": 6,
    "start_time": "2023-02-02T19:36:58.939Z"
   },
   {
    "duration": 7,
    "start_time": "2023-02-02T19:36:58.947Z"
   },
   {
    "duration": 46,
    "start_time": "2023-02-02T19:36:58.955Z"
   },
   {
    "duration": 7,
    "start_time": "2023-02-02T19:36:59.003Z"
   },
   {
    "duration": 9,
    "start_time": "2023-02-02T19:36:59.011Z"
   },
   {
    "duration": 6,
    "start_time": "2023-02-02T19:36:59.022Z"
   },
   {
    "duration": 159,
    "start_time": "2023-02-02T19:36:59.030Z"
   },
   {
    "duration": 130,
    "start_time": "2023-02-02T19:36:59.190Z"
   },
   {
    "duration": 149,
    "start_time": "2023-02-02T19:36:59.321Z"
   },
   {
    "duration": 15,
    "start_time": "2023-02-02T19:36:59.472Z"
   },
   {
    "duration": 11,
    "start_time": "2023-02-02T19:36:59.489Z"
   },
   {
    "duration": 8,
    "start_time": "2023-02-02T19:36:59.502Z"
   },
   {
    "duration": 15,
    "start_time": "2023-02-02T19:36:59.511Z"
   },
   {
    "duration": 23,
    "start_time": "2023-02-02T19:36:59.528Z"
   },
   {
    "duration": 3,
    "start_time": "2023-02-02T19:36:59.553Z"
   },
   {
    "duration": 1542,
    "start_time": "2023-02-02T19:36:59.560Z"
   },
   {
    "duration": 1314,
    "start_time": "2023-02-02T19:37:01.103Z"
   },
   {
    "duration": 1648,
    "start_time": "2023-02-02T19:37:02.419Z"
   },
   {
    "duration": 1684,
    "start_time": "2023-02-02T19:37:04.069Z"
   },
   {
    "duration": 5,
    "start_time": "2023-02-02T19:37:05.754Z"
   },
   {
    "duration": 35,
    "start_time": "2023-02-02T19:37:05.761Z"
   },
   {
    "duration": 11,
    "start_time": "2023-02-02T19:37:05.798Z"
   },
   {
    "duration": 10,
    "start_time": "2023-02-02T19:37:05.811Z"
   },
   {
    "duration": 8,
    "start_time": "2023-02-02T19:37:05.823Z"
   },
   {
    "duration": 6,
    "start_time": "2023-02-02T19:37:05.833Z"
   },
   {
    "duration": 9,
    "start_time": "2023-02-02T19:37:05.841Z"
   },
   {
    "duration": 1749,
    "start_time": "2023-02-02T19:38:14.208Z"
   },
   {
    "duration": 747,
    "start_time": "2023-02-02T19:38:15.959Z"
   },
   {
    "duration": 73,
    "start_time": "2023-02-02T19:38:16.708Z"
   },
   {
    "duration": 35,
    "start_time": "2023-02-02T19:38:16.782Z"
   },
   {
    "duration": 3,
    "start_time": "2023-02-02T19:38:16.820Z"
   },
   {
    "duration": 13,
    "start_time": "2023-02-02T19:38:16.825Z"
   },
   {
    "duration": 4,
    "start_time": "2023-02-02T19:38:16.840Z"
   },
   {
    "duration": 14,
    "start_time": "2023-02-02T19:38:16.846Z"
   },
   {
    "duration": 52,
    "start_time": "2023-02-02T19:38:16.861Z"
   },
   {
    "duration": 4,
    "start_time": "2023-02-02T19:38:16.915Z"
   },
   {
    "duration": 13,
    "start_time": "2023-02-02T19:38:16.921Z"
   },
   {
    "duration": 6,
    "start_time": "2023-02-02T19:38:16.936Z"
   },
   {
    "duration": 7,
    "start_time": "2023-02-02T19:38:16.944Z"
   },
   {
    "duration": 7,
    "start_time": "2023-02-02T19:38:16.954Z"
   },
   {
    "duration": 39,
    "start_time": "2023-02-02T19:38:16.963Z"
   },
   {
    "duration": 10,
    "start_time": "2023-02-02T19:38:17.004Z"
   },
   {
    "duration": 9,
    "start_time": "2023-02-02T19:38:17.017Z"
   },
   {
    "duration": 7,
    "start_time": "2023-02-02T19:38:17.028Z"
   },
   {
    "duration": 188,
    "start_time": "2023-02-02T19:38:17.037Z"
   },
   {
    "duration": 133,
    "start_time": "2023-02-02T19:38:17.227Z"
   },
   {
    "duration": 160,
    "start_time": "2023-02-02T19:38:17.362Z"
   },
   {
    "duration": 16,
    "start_time": "2023-02-02T19:38:17.524Z"
   },
   {
    "duration": 6,
    "start_time": "2023-02-02T19:38:17.543Z"
   },
   {
    "duration": 8,
    "start_time": "2023-02-02T19:38:17.551Z"
   },
   {
    "duration": 9,
    "start_time": "2023-02-02T19:38:17.561Z"
   },
   {
    "duration": 38,
    "start_time": "2023-02-02T19:38:17.572Z"
   },
   {
    "duration": 4,
    "start_time": "2023-02-02T19:38:17.612Z"
   },
   {
    "duration": 1802,
    "start_time": "2023-02-02T19:38:17.618Z"
   },
   {
    "duration": 1795,
    "start_time": "2023-02-02T19:38:19.422Z"
   },
   {
    "duration": 1655,
    "start_time": "2023-02-02T19:38:21.219Z"
   },
   {
    "duration": 1679,
    "start_time": "2023-02-02T19:38:22.876Z"
   },
   {
    "duration": 5,
    "start_time": "2023-02-02T19:38:24.557Z"
   },
   {
    "duration": 17,
    "start_time": "2023-02-02T19:38:24.564Z"
   },
   {
    "duration": 18,
    "start_time": "2023-02-02T19:38:24.583Z"
   },
   {
    "duration": 10,
    "start_time": "2023-02-02T19:38:24.602Z"
   },
   {
    "duration": 6,
    "start_time": "2023-02-02T19:38:24.614Z"
   },
   {
    "duration": 4,
    "start_time": "2023-02-02T19:38:24.622Z"
   },
   {
    "duration": 6,
    "start_time": "2023-02-02T19:38:24.628Z"
   }
  ],
  "kernelspec": {
   "display_name": "Python 3 (ipykernel)",
   "language": "python",
   "name": "python3"
  },
  "language_info": {
   "codemirror_mode": {
    "name": "ipython",
    "version": 3
   },
   "file_extension": ".py",
   "mimetype": "text/x-python",
   "name": "python",
   "nbconvert_exporter": "python",
   "pygments_lexer": "ipython3",
   "version": "3.9.13"
  },
  "toc": {
   "base_numbering": 1,
   "nav_menu": {},
   "number_sections": true,
   "sideBar": true,
   "skip_h1_title": true,
   "title_cell": "Содержание",
   "title_sidebar": "Contents",
   "toc_cell": true,
   "toc_position": {
    "height": "calc(100% - 180px)",
    "left": "10px",
    "top": "150px",
    "width": "165px"
   },
   "toc_section_display": true,
   "toc_window_display": true
  }
 },
 "nbformat": 4,
 "nbformat_minor": 2
}
