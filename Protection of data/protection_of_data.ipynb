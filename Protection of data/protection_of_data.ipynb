{
 "cells": [
  {
   "cell_type": "markdown",
   "metadata": {},
   "source": [
    "# Защита персональных данных клиентов / Protection of clients' personal data"
   ]
  },
  {
   "cell_type": "markdown",
   "metadata": {},
   "source": [
    "Требуется защитить данные клиентов страховой компании, разработать такой метод преобразования данных, чтобы по ним было сложно восстановить персональную информацию.\n",
    "\n",
    "Нужно защитить данные, чтобы при преобразовании качество моделей машинного обучения не ухудшилось.\n",
    "\n",
    "It is necessary to protect the data of the insurance company's clients, to develop a method of data transformation so that it is difficult to recover personal information from it.\n",
    "\n",
    "It is necessary to protect the data so that the quality of machine learning models does not deteriorate during conversion."
   ]
  },
  {
   "cell_type": "markdown",
   "metadata": {},
   "source": [
    "## Загрузка данных / Loading Data"
   ]
  },
  {
   "cell_type": "code",
   "execution_count": 1,
   "metadata": {},
   "outputs": [],
   "source": [
    "import pandas as pd\n",
    "import numpy as np\n",
    "from sklearn.metrics import r2_score"
   ]
  },
  {
   "cell_type": "code",
   "execution_count": 2,
   "metadata": {},
   "outputs": [
    {
     "data": {
      "text/html": [
       "<div>\n",
       "<style scoped>\n",
       "    .dataframe tbody tr th:only-of-type {\n",
       "        vertical-align: middle;\n",
       "    }\n",
       "\n",
       "    .dataframe tbody tr th {\n",
       "        vertical-align: top;\n",
       "    }\n",
       "\n",
       "    .dataframe thead th {\n",
       "        text-align: right;\n",
       "    }\n",
       "</style>\n",
       "<table border=\"1\" class=\"dataframe\">\n",
       "  <thead>\n",
       "    <tr style=\"text-align: right;\">\n",
       "      <th></th>\n",
       "      <th>Пол</th>\n",
       "      <th>Возраст</th>\n",
       "      <th>Зарплата</th>\n",
       "      <th>Члены семьи</th>\n",
       "      <th>Страховые выплаты</th>\n",
       "    </tr>\n",
       "  </thead>\n",
       "  <tbody>\n",
       "    <tr>\n",
       "      <th>0</th>\n",
       "      <td>1</td>\n",
       "      <td>41.0</td>\n",
       "      <td>49600.0</td>\n",
       "      <td>1</td>\n",
       "      <td>0</td>\n",
       "    </tr>\n",
       "    <tr>\n",
       "      <th>1</th>\n",
       "      <td>0</td>\n",
       "      <td>46.0</td>\n",
       "      <td>38000.0</td>\n",
       "      <td>1</td>\n",
       "      <td>1</td>\n",
       "    </tr>\n",
       "    <tr>\n",
       "      <th>2</th>\n",
       "      <td>0</td>\n",
       "      <td>29.0</td>\n",
       "      <td>21000.0</td>\n",
       "      <td>0</td>\n",
       "      <td>0</td>\n",
       "    </tr>\n",
       "    <tr>\n",
       "      <th>3</th>\n",
       "      <td>0</td>\n",
       "      <td>21.0</td>\n",
       "      <td>41700.0</td>\n",
       "      <td>2</td>\n",
       "      <td>0</td>\n",
       "    </tr>\n",
       "    <tr>\n",
       "      <th>4</th>\n",
       "      <td>1</td>\n",
       "      <td>28.0</td>\n",
       "      <td>26100.0</td>\n",
       "      <td>0</td>\n",
       "      <td>0</td>\n",
       "    </tr>\n",
       "    <tr>\n",
       "      <th>...</th>\n",
       "      <td>...</td>\n",
       "      <td>...</td>\n",
       "      <td>...</td>\n",
       "      <td>...</td>\n",
       "      <td>...</td>\n",
       "    </tr>\n",
       "    <tr>\n",
       "      <th>4995</th>\n",
       "      <td>0</td>\n",
       "      <td>28.0</td>\n",
       "      <td>35700.0</td>\n",
       "      <td>2</td>\n",
       "      <td>0</td>\n",
       "    </tr>\n",
       "    <tr>\n",
       "      <th>4996</th>\n",
       "      <td>0</td>\n",
       "      <td>34.0</td>\n",
       "      <td>52400.0</td>\n",
       "      <td>1</td>\n",
       "      <td>0</td>\n",
       "    </tr>\n",
       "    <tr>\n",
       "      <th>4997</th>\n",
       "      <td>0</td>\n",
       "      <td>20.0</td>\n",
       "      <td>33900.0</td>\n",
       "      <td>2</td>\n",
       "      <td>0</td>\n",
       "    </tr>\n",
       "    <tr>\n",
       "      <th>4998</th>\n",
       "      <td>1</td>\n",
       "      <td>22.0</td>\n",
       "      <td>32700.0</td>\n",
       "      <td>3</td>\n",
       "      <td>0</td>\n",
       "    </tr>\n",
       "    <tr>\n",
       "      <th>4999</th>\n",
       "      <td>1</td>\n",
       "      <td>28.0</td>\n",
       "      <td>40600.0</td>\n",
       "      <td>1</td>\n",
       "      <td>0</td>\n",
       "    </tr>\n",
       "  </tbody>\n",
       "</table>\n",
       "<p>5000 rows × 5 columns</p>\n",
       "</div>"
      ],
      "text/plain": [
       "      Пол  Возраст  Зарплата  Члены семьи  Страховые выплаты\n",
       "0       1     41.0   49600.0            1                  0\n",
       "1       0     46.0   38000.0            1                  1\n",
       "2       0     29.0   21000.0            0                  0\n",
       "3       0     21.0   41700.0            2                  0\n",
       "4       1     28.0   26100.0            0                  0\n",
       "...   ...      ...       ...          ...                ...\n",
       "4995    0     28.0   35700.0            2                  0\n",
       "4996    0     34.0   52400.0            1                  0\n",
       "4997    0     20.0   33900.0            2                  0\n",
       "4998    1     22.0   32700.0            3                  0\n",
       "4999    1     28.0   40600.0            1                  0\n",
       "\n",
       "[5000 rows x 5 columns]"
      ]
     },
     "metadata": {},
     "output_type": "display_data"
    },
    {
     "name": "stdout",
     "output_type": "stream",
     "text": [
      "<class 'pandas.core.frame.DataFrame'>\n",
      "RangeIndex: 5000 entries, 0 to 4999\n",
      "Data columns (total 5 columns):\n",
      " #   Column             Non-Null Count  Dtype  \n",
      "---  ------             --------------  -----  \n",
      " 0   Пол                5000 non-null   int64  \n",
      " 1   Возраст            5000 non-null   float64\n",
      " 2   Зарплата           5000 non-null   float64\n",
      " 3   Члены семьи        5000 non-null   int64  \n",
      " 4   Страховые выплаты  5000 non-null   int64  \n",
      "dtypes: float64(2), int64(3)\n",
      "memory usage: 195.4 KB\n"
     ]
    }
   ],
   "source": [
    "data = pd.read_csv('/Users/vladamalkina/Downloads/insurance-2.csv')\n",
    "display(data)\n",
    "data.info()"
   ]
  },
  {
   "cell_type": "code",
   "execution_count": 3,
   "metadata": {},
   "outputs": [],
   "source": [
    "features = data.drop('Страховые выплаты', axis=1)\n",
    "target = data['Страховые выплаты']"
   ]
  },
  {
   "cell_type": "markdown",
   "metadata": {},
   "source": [
    "В данных отсутствуют пропуски, следовательно можно переходить к этапу машинного обучения.\n",
    "\n",
    "Страховые выплаты - целевой признак.\n",
    "\n",
    "Пол, Возраст, Зарплата, Члены семьи - признаки.\n",
    "\n",
    "There are no gaps in the data, so you can move on to the machine learning stage.\n",
    "\n",
    "Insurance payments are the target attribute.\n",
    "\n",
    "Gender, Age, Salary, Family members - signs."
   ]
  },
  {
   "cell_type": "markdown",
   "metadata": {},
   "source": [
    "## Алгоритм преобразования / Conversion algorithm"
   ]
  },
  {
   "cell_type": "markdown",
   "metadata": {},
   "source": [
    "**Алгоритм / Algorithm**\n",
    "\n",
    "1) Обучение линейной регрессии / Linear Regression Training;\n",
    "\n",
    "2) Создание обратимой матрицы / Creating an Invertible Matrix;\n",
    "\n",
    "3) Умножение признаков на эту матрицу / Multiplying features by this matrix;\n",
    "\n",
    "4) Вычисление r2 для новой модели / Calculating r2 for the new model."
   ]
  },
  {
   "cell_type": "markdown",
   "metadata": {},
   "source": [
    "**Обоснование / Rationale**\n",
    "\n",
    "При умножении признаков на обратимую матрицу, сами признаки не меняются; мы переходим в новую систему. Поэтому качество модели не изменится.\n",
    "\n",
    "When multiplying features by an invertible matrix, the features themselves do not change; We are moving to a new system. Therefore, the quality of the model will not change."
   ]
  },
  {
   "cell_type": "markdown",
   "metadata": {},
   "source": [
    "## Проверка алгоритма / Algorithm verification"
   ]
  },
  {
   "cell_type": "markdown",
   "metadata": {},
   "source": [
    "Проверка модели без умножения на обратимую матрицу:\n",
    "\n",
    "Model checking without multiplication by an invertible matrix:"
   ]
  },
  {
   "cell_type": "code",
   "execution_count": 4,
   "metadata": {},
   "outputs": [
    {
     "name": "stdout",
     "output_type": "stream",
     "text": [
      "0.42494550286668\n"
     ]
    }
   ],
   "source": [
    "class LinearRegression:\n",
    "    def fit(self, train_features, train_target):\n",
    "        X = np.concatenate((np.ones((train_features.shape[0], 1)), train_features), axis=1)\n",
    "        y = train_target\n",
    "        w = np.linalg.inv(X.T@X)@X.T@y\n",
    "        self.w = w[1:]\n",
    "        self.w0 = w[0]\n",
    "\n",
    "    def predict(self, test_features):\n",
    "        return test_features.dot(self.w) + self.w0\n",
    "    \n",
    "    \n",
    "model = LinearRegression()\n",
    "model.fit(features, target)\n",
    "predictions = model.predict(features)\n",
    "print(r2_score(target, predictions))"
   ]
  },
  {
   "cell_type": "markdown",
   "metadata": {},
   "source": [
    "Проверка модели с умножением на обратимую матрицу:\n",
    "\n",
    "Checking the model with multiplication by an invertible matrix:"
   ]
  },
  {
   "cell_type": "code",
   "execution_count": 5,
   "metadata": {},
   "outputs": [
    {
     "name": "stdout",
     "output_type": "stream",
     "text": [
      "0.424945502866535\n"
     ]
    }
   ],
   "source": [
    "model = LinearRegression()\n",
    "matrix = np.random.normal(loc = 0.0, scale = 2.0, size = (4, 4))\n",
    "np.linalg.inv(matrix)\n",
    "features = features @ matrix\n",
    "model.fit(features, target)\n",
    "predictions = model.predict(features)\n",
    "print(r2_score(target, predictions))"
   ]
  },
  {
   "cell_type": "markdown",
   "metadata": {},
   "source": [
    "Качество модели до и после обучения не изменилось (r2 = 0.425)\n",
    "\n",
    "The quality of the model before and after training did not change (r2 = 0.425)"
   ]
  }
 ],
 "metadata": {
  "ExecuteTimeLog": [
   {
    "duration": 462,
    "start_time": "2023-02-20T19:24:28.229Z"
   },
   {
    "duration": 43,
    "start_time": "2023-02-20T19:24:42.825Z"
   },
   {
    "duration": 494,
    "start_time": "2023-02-22T19:15:19.280Z"
   },
   {
    "duration": 4,
    "start_time": "2023-02-22T19:15:22.948Z"
   },
   {
    "duration": 71,
    "start_time": "2023-02-22T19:15:26.928Z"
   },
   {
    "duration": 670,
    "start_time": "2023-02-22T19:16:37.488Z"
   },
   {
    "duration": 45,
    "start_time": "2023-02-22T19:16:39.977Z"
   },
   {
    "duration": 3,
    "start_time": "2023-02-22T19:16:43.641Z"
   },
   {
    "duration": 11,
    "start_time": "2023-02-22T19:16:47.834Z"
   },
   {
    "duration": 3,
    "start_time": "2023-02-22T19:24:03.249Z"
   },
   {
    "duration": 45,
    "start_time": "2023-02-22T19:24:06.230Z"
   },
   {
    "duration": 4,
    "start_time": "2023-02-22T19:24:09.897Z"
   },
   {
    "duration": 5,
    "start_time": "2023-02-22T19:24:14.697Z"
   },
   {
    "duration": 19,
    "start_time": "2023-02-22T19:24:18.118Z"
   },
   {
    "duration": 50,
    "start_time": "2023-02-23T08:50:03.700Z"
   },
   {
    "duration": 1014,
    "start_time": "2023-02-23T08:50:12.445Z"
   },
   {
    "duration": 107,
    "start_time": "2023-02-23T08:50:13.563Z"
   },
   {
    "duration": 4,
    "start_time": "2023-02-23T08:50:17.680Z"
   },
   {
    "duration": 10,
    "start_time": "2023-02-23T08:50:20.693Z"
   },
   {
    "duration": 9,
    "start_time": "2023-02-23T08:51:46.720Z"
   },
   {
    "duration": 60,
    "start_time": "2023-02-23T08:52:08.699Z"
   },
   {
    "duration": 14,
    "start_time": "2023-02-23T08:52:24.620Z"
   },
   {
    "duration": 15,
    "start_time": "2023-02-23T08:57:19.529Z"
   },
   {
    "duration": 14,
    "start_time": "2023-02-23T08:57:49.229Z"
   },
   {
    "duration": 17,
    "start_time": "2023-02-23T08:58:40.820Z"
   },
   {
    "duration": 10,
    "start_time": "2023-02-23T08:59:50.699Z"
   },
   {
    "duration": 49,
    "start_time": "2023-02-23T10:56:27.905Z"
   },
   {
    "duration": 1179,
    "start_time": "2023-02-23T10:58:40.760Z"
   },
   {
    "duration": 112,
    "start_time": "2023-02-23T10:58:42.007Z"
   },
   {
    "duration": 5,
    "start_time": "2023-02-23T10:58:44.603Z"
   },
   {
    "duration": 164,
    "start_time": "2023-02-23T10:58:50.240Z"
   },
   {
    "duration": 11,
    "start_time": "2023-02-23T10:58:53.846Z"
   },
   {
    "duration": 3,
    "start_time": "2023-02-23T11:17:52.356Z"
   },
   {
    "duration": 46,
    "start_time": "2023-02-23T11:17:52.361Z"
   },
   {
    "duration": 3,
    "start_time": "2023-02-23T11:17:52.409Z"
   },
   {
    "duration": 10,
    "start_time": "2023-02-23T11:17:52.472Z"
   },
   {
    "duration": 10,
    "start_time": "2023-02-23T11:17:56.072Z"
   },
   {
    "duration": 988,
    "start_time": "2023-02-23T11:18:12.961Z"
   },
   {
    "duration": 49,
    "start_time": "2023-02-23T11:18:13.951Z"
   },
   {
    "duration": 3,
    "start_time": "2023-02-23T11:18:14.002Z"
   },
   {
    "duration": 14,
    "start_time": "2023-02-23T11:18:14.007Z"
   },
   {
    "duration": 186,
    "start_time": "2023-02-23T11:18:14.024Z"
   },
   {
    "duration": 113,
    "start_time": "2023-02-23T15:49:39.456Z"
   },
   {
    "duration": 1055,
    "start_time": "2023-02-24T11:19:25.855Z"
   },
   {
    "duration": 126,
    "start_time": "2023-02-24T11:19:26.913Z"
   },
   {
    "duration": 4,
    "start_time": "2023-02-24T11:19:27.041Z"
   },
   {
    "duration": 13,
    "start_time": "2023-02-24T11:19:27.047Z"
   },
   {
    "duration": 128,
    "start_time": "2023-02-24T11:19:34.588Z"
   },
   {
    "duration": 9,
    "start_time": "2023-02-24T11:19:58.743Z"
   },
   {
    "duration": 10,
    "start_time": "2023-02-24T11:20:03.508Z"
   },
   {
    "duration": 10,
    "start_time": "2023-02-24T11:20:05.842Z"
   },
   {
    "duration": 8,
    "start_time": "2023-02-24T11:20:20.794Z"
   },
   {
    "duration": 1092,
    "start_time": "2023-02-24T11:28:34.094Z"
   },
   {
    "duration": 49,
    "start_time": "2023-02-24T11:28:35.188Z"
   },
   {
    "duration": 4,
    "start_time": "2023-02-24T11:28:35.239Z"
   },
   {
    "duration": 166,
    "start_time": "2023-02-24T11:28:35.244Z"
   },
   {
    "duration": 99,
    "start_time": "2023-02-24T11:28:35.413Z"
   },
   {
    "duration": 1089,
    "start_time": "2023-02-24T11:29:11.101Z"
   },
   {
    "duration": 48,
    "start_time": "2023-02-24T11:29:12.193Z"
   },
   {
    "duration": 4,
    "start_time": "2023-02-24T11:29:12.243Z"
   },
   {
    "duration": 62,
    "start_time": "2023-02-24T11:29:12.249Z"
   },
   {
    "duration": 106,
    "start_time": "2023-02-24T11:29:12.314Z"
   },
   {
    "duration": 1081,
    "start_time": "2023-02-24T11:29:38.973Z"
   },
   {
    "duration": 46,
    "start_time": "2023-02-24T11:29:40.056Z"
   },
   {
    "duration": 3,
    "start_time": "2023-02-24T11:29:40.104Z"
   },
   {
    "duration": 17,
    "start_time": "2023-02-24T11:29:40.109Z"
   },
   {
    "duration": 90,
    "start_time": "2023-02-24T11:29:40.129Z"
   },
   {
    "duration": 103,
    "start_time": "2023-02-24T11:30:36.306Z"
   },
   {
    "duration": 10,
    "start_time": "2023-02-24T11:30:55.180Z"
   },
   {
    "duration": 1075,
    "start_time": "2023-02-24T11:31:27.501Z"
   },
   {
    "duration": 62,
    "start_time": "2023-02-24T11:31:28.579Z"
   },
   {
    "duration": 5,
    "start_time": "2023-02-24T11:31:28.643Z"
   },
   {
    "duration": 19,
    "start_time": "2023-02-24T11:31:28.650Z"
   },
   {
    "duration": 55,
    "start_time": "2023-02-24T11:31:28.672Z"
   },
   {
    "duration": 1024,
    "start_time": "2023-02-24T11:32:46.557Z"
   },
   {
    "duration": 48,
    "start_time": "2023-02-24T11:32:47.582Z"
   },
   {
    "duration": 4,
    "start_time": "2023-02-24T11:32:47.631Z"
   },
   {
    "duration": 10,
    "start_time": "2023-02-24T11:32:47.637Z"
   },
   {
    "duration": 75,
    "start_time": "2023-02-24T11:32:47.649Z"
   },
   {
    "duration": 1167,
    "start_time": "2023-02-24T11:33:46.317Z"
   },
   {
    "duration": 50,
    "start_time": "2023-02-24T11:33:47.487Z"
   },
   {
    "duration": 4,
    "start_time": "2023-02-24T11:33:47.539Z"
   },
   {
    "duration": 73,
    "start_time": "2023-02-24T11:33:47.545Z"
   },
   {
    "duration": 99,
    "start_time": "2023-02-24T11:33:47.620Z"
   },
   {
    "duration": 1035,
    "start_time": "2023-02-24T11:34:02.829Z"
   },
   {
    "duration": 46,
    "start_time": "2023-02-24T11:34:03.867Z"
   },
   {
    "duration": 3,
    "start_time": "2023-02-24T11:34:03.915Z"
   },
   {
    "duration": 13,
    "start_time": "2023-02-24T11:34:03.920Z"
   },
   {
    "duration": 185,
    "start_time": "2023-02-24T11:34:03.937Z"
   },
   {
    "duration": 1113,
    "start_time": "2023-02-24T11:34:16.021Z"
   },
   {
    "duration": 45,
    "start_time": "2023-02-24T11:34:17.136Z"
   },
   {
    "duration": 3,
    "start_time": "2023-02-24T11:34:17.183Z"
   },
   {
    "duration": 22,
    "start_time": "2023-02-24T11:34:17.188Z"
   },
   {
    "duration": 213,
    "start_time": "2023-02-24T11:34:17.212Z"
   }
  ],
  "kernelspec": {
   "display_name": "Python 3 (ipykernel)",
   "language": "python",
   "name": "python3"
  },
  "language_info": {
   "codemirror_mode": {
    "name": "ipython",
    "version": 3
   },
   "file_extension": ".py",
   "mimetype": "text/x-python",
   "name": "python",
   "nbconvert_exporter": "python",
   "pygments_lexer": "ipython3",
   "version": "3.9.13"
  },
  "toc": {
   "base_numbering": 1,
   "nav_menu": {},
   "number_sections": true,
   "sideBar": true,
   "skip_h1_title": true,
   "title_cell": "Содержание",
   "title_sidebar": "Contents",
   "toc_cell": true,
   "toc_position": {},
   "toc_section_display": true,
   "toc_window_display": true
  }
 },
 "nbformat": 4,
 "nbformat_minor": 2
}
