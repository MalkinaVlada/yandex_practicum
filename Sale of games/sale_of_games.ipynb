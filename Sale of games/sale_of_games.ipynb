{
 "cells": [
  {
   "cell_type": "markdown",
   "metadata": {},
   "source": [
    "# Анализ данных интернет-магазина / Online store data analysis"
   ]
  },
  {
   "cell_type": "markdown",
   "metadata": {},
   "source": [
    "Доступны исторические данные о продажах игр, оценки пользователей и экспертов, жанры и платформы.\n",
    "\n",
    "Historical game sales data, user and expert ratings, genres and platforms are available.\n",
    "\n",
    "Цель: необходимо выявить определяющие успешность игры закономерности. Это позволит сделать ставку на потенциально популярный продукт и спланировать рекламные кампании. Нужно отработать принцип работы с данными: спрогнозировать продажи на 2017 год по данным 2016-го.\n",
    "\n",
    "Goal: it is necessary to identify the patterns that determine the success of the game. This will allow you to place a bet on a potentially popular product and plan advertising campaigns. We need to work out the principle of working with data: predict sales for 2017 based on 2016 data."
   ]
  },
  {
   "cell_type": "markdown",
   "metadata": {},
   "source": [
    "Описание данных: \n",
    "\n",
    "Name — название игры\n",
    "\n",
    "Platform — платформа\n",
    "\n",
    "Year_of_Release — год выпуска\n",
    "\n",
    "Genre — жанр игры\n",
    "\n",
    "NA_sales — продажи в Северной Америке (миллионы проданных копий)\n",
    "\n",
    "EU_sales — продажи в Европе (миллионы проданных копий)\n",
    "\n",
    "JP_sales — продажи в Японии (миллионы проданных копий)\n",
    "\n",
    "Other_sales — продажи в других странах (миллионы проданных копий)\n",
    "\n",
    "Critic_Score — оценка критиков (максимум 100)\n",
    "\n",
    "User_Score — оценка пользователей (максимум 10)\n",
    "\n",
    "Rating — рейтинг от организации ESRB (англ. Entertainment Software Rating Board). Эта ассоциация определяет рейтинг компьютерных игр и присваивает им подходящую возрастную категорию.\n",
    "\n",
    "\n",
    "**Data description:**\n",
    "\n",
    "Name - the name of the game\n",
    "\n",
    "Platform - platform\n",
    "\n",
    "Year_of_Release — year of release\n",
    "\n",
    "Genre - game genre\n",
    "\n",
    "NA_sales - sales in North America (millions of copies sold)\n",
    "\n",
    "EU_sales - sales in Europe (millions of copies sold)\n",
    "\n",
    "JP_sales - sales in Japan (millions of copies sold)\n",
    "\n",
    "Other_sales - sales in other countries (millions of copies sold)\n",
    "\n",
    "Critic_Score - critics' score (maximum 100)\n",
    "\n",
    "User_Score - user rating (maximum 10)\n",
    "\n",
    "Rating - rating from the ESRB (Entertainment Software Rating Board). This association determines the rating of computer games and assigns them an appropriate age category."
   ]
  },
  {
   "cell_type": "markdown",
   "metadata": {},
   "source": [
    "План работы:\n",
    "    \n",
    "    ШАГ 1. Открыть файл с данными и изучить общую информацию\n",
    "    \n",
    "    ШАГ 2. Подготовка данных\n",
    "    \n",
    "    ШАГ 3. Провести исследовательский анализ данных\n",
    "    \n",
    "    ШАГ 4. Составить портрет пользователя каждого региона\n",
    "    \n",
    "    ШАГ 5. Проверить гипотезы\n",
    "    \n",
    "    ШАГ 6. Написать общий вывод\n",
    "    \n",
    "Work plan:\n",
    "    \n",
    "    STEP 1. Open the data file and examine the general information\n",
    "    \n",
    "    STEP 2. Data preparation\n",
    "    \n",
    "    STEP 3. Conduct exploratory data analysis\n",
    "    \n",
    "    STEP 4. Create a profile of a user in each region\n",
    "    \n",
    "    STEP 5. Test hypotheses\n",
    "    \n",
    "    STEP 6. Write a general conclusion"
   ]
  },
  {
   "cell_type": "markdown",
   "metadata": {
    "toc": true
   },
   "source": [
    "<h1>СОДЕРЖАНИЕ / CONTENT<span class=\"tocSkip\"></span></h1>\n",
    "<div class=\"toc\"><ul class=\"toc-item\"><li><span><a href=\"#ШАГ-1\" data-toc-modified-id=\"ШАГ-1-1\"><span class=\"toc-item-num\">1&nbsp;&nbsp;</span>ШАГ 1 / STEP 1</a></span></li><li><span><a href=\"#ШАГ-2\" data-toc-modified-id=\"ШАГ-2-2\"><span class=\"toc-item-num\">2&nbsp;&nbsp;</span>ШАГ 2 / STEP 2</a></span></li><li><span><a href=\"#ШАГ-3\" data-toc-modified-id=\"ШАГ-3-3\"><span class=\"toc-item-num\">3&nbsp;&nbsp;</span>ШАГ 3 / STEP 3</a></span></li><li><span><a href=\"#ШАГ-4\" data-toc-modified-id=\"ШАГ-4-4\"><span class=\"toc-item-num\">4&nbsp;&nbsp;</span>ШАГ 4 / STEP 4</a></span></li><li><span><a href=\"#ШАГ-5\" data-toc-modified-id=\"ШАГ-5-5\"><span class=\"toc-item-num\">5&nbsp;&nbsp;</span>ШАГ 5 / STEP 5</a></span></li><li><span><a href=\"#ШАГ-6\" data-toc-modified-id=\"ШАГ-6-6\"><span class=\"toc-item-num\">6&nbsp;&nbsp;</span>ШАГ 6 / STEP 6</a></span></li></ul></div>"
   ]
  },
  {
   "cell_type": "markdown",
   "metadata": {},
   "source": [
    "## ШАГ 1 / STEP 1"
   ]
  },
  {
   "cell_type": "markdown",
   "metadata": {},
   "source": [
    "Импортируем необходимые библиотеки и загрузим данные: / Import the necessary libraries and load the data:"
   ]
  },
  {
   "cell_type": "code",
   "execution_count": 1,
   "metadata": {},
   "outputs": [],
   "source": [
    "import pandas as pd\n",
    "import seaborn\n",
    "import matplotlib.pyplot as plt\n",
    "from scipy import stats as st"
   ]
  },
  {
   "cell_type": "code",
   "execution_count": 2,
   "metadata": {},
   "outputs": [
    {
     "data": {
      "text/html": [
       "<div>\n",
       "<style scoped>\n",
       "    .dataframe tbody tr th:only-of-type {\n",
       "        vertical-align: middle;\n",
       "    }\n",
       "\n",
       "    .dataframe tbody tr th {\n",
       "        vertical-align: top;\n",
       "    }\n",
       "\n",
       "    .dataframe thead th {\n",
       "        text-align: right;\n",
       "    }\n",
       "</style>\n",
       "<table border=\"1\" class=\"dataframe\">\n",
       "  <thead>\n",
       "    <tr style=\"text-align: right;\">\n",
       "      <th></th>\n",
       "      <th>Unnamed: 0</th>\n",
       "      <th>Name</th>\n",
       "      <th>Platform</th>\n",
       "      <th>Year_of_Release</th>\n",
       "      <th>Genre</th>\n",
       "      <th>NA_sales</th>\n",
       "      <th>EU_sales</th>\n",
       "      <th>JP_sales</th>\n",
       "      <th>Other_sales</th>\n",
       "      <th>Critic_Score</th>\n",
       "      <th>User_Score</th>\n",
       "      <th>Rating</th>\n",
       "    </tr>\n",
       "  </thead>\n",
       "  <tbody>\n",
       "    <tr>\n",
       "      <th>0</th>\n",
       "      <td>0</td>\n",
       "      <td>Wii Sports</td>\n",
       "      <td>Wii</td>\n",
       "      <td>2006.0</td>\n",
       "      <td>Sports</td>\n",
       "      <td>41.36</td>\n",
       "      <td>28.96</td>\n",
       "      <td>3.77</td>\n",
       "      <td>8.45</td>\n",
       "      <td>76.0</td>\n",
       "      <td>8</td>\n",
       "      <td>E</td>\n",
       "    </tr>\n",
       "    <tr>\n",
       "      <th>1</th>\n",
       "      <td>1</td>\n",
       "      <td>Super Mario Bros.</td>\n",
       "      <td>NES</td>\n",
       "      <td>1985.0</td>\n",
       "      <td>Platform</td>\n",
       "      <td>29.08</td>\n",
       "      <td>3.58</td>\n",
       "      <td>6.81</td>\n",
       "      <td>0.77</td>\n",
       "      <td>NaN</td>\n",
       "      <td>NaN</td>\n",
       "      <td>NaN</td>\n",
       "    </tr>\n",
       "    <tr>\n",
       "      <th>2</th>\n",
       "      <td>2</td>\n",
       "      <td>Mario Kart Wii</td>\n",
       "      <td>Wii</td>\n",
       "      <td>2008.0</td>\n",
       "      <td>Racing</td>\n",
       "      <td>15.68</td>\n",
       "      <td>12.76</td>\n",
       "      <td>3.79</td>\n",
       "      <td>3.29</td>\n",
       "      <td>82.0</td>\n",
       "      <td>8.3</td>\n",
       "      <td>E</td>\n",
       "    </tr>\n",
       "    <tr>\n",
       "      <th>3</th>\n",
       "      <td>3</td>\n",
       "      <td>Wii Sports Resort</td>\n",
       "      <td>Wii</td>\n",
       "      <td>2009.0</td>\n",
       "      <td>Sports</td>\n",
       "      <td>15.61</td>\n",
       "      <td>10.93</td>\n",
       "      <td>3.28</td>\n",
       "      <td>2.95</td>\n",
       "      <td>80.0</td>\n",
       "      <td>8</td>\n",
       "      <td>E</td>\n",
       "    </tr>\n",
       "    <tr>\n",
       "      <th>4</th>\n",
       "      <td>4</td>\n",
       "      <td>Pokemon Red/Pokemon Blue</td>\n",
       "      <td>GB</td>\n",
       "      <td>1996.0</td>\n",
       "      <td>Role-Playing</td>\n",
       "      <td>11.27</td>\n",
       "      <td>8.89</td>\n",
       "      <td>10.22</td>\n",
       "      <td>1.00</td>\n",
       "      <td>NaN</td>\n",
       "      <td>NaN</td>\n",
       "      <td>NaN</td>\n",
       "    </tr>\n",
       "  </tbody>\n",
       "</table>\n",
       "</div>"
      ],
      "text/plain": [
       "   Unnamed: 0                      Name Platform  Year_of_Release  \\\n",
       "0           0                Wii Sports      Wii           2006.0   \n",
       "1           1         Super Mario Bros.      NES           1985.0   \n",
       "2           2            Mario Kart Wii      Wii           2008.0   \n",
       "3           3         Wii Sports Resort      Wii           2009.0   \n",
       "4           4  Pokemon Red/Pokemon Blue       GB           1996.0   \n",
       "\n",
       "          Genre  NA_sales  EU_sales  JP_sales  Other_sales  Critic_Score  \\\n",
       "0        Sports     41.36     28.96      3.77         8.45          76.0   \n",
       "1      Platform     29.08      3.58      6.81         0.77           NaN   \n",
       "2        Racing     15.68     12.76      3.79         3.29          82.0   \n",
       "3        Sports     15.61     10.93      3.28         2.95          80.0   \n",
       "4  Role-Playing     11.27      8.89     10.22         1.00           NaN   \n",
       "\n",
       "  User_Score Rating  \n",
       "0          8      E  \n",
       "1        NaN    NaN  \n",
       "2        8.3      E  \n",
       "3          8      E  \n",
       "4        NaN    NaN  "
      ]
     },
     "metadata": {},
     "output_type": "display_data"
    }
   ],
   "source": [
    "data = pd.read_csv('/Users/vladamalkina/Desktop/ЯП проекты/проект 5/games_fifth_project.csv')\n",
    "display(data.head())"
   ]
  },
  {
   "cell_type": "code",
   "execution_count": 3,
   "metadata": {},
   "outputs": [
    {
     "name": "stdout",
     "output_type": "stream",
     "text": [
      "<class 'pandas.core.frame.DataFrame'>\n",
      "RangeIndex: 16715 entries, 0 to 16714\n",
      "Data columns (total 12 columns):\n",
      " #   Column           Non-Null Count  Dtype  \n",
      "---  ------           --------------  -----  \n",
      " 0   Unnamed: 0       16715 non-null  int64  \n",
      " 1   Name             16713 non-null  object \n",
      " 2   Platform         16715 non-null  object \n",
      " 3   Year_of_Release  16446 non-null  float64\n",
      " 4   Genre            16713 non-null  object \n",
      " 5   NA_sales         16715 non-null  float64\n",
      " 6   EU_sales         16715 non-null  float64\n",
      " 7   JP_sales         16715 non-null  float64\n",
      " 8   Other_sales      16715 non-null  float64\n",
      " 9   Critic_Score     8137 non-null   float64\n",
      " 10  User_Score       10014 non-null  object \n",
      " 11  Rating           9949 non-null   object \n",
      "dtypes: float64(6), int64(1), object(5)\n",
      "memory usage: 1.5+ MB\n"
     ]
    }
   ],
   "source": [
    "data.info()"
   ]
  },
  {
   "cell_type": "markdown",
   "metadata": {},
   "source": [
    "Обнаружены пропуски в следующих столбцах: 'Name', 'Year_of_Release', 'Genre', 'Critic_Score', 'User_Score', 'Rating'. Требуется предобработка данных, работа с пропусками.\n",
    "\n",
    "Gaps were found in the following columns: 'Name', 'Year_of_Release', 'Genre', 'Critic_Score', 'User_Score', 'Rating'. Data preprocessing and work with gaps are required."
   ]
  },
  {
   "cell_type": "markdown",
   "metadata": {},
   "source": [
    "## ШАГ 2 / STEP 2"
   ]
  },
  {
   "cell_type": "markdown",
   "metadata": {},
   "source": [
    "Заполним пропуски в данных, где это возможно: / Let's fill in the gaps in the data where possible:"
   ]
  },
  {
   "cell_type": "code",
   "execution_count": 4,
   "metadata": {},
   "outputs": [],
   "source": [
    "data = data.rename(columns = str.lower)"
   ]
  },
  {
   "cell_type": "code",
   "execution_count": 5,
   "metadata": {},
   "outputs": [],
   "source": [
    "#data['year_of_release'] = data['year_of_release'].astype(int)\n",
    "#data['user_score'] = data['user_score'].astype(float)"
   ]
  },
  {
   "cell_type": "code",
   "execution_count": 6,
   "metadata": {},
   "outputs": [],
   "source": [
    "#data.hist(figsize=(15, 20))"
   ]
  },
  {
   "cell_type": "code",
   "execution_count": 7,
   "metadata": {},
   "outputs": [
    {
     "data": {
      "text/plain": [
       "unnamed: 0            0\n",
       "name                  2\n",
       "platform              0\n",
       "year_of_release     269\n",
       "genre                 2\n",
       "na_sales              0\n",
       "eu_sales              0\n",
       "jp_sales              0\n",
       "other_sales           0\n",
       "critic_score       8578\n",
       "user_score         6701\n",
       "rating             6766\n",
       "dtype: int64"
      ]
     },
     "execution_count": 7,
     "metadata": {},
     "output_type": "execute_result"
    }
   ],
   "source": [
    "data.isna().sum()"
   ]
  },
  {
   "cell_type": "code",
   "execution_count": 8,
   "metadata": {},
   "outputs": [
    {
     "data": {
      "text/plain": [
       "unnamed: 0            0\n",
       "name                  0\n",
       "platform              0\n",
       "year_of_release       0\n",
       "genre                 0\n",
       "na_sales              0\n",
       "eu_sales              0\n",
       "jp_sales              0\n",
       "other_sales           0\n",
       "critic_score       8461\n",
       "user_score         6605\n",
       "rating             6676\n",
       "dtype: int64"
      ]
     },
     "execution_count": 8,
     "metadata": {},
     "output_type": "execute_result"
    }
   ],
   "source": [
    "data = data.dropna(subset = ['name','year_of_release','genre'])\n",
    "data.isna().sum()"
   ]
  },
  {
   "cell_type": "markdown",
   "metadata": {},
   "source": [
    "Невозможно заполнить пропуски в следующих столбцах: name, year_of_release, genre, rating. Доля пропусков в столбцах name, year_of_release, genre мала, поэтому можно удалить строки с пропусками в этих столбцах.\n",
    "\n",
    "The following columns cannot be filled in: name, year_of_release, genre, rating. The proportion of gaps in the name, year_of_release, genre columns is small, so you can delete rows with gaps in these columns."
   ]
  },
  {
   "cell_type": "code",
   "execution_count": 9,
   "metadata": {},
   "outputs": [
    {
     "data": {
      "text/plain": [
       "array(['Wii', 'NES', 'GB', 'DS', 'X360', 'PS3', 'PS2', 'SNES', 'GBA',\n",
       "       'PS4', '3DS', 'N64', 'PS', 'XB', 'PC', '2600', 'PSP', 'XOne',\n",
       "       'WiiU', 'GC', 'GEN', 'DC', 'PSV', 'SAT', 'SCD', 'WS', 'NG', 'TG16',\n",
       "       '3DO', 'GG', 'PCFX'], dtype=object)"
      ]
     },
     "execution_count": 9,
     "metadata": {},
     "output_type": "execute_result"
    }
   ],
   "source": [
    "data['platform'].unique()"
   ]
  },
  {
   "cell_type": "code",
   "execution_count": 10,
   "metadata": {},
   "outputs": [],
   "source": [
    "data['user_score'] = pd.to_numeric(data['user_score'], errors = 'coerce')"
   ]
  },
  {
   "cell_type": "code",
   "execution_count": 11,
   "metadata": {},
   "outputs": [],
   "source": [
    "platform_sort = data.groupby('platform')['critic_score'].median().isna()\n",
    "choose_platforms = []\n",
    "for i in data['platform'].unique():\n",
    "    if platform_sort[i]==False:\n",
    "        choose_platforms.append(i)"
   ]
  },
  {
   "cell_type": "code",
   "execution_count": 12,
   "metadata": {},
   "outputs": [
    {
     "data": {
      "text/plain": [
       "unnamed: 0            0\n",
       "name                  0\n",
       "platform              0\n",
       "year_of_release       0\n",
       "genre                 0\n",
       "na_sales              0\n",
       "eu_sales              0\n",
       "jp_sales              0\n",
       "other_sales           0\n",
       "critic_score       1097\n",
       "user_score         8981\n",
       "rating             6676\n",
       "dtype: int64"
      ]
     },
     "execution_count": 12,
     "metadata": {},
     "output_type": "execute_result"
    }
   ],
   "source": [
    "for platform in choose_platforms:\n",
    "    data.loc[(data['platform']==platform)&(data['critic_score'].isnull()), 'critic_score'] = data.loc[data['platform']==platform, 'critic_score'].median()\n",
    "data.isna().sum()"
   ]
  },
  {
   "cell_type": "markdown",
   "metadata": {},
   "source": [
    "Заполнили пропуски в critic_score: рассортировали по платформам, нашли медианное значение для каждой платформы и заполнили им пропуски. У некоторых платформ медианное значение NaN, то есть нет данных ни по одной игре в столбце 'critic_score'. Эти пропуски заполнить не удалось.\n",
    "\n",
    "We have filled the gaps in critic_score: sorted by platform, found the median value for each platform and filled in the gaps with it. Some platforms have a NaN median, meaning there is no data for any games in the 'critic_score' column. These gaps could not be filled."
   ]
  },
  {
   "cell_type": "code",
   "execution_count": 13,
   "metadata": {
    "scrolled": false
   },
   "outputs": [
    {
     "data": {
      "text/plain": [
       "unnamed: 0            0\n",
       "name                  0\n",
       "platform              0\n",
       "year_of_release       0\n",
       "genre                 0\n",
       "na_sales              0\n",
       "eu_sales              0\n",
       "jp_sales              0\n",
       "other_sales           0\n",
       "critic_score       1097\n",
       "user_score         1097\n",
       "rating             6676\n",
       "dtype: int64"
      ]
     },
     "execution_count": 13,
     "metadata": {},
     "output_type": "execute_result"
    }
   ],
   "source": [
    "user_group = data.loc[data['user_score'].isna()==False]\n",
    "for platform in user_group['platform'].unique():\n",
    "    data.loc[(data['platform']==platform)&(data['user_score'].isnull()), 'user_score'] = user_group.loc[user_group['platform']==platform, 'user_score'].median()\n",
    "data.isna().sum()"
   ]
  },
  {
   "cell_type": "markdown",
   "metadata": {},
   "source": [
    "По аналогии с заполнением 'critic_score' заполнили пропуски в столбце 'user_score'.\n",
    "\n",
    "By analogy with filling in 'critic_score', we filled in the gaps in the 'user_score' column."
   ]
  },
  {
   "cell_type": "code",
   "execution_count": 14,
   "metadata": {
    "scrolled": false
   },
   "outputs": [
    {
     "name": "stdout",
     "output_type": "stream",
     "text": [
      "11426\n",
      "Need for Speed: Most Wanted               12\n",
      "LEGO Marvel Super Heroes                   9\n",
      "Ratatouille                                9\n",
      "FIFA 14                                    9\n",
      "Terraria                                   8\n",
      "                                          ..\n",
      "Loving Life with Hello Kitty & Friends     1\n",
      "Scrabble (Others sales)                    1\n",
      "Viva Pinata: Party Animals                 1\n",
      "Sands of Destruction                       1\n",
      "Haitaka no Psychedelica                    1\n",
      "Name: name, Length: 11426, dtype: int64\n"
     ]
    }
   ],
   "source": [
    "print(data['name'].nunique())\n",
    "print(data['name'].value_counts())"
   ]
  },
  {
   "cell_type": "code",
   "execution_count": 15,
   "metadata": {
    "scrolled": false
   },
   "outputs": [
    {
     "name": "stdout",
     "output_type": "stream",
     "text": [
      "<class 'pandas.core.frame.DataFrame'>\n",
      "Int64Index: 16443 entries, 0 to 16714\n",
      "Data columns (total 12 columns):\n",
      " #   Column           Non-Null Count  Dtype  \n",
      "---  ------           --------------  -----  \n",
      " 0   unnamed: 0       16443 non-null  int64  \n",
      " 1   name             16443 non-null  object \n",
      " 2   platform         16443 non-null  object \n",
      " 3   year_of_release  16443 non-null  float64\n",
      " 4   genre            16443 non-null  object \n",
      " 5   na_sales         16443 non-null  float64\n",
      " 6   eu_sales         16443 non-null  float64\n",
      " 7   jp_sales         16443 non-null  float64\n",
      " 8   other_sales      16443 non-null  float64\n",
      " 9   critic_score     15346 non-null  float64\n",
      " 10  user_score       15346 non-null  float64\n",
      " 11  rating           9767 non-null   object \n",
      "dtypes: float64(7), int64(1), object(4)\n",
      "memory usage: 1.6+ MB\n"
     ]
    }
   ],
   "source": [
    "data = data.drop_duplicates(subset = ['name', 'platform', 'year_of_release'])\n",
    "data.info()"
   ]
  },
  {
   "cell_type": "code",
   "execution_count": 16,
   "metadata": {},
   "outputs": [],
   "source": [
    "data['rating'] = data['rating'].fillna('Unknown')"
   ]
  },
  {
   "cell_type": "markdown",
   "metadata": {},
   "source": [
    "Из-за сбоя автоматизированной системы сбора информации образовались пропуски в столбцах 'critic_score', 'user_score', 'rating'; пропуски в столбцах 'name', 'year_of_release', 'genre' образовались из-за человеческого фактора.\n",
    "\n",
    "Due to a failure of the automated information collection system, gaps were formed in the 'critic_score', 'user_score', 'rating' columns; Gaps in the 'name', 'year_of_release', 'genre' columns were due to human error."
   ]
  },
  {
   "cell_type": "markdown",
   "metadata": {},
   "source": [
    "Cуммарные продажи во всех регионах: / Total sales in all regions:"
   ]
  },
  {
   "cell_type": "code",
   "execution_count": 17,
   "metadata": {},
   "outputs": [],
   "source": [
    "data['sum_sales'] = data['na_sales']+data['eu_sales']+data['jp_sales']+data['other_sales']"
   ]
  },
  {
   "cell_type": "markdown",
   "metadata": {},
   "source": [
    "## ШАГ 3 / STEP 3"
   ]
  },
  {
   "cell_type": "code",
   "execution_count": 18,
   "metadata": {
    "scrolled": false
   },
   "outputs": [
    {
     "data": {
      "text/plain": [
       "year_of_release\n",
       "1980.0       9\n",
       "1981.0      46\n",
       "1982.0      36\n",
       "1983.0      17\n",
       "1984.0      14\n",
       "1985.0      14\n",
       "1986.0      21\n",
       "1987.0      16\n",
       "1988.0      15\n",
       "1989.0      17\n",
       "1990.0      16\n",
       "1991.0      41\n",
       "1992.0      43\n",
       "1993.0      60\n",
       "1994.0     121\n",
       "1995.0     219\n",
       "1996.0     263\n",
       "1997.0     289\n",
       "1998.0     379\n",
       "1999.0     338\n",
       "2000.0     350\n",
       "2001.0     482\n",
       "2002.0     829\n",
       "2003.0     775\n",
       "2004.0     762\n",
       "2005.0     939\n",
       "2006.0    1006\n",
       "2007.0    1197\n",
       "2008.0    1427\n",
       "2009.0    1426\n",
       "2010.0    1255\n",
       "2011.0    1136\n",
       "2012.0     652\n",
       "2013.0     544\n",
       "2014.0     581\n",
       "2015.0     606\n",
       "2016.0     502\n",
       "Name: name, dtype: int64"
      ]
     },
     "execution_count": 18,
     "metadata": {},
     "output_type": "execute_result"
    }
   ],
   "source": [
    "data.groupby('year_of_release')['name'].count()"
   ]
  },
  {
   "cell_type": "markdown",
   "metadata": {},
   "source": [
    "Для прогноза на 2017 год не понадобятся данные за весь период, достаточно взять данные за последние 10 лет.\n",
    "\n",
    "To make a forecast for 2017, you will not need data for the entire period; it is enough to take data for the last 10 years."
   ]
  },
  {
   "cell_type": "code",
   "execution_count": 19,
   "metadata": {
    "scrolled": false
   },
   "outputs": [
    {
     "name": "stdout",
     "output_type": "stream",
     "text": [
      "platform\n",
      "PS2     1233.56\n",
      "X360     961.24\n",
      "PS3      931.33\n",
      "Wii      891.18\n",
      "DS       802.78\n",
      "PS       727.58\n",
      "Name: sum_sales, dtype: float64\n"
     ]
    },
    {
     "data": {
      "text/plain": [
       "<AxesSubplot:xlabel='platform', ylabel='year_of_release'>"
      ]
     },
     "execution_count": 19,
     "metadata": {},
     "output_type": "execute_result"
    },
    {
     "data": {
      "image/png": "[encoded data removed]",
      "text/plain": [
       "<Figure size 640x480 with 1 Axes>"
      ]
     },
     "metadata": {},
     "output_type": "display_data"
    }
   ],
   "source": [
    "sort_platf = data.groupby('platform')['sum_sales'].sum().sort_values(ascending = False).head(6)\n",
    "print(sort_platf)\n",
    "new_data = data.query('platform == \"PS2\" | platform == \"X360\" | platform == \"PS3\" | platform == \"Wii\" | platform == \"DS\" | platform == \"PS\"')\n",
    "new_data.plot(x = 'platform',y='year_of_release',kind='scatter')"
   ]
  },
  {
   "cell_type": "markdown",
   "metadata": {},
   "source": [
    "Каждые 10 лет появляются новые и исчезают старые платформы.\n",
    "\n",
    "Every 10 years new platforms appear and old platforms disappear."
   ]
  },
  {
   "cell_type": "code",
   "execution_count": 20,
   "metadata": {},
   "outputs": [],
   "source": [
    "data_period = data.query('year_of_release >= 2012')"
   ]
  },
  {
   "cell_type": "code",
   "execution_count": 21,
   "metadata": {
    "scrolled": false
   },
   "outputs": [
    {
     "name": "stdout",
     "output_type": "stream",
     "text": [
      "platform\n",
      "PS4     314.14\n",
      "PS3     288.78\n",
      "X360    236.54\n",
      "3DS     194.61\n",
      "XOne    159.32\n",
      "Name: sum_sales, dtype: float64\n"
     ]
    },
    {
     "data": {
      "image/png": "[encoded data removed]",
      "text/plain": [
       "<Figure size 1000x1000 with 1 Axes>"
      ]
     },
     "metadata": {},
     "output_type": "display_data"
    },
    {
     "data": {
      "image/png": "[encoded data removed]",
      "text/plain": [
       "<Figure size 1000x1000 with 1 Axes>"
      ]
     },
     "metadata": {},
     "output_type": "display_data"
    },
    {
     "data": {
      "image/png": "[encoded data removed]",
      "text/plain": [
       "<Figure size 1000x1000 with 1 Axes>"
      ]
     },
     "metadata": {},
     "output_type": "display_data"
    },
    {
     "data": {
      "image/png": "[encoded data removed]",
      "text/plain": [
       "<Figure size 1000x1000 with 1 Axes>"
      ]
     },
     "metadata": {},
     "output_type": "display_data"
    },
    {
     "data": {
      "image/png": "[encoded data removed]",
      "text/plain": [
       "<Figure size 1000x1000 with 1 Axes>"
      ]
     },
     "metadata": {},
     "output_type": "display_data"
    },
    {
     "data": {
      "image/png": "[encoded data removed]",
      "text/plain": [
       "<Figure size 1000x1000 with 1 Axes>"
      ]
     },
     "metadata": {},
     "output_type": "display_data"
    },
    {
     "data": {
      "image/png": "[encoded data removed]",
      "text/plain": [
       "<Figure size 1000x1000 with 1 Axes>"
      ]
     },
     "metadata": {},
     "output_type": "display_data"
    },
    {
     "data": {
      "image/png": "[encoded data removed]",
      "text/plain": [
       "<Figure size 1000x1000 with 1 Axes>"
      ]
     },
     "metadata": {},
     "output_type": "display_data"
    },
    {
     "data": {
      "image/png": "[encoded data removed]",
      "text/plain": [
       "<Figure size 1000x1000 with 1 Axes>"
      ]
     },
     "metadata": {},
     "output_type": "display_data"
    },
    {
     "data": {
      "image/png": "[encoded data removed]",
      "text/plain": [
       "<Figure size 1000x1000 with 1 Axes>"
      ]
     },
     "metadata": {},
     "output_type": "display_data"
    },
    {
     "data": {
      "image/png": "[encoded data removed]",
      "text/plain": [
       "<Figure size 1000x1000 with 1 Axes>"
      ]
     },
     "metadata": {},
     "output_type": "display_data"
    }
   ],
   "source": [
    "print(data_period.groupby('platform')['sum_sales'].sum().sort_values(ascending = False).head())\n",
    "for platform in data_period['platform'].unique():\n",
    "    data_graphic = data_period.loc[data_period['platform']==platform]\n",
    "    data_period_pivot = data_graphic.pivot_table(index = 'year_of_release', values = 'sum_sales', aggfunc = 'sum')\n",
    "    data_period_pivot.plot(kind='bar', title = platform, figsize = (10, 10))"
   ]
  },
  {
   "cell_type": "markdown",
   "metadata": {},
   "source": [
    "Платформы PS4, 3DS, PS3, X360, WiiU лидируют по продажам за последние 5 лет.\n",
    "PS4 является потенциально прибыльной платформой.\n",
    "Продажи PS3, X360, Wii, XOne, PSV упали к 2016 году.\n",
    "Последние продажи DS, PSP были в 2013 и 2015 годах соответственно.\n",
    "\n",
    "Platforms PS4, 3DS, PS3, X360, WiiU have been leading in sales over the past 5 years.\n",
    "PS4 is a potentially profitable platform.\n",
    "Sales of PS3, X360, Wii, XOne, PSV fell by 2016.\n",
    "The last sales of DS and PSP were in 2013 and 2015, respectively."
   ]
  },
  {
   "cell_type": "code",
   "execution_count": 22,
   "metadata": {
    "scrolled": false
   },
   "outputs": [
    {
     "data": {
      "text/plain": [
       "<AxesSubplot:xlabel='sum_sales', ylabel='platform'>"
      ]
     },
     "execution_count": 22,
     "metadata": {},
     "output_type": "execute_result"
    },
    {
     "data": {
      "image/png": "[encoded data removed]",
      "text/plain": [
       "<Figure size 640x480 with 1 Axes>"
      ]
     },
     "metadata": {},
     "output_type": "display_data"
    }
   ],
   "source": [
    "seaborn.boxplot(data = data_period, x = 'sum_sales', y = 'platform', fliersize = 8, whis = 1.5)"
   ]
  },
  {
   "cell_type": "code",
   "execution_count": 23,
   "metadata": {},
   "outputs": [
    {
     "data": {
      "text/plain": [
       "<AxesSubplot:xlabel='sum_sales', ylabel='platform'>"
      ]
     },
     "execution_count": 23,
     "metadata": {},
     "output_type": "execute_result"
    },
    {
     "data": {
      "image/png": "[encoded data removed]",
      "text/plain": [
       "<Figure size 640x480 with 1 Axes>"
      ]
     },
     "metadata": {},
     "output_type": "display_data"
    }
   ],
   "source": [
    "plt.xlim(0, 7.5)\n",
    "seaborn.boxplot(data = data_period, x = 'sum_sales', y = 'platform', fliersize = 4, whis = 6)"
   ]
  },
  {
   "cell_type": "code",
   "execution_count": 24,
   "metadata": {},
   "outputs": [
    {
     "data": {
      "text/plain": [
       "<AxesSubplot:xlabel='sum_sales', ylabel='platform'>"
      ]
     },
     "execution_count": 24,
     "metadata": {},
     "output_type": "execute_result"
    },
    {
     "data": {
      "image/png": "[encoded data removed]",
      "text/plain": [
       "<Figure size 640x480 with 1 Axes>"
      ]
     },
     "metadata": {},
     "output_type": "display_data"
    }
   ],
   "source": [
    "plt.xlim(0, 2.5)\n",
    "seaborn.boxplot(data = data_period, x = 'sum_sales', y = 'platform', fliersize = 4, whis = 6)"
   ]
  },
  {
   "cell_type": "markdown",
   "metadata": {},
   "source": [
    "Лидирующие платформы: Wii, X360, XOne, PS4.\n",
    "Платформы с низкими продажами: PSP, PSV, DS.\n",
    "\n",
    "Leading platforms: Wii, X360, XOne, PS4.\n",
    "Platforms with low sales: PSP, PSV, DS."
   ]
  },
  {
   "cell_type": "code",
   "execution_count": 25,
   "metadata": {
    "scrolled": false
   },
   "outputs": [
    {
     "data": {
      "text/plain": [
       "'Корреляция между оценками критиков и глобальными продажами'"
      ]
     },
     "metadata": {},
     "output_type": "display_data"
    },
    {
     "data": {
      "text/plain": [
       "0.3253457634502258"
      ]
     },
     "metadata": {},
     "output_type": "display_data"
    },
    {
     "data": {
      "image/png": "[encoded data removed]",
      "text/plain": [
       "<Figure size 640x480 with 1 Axes>"
      ]
     },
     "metadata": {},
     "output_type": "display_data"
    }
   ],
   "source": [
    "data_period_new = data_period.query('platform == \"PS4\"')\n",
    "data_period_new.plot(x='critic_score', y='sum_sales', kind='scatter')\n",
    "display('Корреляция между оценками критиков и глобальными продажами',data_period_new['critic_score'].corr(data_period_new['sum_sales']))"
   ]
  },
  {
   "cell_type": "code",
   "execution_count": 26,
   "metadata": {
    "scrolled": false
   },
   "outputs": [
    {
     "data": {
      "text/plain": [
       "'Корреляция между оценками пользователей и глобальными продажами'"
      ]
     },
     "metadata": {},
     "output_type": "display_data"
    },
    {
     "data": {
      "text/plain": [
       "-0.039153543162937135"
      ]
     },
     "metadata": {},
     "output_type": "display_data"
    },
    {
     "data": {
      "image/png": "[encoded data removed]",
      "text/plain": [
       "<Figure size 640x480 with 1 Axes>"
      ]
     },
     "metadata": {},
     "output_type": "display_data"
    }
   ],
   "source": [
    "data_period_new.plot(x='user_score', y='sum_sales', kind='scatter')\n",
    "display('Корреляция между оценками пользователей и глобальными продажами',data_period_new['user_score'].corr(data_period_new['sum_sales']))"
   ]
  },
  {
   "cell_type": "markdown",
   "metadata": {},
   "source": [
    "На примере PS4 можно убедиться, что продажи платформы не зависят от оценок пользователей(корреляция ~ -0.1) и оценки критиков(корреляция ~ 0.3).\n",
    "\n",
    "Using the example of PS4, you can verify that platform sales do not depend on user ratings (correlation ~ -0.1) and critics' ratings (correlation ~ 0.3)."
   ]
  },
  {
   "cell_type": "code",
   "execution_count": 27,
   "metadata": {
    "scrolled": false
   },
   "outputs": [
    {
     "name": "stdout",
     "output_type": "stream",
     "text": [
      "Платформа PC :\n"
     ]
    },
    {
     "data": {
      "text/plain": [
       "'Корреляция между оценками критиков и глобальными продажами '"
      ]
     },
     "metadata": {},
     "output_type": "display_data"
    },
    {
     "data": {
      "text/plain": [
       "0.21501712276536045"
      ]
     },
     "metadata": {},
     "output_type": "display_data"
    },
    {
     "data": {
      "text/plain": [
       "'Корреляция между оценками пользователей и глобальными продажами '"
      ]
     },
     "metadata": {},
     "output_type": "display_data"
    },
    {
     "data": {
      "text/plain": [
       "-0.1463344468236839"
      ]
     },
     "metadata": {},
     "output_type": "display_data"
    },
    {
     "name": "stdout",
     "output_type": "stream",
     "text": [
      "Платформа XOne :\n"
     ]
    },
    {
     "data": {
      "text/plain": [
       "'Корреляция между оценками критиков и глобальными продажами '"
      ]
     },
     "metadata": {},
     "output_type": "display_data"
    },
    {
     "data": {
      "text/plain": [
       "0.3209255677947711"
      ]
     },
     "metadata": {},
     "output_type": "display_data"
    },
    {
     "data": {
      "text/plain": [
       "'Корреляция между оценками пользователей и глобальными продажами '"
      ]
     },
     "metadata": {},
     "output_type": "display_data"
    },
    {
     "data": {
      "text/plain": [
       "-0.07325882509794272"
      ]
     },
     "metadata": {},
     "output_type": "display_data"
    },
    {
     "name": "stdout",
     "output_type": "stream",
     "text": [
      "Платформа WiiU :\n"
     ]
    },
    {
     "data": {
      "text/plain": [
       "'Корреляция между оценками критиков и глобальными продажами '"
      ]
     },
     "metadata": {},
     "output_type": "display_data"
    },
    {
     "data": {
      "text/plain": [
       "0.2838943045756462"
      ]
     },
     "metadata": {},
     "output_type": "display_data"
    },
    {
     "data": {
      "text/plain": [
       "'Корреляция между оценками пользователей и глобальными продажами '"
      ]
     },
     "metadata": {},
     "output_type": "display_data"
    },
    {
     "data": {
      "text/plain": [
       "0.34910403123685074"
      ]
     },
     "metadata": {},
     "output_type": "display_data"
    },
    {
     "data": {
      "image/png": "[encoded data removed]",
      "text/plain": [
       "<Figure size 640x480 with 1 Axes>"
      ]
     },
     "metadata": {},
     "output_type": "display_data"
    },
    {
     "data": {
      "image/png": "[encoded data removed]",
      "text/plain": [
       "<Figure size 640x480 with 1 Axes>"
      ]
     },
     "metadata": {},
     "output_type": "display_data"
    },
    {
     "data": {
      "image/png": "[encoded data removed]",
      "text/plain": [
       "<Figure size 640x480 with 1 Axes>"
      ]
     },
     "metadata": {},
     "output_type": "display_data"
    },
    {
     "data": {
      "image/png": "[encoded data removed]",
      "text/plain": [
       "<Figure size 640x480 with 1 Axes>"
      ]
     },
     "metadata": {},
     "output_type": "display_data"
    },
    {
     "data": {
      "image/png": "[encoded data removed]",
      "text/plain": [
       "<Figure size 640x480 with 1 Axes>"
      ]
     },
     "metadata": {},
     "output_type": "display_data"
    },
    {
     "data": {
      "image/png": "[encoded data removed]",
      "text/plain": [
       "<Figure size 640x480 with 1 Axes>"
      ]
     },
     "metadata": {},
     "output_type": "display_data"
    }
   ],
   "source": [
    "def func_sales(data_period, plat):\n",
    "    data_period_new = data_period.query('platform == @plat')\n",
    "    \n",
    "    data_period_new.plot(x = 'critic_score', y = 'sum_sales', kind = 'scatter', title = plat)\n",
    "    display('Корреляция между оценками критиков и глобальными продажами ', data_period_new['critic_score'].corr(data_period_new['sum_sales']))\n",
    "    \n",
    "    data_period_new.plot(x = 'user_score', y = 'sum_sales', kind = 'scatter', title = plat)\n",
    "    display('Корреляция между оценками пользователей и глобальными продажами ', data_period_new['user_score'].corr(data_period_new['sum_sales']))\n",
    "\n",
    "list_plat = ['PC', 'XOne', 'WiiU']\n",
    "for i in list_plat:\n",
    "    print('Платформа', i, ':')\n",
    "    func_sales(data_period, i)"
   ]
  },
  {
   "cell_type": "markdown",
   "metadata": {},
   "source": [
    "На примере других платформ убедились в слабой связи между продажами и оценками пользователей и критиков.\n",
    "\n",
    "Using the example of other platforms, we were convinced of a weak connection between sales and ratings from users and critics."
   ]
  },
  {
   "cell_type": "code",
   "execution_count": 28,
   "metadata": {},
   "outputs": [
    {
     "data": {
      "text/plain": [
       "<AxesSubplot:xlabel='genre'>"
      ]
     },
     "execution_count": 28,
     "metadata": {},
     "output_type": "execute_result"
    },
    {
     "data": {
      "image/png": "[encoded data removed]",
      "text/plain": [
       "<Figure size 640x480 with 1 Axes>"
      ]
     },
     "metadata": {},
     "output_type": "display_data"
    }
   ],
   "source": [
    "(data_period.groupby('genre')['sum_sales'].sum()/data_period.groupby('genre')['sum_sales'].count()).sort_values(ascending = False).plot(kind = 'bar')"
   ]
  },
  {
   "cell_type": "code",
   "execution_count": 29,
   "metadata": {},
   "outputs": [
    {
     "data": {
      "text/plain": [
       "<AxesSubplot:xlabel='sum_sales', ylabel='genre'>"
      ]
     },
     "execution_count": 29,
     "metadata": {},
     "output_type": "execute_result"
    },
    {
     "data": {
      "image/png": "[encoded data removed]",
      "text/plain": [
       "<Figure size 640x480 with 1 Axes>"
      ]
     },
     "metadata": {},
     "output_type": "display_data"
    }
   ],
   "source": [
    "plt.xlim(0, 16)\n",
    "seaborn.boxplot(data = data_period, x = 'sum_sales', y = 'genre', fliersize = 4, whis = 6)"
   ]
  },
  {
   "cell_type": "code",
   "execution_count": 30,
   "metadata": {},
   "outputs": [
    {
     "data": {
      "text/plain": [
       "<AxesSubplot:xlabel='sum_sales', ylabel='genre'>"
      ]
     },
     "execution_count": 30,
     "metadata": {},
     "output_type": "execute_result"
    },
    {
     "data": {
      "image/png": "[encoded data removed]",
      "text/plain": [
       "<Figure size 640x480 with 1 Axes>"
      ]
     },
     "metadata": {},
     "output_type": "display_data"
    }
   ],
   "source": [
    "plt.xlim(0, 2.5)\n",
    "seaborn.boxplot(data = data_period, x = 'sum_sales', y = 'genre', fliersize = 4, whis = 6)"
   ]
  },
  {
   "cell_type": "markdown",
   "metadata": {},
   "source": [
    "Самыми прибыльными жанрами являются Shooter, Platform, Racing и Sports.\n",
    "Жанры с низкими продажами: Puzzle, Adventure, Strategy.\n",
    "\n",
    "The most profitable genres are Shooter, Platform, Racing and Sports.\n",
    "Genres with low sales: Puzzle, Adventure, Strategy."
   ]
  },
  {
   "cell_type": "markdown",
   "metadata": {},
   "source": [
    "## ШАГ 4 / STEP 4"
   ]
  },
  {
   "cell_type": "code",
   "execution_count": 31,
   "metadata": {
    "scrolled": false
   },
   "outputs": [
    {
     "name": "stdout",
     "output_type": "stream",
     "text": [
      "для региона na_sales :\n",
      "platform\n",
      "X360    0.236983\n",
      "PS4     0.184003\n",
      "PS3     0.174933\n",
      "XOne    0.157571\n",
      "3DS     0.093592\n",
      "Name: na_sales, dtype: float64\n",
      "genre\n",
      "Action          0.300929\n",
      "Shooter         0.244970\n",
      "Sports          0.137960\n",
      "Role-Playing    0.108297\n",
      "Misc            0.064623\n",
      "Name: na_sales, dtype: float64\n",
      "для региона eu_sales :\n",
      "platform\n",
      "PS4     0.278388\n",
      "PS3     0.210829\n",
      "X360    0.147037\n",
      "XOne    0.101794\n",
      "3DS     0.084134\n",
      "Name: eu_sales, dtype: float64\n",
      "genre\n",
      "Action          0.314398\n",
      "Shooter         0.223891\n",
      "Sports          0.136304\n",
      "Role-Playing    0.095756\n",
      "Racing          0.053847\n",
      "Name: eu_sales, dtype: float64\n",
      "для региона jp_sales :\n",
      "platform\n",
      "3DS     0.455862\n",
      "PS3     0.183249\n",
      "PSV     0.109253\n",
      "PS4     0.082875\n",
      "WiiU    0.067556\n",
      "Name: jp_sales, dtype: float64\n",
      "genre\n",
      "Role-Playing    0.339807\n",
      "Action          0.274172\n",
      "Misc            0.066777\n",
      "Simulation      0.054055\n",
      "Fighting        0.049019\n",
      "Name: jp_sales, dtype: float64\n"
     ]
    }
   ],
   "source": [
    "def popular_platforms_genres(data, region, columns):\n",
    "    return (data.groupby(columns)[region].sum()/data[region].sum()).sort_values(ascending = False)\n",
    "    \n",
    "\n",
    "list_regions = ['na_sales','eu_sales','jp_sales']\n",
    "list_column = ['platform','genre']\n",
    "for i in list_regions:\n",
    "    print('для региона', i, ':')\n",
    "    for j in list_column:\n",
    "        sales = popular_platforms_genres(data_period, i, j)\n",
    "        print(sales.head())"
   ]
  },
  {
   "cell_type": "markdown",
   "metadata": {},
   "source": [
    "Доли продажи платформ в Северной Америке и Европе схожи. Доли продажи платформ в Японии отличаются от Северной Америки и Европы. Различие в долях продаж можно объяснить различиями в культуре и менталитете разных стран и континентов. \n",
    "Сильных отличий в доле продаж по жанрам не наблюдается.\n",
    "\n",
    "Platform sales shares in North America and Europe are similar. Platform sales shares in Japan differ from North America and Europe. The difference in sales shares can be explained by differences in the culture and mentality of different countries and continents.\n",
    "There are no significant differences in the share of sales by genre."
   ]
  },
  {
   "cell_type": "code",
   "execution_count": 32,
   "metadata": {
    "scrolled": false
   },
   "outputs": [
    {
     "data": {
      "text/plain": [
       "<AxesSubplot:title={'center':'na_sales'}, xlabel='rating'>"
      ]
     },
     "execution_count": 32,
     "metadata": {},
     "output_type": "execute_result"
    },
    {
     "data": {
      "image/png": "[encoded data removed]",
      "text/plain": [
       "<Figure size 640x480 with 1 Axes>"
      ]
     },
     "metadata": {},
     "output_type": "display_data"
    }
   ],
   "source": [
    "data_period.groupby('rating')['na_sales'].sum().plot(kind = 'bar', title = 'na_sales')"
   ]
  },
  {
   "cell_type": "code",
   "execution_count": 33,
   "metadata": {},
   "outputs": [
    {
     "data": {
      "text/plain": [
       "<AxesSubplot:title={'center':'eu_sales'}, xlabel='rating'>"
      ]
     },
     "execution_count": 33,
     "metadata": {},
     "output_type": "execute_result"
    },
    {
     "data": {
      "image/png": "[encoded data removed]",
      "text/plain": [
       "<Figure size 640x480 with 1 Axes>"
      ]
     },
     "metadata": {},
     "output_type": "display_data"
    }
   ],
   "source": [
    "data_period.groupby('rating')['eu_sales'].sum().plot(kind = 'bar', title = 'eu_sales')"
   ]
  },
  {
   "cell_type": "code",
   "execution_count": 34,
   "metadata": {
    "scrolled": false
   },
   "outputs": [
    {
     "data": {
      "text/plain": [
       "<AxesSubplot:title={'center':'jp_sales'}, xlabel='rating'>"
      ]
     },
     "execution_count": 34,
     "metadata": {},
     "output_type": "execute_result"
    },
    {
     "data": {
      "image/png": "[encoded data removed]",
      "text/plain": [
       "<Figure size 640x480 with 1 Axes>"
      ]
     },
     "metadata": {},
     "output_type": "display_data"
    }
   ],
   "source": [
    "data_period.groupby('rating')['jp_sales'].sum().plot(kind = 'bar', title = 'jp_sales')"
   ]
  },
  {
   "cell_type": "markdown",
   "metadata": {},
   "source": [
    "По построенным выше диаграммам можно сделать вывод о том, что рейтинг ESRB влияет на продажи в отдельном регионе. В Японии игры без рейтинга покупают чаще игр с рейтингами. А в Северной Америке и Европе чаще всего покупают игры с рейтингом M.\n",
    "\n",
    "Based on the charts above, we can conclude that the ESRB rating affects sales in certain regions. Games without ratings are more often bought in Japan than games with ratings. And in North America and Europe, games with an M rating are more often purchased."
   ]
  },
  {
   "cell_type": "markdown",
   "metadata": {},
   "source": [
    "## ШАГ 5 / STEP 5"
   ]
  },
  {
   "cell_type": "markdown",
   "metadata": {},
   "source": [
    "Проверка гипотезы: Средние пользовательские рейтинги платформ Xbox One и PC одинаковые\n",
    "\n",
    "H_0: Средний пользовательский рейтинг(user_score) платформы Xbox One = среднему пользовательскому рейтингу платформы PC \n",
    "\n",
    "H_1: Средний пользовательский рейтинг(user_score) платформы Xbox One ≠ среднему пользовательскому рейтингу платформы PC \n",
    "\n",
    "Hypothesis testing: Average user ratings for Xbox One and PC platforms are the same\n",
    "\n",
    "H_0: Average user_score for Xbox One platform = average user score for PC platform\n",
    "\n",
    "H_1: Average user_score of Xbox One platform ≠ average user score of PC platform"
   ]
  },
  {
   "cell_type": "code",
   "execution_count": 35,
   "metadata": {
    "scrolled": false
   },
   "outputs": [
    {
     "name": "stdout",
     "output_type": "stream",
     "text": [
      "0.8570492519273201\n",
      "Не получилось отвергнуть нулевую гипотезу\n"
     ]
    }
   ],
   "source": [
    "data_temp = data_period.query('user_score!=\"tbd\"')\n",
    "data_temp['user_score'] = data_temp['user_score'].astype(float)\n",
    "\n",
    "\n",
    "xbox = data_temp.loc[data_temp['platform'] =='XOne']['user_score']\n",
    "pc = data_temp.loc[data_temp['platform'] =='PC']['user_score']\n",
    "\n",
    "\n",
    "results = st.ttest_ind(xbox, pc, equal_var = False)\n",
    "alpha = 0.05\n",
    "\n",
    "print(results.pvalue)\n",
    "if results.pvalue < alpha:\n",
    "    print(\"Отвергаем нулевую гипотезу\")\n",
    "else:\n",
    "    print(\"Не получилось отвергнуть нулевую гипотезу\") "
   ]
  },
  {
   "cell_type": "markdown",
   "metadata": {},
   "source": [
    "Принимаем гипотезу: Средние пользовательские рейтинги платформ Xbox One и PC различаются.\n",
    "\n",
    "We accept the hypothesis: Average user ratings for the Xbox One and PC platforms are different."
   ]
  },
  {
   "cell_type": "markdown",
   "metadata": {},
   "source": [
    "Проверка гипотезы: Средние пользовательские рейтинги жанров Action и Sports разные.\n",
    "\n",
    "H_0: Средний пользовательский рейтинг(user_score) жанра \"Action\" = среднему пользовательскому рейтингу жанра \"Sports\"\n",
    "\n",
    "H_1: Средний пользовательский рейтинг(user_score) жанра \"Action\" ≠ среднему пользовательскому рейтингу жанра \"Sports\"\n",
    "\n",
    "Hypothesis testing: Average user ratings for the Action and Sports genres are different.\n",
    "\n",
    "H_0: Average user score (user_score) for the \"Action\" genre = average user score for the \"Sports\" genre\n",
    "\n",
    "H_1: Average user score (user_score) of the \"Action\" genre ≠ average user score of the \"Sports\" genre"
   ]
  },
  {
   "cell_type": "code",
   "execution_count": 36,
   "metadata": {
    "scrolled": true
   },
   "outputs": [
    {
     "name": "stdout",
     "output_type": "stream",
     "text": [
      "5.390717684343475e-21\n",
      "Отвергаем нулевую гипотезу\n"
     ]
    }
   ],
   "source": [
    "data_temp1 = data_period.query('user_score!=\"tbd\"')\n",
    "data_temp1['user_score'] = data_temp1['user_score'].astype(float)\n",
    "\n",
    "action = data_temp.loc[data_temp['genre'] =='Action']['user_score']\n",
    "sports = data_temp.loc[data_temp['genre'] =='Sports']['user_score']\n",
    "\n",
    "\n",
    "results = st.ttest_ind(action, sports, equal_var = False)\n",
    "alpha = 0.05\n",
    "\n",
    "print(results.pvalue)\n",
    "if results.pvalue < alpha:\n",
    "    print(\"Отвергаем нулевую гипотезу\")\n",
    "else:\n",
    "    print(\"Не получилось отвергнуть нулевую гипотезу\") "
   ]
  },
  {
   "cell_type": "markdown",
   "metadata": {},
   "source": [
    "Принимаем гипотезу: Средние пользовательские рейтинги жанров Action и Sports разные.\n",
    "\n",
    "We accept the hypothesis: Average user ratings for the Action and Sports genres are different."
   ]
  },
  {
   "cell_type": "markdown",
   "metadata": {},
   "source": [
    "Нулевая гипотеза говорит о равенстве признаков, по которым сравниваем(user_score)\n",
    "Альтернативная гипотеза противоположна, отрицает нулевую.\n",
    "Для проверки гипотез применили гипотезу о равенстве средних двух генеральных совокупностей, т к требовалось сравнить средние значения двух независимых совокупностей.\n",
    "\n",
    "The null hypothesis indicates the equality of the characteristics by which we compare (user_score)\n",
    "The alternative hypothesis is the opposite and denies the null hypothesis.\n",
    "To test the hypotheses, we applied the hypothesis of the equality of the means of two general populations, since it was necessary to compare the average values ​​of two independent populations."
   ]
  },
  {
   "cell_type": "markdown",
   "metadata": {},
   "source": [
    "## ШАГ 6 / STEP 6"
   ]
  },
  {
   "cell_type": "markdown",
   "metadata": {},
   "source": [
    "В ходе исследования определили, что:\n",
    "- PS4 является потенциально прибыльной платформой;\n",
    "- Платформы PS4, 3DS, PS3, X360, WiiU лидируют по продажам за последние 5 лет;\n",
    "- Продажи PS3, X360, Wii, XOne, PSV упали к 2016 году.\n",
    "\n",
    "Также были приняты гипотезы: cредние пользовательские рейтинги жанров Action и Sports разные. Средние пользовательские рейтинги платформ Xbox One и PC также различаются.\n",
    "\n",
    "На примере нескольких платформ убедились в слабой связи между продажами и оценками пользователей и критиков.\n",
    "\n",
    "Определили самые прибыльные жанры: Shooter, Platform, Racing и Sports.\n",
    "А также жанры с низкими продажами: Puzzle, Adventure, Strategy.\n",
    "\n",
    "Сделали вывод о том, что рейтинг ESRB влияет на продажи в отдельном регионе. В Японии игры без рейтинга покупают чаще игр с рейтингами. А в Северной Америке и Европе чаще всего покупают игры с рейтингом M.\n",
    "\n",
    "Сильных отличий в доле продаж по жанрам на разных континентах не наблюдается.\n",
    "\n",
    "Доли продажи платформ в Северной Америке и Европе схожи. Доли продажи платформ в Японии отличаются от Северной Америки и Европы. Различие в долях продаж можно объяснить различиями в культуре и менталитете разных стран. \n",
    "\n",
    "\n",
    "The study determined that:\n",
    "- PS4 is a potentially profitable platform;\n",
    "- Platforms PS4, 3DS, PS3, X360, WiiU are leading in sales over the past 5 years;\n",
    "- Sales of PS3, X360, Wii, XOne, PSV fell by 2016.\n",
    "\n",
    "Hypotheses were accepted: the average user ratings for the Action and Sports genres are different. Average user ratings for the Xbox One and PC platforms also differ.\n",
    "\n",
    "Using the example of several platforms, we were convinced of a weak connection between sales and ratings from users and critics.\n",
    "\n",
    "The most profitable genres have been identified: Shooter, Platform, Racing and Sports.\n",
    "And also genres with low sales: Puzzle, Adventure, Strategy.\n",
    "\n",
    "We concluded that the ESRB rating affects sales in a particular region. In Japan, unrated games are purchased more often than rated games. And in North America and Europe, games with an M rating are most often purchased.\n",
    "\n",
    "There are no significant differences in the share of sales by genre on different continents.\n",
    "\n",
    "Platform sales shares in North America and Europe are similar. Platform sales shares in Japan differ from North America and Europe. The difference in sales shares can be explained by differences in the culture and mentality of different countries."
   ]
  }
 ],
 "metadata": {
  "ExecuteTimeLog": [
   {
    "duration": 566,
    "start_time": "2022-11-28T13:32:59.591Z"
   },
   {
    "duration": 72,
    "start_time": "2022-11-28T13:34:21.332Z"
   },
   {
    "duration": 18,
    "start_time": "2022-11-28T13:34:51.699Z"
   },
   {
    "duration": 1354,
    "start_time": "2022-11-28T13:36:11.739Z"
   },
   {
    "duration": 70,
    "start_time": "2022-11-28T13:36:47.296Z"
   },
   {
    "duration": 18,
    "start_time": "2022-11-28T13:36:47.368Z"
   },
   {
    "duration": 3,
    "start_time": "2022-11-28T13:36:47.388Z"
   },
   {
    "duration": 10,
    "start_time": "2022-11-28T13:36:51.338Z"
   },
   {
    "duration": 6,
    "start_time": "2022-11-28T13:37:35.774Z"
   },
   {
    "duration": 8,
    "start_time": "2022-11-28T13:42:59.142Z"
   },
   {
    "duration": 47,
    "start_time": "2022-11-28T13:44:11.212Z"
   },
   {
    "duration": 15,
    "start_time": "2022-11-28T13:44:19.253Z"
   },
   {
    "duration": 9,
    "start_time": "2022-11-28T13:44:57.820Z"
   },
   {
    "duration": 73,
    "start_time": "2022-11-28T13:45:01.688Z"
   },
   {
    "duration": 79,
    "start_time": "2022-11-28T13:45:39.622Z"
   },
   {
    "duration": 3,
    "start_time": "2022-11-28T13:46:26.242Z"
   },
   {
    "duration": 104,
    "start_time": "2022-11-28T13:50:47.827Z"
   },
   {
    "duration": 113,
    "start_time": "2022-11-28T13:51:13.058Z"
   },
   {
    "duration": 9,
    "start_time": "2022-11-28T13:57:04.823Z"
   },
   {
    "duration": 8,
    "start_time": "2022-11-28T14:01:29.158Z"
   },
   {
    "duration": 23,
    "start_time": "2022-11-28T14:01:35.206Z"
   },
   {
    "duration": 23,
    "start_time": "2022-11-28T14:06:16.889Z"
   },
   {
    "duration": 15,
    "start_time": "2022-11-28T14:09:11.275Z"
   },
   {
    "duration": 3,
    "start_time": "2022-11-28T14:09:15.428Z"
   },
   {
    "duration": 10,
    "start_time": "2022-11-28T14:12:22.758Z"
   },
   {
    "duration": 11,
    "start_time": "2022-11-28T15:18:55.003Z"
   },
   {
    "duration": 3,
    "start_time": "2022-11-28T15:19:23.519Z"
   },
   {
    "duration": 16,
    "start_time": "2022-11-28T15:26:32.166Z"
   },
   {
    "duration": 67,
    "start_time": "2022-11-28T15:27:17.692Z"
   },
   {
    "duration": 15,
    "start_time": "2022-11-28T15:27:17.762Z"
   },
   {
    "duration": 36,
    "start_time": "2022-11-28T15:27:17.780Z"
   },
   {
    "duration": 3,
    "start_time": "2022-11-28T15:27:17.818Z"
   },
   {
    "duration": 8,
    "start_time": "2022-11-28T15:27:17.824Z"
   },
   {
    "duration": 30,
    "start_time": "2022-11-28T15:27:17.834Z"
   },
   {
    "duration": 13,
    "start_time": "2022-11-28T15:27:17.866Z"
   },
   {
    "duration": 13,
    "start_time": "2022-11-28T15:27:17.880Z"
   },
   {
    "duration": 4,
    "start_time": "2022-11-28T15:27:17.894Z"
   },
   {
    "duration": 10,
    "start_time": "2022-11-28T15:27:17.900Z"
   },
   {
    "duration": 15,
    "start_time": "2022-11-28T15:27:20.254Z"
   },
   {
    "duration": 24,
    "start_time": "2022-11-28T15:29:28.950Z"
   },
   {
    "duration": 11,
    "start_time": "2022-11-28T15:29:44.637Z"
   },
   {
    "duration": 62,
    "start_time": "2022-11-28T15:31:29.457Z"
   },
   {
    "duration": 12,
    "start_time": "2022-11-28T15:31:29.521Z"
   },
   {
    "duration": 20,
    "start_time": "2022-11-28T15:31:29.535Z"
   },
   {
    "duration": 4,
    "start_time": "2022-11-28T15:31:29.556Z"
   },
   {
    "duration": 8,
    "start_time": "2022-11-28T15:31:29.562Z"
   },
   {
    "duration": 20,
    "start_time": "2022-11-28T15:31:29.572Z"
   },
   {
    "duration": 5,
    "start_time": "2022-11-28T15:31:29.593Z"
   },
   {
    "duration": 12,
    "start_time": "2022-11-28T15:31:29.600Z"
   },
   {
    "duration": 3,
    "start_time": "2022-11-28T15:31:29.614Z"
   },
   {
    "duration": 8,
    "start_time": "2022-11-28T15:31:29.618Z"
   },
   {
    "duration": 29,
    "start_time": "2022-11-28T15:31:29.627Z"
   },
   {
    "duration": 8,
    "start_time": "2022-11-28T15:31:29.657Z"
   },
   {
    "duration": 29,
    "start_time": "2022-11-28T15:31:52.946Z"
   },
   {
    "duration": 5,
    "start_time": "2022-11-28T15:31:56.446Z"
   },
   {
    "duration": 5,
    "start_time": "2022-11-28T15:32:00.795Z"
   },
   {
    "duration": 4,
    "start_time": "2022-11-28T15:32:22.303Z"
   },
   {
    "duration": 5,
    "start_time": "2022-11-28T15:32:26.549Z"
   },
   {
    "duration": 12,
    "start_time": "2022-11-28T15:32:52.933Z"
   },
   {
    "duration": 66,
    "start_time": "2022-11-28T15:33:23.559Z"
   },
   {
    "duration": 15,
    "start_time": "2022-11-28T15:33:23.628Z"
   },
   {
    "duration": 6,
    "start_time": "2022-11-28T15:33:23.645Z"
   },
   {
    "duration": 7,
    "start_time": "2022-11-28T15:33:23.653Z"
   },
   {
    "duration": 6,
    "start_time": "2022-11-28T15:33:23.662Z"
   },
   {
    "duration": 61,
    "start_time": "2022-11-28T15:33:30.160Z"
   },
   {
    "duration": 15,
    "start_time": "2022-11-28T15:33:30.223Z"
   },
   {
    "duration": 6,
    "start_time": "2022-11-28T15:33:30.240Z"
   },
   {
    "duration": 17,
    "start_time": "2022-11-28T15:33:30.247Z"
   },
   {
    "duration": 11,
    "start_time": "2022-11-28T15:33:30.266Z"
   },
   {
    "duration": 21,
    "start_time": "2022-11-28T15:33:30.279Z"
   },
   {
    "duration": 8,
    "start_time": "2022-11-28T15:33:45.484Z"
   },
   {
    "duration": 5,
    "start_time": "2022-11-28T15:33:48.113Z"
   },
   {
    "duration": 7,
    "start_time": "2022-11-28T15:33:50.071Z"
   },
   {
    "duration": 6,
    "start_time": "2022-11-28T15:34:14.819Z"
   },
   {
    "duration": 17,
    "start_time": "2022-11-28T15:34:16.699Z"
   },
   {
    "duration": 12,
    "start_time": "2022-11-28T15:34:27.202Z"
   },
   {
    "duration": 7,
    "start_time": "2022-11-28T15:34:32.904Z"
   },
   {
    "duration": 9,
    "start_time": "2022-11-28T15:37:04.286Z"
   },
   {
    "duration": 9,
    "start_time": "2022-11-28T15:37:36.072Z"
   },
   {
    "duration": 551,
    "start_time": "2022-11-30T14:15:10.311Z"
   },
   {
    "duration": 14,
    "start_time": "2022-11-30T14:15:10.864Z"
   },
   {
    "duration": 4,
    "start_time": "2022-11-30T14:15:10.879Z"
   },
   {
    "duration": 6,
    "start_time": "2022-11-30T14:15:10.884Z"
   },
   {
    "duration": 5,
    "start_time": "2022-11-30T14:15:10.892Z"
   },
   {
    "duration": 14,
    "start_time": "2022-11-30T14:15:10.898Z"
   },
   {
    "duration": 4,
    "start_time": "2022-11-30T14:15:10.914Z"
   },
   {
    "duration": 11,
    "start_time": "2022-11-30T14:15:10.920Z"
   },
   {
    "duration": 2,
    "start_time": "2022-11-30T14:15:10.952Z"
   },
   {
    "duration": 10,
    "start_time": "2022-11-30T14:15:10.956Z"
   },
   {
    "duration": 16,
    "start_time": "2022-11-30T14:15:10.967Z"
   },
   {
    "duration": 11,
    "start_time": "2022-11-30T14:15:10.984Z"
   },
   {
    "duration": 8,
    "start_time": "2022-11-30T14:15:10.997Z"
   },
   {
    "duration": 60,
    "start_time": "2022-11-30T14:15:39.615Z"
   },
   {
    "duration": 12,
    "start_time": "2022-11-30T14:15:39.677Z"
   },
   {
    "duration": 3,
    "start_time": "2022-11-30T14:15:39.691Z"
   },
   {
    "duration": 6,
    "start_time": "2022-11-30T14:15:39.696Z"
   },
   {
    "duration": 6,
    "start_time": "2022-11-30T14:15:39.704Z"
   },
   {
    "duration": 11,
    "start_time": "2022-11-30T14:15:39.712Z"
   },
   {
    "duration": 5,
    "start_time": "2022-11-30T14:15:39.725Z"
   },
   {
    "duration": 24,
    "start_time": "2022-11-30T14:15:39.732Z"
   },
   {
    "duration": 2,
    "start_time": "2022-11-30T14:15:39.758Z"
   },
   {
    "duration": 7,
    "start_time": "2022-11-30T14:15:39.761Z"
   },
   {
    "duration": 17,
    "start_time": "2022-11-30T14:15:39.769Z"
   },
   {
    "duration": 16,
    "start_time": "2022-11-30T14:15:39.788Z"
   },
   {
    "duration": 17,
    "start_time": "2022-11-30T14:15:39.806Z"
   },
   {
    "duration": 1330,
    "start_time": "2022-11-30T14:16:01.538Z"
   },
   {
    "duration": 1160,
    "start_time": "2022-11-30T14:16:42.273Z"
   },
   {
    "duration": 15,
    "start_time": "2022-11-30T14:17:01.739Z"
   },
   {
    "duration": 11,
    "start_time": "2022-11-30T14:17:35.236Z"
   },
   {
    "duration": 2,
    "start_time": "2022-11-30T14:17:48.840Z"
   },
   {
    "duration": 1204,
    "start_time": "2022-11-30T14:22:47.056Z"
   },
   {
    "duration": 9,
    "start_time": "2022-11-30T14:23:08.652Z"
   },
   {
    "duration": 8,
    "start_time": "2022-11-30T14:29:02.289Z"
   },
   {
    "duration": 138,
    "start_time": "2022-11-30T14:35:50.372Z"
   },
   {
    "duration": 3,
    "start_time": "2022-11-30T14:36:28.902Z"
   },
   {
    "duration": 10,
    "start_time": "2022-11-30T14:36:45.137Z"
   },
   {
    "duration": 10,
    "start_time": "2022-11-30T14:36:57.589Z"
   },
   {
    "duration": 2,
    "start_time": "2022-11-30T14:37:19.073Z"
   },
   {
    "duration": 13,
    "start_time": "2022-11-30T14:48:18.924Z"
   },
   {
    "duration": 11,
    "start_time": "2022-11-30T14:48:27.938Z"
   },
   {
    "duration": 13,
    "start_time": "2022-11-30T14:48:57.889Z"
   },
   {
    "duration": 141,
    "start_time": "2022-11-30T14:50:00.990Z"
   },
   {
    "duration": 11,
    "start_time": "2022-11-30T14:50:08.858Z"
   },
   {
    "duration": 16,
    "start_time": "2022-11-30T14:50:52.536Z"
   },
   {
    "duration": 117,
    "start_time": "2022-11-30T14:52:12.350Z"
   },
   {
    "duration": 12,
    "start_time": "2022-11-30T14:52:22.893Z"
   },
   {
    "duration": 138,
    "start_time": "2022-11-30T14:53:05.388Z"
   },
   {
    "duration": 130,
    "start_time": "2022-11-30T14:53:15.872Z"
   },
   {
    "duration": 11,
    "start_time": "2022-11-30T14:53:44.155Z"
   },
   {
    "duration": 12,
    "start_time": "2022-11-30T14:54:30.276Z"
   },
   {
    "duration": 11,
    "start_time": "2022-11-30T14:54:37.194Z"
   },
   {
    "duration": 5,
    "start_time": "2022-11-30T14:57:46.775Z"
   },
   {
    "duration": 8,
    "start_time": "2022-11-30T14:58:18.522Z"
   },
   {
    "duration": 11,
    "start_time": "2022-11-30T14:58:34.156Z"
   },
   {
    "duration": 15,
    "start_time": "2022-11-30T14:59:33.090Z"
   },
   {
    "duration": 11,
    "start_time": "2022-11-30T15:00:02.272Z"
   },
   {
    "duration": 7,
    "start_time": "2022-11-30T15:01:45.157Z"
   },
   {
    "duration": 9,
    "start_time": "2022-11-30T15:01:59.283Z"
   },
   {
    "duration": 10,
    "start_time": "2022-11-30T15:02:20.707Z"
   },
   {
    "duration": 11,
    "start_time": "2022-11-30T15:02:22.176Z"
   },
   {
    "duration": 10,
    "start_time": "2022-11-30T15:02:25.840Z"
   },
   {
    "duration": 9,
    "start_time": "2022-11-30T15:02:29.408Z"
   },
   {
    "duration": 12,
    "start_time": "2022-11-30T15:02:45.088Z"
   },
   {
    "duration": 12,
    "start_time": "2022-11-30T15:03:31.255Z"
   },
   {
    "duration": 7,
    "start_time": "2022-11-30T15:04:32.540Z"
   },
   {
    "duration": 8,
    "start_time": "2022-11-30T15:04:36.655Z"
   },
   {
    "duration": 19,
    "start_time": "2022-11-30T15:05:02.491Z"
   },
   {
    "duration": 7,
    "start_time": "2022-11-30T15:05:22.205Z"
   },
   {
    "duration": 4,
    "start_time": "2022-11-30T15:08:22.618Z"
   },
   {
    "duration": 11,
    "start_time": "2022-11-30T15:08:46.874Z"
   },
   {
    "duration": 5,
    "start_time": "2022-11-30T15:10:45.473Z"
   },
   {
    "duration": 5,
    "start_time": "2022-11-30T15:10:58.094Z"
   },
   {
    "duration": 12,
    "start_time": "2022-11-30T15:11:00.293Z"
   },
   {
    "duration": 10,
    "start_time": "2022-11-30T15:11:58.875Z"
   },
   {
    "duration": 8,
    "start_time": "2022-11-30T15:12:11.259Z"
   },
   {
    "duration": 12,
    "start_time": "2022-11-30T15:13:06.892Z"
   },
   {
    "duration": 24,
    "start_time": "2022-11-30T15:15:09.975Z"
   },
   {
    "duration": 5,
    "start_time": "2022-11-30T15:15:44.816Z"
   },
   {
    "duration": 27,
    "start_time": "2022-11-30T15:16:15.089Z"
   },
   {
    "duration": 2,
    "start_time": "2022-11-30T15:16:51.724Z"
   },
   {
    "duration": 19,
    "start_time": "2022-11-30T15:17:03.594Z"
   },
   {
    "duration": 15,
    "start_time": "2022-11-30T15:17:29.808Z"
   },
   {
    "duration": 16,
    "start_time": "2022-11-30T15:18:04.478Z"
   },
   {
    "duration": 15,
    "start_time": "2022-11-30T15:18:11.341Z"
   },
   {
    "duration": 13,
    "start_time": "2022-11-30T15:26:42.059Z"
   },
   {
    "duration": 16,
    "start_time": "2022-11-30T15:26:44.223Z"
   },
   {
    "duration": 60,
    "start_time": "2022-11-30T15:26:51.729Z"
   },
   {
    "duration": 12,
    "start_time": "2022-11-30T15:26:51.792Z"
   },
   {
    "duration": 5,
    "start_time": "2022-11-30T15:26:51.806Z"
   },
   {
    "duration": 5,
    "start_time": "2022-11-30T15:26:51.812Z"
   },
   {
    "duration": 4,
    "start_time": "2022-11-30T15:26:51.820Z"
   },
   {
    "duration": 30,
    "start_time": "2022-11-30T15:26:51.826Z"
   },
   {
    "duration": 5,
    "start_time": "2022-11-30T15:26:51.858Z"
   },
   {
    "duration": 7,
    "start_time": "2022-11-30T15:26:51.864Z"
   },
   {
    "duration": 11,
    "start_time": "2022-11-30T15:26:51.873Z"
   },
   {
    "duration": 14,
    "start_time": "2022-11-30T15:26:51.886Z"
   },
   {
    "duration": 0,
    "start_time": "2022-11-30T15:26:51.902Z"
   },
   {
    "duration": 0,
    "start_time": "2022-11-30T15:26:51.903Z"
   },
   {
    "duration": 0,
    "start_time": "2022-11-30T15:26:51.905Z"
   },
   {
    "duration": 0,
    "start_time": "2022-11-30T15:26:51.907Z"
   },
   {
    "duration": 16,
    "start_time": "2022-11-30T15:27:24.774Z"
   },
   {
    "duration": 23,
    "start_time": "2022-11-30T15:27:30.024Z"
   },
   {
    "duration": 16,
    "start_time": "2022-11-30T15:27:41.293Z"
   },
   {
    "duration": 285,
    "start_time": "2022-11-30T15:28:23.655Z"
   },
   {
    "duration": 15,
    "start_time": "2022-11-30T15:28:38.576Z"
   },
   {
    "duration": 16,
    "start_time": "2022-11-30T15:29:29.109Z"
   },
   {
    "duration": 24,
    "start_time": "2022-11-30T15:29:35.043Z"
   },
   {
    "duration": 12,
    "start_time": "2022-11-30T15:31:33.478Z"
   },
   {
    "duration": 11,
    "start_time": "2022-11-30T15:37:30.660Z"
   },
   {
    "duration": 10,
    "start_time": "2022-11-30T15:38:10.659Z"
   },
   {
    "duration": 106,
    "start_time": "2022-11-30T15:38:31.830Z"
   },
   {
    "duration": 5,
    "start_time": "2022-11-30T15:38:37.639Z"
   },
   {
    "duration": 11,
    "start_time": "2022-11-30T15:39:09.295Z"
   },
   {
    "duration": 82,
    "start_time": "2022-11-30T15:40:16.523Z"
   },
   {
    "duration": 13,
    "start_time": "2022-11-30T15:40:16.607Z"
   },
   {
    "duration": 3,
    "start_time": "2022-11-30T15:40:16.621Z"
   },
   {
    "duration": 4,
    "start_time": "2022-11-30T15:40:16.626Z"
   },
   {
    "duration": 4,
    "start_time": "2022-11-30T15:40:16.631Z"
   },
   {
    "duration": 13,
    "start_time": "2022-11-30T15:40:16.636Z"
   },
   {
    "duration": 4,
    "start_time": "2022-11-30T15:40:16.651Z"
   },
   {
    "duration": 6,
    "start_time": "2022-11-30T15:40:16.657Z"
   },
   {
    "duration": 11,
    "start_time": "2022-11-30T15:40:16.664Z"
   },
   {
    "duration": 10,
    "start_time": "2022-11-30T15:40:16.676Z"
   },
   {
    "duration": 0,
    "start_time": "2022-11-30T15:40:16.687Z"
   },
   {
    "duration": 0,
    "start_time": "2022-11-30T15:40:16.689Z"
   },
   {
    "duration": 0,
    "start_time": "2022-11-30T15:40:16.690Z"
   },
   {
    "duration": 0,
    "start_time": "2022-11-30T15:40:16.691Z"
   },
   {
    "duration": 10,
    "start_time": "2022-11-30T15:41:24.310Z"
   },
   {
    "duration": 10,
    "start_time": "2022-11-30T15:41:28.156Z"
   },
   {
    "duration": 9,
    "start_time": "2022-11-30T15:41:42.592Z"
   },
   {
    "duration": 5,
    "start_time": "2022-11-30T15:42:47.394Z"
   },
   {
    "duration": 5,
    "start_time": "2022-11-30T15:42:51.406Z"
   },
   {
    "duration": 4,
    "start_time": "2022-11-30T15:42:58.323Z"
   },
   {
    "duration": 65,
    "start_time": "2022-11-30T15:43:02.299Z"
   },
   {
    "duration": 12,
    "start_time": "2022-11-30T15:43:02.365Z"
   },
   {
    "duration": 4,
    "start_time": "2022-11-30T15:43:02.380Z"
   },
   {
    "duration": 14,
    "start_time": "2022-11-30T15:43:02.386Z"
   },
   {
    "duration": 8,
    "start_time": "2022-11-30T15:43:02.403Z"
   },
   {
    "duration": 17,
    "start_time": "2022-11-30T15:43:02.413Z"
   },
   {
    "duration": 24,
    "start_time": "2022-11-30T15:43:02.432Z"
   },
   {
    "duration": 17,
    "start_time": "2022-11-30T15:43:02.458Z"
   },
   {
    "duration": 10,
    "start_time": "2022-11-30T15:43:02.477Z"
   },
   {
    "duration": 21,
    "start_time": "2022-11-30T15:43:02.488Z"
   },
   {
    "duration": 0,
    "start_time": "2022-11-30T15:43:02.512Z"
   },
   {
    "duration": 0,
    "start_time": "2022-11-30T15:43:02.513Z"
   },
   {
    "duration": 0,
    "start_time": "2022-11-30T15:43:02.515Z"
   },
   {
    "duration": 0,
    "start_time": "2022-11-30T15:43:02.516Z"
   },
   {
    "duration": 4,
    "start_time": "2022-11-30T15:43:07.657Z"
   },
   {
    "duration": 4,
    "start_time": "2022-11-30T15:43:10.609Z"
   },
   {
    "duration": 4,
    "start_time": "2022-11-30T15:43:29.186Z"
   },
   {
    "duration": 5,
    "start_time": "2022-11-30T15:43:33.439Z"
   },
   {
    "duration": 7,
    "start_time": "2022-11-30T15:44:53.742Z"
   },
   {
    "duration": 4,
    "start_time": "2022-11-30T15:44:56.807Z"
   },
   {
    "duration": 5,
    "start_time": "2022-11-30T15:45:04.853Z"
   },
   {
    "duration": 4,
    "start_time": "2022-11-30T15:45:24.740Z"
   },
   {
    "duration": 4,
    "start_time": "2022-11-30T15:45:28.304Z"
   },
   {
    "duration": 11,
    "start_time": "2022-11-30T15:45:38.973Z"
   },
   {
    "duration": 8,
    "start_time": "2022-11-30T15:46:02.023Z"
   },
   {
    "duration": 7,
    "start_time": "2022-11-30T15:46:11.855Z"
   },
   {
    "duration": 12,
    "start_time": "2022-11-30T15:46:57.158Z"
   },
   {
    "duration": 11,
    "start_time": "2022-11-30T15:47:32.692Z"
   },
   {
    "duration": 2,
    "start_time": "2022-11-30T15:48:03.278Z"
   },
   {
    "duration": 62,
    "start_time": "2022-11-30T15:48:07.801Z"
   },
   {
    "duration": 13,
    "start_time": "2022-11-30T15:48:07.865Z"
   },
   {
    "duration": 4,
    "start_time": "2022-11-30T15:48:07.880Z"
   },
   {
    "duration": 5,
    "start_time": "2022-11-30T15:48:07.885Z"
   },
   {
    "duration": 6,
    "start_time": "2022-11-30T15:48:07.893Z"
   },
   {
    "duration": 11,
    "start_time": "2022-11-30T15:48:07.901Z"
   },
   {
    "duration": 5,
    "start_time": "2022-11-30T15:48:07.915Z"
   },
   {
    "duration": 36,
    "start_time": "2022-11-30T15:48:07.922Z"
   },
   {
    "duration": 12,
    "start_time": "2022-11-30T15:48:07.960Z"
   },
   {
    "duration": 7,
    "start_time": "2022-11-30T15:48:07.973Z"
   },
   {
    "duration": 8,
    "start_time": "2022-11-30T15:48:07.982Z"
   },
   {
    "duration": 20,
    "start_time": "2022-11-30T15:48:07.991Z"
   },
   {
    "duration": 11,
    "start_time": "2022-11-30T15:48:08.012Z"
   },
   {
    "duration": 11,
    "start_time": "2022-11-30T15:48:08.054Z"
   },
   {
    "duration": 12,
    "start_time": "2022-11-30T15:48:48.535Z"
   },
   {
    "duration": 8,
    "start_time": "2022-11-30T15:49:02.473Z"
   },
   {
    "duration": 12,
    "start_time": "2022-11-30T15:49:15.200Z"
   },
   {
    "duration": 1210,
    "start_time": "2022-11-30T15:49:35.307Z"
   },
   {
    "duration": 6,
    "start_time": "2022-11-30T15:50:52.867Z"
   },
   {
    "duration": 122,
    "start_time": "2022-11-30T15:53:55.366Z"
   },
   {
    "duration": 12,
    "start_time": "2022-11-30T15:54:57.263Z"
   },
   {
    "duration": 10,
    "start_time": "2022-11-30T15:55:49.875Z"
   },
   {
    "duration": 10,
    "start_time": "2022-11-30T15:56:09.161Z"
   },
   {
    "duration": 8,
    "start_time": "2022-11-30T15:56:18.835Z"
   },
   {
    "duration": 9,
    "start_time": "2022-11-30T15:56:41.658Z"
   },
   {
    "duration": 7,
    "start_time": "2022-11-30T15:56:53.677Z"
   },
   {
    "duration": 7,
    "start_time": "2022-11-30T15:58:05.747Z"
   },
   {
    "duration": 7,
    "start_time": "2022-11-30T15:58:18.525Z"
   },
   {
    "duration": 7,
    "start_time": "2022-11-30T15:58:20.697Z"
   },
   {
    "duration": 60,
    "start_time": "2022-11-30T15:58:27.766Z"
   },
   {
    "duration": 13,
    "start_time": "2022-11-30T15:58:27.828Z"
   },
   {
    "duration": 6,
    "start_time": "2022-11-30T15:58:27.843Z"
   },
   {
    "duration": 5,
    "start_time": "2022-11-30T15:58:27.851Z"
   },
   {
    "duration": 6,
    "start_time": "2022-11-30T15:58:27.858Z"
   },
   {
    "duration": 12,
    "start_time": "2022-11-30T15:58:27.866Z"
   },
   {
    "duration": 6,
    "start_time": "2022-11-30T15:58:27.879Z"
   },
   {
    "duration": 8,
    "start_time": "2022-11-30T15:58:27.886Z"
   },
   {
    "duration": 11,
    "start_time": "2022-11-30T15:58:27.896Z"
   },
   {
    "duration": 0,
    "start_time": "2022-11-30T15:58:27.909Z"
   },
   {
    "duration": 0,
    "start_time": "2022-11-30T15:58:27.910Z"
   },
   {
    "duration": 0,
    "start_time": "2022-11-30T15:58:27.911Z"
   },
   {
    "duration": 0,
    "start_time": "2022-11-30T15:58:27.912Z"
   },
   {
    "duration": 0,
    "start_time": "2022-11-30T15:58:27.913Z"
   },
   {
    "duration": 7,
    "start_time": "2022-11-30T15:58:50.612Z"
   },
   {
    "duration": 7,
    "start_time": "2022-11-30T15:59:01.726Z"
   },
   {
    "duration": 7,
    "start_time": "2022-11-30T15:59:03.958Z"
   },
   {
    "duration": 62,
    "start_time": "2022-11-30T15:59:07.549Z"
   },
   {
    "duration": 12,
    "start_time": "2022-11-30T15:59:07.612Z"
   },
   {
    "duration": 3,
    "start_time": "2022-11-30T15:59:07.626Z"
   },
   {
    "duration": 6,
    "start_time": "2022-11-30T15:59:07.630Z"
   },
   {
    "duration": 4,
    "start_time": "2022-11-30T15:59:07.639Z"
   },
   {
    "duration": 11,
    "start_time": "2022-11-30T15:59:07.645Z"
   },
   {
    "duration": 5,
    "start_time": "2022-11-30T15:59:07.657Z"
   },
   {
    "duration": 12,
    "start_time": "2022-11-30T15:59:07.664Z"
   },
   {
    "duration": 1118,
    "start_time": "2022-11-30T15:59:07.678Z"
   },
   {
    "duration": 0,
    "start_time": "2022-11-30T15:59:08.797Z"
   },
   {
    "duration": 0,
    "start_time": "2022-11-30T15:59:08.799Z"
   },
   {
    "duration": 0,
    "start_time": "2022-11-30T15:59:08.800Z"
   },
   {
    "duration": 0,
    "start_time": "2022-11-30T15:59:08.800Z"
   },
   {
    "duration": 0,
    "start_time": "2022-11-30T15:59:08.801Z"
   },
   {
    "duration": 73,
    "start_time": "2022-11-30T15:59:35.198Z"
   },
   {
    "duration": 7,
    "start_time": "2022-11-30T15:59:55.607Z"
   },
   {
    "duration": 61,
    "start_time": "2022-11-30T16:00:07.967Z"
   },
   {
    "duration": 12,
    "start_time": "2022-11-30T16:00:08.031Z"
   },
   {
    "duration": 7,
    "start_time": "2022-11-30T16:00:08.045Z"
   },
   {
    "duration": 4,
    "start_time": "2022-11-30T16:00:08.054Z"
   },
   {
    "duration": 6,
    "start_time": "2022-11-30T16:00:08.060Z"
   },
   {
    "duration": 13,
    "start_time": "2022-11-30T16:00:08.068Z"
   },
   {
    "duration": 12,
    "start_time": "2022-11-30T16:00:08.083Z"
   },
   {
    "duration": 8,
    "start_time": "2022-11-30T16:00:08.097Z"
   },
   {
    "duration": 11,
    "start_time": "2022-11-30T16:00:08.107Z"
   },
   {
    "duration": 2,
    "start_time": "2022-11-30T16:00:08.120Z"
   },
   {
    "duration": 6,
    "start_time": "2022-11-30T16:00:08.123Z"
   },
   {
    "duration": 34,
    "start_time": "2022-11-30T16:00:08.131Z"
   },
   {
    "duration": 12,
    "start_time": "2022-11-30T16:00:08.167Z"
   },
   {
    "duration": 6,
    "start_time": "2022-11-30T16:00:08.181Z"
   },
   {
    "duration": 11,
    "start_time": "2022-11-30T16:00:24.895Z"
   },
   {
    "duration": 9,
    "start_time": "2022-11-30T16:01:05.071Z"
   },
   {
    "duration": 8,
    "start_time": "2022-11-30T16:01:21.959Z"
   },
   {
    "duration": 8,
    "start_time": "2022-11-30T16:01:49.893Z"
   },
   {
    "duration": 7,
    "start_time": "2022-11-30T16:01:58.875Z"
   },
   {
    "duration": 6,
    "start_time": "2022-11-30T16:02:03.261Z"
   },
   {
    "duration": 58,
    "start_time": "2022-11-30T16:02:07.447Z"
   },
   {
    "duration": 13,
    "start_time": "2022-11-30T16:02:07.507Z"
   },
   {
    "duration": 4,
    "start_time": "2022-11-30T16:02:07.521Z"
   },
   {
    "duration": 7,
    "start_time": "2022-11-30T16:02:07.526Z"
   },
   {
    "duration": 6,
    "start_time": "2022-11-30T16:02:07.535Z"
   },
   {
    "duration": 12,
    "start_time": "2022-11-30T16:02:07.543Z"
   },
   {
    "duration": 7,
    "start_time": "2022-11-30T16:02:07.557Z"
   },
   {
    "duration": 9,
    "start_time": "2022-11-30T16:02:07.565Z"
   },
   {
    "duration": 11,
    "start_time": "2022-11-30T16:02:07.576Z"
   },
   {
    "duration": 10,
    "start_time": "2022-11-30T16:02:07.588Z"
   },
   {
    "duration": 9,
    "start_time": "2022-11-30T16:02:07.599Z"
   },
   {
    "duration": 17,
    "start_time": "2022-11-30T16:02:07.609Z"
   },
   {
    "duration": 25,
    "start_time": "2022-11-30T16:02:07.628Z"
   },
   {
    "duration": 9,
    "start_time": "2022-11-30T16:02:07.655Z"
   },
   {
    "duration": 9,
    "start_time": "2022-11-30T16:02:59.376Z"
   },
   {
    "duration": 8,
    "start_time": "2022-11-30T16:03:07.824Z"
   },
   {
    "duration": 58,
    "start_time": "2022-11-30T16:03:11.898Z"
   },
   {
    "duration": 12,
    "start_time": "2022-11-30T16:03:11.958Z"
   },
   {
    "duration": 3,
    "start_time": "2022-11-30T16:03:11.972Z"
   },
   {
    "duration": 16,
    "start_time": "2022-11-30T16:03:11.977Z"
   },
   {
    "duration": 11,
    "start_time": "2022-11-30T16:03:11.995Z"
   },
   {
    "duration": 15,
    "start_time": "2022-11-30T16:03:12.008Z"
   },
   {
    "duration": 13,
    "start_time": "2022-11-30T16:03:12.025Z"
   },
   {
    "duration": 18,
    "start_time": "2022-11-30T16:03:12.039Z"
   },
   {
    "duration": 10,
    "start_time": "2022-11-30T16:03:12.058Z"
   },
   {
    "duration": 0,
    "start_time": "2022-11-30T16:03:12.069Z"
   },
   {
    "duration": 0,
    "start_time": "2022-11-30T16:03:12.070Z"
   },
   {
    "duration": 0,
    "start_time": "2022-11-30T16:03:12.071Z"
   },
   {
    "duration": 0,
    "start_time": "2022-11-30T16:03:12.072Z"
   },
   {
    "duration": 0,
    "start_time": "2022-11-30T16:03:12.073Z"
   },
   {
    "duration": 8,
    "start_time": "2022-11-30T16:03:45.423Z"
   },
   {
    "duration": 6,
    "start_time": "2022-11-30T16:03:51.491Z"
   },
   {
    "duration": 7,
    "start_time": "2022-11-30T16:03:53.308Z"
   },
   {
    "duration": 11,
    "start_time": "2022-11-30T16:04:12.708Z"
   },
   {
    "duration": 8,
    "start_time": "2022-11-30T16:05:24.888Z"
   },
   {
    "duration": 11,
    "start_time": "2022-11-30T16:08:17.076Z"
   },
   {
    "duration": 8,
    "start_time": "2022-11-30T16:08:29.359Z"
   },
   {
    "duration": 98,
    "start_time": "2022-11-30T16:10:18.309Z"
   },
   {
    "duration": 12,
    "start_time": "2022-11-30T16:10:53.992Z"
   },
   {
    "duration": 7,
    "start_time": "2022-11-30T16:10:59.925Z"
   },
   {
    "duration": 8,
    "start_time": "2022-11-30T16:11:04.994Z"
   },
   {
    "duration": 8,
    "start_time": "2022-11-30T16:12:16.577Z"
   },
   {
    "duration": 6,
    "start_time": "2022-11-30T16:12:26.855Z"
   },
   {
    "duration": 9,
    "start_time": "2022-11-30T16:12:36.129Z"
   },
   {
    "duration": 6,
    "start_time": "2022-11-30T16:12:44.330Z"
   },
   {
    "duration": 6,
    "start_time": "2022-11-30T16:12:58.894Z"
   },
   {
    "duration": 8,
    "start_time": "2022-11-30T16:13:22.974Z"
   },
   {
    "duration": 118,
    "start_time": "2022-11-30T16:15:42.330Z"
   },
   {
    "duration": 71,
    "start_time": "2022-11-30T16:18:18.522Z"
   },
   {
    "duration": 77,
    "start_time": "2022-11-30T16:18:43.664Z"
   },
   {
    "duration": 9,
    "start_time": "2022-11-30T16:30:06.474Z"
   },
   {
    "duration": 2,
    "start_time": "2022-11-30T16:30:50.769Z"
   },
   {
    "duration": 88,
    "start_time": "2022-11-30T16:34:47.214Z"
   },
   {
    "duration": 14,
    "start_time": "2022-11-30T16:34:52.014Z"
   },
   {
    "duration": 64,
    "start_time": "2022-11-30T16:34:56.236Z"
   },
   {
    "duration": 12,
    "start_time": "2022-11-30T16:34:56.302Z"
   },
   {
    "duration": 13,
    "start_time": "2022-11-30T16:34:56.315Z"
   },
   {
    "duration": 17,
    "start_time": "2022-11-30T16:34:56.330Z"
   },
   {
    "duration": 6,
    "start_time": "2022-11-30T16:34:56.350Z"
   },
   {
    "duration": 12,
    "start_time": "2022-11-30T16:34:56.358Z"
   },
   {
    "duration": 8,
    "start_time": "2022-11-30T16:34:56.371Z"
   },
   {
    "duration": 11,
    "start_time": "2022-11-30T16:34:56.380Z"
   },
   {
    "duration": 3,
    "start_time": "2022-11-30T16:36:56.613Z"
   },
   {
    "duration": 7,
    "start_time": "2022-11-30T16:36:56.618Z"
   },
   {
    "duration": 7,
    "start_time": "2022-11-30T16:36:56.627Z"
   },
   {
    "duration": 28,
    "start_time": "2022-11-30T16:36:56.636Z"
   },
   {
    "duration": 12,
    "start_time": "2022-11-30T16:36:56.667Z"
   },
   {
    "duration": 7,
    "start_time": "2022-11-30T16:36:56.682Z"
   },
   {
    "duration": 0,
    "start_time": "2022-11-30T16:38:56.392Z"
   },
   {
    "duration": 0,
    "start_time": "2022-11-30T16:38:56.406Z"
   },
   {
    "duration": 1107,
    "start_time": "2022-11-30T16:43:10.115Z"
   },
   {
    "duration": 60,
    "start_time": "2022-11-30T16:43:29.936Z"
   },
   {
    "duration": 14,
    "start_time": "2022-11-30T16:43:29.998Z"
   },
   {
    "duration": 6,
    "start_time": "2022-11-30T16:43:30.014Z"
   },
   {
    "duration": 12,
    "start_time": "2022-11-30T16:43:30.021Z"
   },
   {
    "duration": 12,
    "start_time": "2022-11-30T16:43:30.035Z"
   },
   {
    "duration": 14,
    "start_time": "2022-11-30T16:43:30.049Z"
   },
   {
    "duration": 8,
    "start_time": "2022-11-30T16:43:30.064Z"
   },
   {
    "duration": 113,
    "start_time": "2022-11-30T16:43:33.479Z"
   },
   {
    "duration": 8,
    "start_time": "2022-11-30T16:44:42.811Z"
   },
   {
    "duration": 9,
    "start_time": "2022-11-30T16:44:55.533Z"
   },
   {
    "duration": 72,
    "start_time": "2022-11-30T16:45:04.732Z"
   },
   {
    "duration": 11,
    "start_time": "2022-11-30T16:45:12.578Z"
   },
   {
    "duration": 6,
    "start_time": "2022-11-30T16:45:36.102Z"
   },
   {
    "duration": 6,
    "start_time": "2022-11-30T16:45:38.078Z"
   },
   {
    "duration": 10,
    "start_time": "2022-11-30T16:45:46.698Z"
   },
   {
    "duration": 11,
    "start_time": "2022-11-30T16:47:29.855Z"
   },
   {
    "duration": 81,
    "start_time": "2022-11-30T16:52:19.998Z"
   },
   {
    "duration": 11,
    "start_time": "2022-11-30T16:52:32.878Z"
   },
   {
    "duration": 12,
    "start_time": "2022-11-30T16:52:41.447Z"
   },
   {
    "duration": 12,
    "start_time": "2022-11-30T16:53:46.534Z"
   },
   {
    "duration": 7,
    "start_time": "2022-11-30T16:54:07.478Z"
   },
   {
    "duration": 8,
    "start_time": "2022-11-30T16:54:16.532Z"
   },
   {
    "duration": 9,
    "start_time": "2022-11-30T16:54:40.734Z"
   },
   {
    "duration": 7,
    "start_time": "2022-11-30T16:56:03.448Z"
   },
   {
    "duration": 52,
    "start_time": "2022-11-30T16:56:44.291Z"
   },
   {
    "duration": 58,
    "start_time": "2022-11-30T16:57:05.662Z"
   },
   {
    "duration": 11,
    "start_time": "2022-11-30T17:01:30.564Z"
   },
   {
    "duration": 5,
    "start_time": "2022-11-30T17:01:42.399Z"
   },
   {
    "duration": 8,
    "start_time": "2022-11-30T17:02:00.429Z"
   },
   {
    "duration": 5,
    "start_time": "2022-11-30T17:03:09.892Z"
   },
   {
    "duration": 7,
    "start_time": "2022-11-30T17:03:45.013Z"
   },
   {
    "duration": 16,
    "start_time": "2022-11-30T17:03:56.262Z"
   },
   {
    "duration": 8,
    "start_time": "2022-11-30T17:04:14.136Z"
   },
   {
    "duration": 16,
    "start_time": "2022-11-30T17:04:27.054Z"
   },
   {
    "duration": 11,
    "start_time": "2022-11-30T17:05:03.663Z"
   },
   {
    "duration": 8,
    "start_time": "2022-11-30T17:05:13.499Z"
   },
   {
    "duration": 9,
    "start_time": "2022-11-30T17:14:00.111Z"
   },
   {
    "duration": 5,
    "start_time": "2022-11-30T17:14:35.813Z"
   },
   {
    "duration": 19,
    "start_time": "2022-11-30T17:20:22.398Z"
   },
   {
    "duration": 18,
    "start_time": "2022-11-30T17:20:42.445Z"
   },
   {
    "duration": 21,
    "start_time": "2022-11-30T17:20:49.306Z"
   },
   {
    "duration": 14,
    "start_time": "2022-11-30T17:27:19.875Z"
   },
   {
    "duration": 10,
    "start_time": "2022-11-30T17:27:34.882Z"
   },
   {
    "duration": 14,
    "start_time": "2022-11-30T17:27:58.746Z"
   },
   {
    "duration": 14,
    "start_time": "2022-11-30T17:29:04.876Z"
   },
   {
    "duration": 573,
    "start_time": "2022-11-30T17:41:24.615Z"
   },
   {
    "duration": 11,
    "start_time": "2022-11-30T17:41:38.614Z"
   },
   {
    "duration": 9,
    "start_time": "2022-11-30T17:42:10.811Z"
   },
   {
    "duration": 14,
    "start_time": "2022-11-30T17:42:32.614Z"
   },
   {
    "duration": 11,
    "start_time": "2022-11-30T17:42:52.347Z"
   },
   {
    "duration": 13,
    "start_time": "2022-11-30T17:47:15.199Z"
   },
   {
    "duration": 20,
    "start_time": "2022-11-30T17:48:43.399Z"
   },
   {
    "duration": 35,
    "start_time": "2022-11-30T17:59:49.255Z"
   },
   {
    "duration": 31,
    "start_time": "2022-11-30T18:02:29.570Z"
   },
   {
    "duration": 9,
    "start_time": "2022-11-30T18:04:18.850Z"
   },
   {
    "duration": 19,
    "start_time": "2022-11-30T18:04:28.980Z"
   },
   {
    "duration": 9,
    "start_time": "2022-11-30T18:11:43.722Z"
   },
   {
    "duration": 9,
    "start_time": "2022-11-30T18:11:54.353Z"
   },
   {
    "duration": 20,
    "start_time": "2022-11-30T18:14:02.991Z"
   },
   {
    "duration": 26,
    "start_time": "2022-11-30T18:15:51.987Z"
   },
   {
    "duration": 631,
    "start_time": "2022-12-01T07:29:03.840Z"
   },
   {
    "duration": 12,
    "start_time": "2022-12-01T07:29:04.473Z"
   },
   {
    "duration": 4,
    "start_time": "2022-12-01T07:29:04.486Z"
   },
   {
    "duration": 6,
    "start_time": "2022-12-01T07:29:04.491Z"
   },
   {
    "duration": 6,
    "start_time": "2022-12-01T07:29:04.499Z"
   },
   {
    "duration": 10,
    "start_time": "2022-12-01T07:29:04.507Z"
   },
   {
    "duration": 5,
    "start_time": "2022-12-01T07:29:04.518Z"
   },
   {
    "duration": 7,
    "start_time": "2022-12-01T07:29:04.524Z"
   },
   {
    "duration": 90,
    "start_time": "2022-12-01T07:29:04.532Z"
   },
   {
    "duration": 14,
    "start_time": "2022-12-01T07:29:04.623Z"
   },
   {
    "duration": 5,
    "start_time": "2022-12-01T07:29:04.638Z"
   },
   {
    "duration": 33,
    "start_time": "2022-12-01T07:29:04.645Z"
   },
   {
    "duration": 7,
    "start_time": "2022-12-01T07:29:04.680Z"
   },
   {
    "duration": 20,
    "start_time": "2022-12-01T07:29:04.689Z"
   },
   {
    "duration": 14,
    "start_time": "2022-12-01T07:30:37.696Z"
   },
   {
    "duration": 14,
    "start_time": "2022-12-01T07:30:47.981Z"
   },
   {
    "duration": 8,
    "start_time": "2022-12-01T07:31:12.080Z"
   },
   {
    "duration": 7,
    "start_time": "2022-12-01T07:32:39.883Z"
   },
   {
    "duration": 58,
    "start_time": "2022-12-01T07:32:45.484Z"
   },
   {
    "duration": 4,
    "start_time": "2022-12-01T07:33:47.481Z"
   },
   {
    "duration": 3597,
    "start_time": "2022-12-01T07:35:02.134Z"
   },
   {
    "duration": 1273,
    "start_time": "2022-12-01T07:35:25.231Z"
   },
   {
    "duration": 7,
    "start_time": "2022-12-01T07:35:33.892Z"
   },
   {
    "duration": 6,
    "start_time": "2022-12-01T07:36:35.047Z"
   },
   {
    "duration": 11,
    "start_time": "2022-12-01T07:42:46.648Z"
   },
   {
    "duration": 5,
    "start_time": "2022-12-01T07:42:59.870Z"
   },
   {
    "duration": 9,
    "start_time": "2022-12-01T07:43:35.719Z"
   },
   {
    "duration": 5,
    "start_time": "2022-12-01T07:43:44.230Z"
   },
   {
    "duration": 10,
    "start_time": "2022-12-01T07:44:21.569Z"
   },
   {
    "duration": 15,
    "start_time": "2022-12-01T07:44:32.933Z"
   },
   {
    "duration": 5,
    "start_time": "2022-12-01T07:44:44.347Z"
   },
   {
    "duration": 71,
    "start_time": "2022-12-01T07:47:40.965Z"
   },
   {
    "duration": 72,
    "start_time": "2022-12-01T07:47:59.319Z"
   },
   {
    "duration": 100,
    "start_time": "2022-12-01T07:48:03.925Z"
   },
   {
    "duration": 78,
    "start_time": "2022-12-01T07:48:08.270Z"
   },
   {
    "duration": 7,
    "start_time": "2022-12-01T07:48:18.311Z"
   },
   {
    "duration": 14,
    "start_time": "2022-12-01T07:50:06.584Z"
   },
   {
    "duration": 9,
    "start_time": "2022-12-01T07:53:43.030Z"
   },
   {
    "duration": 12,
    "start_time": "2022-12-01T07:53:52.983Z"
   },
   {
    "duration": 26,
    "start_time": "2022-12-01T08:01:39.248Z"
   },
   {
    "duration": 21,
    "start_time": "2022-12-01T08:04:53.900Z"
   },
   {
    "duration": 23,
    "start_time": "2022-12-01T08:06:44.875Z"
   },
   {
    "duration": 21,
    "start_time": "2022-12-01T08:07:29.343Z"
   },
   {
    "duration": 21,
    "start_time": "2022-12-01T08:08:45.117Z"
   },
   {
    "duration": 24,
    "start_time": "2022-12-01T08:09:15.300Z"
   },
   {
    "duration": 18,
    "start_time": "2022-12-01T08:11:54.312Z"
   },
   {
    "duration": 20,
    "start_time": "2022-12-01T08:12:12.379Z"
   },
   {
    "duration": 17,
    "start_time": "2022-12-01T08:12:25.905Z"
   },
   {
    "duration": 25,
    "start_time": "2022-12-01T08:14:07.642Z"
   },
   {
    "duration": 16,
    "start_time": "2022-12-01T08:14:28.342Z"
   },
   {
    "duration": 26,
    "start_time": "2022-12-01T08:14:44.799Z"
   },
   {
    "duration": 24,
    "start_time": "2022-12-01T08:15:53.478Z"
   },
   {
    "duration": 36,
    "start_time": "2022-12-01T08:17:35.839Z"
   },
   {
    "duration": 37,
    "start_time": "2022-12-01T08:19:37.919Z"
   },
   {
    "duration": 44,
    "start_time": "2022-12-01T08:25:05.238Z"
   },
   {
    "duration": 27,
    "start_time": "2022-12-01T08:27:41.443Z"
   },
   {
    "duration": 27,
    "start_time": "2022-12-01T08:30:58.794Z"
   },
   {
    "duration": 19,
    "start_time": "2022-12-01T08:31:05.817Z"
   },
   {
    "duration": 19,
    "start_time": "2022-12-01T08:33:36.295Z"
   },
   {
    "duration": 20,
    "start_time": "2022-12-01T08:33:57.726Z"
   },
   {
    "duration": 69,
    "start_time": "2022-12-01T08:36:23.320Z"
   },
   {
    "duration": 83,
    "start_time": "2022-12-01T08:36:57.402Z"
   },
   {
    "duration": 35,
    "start_time": "2022-12-01T08:37:50.543Z"
   },
   {
    "duration": 83,
    "start_time": "2022-12-01T08:39:09.666Z"
   },
   {
    "duration": 64,
    "start_time": "2022-12-01T08:39:15.151Z"
   },
   {
    "duration": 16,
    "start_time": "2022-12-01T08:39:15.218Z"
   },
   {
    "duration": 7,
    "start_time": "2022-12-01T08:39:15.235Z"
   },
   {
    "duration": 9,
    "start_time": "2022-12-01T08:39:15.243Z"
   },
   {
    "duration": 5,
    "start_time": "2022-12-01T08:39:15.255Z"
   },
   {
    "duration": 19,
    "start_time": "2022-12-01T08:39:15.261Z"
   },
   {
    "duration": 9,
    "start_time": "2022-12-01T08:39:15.282Z"
   },
   {
    "duration": 7,
    "start_time": "2022-12-01T08:39:15.293Z"
   },
   {
    "duration": 58,
    "start_time": "2022-12-01T08:39:15.301Z"
   },
   {
    "duration": 81,
    "start_time": "2022-12-01T08:39:15.361Z"
   },
   {
    "duration": 4,
    "start_time": "2022-12-01T08:39:15.443Z"
   },
   {
    "duration": 30,
    "start_time": "2022-12-01T08:39:15.449Z"
   },
   {
    "duration": 9,
    "start_time": "2022-12-01T08:39:15.480Z"
   },
   {
    "duration": 25,
    "start_time": "2022-12-01T08:39:15.491Z"
   },
   {
    "duration": 43,
    "start_time": "2022-12-01T08:40:18.777Z"
   },
   {
    "duration": 105,
    "start_time": "2022-12-01T08:40:43.873Z"
   },
   {
    "duration": 63,
    "start_time": "2022-12-01T08:49:27.901Z"
   },
   {
    "duration": 13,
    "start_time": "2022-12-01T08:49:27.966Z"
   },
   {
    "duration": 20,
    "start_time": "2022-12-01T08:49:27.980Z"
   },
   {
    "duration": 7,
    "start_time": "2022-12-01T08:49:28.002Z"
   },
   {
    "duration": 21,
    "start_time": "2022-12-01T08:49:28.011Z"
   },
   {
    "duration": 31,
    "start_time": "2022-12-01T08:49:28.033Z"
   },
   {
    "duration": 24,
    "start_time": "2022-12-01T08:49:28.065Z"
   },
   {
    "duration": 13,
    "start_time": "2022-12-01T08:49:28.090Z"
   },
   {
    "duration": 77,
    "start_time": "2022-12-01T08:49:28.104Z"
   },
   {
    "duration": 72,
    "start_time": "2022-12-01T08:49:28.183Z"
   },
   {
    "duration": 5,
    "start_time": "2022-12-01T08:49:28.257Z"
   },
   {
    "duration": 9,
    "start_time": "2022-12-01T08:49:28.278Z"
   },
   {
    "duration": 8,
    "start_time": "2022-12-01T08:49:28.289Z"
   },
   {
    "duration": 20,
    "start_time": "2022-12-01T08:49:28.299Z"
   },
   {
    "duration": 84,
    "start_time": "2022-12-01T08:49:57.682Z"
   },
   {
    "duration": 4,
    "start_time": "2022-12-01T08:50:55.964Z"
   },
   {
    "duration": 5,
    "start_time": "2022-12-01T09:00:34.210Z"
   },
   {
    "duration": 8,
    "start_time": "2022-12-01T09:01:55.919Z"
   },
   {
    "duration": 7,
    "start_time": "2022-12-01T09:02:04.971Z"
   },
   {
    "duration": 15,
    "start_time": "2022-12-01T09:05:16.650Z"
   },
   {
    "duration": 14,
    "start_time": "2022-12-01T09:06:04.803Z"
   },
   {
    "duration": 20,
    "start_time": "2022-12-01T09:28:02.919Z"
   },
   {
    "duration": 15,
    "start_time": "2022-12-01T09:28:26.068Z"
   },
   {
    "duration": 1300,
    "start_time": "2022-12-01T09:29:44.568Z"
   },
   {
    "duration": 19,
    "start_time": "2022-12-01T09:36:26.818Z"
   },
   {
    "duration": 11,
    "start_time": "2022-12-01T09:37:28.784Z"
   },
   {
    "duration": 63,
    "start_time": "2022-12-01T09:37:40.839Z"
   },
   {
    "duration": 13,
    "start_time": "2022-12-01T09:37:40.903Z"
   },
   {
    "duration": 4,
    "start_time": "2022-12-01T09:37:40.917Z"
   },
   {
    "duration": 5,
    "start_time": "2022-12-01T09:37:40.923Z"
   },
   {
    "duration": 4,
    "start_time": "2022-12-01T09:37:40.930Z"
   },
   {
    "duration": 11,
    "start_time": "2022-12-01T09:37:40.936Z"
   },
   {
    "duration": 5,
    "start_time": "2022-12-01T09:37:40.949Z"
   },
   {
    "duration": 23,
    "start_time": "2022-12-01T09:37:40.956Z"
   },
   {
    "duration": 66,
    "start_time": "2022-12-01T09:37:40.980Z"
   },
   {
    "duration": 85,
    "start_time": "2022-12-01T09:37:41.048Z"
   },
   {
    "duration": 14,
    "start_time": "2022-12-01T09:37:41.135Z"
   },
   {
    "duration": 5,
    "start_time": "2022-12-01T09:37:41.151Z"
   },
   {
    "duration": 28,
    "start_time": "2022-12-01T09:37:41.157Z"
   },
   {
    "duration": 8,
    "start_time": "2022-12-01T09:37:41.188Z"
   },
   {
    "duration": 22,
    "start_time": "2022-12-01T09:37:41.197Z"
   },
   {
    "duration": 13,
    "start_time": "2022-12-01T09:38:06.766Z"
   },
   {
    "duration": 14,
    "start_time": "2022-12-01T09:38:17.498Z"
   },
   {
    "duration": 13,
    "start_time": "2022-12-01T09:43:54.938Z"
   },
   {
    "duration": 15,
    "start_time": "2022-12-01T09:44:24.559Z"
   },
   {
    "duration": 13,
    "start_time": "2022-12-01T09:55:43.003Z"
   },
   {
    "duration": 15,
    "start_time": "2022-12-01T09:56:25.299Z"
   },
   {
    "duration": 15,
    "start_time": "2022-12-01T09:58:44.058Z"
   },
   {
    "duration": 16,
    "start_time": "2022-12-01T10:00:28.181Z"
   },
   {
    "duration": 16,
    "start_time": "2022-12-01T10:02:46.661Z"
   },
   {
    "duration": 10,
    "start_time": "2022-12-01T10:59:45.589Z"
   },
   {
    "duration": 545,
    "start_time": "2022-12-01T11:01:06.828Z"
   },
   {
    "duration": 241,
    "start_time": "2022-12-01T11:01:26.047Z"
   },
   {
    "duration": 1191,
    "start_time": "2022-12-01T11:02:15.268Z"
   },
   {
    "duration": 1253,
    "start_time": "2022-12-01T11:03:12.025Z"
   },
   {
    "duration": 14,
    "start_time": "2022-12-01T11:03:25.528Z"
   },
   {
    "duration": 10,
    "start_time": "2022-12-01T11:03:56.847Z"
   },
   {
    "duration": 249,
    "start_time": "2022-12-01T11:04:40.862Z"
   },
   {
    "duration": 254,
    "start_time": "2022-12-01T11:05:27.979Z"
   },
   {
    "duration": 164,
    "start_time": "2022-12-01T11:08:50.730Z"
   },
   {
    "duration": 247,
    "start_time": "2022-12-01T11:09:02.146Z"
   },
   {
    "duration": 138,
    "start_time": "2022-12-01T11:11:25.796Z"
   },
   {
    "duration": 5,
    "start_time": "2022-12-01T11:18:01.282Z"
   },
   {
    "duration": 14,
    "start_time": "2022-12-01T11:18:11.178Z"
   },
   {
    "duration": 676,
    "start_time": "2022-12-01T16:32:17.144Z"
   },
   {
    "duration": 13,
    "start_time": "2022-12-01T16:32:17.822Z"
   },
   {
    "duration": 4,
    "start_time": "2022-12-01T16:32:17.836Z"
   },
   {
    "duration": 6,
    "start_time": "2022-12-01T16:32:17.841Z"
   },
   {
    "duration": 6,
    "start_time": "2022-12-01T16:32:17.849Z"
   },
   {
    "duration": 21,
    "start_time": "2022-12-01T16:32:17.856Z"
   },
   {
    "duration": 5,
    "start_time": "2022-12-01T16:32:17.879Z"
   },
   {
    "duration": 15,
    "start_time": "2022-12-01T16:32:17.885Z"
   },
   {
    "duration": 58,
    "start_time": "2022-12-01T16:32:17.902Z"
   },
   {
    "duration": 97,
    "start_time": "2022-12-01T16:32:17.962Z"
   },
   {
    "duration": 5,
    "start_time": "2022-12-01T16:32:18.061Z"
   },
   {
    "duration": 12,
    "start_time": "2022-12-01T16:32:18.078Z"
   },
   {
    "duration": 606,
    "start_time": "2022-12-01T16:32:18.092Z"
   },
   {
    "duration": 7,
    "start_time": "2022-12-01T16:32:18.701Z"
   },
   {
    "duration": 16,
    "start_time": "2022-12-01T16:32:18.710Z"
   },
   {
    "duration": 38,
    "start_time": "2022-12-01T16:32:18.727Z"
   },
   {
    "duration": 21,
    "start_time": "2022-12-01T16:32:18.767Z"
   },
   {
    "duration": 44,
    "start_time": "2022-12-01T16:32:18.790Z"
   },
   {
    "duration": 40,
    "start_time": "2022-12-01T16:32:18.835Z"
   },
   {
    "duration": 25,
    "start_time": "2022-12-01T16:32:18.877Z"
   },
   {
    "duration": 43,
    "start_time": "2022-12-01T16:32:18.904Z"
   },
   {
    "duration": 9,
    "start_time": "2022-12-01T16:33:30.608Z"
   },
   {
    "duration": 8,
    "start_time": "2022-12-01T16:37:18.610Z"
   },
   {
    "duration": 8,
    "start_time": "2022-12-01T16:37:28.832Z"
   },
   {
    "duration": 2946,
    "start_time": "2022-12-01T16:40:22.888Z"
   },
   {
    "duration": 2019,
    "start_time": "2022-12-01T16:41:07.240Z"
   },
   {
    "duration": 80,
    "start_time": "2022-12-01T16:42:12.693Z"
   },
   {
    "duration": 4428,
    "start_time": "2022-12-01T16:43:07.357Z"
   },
   {
    "duration": 2454,
    "start_time": "2022-12-01T16:43:27.537Z"
   },
   {
    "duration": 2300,
    "start_time": "2022-12-01T16:43:59.822Z"
   },
   {
    "duration": 116,
    "start_time": "2022-12-01T16:45:40.393Z"
   },
   {
    "duration": 2290,
    "start_time": "2022-12-01T16:45:52.155Z"
   },
   {
    "duration": 2303,
    "start_time": "2022-12-01T16:47:13.123Z"
   },
   {
    "duration": 134,
    "start_time": "2022-12-01T16:47:49.016Z"
   },
   {
    "duration": 131,
    "start_time": "2022-12-01T16:48:11.667Z"
   },
   {
    "duration": 2350,
    "start_time": "2022-12-01T16:48:17.269Z"
   },
   {
    "duration": 2296,
    "start_time": "2022-12-01T16:51:40.224Z"
   },
   {
    "duration": 12,
    "start_time": "2022-12-01T17:08:53.727Z"
   },
   {
    "duration": 111,
    "start_time": "2022-12-01T17:09:07.839Z"
   },
   {
    "duration": 10,
    "start_time": "2022-12-01T17:14:29.537Z"
   },
   {
    "duration": 9,
    "start_time": "2022-12-01T17:15:16.003Z"
   },
   {
    "duration": 8,
    "start_time": "2022-12-01T17:17:10.387Z"
   },
   {
    "duration": 58,
    "start_time": "2022-12-01T17:18:18.111Z"
   },
   {
    "duration": 12,
    "start_time": "2022-12-01T17:18:18.171Z"
   },
   {
    "duration": 4,
    "start_time": "2022-12-01T17:18:18.184Z"
   },
   {
    "duration": 7,
    "start_time": "2022-12-01T17:18:18.190Z"
   },
   {
    "duration": 4,
    "start_time": "2022-12-01T17:18:18.199Z"
   },
   {
    "duration": 11,
    "start_time": "2022-12-01T17:18:18.205Z"
   },
   {
    "duration": 6,
    "start_time": "2022-12-01T17:18:18.217Z"
   },
   {
    "duration": 10,
    "start_time": "2022-12-01T17:18:18.225Z"
   },
   {
    "duration": 82,
    "start_time": "2022-12-01T17:18:18.237Z"
   },
   {
    "duration": 72,
    "start_time": "2022-12-01T17:18:18.320Z"
   },
   {
    "duration": 4,
    "start_time": "2022-12-01T17:18:18.393Z"
   },
   {
    "duration": 11,
    "start_time": "2022-12-01T17:18:18.399Z"
   },
   {
    "duration": 155,
    "start_time": "2022-12-01T17:18:18.412Z"
   },
   {
    "duration": 11,
    "start_time": "2022-12-01T17:18:18.569Z"
   },
   {
    "duration": 7,
    "start_time": "2022-12-01T17:18:18.582Z"
   },
   {
    "duration": 2101,
    "start_time": "2022-12-01T17:18:18.591Z"
   },
   {
    "duration": 2,
    "start_time": "2022-12-01T17:18:36.653Z"
   },
   {
    "duration": 10,
    "start_time": "2022-12-01T17:18:36.657Z"
   },
   {
    "duration": 11,
    "start_time": "2022-12-01T17:18:36.669Z"
   },
   {
    "duration": 27,
    "start_time": "2022-12-01T17:18:36.682Z"
   },
   {
    "duration": 16692,
    "start_time": "2022-12-01T17:19:09.839Z"
   },
   {
    "duration": 15529,
    "start_time": "2022-12-01T17:19:40.436Z"
   },
   {
    "duration": 33,
    "start_time": "2022-12-01T17:20:45.300Z"
   },
   {
    "duration": 14,
    "start_time": "2022-12-01T17:22:43.884Z"
   },
   {
    "duration": 16799,
    "start_time": "2022-12-01T17:22:50.298Z"
   },
   {
    "duration": 12,
    "start_time": "2022-12-01T17:26:25.886Z"
   },
   {
    "duration": 111,
    "start_time": "2022-12-01T17:26:40.769Z"
   },
   {
    "duration": 115,
    "start_time": "2022-12-01T17:27:19.785Z"
   },
   {
    "duration": 167,
    "start_time": "2022-12-01T17:27:47.737Z"
   },
   {
    "duration": 633,
    "start_time": "2022-12-01T17:32:30.603Z"
   },
   {
    "duration": 1550,
    "start_time": "2022-12-01T17:32:57.749Z"
   },
   {
    "duration": 681,
    "start_time": "2022-12-01T17:33:31.019Z"
   },
   {
    "duration": 2341,
    "start_time": "2022-12-01T17:36:57.454Z"
   },
   {
    "duration": 342,
    "start_time": "2022-12-01T17:39:23.936Z"
   },
   {
    "duration": 264,
    "start_time": "2022-12-01T17:40:21.004Z"
   },
   {
    "duration": 17,
    "start_time": "2022-12-01T17:45:01.358Z"
   },
   {
    "duration": 255,
    "start_time": "2022-12-01T17:45:16.036Z"
   },
   {
    "duration": 247,
    "start_time": "2022-12-01T17:47:19.764Z"
   },
   {
    "duration": 2246,
    "start_time": "2022-12-01T17:50:02.488Z"
   },
   {
    "duration": 391,
    "start_time": "2022-12-01T17:53:51.402Z"
   },
   {
    "duration": 132,
    "start_time": "2022-12-01T17:55:42.349Z"
   },
   {
    "duration": 119,
    "start_time": "2022-12-01T17:55:54.374Z"
   },
   {
    "duration": 3,
    "start_time": "2022-12-01T17:55:57.005Z"
   },
   {
    "duration": 468,
    "start_time": "2022-12-01T17:56:07.285Z"
   },
   {
    "duration": 421,
    "start_time": "2022-12-01T17:58:46.869Z"
   },
   {
    "duration": 15,
    "start_time": "2022-12-01T17:59:42.988Z"
   },
   {
    "duration": 437,
    "start_time": "2022-12-01T17:59:58.219Z"
   },
   {
    "duration": 48,
    "start_time": "2022-12-05T08:15:52.079Z"
   },
   {
    "duration": 496,
    "start_time": "2022-12-05T08:15:58.699Z"
   },
   {
    "duration": 13,
    "start_time": "2022-12-05T08:15:59.197Z"
   },
   {
    "duration": 29,
    "start_time": "2022-12-05T08:15:59.211Z"
   },
   {
    "duration": 7,
    "start_time": "2022-12-05T08:15:59.241Z"
   },
   {
    "duration": 21,
    "start_time": "2022-12-05T08:15:59.250Z"
   },
   {
    "duration": 27,
    "start_time": "2022-12-05T08:15:59.273Z"
   },
   {
    "duration": 22,
    "start_time": "2022-12-05T08:15:59.302Z"
   },
   {
    "duration": 33,
    "start_time": "2022-12-05T08:15:59.325Z"
   },
   {
    "duration": 76,
    "start_time": "2022-12-05T08:15:59.360Z"
   },
   {
    "duration": 76,
    "start_time": "2022-12-05T08:15:59.437Z"
   },
   {
    "duration": 5,
    "start_time": "2022-12-05T08:15:59.514Z"
   },
   {
    "duration": 38,
    "start_time": "2022-12-05T08:15:59.520Z"
   },
   {
    "duration": 573,
    "start_time": "2022-12-05T08:15:59.560Z"
   },
   {
    "duration": 6,
    "start_time": "2022-12-05T08:16:00.136Z"
   },
   {
    "duration": 2315,
    "start_time": "2022-12-05T08:16:00.143Z"
   },
   {
    "duration": 402,
    "start_time": "2022-12-05T08:16:02.460Z"
   },
   {
    "duration": 3,
    "start_time": "2022-12-05T08:16:02.863Z"
   },
   {
    "duration": 20,
    "start_time": "2022-12-05T08:16:02.867Z"
   },
   {
    "duration": 14,
    "start_time": "2022-12-05T08:16:02.888Z"
   },
   {
    "duration": 54,
    "start_time": "2022-12-05T08:16:02.904Z"
   },
   {
    "duration": 33,
    "start_time": "2022-12-05T08:16:35.196Z"
   },
   {
    "duration": 30,
    "start_time": "2022-12-05T08:22:00.446Z"
   },
   {
    "duration": 34,
    "start_time": "2022-12-05T08:23:32.357Z"
   },
   {
    "duration": 124,
    "start_time": "2022-12-05T08:23:41.803Z"
   },
   {
    "duration": 113,
    "start_time": "2022-12-05T08:24:16.427Z"
   },
   {
    "duration": 121,
    "start_time": "2022-12-05T08:24:23.263Z"
   },
   {
    "duration": 3,
    "start_time": "2022-12-05T08:24:34.019Z"
   },
   {
    "duration": 27,
    "start_time": "2022-12-05T08:28:13.771Z"
   },
   {
    "duration": 156,
    "start_time": "2022-12-05T08:31:28.532Z"
   },
   {
    "duration": 285,
    "start_time": "2022-12-05T08:31:49.991Z"
   },
   {
    "duration": 263,
    "start_time": "2022-12-05T08:32:14.832Z"
   },
   {
    "duration": 9,
    "start_time": "2022-12-05T08:32:56.794Z"
   },
   {
    "duration": 197,
    "start_time": "2022-12-05T08:33:01.644Z"
   },
   {
    "duration": 157,
    "start_time": "2022-12-05T08:33:34.313Z"
   },
   {
    "duration": 40,
    "start_time": "2022-12-05T08:34:29.362Z"
   },
   {
    "duration": 834,
    "start_time": "2022-12-05T08:34:36.928Z"
   },
   {
    "duration": 31,
    "start_time": "2022-12-05T08:36:27.933Z"
   },
   {
    "duration": 36,
    "start_time": "2022-12-05T08:37:23.870Z"
   },
   {
    "duration": 172,
    "start_time": "2022-12-05T08:38:18.833Z"
   },
   {
    "duration": 1070,
    "start_time": "2022-12-05T08:39:38.963Z"
   },
   {
    "duration": 178,
    "start_time": "2022-12-05T08:40:25.665Z"
   },
   {
    "duration": 972,
    "start_time": "2022-12-05T08:41:18.946Z"
   },
   {
    "duration": 1225,
    "start_time": "2022-12-05T08:43:20.631Z"
   },
   {
    "duration": 67,
    "start_time": "2022-12-05T08:44:25.753Z"
   },
   {
    "duration": 15,
    "start_time": "2022-12-05T08:44:25.822Z"
   },
   {
    "duration": 4,
    "start_time": "2022-12-05T08:44:25.839Z"
   },
   {
    "duration": 6,
    "start_time": "2022-12-05T08:44:25.845Z"
   },
   {
    "duration": 6,
    "start_time": "2022-12-05T08:44:25.855Z"
   },
   {
    "duration": 14,
    "start_time": "2022-12-05T08:44:25.862Z"
   },
   {
    "duration": 6,
    "start_time": "2022-12-05T08:44:25.878Z"
   },
   {
    "duration": 13,
    "start_time": "2022-12-05T08:44:25.886Z"
   },
   {
    "duration": 81,
    "start_time": "2022-12-05T08:44:25.901Z"
   },
   {
    "duration": 78,
    "start_time": "2022-12-05T08:44:25.984Z"
   },
   {
    "duration": 5,
    "start_time": "2022-12-05T08:44:26.063Z"
   },
   {
    "duration": 15,
    "start_time": "2022-12-05T08:44:26.069Z"
   },
   {
    "duration": 173,
    "start_time": "2022-12-05T08:44:26.086Z"
   },
   {
    "duration": 6,
    "start_time": "2022-12-05T08:44:26.262Z"
   },
   {
    "duration": 2339,
    "start_time": "2022-12-05T08:44:26.269Z"
   },
   {
    "duration": 422,
    "start_time": "2022-12-05T08:44:28.609Z"
   },
   {
    "duration": 288,
    "start_time": "2022-12-05T08:44:29.033Z"
   },
   {
    "duration": 0,
    "start_time": "2022-12-05T08:44:29.323Z"
   },
   {
    "duration": 0,
    "start_time": "2022-12-05T08:44:29.324Z"
   },
   {
    "duration": 0,
    "start_time": "2022-12-05T08:44:29.326Z"
   },
   {
    "duration": 0,
    "start_time": "2022-12-05T08:44:29.327Z"
   },
   {
    "duration": 0,
    "start_time": "2022-12-05T08:44:29.328Z"
   },
   {
    "duration": 288,
    "start_time": "2022-12-05T08:46:44.160Z"
   },
   {
    "duration": 289,
    "start_time": "2022-12-05T08:47:42.266Z"
   },
   {
    "duration": 66,
    "start_time": "2022-12-05T08:47:53.520Z"
   },
   {
    "duration": 14,
    "start_time": "2022-12-05T08:47:53.588Z"
   },
   {
    "duration": 8,
    "start_time": "2022-12-05T08:47:53.604Z"
   },
   {
    "duration": 4,
    "start_time": "2022-12-05T08:47:53.614Z"
   },
   {
    "duration": 6,
    "start_time": "2022-12-05T08:47:53.621Z"
   },
   {
    "duration": 27,
    "start_time": "2022-12-05T08:47:53.629Z"
   },
   {
    "duration": 5,
    "start_time": "2022-12-05T08:47:53.657Z"
   },
   {
    "duration": 11,
    "start_time": "2022-12-05T08:47:53.664Z"
   },
   {
    "duration": 100,
    "start_time": "2022-12-05T08:47:53.678Z"
   },
   {
    "duration": 181,
    "start_time": "2022-12-05T08:47:53.780Z"
   },
   {
    "duration": 4,
    "start_time": "2022-12-05T08:47:53.964Z"
   },
   {
    "duration": 11,
    "start_time": "2022-12-05T08:47:53.969Z"
   },
   {
    "duration": 170,
    "start_time": "2022-12-05T08:47:53.982Z"
   },
   {
    "duration": 7,
    "start_time": "2022-12-05T08:47:54.156Z"
   },
   {
    "duration": 2238,
    "start_time": "2022-12-05T08:47:54.164Z"
   },
   {
    "duration": 416,
    "start_time": "2022-12-05T08:47:56.404Z"
   },
   {
    "duration": 1342,
    "start_time": "2022-12-05T08:47:56.821Z"
   },
   {
    "duration": 2,
    "start_time": "2022-12-05T08:47:58.165Z"
   },
   {
    "duration": 6,
    "start_time": "2022-12-05T08:47:58.169Z"
   },
   {
    "duration": 32,
    "start_time": "2022-12-05T08:47:58.176Z"
   },
   {
    "duration": 2,
    "start_time": "2022-12-05T08:47:58.210Z"
   },
   {
    "duration": 13,
    "start_time": "2022-12-05T08:47:58.214Z"
   },
   {
    "duration": 351,
    "start_time": "2022-12-05T08:48:42.411Z"
   },
   {
    "duration": 1248,
    "start_time": "2022-12-05T08:48:56.984Z"
   },
   {
    "duration": 1011,
    "start_time": "2022-12-05T08:51:26.231Z"
   },
   {
    "duration": 141,
    "start_time": "2022-12-05T08:52:18.081Z"
   },
   {
    "duration": 128,
    "start_time": "2022-12-05T08:52:26.579Z"
   },
   {
    "duration": 977,
    "start_time": "2022-12-05T08:53:00.880Z"
   },
   {
    "duration": 3,
    "start_time": "2022-12-05T08:53:18.818Z"
   },
   {
    "duration": 62,
    "start_time": "2022-12-05T08:53:20.881Z"
   },
   {
    "duration": 16,
    "start_time": "2022-12-05T08:53:20.946Z"
   },
   {
    "duration": 4,
    "start_time": "2022-12-05T08:53:20.963Z"
   },
   {
    "duration": 9,
    "start_time": "2022-12-05T08:53:20.969Z"
   },
   {
    "duration": 7,
    "start_time": "2022-12-05T08:53:20.980Z"
   },
   {
    "duration": 18,
    "start_time": "2022-12-05T08:53:20.989Z"
   },
   {
    "duration": 7,
    "start_time": "2022-12-05T08:53:21.009Z"
   },
   {
    "duration": 10,
    "start_time": "2022-12-05T08:53:21.018Z"
   },
   {
    "duration": 85,
    "start_time": "2022-12-05T08:53:21.030Z"
   },
   {
    "duration": 162,
    "start_time": "2022-12-05T08:53:21.116Z"
   },
   {
    "duration": 4,
    "start_time": "2022-12-05T08:53:21.280Z"
   },
   {
    "duration": 15,
    "start_time": "2022-12-05T08:53:21.286Z"
   },
   {
    "duration": 166,
    "start_time": "2022-12-05T08:53:21.303Z"
   },
   {
    "duration": 6,
    "start_time": "2022-12-05T08:53:21.471Z"
   },
   {
    "duration": 2230,
    "start_time": "2022-12-05T08:53:21.478Z"
   },
   {
    "duration": 409,
    "start_time": "2022-12-05T08:53:23.710Z"
   },
   {
    "duration": 1164,
    "start_time": "2022-12-05T08:53:24.121Z"
   },
   {
    "duration": 2,
    "start_time": "2022-12-05T08:53:25.287Z"
   },
   {
    "duration": 6,
    "start_time": "2022-12-05T08:53:25.290Z"
   },
   {
    "duration": 22,
    "start_time": "2022-12-05T08:53:25.298Z"
   },
   {
    "duration": 3,
    "start_time": "2022-12-05T08:53:25.321Z"
   },
   {
    "duration": 15,
    "start_time": "2022-12-05T08:53:25.325Z"
   },
   {
    "duration": 149,
    "start_time": "2022-12-05T08:54:19.333Z"
   },
   {
    "duration": 144,
    "start_time": "2022-12-05T08:54:44.483Z"
   },
   {
    "duration": 135,
    "start_time": "2022-12-05T08:55:16.880Z"
   },
   {
    "duration": 126,
    "start_time": "2022-12-05T08:55:23.243Z"
   },
   {
    "duration": 132,
    "start_time": "2022-12-05T08:55:25.965Z"
   },
   {
    "duration": 127,
    "start_time": "2022-12-05T08:55:32.634Z"
   },
   {
    "duration": 1062,
    "start_time": "2022-12-05T08:56:33.664Z"
   },
   {
    "duration": 1061,
    "start_time": "2022-12-05T08:58:15.364Z"
   },
   {
    "duration": 1499,
    "start_time": "2022-12-05T08:59:34.717Z"
   },
   {
    "duration": 1026,
    "start_time": "2022-12-05T09:00:22.215Z"
   },
   {
    "duration": 125,
    "start_time": "2022-12-05T09:01:41.531Z"
   },
   {
    "duration": 151,
    "start_time": "2022-12-05T09:02:11.044Z"
   },
   {
    "duration": 62,
    "start_time": "2022-12-05T09:02:25.797Z"
   },
   {
    "duration": 13,
    "start_time": "2022-12-05T09:02:25.861Z"
   },
   {
    "duration": 7,
    "start_time": "2022-12-05T09:02:25.876Z"
   },
   {
    "duration": 5,
    "start_time": "2022-12-05T09:02:25.884Z"
   },
   {
    "duration": 12,
    "start_time": "2022-12-05T09:02:25.891Z"
   },
   {
    "duration": 14,
    "start_time": "2022-12-05T09:02:25.905Z"
   },
   {
    "duration": 5,
    "start_time": "2022-12-05T09:02:25.921Z"
   },
   {
    "duration": 9,
    "start_time": "2022-12-05T09:02:25.928Z"
   },
   {
    "duration": 83,
    "start_time": "2022-12-05T09:02:25.939Z"
   },
   {
    "duration": 94,
    "start_time": "2022-12-05T09:02:26.024Z"
   },
   {
    "duration": 5,
    "start_time": "2022-12-05T09:02:26.119Z"
   },
   {
    "duration": 12,
    "start_time": "2022-12-05T09:02:26.126Z"
   },
   {
    "duration": 170,
    "start_time": "2022-12-05T09:02:26.140Z"
   },
   {
    "duration": 6,
    "start_time": "2022-12-05T09:02:26.312Z"
   },
   {
    "duration": 2371,
    "start_time": "2022-12-05T09:02:26.320Z"
   },
   {
    "duration": 414,
    "start_time": "2022-12-05T09:02:28.692Z"
   },
   {
    "duration": 125,
    "start_time": "2022-12-05T09:02:29.107Z"
   },
   {
    "duration": 175,
    "start_time": "2022-12-05T09:02:29.233Z"
   },
   {
    "duration": 0,
    "start_time": "2022-12-05T09:02:29.410Z"
   },
   {
    "duration": 0,
    "start_time": "2022-12-05T09:02:29.411Z"
   },
   {
    "duration": 0,
    "start_time": "2022-12-05T09:02:29.412Z"
   },
   {
    "duration": 0,
    "start_time": "2022-12-05T09:02:29.413Z"
   },
   {
    "duration": 0,
    "start_time": "2022-12-05T09:02:29.414Z"
   },
   {
    "duration": 202,
    "start_time": "2022-12-05T09:03:30.850Z"
   },
   {
    "duration": 117,
    "start_time": "2022-12-05T09:03:48.466Z"
   },
   {
    "duration": 931,
    "start_time": "2022-12-05T09:04:15.449Z"
   },
   {
    "duration": 904,
    "start_time": "2022-12-05T09:06:29.174Z"
   },
   {
    "duration": 164,
    "start_time": "2022-12-05T09:07:37.545Z"
   },
   {
    "duration": 843,
    "start_time": "2022-12-05T09:08:25.116Z"
   },
   {
    "duration": 887,
    "start_time": "2022-12-05T09:09:36.672Z"
   },
   {
    "duration": 11,
    "start_time": "2022-12-05T09:09:41.084Z"
   },
   {
    "duration": 110,
    "start_time": "2022-12-05T09:16:05.379Z"
   },
   {
    "duration": 9,
    "start_time": "2022-12-05T09:16:55.641Z"
   },
   {
    "duration": 1031,
    "start_time": "2022-12-05T09:17:17.529Z"
   },
   {
    "duration": 943,
    "start_time": "2022-12-05T09:17:39.849Z"
   },
   {
    "duration": 150,
    "start_time": "2022-12-05T09:19:01.774Z"
   },
   {
    "duration": 286,
    "start_time": "2022-12-05T09:19:18.011Z"
   },
   {
    "duration": 231,
    "start_time": "2022-12-05T09:19:29.212Z"
   },
   {
    "duration": 1042,
    "start_time": "2022-12-05T09:19:45.829Z"
   },
   {
    "duration": 1042,
    "start_time": "2022-12-05T09:20:00.798Z"
   },
   {
    "duration": 9,
    "start_time": "2022-12-05T09:20:52.182Z"
   },
   {
    "duration": 1064,
    "start_time": "2022-12-05T09:20:59.262Z"
   },
   {
    "duration": 1159,
    "start_time": "2022-12-05T09:21:52.446Z"
   },
   {
    "duration": 904,
    "start_time": "2022-12-05T09:24:50.514Z"
   },
   {
    "duration": 238,
    "start_time": "2022-12-05T09:27:43.395Z"
   },
   {
    "duration": 10,
    "start_time": "2022-12-05T09:31:10.998Z"
   },
   {
    "duration": 194,
    "start_time": "2022-12-05T09:39:46.750Z"
   },
   {
    "duration": 130,
    "start_time": "2022-12-05T09:40:04.145Z"
   },
   {
    "duration": 155,
    "start_time": "2022-12-05T09:40:14.898Z"
   },
   {
    "duration": 231,
    "start_time": "2022-12-05T09:43:33.548Z"
   },
   {
    "duration": 329,
    "start_time": "2022-12-05T09:44:00.767Z"
   },
   {
    "duration": 215,
    "start_time": "2022-12-05T09:45:26.817Z"
   },
   {
    "duration": 10,
    "start_time": "2022-12-05T09:45:43.915Z"
   },
   {
    "duration": 850,
    "start_time": "2022-12-05T09:45:55.868Z"
   },
   {
    "duration": 394,
    "start_time": "2022-12-05T09:46:16.316Z"
   },
   {
    "duration": 264,
    "start_time": "2022-12-05T09:46:29.670Z"
   },
   {
    "duration": 320,
    "start_time": "2022-12-05T09:48:25.916Z"
   },
   {
    "duration": 330,
    "start_time": "2022-12-05T09:48:42.872Z"
   },
   {
    "duration": 202,
    "start_time": "2022-12-05T09:57:55.048Z"
   },
   {
    "duration": 324,
    "start_time": "2022-12-05T09:58:29.580Z"
   },
   {
    "duration": 60,
    "start_time": "2022-12-05T09:58:58.175Z"
   },
   {
    "duration": 13,
    "start_time": "2022-12-05T09:58:58.237Z"
   },
   {
    "duration": 23,
    "start_time": "2022-12-05T09:58:58.252Z"
   },
   {
    "duration": 22,
    "start_time": "2022-12-05T09:58:58.277Z"
   },
   {
    "duration": 15,
    "start_time": "2022-12-05T09:58:58.302Z"
   },
   {
    "duration": 33,
    "start_time": "2022-12-05T09:58:58.320Z"
   },
   {
    "duration": 28,
    "start_time": "2022-12-05T09:58:58.354Z"
   },
   {
    "duration": 25,
    "start_time": "2022-12-05T09:58:58.384Z"
   },
   {
    "duration": 88,
    "start_time": "2022-12-05T09:58:58.410Z"
   },
   {
    "duration": 83,
    "start_time": "2022-12-05T09:58:58.500Z"
   },
   {
    "duration": 2,
    "start_time": "2022-12-05T09:58:58.585Z"
   },
   {
    "duration": 35,
    "start_time": "2022-12-05T09:58:58.589Z"
   },
   {
    "duration": 15,
    "start_time": "2022-12-05T09:58:58.626Z"
   },
   {
    "duration": 18,
    "start_time": "2022-12-05T09:58:58.643Z"
   },
   {
    "duration": 172,
    "start_time": "2022-12-05T09:58:58.664Z"
   },
   {
    "duration": 7,
    "start_time": "2022-12-05T09:58:58.839Z"
   },
   {
    "duration": 2521,
    "start_time": "2022-12-05T09:58:58.859Z"
   },
   {
    "duration": 459,
    "start_time": "2022-12-05T09:59:01.382Z"
   },
   {
    "duration": 146,
    "start_time": "2022-12-05T09:59:01.843Z"
   },
   {
    "duration": 10,
    "start_time": "2022-12-05T09:59:01.991Z"
   },
   {
    "duration": 949,
    "start_time": "2022-12-05T09:59:02.003Z"
   },
   {
    "duration": 15,
    "start_time": "2022-12-05T09:59:02.954Z"
   },
   {
    "duration": 330,
    "start_time": "2022-12-05T09:59:02.974Z"
   },
   {
    "duration": 0,
    "start_time": "2022-12-05T09:59:03.306Z"
   },
   {
    "duration": 0,
    "start_time": "2022-12-05T09:59:03.307Z"
   },
   {
    "duration": 0,
    "start_time": "2022-12-05T09:59:03.307Z"
   },
   {
    "duration": 304,
    "start_time": "2022-12-05T10:01:28.186Z"
   },
   {
    "duration": 162,
    "start_time": "2022-12-05T10:01:44.169Z"
   },
   {
    "duration": 295,
    "start_time": "2022-12-05T10:02:39.813Z"
   },
   {
    "duration": 40,
    "start_time": "2022-12-05T10:03:41.784Z"
   },
   {
    "duration": 359,
    "start_time": "2022-12-05T10:04:03.145Z"
   },
   {
    "duration": 163,
    "start_time": "2022-12-05T10:04:19.701Z"
   },
   {
    "duration": 160,
    "start_time": "2022-12-05T10:05:57.721Z"
   },
   {
    "duration": 163,
    "start_time": "2022-12-05T10:06:13.018Z"
   },
   {
    "duration": 254,
    "start_time": "2022-12-05T10:07:08.316Z"
   },
   {
    "duration": 264,
    "start_time": "2022-12-05T10:09:59.070Z"
   },
   {
    "duration": 178,
    "start_time": "2022-12-05T10:11:24.534Z"
   },
   {
    "duration": 162,
    "start_time": "2022-12-05T10:13:05.305Z"
   },
   {
    "duration": 191,
    "start_time": "2022-12-05T10:15:18.960Z"
   },
   {
    "duration": 169,
    "start_time": "2022-12-05T10:15:37.518Z"
   },
   {
    "duration": 178,
    "start_time": "2022-12-05T10:17:22.570Z"
   },
   {
    "duration": 160,
    "start_time": "2022-12-05T10:17:38.683Z"
   },
   {
    "duration": 156,
    "start_time": "2022-12-05T10:17:40.606Z"
   },
   {
    "duration": 9,
    "start_time": "2022-12-05T10:18:11.736Z"
   },
   {
    "duration": 165,
    "start_time": "2022-12-05T10:18:17.670Z"
   },
   {
    "duration": 169,
    "start_time": "2022-12-05T10:18:30.687Z"
   },
   {
    "duration": 22,
    "start_time": "2022-12-05T10:24:19.767Z"
   },
   {
    "duration": 11,
    "start_time": "2022-12-05T10:37:51.483Z"
   },
   {
    "duration": 602,
    "start_time": "2022-12-05T10:38:27.618Z"
   },
   {
    "duration": 42,
    "start_time": "2022-12-05T10:39:20.782Z"
   },
   {
    "duration": 14,
    "start_time": "2022-12-05T10:39:31.733Z"
   },
   {
    "duration": 694,
    "start_time": "2022-12-05T10:40:46.215Z"
   },
   {
    "duration": 913,
    "start_time": "2022-12-05T10:41:21.282Z"
   },
   {
    "duration": 66,
    "start_time": "2022-12-05T10:41:32.671Z"
   },
   {
    "duration": 14,
    "start_time": "2022-12-05T10:41:32.740Z"
   },
   {
    "duration": 4,
    "start_time": "2022-12-05T10:41:32.756Z"
   },
   {
    "duration": 18,
    "start_time": "2022-12-05T10:41:32.762Z"
   },
   {
    "duration": 7,
    "start_time": "2022-12-05T10:41:32.781Z"
   },
   {
    "duration": 17,
    "start_time": "2022-12-05T10:41:32.790Z"
   },
   {
    "duration": 8,
    "start_time": "2022-12-05T10:41:32.809Z"
   },
   {
    "duration": 11,
    "start_time": "2022-12-05T10:41:32.819Z"
   },
   {
    "duration": 89,
    "start_time": "2022-12-05T10:41:32.832Z"
   },
   {
    "duration": 105,
    "start_time": "2022-12-05T10:41:32.923Z"
   },
   {
    "duration": 3,
    "start_time": "2022-12-05T10:41:33.030Z"
   },
   {
    "duration": 22,
    "start_time": "2022-12-05T10:41:33.035Z"
   },
   {
    "duration": 11,
    "start_time": "2022-12-05T10:41:33.059Z"
   },
   {
    "duration": 3,
    "start_time": "2022-12-05T10:41:33.072Z"
   },
   {
    "duration": 222,
    "start_time": "2022-12-05T10:41:33.077Z"
   },
   {
    "duration": 8,
    "start_time": "2022-12-05T10:41:33.301Z"
   },
   {
    "duration": 2553,
    "start_time": "2022-12-05T10:41:33.310Z"
   },
   {
    "duration": 461,
    "start_time": "2022-12-05T10:41:35.865Z"
   },
   {
    "duration": 143,
    "start_time": "2022-12-05T10:41:36.328Z"
   },
   {
    "duration": 10,
    "start_time": "2022-12-05T10:41:36.474Z"
   },
   {
    "duration": 930,
    "start_time": "2022-12-05T10:41:36.486Z"
   },
   {
    "duration": 2,
    "start_time": "2022-12-05T10:41:37.418Z"
   },
   {
    "duration": 172,
    "start_time": "2022-12-05T10:41:37.422Z"
   },
   {
    "duration": 244,
    "start_time": "2022-12-05T10:41:37.595Z"
   },
   {
    "duration": 235,
    "start_time": "2022-12-05T10:41:37.841Z"
   },
   {
    "duration": 0,
    "start_time": "2022-12-05T10:41:38.078Z"
   },
   {
    "duration": 0,
    "start_time": "2022-12-05T10:41:38.079Z"
   },
   {
    "duration": 0,
    "start_time": "2022-12-05T10:41:38.081Z"
   },
   {
    "duration": 0,
    "start_time": "2022-12-05T10:41:38.082Z"
   },
   {
    "duration": 831,
    "start_time": "2022-12-05T10:42:04.589Z"
   },
   {
    "duration": 10,
    "start_time": "2022-12-05T10:54:49.504Z"
   },
   {
    "duration": 7,
    "start_time": "2022-12-05T10:55:11.017Z"
   },
   {
    "duration": 8,
    "start_time": "2022-12-05T10:55:34.481Z"
   },
   {
    "duration": 62,
    "start_time": "2022-12-05T10:55:39.793Z"
   },
   {
    "duration": 20,
    "start_time": "2022-12-05T10:55:39.857Z"
   },
   {
    "duration": 5,
    "start_time": "2022-12-05T10:55:39.879Z"
   },
   {
    "duration": 15,
    "start_time": "2022-12-05T10:55:39.886Z"
   },
   {
    "duration": 9,
    "start_time": "2022-12-05T10:55:39.904Z"
   },
   {
    "duration": 15,
    "start_time": "2022-12-05T10:55:39.915Z"
   },
   {
    "duration": 7,
    "start_time": "2022-12-05T10:55:39.932Z"
   },
   {
    "duration": 7,
    "start_time": "2022-12-05T10:55:39.956Z"
   },
   {
    "duration": 107,
    "start_time": "2022-12-05T10:55:39.966Z"
   },
   {
    "duration": 94,
    "start_time": "2022-12-05T10:55:40.075Z"
   },
   {
    "duration": 2,
    "start_time": "2022-12-05T10:55:40.171Z"
   },
   {
    "duration": 8,
    "start_time": "2022-12-05T10:55:40.175Z"
   },
   {
    "duration": 17,
    "start_time": "2022-12-05T10:55:40.184Z"
   },
   {
    "duration": 8,
    "start_time": "2022-12-05T10:55:40.205Z"
   },
   {
    "duration": 180,
    "start_time": "2022-12-05T10:55:40.214Z"
   },
   {
    "duration": 6,
    "start_time": "2022-12-05T10:55:40.396Z"
   },
   {
    "duration": 2463,
    "start_time": "2022-12-05T10:55:40.404Z"
   },
   {
    "duration": 444,
    "start_time": "2022-12-05T10:55:42.869Z"
   },
   {
    "duration": 140,
    "start_time": "2022-12-05T10:55:43.315Z"
   },
   {
    "duration": 11,
    "start_time": "2022-12-05T10:55:43.456Z"
   },
   {
    "duration": 987,
    "start_time": "2022-12-05T10:55:43.468Z"
   },
   {
    "duration": 2,
    "start_time": "2022-12-05T10:55:44.457Z"
   },
   {
    "duration": 233,
    "start_time": "2022-12-05T10:55:44.461Z"
   },
   {
    "duration": 228,
    "start_time": "2022-12-05T10:55:44.696Z"
   },
   {
    "duration": 66,
    "start_time": "2022-12-05T10:55:44.926Z"
   },
   {
    "duration": 0,
    "start_time": "2022-12-05T10:55:44.994Z"
   },
   {
    "duration": 1,
    "start_time": "2022-12-05T10:55:44.995Z"
   },
   {
    "duration": 0,
    "start_time": "2022-12-05T10:55:44.997Z"
   },
   {
    "duration": 0,
    "start_time": "2022-12-05T10:55:44.999Z"
   },
   {
    "duration": 8,
    "start_time": "2022-12-05T10:56:04.970Z"
   },
   {
    "duration": 14,
    "start_time": "2022-12-05T10:59:02.765Z"
   },
   {
    "duration": 11,
    "start_time": "2022-12-05T10:59:14.817Z"
   },
   {
    "duration": 11,
    "start_time": "2022-12-05T10:59:18.339Z"
   },
   {
    "duration": 7,
    "start_time": "2022-12-05T10:59:46.545Z"
   },
   {
    "duration": 8,
    "start_time": "2022-12-05T10:59:53.218Z"
   },
   {
    "duration": 8,
    "start_time": "2022-12-05T11:00:26.337Z"
   },
   {
    "duration": 7,
    "start_time": "2022-12-05T11:00:56.715Z"
   },
   {
    "duration": 9,
    "start_time": "2022-12-05T11:01:11.636Z"
   },
   {
    "duration": 8,
    "start_time": "2022-12-05T11:03:03.387Z"
   },
   {
    "duration": 8,
    "start_time": "2022-12-05T11:03:22.368Z"
   },
   {
    "duration": 7,
    "start_time": "2022-12-05T11:03:32.399Z"
   },
   {
    "duration": 62,
    "start_time": "2022-12-05T11:03:36.522Z"
   },
   {
    "duration": 14,
    "start_time": "2022-12-05T11:03:36.585Z"
   },
   {
    "duration": 4,
    "start_time": "2022-12-05T11:03:36.601Z"
   },
   {
    "duration": 5,
    "start_time": "2022-12-05T11:03:36.607Z"
   },
   {
    "duration": 6,
    "start_time": "2022-12-05T11:03:36.615Z"
   },
   {
    "duration": 33,
    "start_time": "2022-12-05T11:03:36.622Z"
   },
   {
    "duration": 7,
    "start_time": "2022-12-05T11:03:36.657Z"
   },
   {
    "duration": 11,
    "start_time": "2022-12-05T11:03:36.665Z"
   },
   {
    "duration": 77,
    "start_time": "2022-12-05T11:03:36.678Z"
   },
   {
    "duration": 81,
    "start_time": "2022-12-05T11:03:36.757Z"
   },
   {
    "duration": 3,
    "start_time": "2022-12-05T11:03:36.855Z"
   },
   {
    "duration": 8,
    "start_time": "2022-12-05T11:03:36.859Z"
   },
   {
    "duration": 8,
    "start_time": "2022-12-05T11:03:36.868Z"
   },
   {
    "duration": 3,
    "start_time": "2022-12-05T11:03:36.879Z"
   },
   {
    "duration": 192,
    "start_time": "2022-12-05T11:03:36.883Z"
   },
   {
    "duration": 6,
    "start_time": "2022-12-05T11:03:37.078Z"
   },
   {
    "duration": 2422,
    "start_time": "2022-12-05T11:03:37.086Z"
   },
   {
    "duration": 402,
    "start_time": "2022-12-05T11:03:39.510Z"
   },
   {
    "duration": 142,
    "start_time": "2022-12-05T11:03:39.913Z"
   },
   {
    "duration": 11,
    "start_time": "2022-12-05T11:03:40.056Z"
   },
   {
    "duration": 894,
    "start_time": "2022-12-05T11:03:40.069Z"
   },
   {
    "duration": 3,
    "start_time": "2022-12-05T11:03:40.965Z"
   },
   {
    "duration": 175,
    "start_time": "2022-12-05T11:03:40.969Z"
   },
   {
    "duration": 173,
    "start_time": "2022-12-05T11:03:41.155Z"
   },
   {
    "duration": 105,
    "start_time": "2022-12-05T11:03:41.329Z"
   },
   {
    "duration": 0,
    "start_time": "2022-12-05T11:03:41.436Z"
   },
   {
    "duration": 0,
    "start_time": "2022-12-05T11:03:41.437Z"
   },
   {
    "duration": 0,
    "start_time": "2022-12-05T11:03:41.438Z"
   },
   {
    "duration": 0,
    "start_time": "2022-12-05T11:03:41.439Z"
   },
   {
    "duration": 7,
    "start_time": "2022-12-05T11:03:50.736Z"
   },
   {
    "duration": 28,
    "start_time": "2022-12-05T11:04:26.984Z"
   },
   {
    "duration": 8,
    "start_time": "2022-12-05T11:04:38.718Z"
   },
   {
    "duration": 7,
    "start_time": "2022-12-05T11:05:04.149Z"
   },
   {
    "duration": 899,
    "start_time": "2022-12-05T11:05:30.178Z"
   },
   {
    "duration": 1090,
    "start_time": "2022-12-05T11:06:02.753Z"
   },
   {
    "duration": 13,
    "start_time": "2022-12-05T11:08:29.356Z"
   },
   {
    "duration": 22,
    "start_time": "2022-12-05T11:09:07.337Z"
   },
   {
    "duration": 23,
    "start_time": "2022-12-05T11:11:05.398Z"
   },
   {
    "duration": 23,
    "start_time": "2022-12-05T11:11:35.453Z"
   },
   {
    "duration": 11,
    "start_time": "2022-12-05T11:11:52.284Z"
   },
   {
    "duration": 789,
    "start_time": "2022-12-05T11:11:59.150Z"
   },
   {
    "duration": 29,
    "start_time": "2022-12-05T11:13:31.950Z"
   },
   {
    "duration": 25,
    "start_time": "2022-12-05T11:15:08.639Z"
   },
   {
    "duration": 27,
    "start_time": "2022-12-05T11:15:38.120Z"
   },
   {
    "duration": 21,
    "start_time": "2022-12-05T11:15:55.734Z"
   },
   {
    "duration": 25,
    "start_time": "2022-12-05T11:17:26.702Z"
   },
   {
    "duration": 22,
    "start_time": "2022-12-05T11:18:14.469Z"
   },
   {
    "duration": 18,
    "start_time": "2022-12-05T11:18:47.454Z"
   },
   {
    "duration": 17,
    "start_time": "2022-12-05T11:22:40.568Z"
   },
   {
    "duration": 7,
    "start_time": "2022-12-05T11:24:10.934Z"
   },
   {
    "duration": 4,
    "start_time": "2022-12-05T11:24:25.282Z"
   },
   {
    "duration": 67,
    "start_time": "2022-12-05T11:24:35.110Z"
   },
   {
    "duration": 15,
    "start_time": "2022-12-05T11:24:35.179Z"
   },
   {
    "duration": 24,
    "start_time": "2022-12-05T11:24:35.196Z"
   },
   {
    "duration": 13,
    "start_time": "2022-12-05T11:24:35.222Z"
   },
   {
    "duration": 7,
    "start_time": "2022-12-05T11:24:35.237Z"
   },
   {
    "duration": 20,
    "start_time": "2022-12-05T11:24:35.246Z"
   },
   {
    "duration": 13,
    "start_time": "2022-12-05T11:24:35.269Z"
   },
   {
    "duration": 10,
    "start_time": "2022-12-05T11:24:35.285Z"
   },
   {
    "duration": 89,
    "start_time": "2022-12-05T11:24:35.297Z"
   },
   {
    "duration": 85,
    "start_time": "2022-12-05T11:24:35.389Z"
   },
   {
    "duration": 3,
    "start_time": "2022-12-05T11:24:35.476Z"
   },
   {
    "duration": 25,
    "start_time": "2022-12-05T11:24:35.481Z"
   },
   {
    "duration": 24,
    "start_time": "2022-12-05T11:24:35.508Z"
   },
   {
    "duration": 8,
    "start_time": "2022-12-05T11:24:35.535Z"
   },
   {
    "duration": 175,
    "start_time": "2022-12-05T11:24:35.545Z"
   },
   {
    "duration": 8,
    "start_time": "2022-12-05T11:24:35.722Z"
   },
   {
    "duration": 2379,
    "start_time": "2022-12-05T11:24:35.732Z"
   },
   {
    "duration": 720,
    "start_time": "2022-12-05T11:24:38.113Z"
   },
   {
    "duration": 144,
    "start_time": "2022-12-05T11:24:38.834Z"
   },
   {
    "duration": 11,
    "start_time": "2022-12-05T11:24:38.980Z"
   },
   {
    "duration": 965,
    "start_time": "2022-12-05T11:24:38.993Z"
   },
   {
    "duration": 2,
    "start_time": "2022-12-05T11:24:39.960Z"
   },
   {
    "duration": 187,
    "start_time": "2022-12-05T11:24:39.964Z"
   },
   {
    "duration": 197,
    "start_time": "2022-12-05T11:24:40.155Z"
   },
   {
    "duration": 24,
    "start_time": "2022-12-05T11:24:40.354Z"
   },
   {
    "duration": 3,
    "start_time": "2022-12-05T11:24:40.380Z"
   },
   {
    "duration": 31,
    "start_time": "2022-12-05T11:24:40.384Z"
   },
   {
    "duration": 35,
    "start_time": "2022-12-05T11:24:40.417Z"
   },
   {
    "duration": 591,
    "start_time": "2022-12-05T11:24:40.454Z"
   },
   {
    "duration": 13,
    "start_time": "2022-12-05T11:26:12.378Z"
   },
   {
    "duration": 14,
    "start_time": "2022-12-05T11:31:19.552Z"
   },
   {
    "duration": 13,
    "start_time": "2022-12-05T11:31:27.643Z"
   },
   {
    "duration": 63,
    "start_time": "2022-12-05T11:31:35.392Z"
   },
   {
    "duration": 14,
    "start_time": "2022-12-05T11:31:35.457Z"
   },
   {
    "duration": 4,
    "start_time": "2022-12-05T11:31:35.472Z"
   },
   {
    "duration": 12,
    "start_time": "2022-12-05T11:31:35.478Z"
   },
   {
    "duration": 6,
    "start_time": "2022-12-05T11:31:35.493Z"
   },
   {
    "duration": 12,
    "start_time": "2022-12-05T11:31:35.500Z"
   },
   {
    "duration": 6,
    "start_time": "2022-12-05T11:31:35.514Z"
   },
   {
    "duration": 26,
    "start_time": "2022-12-05T11:31:35.522Z"
   },
   {
    "duration": 83,
    "start_time": "2022-12-05T11:31:35.555Z"
   },
   {
    "duration": 76,
    "start_time": "2022-12-05T11:31:35.640Z"
   },
   {
    "duration": 4,
    "start_time": "2022-12-05T11:31:35.718Z"
   },
   {
    "duration": 11,
    "start_time": "2022-12-05T11:31:35.723Z"
   },
   {
    "duration": 25,
    "start_time": "2022-12-05T11:31:35.736Z"
   },
   {
    "duration": 2,
    "start_time": "2022-12-05T11:31:35.766Z"
   },
   {
    "duration": 225,
    "start_time": "2022-12-05T11:31:35.770Z"
   },
   {
    "duration": 9,
    "start_time": "2022-12-05T11:31:35.997Z"
   },
   {
    "duration": 2312,
    "start_time": "2022-12-05T11:31:36.008Z"
   },
   {
    "duration": 430,
    "start_time": "2022-12-05T11:31:38.322Z"
   },
   {
    "duration": 137,
    "start_time": "2022-12-05T11:31:38.755Z"
   },
   {
    "duration": 11,
    "start_time": "2022-12-05T11:31:38.893Z"
   },
   {
    "duration": 897,
    "start_time": "2022-12-05T11:31:38.905Z"
   },
   {
    "duration": 3,
    "start_time": "2022-12-05T11:31:39.804Z"
   },
   {
    "duration": 172,
    "start_time": "2022-12-05T11:31:39.808Z"
   },
   {
    "duration": 177,
    "start_time": "2022-12-05T11:31:39.982Z"
   },
   {
    "duration": 22,
    "start_time": "2022-12-05T11:31:40.160Z"
   },
   {
    "duration": 2,
    "start_time": "2022-12-05T11:31:40.184Z"
   },
   {
    "duration": 8,
    "start_time": "2022-12-05T11:31:40.188Z"
   },
   {
    "duration": 12,
    "start_time": "2022-12-05T11:31:40.197Z"
   },
   {
    "duration": 704,
    "start_time": "2022-12-05T11:31:40.210Z"
   },
   {
    "duration": 13,
    "start_time": "2022-12-05T11:33:19.187Z"
   },
   {
    "duration": 16,
    "start_time": "2022-12-05T11:38:43.448Z"
   },
   {
    "duration": 17,
    "start_time": "2022-12-05T11:38:56.999Z"
   },
   {
    "duration": 16,
    "start_time": "2022-12-05T11:39:09.382Z"
   },
   {
    "duration": 80,
    "start_time": "2022-12-05T11:39:12.356Z"
   },
   {
    "duration": 16,
    "start_time": "2022-12-05T11:39:12.439Z"
   },
   {
    "duration": 14,
    "start_time": "2022-12-05T11:39:12.457Z"
   },
   {
    "duration": 14,
    "start_time": "2022-12-05T11:39:12.473Z"
   },
   {
    "duration": 20,
    "start_time": "2022-12-05T11:39:12.490Z"
   },
   {
    "duration": 19,
    "start_time": "2022-12-05T11:39:12.512Z"
   },
   {
    "duration": 18,
    "start_time": "2022-12-05T11:39:12.533Z"
   },
   {
    "duration": 18,
    "start_time": "2022-12-05T11:39:12.553Z"
   },
   {
    "duration": 93,
    "start_time": "2022-12-05T11:39:12.573Z"
   },
   {
    "duration": 88,
    "start_time": "2022-12-05T11:39:12.668Z"
   },
   {
    "duration": 2,
    "start_time": "2022-12-05T11:39:12.758Z"
   },
   {
    "duration": 10,
    "start_time": "2022-12-05T11:39:12.762Z"
   },
   {
    "duration": 19,
    "start_time": "2022-12-05T11:39:12.774Z"
   },
   {
    "duration": 3,
    "start_time": "2022-12-05T11:39:12.796Z"
   },
   {
    "duration": 206,
    "start_time": "2022-12-05T11:39:12.801Z"
   },
   {
    "duration": 8,
    "start_time": "2022-12-05T11:39:13.009Z"
   },
   {
    "duration": 2908,
    "start_time": "2022-12-05T11:39:13.018Z"
   },
   {
    "duration": 463,
    "start_time": "2022-12-05T11:39:15.928Z"
   },
   {
    "duration": 146,
    "start_time": "2022-12-05T11:39:16.394Z"
   },
   {
    "duration": 19,
    "start_time": "2022-12-05T11:39:16.542Z"
   },
   {
    "duration": 966,
    "start_time": "2022-12-05T11:39:16.563Z"
   },
   {
    "duration": 2,
    "start_time": "2022-12-05T11:39:17.531Z"
   },
   {
    "duration": 190,
    "start_time": "2022-12-05T11:39:17.535Z"
   },
   {
    "duration": 179,
    "start_time": "2022-12-05T11:39:17.726Z"
   },
   {
    "duration": 29,
    "start_time": "2022-12-05T11:39:17.907Z"
   },
   {
    "duration": 18,
    "start_time": "2022-12-05T11:39:17.938Z"
   },
   {
    "duration": 7,
    "start_time": "2022-12-05T11:39:17.958Z"
   },
   {
    "duration": 23,
    "start_time": "2022-12-05T11:39:17.967Z"
   },
   {
    "duration": 667,
    "start_time": "2022-12-05T11:39:17.992Z"
   },
   {
    "duration": 129,
    "start_time": "2022-12-05T11:40:50.103Z"
   },
   {
    "duration": 11,
    "start_time": "2022-12-05T11:41:06.868Z"
   },
   {
    "duration": 915,
    "start_time": "2022-12-05T11:41:11.837Z"
   },
   {
    "duration": 17,
    "start_time": "2022-12-05T11:41:55.358Z"
   },
   {
    "duration": 12,
    "start_time": "2022-12-05T11:41:58.604Z"
   },
   {
    "duration": 68,
    "start_time": "2022-12-05T11:42:01.707Z"
   },
   {
    "duration": 16,
    "start_time": "2022-12-05T11:42:01.777Z"
   },
   {
    "duration": 13,
    "start_time": "2022-12-05T11:42:01.794Z"
   },
   {
    "duration": 18,
    "start_time": "2022-12-05T11:42:01.809Z"
   },
   {
    "duration": 11,
    "start_time": "2022-12-05T11:42:01.829Z"
   },
   {
    "duration": 40,
    "start_time": "2022-12-05T11:42:01.842Z"
   },
   {
    "duration": 8,
    "start_time": "2022-12-05T11:42:01.884Z"
   },
   {
    "duration": 12,
    "start_time": "2022-12-05T11:42:01.894Z"
   },
   {
    "duration": 77,
    "start_time": "2022-12-05T11:42:01.908Z"
   },
   {
    "duration": 90,
    "start_time": "2022-12-05T11:42:01.988Z"
   },
   {
    "duration": 2,
    "start_time": "2022-12-05T11:42:02.080Z"
   },
   {
    "duration": 12,
    "start_time": "2022-12-05T11:42:02.084Z"
   },
   {
    "duration": 13,
    "start_time": "2022-12-05T11:42:02.098Z"
   },
   {
    "duration": 24,
    "start_time": "2022-12-05T11:42:02.114Z"
   },
   {
    "duration": 200,
    "start_time": "2022-12-05T11:42:02.140Z"
   },
   {
    "duration": 18,
    "start_time": "2022-12-05T11:42:02.342Z"
   },
   {
    "duration": 2808,
    "start_time": "2022-12-05T11:42:02.363Z"
   },
   {
    "duration": 480,
    "start_time": "2022-12-05T11:42:05.173Z"
   },
   {
    "duration": 135,
    "start_time": "2022-12-05T11:42:05.663Z"
   },
   {
    "duration": 12,
    "start_time": "2022-12-05T11:42:05.800Z"
   },
   {
    "duration": 1330,
    "start_time": "2022-12-05T11:42:05.814Z"
   },
   {
    "duration": 3,
    "start_time": "2022-12-05T11:42:07.146Z"
   },
   {
    "duration": 186,
    "start_time": "2022-12-05T11:42:07.159Z"
   },
   {
    "duration": 175,
    "start_time": "2022-12-05T11:42:07.346Z"
   },
   {
    "duration": 46,
    "start_time": "2022-12-05T11:42:07.523Z"
   },
   {
    "duration": 3,
    "start_time": "2022-12-05T11:42:07.570Z"
   },
   {
    "duration": 9,
    "start_time": "2022-12-05T11:42:07.575Z"
   },
   {
    "duration": 29,
    "start_time": "2022-12-05T11:42:07.586Z"
   },
   {
    "duration": 612,
    "start_time": "2022-12-05T11:42:07.617Z"
   },
   {
    "duration": 16,
    "start_time": "2022-12-05T11:42:44.171Z"
   },
   {
    "duration": 15,
    "start_time": "2022-12-05T11:52:25.488Z"
   },
   {
    "duration": 21,
    "start_time": "2022-12-05T11:52:45.502Z"
   },
   {
    "duration": 18,
    "start_time": "2022-12-05T11:53:01.205Z"
   },
   {
    "duration": 14,
    "start_time": "2022-12-05T11:53:06.453Z"
   },
   {
    "duration": 62,
    "start_time": "2022-12-05T11:55:42.057Z"
   },
   {
    "duration": 14,
    "start_time": "2022-12-05T11:55:42.122Z"
   },
   {
    "duration": 4,
    "start_time": "2022-12-05T11:55:42.138Z"
   },
   {
    "duration": 11,
    "start_time": "2022-12-05T11:55:42.144Z"
   },
   {
    "duration": 5,
    "start_time": "2022-12-05T11:55:42.158Z"
   },
   {
    "duration": 13,
    "start_time": "2022-12-05T11:55:42.165Z"
   },
   {
    "duration": 7,
    "start_time": "2022-12-05T11:55:42.179Z"
   },
   {
    "duration": 11,
    "start_time": "2022-12-05T11:55:42.187Z"
   },
   {
    "duration": 89,
    "start_time": "2022-12-05T11:55:42.199Z"
   },
   {
    "duration": 86,
    "start_time": "2022-12-05T11:55:42.290Z"
   },
   {
    "duration": 2,
    "start_time": "2022-12-05T11:55:42.378Z"
   },
   {
    "duration": 10,
    "start_time": "2022-12-05T11:55:42.382Z"
   },
   {
    "duration": 11,
    "start_time": "2022-12-05T11:55:42.393Z"
   },
   {
    "duration": 3,
    "start_time": "2022-12-05T11:55:42.406Z"
   },
   {
    "duration": 228,
    "start_time": "2022-12-05T11:55:42.411Z"
   },
   {
    "duration": 15,
    "start_time": "2022-12-05T11:55:42.640Z"
   },
   {
    "duration": 2579,
    "start_time": "2022-12-05T11:55:42.656Z"
   },
   {
    "duration": 456,
    "start_time": "2022-12-05T11:55:45.237Z"
   },
   {
    "duration": 137,
    "start_time": "2022-12-05T11:55:45.698Z"
   },
   {
    "duration": 21,
    "start_time": "2022-12-05T11:55:45.837Z"
   },
   {
    "duration": 1246,
    "start_time": "2022-12-05T11:55:45.860Z"
   },
   {
    "duration": 3,
    "start_time": "2022-12-05T11:55:47.107Z"
   },
   {
    "duration": 237,
    "start_time": "2022-12-05T11:55:47.112Z"
   },
   {
    "duration": 495,
    "start_time": "2022-12-05T11:55:47.354Z"
   },
   {
    "duration": 41,
    "start_time": "2022-12-05T11:55:47.850Z"
   },
   {
    "duration": 49,
    "start_time": "2022-12-05T11:55:47.893Z"
   },
   {
    "duration": 61,
    "start_time": "2022-12-05T11:55:47.945Z"
   },
   {
    "duration": 68,
    "start_time": "2022-12-05T11:55:48.009Z"
   },
   {
    "duration": 42,
    "start_time": "2022-12-05T11:55:48.080Z"
   },
   {
    "duration": 85,
    "start_time": "2022-12-05T13:26:07.495Z"
   },
   {
    "duration": 15,
    "start_time": "2022-12-05T13:26:07.582Z"
   },
   {
    "duration": 7,
    "start_time": "2022-12-05T13:26:07.599Z"
   },
   {
    "duration": 44,
    "start_time": "2022-12-05T13:26:07.608Z"
   },
   {
    "duration": 12,
    "start_time": "2022-12-05T13:26:07.655Z"
   },
   {
    "duration": 46,
    "start_time": "2022-12-05T13:26:07.669Z"
   },
   {
    "duration": 7,
    "start_time": "2022-12-05T13:26:07.717Z"
   },
   {
    "duration": 37,
    "start_time": "2022-12-05T13:26:07.726Z"
   },
   {
    "duration": 87,
    "start_time": "2022-12-05T13:26:07.765Z"
   },
   {
    "duration": 94,
    "start_time": "2022-12-05T13:26:07.854Z"
   },
   {
    "duration": 3,
    "start_time": "2022-12-05T13:26:07.956Z"
   },
   {
    "duration": 31,
    "start_time": "2022-12-05T13:26:07.961Z"
   },
   {
    "duration": 11,
    "start_time": "2022-12-05T13:26:07.994Z"
   },
   {
    "duration": 238,
    "start_time": "2022-12-05T13:26:08.009Z"
   },
   {
    "duration": 10,
    "start_time": "2022-12-05T13:26:08.250Z"
   },
   {
    "duration": 2697,
    "start_time": "2022-12-05T13:26:08.263Z"
   },
   {
    "duration": 546,
    "start_time": "2022-12-05T13:26:10.962Z"
   },
   {
    "duration": 0,
    "start_time": "2022-12-05T13:26:11.510Z"
   },
   {
    "duration": 0,
    "start_time": "2022-12-05T13:26:11.511Z"
   },
   {
    "duration": 0,
    "start_time": "2022-12-05T13:26:11.512Z"
   },
   {
    "duration": 0,
    "start_time": "2022-12-05T13:26:11.513Z"
   },
   {
    "duration": 0,
    "start_time": "2022-12-05T13:26:11.515Z"
   },
   {
    "duration": 0,
    "start_time": "2022-12-05T13:26:11.516Z"
   },
   {
    "duration": 0,
    "start_time": "2022-12-05T13:26:11.517Z"
   },
   {
    "duration": 0,
    "start_time": "2022-12-05T13:26:11.518Z"
   },
   {
    "duration": 0,
    "start_time": "2022-12-05T13:26:11.520Z"
   },
   {
    "duration": 0,
    "start_time": "2022-12-05T13:26:11.522Z"
   },
   {
    "duration": 421,
    "start_time": "2022-12-05T13:28:14.737Z"
   },
   {
    "duration": 8,
    "start_time": "2022-12-05T13:29:11.888Z"
   },
   {
    "duration": 11,
    "start_time": "2022-12-05T13:29:26.205Z"
   },
   {
    "duration": 11,
    "start_time": "2022-12-05T13:32:41.007Z"
   },
   {
    "duration": 11,
    "start_time": "2022-12-05T13:33:02.286Z"
   },
   {
    "duration": 13,
    "start_time": "2022-12-05T13:39:13.614Z"
   },
   {
    "duration": 321,
    "start_time": "2022-12-05T13:39:23.770Z"
   },
   {
    "duration": 123,
    "start_time": "2022-12-05T13:39:48.122Z"
   },
   {
    "duration": 119,
    "start_time": "2022-12-05T13:40:11.272Z"
   },
   {
    "duration": 330,
    "start_time": "2022-12-05T13:40:19.121Z"
   },
   {
    "duration": 321,
    "start_time": "2022-12-05T13:41:13.038Z"
   },
   {
    "duration": 607,
    "start_time": "2022-12-05T13:41:22.075Z"
   },
   {
    "duration": 313,
    "start_time": "2022-12-05T13:41:30.139Z"
   },
   {
    "duration": 328,
    "start_time": "2022-12-05T13:41:56.421Z"
   },
   {
    "duration": 344,
    "start_time": "2022-12-05T13:42:02.303Z"
   },
   {
    "duration": 338,
    "start_time": "2022-12-05T13:42:20.935Z"
   },
   {
    "duration": 315,
    "start_time": "2022-12-05T13:44:25.250Z"
   },
   {
    "duration": 348,
    "start_time": "2022-12-05T13:44:30.355Z"
   },
   {
    "duration": 127,
    "start_time": "2022-12-05T13:53:25.583Z"
   },
   {
    "duration": 12,
    "start_time": "2022-12-05T13:53:27.925Z"
   },
   {
    "duration": 1184,
    "start_time": "2022-12-05T13:53:32.610Z"
   },
   {
    "duration": 152,
    "start_time": "2022-12-05T13:54:50.275Z"
   },
   {
    "duration": 162,
    "start_time": "2022-12-05T13:54:52.526Z"
   },
   {
    "duration": 27,
    "start_time": "2022-12-05T14:03:56.004Z"
   },
   {
    "duration": 23,
    "start_time": "2022-12-05T14:06:42.334Z"
   },
   {
    "duration": 159,
    "start_time": "2022-12-05T14:17:27.089Z"
   },
   {
    "duration": 16,
    "start_time": "2022-12-05T14:17:34.619Z"
   },
   {
    "duration": 1227,
    "start_time": "2022-12-05T14:17:37.253Z"
   },
   {
    "duration": 4289,
    "start_time": "2022-12-05T14:21:35.003Z"
   },
   {
    "duration": 4313,
    "start_time": "2022-12-05T14:22:42.035Z"
   },
   {
    "duration": 4090,
    "start_time": "2022-12-05T14:23:45.194Z"
   },
   {
    "duration": 862,
    "start_time": "2022-12-05T14:32:45.479Z"
   },
   {
    "duration": 471,
    "start_time": "2022-12-05T14:33:07.957Z"
   },
   {
    "duration": 108,
    "start_time": "2022-12-05T14:33:56.327Z"
   },
   {
    "duration": 109,
    "start_time": "2022-12-05T14:34:07.593Z"
   },
   {
    "duration": 121,
    "start_time": "2022-12-05T14:38:08.977Z"
   },
   {
    "duration": 24,
    "start_time": "2022-12-05T14:47:35.675Z"
   },
   {
    "duration": 854,
    "start_time": "2022-12-05T14:54:06.711Z"
   },
   {
    "duration": 28,
    "start_time": "2022-12-05T15:08:14.566Z"
   },
   {
    "duration": 129,
    "start_time": "2022-12-05T15:12:17.044Z"
   },
   {
    "duration": 120,
    "start_time": "2022-12-05T15:12:32.993Z"
   },
   {
    "duration": 159,
    "start_time": "2022-12-05T15:13:01.596Z"
   },
   {
    "duration": 127,
    "start_time": "2022-12-05T15:13:27.813Z"
   },
   {
    "duration": 161,
    "start_time": "2022-12-05T15:13:30.030Z"
   },
   {
    "duration": 124,
    "start_time": "2022-12-05T15:13:32.078Z"
   },
   {
    "duration": 134,
    "start_time": "2022-12-05T15:22:03.665Z"
   },
   {
    "duration": 15,
    "start_time": "2022-12-05T15:22:03.801Z"
   },
   {
    "duration": 4,
    "start_time": "2022-12-05T15:22:03.818Z"
   },
   {
    "duration": 14,
    "start_time": "2022-12-05T15:22:03.823Z"
   },
   {
    "duration": 15,
    "start_time": "2022-12-05T15:22:03.840Z"
   },
   {
    "duration": 27,
    "start_time": "2022-12-05T15:22:03.856Z"
   },
   {
    "duration": 12,
    "start_time": "2022-12-05T15:22:03.884Z"
   },
   {
    "duration": 14,
    "start_time": "2022-12-05T15:22:03.897Z"
   },
   {
    "duration": 82,
    "start_time": "2022-12-05T15:22:03.912Z"
   },
   {
    "duration": 88,
    "start_time": "2022-12-05T15:22:03.996Z"
   },
   {
    "duration": 4,
    "start_time": "2022-12-05T15:22:04.086Z"
   },
   {
    "duration": 12,
    "start_time": "2022-12-05T15:22:04.092Z"
   },
   {
    "duration": 182,
    "start_time": "2022-12-05T15:22:04.106Z"
   },
   {
    "duration": 6,
    "start_time": "2022-12-05T15:22:04.291Z"
   },
   {
    "duration": 2797,
    "start_time": "2022-12-05T15:22:04.299Z"
   },
   {
    "duration": 342,
    "start_time": "2022-12-05T15:22:07.098Z"
   },
   {
    "duration": 171,
    "start_time": "2022-12-05T15:22:07.442Z"
   },
   {
    "duration": 12,
    "start_time": "2022-12-05T15:22:07.614Z"
   },
   {
    "duration": 1186,
    "start_time": "2022-12-05T15:22:07.628Z"
   },
   {
    "duration": 3974,
    "start_time": "2022-12-05T15:22:08.815Z"
   },
   {
    "duration": 166,
    "start_time": "2022-12-05T15:22:12.791Z"
   },
   {
    "duration": 195,
    "start_time": "2022-12-05T15:22:12.959Z"
   },
   {
    "duration": 23,
    "start_time": "2022-12-05T15:22:13.155Z"
   },
   {
    "duration": 146,
    "start_time": "2022-12-05T15:22:13.180Z"
   },
   {
    "duration": 159,
    "start_time": "2022-12-05T15:22:13.328Z"
   },
   {
    "duration": 136,
    "start_time": "2022-12-05T15:22:13.488Z"
   },
   {
    "duration": 16,
    "start_time": "2022-12-05T15:22:13.626Z"
   },
   {
    "duration": 16,
    "start_time": "2022-12-05T15:22:13.655Z"
   },
   {
    "duration": 65,
    "start_time": "2022-12-05T15:38:50.959Z"
   },
   {
    "duration": 15,
    "start_time": "2022-12-05T15:38:51.026Z"
   },
   {
    "duration": 8,
    "start_time": "2022-12-05T15:38:51.043Z"
   },
   {
    "duration": 7,
    "start_time": "2022-12-05T15:38:51.053Z"
   },
   {
    "duration": 6,
    "start_time": "2022-12-05T15:38:51.063Z"
   },
   {
    "duration": 16,
    "start_time": "2022-12-05T15:38:51.071Z"
   },
   {
    "duration": 7,
    "start_time": "2022-12-05T15:38:51.089Z"
   },
   {
    "duration": 10,
    "start_time": "2022-12-05T15:38:51.098Z"
   },
   {
    "duration": 91,
    "start_time": "2022-12-05T15:38:51.111Z"
   },
   {
    "duration": 85,
    "start_time": "2022-12-05T15:38:51.204Z"
   },
   {
    "duration": 4,
    "start_time": "2022-12-05T15:38:51.291Z"
   },
   {
    "duration": 14,
    "start_time": "2022-12-05T15:38:51.296Z"
   },
   {
    "duration": 183,
    "start_time": "2022-12-05T15:38:51.311Z"
   },
   {
    "duration": 7,
    "start_time": "2022-12-05T15:38:51.497Z"
   },
   {
    "duration": 2384,
    "start_time": "2022-12-05T15:38:51.505Z"
   },
   {
    "duration": 324,
    "start_time": "2022-12-05T15:38:53.890Z"
   },
   {
    "duration": 167,
    "start_time": "2022-12-05T15:38:54.216Z"
   },
   {
    "duration": 12,
    "start_time": "2022-12-05T15:38:54.385Z"
   },
   {
    "duration": 1242,
    "start_time": "2022-12-05T15:38:54.399Z"
   },
   {
    "duration": 4373,
    "start_time": "2022-12-05T15:38:55.643Z"
   },
   {
    "duration": 198,
    "start_time": "2022-12-05T15:39:00.018Z"
   },
   {
    "duration": 180,
    "start_time": "2022-12-05T15:39:00.218Z"
   },
   {
    "duration": 25,
    "start_time": "2022-12-05T15:39:00.400Z"
   },
   {
    "duration": 151,
    "start_time": "2022-12-05T15:39:00.427Z"
   },
   {
    "duration": 158,
    "start_time": "2022-12-05T15:39:00.580Z"
   },
   {
    "duration": 158,
    "start_time": "2022-12-05T15:39:00.740Z"
   },
   {
    "duration": 17,
    "start_time": "2022-12-05T15:39:00.900Z"
   },
   {
    "duration": 26,
    "start_time": "2022-12-05T15:39:00.918Z"
   },
   {
    "duration": 622,
    "start_time": "2022-12-05T16:04:41.066Z"
   },
   {
    "duration": 15,
    "start_time": "2022-12-05T16:04:41.690Z"
   },
   {
    "duration": 11,
    "start_time": "2022-12-05T16:04:41.707Z"
   },
   {
    "duration": 2,
    "start_time": "2022-12-05T16:04:41.721Z"
   },
   {
    "duration": 7,
    "start_time": "2022-12-05T16:04:41.725Z"
   },
   {
    "duration": 23,
    "start_time": "2022-12-05T16:04:41.734Z"
   },
   {
    "duration": 8,
    "start_time": "2022-12-05T16:04:41.759Z"
   },
   {
    "duration": 10,
    "start_time": "2022-12-05T16:04:41.769Z"
   },
   {
    "duration": 82,
    "start_time": "2022-12-05T16:04:41.781Z"
   },
   {
    "duration": 89,
    "start_time": "2022-12-05T16:04:45.250Z"
   },
   {
    "duration": 6,
    "start_time": "2022-12-05T16:05:03.298Z"
   },
   {
    "duration": 6,
    "start_time": "2022-12-05T16:11:10.434Z"
   },
   {
    "duration": 16,
    "start_time": "2022-12-05T16:11:19.143Z"
   },
   {
    "duration": 1071,
    "start_time": "2022-12-05T16:27:57.690Z"
   },
   {
    "duration": 8,
    "start_time": "2022-12-05T16:28:06.155Z"
   },
   {
    "duration": 340,
    "start_time": "2022-12-05T16:28:10.079Z"
   },
   {
    "duration": 160,
    "start_time": "2022-12-05T16:28:29.661Z"
   },
   {
    "duration": 351,
    "start_time": "2022-12-05T16:28:43.494Z"
   },
   {
    "duration": 312,
    "start_time": "2022-12-05T16:28:51.252Z"
   },
   {
    "duration": 244,
    "start_time": "2022-12-05T16:37:11.023Z"
   },
   {
    "duration": 12,
    "start_time": "2022-12-05T16:39:40.346Z"
   },
   {
    "duration": 1172,
    "start_time": "2022-12-05T16:39:42.883Z"
   },
   {
    "duration": 99,
    "start_time": "2022-12-05T16:40:18.612Z"
   },
   {
    "duration": 18,
    "start_time": "2022-12-05T16:40:37.314Z"
   },
   {
    "duration": 1209,
    "start_time": "2022-12-05T16:40:52.581Z"
   },
   {
    "duration": 1245,
    "start_time": "2022-12-05T16:41:00.583Z"
   },
   {
    "duration": 859,
    "start_time": "2022-12-05T16:42:38.351Z"
   },
   {
    "duration": 806,
    "start_time": "2022-12-05T16:43:01.632Z"
   },
   {
    "duration": 20,
    "start_time": "2022-12-05T17:03:53.147Z"
   },
   {
    "duration": 8,
    "start_time": "2022-12-05T17:04:01.268Z"
   },
   {
    "duration": 6,
    "start_time": "2022-12-05T17:04:11.368Z"
   },
   {
    "duration": 6,
    "start_time": "2022-12-05T17:04:32.279Z"
   },
   {
    "duration": 93,
    "start_time": "2022-12-05T17:04:49.984Z"
   },
   {
    "duration": 17,
    "start_time": "2022-12-05T17:05:12.537Z"
   },
   {
    "duration": 20,
    "start_time": "2022-12-05T17:05:23.936Z"
   },
   {
    "duration": 16,
    "start_time": "2022-12-05T17:05:36.648Z"
   },
   {
    "duration": 527,
    "start_time": "2022-12-05T17:07:27.743Z"
   },
   {
    "duration": 16,
    "start_time": "2022-12-05T17:07:28.272Z"
   },
   {
    "duration": 4,
    "start_time": "2022-12-05T17:07:28.289Z"
   },
   {
    "duration": 8,
    "start_time": "2022-12-05T17:07:28.295Z"
   },
   {
    "duration": 12,
    "start_time": "2022-12-05T17:07:28.304Z"
   },
   {
    "duration": 15,
    "start_time": "2022-12-05T17:07:28.318Z"
   },
   {
    "duration": 7,
    "start_time": "2022-12-05T17:07:28.351Z"
   },
   {
    "duration": 12,
    "start_time": "2022-12-05T17:07:28.360Z"
   },
   {
    "duration": 90,
    "start_time": "2022-12-05T17:07:28.374Z"
   },
   {
    "duration": 87,
    "start_time": "2022-12-05T17:07:28.469Z"
   },
   {
    "duration": 6,
    "start_time": "2022-12-05T17:07:28.558Z"
   },
   {
    "duration": 19,
    "start_time": "2022-12-05T17:07:28.566Z"
   },
   {
    "duration": 477,
    "start_time": "2022-12-05T17:07:28.587Z"
   },
   {
    "duration": 7,
    "start_time": "2022-12-05T17:07:29.066Z"
   },
   {
    "duration": 2676,
    "start_time": "2022-12-05T17:07:29.075Z"
   },
   {
    "duration": 941,
    "start_time": "2022-12-05T17:07:31.753Z"
   },
   {
    "duration": 178,
    "start_time": "2022-12-05T17:07:32.697Z"
   },
   {
    "duration": 20,
    "start_time": "2022-12-05T17:07:32.877Z"
   },
   {
    "duration": 1354,
    "start_time": "2022-12-05T17:07:32.899Z"
   },
   {
    "duration": 4152,
    "start_time": "2022-12-05T17:07:34.255Z"
   },
   {
    "duration": 190,
    "start_time": "2022-12-05T17:07:38.409Z"
   },
   {
    "duration": 273,
    "start_time": "2022-12-05T17:07:38.601Z"
   },
   {
    "duration": 22,
    "start_time": "2022-12-05T17:07:38.876Z"
   },
   {
    "duration": 155,
    "start_time": "2022-12-05T17:07:38.900Z"
   },
   {
    "duration": 172,
    "start_time": "2022-12-05T17:07:39.057Z"
   },
   {
    "duration": 140,
    "start_time": "2022-12-05T17:07:39.231Z"
   },
   {
    "duration": 18,
    "start_time": "2022-12-05T17:07:39.373Z"
   },
   {
    "duration": 20,
    "start_time": "2022-12-05T17:07:39.395Z"
   },
   {
    "duration": 402,
    "start_time": "2022-12-06T08:01:45.599Z"
   },
   {
    "duration": 140,
    "start_time": "2022-12-06T08:01:47.449Z"
   },
   {
    "duration": 72,
    "start_time": "2022-12-06T08:05:12.759Z"
   },
   {
    "duration": 10,
    "start_time": "2022-12-06T08:05:18.599Z"
   },
   {
    "duration": 9,
    "start_time": "2022-12-06T08:06:07.951Z"
   },
   {
    "duration": 2,
    "start_time": "2022-12-06T08:06:13.392Z"
   },
   {
    "duration": 68,
    "start_time": "2022-12-06T08:06:13.396Z"
   },
   {
    "duration": 26,
    "start_time": "2022-12-06T08:06:13.466Z"
   },
   {
    "duration": 4,
    "start_time": "2022-12-06T08:06:13.494Z"
   },
   {
    "duration": 4,
    "start_time": "2022-12-06T08:06:13.500Z"
   },
   {
    "duration": 6,
    "start_time": "2022-12-06T08:06:13.505Z"
   },
   {
    "duration": 21,
    "start_time": "2022-12-06T08:06:13.512Z"
   },
   {
    "duration": 14,
    "start_time": "2022-12-06T08:06:13.535Z"
   },
   {
    "duration": 11,
    "start_time": "2022-12-06T08:06:30.351Z"
   },
   {
    "duration": 21,
    "start_time": "2022-12-06T08:06:43.536Z"
   },
   {
    "duration": 15,
    "start_time": "2022-12-06T08:06:59.103Z"
   },
   {
    "duration": 8,
    "start_time": "2022-12-06T08:15:17.923Z"
   },
   {
    "duration": 9,
    "start_time": "2022-12-06T08:15:36.435Z"
   },
   {
    "duration": 39,
    "start_time": "2022-12-06T08:16:53.064Z"
   },
   {
    "duration": 9,
    "start_time": "2022-12-06T08:17:24.228Z"
   },
   {
    "duration": 13,
    "start_time": "2022-12-06T08:18:10.534Z"
   },
   {
    "duration": 18,
    "start_time": "2022-12-06T08:19:39.199Z"
   },
   {
    "duration": 35,
    "start_time": "2022-12-06T08:19:47.770Z"
   },
   {
    "duration": 16,
    "start_time": "2022-12-06T08:21:31.420Z"
   },
   {
    "duration": 95,
    "start_time": "2022-12-06T08:22:36.924Z"
   },
   {
    "duration": 82,
    "start_time": "2022-12-06T08:22:57.213Z"
   },
   {
    "duration": 28,
    "start_time": "2022-12-06T08:23:36.033Z"
   },
   {
    "duration": 19,
    "start_time": "2022-12-06T08:23:51.369Z"
   },
   {
    "duration": 16,
    "start_time": "2022-12-06T08:24:00.952Z"
   },
   {
    "duration": 21,
    "start_time": "2022-12-06T08:25:39.389Z"
   },
   {
    "duration": 22,
    "start_time": "2022-12-06T08:26:36.756Z"
   },
   {
    "duration": 43,
    "start_time": "2022-12-06T09:55:06.854Z"
   },
   {
    "duration": 343,
    "start_time": "2022-12-06T09:55:24.560Z"
   },
   {
    "duration": 213,
    "start_time": "2022-12-06T09:55:24.905Z"
   },
   {
    "duration": 13,
    "start_time": "2022-12-06T09:55:25.119Z"
   },
   {
    "duration": 4,
    "start_time": "2022-12-06T09:55:25.133Z"
   },
   {
    "duration": 11,
    "start_time": "2022-12-06T09:55:25.139Z"
   },
   {
    "duration": 24,
    "start_time": "2022-12-06T09:55:25.152Z"
   },
   {
    "duration": 20,
    "start_time": "2022-12-06T09:55:25.178Z"
   },
   {
    "duration": 35,
    "start_time": "2022-12-06T09:55:25.200Z"
   },
   {
    "duration": 26,
    "start_time": "2022-12-06T09:55:25.237Z"
   },
   {
    "duration": 29,
    "start_time": "2022-12-06T09:55:25.265Z"
   },
   {
    "duration": 66,
    "start_time": "2022-12-06T09:55:25.295Z"
   },
   {
    "duration": 64,
    "start_time": "2022-12-06T09:55:25.364Z"
   },
   {
    "duration": 8,
    "start_time": "2022-12-06T09:55:25.430Z"
   },
   {
    "duration": 36,
    "start_time": "2022-12-06T09:55:28.753Z"
   },
   {
    "duration": 26,
    "start_time": "2022-12-06T09:55:49.051Z"
   },
   {
    "duration": 22,
    "start_time": "2022-12-06T10:00:14.566Z"
   },
   {
    "duration": 10,
    "start_time": "2022-12-06T10:00:55.185Z"
   },
   {
    "duration": 17,
    "start_time": "2022-12-06T10:03:03.297Z"
   },
   {
    "duration": 15,
    "start_time": "2022-12-06T10:07:55.219Z"
   },
   {
    "duration": 24,
    "start_time": "2022-12-06T10:08:14.333Z"
   },
   {
    "duration": 10,
    "start_time": "2022-12-06T10:08:41.920Z"
   },
   {
    "duration": 16,
    "start_time": "2022-12-06T10:08:47.816Z"
   },
   {
    "duration": 2,
    "start_time": "2022-12-06T10:09:28.778Z"
   },
   {
    "duration": 83,
    "start_time": "2022-12-06T10:09:28.782Z"
   },
   {
    "duration": 12,
    "start_time": "2022-12-06T10:09:28.867Z"
   },
   {
    "duration": 36,
    "start_time": "2022-12-06T10:09:28.881Z"
   },
   {
    "duration": 22,
    "start_time": "2022-12-06T10:09:28.919Z"
   },
   {
    "duration": 13,
    "start_time": "2022-12-06T10:09:28.943Z"
   },
   {
    "duration": 37,
    "start_time": "2022-12-06T10:09:28.958Z"
   },
   {
    "duration": 31,
    "start_time": "2022-12-06T10:09:28.996Z"
   },
   {
    "duration": 27,
    "start_time": "2022-12-06T10:09:29.029Z"
   },
   {
    "duration": 50,
    "start_time": "2022-12-06T10:09:29.057Z"
   },
   {
    "duration": 77,
    "start_time": "2022-12-06T10:09:29.109Z"
   },
   {
    "duration": 71,
    "start_time": "2022-12-06T10:09:29.187Z"
   },
   {
    "duration": 9,
    "start_time": "2022-12-06T10:09:29.259Z"
   },
   {
    "duration": 35,
    "start_time": "2022-12-06T10:09:29.270Z"
   },
   {
    "duration": 31,
    "start_time": "2022-12-06T10:09:29.307Z"
   },
   {
    "duration": 13,
    "start_time": "2022-12-06T10:09:29.340Z"
   },
   {
    "duration": 7,
    "start_time": "2022-12-06T10:09:38.487Z"
   },
   {
    "duration": 9,
    "start_time": "2022-12-06T10:10:21.034Z"
   },
   {
    "duration": 3,
    "start_time": "2022-12-06T10:11:19.426Z"
   },
   {
    "duration": 62,
    "start_time": "2022-12-06T10:11:19.430Z"
   },
   {
    "duration": 11,
    "start_time": "2022-12-06T10:11:19.494Z"
   },
   {
    "duration": 7,
    "start_time": "2022-12-06T10:11:19.507Z"
   },
   {
    "duration": 17,
    "start_time": "2022-12-06T10:11:19.515Z"
   },
   {
    "duration": 17,
    "start_time": "2022-12-06T10:11:19.534Z"
   },
   {
    "duration": 18,
    "start_time": "2022-12-06T10:11:19.553Z"
   },
   {
    "duration": 21,
    "start_time": "2022-12-06T10:11:19.572Z"
   },
   {
    "duration": 18,
    "start_time": "2022-12-06T10:11:19.594Z"
   },
   {
    "duration": 13,
    "start_time": "2022-12-06T10:11:19.614Z"
   },
   {
    "duration": 74,
    "start_time": "2022-12-06T10:11:19.628Z"
   },
   {
    "duration": 64,
    "start_time": "2022-12-06T10:11:19.703Z"
   },
   {
    "duration": 10,
    "start_time": "2022-12-06T10:11:19.769Z"
   },
   {
    "duration": 24,
    "start_time": "2022-12-06T10:11:19.782Z"
   },
   {
    "duration": 27,
    "start_time": "2022-12-06T10:11:19.808Z"
   },
   {
    "duration": 4,
    "start_time": "2022-12-06T10:11:19.836Z"
   },
   {
    "duration": 11,
    "start_time": "2022-12-06T10:11:19.842Z"
   },
   {
    "duration": 530,
    "start_time": "2022-12-06T10:11:19.855Z"
   },
   {
    "duration": 6,
    "start_time": "2022-12-06T10:11:26.618Z"
   },
   {
    "duration": 20338,
    "start_time": "2022-12-06T10:15:09.539Z"
   },
   {
    "duration": 37824,
    "start_time": "2022-12-06T10:15:49.663Z"
   },
   {
    "duration": 20619,
    "start_time": "2022-12-06T10:17:21.917Z"
   },
   {
    "duration": 129,
    "start_time": "2022-12-06T10:17:50.298Z"
   },
   {
    "duration": 20166,
    "start_time": "2022-12-06T10:17:56.660Z"
   },
   {
    "duration": 46,
    "start_time": "2022-12-07T09:13:01.427Z"
   },
   {
    "duration": 393,
    "start_time": "2022-12-07T09:13:11.352Z"
   },
   {
    "duration": 115,
    "start_time": "2022-12-07T09:13:11.747Z"
   },
   {
    "duration": 16,
    "start_time": "2022-12-07T09:13:11.864Z"
   },
   {
    "duration": 3,
    "start_time": "2022-12-07T09:13:11.883Z"
   },
   {
    "duration": 5,
    "start_time": "2022-12-07T09:13:11.888Z"
   },
   {
    "duration": 4,
    "start_time": "2022-12-07T09:13:11.895Z"
   },
   {
    "duration": 12,
    "start_time": "2022-12-07T09:13:11.901Z"
   },
   {
    "duration": 16,
    "start_time": "2022-12-07T09:13:11.914Z"
   },
   {
    "duration": 5,
    "start_time": "2022-12-07T09:13:11.932Z"
   },
   {
    "duration": 40,
    "start_time": "2022-12-07T09:13:11.940Z"
   },
   {
    "duration": 59,
    "start_time": "2022-12-07T09:13:11.981Z"
   },
   {
    "duration": 83,
    "start_time": "2022-12-07T09:13:12.041Z"
   },
   {
    "duration": 8,
    "start_time": "2022-12-07T09:13:12.125Z"
   },
   {
    "duration": 18,
    "start_time": "2022-12-07T09:13:12.135Z"
   },
   {
    "duration": 36,
    "start_time": "2022-12-07T09:13:12.155Z"
   },
   {
    "duration": 4,
    "start_time": "2022-12-07T09:13:12.193Z"
   },
   {
    "duration": 9,
    "start_time": "2022-12-07T09:13:12.199Z"
   },
   {
    "duration": 537,
    "start_time": "2022-12-07T09:13:12.209Z"
   },
   {
    "duration": 6,
    "start_time": "2022-12-07T09:13:12.748Z"
   },
   {
    "duration": 19995,
    "start_time": "2022-12-07T09:13:37.067Z"
   },
   {
    "duration": 281,
    "start_time": "2022-12-07T09:15:56.108Z"
   },
   {
    "duration": 250,
    "start_time": "2022-12-07T09:16:50.243Z"
   },
   {
    "duration": 828,
    "start_time": "2022-12-07T09:27:38.846Z"
   },
   {
    "duration": 2448,
    "start_time": "2022-12-07T09:27:59.769Z"
   },
   {
    "duration": 1983,
    "start_time": "2022-12-07T09:29:24.639Z"
   },
   {
    "duration": 9,
    "start_time": "2022-12-07T09:35:25.487Z"
   },
   {
    "duration": 610,
    "start_time": "2022-12-07T09:35:30.928Z"
   },
   {
    "duration": 73,
    "start_time": "2022-12-07T09:35:31.541Z"
   },
   {
    "duration": 18,
    "start_time": "2022-12-07T09:35:31.616Z"
   },
   {
    "duration": 31,
    "start_time": "2022-12-07T09:35:31.637Z"
   },
   {
    "duration": 59,
    "start_time": "2022-12-07T09:35:31.670Z"
   },
   {
    "duration": 43,
    "start_time": "2022-12-07T09:35:31.731Z"
   },
   {
    "duration": 28,
    "start_time": "2022-12-07T09:35:31.775Z"
   },
   {
    "duration": 16,
    "start_time": "2022-12-07T09:35:31.805Z"
   },
   {
    "duration": 5,
    "start_time": "2022-12-07T09:35:31.823Z"
   },
   {
    "duration": 17,
    "start_time": "2022-12-07T09:35:31.831Z"
   },
   {
    "duration": 92,
    "start_time": "2022-12-07T09:35:31.849Z"
   },
   {
    "duration": 89,
    "start_time": "2022-12-07T09:35:31.943Z"
   },
   {
    "duration": 14,
    "start_time": "2022-12-07T09:35:32.034Z"
   },
   {
    "duration": 39,
    "start_time": "2022-12-07T09:35:32.050Z"
   },
   {
    "duration": 16,
    "start_time": "2022-12-07T09:35:32.096Z"
   },
   {
    "duration": 4,
    "start_time": "2022-12-07T09:35:32.114Z"
   },
   {
    "duration": 13,
    "start_time": "2022-12-07T09:35:32.120Z"
   },
   {
    "duration": 171,
    "start_time": "2022-12-07T09:35:32.134Z"
   },
   {
    "duration": 6,
    "start_time": "2022-12-07T09:35:32.307Z"
   },
   {
    "duration": 1708,
    "start_time": "2022-12-07T09:35:32.314Z"
   },
   {
    "duration": 444,
    "start_time": "2022-12-07T09:35:35.020Z"
   },
   {
    "duration": 222,
    "start_time": "2022-12-07T09:35:58.338Z"
   },
   {
    "duration": 163,
    "start_time": "2022-12-07T09:37:53.945Z"
   },
   {
    "duration": 159,
    "start_time": "2022-12-07T09:38:10.408Z"
   },
   {
    "duration": 185,
    "start_time": "2022-12-07T09:38:19.374Z"
   },
   {
    "duration": 158,
    "start_time": "2022-12-07T09:38:24.292Z"
   },
   {
    "duration": 198,
    "start_time": "2022-12-07T09:38:34.678Z"
   },
   {
    "duration": 165,
    "start_time": "2022-12-07T09:38:45.792Z"
   },
   {
    "duration": 252,
    "start_time": "2022-12-07T09:38:53.641Z"
   },
   {
    "duration": 149,
    "start_time": "2022-12-07T09:41:12.212Z"
   },
   {
    "duration": 104,
    "start_time": "2022-12-07T09:41:32.619Z"
   },
   {
    "duration": 214,
    "start_time": "2022-12-07T09:41:57.573Z"
   },
   {
    "duration": 222,
    "start_time": "2022-12-07T09:42:19.059Z"
   },
   {
    "duration": 240,
    "start_time": "2022-12-07T09:42:25.124Z"
   },
   {
    "duration": 197,
    "start_time": "2022-12-07T09:42:31.341Z"
   },
   {
    "duration": 293,
    "start_time": "2022-12-07T09:42:36.492Z"
   },
   {
    "duration": 250,
    "start_time": "2022-12-07T09:42:44.802Z"
   },
   {
    "duration": 199,
    "start_time": "2022-12-07T09:42:51.640Z"
   },
   {
    "duration": 223,
    "start_time": "2022-12-07T09:42:56.473Z"
   },
   {
    "duration": 220,
    "start_time": "2022-12-07T09:43:03.807Z"
   },
   {
    "duration": 202,
    "start_time": "2022-12-07T09:43:13.841Z"
   },
   {
    "duration": 222,
    "start_time": "2022-12-07T09:43:21.457Z"
   },
   {
    "duration": 333,
    "start_time": "2022-12-07T09:43:31.744Z"
   },
   {
    "duration": 216,
    "start_time": "2022-12-07T09:45:11.686Z"
   },
   {
    "duration": 233,
    "start_time": "2022-12-07T09:45:19.006Z"
   },
   {
    "duration": 211,
    "start_time": "2022-12-07T09:45:28.291Z"
   },
   {
    "duration": 251,
    "start_time": "2022-12-07T09:45:35.104Z"
   },
   {
    "duration": 223,
    "start_time": "2022-12-07T09:45:49.161Z"
   },
   {
    "duration": 219,
    "start_time": "2022-12-07T09:45:55.097Z"
   },
   {
    "duration": 256,
    "start_time": "2022-12-07T09:46:05.446Z"
   },
   {
    "duration": 232,
    "start_time": "2022-12-07T09:46:14.412Z"
   },
   {
    "duration": 144,
    "start_time": "2022-12-07T09:48:12.875Z"
   },
   {
    "duration": 382,
    "start_time": "2022-12-07T09:48:58.743Z"
   },
   {
    "duration": 269,
    "start_time": "2022-12-07T09:49:04.744Z"
   },
   {
    "duration": 232,
    "start_time": "2022-12-07T09:49:10.590Z"
   },
   {
    "duration": 245,
    "start_time": "2022-12-07T09:49:15.402Z"
   },
   {
    "duration": 214,
    "start_time": "2022-12-07T09:49:21.944Z"
   },
   {
    "duration": 261,
    "start_time": "2022-12-07T09:49:31.110Z"
   },
   {
    "duration": 218,
    "start_time": "2022-12-07T09:49:41.538Z"
   },
   {
    "duration": 244,
    "start_time": "2022-12-07T09:49:48.290Z"
   },
   {
    "duration": 234,
    "start_time": "2022-12-07T09:50:07.557Z"
   },
   {
    "duration": 247,
    "start_time": "2022-12-07T09:50:19.692Z"
   },
   {
    "duration": 259,
    "start_time": "2022-12-07T09:51:39.943Z"
   },
   {
    "duration": 490,
    "start_time": "2022-12-07T09:51:50.550Z"
   },
   {
    "duration": 292,
    "start_time": "2022-12-07T09:52:23.954Z"
   },
   {
    "duration": 431,
    "start_time": "2022-12-07T09:52:46.692Z"
   },
   {
    "duration": 352,
    "start_time": "2022-12-07T09:52:59.645Z"
   },
   {
    "duration": 253,
    "start_time": "2022-12-07T09:53:09.698Z"
   },
   {
    "duration": 139,
    "start_time": "2022-12-07T09:56:39.598Z"
   },
   {
    "duration": 904,
    "start_time": "2022-12-07T10:07:09.214Z"
   },
   {
    "duration": 18,
    "start_time": "2022-12-07T10:08:46.133Z"
   },
   {
    "duration": 3,
    "start_time": "2022-12-07T10:08:58.927Z"
   },
   {
    "duration": 67,
    "start_time": "2022-12-07T10:08:58.932Z"
   },
   {
    "duration": 14,
    "start_time": "2022-12-07T10:08:59.001Z"
   },
   {
    "duration": 4,
    "start_time": "2022-12-07T10:08:59.016Z"
   },
   {
    "duration": 5,
    "start_time": "2022-12-07T10:08:59.022Z"
   },
   {
    "duration": 8,
    "start_time": "2022-12-07T10:08:59.028Z"
   },
   {
    "duration": 11,
    "start_time": "2022-12-07T10:08:59.038Z"
   },
   {
    "duration": 34,
    "start_time": "2022-12-07T10:08:59.050Z"
   },
   {
    "duration": 5,
    "start_time": "2022-12-07T10:08:59.085Z"
   },
   {
    "duration": 9,
    "start_time": "2022-12-07T10:08:59.092Z"
   },
   {
    "duration": 78,
    "start_time": "2022-12-07T10:08:59.103Z"
   },
   {
    "duration": 68,
    "start_time": "2022-12-07T10:08:59.183Z"
   },
   {
    "duration": 24,
    "start_time": "2022-12-07T10:08:59.253Z"
   },
   {
    "duration": 12,
    "start_time": "2022-12-07T10:08:59.279Z"
   },
   {
    "duration": 15,
    "start_time": "2022-12-07T10:08:59.293Z"
   },
   {
    "duration": 4,
    "start_time": "2022-12-07T10:08:59.310Z"
   },
   {
    "duration": 15,
    "start_time": "2022-12-07T10:08:59.315Z"
   },
   {
    "duration": 169,
    "start_time": "2022-12-07T10:08:59.332Z"
   },
   {
    "duration": 6,
    "start_time": "2022-12-07T10:08:59.503Z"
   },
   {
    "duration": 1612,
    "start_time": "2022-12-07T10:08:59.511Z"
   },
   {
    "duration": 237,
    "start_time": "2022-12-07T10:09:01.125Z"
   },
   {
    "duration": 255,
    "start_time": "2022-12-07T10:09:01.364Z"
   },
   {
    "duration": 142,
    "start_time": "2022-12-07T10:09:01.620Z"
   },
   {
    "duration": 17,
    "start_time": "2022-12-07T10:09:05.700Z"
   },
   {
    "duration": 14,
    "start_time": "2022-12-07T10:11:08.704Z"
   },
   {
    "duration": 28,
    "start_time": "2022-12-07T10:11:48.553Z"
   },
   {
    "duration": 7,
    "start_time": "2022-12-07T10:13:32.373Z"
   },
   {
    "duration": 3,
    "start_time": "2022-12-07T10:13:51.225Z"
   },
   {
    "duration": 66,
    "start_time": "2022-12-07T10:13:51.230Z"
   },
   {
    "duration": 14,
    "start_time": "2022-12-07T10:13:51.297Z"
   },
   {
    "duration": 11,
    "start_time": "2022-12-07T10:13:51.312Z"
   },
   {
    "duration": 28,
    "start_time": "2022-12-07T10:13:51.325Z"
   },
   {
    "duration": 22,
    "start_time": "2022-12-07T10:13:51.354Z"
   },
   {
    "duration": 15,
    "start_time": "2022-12-07T10:13:51.378Z"
   },
   {
    "duration": 15,
    "start_time": "2022-12-07T10:13:51.395Z"
   },
   {
    "duration": 5,
    "start_time": "2022-12-07T10:13:51.411Z"
   },
   {
    "duration": 8,
    "start_time": "2022-12-07T10:13:51.418Z"
   },
   {
    "duration": 72,
    "start_time": "2022-12-07T10:13:51.428Z"
   },
   {
    "duration": 85,
    "start_time": "2022-12-07T10:13:51.502Z"
   },
   {
    "duration": 8,
    "start_time": "2022-12-07T10:13:51.589Z"
   },
   {
    "duration": 16,
    "start_time": "2022-12-07T10:13:51.599Z"
   },
   {
    "duration": 18,
    "start_time": "2022-12-07T10:13:51.617Z"
   },
   {
    "duration": 4,
    "start_time": "2022-12-07T10:13:51.637Z"
   },
   {
    "duration": 40,
    "start_time": "2022-12-07T10:13:51.643Z"
   },
   {
    "duration": 170,
    "start_time": "2022-12-07T10:13:51.685Z"
   },
   {
    "duration": 6,
    "start_time": "2022-12-07T10:13:51.857Z"
   },
   {
    "duration": 1774,
    "start_time": "2022-12-07T10:13:51.864Z"
   },
   {
    "duration": 247,
    "start_time": "2022-12-07T10:13:53.640Z"
   },
   {
    "duration": 234,
    "start_time": "2022-12-07T10:13:53.889Z"
   },
   {
    "duration": 141,
    "start_time": "2022-12-07T10:13:54.124Z"
   },
   {
    "duration": 8,
    "start_time": "2022-12-07T10:13:58.686Z"
   },
   {
    "duration": 6,
    "start_time": "2022-12-07T10:14:11.384Z"
   },
   {
    "duration": 5,
    "start_time": "2022-12-07T10:14:31.432Z"
   },
   {
    "duration": 5,
    "start_time": "2022-12-07T10:14:41.267Z"
   },
   {
    "duration": 156,
    "start_time": "2022-12-07T10:16:03.153Z"
   },
   {
    "duration": 876,
    "start_time": "2022-12-07T10:25:42.630Z"
   },
   {
    "duration": 852,
    "start_time": "2022-12-07T10:26:14.370Z"
   },
   {
    "duration": 10,
    "start_time": "2022-12-07T10:34:08.259Z"
   },
   {
    "duration": 4,
    "start_time": "2022-12-07T10:34:13.400Z"
   },
   {
    "duration": 65,
    "start_time": "2022-12-07T10:36:43.687Z"
   },
   {
    "duration": 7,
    "start_time": "2022-12-07T10:36:52.202Z"
   },
   {
    "duration": 60,
    "start_time": "2022-12-07T10:36:53.755Z"
   },
   {
    "duration": 57,
    "start_time": "2022-12-07T10:37:33.236Z"
   },
   {
    "duration": 4,
    "start_time": "2022-12-07T10:37:41.305Z"
   },
   {
    "duration": 4,
    "start_time": "2022-12-07T10:42:18.007Z"
   },
   {
    "duration": 7,
    "start_time": "2022-12-07T10:42:19.305Z"
   },
   {
    "duration": 53,
    "start_time": "2022-12-07T10:42:20.453Z"
   },
   {
    "duration": 4,
    "start_time": "2022-12-07T10:43:48.924Z"
   },
   {
    "duration": 73,
    "start_time": "2022-12-07T10:43:50.042Z"
   },
   {
    "duration": 13,
    "start_time": "2022-12-07T10:43:55.886Z"
   },
   {
    "duration": 3,
    "start_time": "2022-12-07T10:44:03.373Z"
   },
   {
    "duration": 10,
    "start_time": "2022-12-07T10:44:07.270Z"
   },
   {
    "duration": 16,
    "start_time": "2022-12-07T10:44:10.439Z"
   },
   {
    "duration": 6,
    "start_time": "2022-12-07T10:44:18.934Z"
   },
   {
    "duration": 10,
    "start_time": "2022-12-07T10:44:21.139Z"
   },
   {
    "duration": 8,
    "start_time": "2022-12-07T10:44:22.323Z"
   },
   {
    "duration": 83,
    "start_time": "2022-12-07T10:44:24.778Z"
   },
   {
    "duration": 69,
    "start_time": "2022-12-07T10:44:30.904Z"
   },
   {
    "duration": 14,
    "start_time": "2022-12-07T10:44:36.055Z"
   },
   {
    "duration": 17,
    "start_time": "2022-12-07T10:44:40.323Z"
   },
   {
    "duration": 5,
    "start_time": "2022-12-07T10:45:13.368Z"
   },
   {
    "duration": 4,
    "start_time": "2022-12-07T10:45:21.488Z"
   },
   {
    "duration": 8,
    "start_time": "2022-12-07T10:45:27.499Z"
   },
   {
    "duration": 166,
    "start_time": "2022-12-07T10:45:34.152Z"
   },
   {
    "duration": 11,
    "start_time": "2022-12-07T10:45:44.733Z"
   },
   {
    "duration": 1621,
    "start_time": "2022-12-07T10:45:47.887Z"
   },
   {
    "duration": 219,
    "start_time": "2022-12-07T10:46:06.804Z"
   },
   {
    "duration": 259,
    "start_time": "2022-12-07T10:46:10.871Z"
   },
   {
    "duration": 156,
    "start_time": "2022-12-07T10:47:11.871Z"
   },
   {
    "duration": 148,
    "start_time": "2022-12-07T10:47:16.056Z"
   },
   {
    "duration": 1192,
    "start_time": "2022-12-07T10:47:22.700Z"
   },
   {
    "duration": 1729,
    "start_time": "2022-12-07T11:14:21.153Z"
   },
   {
    "duration": 182,
    "start_time": "2022-12-07T11:16:49.981Z"
   },
   {
    "duration": 196,
    "start_time": "2022-12-07T11:18:11.744Z"
   },
   {
    "duration": 160,
    "start_time": "2022-12-07T11:18:39.662Z"
   },
   {
    "duration": 148,
    "start_time": "2022-12-07T11:18:42.030Z"
   },
   {
    "duration": 166,
    "start_time": "2022-12-07T11:18:42.800Z"
   },
   {
    "duration": 282,
    "start_time": "2022-12-07T11:26:27.553Z"
   },
   {
    "duration": 241,
    "start_time": "2022-12-07T11:26:34.552Z"
   },
   {
    "duration": 293,
    "start_time": "2022-12-07T11:26:39.448Z"
   },
   {
    "duration": 266,
    "start_time": "2022-12-07T11:26:46.270Z"
   },
   {
    "duration": 283,
    "start_time": "2022-12-07T11:27:06.548Z"
   },
   {
    "duration": 267,
    "start_time": "2022-12-07T11:27:19.855Z"
   },
   {
    "duration": 261,
    "start_time": "2022-12-07T11:27:25.742Z"
   },
   {
    "duration": 570,
    "start_time": "2022-12-07T11:27:50.011Z"
   },
   {
    "duration": 308,
    "start_time": "2022-12-07T11:27:55.665Z"
   },
   {
    "duration": 273,
    "start_time": "2022-12-07T11:28:09.936Z"
   },
   {
    "duration": 273,
    "start_time": "2022-12-07T11:28:32.414Z"
   },
   {
    "duration": 282,
    "start_time": "2022-12-07T11:28:40.069Z"
   },
   {
    "duration": 288,
    "start_time": "2022-12-07T11:29:05.499Z"
   },
   {
    "duration": 262,
    "start_time": "2022-12-07T11:29:11.138Z"
   },
   {
    "duration": 240,
    "start_time": "2022-12-07T11:30:03.733Z"
   },
   {
    "duration": 260,
    "start_time": "2022-12-07T11:30:12.918Z"
   },
   {
    "duration": 244,
    "start_time": "2022-12-07T11:30:46.682Z"
   },
   {
    "duration": 266,
    "start_time": "2022-12-07T11:32:18.201Z"
   },
   {
    "duration": 121,
    "start_time": "2022-12-07T11:32:53.547Z"
   },
   {
    "duration": 132,
    "start_time": "2022-12-07T11:33:04.800Z"
   },
   {
    "duration": 129,
    "start_time": "2022-12-07T11:33:11.402Z"
   },
   {
    "duration": 3,
    "start_time": "2022-12-07T12:01:26.089Z"
   },
   {
    "duration": 63,
    "start_time": "2022-12-07T12:01:27.609Z"
   },
   {
    "duration": 14,
    "start_time": "2022-12-07T12:01:30.836Z"
   },
   {
    "duration": 719,
    "start_time": "2022-12-07T12:07:01.792Z"
   },
   {
    "duration": 4,
    "start_time": "2022-12-07T12:07:16.889Z"
   },
   {
    "duration": 9,
    "start_time": "2022-12-07T12:07:20.256Z"
   },
   {
    "duration": 16,
    "start_time": "2022-12-07T12:07:22.978Z"
   },
   {
    "duration": 6,
    "start_time": "2022-12-07T12:07:29.904Z"
   },
   {
    "duration": 8,
    "start_time": "2022-12-07T12:07:32.362Z"
   },
   {
    "duration": 7,
    "start_time": "2022-12-07T12:07:36.312Z"
   },
   {
    "duration": 65,
    "start_time": "2022-12-07T12:07:37.594Z"
   },
   {
    "duration": 57,
    "start_time": "2022-12-07T12:07:46.077Z"
   },
   {
    "duration": 14,
    "start_time": "2022-12-07T12:07:50.429Z"
   },
   {
    "duration": 16,
    "start_time": "2022-12-07T12:07:56.377Z"
   },
   {
    "duration": 4,
    "start_time": "2022-12-07T12:08:05.406Z"
   },
   {
    "duration": 219,
    "start_time": "2022-12-07T12:11:43.943Z"
   },
   {
    "duration": 1622,
    "start_time": "2022-12-07T12:11:50.207Z"
   },
   {
    "duration": 2066,
    "start_time": "2022-12-07T12:19:01.693Z"
   },
   {
    "duration": 230,
    "start_time": "2022-12-07T12:25:11.092Z"
   },
   {
    "duration": 251,
    "start_time": "2022-12-07T12:25:13.547Z"
   },
   {
    "duration": 231,
    "start_time": "2022-12-07T12:25:15.726Z"
   },
   {
    "duration": 162,
    "start_time": "2022-12-07T12:29:31.007Z"
   },
   {
    "duration": 147,
    "start_time": "2022-12-07T12:29:42.425Z"
   },
   {
    "duration": 850,
    "start_time": "2022-12-07T12:32:39.414Z"
   },
   {
    "duration": 161,
    "start_time": "2022-12-07T12:36:38.840Z"
   },
   {
    "duration": 159,
    "start_time": "2022-12-07T12:36:48.827Z"
   },
   {
    "duration": 254,
    "start_time": "2022-12-07T12:36:54.116Z"
   },
   {
    "duration": 268,
    "start_time": "2022-12-07T12:37:01.330Z"
   },
   {
    "duration": 1094,
    "start_time": "2022-12-07T13:39:32.032Z"
   },
   {
    "duration": 97,
    "start_time": "2022-12-07T13:39:33.128Z"
   },
   {
    "duration": 27,
    "start_time": "2022-12-07T13:39:33.227Z"
   },
   {
    "duration": 47,
    "start_time": "2022-12-07T13:39:33.256Z"
   },
   {
    "duration": 35,
    "start_time": "2022-12-07T13:39:33.305Z"
   },
   {
    "duration": 28,
    "start_time": "2022-12-07T13:39:33.344Z"
   },
   {
    "duration": 53,
    "start_time": "2022-12-07T13:39:33.374Z"
   },
   {
    "duration": 36,
    "start_time": "2022-12-07T13:39:33.429Z"
   },
   {
    "duration": 39,
    "start_time": "2022-12-07T13:39:33.466Z"
   },
   {
    "duration": 25,
    "start_time": "2022-12-07T13:39:33.507Z"
   },
   {
    "duration": 33,
    "start_time": "2022-12-07T13:39:33.533Z"
   },
   {
    "duration": 86,
    "start_time": "2022-12-07T13:39:33.568Z"
   },
   {
    "duration": 61,
    "start_time": "2022-12-07T13:39:33.655Z"
   },
   {
    "duration": 12,
    "start_time": "2022-12-07T13:39:33.719Z"
   },
   {
    "duration": 46,
    "start_time": "2022-12-07T13:39:33.733Z"
   },
   {
    "duration": 7,
    "start_time": "2022-12-07T13:39:33.780Z"
   },
   {
    "duration": 26,
    "start_time": "2022-12-07T13:39:33.788Z"
   },
   {
    "duration": 25,
    "start_time": "2022-12-07T13:39:33.816Z"
   },
   {
    "duration": 196,
    "start_time": "2022-12-07T13:39:33.843Z"
   },
   {
    "duration": 8,
    "start_time": "2022-12-07T13:39:34.041Z"
   },
   {
    "duration": 1968,
    "start_time": "2022-12-07T13:39:34.051Z"
   },
   {
    "duration": 271,
    "start_time": "2022-12-07T13:39:36.021Z"
   },
   {
    "duration": 348,
    "start_time": "2022-12-07T13:39:36.294Z"
   },
   {
    "duration": 243,
    "start_time": "2022-12-07T13:39:36.644Z"
   },
   {
    "duration": 152,
    "start_time": "2022-12-07T13:39:36.889Z"
   },
   {
    "duration": 179,
    "start_time": "2022-12-07T13:39:37.043Z"
   },
   {
    "duration": 868,
    "start_time": "2022-12-07T13:39:37.223Z"
   },
   {
    "duration": 171,
    "start_time": "2022-12-07T13:39:38.093Z"
   },
   {
    "duration": 354,
    "start_time": "2022-12-07T13:39:38.266Z"
   },
   {
    "duration": 269,
    "start_time": "2022-12-07T13:39:38.622Z"
   },
   {
    "duration": 18,
    "start_time": "2022-12-07T13:39:38.894Z"
   },
   {
    "duration": 131,
    "start_time": "2022-12-07T13:39:38.913Z"
   },
   {
    "duration": 145,
    "start_time": "2022-12-07T13:39:39.046Z"
   },
   {
    "duration": 115,
    "start_time": "2022-12-07T13:39:39.193Z"
   },
   {
    "duration": 10,
    "start_time": "2022-12-07T13:39:39.310Z"
   },
   {
    "duration": 21,
    "start_time": "2022-12-07T13:39:39.322Z"
   },
   {
    "duration": 49,
    "start_time": "2022-12-07T15:35:34.089Z"
   },
   {
    "duration": 1343,
    "start_time": "2022-12-07T15:35:40.084Z"
   },
   {
    "duration": 124,
    "start_time": "2022-12-07T15:35:41.429Z"
   },
   {
    "duration": 16,
    "start_time": "2022-12-07T15:35:41.554Z"
   },
   {
    "duration": 12,
    "start_time": "2022-12-07T15:35:41.572Z"
   },
   {
    "duration": 6,
    "start_time": "2022-12-07T15:35:41.587Z"
   },
   {
    "duration": 13,
    "start_time": "2022-12-07T15:35:41.595Z"
   },
   {
    "duration": 18,
    "start_time": "2022-12-07T15:35:41.610Z"
   },
   {
    "duration": 27,
    "start_time": "2022-12-07T15:35:41.629Z"
   },
   {
    "duration": 5,
    "start_time": "2022-12-07T15:35:41.658Z"
   },
   {
    "duration": 10,
    "start_time": "2022-12-07T15:35:41.664Z"
   },
   {
    "duration": 16,
    "start_time": "2022-12-07T15:35:41.676Z"
   },
   {
    "duration": 75,
    "start_time": "2022-12-07T15:35:41.694Z"
   },
   {
    "duration": 60,
    "start_time": "2022-12-07T15:35:41.771Z"
   },
   {
    "duration": 28,
    "start_time": "2022-12-07T15:35:41.833Z"
   },
   {
    "duration": 20,
    "start_time": "2022-12-07T15:35:45.219Z"
   },
   {
    "duration": 1165,
    "start_time": "2022-12-07T15:36:58.489Z"
   },
   {
    "duration": 72,
    "start_time": "2022-12-07T15:36:59.656Z"
   },
   {
    "duration": 15,
    "start_time": "2022-12-07T15:36:59.730Z"
   },
   {
    "duration": 4,
    "start_time": "2022-12-07T15:36:59.747Z"
   },
   {
    "duration": 9,
    "start_time": "2022-12-07T15:36:59.753Z"
   },
   {
    "duration": 8,
    "start_time": "2022-12-07T15:36:59.763Z"
   },
   {
    "duration": 13,
    "start_time": "2022-12-07T15:36:59.773Z"
   },
   {
    "duration": 20,
    "start_time": "2022-12-07T15:36:59.788Z"
   },
   {
    "duration": 8,
    "start_time": "2022-12-07T15:36:59.809Z"
   },
   {
    "duration": 14,
    "start_time": "2022-12-07T15:36:59.821Z"
   },
   {
    "duration": 22,
    "start_time": "2022-12-07T15:36:59.837Z"
   },
   {
    "duration": 70,
    "start_time": "2022-12-07T15:36:59.861Z"
   },
   {
    "duration": 80,
    "start_time": "2022-12-07T15:36:59.932Z"
   },
   {
    "duration": 16,
    "start_time": "2022-12-07T15:37:00.013Z"
   },
   {
    "duration": 38,
    "start_time": "2022-12-07T15:37:00.031Z"
   },
   {
    "duration": 4,
    "start_time": "2022-12-07T15:37:00.071Z"
   },
   {
    "duration": 23,
    "start_time": "2022-12-07T15:37:00.077Z"
   },
   {
    "duration": 15,
    "start_time": "2022-12-07T15:37:00.102Z"
   },
   {
    "duration": 210,
    "start_time": "2022-12-07T15:37:00.119Z"
   },
   {
    "duration": 7,
    "start_time": "2022-12-07T15:37:00.331Z"
   },
   {
    "duration": 1875,
    "start_time": "2022-12-07T15:37:00.340Z"
   },
   {
    "duration": 255,
    "start_time": "2022-12-07T15:37:02.217Z"
   },
   {
    "duration": 347,
    "start_time": "2022-12-07T15:37:02.473Z"
   },
   {
    "duration": 267,
    "start_time": "2022-12-07T15:37:02.822Z"
   },
   {
    "duration": 169,
    "start_time": "2022-12-07T15:37:03.091Z"
   },
   {
    "duration": 174,
    "start_time": "2022-12-07T15:37:03.262Z"
   },
   {
    "duration": 1021,
    "start_time": "2022-12-07T15:37:03.438Z"
   },
   {
    "duration": 202,
    "start_time": "2022-12-07T15:37:04.463Z"
   },
   {
    "duration": 426,
    "start_time": "2022-12-07T15:37:04.668Z"
   },
   {
    "duration": 268,
    "start_time": "2022-12-07T15:37:05.096Z"
   },
   {
    "duration": 20,
    "start_time": "2022-12-07T15:37:05.365Z"
   },
   {
    "duration": 137,
    "start_time": "2022-12-07T15:37:05.387Z"
   },
   {
    "duration": 139,
    "start_time": "2022-12-07T15:37:05.525Z"
   },
   {
    "duration": 133,
    "start_time": "2022-12-07T15:37:05.665Z"
   },
   {
    "duration": 11,
    "start_time": "2022-12-07T15:37:05.800Z"
   },
   {
    "duration": 35,
    "start_time": "2022-12-07T15:37:05.813Z"
   }
  ],
  "kernelspec": {
   "display_name": "Python 3 (ipykernel)",
   "language": "python",
   "name": "python3"
  },
  "language_info": {
   "codemirror_mode": {
    "name": "ipython",
    "version": 3
   },
   "file_extension": ".py",
   "mimetype": "text/x-python",
   "name": "python",
   "nbconvert_exporter": "python",
   "pygments_lexer": "ipython3",
   "version": "3.9.13"
  },
  "toc": {
   "base_numbering": 1,
   "nav_menu": {
    "height": "287px",
    "width": "279px"
   },
   "number_sections": true,
   "sideBar": true,
   "skip_h1_title": true,
   "title_cell": "СОДЕРЖАНИЕ",
   "title_sidebar": "СОДЕРЖАНИЕ",
   "toc_cell": true,
   "toc_position": {},
   "toc_section_display": true,
   "toc_window_display": false
  }
 },
 "nbformat": 4,
 "nbformat_minor": 2
}
