{
 "cells": [
  {
   "cell_type": "markdown",
   "metadata": {},
   "source": [
    "#  Прогнозирование заказов такси / Taxi order forecasting"
   ]
  },
  {
   "cell_type": "markdown",
   "metadata": {},
   "source": [
    "Собраны исторические данные о заказах такси в аэропортах. Чтобы привлекать больше водителей в период пиковой нагрузки, нужно спрогнозировать количество заказов такси на следующий час, построить модель для такого предсказания.\n",
    "\n",
    "Значение метрики *RMSE* на тестовой выборке должно быть не больше 48.\n",
    "\n",
    "Этапы:\n",
    "\n",
    "1. Загрузить данные и выполнить их ресемплирование по одному часу.\n",
    "2. Проанализировать данные.\n",
    "3. Обучить разные модели с различными гиперпараметрами. Сделать тестовую выборку размером 10% от исходных данных.\n",
    "4. Проверить данные на тестовой выборке и сделать выводы.\n",
    "\n",
    "Historical data on taxi orders at airports has been collected. To attract more drivers during peak periods, you need to predict the number of taxi orders for the next hour and build a model for such a prediction.\n",
    "\n",
    "The *RMSE* metric value on the test sample should be no more than 48.\n",
    "\n",
    "Stages:\n",
    "\n",
    "1. Load the data and resample it one hour at a time.\n",
    "2. Analyze the data.\n",
    "3. Train different models with different hyperparameters. Make a test sample of 10% of the original data.\n",
    "4. Check the data on a test sample and draw conclusions."
   ]
  },
  {
   "cell_type": "markdown",
   "metadata": {},
   "source": [
    "## Подготовка / Preparation"
   ]
  },
  {
   "cell_type": "code",
   "execution_count": 1,
   "metadata": {},
   "outputs": [],
   "source": [
    "import pandas as pd\n",
    "from sklearn.model_selection import train_test_split\n",
    "from sklearn.metrics import mean_squared_error\n",
    "from sklearn.linear_model import LinearRegression\n",
    "from sklearn.model_selection import GridSearchCV\n",
    "from catboost import CatBoostRegressor\n",
    "import numpy as np\n",
    "from sklearn.ensemble import RandomForestRegressor\n",
    "import warnings\n",
    "\n",
    "warnings.filterwarnings('ignore')"
   ]
  },
  {
   "cell_type": "code",
   "execution_count": 2,
   "metadata": {},
   "outputs": [
    {
     "data": {
      "text/html": [
       "<div>\n",
       "<style scoped>\n",
       "    .dataframe tbody tr th:only-of-type {\n",
       "        vertical-align: middle;\n",
       "    }\n",
       "\n",
       "    .dataframe tbody tr th {\n",
       "        vertical-align: top;\n",
       "    }\n",
       "\n",
       "    .dataframe thead th {\n",
       "        text-align: right;\n",
       "    }\n",
       "</style>\n",
       "<table border=\"1\" class=\"dataframe\">\n",
       "  <thead>\n",
       "    <tr style=\"text-align: right;\">\n",
       "      <th></th>\n",
       "      <th>num_orders</th>\n",
       "    </tr>\n",
       "    <tr>\n",
       "      <th>datetime</th>\n",
       "      <th></th>\n",
       "    </tr>\n",
       "  </thead>\n",
       "  <tbody>\n",
       "    <tr>\n",
       "      <th>2018-03-01 00:00:00</th>\n",
       "      <td>9</td>\n",
       "    </tr>\n",
       "    <tr>\n",
       "      <th>2018-03-01 00:10:00</th>\n",
       "      <td>14</td>\n",
       "    </tr>\n",
       "    <tr>\n",
       "      <th>2018-03-01 00:20:00</th>\n",
       "      <td>28</td>\n",
       "    </tr>\n",
       "    <tr>\n",
       "      <th>2018-03-01 00:30:00</th>\n",
       "      <td>20</td>\n",
       "    </tr>\n",
       "    <tr>\n",
       "      <th>2018-03-01 00:40:00</th>\n",
       "      <td>32</td>\n",
       "    </tr>\n",
       "  </tbody>\n",
       "</table>\n",
       "</div>"
      ],
      "text/plain": [
       "                     num_orders\n",
       "datetime                       \n",
       "2018-03-01 00:00:00           9\n",
       "2018-03-01 00:10:00          14\n",
       "2018-03-01 00:20:00          28\n",
       "2018-03-01 00:30:00          20\n",
       "2018-03-01 00:40:00          32"
      ]
     },
     "metadata": {},
     "output_type": "display_data"
    }
   ],
   "source": [
    "data = pd.read_csv('/Users/vladamalkina/Downloads/taxi.csv', index_col=[0], parse_dates=[0])\n",
    "data.sort_index(inplace=True)\n",
    "display(data.head())"
   ]
  },
  {
   "cell_type": "code",
   "execution_count": 3,
   "metadata": {},
   "outputs": [
    {
     "name": "stdout",
     "output_type": "stream",
     "text": [
      "True\n"
     ]
    },
    {
     "data": {
      "text/plain": [
       "num_orders    0\n",
       "dtype: int64"
      ]
     },
     "execution_count": 3,
     "metadata": {},
     "output_type": "execute_result"
    }
   ],
   "source": [
    "print(data.index.is_monotonic)\n",
    "data.isna().sum()"
   ]
  },
  {
   "cell_type": "code",
   "execution_count": 4,
   "metadata": {},
   "outputs": [
    {
     "name": "stdout",
     "output_type": "stream",
     "text": [
      "<class 'pandas.core.frame.DataFrame'>\n",
      "DatetimeIndex: 26496 entries, 2018-03-01 00:00:00 to 2018-08-31 23:50:00\n",
      "Data columns (total 1 columns):\n",
      " #   Column      Non-Null Count  Dtype\n",
      "---  ------      --------------  -----\n",
      " 0   num_orders  26496 non-null  int64\n",
      "dtypes: int64(1)\n",
      "memory usage: 414.0 KB\n"
     ]
    }
   ],
   "source": [
    "data.info()"
   ]
  },
  {
   "cell_type": "markdown",
   "metadata": {},
   "source": [
    "Ресемплирование данных по одному часу: / Resampling data one hour at a time:"
   ]
  },
  {
   "cell_type": "code",
   "execution_count": 5,
   "metadata": {},
   "outputs": [],
   "source": [
    "data = data.resample('1H').sum()"
   ]
  },
  {
   "cell_type": "markdown",
   "metadata": {},
   "source": [
    "## Анализ / Анализ"
   ]
  },
  {
   "cell_type": "code",
   "execution_count": 6,
   "metadata": {},
   "outputs": [],
   "source": [
    "from statsmodels.tsa.seasonal import seasonal_decompose\n",
    "\n",
    "decomposed = seasonal_decompose(data)"
   ]
  },
  {
   "cell_type": "code",
   "execution_count": 7,
   "metadata": {},
   "outputs": [
    {
     "data": {
      "image/png": "[encoded data removed]",
      "text/plain": [
       "<Figure size 1000x1300 with 3 Axes>"
      ]
     },
     "metadata": {},
     "output_type": "display_data"
    }
   ],
   "source": [
    "import matplotlib.pyplot as plt\n",
    "plt.figure(figsize=(10, 13))\n",
    "plt.subplot(311)\n",
    "decomposed.trend.plot(ax=plt.gca())\n",
    "plt.title('Trend')\n",
    "plt.subplot(312)\n",
    "decomposed.seasonal.plot(ax=plt.gca())\n",
    "plt.title('Seasonality')\n",
    "plt.subplot(313)\n",
    "decomposed.resid.plot(ax=plt.gca())\n",
    "plt.title('Residuals')\n",
    "plt.tight_layout()"
   ]
  },
  {
   "cell_type": "code",
   "execution_count": 8,
   "metadata": {},
   "outputs": [
    {
     "data": {
      "text/plain": [
       "<AxesSubplot:xlabel='datetime'>"
      ]
     },
     "execution_count": 8,
     "metadata": {},
     "output_type": "execute_result"
    },
    {
     "data": {
      "image/png": "[encoded data removed]",
      "text/plain": [
       "<Figure size 640x480 with 1 Axes>"
      ]
     },
     "metadata": {},
     "output_type": "display_data"
    }
   ],
   "source": [
    "data['rolling_mean'] = data.rolling(10).mean()\n",
    "data.plot()"
   ]
  },
  {
   "cell_type": "markdown",
   "metadata": {},
   "source": [
    "Создание признаков для временных рядов: / Creating features for time series:"
   ]
  },
  {
   "cell_type": "code",
   "execution_count": 9,
   "metadata": {},
   "outputs": [],
   "source": [
    "def make_features(data, max_lag, rolling_mean_size):\n",
    "    for lag in range(1, max_lag + 1):\n",
    "        data['dayofweek'] = data.index.dayofweek\n",
    "        data['hour'] = data.index.hour\n",
    "        \n",
    "        for lag in range(1, max_lag + 1):\n",
    "            data['lag_{}'.format(lag)] = data['num_orders'].shift(lag)\n",
    "\n",
    "        data['rolling_mean'] = data['num_orders'].shift().rolling(rolling_mean_size).mean()"
   ]
  },
  {
   "cell_type": "code",
   "execution_count": 10,
   "metadata": {
    "scrolled": true
   },
   "outputs": [
    {
     "name": "stdout",
     "output_type": "stream",
     "text": [
      "<class 'pandas.core.frame.DataFrame'>\n",
      "DatetimeIndex: 4416 entries, 2018-03-01 00:00:00 to 2018-08-31 23:00:00\n",
      "Freq: H\n",
      "Data columns (total 5 columns):\n",
      " #   Column        Non-Null Count  Dtype  \n",
      "---  ------        --------------  -----  \n",
      " 0   num_orders    4416 non-null   int64  \n",
      " 1   rolling_mean  4392 non-null   float64\n",
      " 2   dayofweek     4416 non-null   int64  \n",
      " 3   hour          4416 non-null   int64  \n",
      " 4   lag_1         4415 non-null   float64\n",
      "dtypes: float64(2), int64(3)\n",
      "memory usage: 207.0 KB\n"
     ]
    }
   ],
   "source": [
    "make_features(data, 1, 24)\n",
    "data.info()"
   ]
  },
  {
   "cell_type": "markdown",
   "metadata": {},
   "source": [
    "Разобьем данные на обучающую и тестовую выборки(90%:10%):\n",
    "\n",
    "Let's split the data into training and test samples (90%:10%):"
   ]
  },
  {
   "cell_type": "code",
   "execution_count": 11,
   "metadata": {},
   "outputs": [],
   "source": [
    "train, test = train_test_split(data,  test_size = 0.1, random_state = 12345, shuffle=False)\n",
    "train = train.dropna()\n",
    "\n",
    "train_features = train.drop(['num_orders'], axis=1)\n",
    "train_target = train['num_orders']\n",
    "\n",
    "test_features = test.drop(['num_orders'], axis=1)\n",
    "test_target = test['num_orders']"
   ]
  },
  {
   "cell_type": "markdown",
   "metadata": {},
   "source": [
    "## Обучение / Education"
   ]
  },
  {
   "cell_type": "markdown",
   "metadata": {},
   "source": [
    "LINEAR REGRESSION"
   ]
  },
  {
   "cell_type": "code",
   "execution_count": 12,
   "metadata": {},
   "outputs": [
    {
     "name": "stdout",
     "output_type": "stream",
     "text": [
      "Значение метрики RMSE на обучающей выборке для LinearRegression 30.762581006695648\n"
     ]
    }
   ],
   "source": [
    "from sklearn.model_selection import cross_val_score\n",
    "from sklearn.model_selection import TimeSeriesSplit\n",
    "model = LinearRegression()\n",
    "\n",
    "print(f'''Значение метрики RMSE на обучающей выборке для LinearRegression''', abs(cross_val_score(model,train_features, train_target, \n",
    "                         cv = TimeSeriesSplit(n_splits=20), \n",
    "                         n_jobs = -1, \n",
    "                         scoring = 'neg_root_mean_squared_error').mean()))"
   ]
  },
  {
   "cell_type": "markdown",
   "metadata": {},
   "source": [
    "CATBOOST"
   ]
  },
  {
   "cell_type": "code",
   "execution_count": 13,
   "metadata": {},
   "outputs": [],
   "source": [
    "parameters = {'depth': range(1, 5, 1),\n",
    "              'learning_rate': np.arange(0.00, 0.15, 0.05),\n",
    "              'iterations':  range(0, 10, 5)}"
   ]
  },
  {
   "cell_type": "code",
   "execution_count": 14,
   "metadata": {},
   "outputs": [
    {
     "name": "stdout",
     "output_type": "stream",
     "text": [
      "Fitting 10 folds for each of 24 candidates, totalling 240 fits\n",
      "0:\tlearn: 36.9907725\ttotal: 56.8ms\tremaining: 227ms\n",
      "1:\tlearn: 35.6392357\ttotal: 62.4ms\tremaining: 93.6ms\n",
      "2:\tlearn: 34.5527061\ttotal: 63ms\tremaining: 42ms\n",
      "3:\tlearn: 33.3609582\ttotal: 63.5ms\tremaining: 15.9ms\n",
      "4:\tlearn: 32.5367075\ttotal: 64.1ms\tremaining: 0us\n"
     ]
    },
    {
     "data": {
      "text/plain": [
       "34.504844330188156"
      ]
     },
     "execution_count": 14,
     "metadata": {},
     "output_type": "execute_result"
    }
   ],
   "source": [
    "tscv = TimeSeriesSplit(n_splits=10)\n",
    "gsearch = GridSearchCV(CatBoostRegressor(), param_grid = parameters, scoring='neg_root_mean_squared_error', n_jobs=-1, cv=tscv, verbose=1)\n",
    "gsearch.fit(train_features, train_target)\n",
    "abs(gsearch.best_score_)"
   ]
  },
  {
   "cell_type": "markdown",
   "metadata": {},
   "source": [
    "СЛУЧАЙНЫЙ ЛЕС / RANDOM FOREST"
   ]
  },
  {
   "cell_type": "code",
   "execution_count": 15,
   "metadata": {},
   "outputs": [],
   "source": [
    "from sklearn.ensemble import RandomForestRegressor\n",
    "parameters = { 'n_estimators': range (1, 20, 1),\n",
    "              'max_depth': range (1, 20, 1)}"
   ]
  },
  {
   "cell_type": "code",
   "execution_count": 16,
   "metadata": {},
   "outputs": [
    {
     "name": "stdout",
     "output_type": "stream",
     "text": [
      "Fitting 8 folds for each of 361 candidates, totalling 2888 fits\n"
     ]
    },
    {
     "data": {
      "text/plain": [
       "24.984896989549544"
      ]
     },
     "execution_count": 16,
     "metadata": {},
     "output_type": "execute_result"
    }
   ],
   "source": [
    "tscv = TimeSeriesSplit(n_splits=8)\n",
    "gsearch_tree = GridSearchCV(RandomForestRegressor(), param_grid = parameters, scoring='neg_root_mean_squared_error', n_jobs=-1, cv=tscv, verbose=1)\n",
    "gsearch_tree.fit(train_features, train_target)\n",
    "abs(gsearch_tree.best_score_)"
   ]
  },
  {
   "cell_type": "markdown",
   "metadata": {},
   "source": [
    "RMSE LINEAR REGRESSION = 30.762581006695648\n",
    "\n",
    "RMSE CATBOOST = 34.504844330188156\n",
    "\n",
    "RMSE RANDOM FOREST = 24.984896989549544\n",
    "\n",
    "Best model - RANDOM FOREST"
   ]
  },
  {
   "cell_type": "markdown",
   "metadata": {},
   "source": [
    "## Тестирование / Testing"
   ]
  },
  {
   "cell_type": "code",
   "execution_count": 17,
   "metadata": {},
   "outputs": [
    {
     "name": "stdout",
     "output_type": "stream",
     "text": [
      "46.19802822970237\n"
     ]
    }
   ],
   "source": [
    "pred_test = gsearch_tree.predict(test_features)\n",
    "print(mean_squared_error(pred_test, test_target)**0.5)"
   ]
  },
  {
   "cell_type": "code",
   "execution_count": 18,
   "metadata": {},
   "outputs": [
    {
     "data": {
      "image/png": "[encoded data removed]",
      "text/plain": [
       "<Figure size 1600x700 with 1 Axes>"
      ]
     },
     "metadata": {},
     "output_type": "display_data"
    }
   ],
   "source": [
    "actual_ = test_target[0:48]\n",
    "pferict_data = pd.DataFrame(pred_test[0:48], index = actual_.index)\n",
    "plt.figure(figsize=(16, 7))\n",
    "plt.plot(actual_, 'ro', color = 'steelblue', linestyle = '-', label = 'fact')\n",
    "plt.plot(pferict_data, 'ro', color = 'r', linestyle = '--', label = 'pred')\n",
    "plt.legend()\n",
    "plt.xlabel('date and time')\n",
    "plt.ylabel('number of orders')\n",
    "plt.grid(True)\n",
    "plt.show()"
   ]
  }
 ],
 "metadata": {
  "ExecuteTimeLog": [
   {
    "duration": 531,
    "start_time": "2023-03-15T07:21:22.303Z"
   },
   {
    "duration": 84,
    "start_time": "2023-03-15T07:21:23.881Z"
   },
   {
    "duration": 188,
    "start_time": "2023-03-15T07:21:34.529Z"
   },
   {
    "duration": 3,
    "start_time": "2023-03-15T07:21:51.007Z"
   },
   {
    "duration": 53,
    "start_time": "2023-03-15T07:21:51.719Z"
   },
   {
    "duration": 12,
    "start_time": "2023-03-15T07:22:07.371Z"
   },
   {
    "duration": 19,
    "start_time": "2023-03-15T07:22:10.050Z"
   },
   {
    "duration": 14,
    "start_time": "2023-03-15T07:22:59.280Z"
   },
   {
    "duration": 2,
    "start_time": "2023-03-15T07:24:09.014Z"
   },
   {
    "duration": 46,
    "start_time": "2023-03-15T07:24:09.906Z"
   },
   {
    "duration": 11,
    "start_time": "2023-03-15T07:24:15.339Z"
   },
   {
    "duration": 9,
    "start_time": "2023-03-15T07:24:17.356Z"
   },
   {
    "duration": 4,
    "start_time": "2023-03-15T07:24:22.842Z"
   },
   {
    "duration": 403,
    "start_time": "2023-03-15T07:52:32.214Z"
   },
   {
    "duration": 55,
    "start_time": "2023-03-15T07:52:32.620Z"
   },
   {
    "duration": 11,
    "start_time": "2023-03-15T07:52:32.677Z"
   },
   {
    "duration": 4,
    "start_time": "2023-03-15T07:52:32.690Z"
   },
   {
    "duration": 5,
    "start_time": "2023-03-15T07:52:32.696Z"
   },
   {
    "duration": 75,
    "start_time": "2023-03-15T07:52:32.703Z"
   },
   {
    "duration": 4,
    "start_time": "2023-03-15T07:59:57.149Z"
   },
   {
    "duration": 15,
    "start_time": "2023-03-15T07:59:57.966Z"
   },
   {
    "duration": 366,
    "start_time": "2023-03-15T08:01:23.162Z"
   },
   {
    "duration": 55,
    "start_time": "2023-03-15T08:01:24.713Z"
   },
   {
    "duration": 11,
    "start_time": "2023-03-15T08:01:25.649Z"
   },
   {
    "duration": 11,
    "start_time": "2023-03-15T08:01:26.498Z"
   },
   {
    "duration": 5,
    "start_time": "2023-03-15T08:02:33.666Z"
   },
   {
    "duration": 109,
    "start_time": "2023-03-15T08:02:36.114Z"
   },
   {
    "duration": 1086,
    "start_time": "2023-03-15T08:03:31.432Z"
   },
   {
    "duration": 56,
    "start_time": "2023-03-15T08:03:32.520Z"
   },
   {
    "duration": 11,
    "start_time": "2023-03-15T08:03:32.578Z"
   },
   {
    "duration": 9,
    "start_time": "2023-03-15T08:03:32.591Z"
   },
   {
    "duration": 4,
    "start_time": "2023-03-15T08:03:36.378Z"
   },
   {
    "duration": 72,
    "start_time": "2023-03-15T08:03:37.299Z"
   },
   {
    "duration": 3,
    "start_time": "2023-03-15T08:04:42.051Z"
   },
   {
    "duration": 10,
    "start_time": "2023-03-15T08:05:21.671Z"
   },
   {
    "duration": 154,
    "start_time": "2023-03-15T08:12:16.335Z"
   },
   {
    "duration": 54163,
    "start_time": "2023-03-15T08:12:31.824Z"
   },
   {
    "duration": 410,
    "start_time": "2023-03-15T08:23:54.666Z"
   },
   {
    "duration": 427,
    "start_time": "2023-03-15T08:25:04.049Z"
   },
   {
    "duration": 11,
    "start_time": "2023-03-15T08:32:41.942Z"
   },
   {
    "duration": 16267,
    "start_time": "2023-03-15T08:33:04.563Z"
   },
   {
    "duration": 122,
    "start_time": "2023-03-15T08:33:37.852Z"
   },
   {
    "duration": 1098,
    "start_time": "2023-03-15T08:35:02.519Z"
   },
   {
    "duration": 54,
    "start_time": "2023-03-15T08:35:03.619Z"
   },
   {
    "duration": 11,
    "start_time": "2023-03-15T08:35:03.674Z"
   },
   {
    "duration": 9,
    "start_time": "2023-03-15T08:35:03.686Z"
   },
   {
    "duration": 11,
    "start_time": "2023-03-15T08:35:03.697Z"
   },
   {
    "duration": 68,
    "start_time": "2023-03-15T08:35:03.710Z"
   },
   {
    "duration": 11,
    "start_time": "2023-03-15T08:35:03.780Z"
   },
   {
    "duration": 57969,
    "start_time": "2023-03-15T08:35:03.811Z"
   },
   {
    "duration": 483,
    "start_time": "2023-03-15T08:36:01.782Z"
   },
   {
    "duration": 15826,
    "start_time": "2023-03-15T08:36:02.267Z"
   },
   {
    "duration": 120,
    "start_time": "2023-03-15T08:36:18.095Z"
   },
   {
    "duration": 79,
    "start_time": "2023-03-15T08:39:16.812Z"
   },
   {
    "duration": 1125,
    "start_time": "2023-03-15T09:14:02.327Z"
   },
   {
    "duration": 57,
    "start_time": "2023-03-15T09:14:03.455Z"
   },
   {
    "duration": 14,
    "start_time": "2023-03-15T09:14:03.514Z"
   },
   {
    "duration": 10,
    "start_time": "2023-03-15T09:14:03.531Z"
   },
   {
    "duration": 5,
    "start_time": "2023-03-15T09:14:03.543Z"
   },
   {
    "duration": 84,
    "start_time": "2023-03-15T09:14:03.549Z"
   },
   {
    "duration": 259,
    "start_time": "2023-03-15T09:14:03.635Z"
   },
   {
    "duration": 0,
    "start_time": "2023-03-15T09:14:03.896Z"
   },
   {
    "duration": 0,
    "start_time": "2023-03-15T09:14:03.897Z"
   },
   {
    "duration": 0,
    "start_time": "2023-03-15T09:14:03.898Z"
   },
   {
    "duration": 0,
    "start_time": "2023-03-15T09:14:03.913Z"
   },
   {
    "duration": 1098,
    "start_time": "2023-03-15T09:23:28.857Z"
   },
   {
    "duration": 59,
    "start_time": "2023-03-15T09:23:29.957Z"
   },
   {
    "duration": 12,
    "start_time": "2023-03-15T09:23:30.018Z"
   },
   {
    "duration": 18,
    "start_time": "2023-03-15T09:23:30.033Z"
   },
   {
    "duration": 9,
    "start_time": "2023-03-15T09:23:30.053Z"
   },
   {
    "duration": 79,
    "start_time": "2023-03-15T09:23:30.064Z"
   },
   {
    "duration": 167,
    "start_time": "2023-03-15T09:23:30.145Z"
   },
   {
    "duration": 53698,
    "start_time": "2023-03-15T09:23:30.315Z"
   },
   {
    "duration": 412,
    "start_time": "2023-03-15T09:24:24.016Z"
   },
   {
    "duration": 16598,
    "start_time": "2023-03-15T09:24:24.431Z"
   },
   {
    "duration": 94,
    "start_time": "2023-03-15T09:24:41.031Z"
   },
   {
    "duration": 140,
    "start_time": "2023-03-15T09:24:54.978Z"
   },
   {
    "duration": 8,
    "start_time": "2023-03-15T09:26:35.016Z"
   },
   {
    "duration": 6,
    "start_time": "2023-03-15T09:26:36.811Z"
   },
   {
    "duration": 10,
    "start_time": "2023-03-15T09:26:38.528Z"
   },
   {
    "duration": 1151,
    "start_time": "2023-03-15T09:29:25.215Z"
   },
   {
    "duration": 59,
    "start_time": "2023-03-15T09:29:26.368Z"
   },
   {
    "duration": 14,
    "start_time": "2023-03-15T09:29:26.429Z"
   },
   {
    "duration": 12,
    "start_time": "2023-03-15T09:29:26.445Z"
   },
   {
    "duration": 7,
    "start_time": "2023-03-15T09:29:26.459Z"
   },
   {
    "duration": 75,
    "start_time": "2023-03-15T09:29:26.468Z"
   },
   {
    "duration": 70,
    "start_time": "2023-03-15T09:29:26.545Z"
   },
   {
    "duration": 55152,
    "start_time": "2023-03-15T09:29:26.617Z"
   },
   {
    "duration": 379,
    "start_time": "2023-03-15T09:30:21.771Z"
   },
   {
    "duration": 16553,
    "start_time": "2023-03-15T09:30:22.152Z"
   },
   {
    "duration": 143,
    "start_time": "2023-03-15T09:30:38.706Z"
   },
   {
    "duration": 6,
    "start_time": "2023-03-15T09:30:38.851Z"
   },
   {
    "duration": 15,
    "start_time": "2023-03-15T09:30:38.859Z"
   },
   {
    "duration": 23,
    "start_time": "2023-03-15T09:30:38.877Z"
   },
   {
    "duration": 1148,
    "start_time": "2023-03-15T09:39:50.839Z"
   },
   {
    "duration": 58,
    "start_time": "2023-03-15T09:39:51.989Z"
   },
   {
    "duration": 11,
    "start_time": "2023-03-15T09:39:52.048Z"
   },
   {
    "duration": 9,
    "start_time": "2023-03-15T09:39:52.060Z"
   },
   {
    "duration": 13,
    "start_time": "2023-03-15T09:39:52.071Z"
   },
   {
    "duration": 105,
    "start_time": "2023-03-15T09:39:52.086Z"
   },
   {
    "duration": 22,
    "start_time": "2023-03-15T09:39:52.193Z"
   },
   {
    "duration": 60907,
    "start_time": "2023-03-15T09:39:52.216Z"
   },
   {
    "duration": 450,
    "start_time": "2023-03-15T09:40:53.124Z"
   },
   {
    "duration": 16225,
    "start_time": "2023-03-15T09:40:53.576Z"
   },
   {
    "duration": 135,
    "start_time": "2023-03-15T09:41:09.803Z"
   },
   {
    "duration": 5,
    "start_time": "2023-03-15T09:41:09.940Z"
   },
   {
    "duration": 6,
    "start_time": "2023-03-15T09:41:09.947Z"
   },
   {
    "duration": 9,
    "start_time": "2023-03-15T09:41:09.955Z"
   },
   {
    "duration": 110,
    "start_time": "2023-03-15T09:41:16.847Z"
   },
   {
    "duration": 1132,
    "start_time": "2023-03-15T09:48:38.662Z"
   },
   {
    "duration": 56,
    "start_time": "2023-03-15T09:48:39.796Z"
   },
   {
    "duration": 11,
    "start_time": "2023-03-15T09:48:39.853Z"
   },
   {
    "duration": 8,
    "start_time": "2023-03-15T09:48:39.866Z"
   },
   {
    "duration": 4,
    "start_time": "2023-03-15T09:48:39.875Z"
   },
   {
    "duration": 64,
    "start_time": "2023-03-15T09:48:39.881Z"
   },
   {
    "duration": 25,
    "start_time": "2023-03-15T09:49:00.587Z"
   },
   {
    "duration": 52703,
    "start_time": "2023-03-15T09:49:11.874Z"
   },
   {
    "duration": 514,
    "start_time": "2023-03-15T09:50:30.182Z"
   },
   {
    "duration": 12425,
    "start_time": "2023-03-15T09:50:33.662Z"
   },
   {
    "duration": 73,
    "start_time": "2023-03-15T09:50:50.159Z"
   },
   {
    "duration": 386,
    "start_time": "2023-03-15T09:51:12.117Z"
   },
   {
    "duration": 78,
    "start_time": "2023-03-15T09:51:21.322Z"
   },
   {
    "duration": 7,
    "start_time": "2023-03-15T09:51:35.629Z"
   },
   {
    "duration": 5,
    "start_time": "2023-03-15T09:51:36.620Z"
   },
   {
    "duration": 7,
    "start_time": "2023-03-15T09:51:37.632Z"
   },
   {
    "duration": 1179,
    "start_time": "2023-03-15T09:52:17.919Z"
   },
   {
    "duration": 58,
    "start_time": "2023-03-15T09:52:19.100Z"
   },
   {
    "duration": 11,
    "start_time": "2023-03-15T09:52:19.162Z"
   },
   {
    "duration": 30,
    "start_time": "2023-03-15T09:52:19.175Z"
   },
   {
    "duration": 15,
    "start_time": "2023-03-15T09:52:19.207Z"
   },
   {
    "duration": 77,
    "start_time": "2023-03-15T09:52:19.224Z"
   },
   {
    "duration": 209,
    "start_time": "2023-03-15T09:52:19.302Z"
   },
   {
    "duration": 52631,
    "start_time": "2023-03-15T09:52:19.513Z"
   },
   {
    "duration": 386,
    "start_time": "2023-03-15T09:53:12.146Z"
   },
   {
    "duration": 15006,
    "start_time": "2023-03-15T09:53:12.534Z"
   },
   {
    "duration": 111,
    "start_time": "2023-03-15T09:53:27.542Z"
   },
   {
    "duration": 6,
    "start_time": "2023-03-15T09:53:27.655Z"
   },
   {
    "duration": 8,
    "start_time": "2023-03-15T09:53:27.664Z"
   },
   {
    "duration": 9,
    "start_time": "2023-03-15T09:53:27.674Z"
   },
   {
    "duration": 1232,
    "start_time": "2023-03-15T09:57:43.157Z"
   },
   {
    "duration": 1257,
    "start_time": "2023-03-15T10:01:36.063Z"
   },
   {
    "duration": 60,
    "start_time": "2023-03-15T10:01:37.322Z"
   },
   {
    "duration": 15,
    "start_time": "2023-03-15T10:01:37.384Z"
   },
   {
    "duration": 12,
    "start_time": "2023-03-15T10:01:37.401Z"
   },
   {
    "duration": 4,
    "start_time": "2023-03-15T10:01:41.770Z"
   },
   {
    "duration": 69,
    "start_time": "2023-03-15T10:01:49.188Z"
   },
   {
    "duration": 13,
    "start_time": "2023-03-15T10:01:55.826Z"
   },
   {
    "duration": 297092,
    "start_time": "2023-03-15T10:02:01.436Z"
   },
   {
    "duration": 1685530,
    "start_time": "2023-03-15T10:07:13.538Z"
   },
   {
    "duration": 494,
    "start_time": "2023-03-15T10:43:24.645Z"
   },
   {
    "duration": 193426,
    "start_time": "2023-03-15T10:43:33.119Z"
   },
   {
    "duration": 192,
    "start_time": "2023-03-15T10:51:19.183Z"
   },
   {
    "duration": 7,
    "start_time": "2023-03-15T10:51:28.235Z"
   },
   {
    "duration": 6,
    "start_time": "2023-03-15T10:51:29.449Z"
   },
   {
    "duration": 9,
    "start_time": "2023-03-15T10:51:30.873Z"
   },
   {
    "duration": 1273,
    "start_time": "2023-03-16T09:02:14.538Z"
   },
   {
    "duration": 107,
    "start_time": "2023-03-16T09:02:17.709Z"
   },
   {
    "duration": 11,
    "start_time": "2023-03-16T09:02:19.826Z"
   },
   {
    "duration": 11,
    "start_time": "2023-03-16T09:02:23.248Z"
   },
   {
    "duration": 5,
    "start_time": "2023-03-16T09:02:27.908Z"
   },
   {
    "duration": 56,
    "start_time": "2023-03-16T09:02:35.205Z"
   },
   {
    "duration": 16,
    "start_time": "2023-03-16T09:02:41.393Z"
   },
   {
    "duration": 7,
    "start_time": "2023-03-16T09:02:47.077Z"
   },
   {
    "duration": 1861667,
    "start_time": "2023-03-16T09:03:08.985Z"
   },
   {
    "duration": 674,
    "start_time": "2023-03-16T09:47:03.331Z"
   },
   {
    "duration": 6,
    "start_time": "2023-03-16T09:47:08.981Z"
   },
   {
    "duration": 1239,
    "start_time": "2023-03-16T11:13:25.367Z"
   },
   {
    "duration": 60,
    "start_time": "2023-03-16T11:13:26.609Z"
   },
   {
    "duration": 12,
    "start_time": "2023-03-16T11:13:26.671Z"
   },
   {
    "duration": 17,
    "start_time": "2023-03-16T11:13:26.685Z"
   },
   {
    "duration": 4,
    "start_time": "2023-03-16T11:13:31.263Z"
   },
   {
    "duration": 69,
    "start_time": "2023-03-16T11:13:35.305Z"
   },
   {
    "duration": 36,
    "start_time": "2023-03-16T11:13:38.649Z"
   },
   {
    "duration": 113,
    "start_time": "2023-03-16T11:13:51.097Z"
   },
   {
    "duration": 105,
    "start_time": "2023-03-16T11:13:54.472Z"
   },
   {
    "duration": 328,
    "start_time": "2023-03-16T11:13:59.749Z"
   },
   {
    "duration": 155,
    "start_time": "2023-03-16T11:14:01.526Z"
   },
   {
    "duration": 8,
    "start_time": "2023-03-16T11:14:08.330Z"
   },
   {
    "duration": 5,
    "start_time": "2023-03-16T11:14:54.755Z"
   },
   {
    "duration": 406,
    "start_time": "2023-03-16T11:14:56.085Z"
   },
   {
    "duration": 34,
    "start_time": "2023-03-16T11:14:58.848Z"
   },
   {
    "duration": 9,
    "start_time": "2023-03-16T11:15:05.285Z"
   },
   {
    "duration": 489,
    "start_time": "2023-03-16T11:15:14.631Z"
   },
   {
    "duration": 171,
    "start_time": "2023-03-16T11:15:16.205Z"
   },
   {
    "duration": 17,
    "start_time": "2023-03-16T11:15:20.706Z"
   },
   {
    "duration": 323,
    "start_time": "2023-03-16T11:15:29.185Z"
   },
   {
    "duration": 249,
    "start_time": "2023-03-16T11:15:30.432Z"
   },
   {
    "duration": 225,
    "start_time": "2023-03-16T11:15:36.094Z"
   },
   {
    "duration": 130,
    "start_time": "2023-03-16T11:15:37.653Z"
   },
   {
    "duration": 14,
    "start_time": "2023-03-16T11:15:43.446Z"
   },
   {
    "duration": 114488,
    "start_time": "2023-03-16T11:15:51.257Z"
   },
   {
    "duration": 161,
    "start_time": "2023-03-16T11:17:53.132Z"
   },
   {
    "duration": 153,
    "start_time": "2023-03-16T11:17:56.229Z"
   },
   {
    "duration": 1237,
    "start_time": "2023-03-16T11:18:08.906Z"
   },
   {
    "duration": 61,
    "start_time": "2023-03-16T11:18:10.145Z"
   },
   {
    "duration": 12,
    "start_time": "2023-03-16T11:18:10.208Z"
   },
   {
    "duration": 15,
    "start_time": "2023-03-16T11:18:10.222Z"
   },
   {
    "duration": 6,
    "start_time": "2023-03-16T11:18:10.240Z"
   },
   {
    "duration": 193,
    "start_time": "2023-03-16T11:18:10.248Z"
   },
   {
    "duration": 237,
    "start_time": "2023-03-16T11:18:10.443Z"
   },
   {
    "duration": 1191,
    "start_time": "2023-03-16T11:18:27.022Z"
   },
   {
    "duration": 60,
    "start_time": "2023-03-16T11:18:28.215Z"
   },
   {
    "duration": 11,
    "start_time": "2023-03-16T11:18:28.278Z"
   },
   {
    "duration": 15,
    "start_time": "2023-03-16T11:18:28.292Z"
   },
   {
    "duration": 16,
    "start_time": "2023-03-16T11:18:28.311Z"
   },
   {
    "duration": 614,
    "start_time": "2023-03-16T11:18:28.329Z"
   },
   {
    "duration": 238,
    "start_time": "2023-03-16T11:18:28.946Z"
   },
   {
    "duration": 4,
    "start_time": "2023-03-16T11:18:38.593Z"
   },
   {
    "duration": 65,
    "start_time": "2023-03-16T11:18:38.600Z"
   },
   {
    "duration": 9,
    "start_time": "2023-03-16T11:18:38.667Z"
   },
   {
    "duration": 17,
    "start_time": "2023-03-16T11:18:38.678Z"
   },
   {
    "duration": 15,
    "start_time": "2023-03-16T11:18:38.697Z"
   },
   {
    "duration": 419,
    "start_time": "2023-03-16T11:18:38.713Z"
   },
   {
    "duration": 146,
    "start_time": "2023-03-16T11:18:39.134Z"
   },
   {
    "duration": 1251,
    "start_time": "2023-03-16T11:18:54.943Z"
   },
   {
    "duration": 61,
    "start_time": "2023-03-16T11:18:56.197Z"
   },
   {
    "duration": 12,
    "start_time": "2023-03-16T11:18:56.260Z"
   },
   {
    "duration": 21,
    "start_time": "2023-03-16T11:18:56.274Z"
   },
   {
    "duration": 30,
    "start_time": "2023-03-16T11:18:56.298Z"
   },
   {
    "duration": 716,
    "start_time": "2023-03-16T11:18:56.330Z"
   },
   {
    "duration": 136,
    "start_time": "2023-03-16T11:18:57.048Z"
   },
   {
    "duration": 7,
    "start_time": "2023-03-16T11:19:04.241Z"
   },
   {
    "duration": 1179,
    "start_time": "2023-03-16T12:43:15.820Z"
   },
   {
    "duration": 61,
    "start_time": "2023-03-16T12:43:17.002Z"
   },
   {
    "duration": 12,
    "start_time": "2023-03-16T12:43:17.065Z"
   },
   {
    "duration": 19,
    "start_time": "2023-03-16T12:43:17.080Z"
   },
   {
    "duration": 8,
    "start_time": "2023-03-16T12:43:17.100Z"
   },
   {
    "duration": 750,
    "start_time": "2023-03-16T12:43:17.110Z"
   },
   {
    "duration": 122,
    "start_time": "2023-03-16T12:43:17.862Z"
   },
   {
    "duration": 802468,
    "start_time": "2023-03-16T12:43:17.986Z"
   },
   {
    "duration": 0,
    "start_time": "2023-03-16T12:56:40.456Z"
   },
   {
    "duration": 0,
    "start_time": "2023-03-16T12:56:40.459Z"
   },
   {
    "duration": 0,
    "start_time": "2023-03-16T12:56:40.460Z"
   },
   {
    "duration": 0,
    "start_time": "2023-03-16T12:56:40.462Z"
   },
   {
    "duration": 0,
    "start_time": "2023-03-16T12:56:40.463Z"
   },
   {
    "duration": 0,
    "start_time": "2023-03-16T12:56:40.464Z"
   },
   {
    "duration": 0,
    "start_time": "2023-03-16T12:56:40.467Z"
   },
   {
    "duration": 18665,
    "start_time": "2023-03-16T12:56:45.752Z"
   },
   {
    "duration": 0,
    "start_time": "2023-03-16T12:57:04.419Z"
   },
   {
    "duration": 1228,
    "start_time": "2023-03-16T12:57:07.184Z"
   },
   {
    "duration": 949,
    "start_time": "2023-03-16T12:57:15.513Z"
   },
   {
    "duration": 8,
    "start_time": "2023-03-16T12:57:20.801Z"
   },
   {
    "duration": 8,
    "start_time": "2023-03-16T12:57:21.803Z"
   },
   {
    "duration": 10,
    "start_time": "2023-03-16T12:57:22.637Z"
   },
   {
    "duration": 1303,
    "start_time": "2023-03-16T12:57:59.175Z"
   },
   {
    "duration": 61,
    "start_time": "2023-03-16T12:58:00.479Z"
   },
   {
    "duration": 17,
    "start_time": "2023-03-16T12:58:00.542Z"
   },
   {
    "duration": 37,
    "start_time": "2023-03-16T12:58:00.561Z"
   },
   {
    "duration": 63,
    "start_time": "2023-03-16T12:58:00.601Z"
   },
   {
    "duration": 764,
    "start_time": "2023-03-16T12:58:00.666Z"
   },
   {
    "duration": 248,
    "start_time": "2023-03-16T12:58:01.432Z"
   },
   {
    "duration": 1338,
    "start_time": "2023-03-16T13:43:12.551Z"
   },
   {
    "duration": 62,
    "start_time": "2023-03-16T13:43:13.891Z"
   },
   {
    "duration": 11,
    "start_time": "2023-03-16T13:43:13.954Z"
   },
   {
    "duration": 14,
    "start_time": "2023-03-16T13:43:13.969Z"
   },
   {
    "duration": 18,
    "start_time": "2023-03-16T13:43:13.985Z"
   },
   {
    "duration": 798,
    "start_time": "2023-03-16T13:43:14.005Z"
   },
   {
    "duration": 85,
    "start_time": "2023-03-16T13:43:14.805Z"
   },
   {
    "duration": 17,
    "start_time": "2023-03-16T13:43:25.376Z"
   },
   {
    "duration": 90514,
    "start_time": "2023-03-16T13:44:10.220Z"
   },
   {
    "duration": 1279,
    "start_time": "2023-03-17T15:16:51.266Z"
   },
   {
    "duration": 121,
    "start_time": "2023-03-17T15:16:52.547Z"
   },
   {
    "duration": 11,
    "start_time": "2023-03-17T15:16:52.670Z"
   },
   {
    "duration": 13,
    "start_time": "2023-03-17T15:16:52.685Z"
   },
   {
    "duration": 6,
    "start_time": "2023-03-17T15:16:52.700Z"
   },
   {
    "duration": 762,
    "start_time": "2023-03-17T15:16:52.708Z"
   },
   {
    "duration": 164,
    "start_time": "2023-03-17T15:16:58.225Z"
   },
   {
    "duration": 9,
    "start_time": "2023-03-17T15:17:02.896Z"
   },
   {
    "duration": 89585,
    "start_time": "2023-03-17T15:17:06.857Z"
   },
   {
    "duration": 734,
    "start_time": "2023-03-17T15:21:01.897Z"
   },
   {
    "duration": 833122,
    "start_time": "2023-03-17T15:21:11.824Z"
   },
   {
    "duration": 899,
    "start_time": "2023-03-17T16:27:58.530Z"
   },
   {
    "duration": 8,
    "start_time": "2023-03-17T16:28:04.733Z"
   },
   {
    "duration": 9,
    "start_time": "2023-03-17T16:28:06.143Z"
   },
   {
    "duration": 9,
    "start_time": "2023-03-17T16:30:26.527Z"
   },
   {
    "duration": 6,
    "start_time": "2023-03-17T16:30:30.504Z"
   },
   {
    "duration": 26,
    "start_time": "2023-03-17T16:30:32.455Z"
   },
   {
    "duration": 47,
    "start_time": "2023-03-18T13:43:24.978Z"
   },
   {
    "duration": 1242,
    "start_time": "2023-03-18T13:43:30.493Z"
   },
   {
    "duration": 106,
    "start_time": "2023-03-18T13:43:33.013Z"
   },
   {
    "duration": 14,
    "start_time": "2023-03-18T13:43:37.143Z"
   },
   {
    "duration": 10,
    "start_time": "2023-03-18T13:43:40.782Z"
   },
   {
    "duration": 5,
    "start_time": "2023-03-18T13:43:43.993Z"
   },
   {
    "duration": 716,
    "start_time": "2023-03-18T13:43:45.322Z"
   },
   {
    "duration": 1215,
    "start_time": "2023-03-18T13:49:13.249Z"
   },
   {
    "duration": 82,
    "start_time": "2023-03-18T13:49:14.466Z"
   },
   {
    "duration": 10,
    "start_time": "2023-03-18T13:49:14.550Z"
   },
   {
    "duration": 33,
    "start_time": "2023-03-18T13:49:14.562Z"
   },
   {
    "duration": 14,
    "start_time": "2023-03-18T13:49:14.597Z"
   },
   {
    "duration": 720,
    "start_time": "2023-03-18T13:49:14.613Z"
   },
   {
    "duration": 20,
    "start_time": "2023-03-18T13:49:15.335Z"
   },
   {
    "duration": 128,
    "start_time": "2023-03-18T13:49:15.357Z"
   },
   {
    "duration": 10,
    "start_time": "2023-03-18T13:49:54.560Z"
   },
   {
    "duration": 19,
    "start_time": "2023-03-18T13:50:09.527Z"
   },
   {
    "duration": 204,
    "start_time": "2023-03-18T13:50:12.691Z"
   },
   {
    "duration": 33272,
    "start_time": "2023-03-18T13:50:33.744Z"
   },
   {
    "duration": 831,
    "start_time": "2023-03-18T13:52:10.694Z"
   },
   {
    "duration": 146508,
    "start_time": "2023-03-18T13:52:16.259Z"
   },
   {
    "duration": 3155,
    "start_time": "2023-03-18T13:54:55.829Z"
   },
   {
    "duration": 112,
    "start_time": "2023-03-18T13:55:08.692Z"
   },
   {
    "duration": 15,
    "start_time": "2023-03-18T13:55:25.060Z"
   },
   {
    "duration": 1292,
    "start_time": "2023-03-18T14:03:06.069Z"
   },
   {
    "duration": 75,
    "start_time": "2023-03-18T14:03:07.363Z"
   },
   {
    "duration": 12,
    "start_time": "2023-03-18T14:03:07.439Z"
   },
   {
    "duration": 8,
    "start_time": "2023-03-18T14:03:07.452Z"
   },
   {
    "duration": 18,
    "start_time": "2023-03-18T14:03:07.462Z"
   },
   {
    "duration": 740,
    "start_time": "2023-03-18T14:03:07.481Z"
   },
   {
    "duration": 20,
    "start_time": "2023-03-18T14:03:08.223Z"
   },
   {
    "duration": 25,
    "start_time": "2023-03-18T14:03:08.245Z"
   },
   {
    "duration": 322,
    "start_time": "2023-03-18T14:03:08.272Z"
   },
   {
    "duration": 36041,
    "start_time": "2023-03-18T14:03:08.597Z"
   },
   {
    "duration": 589,
    "start_time": "2023-03-18T14:03:44.640Z"
   },
   {
    "duration": 3452,
    "start_time": "2023-03-18T14:03:45.230Z"
   },
   {
    "duration": 127,
    "start_time": "2023-03-18T14:03:48.684Z"
   },
   {
    "duration": 12,
    "start_time": "2023-03-18T14:03:48.814Z"
   },
   {
    "duration": 3059,
    "start_time": "2023-03-19T06:42:37.164Z"
   },
   {
    "duration": 89,
    "start_time": "2023-03-19T06:42:40.226Z"
   },
   {
    "duration": 13,
    "start_time": "2023-03-19T06:43:07.882Z"
   },
   {
    "duration": 23,
    "start_time": "2023-03-19T06:43:09.270Z"
   },
   {
    "duration": 6,
    "start_time": "2023-03-19T06:43:25.191Z"
   },
   {
    "duration": 1167,
    "start_time": "2023-03-19T06:43:58.938Z"
   },
   {
    "duration": 27,
    "start_time": "2023-03-19T06:44:54.574Z"
   },
   {
    "duration": 28,
    "start_time": "2023-03-19T06:45:20.366Z"
   },
   {
    "duration": 246,
    "start_time": "2023-03-19T06:45:57.556Z"
   },
   {
    "duration": 18553,
    "start_time": "2023-03-19T06:47:00.355Z"
   },
   {
    "duration": 1293,
    "start_time": "2023-03-19T06:48:24.164Z"
   },
   {
    "duration": 7,
    "start_time": "2023-03-19T06:57:00.665Z"
   },
   {
    "duration": 1181,
    "start_time": "2023-03-19T09:37:24.373Z"
   },
   {
    "duration": 167,
    "start_time": "2023-03-19T09:37:26.694Z"
   },
   {
    "duration": 4,
    "start_time": "2023-03-19T09:37:31.264Z"
   },
   {
    "duration": 6,
    "start_time": "2023-03-19T09:38:02.802Z"
   },
   {
    "duration": 12,
    "start_time": "2023-03-19T09:39:32.578Z"
   },
   {
    "duration": 14,
    "start_time": "2023-03-19T09:39:38.191Z"
   },
   {
    "duration": 30,
    "start_time": "2023-03-19T09:41:05.414Z"
   },
   {
    "duration": 209,
    "start_time": "2023-03-19T09:46:29.581Z"
   },
   {
    "duration": 536,
    "start_time": "2023-03-19T09:46:46.226Z"
   },
   {
    "duration": 5,
    "start_time": "2023-03-19T09:55:07.254Z"
   },
   {
    "duration": 24,
    "start_time": "2023-03-19T09:56:34.075Z"
   },
   {
    "duration": 16,
    "start_time": "2023-03-19T09:56:45.492Z"
   },
   {
    "duration": 9,
    "start_time": "2023-03-19T10:07:17.862Z"
   },
   {
    "duration": 23,
    "start_time": "2023-03-19T10:08:33.571Z"
   },
   {
    "duration": 12,
    "start_time": "2023-03-19T10:09:00.194Z"
   },
   {
    "duration": 79,
    "start_time": "2023-03-19T10:09:40.615Z"
   },
   {
    "duration": 45,
    "start_time": "2023-03-19T10:14:02.698Z"
   },
   {
    "duration": 69,
    "start_time": "2023-03-19T10:14:50.146Z"
   },
   {
    "duration": 96,
    "start_time": "2023-03-19T10:14:55.754Z"
   },
   {
    "duration": 145,
    "start_time": "2023-03-19T10:15:02.130Z"
   },
   {
    "duration": 100,
    "start_time": "2023-03-19T10:15:06.846Z"
   },
   {
    "duration": 53,
    "start_time": "2023-03-19T10:15:12.063Z"
   },
   {
    "duration": 98,
    "start_time": "2023-03-19T10:15:15.535Z"
   },
   {
    "duration": 4,
    "start_time": "2023-03-19T10:23:17.219Z"
   },
   {
    "duration": 46,
    "start_time": "2023-03-19T10:23:18.226Z"
   },
   {
    "duration": 10,
    "start_time": "2023-03-19T10:23:24.530Z"
   },
   {
    "duration": 29901,
    "start_time": "2023-03-19T10:25:54.867Z"
   },
   {
    "duration": 29982,
    "start_time": "2023-03-19T10:26:37.890Z"
   },
   {
    "duration": 3,
    "start_time": "2023-03-19T10:32:03.840Z"
   },
   {
    "duration": 3,
    "start_time": "2023-03-19T10:34:07.292Z"
   },
   {
    "duration": 31,
    "start_time": "2023-03-19T10:34:12.731Z"
   },
   {
    "duration": 4,
    "start_time": "2023-03-19T10:34:32.031Z"
   },
   {
    "duration": 11398,
    "start_time": "2023-03-19T10:34:32.734Z"
   },
   {
    "duration": 7,
    "start_time": "2023-03-19T10:35:17.678Z"
   },
   {
    "duration": 1189,
    "start_time": "2023-03-19T10:35:36.427Z"
   },
   {
    "duration": 58,
    "start_time": "2023-03-19T10:35:37.619Z"
   },
   {
    "duration": 8,
    "start_time": "2023-03-19T10:35:37.679Z"
   },
   {
    "duration": 17,
    "start_time": "2023-03-19T10:35:37.689Z"
   },
   {
    "duration": 10,
    "start_time": "2023-03-19T10:35:37.709Z"
   },
   {
    "duration": 95,
    "start_time": "2023-03-19T10:35:37.720Z"
   },
   {
    "duration": 5,
    "start_time": "2023-03-19T10:35:37.816Z"
   },
   {
    "duration": 18,
    "start_time": "2023-03-19T10:35:37.823Z"
   },
   {
    "duration": 10,
    "start_time": "2023-03-19T10:35:37.843Z"
   },
   {
    "duration": 121,
    "start_time": "2023-03-19T10:35:37.855Z"
   },
   {
    "duration": 11,
    "start_time": "2023-03-19T10:35:37.978Z"
   },
   {
    "duration": 29968,
    "start_time": "2023-03-19T10:35:37.991Z"
   },
   {
    "duration": 13,
    "start_time": "2023-03-19T10:36:07.961Z"
   },
   {
    "duration": 10899,
    "start_time": "2023-03-19T10:36:07.978Z"
   },
   {
    "duration": 13,
    "start_time": "2023-03-19T10:36:18.879Z"
   },
   {
    "duration": 330,
    "start_time": "2023-03-19T10:41:28.691Z"
   },
   {
    "duration": 127,
    "start_time": "2023-03-19T10:41:35.312Z"
   },
   {
    "duration": 365,
    "start_time": "2023-03-19T10:41:43.807Z"
   },
   {
    "duration": 9,
    "start_time": "2023-03-19T10:42:07.893Z"
   },
   {
    "duration": 116,
    "start_time": "2023-03-19T10:42:17.257Z"
   },
   {
    "duration": 126,
    "start_time": "2023-03-19T10:42:33.114Z"
   },
   {
    "duration": 149,
    "start_time": "2023-03-19T10:46:48.869Z"
   },
   {
    "duration": 20,
    "start_time": "2023-03-19T10:57:22.235Z"
   },
   {
    "duration": 169,
    "start_time": "2023-03-19T10:57:48.291Z"
   },
   {
    "duration": 152,
    "start_time": "2023-03-19T10:57:57.051Z"
   },
   {
    "duration": 14,
    "start_time": "2023-03-19T11:02:25.644Z"
   },
   {
    "duration": 45,
    "start_time": "2023-03-19T11:02:58.163Z"
   },
   {
    "duration": 66,
    "start_time": "2023-03-19T11:03:01.817Z"
   },
   {
    "duration": 195,
    "start_time": "2023-03-19T11:03:12.361Z"
   },
   {
    "duration": 181,
    "start_time": "2023-03-19T11:03:44.835Z"
   },
   {
    "duration": 195,
    "start_time": "2023-03-19T11:06:44.634Z"
   },
   {
    "duration": 131,
    "start_time": "2023-03-19T11:06:49.407Z"
   },
   {
    "duration": 47,
    "start_time": "2023-03-19T11:07:57.867Z"
   },
   {
    "duration": 44,
    "start_time": "2023-03-19T11:08:32.435Z"
   },
   {
    "duration": 46,
    "start_time": "2023-03-19T11:08:36.973Z"
   },
   {
    "duration": 151,
    "start_time": "2023-03-19T11:09:33.762Z"
   },
   {
    "duration": 205,
    "start_time": "2023-03-19T11:09:50.799Z"
   },
   {
    "duration": 132,
    "start_time": "2023-03-19T11:10:11.831Z"
   },
   {
    "duration": 902,
    "start_time": "2023-03-19T11:10:44.342Z"
   },
   {
    "duration": 189,
    "start_time": "2023-03-19T11:10:55.275Z"
   },
   {
    "duration": 13,
    "start_time": "2023-03-19T11:11:20.686Z"
   },
   {
    "duration": 5,
    "start_time": "2023-03-19T11:11:26.135Z"
   },
   {
    "duration": 14,
    "start_time": "2023-03-19T11:12:51.702Z"
   },
   {
    "duration": 16,
    "start_time": "2023-03-19T11:14:12.862Z"
   },
   {
    "duration": 5,
    "start_time": "2023-03-19T11:14:39.269Z"
   },
   {
    "duration": 5,
    "start_time": "2023-03-19T11:14:51.897Z"
   },
   {
    "duration": 4,
    "start_time": "2023-03-19T11:15:05.633Z"
   },
   {
    "duration": 7,
    "start_time": "2023-03-19T11:17:17.572Z"
   },
   {
    "duration": 4,
    "start_time": "2023-03-19T11:17:33.913Z"
   },
   {
    "duration": 5,
    "start_time": "2023-03-19T11:17:54.501Z"
   },
   {
    "duration": 11,
    "start_time": "2023-03-19T11:18:55.423Z"
   },
   {
    "duration": 14,
    "start_time": "2023-03-19T11:19:09.286Z"
   },
   {
    "duration": 10,
    "start_time": "2023-03-19T11:19:37.378Z"
   },
   {
    "duration": 3,
    "start_time": "2023-03-19T11:20:26.793Z"
   },
   {
    "duration": 59,
    "start_time": "2023-03-19T11:20:26.799Z"
   },
   {
    "duration": 8,
    "start_time": "2023-03-19T11:20:26.860Z"
   },
   {
    "duration": 20,
    "start_time": "2023-03-19T11:20:26.870Z"
   },
   {
    "duration": 8,
    "start_time": "2023-03-19T11:20:26.892Z"
   },
   {
    "duration": 8,
    "start_time": "2023-03-19T11:20:26.902Z"
   },
   {
    "duration": 7,
    "start_time": "2023-03-19T11:20:26.911Z"
   },
   {
    "duration": 21,
    "start_time": "2023-03-19T11:20:26.920Z"
   },
   {
    "duration": 12,
    "start_time": "2023-03-19T11:20:26.942Z"
   },
   {
    "duration": 150,
    "start_time": "2023-03-19T11:20:26.957Z"
   },
   {
    "duration": 4,
    "start_time": "2023-03-19T11:20:27.139Z"
   },
   {
    "duration": 29922,
    "start_time": "2023-03-19T11:20:27.145Z"
   },
   {
    "duration": 4,
    "start_time": "2023-03-19T11:20:57.069Z"
   },
   {
    "duration": 11638,
    "start_time": "2023-03-19T11:20:57.075Z"
   },
   {
    "duration": 12,
    "start_time": "2023-03-19T11:21:08.716Z"
   },
   {
    "duration": 5,
    "start_time": "2023-03-19T11:22:00.243Z"
   },
   {
    "duration": 3,
    "start_time": "2023-03-19T11:22:27.934Z"
   },
   {
    "duration": 9,
    "start_time": "2023-03-19T11:22:48.263Z"
   },
   {
    "duration": 9,
    "start_time": "2023-03-19T11:24:19.413Z"
   },
   {
    "duration": 11,
    "start_time": "2023-03-19T11:24:29.153Z"
   },
   {
    "duration": 16,
    "start_time": "2023-03-19T11:24:39.076Z"
   },
   {
    "duration": 6,
    "start_time": "2023-03-19T11:24:51.696Z"
   },
   {
    "duration": 7,
    "start_time": "2023-03-19T11:25:04.818Z"
   },
   {
    "duration": 8,
    "start_time": "2023-03-19T11:26:19.102Z"
   },
   {
    "duration": 19,
    "start_time": "2023-03-19T11:27:40.962Z"
   },
   {
    "duration": 10,
    "start_time": "2023-03-19T11:29:26.147Z"
   },
   {
    "duration": 853,
    "start_time": "2023-03-19T11:30:32.336Z"
   },
   {
    "duration": 906,
    "start_time": "2023-03-19T11:30:55.303Z"
   },
   {
    "duration": 896,
    "start_time": "2023-03-19T11:31:05.451Z"
   },
   {
    "duration": 1224,
    "start_time": "2023-03-20T12:32:24.768Z"
   },
   {
    "duration": 187,
    "start_time": "2023-03-20T12:32:25.994Z"
   },
   {
    "duration": 7,
    "start_time": "2023-03-20T12:32:26.183Z"
   },
   {
    "duration": 11,
    "start_time": "2023-03-20T12:32:26.192Z"
   },
   {
    "duration": 9,
    "start_time": "2023-03-20T12:32:26.206Z"
   },
   {
    "duration": 98,
    "start_time": "2023-03-20T12:32:26.217Z"
   },
   {
    "duration": 6,
    "start_time": "2023-03-20T12:32:26.317Z"
   },
   {
    "duration": 36,
    "start_time": "2023-03-20T12:32:26.325Z"
   },
   {
    "duration": 10,
    "start_time": "2023-03-20T12:32:26.363Z"
   },
   {
    "duration": 117,
    "start_time": "2023-03-20T12:32:26.375Z"
   },
   {
    "duration": 10,
    "start_time": "2023-03-20T12:32:26.494Z"
   },
   {
    "duration": 31957,
    "start_time": "2023-03-20T12:32:26.505Z"
   },
   {
    "duration": 3,
    "start_time": "2023-03-20T12:32:58.463Z"
   },
   {
    "duration": 10983,
    "start_time": "2023-03-20T12:32:58.469Z"
   },
   {
    "duration": 7,
    "start_time": "2023-03-20T12:33:09.454Z"
   },
   {
    "duration": 374,
    "start_time": "2023-03-20T12:33:09.463Z"
   },
   {
    "duration": 48,
    "start_time": "2023-03-20T12:33:09.839Z"
   },
   {
    "duration": 0,
    "start_time": "2023-03-20T12:33:09.889Z"
   },
   {
    "duration": 1130,
    "start_time": "2023-03-20T12:47:49.135Z"
   },
   {
    "duration": 59,
    "start_time": "2023-03-20T12:47:50.267Z"
   },
   {
    "duration": 6,
    "start_time": "2023-03-20T12:47:50.328Z"
   },
   {
    "duration": 39,
    "start_time": "2023-03-20T12:47:50.336Z"
   },
   {
    "duration": 78,
    "start_time": "2023-03-20T12:47:50.377Z"
   },
   {
    "duration": 115,
    "start_time": "2023-03-20T12:47:50.457Z"
   },
   {
    "duration": 4,
    "start_time": "2023-03-20T12:47:50.574Z"
   },
   {
    "duration": 32,
    "start_time": "2023-03-20T12:47:50.580Z"
   },
   {
    "duration": 9,
    "start_time": "2023-03-20T12:47:50.614Z"
   },
   {
    "duration": 111,
    "start_time": "2023-03-20T12:47:50.625Z"
   },
   {
    "duration": 3,
    "start_time": "2023-03-20T12:47:50.737Z"
   },
   {
    "duration": 38643,
    "start_time": "2023-03-20T12:47:50.742Z"
   },
   {
    "duration": 3,
    "start_time": "2023-03-20T12:48:29.387Z"
   },
   {
    "duration": 10803,
    "start_time": "2023-03-20T12:48:29.393Z"
   },
   {
    "duration": 12,
    "start_time": "2023-03-20T12:48:40.197Z"
   },
   {
    "duration": 1118,
    "start_time": "2023-03-20T12:57:19.929Z"
   },
   {
    "duration": 66,
    "start_time": "2023-03-20T12:57:21.049Z"
   },
   {
    "duration": 8,
    "start_time": "2023-03-20T12:57:21.117Z"
   },
   {
    "duration": 16,
    "start_time": "2023-03-20T12:57:21.127Z"
   },
   {
    "duration": 8,
    "start_time": "2023-03-20T12:57:21.146Z"
   },
   {
    "duration": 96,
    "start_time": "2023-03-20T12:57:21.155Z"
   },
   {
    "duration": 3,
    "start_time": "2023-03-20T12:57:21.253Z"
   },
   {
    "duration": 19,
    "start_time": "2023-03-20T12:57:21.258Z"
   },
   {
    "duration": 24,
    "start_time": "2023-03-20T12:57:21.279Z"
   },
   {
    "duration": 100,
    "start_time": "2023-03-20T12:57:21.305Z"
   },
   {
    "duration": 3,
    "start_time": "2023-03-20T12:57:21.407Z"
   },
   {
    "duration": 39772,
    "start_time": "2023-03-20T12:57:21.411Z"
   },
   {
    "duration": 4,
    "start_time": "2023-03-20T12:58:01.185Z"
   },
   {
    "duration": 11060,
    "start_time": "2023-03-20T12:58:01.192Z"
   },
   {
    "duration": 7,
    "start_time": "2023-03-20T12:58:12.254Z"
   },
   {
    "duration": 1117,
    "start_time": "2023-03-20T12:58:28.425Z"
   },
   {
    "duration": 58,
    "start_time": "2023-03-20T12:58:29.544Z"
   },
   {
    "duration": 7,
    "start_time": "2023-03-20T12:58:29.604Z"
   },
   {
    "duration": 16,
    "start_time": "2023-03-20T12:58:29.612Z"
   },
   {
    "duration": 8,
    "start_time": "2023-03-20T12:58:29.630Z"
   },
   {
    "duration": 95,
    "start_time": "2023-03-20T12:58:29.640Z"
   },
   {
    "duration": 4,
    "start_time": "2023-03-20T12:58:29.737Z"
   },
   {
    "duration": 17,
    "start_time": "2023-03-20T12:58:29.742Z"
   },
   {
    "duration": 9,
    "start_time": "2023-03-20T12:58:29.761Z"
   },
   {
    "duration": 116,
    "start_time": "2023-03-20T12:58:29.771Z"
   },
   {
    "duration": 3,
    "start_time": "2023-03-20T12:58:29.889Z"
   },
   {
    "duration": 39489,
    "start_time": "2023-03-20T12:58:29.903Z"
   },
   {
    "duration": 3,
    "start_time": "2023-03-20T12:59:09.394Z"
   },
   {
    "duration": 10785,
    "start_time": "2023-03-20T12:59:09.399Z"
   },
   {
    "duration": 8,
    "start_time": "2023-03-20T12:59:20.185Z"
   },
   {
    "duration": 3,
    "start_time": "2023-03-20T13:04:32.681Z"
   },
   {
    "duration": 38079,
    "start_time": "2023-03-20T13:04:33.848Z"
   },
   {
    "duration": 8,
    "start_time": "2023-03-20T13:05:39.543Z"
   },
   {
    "duration": 1155,
    "start_time": "2023-03-20T13:05:57.516Z"
   },
   {
    "duration": 59,
    "start_time": "2023-03-20T13:05:58.673Z"
   },
   {
    "duration": 7,
    "start_time": "2023-03-20T13:05:58.734Z"
   },
   {
    "duration": 15,
    "start_time": "2023-03-20T13:05:58.742Z"
   },
   {
    "duration": 8,
    "start_time": "2023-03-20T13:05:58.759Z"
   },
   {
    "duration": 93,
    "start_time": "2023-03-20T13:05:58.768Z"
   },
   {
    "duration": 4,
    "start_time": "2023-03-20T13:05:58.863Z"
   },
   {
    "duration": 18,
    "start_time": "2023-03-20T13:05:58.868Z"
   },
   {
    "duration": 25,
    "start_time": "2023-03-20T13:05:58.888Z"
   },
   {
    "duration": 109,
    "start_time": "2023-03-20T13:05:58.914Z"
   },
   {
    "duration": 4,
    "start_time": "2023-03-20T13:05:59.024Z"
   },
   {
    "duration": 40635,
    "start_time": "2023-03-20T13:05:59.029Z"
   },
   {
    "duration": 3,
    "start_time": "2023-03-20T13:06:39.666Z"
   },
   {
    "duration": 37976,
    "start_time": "2023-03-20T13:06:39.672Z"
   },
   {
    "duration": 9,
    "start_time": "2023-03-20T13:07:17.649Z"
   },
   {
    "duration": 1189,
    "start_time": "2023-03-20T13:07:50.199Z"
   },
   {
    "duration": 57,
    "start_time": "2023-03-20T13:07:51.390Z"
   },
   {
    "duration": 6,
    "start_time": "2023-03-20T13:07:51.449Z"
   },
   {
    "duration": 10,
    "start_time": "2023-03-20T13:07:51.457Z"
   },
   {
    "duration": 8,
    "start_time": "2023-03-20T13:07:51.469Z"
   },
   {
    "duration": 96,
    "start_time": "2023-03-20T13:07:51.479Z"
   },
   {
    "duration": 4,
    "start_time": "2023-03-20T13:07:51.576Z"
   },
   {
    "duration": 25,
    "start_time": "2023-03-20T13:07:51.581Z"
   },
   {
    "duration": 9,
    "start_time": "2023-03-20T13:07:51.608Z"
   },
   {
    "duration": 116,
    "start_time": "2023-03-20T13:07:51.619Z"
   },
   {
    "duration": 3,
    "start_time": "2023-03-20T13:07:51.736Z"
   },
   {
    "duration": 38575,
    "start_time": "2023-03-20T13:07:51.740Z"
   },
   {
    "duration": 4,
    "start_time": "2023-03-20T13:08:30.317Z"
   },
   {
    "duration": 38432,
    "start_time": "2023-03-20T13:08:30.324Z"
   },
   {
    "duration": 9,
    "start_time": "2023-03-20T13:09:08.759Z"
   },
   {
    "duration": 1227,
    "start_time": "2023-03-20T13:09:34.995Z"
   },
   {
    "duration": 60,
    "start_time": "2023-03-20T13:09:36.224Z"
   },
   {
    "duration": 32,
    "start_time": "2023-03-20T13:09:36.286Z"
   },
   {
    "duration": 10,
    "start_time": "2023-03-20T13:09:36.320Z"
   },
   {
    "duration": 12,
    "start_time": "2023-03-20T13:09:36.333Z"
   },
   {
    "duration": 98,
    "start_time": "2023-03-20T13:09:36.347Z"
   },
   {
    "duration": 4,
    "start_time": "2023-03-20T13:09:36.447Z"
   },
   {
    "duration": 25,
    "start_time": "2023-03-20T13:09:36.453Z"
   },
   {
    "duration": 10,
    "start_time": "2023-03-20T13:09:36.480Z"
   },
   {
    "duration": 111,
    "start_time": "2023-03-20T13:09:36.491Z"
   },
   {
    "duration": 3,
    "start_time": "2023-03-20T13:09:36.604Z"
   },
   {
    "duration": 40778,
    "start_time": "2023-03-20T13:09:36.609Z"
   },
   {
    "duration": 3,
    "start_time": "2023-03-20T13:10:17.388Z"
   },
   {
    "duration": 38610,
    "start_time": "2023-03-20T13:10:17.395Z"
   },
   {
    "duration": 8,
    "start_time": "2023-03-20T13:10:56.006Z"
   },
   {
    "duration": 1154,
    "start_time": "2023-03-20T13:11:19.212Z"
   },
   {
    "duration": 62,
    "start_time": "2023-03-20T13:11:20.367Z"
   },
   {
    "duration": 6,
    "start_time": "2023-03-20T13:11:20.432Z"
   },
   {
    "duration": 12,
    "start_time": "2023-03-20T13:11:20.440Z"
   },
   {
    "duration": 9,
    "start_time": "2023-03-20T13:11:20.454Z"
   },
   {
    "duration": 50,
    "start_time": "2023-03-20T13:11:20.465Z"
   },
   {
    "duration": 4,
    "start_time": "2023-03-20T13:11:20.517Z"
   },
   {
    "duration": 80,
    "start_time": "2023-03-20T13:11:20.523Z"
   },
   {
    "duration": 10,
    "start_time": "2023-03-20T13:11:20.604Z"
   },
   {
    "duration": 111,
    "start_time": "2023-03-20T13:11:20.616Z"
   },
   {
    "duration": 4,
    "start_time": "2023-03-20T13:11:20.728Z"
   },
   {
    "duration": 41221,
    "start_time": "2023-03-20T13:11:20.733Z"
   },
   {
    "duration": 4,
    "start_time": "2023-03-20T13:12:01.958Z"
   },
   {
    "duration": 39563,
    "start_time": "2023-03-20T13:12:01.966Z"
   },
   {
    "duration": 10,
    "start_time": "2023-03-20T13:12:41.531Z"
   },
   {
    "duration": 5,
    "start_time": "2023-03-20T13:13:21.511Z"
   },
   {
    "duration": 110972,
    "start_time": "2023-03-20T13:13:22.278Z"
   },
   {
    "duration": 8,
    "start_time": "2023-03-20T13:15:22.346Z"
   },
   {
    "duration": 1127,
    "start_time": "2023-03-20T13:15:28.554Z"
   },
   {
    "duration": 59,
    "start_time": "2023-03-20T13:15:29.683Z"
   },
   {
    "duration": 6,
    "start_time": "2023-03-20T13:15:29.744Z"
   },
   {
    "duration": 10,
    "start_time": "2023-03-20T13:15:29.751Z"
   },
   {
    "duration": 8,
    "start_time": "2023-03-20T13:15:29.763Z"
   },
   {
    "duration": 96,
    "start_time": "2023-03-20T13:15:29.772Z"
   },
   {
    "duration": 4,
    "start_time": "2023-03-20T13:15:29.870Z"
   },
   {
    "duration": 27,
    "start_time": "2023-03-20T13:15:29.876Z"
   },
   {
    "duration": 11,
    "start_time": "2023-03-20T13:15:29.904Z"
   },
   {
    "duration": 118,
    "start_time": "2023-03-20T13:15:29.916Z"
   },
   {
    "duration": 3,
    "start_time": "2023-03-20T13:15:30.036Z"
   },
   {
    "duration": 40868,
    "start_time": "2023-03-20T13:15:30.041Z"
   },
   {
    "duration": 3,
    "start_time": "2023-03-20T13:16:10.911Z"
   },
   {
    "duration": 109054,
    "start_time": "2023-03-20T13:16:10.916Z"
   },
   {
    "duration": 10,
    "start_time": "2023-03-20T13:17:59.971Z"
   },
   {
    "duration": 1192,
    "start_time": "2023-03-20T13:21:17.708Z"
   },
   {
    "duration": 59,
    "start_time": "2023-03-20T13:21:18.902Z"
   },
   {
    "duration": 6,
    "start_time": "2023-03-20T13:21:18.963Z"
   },
   {
    "duration": 10,
    "start_time": "2023-03-20T13:21:18.971Z"
   },
   {
    "duration": 9,
    "start_time": "2023-03-20T13:21:18.983Z"
   },
   {
    "duration": 87,
    "start_time": "2023-03-20T13:21:18.994Z"
   },
   {
    "duration": 4,
    "start_time": "2023-03-20T13:21:19.083Z"
   },
   {
    "duration": 27,
    "start_time": "2023-03-20T13:21:19.088Z"
   },
   {
    "duration": 10,
    "start_time": "2023-03-20T13:21:19.117Z"
   },
   {
    "duration": 110,
    "start_time": "2023-03-20T13:21:19.129Z"
   },
   {
    "duration": 3,
    "start_time": "2023-03-20T13:21:19.240Z"
   },
   {
    "duration": 39542,
    "start_time": "2023-03-20T13:21:19.245Z"
   },
   {
    "duration": 3,
    "start_time": "2023-03-20T13:21:58.788Z"
   },
   {
    "duration": 111094,
    "start_time": "2023-03-20T13:21:58.793Z"
   },
   {
    "duration": 14,
    "start_time": "2023-03-20T13:23:49.889Z"
   },
   {
    "duration": 2009,
    "start_time": "2023-03-20T13:59:23.981Z"
   },
   {
    "duration": 51,
    "start_time": "2023-03-20T13:59:25.992Z"
   },
   {
    "duration": 5,
    "start_time": "2023-03-20T13:59:26.044Z"
   },
   {
    "duration": 10,
    "start_time": "2023-03-20T13:59:26.050Z"
   },
   {
    "duration": 8,
    "start_time": "2023-03-20T13:59:26.623Z"
   },
   {
    "duration": 65,
    "start_time": "2023-03-20T13:59:28.383Z"
   },
   {
    "duration": 1179,
    "start_time": "2023-03-20T14:36:46.216Z"
   },
   {
    "duration": 59,
    "start_time": "2023-03-20T14:36:47.397Z"
   },
   {
    "duration": 6,
    "start_time": "2023-03-20T14:36:47.458Z"
   },
   {
    "duration": 33,
    "start_time": "2023-03-20T14:36:47.465Z"
   },
   {
    "duration": 28,
    "start_time": "2023-03-20T14:36:47.500Z"
   },
   {
    "duration": 27,
    "start_time": "2023-03-20T14:36:50.907Z"
   },
   {
    "duration": 1239,
    "start_time": "2023-03-20T14:36:53.011Z"
   },
   {
    "duration": 120,
    "start_time": "2023-03-20T14:38:14.426Z"
   },
   {
    "duration": 778,
    "start_time": "2023-03-20T14:38:28.550Z"
   },
   {
    "duration": 117,
    "start_time": "2023-03-20T14:41:03.675Z"
   },
   {
    "duration": 744,
    "start_time": "2023-03-20T14:41:38.475Z"
   },
   {
    "duration": 871,
    "start_time": "2023-03-20T14:41:56.267Z"
   },
   {
    "duration": 249,
    "start_time": "2023-03-20T14:42:45.728Z"
   },
   {
    "duration": 898,
    "start_time": "2023-03-20T14:44:50.077Z"
   },
   {
    "duration": 1196,
    "start_time": "2023-03-20T14:45:15.791Z"
   },
   {
    "duration": 76,
    "start_time": "2023-03-20T14:45:16.989Z"
   },
   {
    "duration": 8,
    "start_time": "2023-03-20T14:45:17.066Z"
   },
   {
    "duration": 17,
    "start_time": "2023-03-20T14:45:17.076Z"
   },
   {
    "duration": 10,
    "start_time": "2023-03-20T14:45:17.096Z"
   },
   {
    "duration": 98,
    "start_time": "2023-03-20T14:45:17.108Z"
   },
   {
    "duration": 1152,
    "start_time": "2023-03-20T14:45:17.207Z"
   },
   {
    "duration": 261,
    "start_time": "2023-03-20T14:45:18.361Z"
   },
   {
    "duration": 4,
    "start_time": "2023-03-20T14:45:18.624Z"
   },
   {
    "duration": 24,
    "start_time": "2023-03-20T14:45:18.629Z"
   },
   {
    "duration": 11,
    "start_time": "2023-03-20T14:45:18.655Z"
   },
   {
    "duration": 123,
    "start_time": "2023-03-20T14:45:18.668Z"
   },
   {
    "duration": 3,
    "start_time": "2023-03-20T14:45:18.793Z"
   },
   {
    "duration": 39042,
    "start_time": "2023-03-20T14:45:18.804Z"
   },
   {
    "duration": 2,
    "start_time": "2023-03-20T14:45:57.848Z"
   },
   {
    "duration": 111384,
    "start_time": "2023-03-20T14:45:57.852Z"
   },
   {
    "duration": 9,
    "start_time": "2023-03-20T14:47:49.238Z"
   },
   {
    "duration": 288,
    "start_time": "2023-03-20T14:57:28.324Z"
   },
   {
    "duration": 286,
    "start_time": "2023-03-20T14:58:47.895Z"
   },
   {
    "duration": 281,
    "start_time": "2023-03-20T14:59:01.242Z"
   },
   {
    "duration": 213,
    "start_time": "2023-03-20T14:59:17.594Z"
   },
   {
    "duration": 15,
    "start_time": "2023-03-20T15:05:01.293Z"
   },
   {
    "duration": 253,
    "start_time": "2023-03-20T15:10:27.669Z"
   },
   {
    "duration": 219,
    "start_time": "2023-03-20T15:12:28.963Z"
   },
   {
    "duration": 208,
    "start_time": "2023-03-20T15:13:08.329Z"
   },
   {
    "duration": 247,
    "start_time": "2023-03-20T15:13:46.449Z"
   },
   {
    "duration": 152,
    "start_time": "2023-03-20T15:14:39.301Z"
   },
   {
    "duration": 9,
    "start_time": "2023-03-20T15:14:56.598Z"
   },
   {
    "duration": 5,
    "start_time": "2023-03-20T15:15:00.631Z"
   },
   {
    "duration": 14,
    "start_time": "2023-03-20T15:15:13.566Z"
   },
   {
    "duration": 12,
    "start_time": "2023-03-20T15:17:53.402Z"
   },
   {
    "duration": 129,
    "start_time": "2023-03-20T15:18:33.328Z"
   },
   {
    "duration": 136,
    "start_time": "2023-03-20T15:19:55.351Z"
   },
   {
    "duration": 157,
    "start_time": "2023-03-20T15:20:23.175Z"
   },
   {
    "duration": 1199,
    "start_time": "2023-03-20T15:20:36.408Z"
   },
   {
    "duration": 61,
    "start_time": "2023-03-20T15:20:37.609Z"
   },
   {
    "duration": 7,
    "start_time": "2023-03-20T15:20:37.671Z"
   },
   {
    "duration": 19,
    "start_time": "2023-03-20T15:20:37.679Z"
   },
   {
    "duration": 9,
    "start_time": "2023-03-20T15:20:37.701Z"
   },
   {
    "duration": 95,
    "start_time": "2023-03-20T15:20:37.712Z"
   },
   {
    "duration": 1146,
    "start_time": "2023-03-20T15:20:37.809Z"
   },
   {
    "duration": 267,
    "start_time": "2023-03-20T15:20:38.957Z"
   },
   {
    "duration": 4,
    "start_time": "2023-03-20T15:20:39.226Z"
   },
   {
    "duration": 27,
    "start_time": "2023-03-20T15:20:39.231Z"
   },
   {
    "duration": 11,
    "start_time": "2023-03-20T15:20:39.259Z"
   },
   {
    "duration": 106,
    "start_time": "2023-03-20T15:20:39.272Z"
   },
   {
    "duration": 3,
    "start_time": "2023-03-20T15:20:39.380Z"
   },
   {
    "duration": 38574,
    "start_time": "2023-03-20T15:20:39.385Z"
   },
   {
    "duration": 3,
    "start_time": "2023-03-20T15:21:17.961Z"
   },
   {
    "duration": 114180,
    "start_time": "2023-03-20T15:21:17.965Z"
   },
   {
    "duration": 9,
    "start_time": "2023-03-20T15:23:12.147Z"
   },
   {
    "duration": 316,
    "start_time": "2023-03-20T15:23:12.158Z"
   },
   {
    "duration": 273,
    "start_time": "2023-03-20T15:28:42.238Z"
   },
   {
    "duration": 229,
    "start_time": "2023-03-20T15:29:40.819Z"
   },
   {
    "duration": 4,
    "start_time": "2023-03-20T15:41:23.507Z"
   },
   {
    "duration": 75,
    "start_time": "2023-03-20T15:41:23.512Z"
   },
   {
    "duration": 7,
    "start_time": "2023-03-20T15:41:23.589Z"
   },
   {
    "duration": 12,
    "start_time": "2023-03-20T15:41:23.597Z"
   },
   {
    "duration": 7,
    "start_time": "2023-03-20T15:41:23.611Z"
   },
   {
    "duration": 9,
    "start_time": "2023-03-20T15:41:23.620Z"
   },
   {
    "duration": 1046,
    "start_time": "2023-03-20T15:41:23.631Z"
   },
   {
    "duration": 273,
    "start_time": "2023-03-20T15:41:24.679Z"
   },
   {
    "duration": 5,
    "start_time": "2023-03-20T15:41:24.953Z"
   },
   {
    "duration": 16,
    "start_time": "2023-03-20T15:41:24.960Z"
   },
   {
    "duration": 29,
    "start_time": "2023-03-20T15:41:24.978Z"
   },
   {
    "duration": 110,
    "start_time": "2023-03-20T15:41:25.009Z"
   },
   {
    "duration": 3,
    "start_time": "2023-03-20T15:41:25.121Z"
   },
   {
    "duration": 38686,
    "start_time": "2023-03-20T15:41:25.126Z"
   },
   {
    "duration": 3,
    "start_time": "2023-03-20T15:42:03.814Z"
   },
   {
    "duration": 113966,
    "start_time": "2023-03-20T15:42:03.819Z"
   },
   {
    "duration": 18,
    "start_time": "2023-03-20T15:43:57.787Z"
   },
   {
    "duration": 249,
    "start_time": "2023-03-20T15:43:57.808Z"
   },
   {
    "duration": 344,
    "start_time": "2023-03-20T15:44:53.925Z"
   },
   {
    "duration": 264,
    "start_time": "2023-03-20T15:45:05.524Z"
   },
   {
    "duration": 1254,
    "start_time": "2023-03-20T15:46:20.728Z"
   },
   {
    "duration": 72,
    "start_time": "2023-03-20T15:46:21.985Z"
   },
   {
    "duration": 12,
    "start_time": "2023-03-20T15:46:22.059Z"
   },
   {
    "duration": 11,
    "start_time": "2023-03-20T15:46:22.073Z"
   },
   {
    "duration": 18,
    "start_time": "2023-03-20T15:46:22.086Z"
   },
   {
    "duration": 86,
    "start_time": "2023-03-20T15:46:22.106Z"
   },
   {
    "duration": 1176,
    "start_time": "2023-03-20T15:46:22.203Z"
   },
   {
    "duration": 264,
    "start_time": "2023-03-20T15:46:23.381Z"
   },
   {
    "duration": 4,
    "start_time": "2023-03-20T15:46:23.648Z"
   },
   {
    "duration": 20,
    "start_time": "2023-03-20T15:46:23.656Z"
   },
   {
    "duration": 28,
    "start_time": "2023-03-20T15:46:23.678Z"
   },
   {
    "duration": 110,
    "start_time": "2023-03-20T15:46:23.708Z"
   },
   {
    "duration": 4,
    "start_time": "2023-03-20T15:46:23.819Z"
   },
   {
    "duration": 39629,
    "start_time": "2023-03-20T15:46:23.824Z"
   },
   {
    "duration": 3,
    "start_time": "2023-03-20T15:47:03.455Z"
   },
   {
    "duration": 114699,
    "start_time": "2023-03-20T15:47:03.460Z"
   },
   {
    "duration": 12,
    "start_time": "2023-03-20T15:48:58.162Z"
   },
   {
    "duration": 396,
    "start_time": "2023-03-20T15:48:58.177Z"
   }
  ],
  "kernelspec": {
   "display_name": "Python 3 (ipykernel)",
   "language": "python",
   "name": "python3"
  },
  "language_info": {
   "codemirror_mode": {
    "name": "ipython",
    "version": 3
   },
   "file_extension": ".py",
   "mimetype": "text/x-python",
   "name": "python",
   "nbconvert_exporter": "python",
   "pygments_lexer": "ipython3",
   "version": "3.9.13"
  },
  "toc": {
   "base_numbering": 1,
   "nav_menu": {},
   "number_sections": true,
   "sideBar": true,
   "skip_h1_title": true,
   "title_cell": "Содержание",
   "title_sidebar": "Contents",
   "toc_cell": true,
   "toc_position": {
    "height": "calc(100% - 180px)",
    "left": "10px",
    "top": "150px",
    "width": "165px"
   },
   "toc_section_display": true,
   "toc_window_display": true
  }
 },
 "nbformat": 4,
 "nbformat_minor": 2
}
